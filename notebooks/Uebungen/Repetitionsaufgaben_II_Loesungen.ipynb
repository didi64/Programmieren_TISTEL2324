{
 "cells": [
  {
   "cell_type": "markdown",
   "id": "a3f23804-8ded-4370-9e5a-71b626f4b4f7",
   "metadata": {},
   "source": [
    "### Klammerung &uuml;berpr&uuml;fen\n",
    "Wir wollen testen, ob ein Ausdrucks der Form `exp = '(2 * ((3-5) /2))'` korrekt geklammert ist (\n",
    "jede Klammer wird geschlossen, keine &uuml;berz&auml;hligen schliessenden Klammern).  \n",
    "\n",
    "Dabei gehen wir so vor:  \n",
    "1. Entferne aus `exp` alle Zeichen bis auf `(` und `)`.  \n",
    "   `'(2 * ((3-5) /2))' --> '((()))'`\n",
    "2. Entferne sukzessive alle Paare `'()'` aus dem resultierenden String.  \n",
    "   Bleibt nur der leere String `''` &uuml;brig, ist der Ausdruck korrekt geklammert.  \n",
    "   \n",
    "   \n",
    "**Aufgaben**:  \n",
    "1. Benutze List-Comprehesion und `str.join` um aus 'exp` den String `exp0` zu formen, der nur noch Klammern enth&auml;lt.  \n",
    "2. Benutze Methode `str.find`, um im String `exp0` die Position des ersten Auftretens des Teilstings `'()'` zu finden\n",
    "   (diese Methode gibt -1 zur&uuml;ck, falls der Teilstring nicht gefunden wird).  \n",
    "   Falls `'()'` in `exp0` auftritt, so erstelle mit Slicenotation einen neuen String `exp0`, der dieses Klammerpaar nicht mehr enth&auml;lt.\n",
    "3. Benutze eine While-Schleife, um diese Operation solange zu wiederholen, bis  `exp0` kein Klammerpaar mehr enth&auml;t.  \n",
    "```python\n",
    "exp0 = '(((()))'\n",
    "while True:\n",
    "    finde erstes Auftreten von '()' in exp0\n",
    "    nicht gefunden: brich aus While-Schleife aus\n",
    "    entferne Klammerpaar aus exp0\n",
    "```  \n",
    "4. Schreibe eine Funktion `is_balanced(exp)`, die `True` zur&uuml;ck gibt, falls `exp` korrekt geklammert ist, und `False` sonst.  \n",
    "   Teste die Funktion."
   ]
  },
  {
   "cell_type": "code",
   "execution_count": null,
   "id": "5eea442c-8dfa-47c7-ae4b-f56c367c259b",
   "metadata": {},
   "outputs": [],
   "source": [
    "exp = '(1 + -((3/5) /2))'\n",
    "exp"
   ]
  },
  {
   "cell_type": "code",
   "execution_count": null,
   "id": "64848f00-0029-450d-a6ba-eaf5b71add67",
   "metadata": {},
   "outputs": [],
   "source": [
    "exp0 = ''.join([b for b in exp if b in '()'])\n",
    "exp0"
   ]
  },
  {
   "cell_type": "code",
   "execution_count": null,
   "id": "1bacb5bd-cb14-4679-b414-96363820335f",
   "metadata": {},
   "outputs": [],
   "source": [
    "idx = exp0.find('()')\n",
    "if idx >= 0:\n",
    "    exp0 = exp0[:idx] + exp0[idx+2:]\n",
    "exp0    "
   ]
  },
  {
   "cell_type": "code",
   "execution_count": null,
   "id": "58144a46-d0fb-4c6f-8d3d-8d4d58544b6b",
   "metadata": {},
   "outputs": [],
   "source": [
    "exp0 = '(((()))'\n",
    "while True:\n",
    "    idx = exp0.find('()')\n",
    "    if idx == -1:\n",
    "        break\n",
    "    exp0 = exp0[:idx] + exp0[idx+2:]   \n",
    "    \n",
    "exp0    "
   ]
  },
  {
   "cell_type": "code",
   "execution_count": null,
   "id": "6c8daf2c-93b5-4af6-850b-65903844c006",
   "metadata": {},
   "outputs": [],
   "source": [
    "def is_balanced(exp):\n",
    "    exp0 = ''.join([b for b in exp if b in '()'])\n",
    "    \n",
    "    while True:\n",
    "        idx = exp0.find('()')\n",
    "        if idx == -1:\n",
    "            break\n",
    "        exp0 = exp0[:idx] + exp0[idx+2:]   \n",
    "    \n",
    "    return exp0 == ''    "
   ]
  },
  {
   "cell_type": "code",
   "execution_count": null,
   "id": "f19081d0-bda2-4a10-92f8-9d0c3273a576",
   "metadata": {},
   "outputs": [],
   "source": [
    "exps = ['(1 + -((3/5) /2))', '1 + -((3/5) /2))', '(1 + -(3/5) /2))']\n",
    "for exp in exps:\n",
    "    ok = is_balanced(exp)\n",
    "    print('Ist \"{}\" korrekt geklammert? {}'.format(exp, ok))"
   ]
  },
  {
   "cell_type": "markdown",
   "id": "059d11e2-1116-49eb-b740-dc5887167bad",
   "metadata": {
    "tags": []
   },
   "source": [
    "### Sortieren von W&ouml;rtern mit Umlauten  \n",
    "Wir haben eine Liste mit deutschen W&ouml;rtern, mache mit Umlauten. Der erste Buchstabe ist gross oder klein, alle andern sind klein. \n",
    "\n",
    "\n",
    "```python\n",
    "umlauts = 'ÄÖÜäöü'\n",
    "\n",
    "worte = ['a', 'Busse', 'Aster', 'aber', 'Äsen', 'Büsse', 'älter',\n",
    "         'Älter', 'A', 'ä', 'alter', 'Alter', 'Ä', 'Acker',\n",
    "        ]\n",
    "```\n",
    "\n",
    "Die Funktion `sorted(worte)` liefert diese Liste:  \n",
    "`['A', 'Acker', 'Alter', 'Aster', 'Busse', 'Büsse', 'a', 'aber', 'alter', 'Ä', 'Älter', 'Äsen', 'ä', 'älter']`.\n",
    "\n",
    "\n",
    "\n",
    "Wir m&ouml;chten solche W&ouml;rter jedoch wie folgt sortieren :\n",
    "- alle Buchstaben werden wie Kleinbuchstaben und alle Umlaute wie der zugeh&ouml;rige Vokal behandelt.  \n",
    "- bei Gleichstand gilt `'A'` vor `'Ä'` vor `'a'` vor `'ä'`  \n",
    "\n",
    "Beispiele:\n",
    "- `'aber'` vor  `'Acker'` vor `'Äsen'` vor `'Aster'`  \n",
    "- `'Alter'` vor `'Älter'` vor `'alter'` vor `'älter'`  \n",
    "- `'Busse'` vor `'Büsse'`  \n",
    "\n",
    "\n",
    "\n",
    "**Vorbemerkung**: Mit den Werten `True` und `False` kann man rechnen (plus, mal,...). Beim Rechnen wird\n",
    "`True` wie `1` und `False` wie `0` behandelt (`True + False` ist `1`, `True + True` ist `2`).  \n",
    "\n",
    "**Hilfsfunktionen**: Wir benutzen die Funktion `translate(word)`, welche die Umlaute in `word` durch die zugeh&ouml;rigen Vokale ersetzt.\n",
    "\n",
    "```python\n",
    "\n",
    "\n",
    "def translate(word):\n",
    "    tt = {'Ä': 'A', 'Ö': 'O', 'Ü': 'U', 'ä': 'a', 'ö': 'o', 'ü': 'u'}\n",
    "    wort =  ''.join(tt.get(b, b) for b in word)\n",
    "    return wort\n",
    "```\n",
    "\n",
    "**Aufgaben**:\n",
    "\n",
    "\n",
    "1. Ordnen jedem Buchstaben ein Gewicht zu:  \n",
    "   - grosse Umlaute haben Gewicht 1, die anderen Grossbuchstaben haben Gewicht 0\n",
    "   - kleine Umlaute haben Gewicht 3, die anderen Kleinbuchstaben haben Gewicht 2\n",
    "\n",
    "> Benutze den Ausdruck `(b in umlauts) + 2 * b.islower()` um einem Buchstaben `b` sein Gewicht zuzuordnen.  \n",
    "Iteriere mit einer For-Schleife &uuml;ber das Wort `'AÄaä'` und &uuml;berpr&uuml;fe, dass\n",
    "dieser Ausdruck das gew&uuml;nschte Gewicht liefert.  \n",
    "  Erwarteter Output:\n",
    "\n",
    "```\n",
    "Das Gewicht von \"A\" ist 0\n",
    "Das Gewicht von \"Ä\" ist 1\n",
    "Das Gewicht von \"a\" ist 2\n",
    "Das Gewicht von \"ä\" ist 3\n",
    "\n",
    "```  \n",
    "\n",
    "2. Erstelle mit List-Comprehension eine Liste mit den Gewichten  des Wortes `'AÄaä'` (`[0, 1, 2, 3]`).  \n",
    "   Erstelle mit List-Comprehension eine Liste mit den Gewichten **als Strings** (`['0', '1', '2', '3']`) und forme daraus den String\n",
    "   '0123'.  \n",
    "   Schreibe eine Funktion `weights(word)`, die einen String mit den Gewichten der Buchstaben vom `word` zur&uuml;ck gibt.\n",
    "\n",
    "\n",
    "3.  Schreibe eine Funktion `sortkey(word)`, die f&uuml;r ein Wort `word` das Tuple  \n",
    "    `(<Das Wort translation(word) in Kleinbuchstaben>, weights(word))`  \n",
    "    zur&uuml;ck gibt.  \n",
    "    Teste die Funktion `sortkey`.  \n",
    "    Sortiere die Liste `worte` mit `sorted(key=sortkey)`.  \n",
    "    Ersetzte nun `sortkey` mit einen Lambda-Ausdruck."
   ]
  },
  {
   "cell_type": "code",
   "execution_count": null,
   "id": "d7e0db89-9593-4911-991c-fc8a02cc066a",
   "metadata": {},
   "outputs": [],
   "source": [
    "# Variablen initializieren\n",
    "umlauts = 'ÄÖÜäöü'\n",
    "\n",
    "worte = ['a', 'Busse', 'Aster', 'aber', 'Äsen', 'Büsse', 'älter',\n",
    "         'Älter', 'A', 'ä', 'alter', 'Alter', 'Ä', 'Acker',\n",
    "        ]\n",
    "\n",
    "def translate(word):\n",
    "    tt = {'Ä': 'A', 'Ö': 'O', 'Ü': 'U', 'ä': 'a', 'ö': 'o', 'ü': 'u'}\n",
    "    wort =  ''.join(tt.get(b, b) for b in word)\n",
    "    return wort"
   ]
  },
  {
   "cell_type": "code",
   "execution_count": null,
   "id": "b80098db-17c7-49ae-ba2c-a4e32c7a0a0a",
   "metadata": {},
   "outputs": [],
   "source": [
    "sorted(worte)"
   ]
  },
  {
   "cell_type": "code",
   "execution_count": null,
   "id": "5fc0add1-d526-4759-9bc3-f4c13de84233",
   "metadata": {},
   "outputs": [],
   "source": [
    "# Rechnen mit den Booleans True und False\n",
    "# b.islower() ist True oder False, je nachdem, ob b ein Klein- oder Grossbuchstabe ist\n",
    "# b in tt ist True oder False, je nachdem, ob b ein Schluessel von tt ist\n",
    "\n",
    "b='a'\n",
    "g = (b in umlauts) + 2 * b.islower()\n",
    "g"
   ]
  },
  {
   "cell_type": "code",
   "execution_count": null,
   "id": "a6a0238a-3a10-49db-830b-bcfe436f140e",
   "metadata": {},
   "outputs": [],
   "source": [
    "# 1) Gewicht der Buchstaben in wort ausgeben \n",
    "wort = 'AÄaä'\n",
    "for b in wort:\n",
    "    g = (b in umlauts) + 2 * b.islower()\n",
    "    print('Das Gewicht von \"{}\" ist {}'.format(b, g))"
   ]
  },
  {
   "cell_type": "code",
   "execution_count": null,
   "id": "fb5510ef-6fa7-4e78-b54b-83916c8ff79f",
   "metadata": {},
   "outputs": [],
   "source": [
    "# 2.1) Gewichte als Liste von Integern mit Listcomprehension\n",
    "word = 'AÄaä'\n",
    "[(b in umlauts) + 2*b.islower() for b in word]"
   ]
  },
  {
   "cell_type": "code",
   "execution_count": null,
   "id": "baacc0aa-eadd-4103-80c7-89af9d3467c0",
   "metadata": {},
   "outputs": [],
   "source": [
    "# 2.1) Gewichte als Liste von Strings mit Listcomprehension\n",
    "[str((b in umlauts) + 2*b.islower()) for b in word]"
   ]
  },
  {
   "cell_type": "code",
   "execution_count": null,
   "id": "e32c612b-322a-421b-963d-ef36ee630bb6",
   "metadata": {},
   "outputs": [],
   "source": [
    "# 2.2) Gewichte als  String\n",
    "''.join([str((b in umlauts) + 2*b.islower()) for b in word])"
   ]
  },
  {
   "cell_type": "code",
   "execution_count": null,
   "id": "f5956ba1-8d0b-488a-a5cb-49708ae8d173",
   "metadata": {},
   "outputs": [],
   "source": [
    "def weights(word):\n",
    "    '''gibt String zurueck mit den Gewichten de Buchstaben von wort'''\n",
    "    ws = ''.join(str((b in umlauts) + 2*b.islower()) for b in word)\n",
    "    return ws"
   ]
  },
  {
   "cell_type": "code",
   "execution_count": null,
   "id": "e4906ae6-5315-41cf-a715-3a34107678b4",
   "metadata": {},
   "outputs": [],
   "source": [
    "weights(wort)"
   ]
  },
  {
   "cell_type": "code",
   "execution_count": null,
   "id": "ef5fa330-b1f9-408c-b6d2-da8ea669cc29",
   "metadata": {},
   "outputs": [],
   "source": [
    "def sortkey(word):\n",
    "    return (translate(word).lower(), weights(word))"
   ]
  },
  {
   "cell_type": "code",
   "execution_count": null,
   "id": "3385cc36-bb5e-4f75-8752-cae57776963b",
   "metadata": {},
   "outputs": [],
   "source": [
    "sortkey(wort)"
   ]
  },
  {
   "cell_type": "code",
   "execution_count": null,
   "id": "5124024b-8d63-4bef-956d-254e50df3918",
   "metadata": {},
   "outputs": [],
   "source": [
    "worte = ['a', 'Busse', 'Aster', 'aber', 'Äsen', 'Büsse', 'älter',\n",
    "         'Älter', 'A', 'ä', 'alter', 'Alter', 'Ä', 'Acker',\n",
    "        ]\n",
    "sorted(worte, key=sortkey)"
   ]
  },
  {
   "cell_type": "code",
   "execution_count": null,
   "id": "12dd2c0f-8d07-4cbb-a194-17b1f8a8ec05",
   "metadata": {},
   "outputs": [],
   "source": [
    "# Funktion sortkey mt Lambda-Ausdruck uebergeben\n",
    "sorted(worte, key=lambda x: (translate(x).lower(), weights(x)))"
   ]
  },
  {
   "cell_type": "markdown",
   "id": "e781f093-31cc-41fe-8063-adcb90f865ef",
   "metadata": {},
   "source": [
    "### 10'000 Pokerh&auml;nde w&uuml;rfeln: Wieviele Straights und Fullhouses? \n",
    "Es wird 5 mal gew&uuml;rfelt.  \n",
    "Die Wurfbilder 12345 und 23456 nennen wir **Straight**.  \n",
    "Ein Wurfbild der Form 22255 (ein Paar und ein Triple) nennen wir **Fullhouse**.  \n",
    "Was ist wahrscheinlicher: ein Straight oder ein Fullhouse?  \n",
    "\n",
    "**Aufgaben**:\n",
    "1. Schreibe eine Funktion `wuerfle(n=5)`, die eine Liste mit n Zufallszahlen (Default ist 5) von 1 bis 6 zur&uuml;ck gibt (Zufallszahl von 1 bis 6: `random.randint(1, 6)`).  \n",
    "2. Schreibe eine Funktion `count_dict(wurf)`, die einen Dictionary `d` erstellt, der zu jeder Zahl in der Liste `wurf` angibt, wie oft diese Zahl in der Liste vorkommt.  \n",
    "3. Ist Wurf ein Straight, so hat `d` L&auml;nge 5 (5 verschiedene Zahlen) und enth&auml;t nicht sowohl 1 und 6.  \n",
    "   Ist Wurf ein Fullhouse, so hat `d` L&auml;nge 2 (2 verschiedene Zahlen) und 3 ist ein Wert von `d` (eine Zahl kommt 3-Mal vor).  \n",
    "   Schreibe Funktionen `is_straight(wurf)` undd `is_fullhouse(wurf)`, `True` oder `False` zur&uuml;ckgeben, je nach dem ob `wurf` ein Straight oder ein Fullhouse ist.  \n",
    "   Teste die Funktionen mit den Wurfbildern  \n",
    "   `[[1,2,3,4,5], [2,3,4,5,6], [1,2,4,5,6], [2,2,2,4,4], [4,2,2,2,4], [1,1,2,2,3]]`.  \n",
    "4. W&uuml;rf 10'000 Mal und z&auml;hle, wieviele Straights und Fullhouses gew&uuml;rfelt wurden."
   ]
  },
  {
   "cell_type": "code",
   "execution_count": null,
   "id": "fb65785d-8e5a-45ee-8ab2-b77c4c3a07e3",
   "metadata": {},
   "outputs": [],
   "source": [
    "import random"
   ]
  },
  {
   "cell_type": "code",
   "execution_count": null,
   "id": "868300ce-49e3-4cbf-9abd-03bcf826e6b7",
   "metadata": {},
   "outputs": [],
   "source": [
    "random.randint(1,6)"
   ]
  },
  {
   "cell_type": "code",
   "execution_count": null,
   "id": "d51bbac7-8ddc-4a8e-87f0-8e6a74427408",
   "metadata": {},
   "outputs": [],
   "source": [
    "def wuerfle(n=5):   \n",
    "    return [random.randint(1, 6) for i in range(n)]"
   ]
  },
  {
   "cell_type": "code",
   "execution_count": null,
   "id": "7c300819-c301-4cc1-a5f2-02bc88bc08d5",
   "metadata": {},
   "outputs": [],
   "source": [
    "# wuerfle mit 5 (default) Wuerfeln\n",
    "wurf = wuerfle()\n",
    "wurf"
   ]
  },
  {
   "cell_type": "code",
   "execution_count": null,
   "id": "0bdb137c-7ed2-49d7-8424-0bc5c3cc8015",
   "metadata": {},
   "outputs": [],
   "source": [
    "# wuerfle mit 3 Wuerfeln\n",
    "wurf = wuerfle(3)\n",
    "wurf"
   ]
  },
  {
   "cell_type": "code",
   "execution_count": null,
   "id": "ca60b9d3-b0ef-44b7-84a4-e812b07d92c7",
   "metadata": {},
   "outputs": [],
   "source": [
    "def count_dict(wurf=5):\n",
    "    d = {}\n",
    "    for w in wurf:\n",
    "        d[w] = d.get(w, 0) + 1\n",
    "    \n",
    "    return d"
   ]
  },
  {
   "cell_type": "code",
   "execution_count": null,
   "id": "8d8dd376-f91d-4500-8ed7-65c1df3dab3e",
   "metadata": {},
   "outputs": [],
   "source": [
    "count_dict(wurf)"
   ]
  },
  {
   "cell_type": "code",
   "execution_count": null,
   "id": "6bea19f3-9359-413c-ab3e-e9e97a8ee92e",
   "metadata": {},
   "outputs": [],
   "source": [
    "def is_straight(wurf):   \n",
    "    d = count_dict(wurf)\n",
    "    if len(d) != 5:\n",
    "        return False\n",
    "    if  (1 in d) and (6 in d):\n",
    "        return False\n",
    "    \n",
    "    return True\n",
    "    \n",
    "def is_fullhouse(wurf):   \n",
    "    d = count_dict(wurf)\n",
    "    return len(d) == 2 and 3 in d.values()"
   ]
  },
  {
   "cell_type": "code",
   "execution_count": null,
   "id": "7789fd0c-7191-4eb2-8b48-bdef1c2a606c",
   "metadata": {},
   "outputs": [],
   "source": [
    "# teste obige Funktionen\n",
    "wuerfe =[[1,2,3,4,5], [2,3,4,5,6], [1,2,4,5,6], [2,2,2,4,4], [4,2,2,2,4], [1,1,2,2,3] ] \n",
    "for wurf in wuerfe:\n",
    "    print('{} is straight: {}, is fullhouse: {}'\\\n",
    "          .format(wurf, is_straight(wurf), is_fullhouse(wurf))\n",
    "         )"
   ]
  },
  {
   "cell_type": "code",
   "execution_count": null,
   "id": "8dfdf396-7607-49cf-a70f-03a9e7c76221",
   "metadata": {},
   "outputs": [],
   "source": [
    "# Zaehle Fullhouses und straights\n",
    "\n",
    "straights = 0\n",
    "fullhouses = 0\n",
    "\n",
    "for _ in range(10_000):\n",
    "    wurf = wuerfle()\n",
    "    if is_straight(wurf):\n",
    "        straights += 1\n",
    "    if is_fullhouse(wurf):\n",
    "        fullhouses += 1   \n",
    "\n",
    "print('{} straights, {} fullhouses'.format(straights, fullhouses))"
   ]
  },
  {
   "cell_type": "markdown",
   "id": "6adbba52-2886-4da9-882f-b73370028db2",
   "metadata": {},
   "source": [
    "### Gewinnspiele: Wie gross ist der durchschnittliche Gewinn?\n",
    "Jemand schl&auml;gt dir 3 Varianten eines Spiels vor.  \n",
    "Der Einsatz betr&auml;gt 3 Franken.  \n",
    "Du bekommst 5 Franken, falls du mit\n",
    "\n",
    "\n",
    "\n",
    "- mit 6  Würfeln  mindestens eine 6 w&uuml;rfelst,\n",
    "- mit 12 Würfeln  mindestens zwei 6er w&uuml;rfelst,\n",
    "- mit 18 Würfeln  mindestens drei 6er w&uuml;rfelst.\n",
    "\n",
    "Spiele jede Variante  100'000-mal. Wie gross ist der durchschnittliche Gewinn?  \n",
    "Benutze zum w&uuml;rfeln die Funktion `wuerfle` von obiger Aufgabe."
   ]
  },
  {
   "cell_type": "code",
   "execution_count": null,
   "id": "08079d36-1af9-4651-a829-5c160d3171bd",
   "metadata": {},
   "outputs": [],
   "source": [
    "N = 100_000\n",
    "einsatz = 3\n",
    "auszahlung = 5"
   ]
  },
  {
   "cell_type": "code",
   "execution_count": null,
   "id": "acc93a03-bdcf-4755-a9c3-74d43be0e87e",
   "metadata": {},
   "outputs": [],
   "source": [
    "# Variante 1\n",
    "gewinn = 0\n",
    "for _ in range(N):\n",
    "    gewinn -= einsatz\n",
    "    wurf = wuerfle(6)\n",
    "    if 6 in wurf:\n",
    "        gewinn += auszahlung   \n",
    "\n",
    "round(gewinn/N, 3)"
   ]
  },
  {
   "cell_type": "code",
   "execution_count": null,
   "id": "c9060b5b-641d-4299-9d1b-0f8dfc794a75",
   "metadata": {},
   "outputs": [],
   "source": [
    "# Variante 2\n",
    "gewinn = 0\n",
    "for _ in range(N):\n",
    "    gewinn -= einsatz\n",
    "    wurf = wuerfle(2*6)\n",
    "    if wurf.count(6) >= 2:\n",
    "        gewinn += auszahlung   \n",
    "\n",
    "round(gewinn/N, 3)"
   ]
  },
  {
   "cell_type": "code",
   "execution_count": null,
   "id": "5a215702-a647-49e7-aab9-d4a99ee4a069",
   "metadata": {},
   "outputs": [],
   "source": [
    "# Variante 3\n",
    "gewinn = 0\n",
    "for _ in range(N):\n",
    "    gewinn -= einsatz\n",
    "    wurf = wuerfle(3*6)\n",
    "    if wurf.count(6) >= 3:\n",
    "        gewinn += auszahlung   \n",
    "\n",
    "round(gewinn/N, 3)"
   ]
  },
  {
   "cell_type": "markdown",
   "id": "654f647c-fa41-4b8e-ad0b-f7e85099ed34",
   "metadata": {},
   "source": [
    "### M&uuml;nzen 10-Mal werfen: Wie wahrscheinlich ist 3-mal Kopf?  ($\\frac{120}{1024}\\simeq 0.12$)\n",
    "Ein einzelner Versuch besteht darin, eine M&uuml;nze 10-mal zu werfen und zu notieren, wie oft Kopf gew&uuml;rfelt wurde.  \n",
    "Ein solcher Versuch liefert uns eine (Zufalls)Zahl zwischen 0 und 10 (0 und 10 inkl.).  \n",
    "Wir wollen diesen Versuch nun 1000-mal wiederholen und in einem Dictionary `d` festhalten, wie oft jede der Zahlen von 0 bis 10 \n",
    "erhalten wurde. Zahlen, die nie erhalten wurden, nehmen wir nicht in den Dictionary `d` auf.  \n",
    "Bei 1000 Versuchen k&ouml;nnte `d` etwa so aussehen:\n",
    "\n",
    "{`0: 1, 1: 6, 2: 35, 3: 121, 4: 199, 5: 241, 6: 211, 7: 129, 8: 51, 9: 6}`.  \n",
    "Wir wollen dann `d` als Histogramm ausgeben:\n",
    "\n",
    "```python\n",
    "1 : ***\n",
    "2 : ************\n",
    "3 : ************************************\n",
    "4 : *************************************************************************\n",
    "5 : ********************************************************************************\n",
    "6 : ***************************************************************\n",
    "7 : ****************************************\n",
    "8 : *************\n",
    "9 : ***\n",
    "```  \n",
    "\n",
    "In diesem Beispiel entspricht ein `*` ca. 80/241=0.33 Anzahl Kopf (241 ist die maximale Anzahl Kopf,\n",
    "und wir wollen max. 80 `*`ne ausgeben).\n",
    "\n",
    "**Aufgaben**:\n",
    "\n",
    "1. Benutze eine For-Schleife um eine faire M&uuml;nze 10-mal zu werfen (`random.randint(0, 1)`, `0` entspreche Zahl).  \n",
    "   Gib aus, wie oft Kopf gew&uuml;rfelt wurde.  \n",
    "   Schreibe eine Funktion `coinflips(n)`, die eine faire M&uuml;nze n-mal wird und zur&uuml;ck gibt, wie oft Kopf gew&uuml;rfelt wurde.\n",
    "  \n",
    "1. Die Funktion   `coinflips(n)` gibt eine Zufallszahl zwischen 0 und 10 zur&uuml;ck.  \n",
    "   Rufe die Funktion   `coinflips(n)` 1'000-mal auf, und z&auml;hle mit Hilfe eines Dictionary `d`, wie oft\n",
    "   eine Zahl zur&uuml;ckgegeben wurde (zahlen die nie zur&uuml;ckgegeben wurden brauchen nicht in den Dictionary aufgenommen zu werden).  \n",
    "   Bei 10 Aufrufen k&ouml;nnte `d` z.B. so aussehen: `{3: 3, 5: 3, 6: 2, 4: 2}`.\n",
    "   \n",
    "1. Sortiere `d` aufsteigend nach seinen Schl&uuml;sseln.  \n",
    "   Berechne die totale Anzahl Versuche `tot` als Summe der Werte von `d`.  \n",
    "   Gib die Wahrscheinlichkeit f&uuml;r n-mal Kopf aus (d[n]/tot).\n",
    "   \n",
    "1. Speichere den gr&ouml;ssten Wert von `d` in der Variable `m` und gib ihn aus.  \n",
    "   Gib f&uuml;r jedes Key-Value Paar der Form `(k, v)` eine Zeile  \n",
    "   `'{:<2}: {}'.format(k, '*' * width)`  \n",
    "   aus, falls `width` gr&ouml;sser als `0` ist. `width`  ist dabei gleich `int(v * 80 / m)`.  \n",
    "  \n",
    "1. Schreibe eine Funktion `show_hist(d)`, die einen Dictionary `d` mit Schl&uuml;ssel-Wert-Paaren  \n",
    "   > `(<Anzahl Kopf>, <Wie oft diese Anzahl erhalten wurde>)`  \n",
    "   \n",
    "   aufsteigend nach Schl&uuml;sseln sortiert und wie oben als Histogramm ausgibt.  \n",
    "   Schreibe eine Funktion `histogram(versuche, wuerfe)`, welche `versuche`-mal eine M&uuml;nze `wuerfe`-mal wirft, \n",
    "   und das Resultat als Histogramm ausgibt.\n",
    "   "
   ]
  },
  {
   "cell_type": "code",
   "execution_count": null,
   "id": "129cbd1b-3f20-4ced-bd76-e57eb10b1d51",
   "metadata": {},
   "outputs": [],
   "source": [
    "import random"
   ]
  },
  {
   "cell_type": "code",
   "execution_count": null,
   "id": "d9906c8f-4aed-446d-8a91-7ad7d49fe75c",
   "metadata": {},
   "outputs": [],
   "source": [
    "kopf = 0\n",
    "for _ in range(10):\n",
    "    kopf += random.randint(0,1)\n",
    "\n",
    "kopf"
   ]
  },
  {
   "cell_type": "code",
   "execution_count": null,
   "id": "95e520a3-30ed-4da1-9f93-886b78126398",
   "metadata": {},
   "outputs": [],
   "source": [
    "def coinflips(n):\n",
    "    kopf = 0\n",
    "    for _ in range(n):\n",
    "        kopf += random.randint(0,1)\n",
    "\n",
    "    return kopf  "
   ]
  },
  {
   "cell_type": "code",
   "execution_count": null,
   "id": "24fcca39-e71a-4d74-911a-0e5e877faeac",
   "metadata": {},
   "outputs": [],
   "source": [
    "coinflips(1000)"
   ]
  },
  {
   "cell_type": "code",
   "execution_count": null,
   "id": "471cc93e-deb7-4613-a7ba-6a1fbbcfc5a3",
   "metadata": {},
   "outputs": [],
   "source": [
    "d = {}\n",
    "for _ in range(1000):\n",
    "    zahl = coinflips(10)\n",
    "    d[zahl] = d.get(zahl, 0) + 1\n",
    "\n",
    "d    "
   ]
  },
  {
   "cell_type": "code",
   "execution_count": null,
   "id": "0e904e42-6e99-4fef-ba68-5993954a9f51",
   "metadata": {},
   "outputs": [],
   "source": [
    "pairs = sorted(d.items())\n",
    "d = dict(pairs)\n",
    "d"
   ]
  },
  {
   "cell_type": "code",
   "execution_count": null,
   "id": "6b5a322d-145e-42cb-af90-572d4d513c7a",
   "metadata": {},
   "outputs": [],
   "source": [
    "# geschaetzte Wahrscheinlichkeit fuer n-mal Kopf\n",
    "tot = sum(d.values())\n",
    "print('{:<2}: {}'.format('n', \"W'keit fuer n-mal Kopf\"))\n",
    "for k,v in d.items():\n",
    "    print('{:<2}: {:.3f}'.format(k, v/tot))"
   ]
  },
  {
   "cell_type": "code",
   "execution_count": null,
   "id": "0f31402d-2b12-46f9-8d66-324a635fe260",
   "metadata": {},
   "outputs": [],
   "source": [
    "# groesster Wert\n",
    "m = max(d.values())\n",
    "m"
   ]
  },
  {
   "cell_type": "code",
   "execution_count": null,
   "id": "6dcb4448-dd40-454b-ae45-923590566a69",
   "metadata": {},
   "outputs": [],
   "source": [
    "# Histogramm\n",
    "for k,v in d.items():\n",
    "    width = int(v * 80 / m)\n",
    "    if width > 0:\n",
    "        print('{:<2}: {}'.format(k,  '*' * width))"
   ]
  },
  {
   "cell_type": "code",
   "execution_count": null,
   "id": "fc2b75ad-334f-4201-87a9-37be0933963f",
   "metadata": {},
   "outputs": [],
   "source": [
    "def show_hist(d):\n",
    "    # d sortieren\n",
    "    pairs = sorted(d.items())\n",
    "    d = dict(pairs)    \n",
    "    \n",
    "    # histogram ausgeben\n",
    "    m = max(d.values())\n",
    "    for k,v in d.items():\n",
    "        width = int(v * 80 / m)\n",
    "        if width > 0:\n",
    "            print('{:<2}: {}'.format(k, '*' * width))"
   ]
  },
  {
   "cell_type": "code",
   "execution_count": null,
   "id": "ac1c0f14-61cf-4b4b-ba14-5c9907ab9e52",
   "metadata": {},
   "outputs": [],
   "source": [
    "show_hist(d)"
   ]
  },
  {
   "cell_type": "code",
   "execution_count": null,
   "id": "35d47750-e4ea-4dd5-81ba-ecb205fb4f15",
   "metadata": {},
   "outputs": [],
   "source": [
    "def histogram(versuche, wuerfe):\n",
    "    d = {}\n",
    "    for _ in range(versuche):\n",
    "        zahl = coinflips(wuerfe)\n",
    "        d[zahl] = d.get(zahl, 0) + 1\n",
    "        \n",
    "    show_hist(d)           "
   ]
  },
  {
   "cell_type": "code",
   "execution_count": null,
   "id": "ccdb6d35-9840-49b8-b5fa-167ffa9a759d",
   "metadata": {},
   "outputs": [],
   "source": [
    "histogram(1000, 10)"
   ]
  },
  {
   "cell_type": "markdown",
   "id": "08ffd233-cb09-4dfa-b427-638cb9824c33",
   "metadata": {},
   "source": [
    "### Erg&auml;nzung: Default-Argumente\n",
    "\n",
    "Bei einer unfairen M&uuml;nzen ist die Wahrscheinlichkeit f&uuml;r Kopf **ungleich** $0.5$ ist.\n",
    "Die Funktion `random.random()` liefert eine Zufallszahl vom Typ float zwischen 0 und 1. Jede Zahl ist dabei gleich wahrscheinlich.\n",
    "Um eine unfaire M&uuml;nze, die mit Wahrscheinlichkeit $p=0.8$ Kopf liefert, zu simulieren,\n",
    "generiert man mit `x=random.random()` eine Zufallszahl und interpretiert das als Kopf, falls $x \\le p$.\n",
    "   \n",
    "   \n",
    "**Aufgabe**:\n",
    "1. Modifizere die Funktiondefinition von `coinflips` und `histogram` wie folgt:  \n",
    "\n",
    "```python\n",
    "def coinflips(n, p=0.5):\n",
    "    '''wirf n-mal eine Muenze die mit Wahrscheinlichkeit p Kopf zeigt\n",
    "       gib  Anzahl Kopf zurueck\n",
    "    '''\n",
    "    \n",
    "def histogram(versuche, wuerfe, p=0.5):  \n",
    "    '''rufe versuche-mal coinflips(wuerfe, p) auf\n",
    "       erstellen eine Dictinary d, der festhaelt, wie oft\n",
    "       eine bestimmte Anzahl Kopf erhalten wurde.\n",
    "       Gibt d als Histogramm aus\n",
    "       '''\n",
    "```    "
   ]
  },
  {
   "cell_type": "code",
   "execution_count": null,
   "id": "a23c4e03-a12a-4a58-bb3f-b0f9f8531dfc",
   "metadata": {},
   "outputs": [],
   "source": [
    "def coinflips(n, p=0.5):\n",
    "    kopf = 0\n",
    "    for _ in range(n):\n",
    "        x = random.random()\n",
    "        if x <= p:\n",
    "            kopf += 1\n",
    "\n",
    "    return kopf  "
   ]
  },
  {
   "cell_type": "code",
   "execution_count": null,
   "id": "8520c043-295b-4151-83fc-e992229c58f0",
   "metadata": {},
   "outputs": [],
   "source": [
    "coinflips(100)"
   ]
  },
  {
   "cell_type": "code",
   "execution_count": null,
   "id": "0c96d239-189c-407a-badd-a338cfeb2627",
   "metadata": {},
   "outputs": [],
   "source": [
    "coinflips(100, p=0.1)"
   ]
  },
  {
   "cell_type": "code",
   "execution_count": null,
   "id": "83b5a492-a2a5-4399-83c7-7fa2c0360b4b",
   "metadata": {},
   "outputs": [],
   "source": [
    "def coinflips(n, p=0.5):\n",
    "    kopf = 0\n",
    "    for _ in range(n):\n",
    "        kopf += (random.random() <= p)\n",
    "\n",
    "    return kopf "
   ]
  },
  {
   "cell_type": "code",
   "execution_count": null,
   "id": "8d7f098e-8dbf-4bcc-b8bb-3616c17f64f4",
   "metadata": {},
   "outputs": [],
   "source": [
    "coinflips(100)"
   ]
  },
  {
   "cell_type": "code",
   "execution_count": null,
   "id": "fc1af673-b263-42e3-9939-83c0dde9a76a",
   "metadata": {},
   "outputs": [],
   "source": [
    "coinflips(100, p=0.1)"
   ]
  },
  {
   "cell_type": "code",
   "execution_count": null,
   "id": "5703238d-a26b-4d98-b2cf-a9c930ff1e29",
   "metadata": {},
   "outputs": [],
   "source": [
    "def histogram(versuche, wuerfe, p=0.5):\n",
    "    d = {}\n",
    "    for _ in range(versuche):\n",
    "        zahl = coinflips(wuerfe, p)\n",
    "        d[zahl] = d.get(zahl, 0) + 1\n",
    "        \n",
    "    show_hist(d)    "
   ]
  },
  {
   "cell_type": "code",
   "execution_count": null,
   "id": "8fa18c68-0a69-42ac-a38b-4da0aba51dfe",
   "metadata": {},
   "outputs": [],
   "source": [
    "histogram(versuche=100_000, wuerfe=100, p=0.1)"
   ]
  }
 ],
 "metadata": {
  "author": "dieter.probst@gmail.com",
  "kernelspec": {
   "display_name": "Python 3 (ipykernel)",
   "language": "python",
   "name": "python3"
  },
  "language_info": {
   "codemirror_mode": {
    "name": "ipython",
    "version": 3
   },
   "file_extension": ".py",
   "mimetype": "text/x-python",
   "name": "python",
   "nbconvert_exporter": "python",
   "pygments_lexer": "ipython3",
   "version": "3.12.0"
  }
 },
 "nbformat": 4,
 "nbformat_minor": 5
}
