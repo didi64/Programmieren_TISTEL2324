{
 "cells": [
  {
   "cell_type": "markdown",
   "id": "811c6354-b3b6-4b00-9b20-f9c129c1c2a9",
   "metadata": {},
   "source": [
    "### Liste und Dictionary mit For-Loop erstellen\n",
    "Vorgehen: Mit leerer Liste `[]` bez. leerem Dictionary `{}` beginnen, und mit For-Loop Elemente bez. Schl&uuml;ssel-Wert Paare hinzuf&uuml;gen.  \n",
    "**Aufgabe**:  \n",
    "Gegeben sei die Liste `numbers = [6,2,4,9,7,6,8,2,3,5,8,3]`.\n",
    "\n",
    "Erstelle nachstehende Liste `l` und nachstehenden Dictionary `d` ohne\n",
    "List- bez. Dictionary-Comprehension (mit For-Loop).\n",
    "\n",
    "- `l = [n for n in numbers if 3 <= n <=7]`\n",
    "- `d = {i:chr(97+i) for i in range(26) if chr(97+i) not in 'aeiou'}`"
   ]
  },
  {
   "cell_type": "code",
   "execution_count": null,
   "id": "cbc341d5-7afa-47b3-a36f-11cf2d594eda",
   "metadata": {},
   "outputs": [],
   "source": [
    "# Variabeln initialisieren, l und d ausgeben.\n",
    "numbers = [6, 2, 4, 9, 7, 6, 8, 2, 3, 5, 8, 3]\n",
    "l = [n for n in numbers if 3 <= n <= 7]\n",
    "d = {i:chr(97+i) for i in range(26) if chr(97+i) not in 'aeiou'}\n",
    "\n",
    "print(l)\n",
    "print(d)"
   ]
  },
  {
   "cell_type": "code",
   "execution_count": null,
   "id": "4ec055fe-6cdf-4071-afa4-597ad7b51198",
   "metadata": {},
   "outputs": [],
   "source": []
  },
  {
   "cell_type": "markdown",
   "id": "37c2b161-038d-47ca-ae48-64524113761e",
   "metadata": {},
   "source": [
    "### List-Comprehension I\n",
    "- Erstelle mit List-Comprehension eine Liste `qs` mit den ersten 10 Quadratzahlen (`[1, 4, 9, 16, 25, 36, 49, 64, 81, 100]`).  \n",
    "  Benutze dann die Funktion `sum` zur Berechnung  ihrer Summe (385). \n",
    "- Erstellen  die Liste `qs` und berechne die Summe ohne List-Comprehension und ohne die Funktion `sum`. Verwende einen For-Loop."
   ]
  },
  {
   "cell_type": "code",
   "execution_count": null,
   "id": "34d2f3a9-c421-4b7f-bdb3-14944261e74b",
   "metadata": {},
   "outputs": [],
   "source": []
  },
  {
   "cell_type": "markdown",
   "id": "12716d3b-5df0-412a-abdc-daec50513115",
   "metadata": {},
   "source": [
    "### List-Comprehension II\n",
    "- $2*i + 1$ ist die $i$-te ungerade Zahl.\n",
    "  Erstelle mit List-Comprehension eine Liste mit den ersten 10 ungeraden Zahlen und berechne ihre Summe (100).\n",
    "- Schreibe eine Funktion, welche die Summe er ersten $n$ ungeraden Zahlen zur&uuml;ck gibt\n",
    "- Die Summe der ersten $n$ ungeraden Zahlen ist gleich $n^2$. \n",
    "  &Uuml;berpr&uuml;fe diesen Sachverhalt mit einer For-Schleife f&uuml;r alle $n$ von  $1$ bis $999$, indem zu z&auml;hlst, wie oft die Behauptung zutrifft, und diese Zahl ausgibst."
   ]
  },
  {
   "cell_type": "code",
   "execution_count": null,
   "id": "1b68d7c5-54a2-48c4-af82-5f0c00a74abf",
   "metadata": {},
   "outputs": [],
   "source": []
  },
  {
   "cell_type": "markdown",
   "id": "2bcea99c-9580-463a-9277-c7d081e9a900",
   "metadata": {
    "tags": []
   },
   "source": [
    "### range, enumerate und zip\n",
    "\n",
    "Vereinfache folgenden Code indem du Gebrauch von `range`,  `enumerate` und `zip` machst.\n",
    "```python\n",
    "# Aufgabe 1\n",
    "for i in [0,1,2,3,4,5,6,7,8,9]:\n",
    "    print(i, end = '')\n",
    "    \n",
    "# Aufgabe 2  \n",
    "namen = ['Alice', 'Bob', 'Carl']\n",
    "rang = 0\n",
    "for name in namen:\n",
    "    rang += 1\n",
    "    print('Rang: {}, Name: {}'.format(rang, name))\n",
    "    \n",
    "# Aufgabe 3  \n",
    "produkte = ['Stuhl', 'Tisch']\n",
    "preise = [20, 150]\n",
    "for i in (0, 1):\n",
    "    print('Ein {} kostet {} Franken'.format(produkte[i], preise[i]))    \n",
    "```\n"
   ]
  },
  {
   "cell_type": "code",
   "execution_count": null,
   "id": "c8e73916-929b-4ff1-aaaf-39b4ce8a2f47",
   "metadata": {},
   "outputs": [],
   "source": []
  },
  {
   "cell_type": "code",
   "execution_count": null,
   "id": "d988c8bd-321b-4ef5-8cf5-b6a8204768bf",
   "metadata": {},
   "outputs": [],
   "source": [
    "# 1 Ohne range\n",
    "for i in [0,1,2,3,4,5,6,7,8,9]:\n",
    "    print(i, end = '')"
   ]
  },
  {
   "cell_type": "code",
   "execution_count": null,
   "id": "5a47452b-98bd-419d-8223-afb2d8770692",
   "metadata": {},
   "outputs": [],
   "source": [
    "# Mit range"
   ]
  },
  {
   "cell_type": "code",
   "execution_count": null,
   "id": "e678cc05-fea3-4735-a0f3-11bdef11b076",
   "metadata": {},
   "outputs": [],
   "source": [
    "# 2 ohne enumerate\n",
    "namen = ['Alice', 'Bob', 'Carl']\n",
    "rang = 0\n",
    "for name in namen:\n",
    "    rang += 1\n",
    "    print('Rang: {}, Name: {}'.format(rang, name))"
   ]
  },
  {
   "cell_type": "code",
   "execution_count": null,
   "id": "ec4fb752-7226-4ca3-a929-9e2ab266cd59",
   "metadata": {},
   "outputs": [],
   "source": [
    "# mit enumerate\n"
   ]
  },
  {
   "cell_type": "code",
   "execution_count": null,
   "id": "202b6d71-d85d-4bc6-a984-65afc33e35ac",
   "metadata": {},
   "outputs": [],
   "source": [
    "# 3 ohne zip\n",
    "produkte = ['Stuhl', 'Tisch']\n",
    "preise = [20, 150]\n",
    "for i in (0, 1):\n",
    "    print('Ein {} kostet {} Franken'.format(produkte[i], preise[i]))    "
   ]
  },
  {
   "cell_type": "code",
   "execution_count": null,
   "id": "5b494aeb-4b0a-44ed-ab6a-2bbb10f402a6",
   "metadata": {},
   "outputs": [],
   "source": [
    "# mit zip\n"
   ]
  },
  {
   "cell_type": "markdown",
   "id": "3bb72913-db68-471a-94a5-785afa8b084b",
   "metadata": {},
   "source": [
    "### Platzhalterstrings, Unpacking  \n",
    "Sei \n",
    "```python\n",
    "vorname = 'Hans'\n",
    "nachname = 'Muster'\n",
    "name = (vorname, nachname)\n",
    "person = {'vorname': vorname, 'nachname': nachname}\n",
    "```\n",
    "\n",
    "Benutze Platzhalterstrings und die `str.format` Methode, um den \n",
    "String `'Vorname: Hans, Name: Muster'` zu erstellen. Benutze dazu einen\n",
    "    \n",
    "- einfachen Platzhalterstring\n",
    "- einfachen Platzhalterstring und Tuple-Unpacking\n",
    "- benamsten Platzhalterstring\n",
    "- benamsten Platzhalterstring und Dictionary-Unpacking"
   ]
  },
  {
   "cell_type": "code",
   "execution_count": null,
   "id": "ea261c2c-e437-41c1-8caf-77c06016170c",
   "metadata": {},
   "outputs": [],
   "source": [
    "# Variablen initialisieren\n",
    "vorname = 'Hans'\n",
    "nachname = 'Muster'\n",
    "name = (vorname, nachname)\n",
    "person = {'vorname': vorname, 'nachname': nachname}"
   ]
  },
  {
   "cell_type": "code",
   "execution_count": null,
   "id": "405746fb-1309-4ec9-bd6e-21a4146c783c",
   "metadata": {},
   "outputs": [],
   "source": [
    "# einfache Platzhalter\n"
   ]
  },
  {
   "cell_type": "code",
   "execution_count": null,
   "id": "20446f36-4e78-4523-9bcd-fd3e4df9d5e4",
   "metadata": {},
   "outputs": [],
   "source": [
    "# einfache Platzhalter, Tuple-Unpacking\n"
   ]
  },
  {
   "cell_type": "code",
   "execution_count": null,
   "id": "52751cc6-64e2-4ac5-af8a-e2513b044989",
   "metadata": {},
   "outputs": [],
   "source": [
    "# benamste Platzhalter\n"
   ]
  },
  {
   "cell_type": "code",
   "execution_count": null,
   "id": "f5e25bb5-f7a5-4d15-bce4-6aa4079214c9",
   "metadata": {},
   "outputs": [],
   "source": [
    "# benamste Platzhalter, Dictionary-Unpacking\n"
   ]
  },
  {
   "cell_type": "markdown",
   "id": "c341c14a-28e4-41a2-b3d2-660dde61fba7",
   "metadata": {},
   "source": [
    "### Strings, Slicenotation, String-Addition\n",
    "1. Benutze Slice-Notation, um vom String `s='foobar'` die erste und zweite H&auml;lfte auszugeben\n",
    "(`'foo'` und `'bar'`).  \n",
    "Erstellen aus diesen Teilen den String `'oofrab'.`  \n",
    "\n",
    "\n",
    "2. Folgender Code dreht den String 'abc' um (`'cba'`).  \n",
    "```python\n",
    "word = 'abc'\n",
    "s = ''\n",
    "s = word[0] + s\n",
    "s = word[1] + s\n",
    "s = word[2] + s\n",
    "s\n",
    "```  \n",
    "Drehe mit dieser Methode das Wort `word='abcdefgh'` um. Benutze eine For-Schleife.  \n",
    "Schreibe nun eine Funktion reverse_word(word), welche ein Wort auf diese Weise umdreht.  "
   ]
  },
  {
   "cell_type": "code",
   "execution_count": null,
   "id": "7276c203-9897-4afe-85a8-f7ac133155d1",
   "metadata": {},
   "outputs": [],
   "source": []
  },
  {
   "cell_type": "markdown",
   "id": "b4de9bf0-35a5-4f16-820c-46926faebb0a",
   "metadata": {},
   "source": [
    "### Zeichen in einen String einf&uuml;gen\n",
    "\n",
    "Gegeben seien die Strings `abc='ABCDEFGHIJKLMNOPQRSTUVWXYZ'`,  `umlauts = 'ÄÖÜ'` und der Dictionary `tt = {'Ä': 'A', 'Ö': 'O', 'Ü': 'U'}`.\n",
    "Ziel ist es, Code zu schreiben, der daraus den String `'AÄBCDEFGHIJKLMNOÖPQRSTUÜVWXYZ'` konstruiert (Umlaut nach dem Vokal eingef&uuml;gen).\n",
    "\n",
    "**Aufgaben**:\n",
    "1. Finde die Position von `'O'` in `abc`. Konstruiere mit Slicenotation einen neuen String, wo `'Ö'` nach dem `'O'`  eingef&uuml;gt ist.\n",
    "2. Iteriere mit einer For-Schleife &uuml;ber die Umlaut-Vokal Paare von `tt`.  \n",
    "   Erstelle in der Schleife jeweils einen neuen String `abc`, wo der Umlaut nach dem Vokal eingef&uuml;gt ist.  \n",
    "   Am Schluss ist `abc='AÄBCDEFGHIJKLMNOÖPQRSTUÜVWXYZ'`."
   ]
  },
  {
   "cell_type": "code",
   "execution_count": null,
   "id": "114dd539-7ca4-40ac-83cb-3410f15a3b9b",
   "metadata": {},
   "outputs": [],
   "source": [
    "# Variabeln initializieren\n",
    "tt = {'Ä': 'A', 'Ö': 'O', 'Ü': 'U'}\n",
    "umlauts = 'ÄÖÜ'\n",
    "abc = 'ABCDEFGHIJKLMNOPQRSTUVWXYZ'"
   ]
  },
  {
   "cell_type": "code",
   "execution_count": null,
   "id": "afde5e04-57ad-4db5-9eb0-5dffef5af962",
   "metadata": {},
   "outputs": [],
   "source": []
  },
  {
   "cell_type": "markdown",
   "id": "a936ef65-85be-4a2f-857e-5972295154ee",
   "metadata": {
    "tags": []
   },
   "source": [
    "### Relative H&auml;ufigkeit von Buchstaben eines Texts bestimmen\n",
    "Die relative H&auml;ufigkeit von Buchstaben eines Texts liefert z.B. einen Anhaltspunkt, in welcher Sprache der Text verfasst ist.  \n",
    "F&uuml;r diese Aufgabe definieren wir\n",
    "Die relative H&auml;ufigkeit (Frequenz ) eines Buchstabens in einem Text ist definiert als\n",
    "$$\\frac{\\text{Anzahl Vorkommen des Buchstabens im Text}}{\\text{Anzahl Buchstaben des Texts}}.$$\n",
    "\n",
    "Bei dieser Definition ist die Summe der relativen H&auml;ufigkeiten aller Buchstaben gleich $1$.  \n",
    "(Eine andere sinnvolle Definition w&auml;re, durch die Anzahl Zeichen des Texts (inkl. Satzzeichen, Whitespace und Ziffern) zu dividieren.)\n",
    "\n",
    "**Aufgabe**:\n",
    "Wir unterscheiden nicht zwischen Gross- und Kleinbuchstaben.  \n",
    "\n",
    "`buchstaben = 'AÄBCDEFGHIJKLMNOÖPQRSTUÜVWXYZ'` \n",
    "`text = 'Eines Morgens öffnete Peter die Gartentür und trat hinaus auf die große, grüne Wiese.'` \n",
    "  \n",
    "1. Erstellen einen Dictionary `d`, der zu jedem Buchstaben (Schl&uuml;ssel) angibt, wie oft dieser im Text `text` auftritt.  \n",
    "   Nimm nur Buchstaben in `d` auf, falls sie in `text` vorkommen.  \n",
    "   \n",
    "   Wieviele **verschiedene** Buchstaben kommen in `text` vor? (L&auml;nge von d)  \n",
    "   Wievielen Buchstaben hat `text`? (Summe der Werte von d)  \n",
    "   \n",
    "1. Iteriere mit einer For-Schleife &uuml;ber die Schl&uuml;ssel von d und ersetzte den zugh&ouml;rigen Wert durch die relative H&auml;ufigkeit (Wert/Anzahl B.staben).  \n",
    "1. Erstelle eine Liste mit den key-value Paaren von `d`.  \n",
    "   Benutze Slicenotation um einen kurzen Anfangsabschnitt dieser Liste auszugeben.  \n",
    "   Sortiere die Liste mit den key-value Paaren nach BUchstaben.  \n",
    "   Sortiere die Liste mit den key-value Paaren nach den Werten, absteigend.\n",
    "\n",
    "1. Schreibe eine Funktion `freq_dict(text)`, die zum Text `text` einen Dictionary mit den relativen\n",
    "   Buchstabenh&auml;ufigkeit (eine frequency dict) erstellt, diesen nach den Werten absteigend sortiert und \n",
    "   zur&uuml;ck gibt."
   ]
  },
  {
   "cell_type": "code",
   "execution_count": null,
   "id": "10ed3247-6463-43c6-b55b-7193a023453a",
   "metadata": {},
   "outputs": [],
   "source": [
    "# Variabeln initialisieren\n",
    "text = 'Eines Morgens öffnete Peter die Gartentür und trat hinaus auf die große, grüne Wiese.'\n",
    "buchstaben = 'AÄBCDEFGHIJKLMNOÖPQRSTUÜVWXYZ'"
   ]
  },
  {
   "cell_type": "code",
   "execution_count": null,
   "id": "d49a6bff-694d-428d-bebb-d434f959fbae",
   "metadata": {},
   "outputs": [],
   "source": []
  },
  {
   "cell_type": "markdown",
   "id": "daad78fc-5553-4c7d-beac-430699a98a75",
   "metadata": {},
   "source": [
    "### Umlaute durch Vokale ersetzen, dict.get\n",
    "Gegeben sei ein Wort `word = 'aBÄö'`. Ziel ist es, alle Umlaute in `word` durch den zugeh&ouml;rigen Vokal zu ersetzen ('aBAo').  \n",
    "Vorgehen: \n",
    "- erstellen eine Translation-Table `tt`, einen Dictionary dessen Schl&uuml;ssel die Umlaute, und dessen Werte die zugeh&ouml;rigen Vokal sind.\n",
    "- erstelle eine Liste `l` mit den Buchstaben des umlautfreien Wortes:  \n",
    "  Iteriere &uuml;ber die Buchstaben von `word`. Ist der Buchstabe ein Schl&uuml;ssel von `tt`, nimm den entsprechenden Wert in die Liste `l` auf,\n",
    "  andernfalls den Buchstaben.\n",
    "- Verwandle die Buchstabenliste `l` in einen String\n",
    "\n",
    "**Aufgaben**:  \n",
    "Gegeben sei `tt = {'Ä': 'A', 'Ö': 'O', 'Ü': 'U'}`.  \n",
    "1. Erstellen einen String`umlauts`, bestehend aus den Schl&uuml;sseln von `tt`,  und einen String\n",
    "`aou`, bestehend aus den Werten von `tt`.  \n",
    "Forme daraus einen neuen Dictionary `tt` der nun auch die kleinen Umlaut-Vokal Paare enth&auml;lt:  \n",
    "`{'Ä': 'A', 'Ö': 'O', 'Ü': 'U', 'ä': 'a', 'ö': 'o', 'ü': 'u'}`.  \n",
    "2. Gebegen sei der String `word = 'aBÄö'`.  \n",
    "   Ersetze alle  Umlaute in `word` durch den zugeh&ouml;rigen Vokal, gem&auml;ss obiger Anleitung.\n",
    "3. Erstelle diesmal die Liste `l` mit List-Comprehension.\n",
    "4. Schreibe eine Funktion `translate(word)`, welche die Umlaute in `word` ersetzt und den resultierenden String zur&uuml;ck gibt.  \n",
    "   Teste die Funktion."
   ]
  },
  {
   "cell_type": "code",
   "execution_count": null,
   "id": "5fe3c661-a396-4411-b5ec-bdb1fd732620",
   "metadata": {},
   "outputs": [],
   "source": [
    "# Variablen initializieren\n",
    "tt = {'Ä': 'A', 'Ö': 'O', 'Ü': 'U'}"
   ]
  },
  {
   "cell_type": "code",
   "execution_count": null,
   "id": "6412e7cc-9769-4b97-ac38-d6b3fadd1655",
   "metadata": {},
   "outputs": [],
   "source": []
  },
  {
   "cell_type": "markdown",
   "id": "6dc985c8-e263-4cc3-b83f-2219fa3ecb2a",
   "metadata": {},
   "source": [
    "### Liste ohne Doubletten\n",
    "Gegeben sei die Liste `numbers = [2, 3, 1, 2, 3, 2, 5, 6, 5]`.  \n",
    "Wir m&ouml;chten die Liste ohne Doubletten, mit den Zahlen in der urspr&uuml;nglichen Reihenfolge (`[2, 3, 1, 5, 6]`).  \n",
    "\n",
    "Man k&ouml;nnte mit `list(set(numbers))` die Liste in eine Menge und dann wieder in eine Liste umwandeln, was aber die Reihenfolge &auml;ndert.  \n",
    "\n",
    "**Aufgaben**:\n",
    "1. Erstellen einen Dictionary mit 2 Schl&uuml;ssel-Wert Paaren.  \n",
    "   Teste, dass die Reihenfolge der Schl&uuml;ssel nicht &auml;ndert, wenn der Wert eines bestehenden Sch&uuml;ssels modifiziert wird.\n",
    "2. Starte mit einem leeren Dictionary. Iteriere mit einer For-Schleife &uuml;ber `numbers`. Nimm  jede Zahl als Schl&uuml;ssel mit zugeh&ouml;rigen Wert `True` in den Dictionary auf.  \n",
    "   Verwandle den Dictionary in eine Liste und gib diese aus.\n",
    "\n",
    "3. Erstellen diesmal den Dictionary mit Dictionary-Comprehension.\n",
    "4. Schreibe eine Funktion `dbl_frei(lst)`, welche die doublettenfreie Liste zur&uuml;ck gibt.  \n",
    "   Teste die Funktion."
   ]
  },
  {
   "cell_type": "code",
   "execution_count": null,
   "id": "04d4b323-cf2d-4679-a292-e550f0ed77bb",
   "metadata": {},
   "outputs": [],
   "source": [
    "numbers = [2, 3, 1, 2, 3, 2, 5, 6, 5]"
   ]
  },
  {
   "cell_type": "code",
   "execution_count": null,
   "id": "59d341c9-91e1-41d9-9e80-5288eeb8d195",
   "metadata": {},
   "outputs": [],
   "source": [
    "# Reihenfolge bleibt nicht erhalten\n",
    "list(set(numbers))"
   ]
  },
  {
   "cell_type": "code",
   "execution_count": null,
   "id": "c812494a-d3d0-4677-8959-4b804000cc79",
   "metadata": {},
   "outputs": [],
   "source": []
  },
  {
   "cell_type": "markdown",
   "id": "3e17bc78-ca91-47e7-b8e4-27dbcc71094b",
   "metadata": {},
   "source": [
    "### Kleinen Dictionary aus grossem Dictionary aussondern\n",
    "1. Erstelle eine Liste `l` mit 5 Elementen.\n",
    "Konstruiere daraus eine Liste mit den ersten beiden und eine Liste mit den letzten beiden Elementen von `l`.\n",
    "2. Erstelle einen Dictionary  `d` mit 5 Schl&uuml;ssel-Wert Paaren.\n",
    "  Konstruiere daraus eine Liste mit den ersten beiden und eine Liste mit den letzten beiden Schl&uuml;sseln von `d`.  \n",
    "  Konstruiere daraus einen Dictionary mit den ersten beiden und einen Dictionary mit den letzten beiden Schl&uuml;ssel-Wert Paaren.  \n",
    "3. Schreibe eine Funktion `peek(d, n)`, die einen Dictionary mit den ersten  $n$ Schl&uuml;ssel-Wert Paaren des Dictionary `d` zur&uuml;ck gibt falls $n>0$, sonst mit den  letzten $|n|$ Schl&uuml;ssel-Wert Paaren.  \n",
    "(z.B. `peek(d, -2)` gibt einen  Dictionary mit den letzten 2 Schl&uuml;ssel-Wert Paaren zur&uuml;ck)"
   ]
  },
  {
   "cell_type": "code",
   "execution_count": null,
   "id": "25a33893-7340-42b7-a7e6-df677d3d019a",
   "metadata": {},
   "outputs": [],
   "source": []
  },
  {
   "cell_type": "markdown",
   "id": "8ce09fbf-d60c-49d2-9108-e3d8a5d52772",
   "metadata": {},
   "source": [
    "### Welche Zahl in [1, 13, 26, 30] ist am n&auml;chsten bei 20?\n",
    "Gegeben sei die Liste `numbers = [1, 13, 26, 30]` und die Zahl `mynumber = 20`.  \n",
    "1. Erstelle eine Liste mit den Abst&auml;nden dieser Zahlen von `mynumber` ([19, 7, 6, 10]). Benutze die Funktion `abs`.\n",
    "2. Erstelle  eine Liste von Tupeln der Form  `[(abstand zu 20, zahl), ...]` ([(19, 1), (7, 13), (6, 26), (10, 30)]).\n",
    "3. Finde mit der Funktion `min` das kleinste Tuple dieser Liste, dann die Zahl mit dem kleinsten Abstand zu `mynumbers`.\n",
    "4. Schreibe eine Funktion `find_closest(mynumber, numbers)`, welche diejenige Zahl aus der Liste `numbers` zur&uuml;ck gibt, die am n&auml;chsten bei `mynumber` liegt."
   ]
  },
  {
   "cell_type": "code",
   "execution_count": null,
   "id": "4503ea25-bb5a-43b8-8def-6e76db0834ad",
   "metadata": {},
   "outputs": [],
   "source": [
    "# Variabeln initialisieren\n",
    "mynumber = 20\n",
    "numbers = [1, 13, 26, 30]"
   ]
  },
  {
   "cell_type": "code",
   "execution_count": null,
   "id": "4c1380e7-8cfa-4506-aa2c-197a62d61f13",
   "metadata": {},
   "outputs": [],
   "source": []
  }
 ],
 "metadata": {
  "kernelspec": {
   "display_name": "Python 3 (ipykernel)",
   "language": "python",
   "name": "python3"
  },
  "language_info": {
   "codemirror_mode": {
    "name": "ipython",
    "version": 3
   },
   "file_extension": ".py",
   "mimetype": "text/x-python",
   "name": "python",
   "nbconvert_exporter": "python",
   "pygments_lexer": "ipython3",
   "version": "3.12.0"
  }
 },
 "nbformat": 4,
 "nbformat_minor": 5
}
