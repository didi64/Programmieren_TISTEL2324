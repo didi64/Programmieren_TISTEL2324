{
 "cells": [
  {
   "cell_type": "markdown",
   "id": "6c424f8d-76a7-4b26-b930-740a7f0995db",
   "metadata": {},
   "source": [
    "# Aufgabe 1 (5 Punkte, 1+1+1+2)\n",
    "1. Starte mit dem Wort `word = 'ForSchleife'`.\n",
    "Greife mit Slicenotation die Teilstrings `'For'` und `'Schleife'` heraus, bastle daraus\n",
    "den String `'For-Schleife'` und speichere diesen in der Variable `new_word`.\n",
    "1. Splitte nun `new_word` beim Bindestrich in eine Liste `words`. \n",
    "Benutze die String-Methode `join` um aus der Liste `words` wieder das Wort `'ForSchleife'` zu erstellen.\n",
    "\n",
    "1. Betrachte folgende Liste mit Strings: `lst = ['1', '2', '3']`. Erstelle daraus eine neue Liste `new_list = [1, 2, 3]`, die nun nur Integers enth&auml;lt.\n",
    "1. Modifiziere mit einer For-Schleife die Elemente von `lst`: Verwandle jedes Listenelement in einen Integer. Gib die Liste `lst` zur Kontrolle vor und nach der Modifikation aus (`['1', '2', '3'],\n",
    "[1, 2, 3]`)."
   ]
  },
  {
   "cell_type": "code",
   "execution_count": null,
   "id": "09bcbebc-ad53-49d9-a0ce-101b7fa3b5f2",
   "metadata": {},
   "outputs": [],
   "source": [
    "word = 'ForSchleife'"
   ]
  },
  {
   "cell_type": "code",
   "execution_count": null,
   "id": "0813382a-5b6b-4bc1-99dd-f871f5bb11cc",
   "metadata": {},
   "outputs": [],
   "source": [
    "new_word = word[:3] + '-' + word[3:]\n",
    "new_word"
   ]
  },
  {
   "cell_type": "code",
   "execution_count": null,
   "id": "b15d8515-c66c-4335-9bda-d888feb9cc11",
   "metadata": {},
   "outputs": [],
   "source": [
    "words = new_word.split('-')\n",
    "words"
   ]
  },
  {
   "cell_type": "code",
   "execution_count": null,
   "id": "51a64c48-c327-467e-85d7-89630c868f62",
   "metadata": {},
   "outputs": [],
   "source": [
    "''.join(words)"
   ]
  },
  {
   "cell_type": "code",
   "execution_count": null,
   "id": "9f265dd9-2497-42ce-917c-e02181e7b007",
   "metadata": {},
   "outputs": [],
   "source": [
    "lst = ['1', '2', '3']"
   ]
  },
  {
   "cell_type": "code",
   "execution_count": null,
   "id": "df0fc4ea-991f-429e-9824-39ea816e2d90",
   "metadata": {},
   "outputs": [],
   "source": [
    "new_lst = [int(s) for s in lst]\n",
    "new_lst"
   ]
  },
  {
   "cell_type": "code",
   "execution_count": null,
   "id": "f76a6d65-f390-490f-973f-1305f463b681",
   "metadata": {},
   "outputs": [],
   "source": [
    "print(lst)\n",
    "for i,s in enumerate(lst):\n",
    "    lst[i] = int(s)\n",
    "print(lst)  "
   ]
  },
  {
   "cell_type": "markdown",
   "id": "f679601d-e676-48a0-bebf-5724821a1331",
   "metadata": {},
   "source": [
    "### Aufgabe 2 (5 Punkte, 2+3) \n",
    "Folgender Sachverhalt ist zu &uuml;berpr&uuml;fen:\n",
    "$$\n",
    "1^3+2^3+\\dots+100^3 = (1+2+\\ldots+100)^2\n",
    "$$\n",
    "1. Erstelle Listen `numbers = [1, 2,..., 100]` und `cubes = [1, 8, 27..., 1000000]` und\n",
    "  gib zur Kontrolle jeweils die ersten und letzten beiden Elemente dieser Listen aus.\n",
    "1. Bilde die Summe der `cubes` und vergleiche diese mit dem Quadrat der Summe von `numbers`."
   ]
  },
  {
   "cell_type": "code",
   "execution_count": null,
   "id": "efc7b2d2-6ee6-4293-915f-b50a0da6b519",
   "metadata": {},
   "outputs": [],
   "source": [
    "numbers = list(range(1, 101))\n",
    "cubes = [i**3 for i in range(1,101)]"
   ]
  },
  {
   "cell_type": "code",
   "execution_count": null,
   "id": "58c0ef4a-884b-49e2-9256-066bc439e426",
   "metadata": {},
   "outputs": [],
   "source": [
    "numbers[:2], numbers[-2:]"
   ]
  },
  {
   "cell_type": "code",
   "execution_count": null,
   "id": "4f304238-1a4a-4d64-8a15-7f60abbca44f",
   "metadata": {},
   "outputs": [],
   "source": [
    "cubes[:2], cubes[-2:]"
   ]
  },
  {
   "cell_type": "code",
   "execution_count": null,
   "id": "7db4c03e-16fd-44c7-8776-5a7f51f451f9",
   "metadata": {},
   "outputs": [],
   "source": [
    "sum(cubes)"
   ]
  },
  {
   "cell_type": "code",
   "execution_count": null,
   "id": "f29ee20e-f997-4fe0-a55f-6f7f2fd63200",
   "metadata": {},
   "outputs": [],
   "source": [
    "sum(numbers) ** 2"
   ]
  },
  {
   "cell_type": "code",
   "execution_count": null,
   "id": "85e162b5-a55a-4337-8380-a23682fa09cb",
   "metadata": {},
   "outputs": [],
   "source": [
    "sum(cubes) == sum(numbers) ** 2"
   ]
  },
  {
   "cell_type": "markdown",
   "id": "b23224d1-5838-49ab-bfea-249a2f1aea0c",
   "metadata": {},
   "source": [
    "### Aufgabe 3 (10 Punkte, 2+2+2+3+3)\n",
    "\n",
    "Im Folgenden betrachten wir quadratische Gleichungen der Form $ax^2+bx+c = 0$.  \n",
    "Die Koeffizienten $a, b, c$ sind Integers mit $a\\not=0$.  \n",
    "Die Anzahl der L&ouml;sungen sind abh&auml;ngig von der Diskriminante $D:=b^2-4ac$:  \n",
    "- $D<0$: keine L&ouml;sung!\n",
    "- $D=0$: eine L&ouml;sung, $x= -\\frac{b}{2a}$.\n",
    "- $D>0$: zwei L&ouml;sungen, $x_{1,2} = \\frac{-b \\pm D^{1/2}}{2a}$.\n",
    "\n",
    "Gegeben sei folgende Liste von Integer-Tupeln\n",
    "```python\n",
    "triples = [(1, 2, 1), (-1, 2, -1), (2, 1, -6), (-1, -1, -1), (3, 0, -27)]\n",
    "```  \n",
    "Jedes Tuple enth&auml;lt die Werte der Koeffizienten a,b,c einer quadratischen Gleichung $ax^2+bx+c=0$.  \n",
    "Dem ersten Tuple entspricht die Gleichung $x^2+2x+1=0$.  \n",
    "1. Weise die Werte des 1. Tupels den Variabeln a,b,c zu und berechne die Diskriminante (0).  \n",
    "   In diesem Fall gibt es nur eine L&ouml;sung. Berechne diese (-1.0).\n",
    "1. Mache das gleiche mit dem 3. Tuple (`(2, 1, -6)`). Nun ist die \n",
    "Diskriminante 49 und es gibt zwei L&ouml;sungen (1.5 und -2.0). \n",
    "1. Schreiben eine Funktion `discr(triple)`, die ein Koeffizienten-Triple als Argument nimmt,\n",
    "und **aus**gibt, wieviele  L&ouml;sungen die Gleichung hat. Teste die Funktion mit allen Elementen der Liste `triples` (eine, eine, zwei, keine, zwei). \n",
    "1. Schreiben eine Funktion `solve(triple)`, die nun ein Tuple mit den L&ouml;sungen **zur&uuml;ck gibt** (leeres Tuple, Tuple mit ein oder 2 Elementen). Teste die Funktion mit allen Elementen der Liste `triples` (`(-1.0,), (1.0,), (1.5, -2.0), (), (3.0, -3.0)`)."
   ]
  },
  {
   "cell_type": "code",
   "execution_count": null,
   "id": "ad853555-be5e-4c15-8a9e-abd30acb22bc",
   "metadata": {},
   "outputs": [],
   "source": [
    "# Wurzel ziehen mit Python: rechne hoch 0.5\n",
    "25 ** 0.5"
   ]
  },
  {
   "cell_type": "code",
   "execution_count": null,
   "id": "beead60d-f4b6-4da7-a19c-7522ba3eca44",
   "metadata": {},
   "outputs": [],
   "source": [
    "triples = [(1, 2, 1), (-1, 2, -1), (2, 1, -6), (-1, -1, -1), (3, 0, -27)]"
   ]
  },
  {
   "cell_type": "code",
   "execution_count": null,
   "id": "3b8264d4-9d2a-484f-9866-fcf718d9ce00",
   "metadata": {},
   "outputs": [],
   "source": [
    "# 3.1. Fall D=0, eine Loesung\n",
    "a, b, c = triples[0]\n",
    "D = b**2 - 4*a*c\n",
    "x = -b/(2*a)\n",
    "D, x"
   ]
  },
  {
   "cell_type": "code",
   "execution_count": null,
   "id": "4ba5c722-284f-40e4-bcbb-72ca17e4095d",
   "metadata": {},
   "outputs": [],
   "source": [
    "# 3.2 Fall D>0: zwei Loesungen\n",
    "a, b, c = triples[2]\n",
    "D = b**2 - 4*a*c\n",
    "x_1 = (-b + D**0.5)/(2*a)\n",
    "x_2 = (-b - D**0.5)/(2*a)\n",
    "D, x_1, x_2"
   ]
  },
  {
   "cell_type": "code",
   "execution_count": null,
   "id": "5259c06f-a883-4d34-9d5c-3ea48574c6d8",
   "metadata": {},
   "outputs": [],
   "source": [
    "def discr(triple):\n",
    "    a, b, c = triple\n",
    "    D = b**2 - 4*a*c\n",
    "    if D < 0:\n",
    "        print('keine')\n",
    "    elif D == 0:\n",
    "        print('eine')\n",
    "    else:\n",
    "        print('zwei')"
   ]
  },
  {
   "cell_type": "code",
   "execution_count": null,
   "id": "9e8227f3-9f0d-43cd-a4a6-4e4c5e949c20",
   "metadata": {},
   "outputs": [],
   "source": [
    "for triple in triples:\n",
    "    discr(triple)"
   ]
  },
  {
   "cell_type": "code",
   "execution_count": null,
   "id": "9f8b1073-fb4a-40ea-8476-383d2505d7d5",
   "metadata": {},
   "outputs": [],
   "source": [
    "def solve(triple):\n",
    "    a, b, c = triple\n",
    "    D = b**2 - 4*a*c\n",
    "    if D < 0:\n",
    "        return ()\n",
    "    elif D == 0:\n",
    "        x = -b/(2*a)\n",
    "        return(x,)\n",
    "    else:\n",
    "        x_1 = (-b + D**0.5)/(2*a)\n",
    "        x_2 = (-b - D**0.5)/(2*a)\n",
    "        return (x_1, x_2)"
   ]
  },
  {
   "cell_type": "code",
   "execution_count": null,
   "id": "bcf07236-31b1-4962-abed-d7a4404a2def",
   "metadata": {},
   "outputs": [],
   "source": [
    "for triple in triples:\n",
    "    print(solve(triple))"
   ]
  },
  {
   "cell_type": "markdown",
   "id": "57dfd1ef-0dd2-44e2-a491-58a3da65e5f6",
   "metadata": {},
   "source": [
    "### Aufgabe 4 (10 Punkte, 2+2+2+1+3)\n",
    "Das File `eqs.txt` enth&auml;lt Zeilen von Komma separierten Strings der Form\n",
    ">  -1,2,-1,-x²+2x-1 = 0  \n",
    "   -3,-3,0,-3x²-3x = 0  \n",
    "   ...\n",
    "   \n",
    "Ziel ist es, das File zu lesen und f&uuml;r jede Zeile die Gleichung und die L&ouml;sungen auszugeben:\n",
    ">  Gleichung: -x²+2x-1 = 0, Loesungen: (1.0,)  \n",
    "   Gleichung: -3x²-3x = 0, Loesungen: (-1.0, -0.0)  \n",
    "   ...\n",
    "\n",
    "1. &Ouml;ffne das File `eqs.txt` und erstelle eine Liste `lines` mit den Zeilen diese Files.   Gib zur Kontrolle ein kurzes Anfangsst&uuml;ck dieser Liste aus.\n",
    "  (`['-1,2,-1,-x²+2x-1 = 0\\n', '-3,-3,0,-3x²-3x = 0\\n']`)\n",
    "1. Weise das erste Element von `lines` der Variable `line` zu.  \n",
    "  Erstellen mit strip einen neuen String ohne den Zeilenumbruch und splite diesen beim Komma in eine Liste `row` (`['-1', '2', '-1', '-x²+2x-1 = 0']`).  \n",
    "1. Erstelle aus `row` einen String `eq` mit der Gleichung (`'-x²+2x-1 = 0'`) und eine Liste `coeffs` von **Integern** mit den Koeffizienten (`[-1, 2, -1]`).\n",
    "1. Berechne mit der Funktion `solve` die L&ouml;sungen und gib diese zusammen mit der Gleichung aus  \n",
    "(Gleichung: -x²+2x-1 = 0, Loesungen: (1.0,))  \n",
    "1. Schreibe eine Funktion `get_eq_with_sol(line)`, die eine Zeile\n",
    "wie `'-1,2,-1,-x²+2x-1 = 0\\n'` als Argument nimmt, und\n",
    "die Gleichung und L&ouml;sungen ausgibt. \n",
    "Teste die Funktion mit den Elementen von `lines`.\n",
    "(Gleichung: -x²+2x-1 = 0, Loesungen: (1.0,)  \n",
    "...  \n",
    "Gleichung: 4x²+11x+10 = 0, Loesungen: ())"
   ]
  },
  {
   "cell_type": "code",
   "execution_count": null,
   "id": "7ee0f497-df10-407e-8086-6bd7a82d77f9",
   "metadata": {},
   "outputs": [],
   "source": [
    "# 4.1\n",
    "fn = 'eqs.txt'\n",
    "with open(fn, 'r') as f:\n",
    "    lines = f.readlines()\n",
    "    \n",
    "lines[:2]"
   ]
  },
  {
   "cell_type": "code",
   "execution_count": null,
   "id": "24745d8d-03fd-4f1c-a450-c953bfd56756",
   "metadata": {},
   "outputs": [],
   "source": [
    "# 4.2\n",
    "line = lines[0]\n",
    "line"
   ]
  },
  {
   "cell_type": "code",
   "execution_count": null,
   "id": "73cfe71c-01fc-494e-90d7-6f5c93163807",
   "metadata": {},
   "outputs": [],
   "source": [
    "row = line.strip().split(',')\n",
    "row  "
   ]
  },
  {
   "cell_type": "code",
   "execution_count": null,
   "id": "c94245e4-79aa-4929-9e20-39df8e89128d",
   "metadata": {},
   "outputs": [],
   "source": [
    "# 4.3\n",
    "eq = row.pop()\n",
    "coeffs = [int(c) for c in row]\n",
    "coeffs, eq"
   ]
  },
  {
   "cell_type": "code",
   "execution_count": null,
   "id": "c57f2b6e-0133-40e1-8da6-2c66d8571a1b",
   "metadata": {},
   "outputs": [],
   "source": [
    "# 4.4\n",
    "sols = solve(coeffs)\n",
    "print('Gleichung: {}, Loesungen: {}'.format(eq, sols))"
   ]
  },
  {
   "cell_type": "code",
   "execution_count": null,
   "id": "1ddea930-7512-4c3c-a319-7327f5dc7c34",
   "metadata": {},
   "outputs": [],
   "source": [
    "def get_eq_with_sol(line):\n",
    "    row = line.strip().split(',')\n",
    "    eq = row.pop()\n",
    "    coeffs = [int(x) for x in row]\n",
    "    sols = solve(coeffs)\n",
    "    s = 'Gleichung: {}, Loesungen: {}'.format(eq, sols)\n",
    "    return s"
   ]
  },
  {
   "cell_type": "code",
   "execution_count": null,
   "id": "f4355ec2-1962-49f2-8d39-b022d1bdba42",
   "metadata": {},
   "outputs": [],
   "source": [
    "for line in lines:\n",
    "    print(get_eq_with_sol(line))"
   ]
  },
  {
   "cell_type": "markdown",
   "id": "da59ce0c-0436-4dbb-83c8-0bc78f9685c5",
   "metadata": {},
   "source": [
    "### Aufgabe 5 (12 Punkte, 1+3+3+2+3)\n",
    "Eine Spielkarte wird als String modelliert.\n",
    "Die Farbe ist das letzte Zeichen, der Wert ist der Kartenstring ohne das letzte Zeichen. \n",
    "Das Deck ist ein Tuple mit 52 Kartenstrings (siehe nachstehende Zelle).\n",
    "\n",
    "Ziehe 100'000 mal 5 Karten und z&auml;hle, wie oft ein Fullhouse (ein Triple und ein Paar) gezogen wurde (~144).\n",
    "\n",
    "- Benutze Slice- und Indexnotation um von der Karte `herz_10 = '10♥'` den Wert (`'10'`) und die Farbe (`'♥'`) zu erhalten.\n",
    "- Betrachte die Hand `hand = ['A♠', '10♦', '10♣', 'A♥', '10♠']`.  \n",
    "Erstelle mit Listcomprehension eine Liste mit den Werten und Farben dieser Hand und gib diese Listen aus.  (`['A', '10', '10', 'A', '10'], ['♠', '♦', '♣', '♥', '♠']`)  \n",
    "Schreibe eine Funktion `get_werte(hand)`, welche die Liste mit den Kartenwerten \n",
    "zur&uuml;ck gibt. Teste die Funktion.\n",
    "- Betrachte die Liste `items = ['foo', 'bar', 'bar', 'foo', 'baz']`.  \n",
    "  Erstelle mit einer For-Schleife einen Dictionary `d`, der\n",
    "  anzeigt, wie oft ein Wort in dieser Liste vorkommt  (`{'foo': 2, 'bar': 2, 'baz': 1}`).  \n",
    "  Schreibe eine Funktion `count_dict(items)`, welche einen Dictionary zur&uuml;ck gibt, der anzeigt, wie oft jedes Element der Liste `items` vorkommt. Teste die Funktion mit den Werten von `hand` (`{'A': 2, '10': 3}`).\n",
    "- Eine Hand `hand` ist ein Fullhouse, falls der Dictionary\n",
    "  `count_dict(get_werte(hand))` L&auml;nge 2 hat und den Integer 3 als Wert enth&auml;lt.\n",
    "  Schreibe eine Funktion `is_fullhouse(hand)` die `True` zur&uuml;ck gibt, falls\n",
    "  `hand` ein Fullhouse ist und sonst `False`.\n",
    "- Die Methode `sample(items, k)` des Moduls `random` gibt `k` zuf&auml;llige Elemente des Iterables `items` zur&uuml;ck.  Ziehe 100'000 mal 5 Karten und gib aus, wie oft ein Fullhouse gezogen wurde \n",
    "  (Anzahl Fullhouses bei 100000 Versuchen: 147)."
   ]
  },
  {
   "cell_type": "code",
   "execution_count": null,
   "id": "97943b65-9391-4657-bfe6-98cf9783fce3",
   "metadata": {},
   "outputs": [],
   "source": [
    "FARBEN = '♥♠♦♣'\n",
    "WERTE  = ('2', '3', '4', '5', '6', '7', '8', '9', '10', 'B', 'D', 'K', 'A')\n",
    "DECK = tuple(wert+farbe for farbe in FARBEN for wert in WERTE)\n",
    "for i, farbe in enumerate(FARBEN):\n",
    "    print(DECK[13*i:13*(i+1)])"
   ]
  },
  {
   "cell_type": "code",
   "execution_count": null,
   "id": "a0db6b9f-2694-41a0-8671-82a3bb84c3c6",
   "metadata": {},
   "outputs": [],
   "source": [
    "# 5.1\n",
    "herz_10 = '10♥'\n",
    "wert = herz_10[:-1]\n",
    "farbe = herz_10[-1]\n",
    "\n",
    "wert, farbe"
   ]
  },
  {
   "cell_type": "code",
   "execution_count": null,
   "id": "ab51fec7-1a39-4dc8-bd4b-6085b5827cdf",
   "metadata": {},
   "outputs": [],
   "source": [
    "# 5.2\n",
    "hand = ['A♠', '10♦', '10♣', 'A♥', '10♠']\n",
    "werte = [karte[:-1] for karte in hand]\n",
    "farben = [karte[-1] for karte in hand]\n",
    "werte, farben"
   ]
  },
  {
   "cell_type": "code",
   "execution_count": null,
   "id": "6874660b-4fc5-440e-b20d-af80c805324e",
   "metadata": {},
   "outputs": [],
   "source": [
    "def get_werte(hand):\n",
    "    werte = [karte[:-1] for karte in hand]\n",
    "    return werte"
   ]
  },
  {
   "cell_type": "code",
   "execution_count": null,
   "id": "7172e8b3-cb3f-43d0-b7ee-52e8061024d0",
   "metadata": {},
   "outputs": [],
   "source": [
    "werte = get_werte(hand)\n",
    "werte"
   ]
  },
  {
   "cell_type": "code",
   "execution_count": null,
   "id": "ff2247c4-8b8f-4348-93b4-f5dc07adcb42",
   "metadata": {},
   "outputs": [],
   "source": [
    "# 5.3\n",
    "items = ['foo', 'bar', 'bar', 'foo', 'baz']\n",
    "d = {}\n",
    "for item in items:\n",
    "    d[item] = d.get(item, 0) + 1\n",
    "d  "
   ]
  },
  {
   "cell_type": "code",
   "execution_count": null,
   "id": "48fa54c1-040e-45eb-bf49-29c5e4a80e0b",
   "metadata": {},
   "outputs": [],
   "source": [
    "def count_dict(items):\n",
    "    d = {}\n",
    "    for item in items:\n",
    "        d[item] = d.get(item, 0) + 1\n",
    "    return d   "
   ]
  },
  {
   "cell_type": "code",
   "execution_count": null,
   "id": "dab583b1-be22-43fe-9715-c08eb421d305",
   "metadata": {},
   "outputs": [],
   "source": [
    "werte = get_werte(hand)\n",
    "count_dict(werte)"
   ]
  },
  {
   "cell_type": "code",
   "execution_count": null,
   "id": "29bf9e9c-7470-4268-bd1a-bb4419c214f6",
   "metadata": {},
   "outputs": [],
   "source": [
    "# 5.4\n",
    "def is_fullhouse(hand):\n",
    "    werte = get_werte(hand)\n",
    "    d = count_dict(werte)\n",
    "    is_fullhouse = len(d) == 2 and 3 in d.values()\n",
    "    return is_fullhouse"
   ]
  },
  {
   "cell_type": "code",
   "execution_count": null,
   "id": "e5c2b74d-352b-4f46-acd5-aa79eb9baf8c",
   "metadata": {},
   "outputs": [],
   "source": [
    "is_fullhouse(hand)"
   ]
  },
  {
   "cell_type": "code",
   "execution_count": null,
   "id": "35e20433-6295-4b88-9d01-5fd6fa6462b0",
   "metadata": {},
   "outputs": [],
   "source": [
    "# 5.5\n",
    "import random\n",
    "N = 100_000\n",
    "fullhouses = 0\n",
    "for _ in range(N):\n",
    "    hand = random.sample(DECK, 5)\n",
    "    if is_fullhouse(hand):\n",
    "        fullhouses += 1\n",
    "        \n",
    "print('Anzahl Fullhouses bei {} Versuchen: {}'.format(N, fullhouses))        "
   ]
  },
  {
   "cell_type": "code",
   "execution_count": null,
   "id": "b04a19d8-bec0-405e-bbc3-770b6bba92b0",
   "metadata": {},
   "outputs": [],
   "source": []
  }
 ],
 "metadata": {
  "kernelspec": {
   "display_name": "Python 3 (ipykernel)",
   "language": "python",
   "name": "python3"
  },
  "language_info": {
   "codemirror_mode": {
    "name": "ipython",
    "version": 3
   },
   "file_extension": ".py",
   "mimetype": "text/x-python",
   "name": "python",
   "nbconvert_exporter": "python",
   "pygments_lexer": "ipython3",
   "version": "3.12.0"
  }
 },
 "nbformat": 4,
 "nbformat_minor": 5
}
