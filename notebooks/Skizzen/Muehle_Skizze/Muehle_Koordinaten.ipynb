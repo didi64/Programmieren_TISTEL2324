{
 "cells": [
  {
   "cell_type": "markdown",
   "id": "cca031ce-03b6-4644-8f72-22d318002f82",
   "metadata": {},
   "source": [
    "### M&uuml;hle-Koordinaten: \n",
    "\n",
    "Man kann die Position eines Steins auf dem\n",
    "M&uuml;hlebrett durch `(r, i)` beschreiben, wobei\n",
    "- `r` ist einer der Ringe 0, 1, 2 (von innen nach aussen)\n",
    "- `i` ist einer der Punkte 8 Punkte auf diesem Ring, nummeriert z.B.  \n",
    "$\\begin{array}{ccc}\n",
    "6& 5& 4\\\\\n",
    "7 &&  3\\\\\n",
    "0 &1 &2\\\\\n",
    "\\end{array}$  \n",
    "\n",
    "Wir wollen diese 3 Ringe zeichnen und darauf die Punkte markieren, wo Steine gesetzt werden k&ouml;nnen. \n",
    "Klickt man auf einen Punkt, so wird dort ein Stein gesetzt und\n",
    "ausgegeben, welche M&uuml;hle-Koordinate dieser Punkt hat."
   ]
  },
  {
   "cell_type": "code",
   "execution_count": 1,
   "id": "feaa130f-9b76-4cac-b361-c83d556e73f4",
   "metadata": {},
   "outputs": [],
   "source": [
    "RADIUS = 8\n",
    "REL_SIZE = 0.8\n",
    "SIZE = 200\n",
    "\n",
    "# Punkte eines Rings mit Zentrum (0,0)\n",
    "PTS = [(-1, -1), (0, -1), (1, -1), (1, 0), (1, 1), \n",
    "       (0, 1), (-1, 1), (-1, 0),\n",
    "      ]\n",
    "\n",
    "def ri2xy(r, i):\n",
    "    x, y = PTS[i]\n",
    "    x = (REL_SIZE*(r+1)/3*x + 1) * SIZE/2\n",
    "    y = (-REL_SIZE*(r+1)/3*y + 1) * SIZE/2\n",
    "    return x, y\n",
    "\n",
    "def draw_board(canvas):\n",
    "    for r in range(3):\n",
    "        canvas.stroke_polygon([ri2xy(r, i) for i in range(8)])\n",
    "        for i in range(8):\n",
    "            canvas.fill_circle(*ri2xy(r, i), 3)\n",
    "    \n",
    "    for i in (1,3,5,7):\n",
    "        bg.stroke_lines([ri2xy(r, i) for r in range(3)])"
   ]
  },
  {
   "cell_type": "code",
   "execution_count": 4,
   "id": "0075e877-d468-4c75-ba1a-d614030a7d09",
   "metadata": {},
   "outputs": [
    {
     "data": {
      "application/vnd.jupyter.widget-view+json": {
       "model_id": "8940221600b9477992d3899402909644",
       "version_major": 2,
       "version_minor": 0
      },
      "text/plain": [
       "MultiCanvas(height=200, layout=Layout(border_bottom='1px solid black', border_left='1px solid black', border_r…"
      ]
     },
     "metadata": {},
     "output_type": "display_data"
    },
    {
     "data": {
      "application/vnd.jupyter.widget-view+json": {
       "model_id": "397e64d5a9ba43889aeb61d6867538ed",
       "version_major": 2,
       "version_minor": 0
      },
      "text/plain": [
       "Output(layout=Layout(border_bottom='1px solid black', border_left='1px solid black', border_right='1px solid b…"
      ]
     },
     "metadata": {},
     "output_type": "display_data"
    }
   ],
   "source": [
    "from get_closest import get_closest\n",
    "from ipywidgets import Output\n",
    "from ipycanvas import MultiCanvas\n",
    "\n",
    "out = Output(layout = {'border': '1px solid black'})\n",
    "mcanvas = MultiCanvas(2, width = SIZE, height = SIZE, layout = {'border': '1px solid black'})\n",
    "bg, fg = mcanvas\n",
    "fg.fill_style = 'blue'\n",
    "\n",
    "pts = [ri2xy(r, i) for r in range(3) for i in range(8)]\n",
    "idx_pt = [(r, i) for r in range(3) for i in range(8)]\n",
    "\n",
    "@out.capture(clear_output=True)        \n",
    "def on_mouse_down(x, y):\n",
    "    idx = get_closest(pts, (x, y))\n",
    "    if idx is not None:\n",
    "        fg.fill_circle(*pts[idx], RADIUS)\n",
    "        pt = idx_pt[idx]\n",
    "        print('Stein auf Position {}'.format(pt))\n",
    "  \n",
    "        \n",
    "mcanvas.on_mouse_down(on_mouse_down)\n",
    "\n",
    "display(mcanvas, out)"
   ]
  },
  {
   "cell_type": "code",
   "execution_count": 5,
   "id": "7d79b989-26a7-4a5b-a219-20c269be48bc",
   "metadata": {},
   "outputs": [],
   "source": [
    "draw_board(bg)"
   ]
  },
  {
   "cell_type": "code",
   "execution_count": 6,
   "id": "3abfb7f3-ee2b-40aa-9dcd-748910c8c399",
   "metadata": {},
   "outputs": [],
   "source": [
    "fg.clear()\n",
    "out.clear_output()"
   ]
  },
  {
   "cell_type": "markdown",
   "id": "6d956581-a0a3-41c8-addc-fa5d35faf907",
   "metadata": {},
   "source": [
    "### M&uuml;hle, Skizze\n",
    "Die Spielposition ist z.B. eine Tabelle mit 3 Zielen und 9 Spalten und Eintr&auml;gen `X`, `O` oder `None`.\n",
    "```python\n",
    "[[None, None, None, None, None, None, None, None, None],\n",
    " [None, None, None, None, None, None, None, None, None],\n",
    " [None, None, None, None, None, None, None, None, None],\n",
    "]\n",
    "```\n",
    "\n",
    "Man kann von `(r,i)` nach  `(s,j)` ziehen, falls\n",
    "- `r == s and abs(i - j) in (1, 7)` (benachbart im gleichen Ring)\n",
    "- `abs(r - s) == 1 and i == j and i % 2 == 1` (benachbart auf Verbindung zw. Ringen)\n",
    "\n",
    "Auf M&uuml;hle testen:  \n",
    "Alle m&ouml;glichen M&uuml;hlen (Liste von 3 Feldern in einer Reihe)\n",
    "als Liste abspeichern.\n",
    "```python\n",
    "muehlen = [[(0, 0), (0, 1), (0, 2)],\n",
    "           [(0, 2), (0, 3), (0, 4)],\n",
    "           ...\n",
    "          ] \n",
    "\n",
    "def is_muehle(pos):\n",
    "    '''gibt True zurueck, falls der Stein an Position pos \n",
    "       zu einer Muehle gehoert\n",
    "    '''\n",
    "    # finde die Muehle, die (r, i) enthaelt\n",
    "    # teste, ob alle Steine in dieser Muehle dem gleichen Spieler gehoeren\n",
    "```\n",
    "Ev. weitere n&uuml;tzliche Funktionen:\n",
    "```python\n",
    "\n",
    "def cannot_move(player):\n",
    "    '''teste, ob ein Spieler eingeschlossen ist,\n",
    "       ob alle Steine des Spielers blockiert sind\n",
    "    '''\n",
    "    pass\n",
    "\n",
    "def is_blocked(pos):\n",
    "    ''' testet, ob der Stein an Position pos blockiert ist'''\n",
    "    neighbors = get_neighbors(pos)\n",
    "    # teste ob alle Felder in neighbors besetzt sind\n",
    "    \n",
    "def get_neighbors(pos):\n",
    "    '''Finde alle Nachbarn der Position pos'''\n",
    "    pass\n",
    "\n",
    "def are_are_neighbors(pos1, pos2):\n",
    "    '''testet, ob man von pos1 nach pos2 ziehen kann'''\n",
    "    pass\n",
    "```    "
   ]
  },
  {
   "cell_type": "markdown",
   "id": "38a62510-d896-43c0-ac4a-854be811b9e4",
   "metadata": {},
   "source": [
    "### Grobe Skizze einer Game Klasse"
   ]
  },
  {
   "cell_type": "code",
   "execution_count": 43,
   "id": "6bd24d06-3cbf-4b07-989e-0c1dc13a47de",
   "metadata": {},
   "outputs": [],
   "source": [
    "class Game:\n",
    "    def __init__(self):\n",
    "        self.players = {0: 'X', 1: 'O'}\n",
    "        self.position = [[None] * 9 for _ in range(3)]\n",
    "        self.ptm = 0\n",
    "        self.winner = None\n",
    "        \n",
    "    def is_legal(self, r, i, player):\n",
    "        if player != self.ptm:\n",
    "            return False\n",
    "        \n",
    "        return self.position[r][i] is None\n",
    "        \n",
    "    def move(self, r, i, player):\n",
    "        if not self.is_legal(r, i, player):\n",
    "            return\n",
    "        \n",
    "        self.position[r][i] = self.players[player]\n",
    "        \n",
    "        # teste ob Muehle, falls, ja bleibt Spieler am Zug und \n",
    "        # als weiterer Zug einen Stein des Gegners entfernen\n",
    "        \n",
    "        # teste ob ein Spieler gewonnen hat und das Spiel endet\n",
    "        if self.is_winner(player):\n",
    "            self.winner = player\n",
    "            self.ptm = None\n",
    "            return\n",
    "        \n",
    "        self.ptm = 1 - self.ptm   \n",
    "        \n",
    "    def is_winner(self, player):\n",
    "        '''teste ob Gegener nicht ziehen kann oder,\n",
    "           falls Setzphase abgeschlossen, weniger als 3 Steine hat\n",
    "        '''   \n",
    "        pass\n",
    "    \n",
    "    def position2str(self):\n",
    "        rows = [None for _ in range(7)]\n",
    "        rings = [''.join(char or '.' for char in ring) for ring in self.position]\n",
    "        ring0, ring1, ring2 = rings\n",
    "\n",
    "        rows[0] = '{}  {}  {}'.format(*ring2[6:3:-1])\n",
    "        rows[1] = ' {} {} {} '.format(*ring1[6:3:-1])\n",
    "        rows[2] = '  {}{}{}  '.format(*ring0[6:3:-1])\n",
    "        \n",
    "        rows[3] = '{}{}{} {}{}{}'.format(ring2[7], ring1[7], ring0[7], \n",
    "                                         ring0[3], ring1[3], ring2[3]\n",
    "                                        )\n",
    "        \n",
    "        rows[4] = '  {}{}{}  '.format(*ring0[:3])\n",
    "        rows[5] = ' {} {} {} '.format(*ring1[:3])\n",
    "        rows[6] = '{}  {}  {}'.format(*ring2[:3])\n",
    "    \n",
    "        return '\\n'.join(rows)   \n",
    "    \n",
    "    def __repr__(self):\n",
    "        return 'Am Zug: {}\\nWinner: {}\\n{}'.\\\n",
    "                format(self.players.get(self.ptm),\n",
    "                       self.players.get(self.winner),\n",
    "                       self.position2str(),\n",
    "                      )"
   ]
  },
  {
   "cell_type": "code",
   "execution_count": 46,
   "id": "2ec77377-8702-4c39-aabd-9c09923711bb",
   "metadata": {},
   "outputs": [
    {
     "data": {
      "text/plain": [
       "Am Zug: X\n",
       "Winner: None\n",
       ".  .  .\n",
       " . . . \n",
       "  ...  \n",
       "... ...\n",
       "  ...  \n",
       " . . . \n",
       ".  .  ."
      ]
     },
     "execution_count": 46,
     "metadata": {},
     "output_type": "execute_result"
    }
   ],
   "source": [
    "game = Game()\n",
    "game"
   ]
  },
  {
   "cell_type": "code",
   "execution_count": 48,
   "id": "69a8a7a1-5148-43e6-8d54-60a21945e45e",
   "metadata": {},
   "outputs": [
    {
     "data": {
      "text/plain": [
       "Am Zug: O\n",
       "Winner: None\n",
       ".  .  X\n",
       " . O . \n",
       "  ...  \n",
       "... .O.\n",
       "  ...  \n",
       " . O . \n",
       "X  X  X"
      ]
     },
     "execution_count": 48,
     "metadata": {},
     "output_type": "execute_result"
    }
   ],
   "source": [
    "game.move(2, 0, 0)\n",
    "game"
   ]
  },
  {
   "cell_type": "code",
   "execution_count": 47,
   "id": "2318adfa-8956-4444-9866-5080e4a48f0e",
   "metadata": {},
   "outputs": [
    {
     "data": {
      "text/plain": [
       "Am Zug: O\n",
       "Winner: None\n",
       ".  .  X\n",
       " . O . \n",
       "  ...  \n",
       "... .O.\n",
       "  ...  \n",
       " . O . \n",
       "X  X  X"
      ]
     },
     "execution_count": 47,
     "metadata": {},
     "output_type": "execute_result"
    }
   ],
   "source": [
    "game = Game()\n",
    "\n",
    "moves = [(2, 0), (1, 1), (2, 4), (1, 3), (2, 2), (1, 5), (2, 1)]\n",
    "for j, (r, i) in enumerate(moves):\n",
    "    player = j % 2\n",
    "    game.move(r, i, player)\n",
    "game"
   ]
  },
  {
   "cell_type": "code",
   "execution_count": null,
   "id": "53d912ae-89f0-46cb-8061-6fcc2c298718",
   "metadata": {},
   "outputs": [],
   "source": []
  },
  {
   "cell_type": "code",
   "execution_count": null,
   "id": "a4fdda0e-13fc-4d12-9334-a85c6d00e822",
   "metadata": {},
   "outputs": [],
   "source": []
  }
 ],
 "metadata": {
  "kernelspec": {
   "display_name": "Python 3 (ipykernel)",
   "language": "python",
   "name": "python3"
  },
  "language_info": {
   "codemirror_mode": {
    "name": "ipython",
    "version": 3
   },
   "file_extension": ".py",
   "mimetype": "text/x-python",
   "name": "python",
   "nbconvert_exporter": "python",
   "pygments_lexer": "ipython3",
   "version": "3.12.0"
  }
 },
 "nbformat": 4,
 "nbformat_minor": 5
}
