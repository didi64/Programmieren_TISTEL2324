{
 "cells": [
  {
   "cell_type": "markdown",
   "id": "5921f97b-5565-424a-a105-ce2ae2c53bef",
   "metadata": {},
   "source": [
    "### Pong, Skizze"
   ]
  },
  {
   "cell_type": "code",
   "execution_count": null,
   "id": "0e443f48-848c-432b-bf81-d19d1b3b87cc",
   "metadata": {},
   "outputs": [],
   "source": [
    "import asyncio, threading\n",
    "from ipycanvas import MultiCanvas\n",
    "from pong_helpers import move_bar, move_ball, pts_on_circle"
   ]
  },
  {
   "cell_type": "code",
   "execution_count": null,
   "id": "ec531778-2e2a-45bb-8d7f-fb734d37342e",
   "metadata": {},
   "outputs": [],
   "source": [
    "# Angaben zu Ball und un Bar\n",
    "N = 200\n",
    "SIZE = 200\n",
    "game = {'running': True,\n",
    "        'fps': 2,\n",
    "        'pts': pts_on_circle(N, 0.8 * SIZE/2, 0.9 * SIZE/2),\n",
    "        'N': N,\n",
    "        'bar': [50, 100, 50, 10],\n",
    "        'bar_speed': 3,\n",
    "        'bar_dir': 1, \n",
    "        'ball_idx': 0,\n",
    "        'ball_speed': 1,\n",
    "        'ball_dir': 1,\n",
    "        'ball_r': 3,\n",
    "        }"
   ]
  },
  {
   "cell_type": "code",
   "execution_count": null,
   "id": "8eeea702-6eee-4421-b167-5f21bd7b7dc5",
   "metadata": {},
   "outputs": [],
   "source": [
    "# Tastensteuerung\n",
    "def on_key_down(game, key, *flags):\n",
    "    if key == 'ArrowRight':\n",
    "        game['bar_dir'] = 1\n",
    "    elif key == 'ArrowLeft':\n",
    "        game['bar_dir'] = -1\n",
    "    elif key == 'ArrowDown':  \n",
    "        game['fps'] = max(1, game['fps'] - 5)\n",
    "    elif key == 'ArrowUp':\n",
    "        game['fps']  += 5\n",
    "    elif key == ' ':\n",
    "        game['running'] = False"
   ]
  },
  {
   "cell_type": "code",
   "execution_count": null,
   "id": "a27be7d7-eeea-4cf4-b0ac-12723b5a4973",
   "metadata": {},
   "outputs": [],
   "source": [
    "# Thread Variante\n",
    "def start_loop_thread(game, bg, fg):  \n",
    "    if game['running']:\n",
    "        move_bar(game, bg)\n",
    "        move_ball(game, fg)\n",
    "        delay = 1/game['fps']\n",
    "        t = threading.Timer(delay, start_loop_thread, args=[game, bg, fg])\n",
    "        t.start()"
   ]
  },
  {
   "cell_type": "code",
   "execution_count": null,
   "id": "fbae0d3c-911b-47b6-bf98-15b23544d91f",
   "metadata": {},
   "outputs": [],
   "source": [
    "# async Variante\n",
    "async def update_async(game, bg, fg):  \n",
    "    while game['running']:\n",
    "        move_bar(game, bg)\n",
    "        move_ball(game, fg)\n",
    "        delay = 1/game['fps']\n",
    "        await asyncio.sleep(delay)\n",
    "        \n",
    "def start_loop_async(game, bg, fg):\n",
    "    loop = asyncio.get_event_loop()\n",
    "    task = loop.create_task(update_async(game, bg, fg))\n",
    "    loop.call_soon_threadsafe(asyncio.ensure_future, task)\n",
    "    return task"
   ]
  },
  {
   "cell_type": "code",
   "execution_count": null,
   "id": "526f46f7-202d-46ae-8ea3-fca1b96117c2",
   "metadata": {},
   "outputs": [],
   "source": [
    "# Canvas\n",
    "mcanvas = MultiCanvas(2, width = 200, height = 200, \n",
    "                layout = {'border' : '1px solid black'},\n",
    "               )\n",
    "bg, fg = mcanvas\n",
    "fg.fill_style = 'red'\n",
    "\n",
    "mcanvas.on_key_down(lambda key,*flags:on_key_down(game, key, *flags))\n",
    "# draw bar\n",
    "bg.fill_rect(*game['bar'])\n",
    "# draw_ball\n",
    "pt = game['pts'][game['ball_idx']]\n",
    "fg.fill_circle(*pt, 3)\n",
    "mcanvas"
   ]
  },
  {
   "cell_type": "code",
   "execution_count": null,
   "id": "fba3e459-2dd4-49fb-80d6-bac5e9db424d",
   "metadata": {},
   "outputs": [],
   "source": [
    "move_bar(game, bg)\n",
    "move_ball(game, fg)"
   ]
  },
  {
   "cell_type": "code",
   "execution_count": null,
   "id": "0264e4a1-d297-4702-a7d4-ee53f08527bc",
   "metadata": {},
   "outputs": [],
   "source": [
    "# Async Variante\n",
    "game['running'] = True\n",
    "task = start_loop_async(game, bg, fg)\n",
    "task"
   ]
  },
  {
   "cell_type": "code",
   "execution_count": null,
   "id": "e7489c4a-ffa7-4e16-b983-aa6e98d32a97",
   "metadata": {},
   "outputs": [],
   "source": [
    "# kann auch so loop stoppen\n",
    "task.cancel()"
   ]
  },
  {
   "cell_type": "code",
   "execution_count": null,
   "id": "8be08645-f10a-4937-960f-ae001e1956b7",
   "metadata": {},
   "outputs": [],
   "source": [
    "# Thread Variante\n",
    "game['running'] = True\n",
    "start_loop_tread(game, bg, fg)"
   ]
  },
  {
   "cell_type": "code",
   "execution_count": null,
   "id": "fcb3cf3e-0065-4740-92de-7e8b6848419d",
   "metadata": {},
   "outputs": [],
   "source": [
    "game['running'] = False"
   ]
  },
  {
   "cell_type": "code",
   "execution_count": null,
   "id": "542e8246-d563-48a0-9a09-90a8576fcede",
   "metadata": {},
   "outputs": [],
   "source": []
  },
  {
   "cell_type": "code",
   "execution_count": null,
   "id": "df63e27a-a0e4-423c-8a6d-b6d5e855e37b",
   "metadata": {},
   "outputs": [],
   "source": []
  }
 ],
 "metadata": {
  "kernelspec": {
   "display_name": "Python 3 (ipykernel)",
   "language": "python",
   "name": "python3"
  },
  "language_info": {
   "codemirror_mode": {
    "name": "ipython",
    "version": 3
   },
   "file_extension": ".py",
   "mimetype": "text/x-python",
   "name": "python",
   "nbconvert_exporter": "python",
   "pygments_lexer": "ipython3",
   "version": "3.12.0"
  }
 },
 "nbformat": 4,
 "nbformat_minor": 5
}
