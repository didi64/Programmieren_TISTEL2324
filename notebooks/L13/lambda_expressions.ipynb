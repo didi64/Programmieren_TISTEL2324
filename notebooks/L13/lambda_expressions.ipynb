{
 "cells": [
  {
   "cell_type": "markdown",
   "id": "b859460e-e6ee-498f-be1e-3b556da7b75a",
   "metadata": {
    "tags": []
   },
   "source": [
    "### Lambda-Funktionen (von [$\\lambda$-Calculus](https://en.wikipedia.org/wiki/Lambda_calculus))  \n",
    "(siehe auch [hier](https://www.w3schools.com/python/python_lambda.asp)). \n",
    "Ein Lambda-Ausdruck definiert auf kompakte Weise eine Funktion.  \n",
    "`f = lambda <Argumente>: <Ausdruck>` ist die Kurzform von\n",
    "\n",
    "```python\n",
    "def fun(<Argumente>):\n",
    "    return <Ausdruck>\n",
    "\n",
    "f = fun\n",
    "```\n",
    "Eine Funktionsdefinition der Form `def f(): ...` ist eine **Anweisung**.  \n",
    "Ein Lambda-Ausdruck wie `lambda x:x[1]` ist ein **Ausdruck** und kann z.B. einer Funktion als Argument &uuml;bergeben werden.  \n",
    "**Beachte**: `x = 3` und `if x > 2: print('too big')` sind  **Anweisungen**, keine **Ausdr&uuml;cke**, und\n",
    "sind in Lambda-Ausdr&uuml;cken nicht erlaubt."
   ]
  },
  {
   "cell_type": "markdown",
   "id": "fa6d1389-be5c-4793-b292-9c945e5ad23f",
   "metadata": {},
   "source": [
    "### Erste Beispiele"
   ]
  },
  {
   "cell_type": "code",
   "execution_count": 26,
   "id": "42d1ba6b-ec0d-4999-8637-952d64a17c80",
   "metadata": {},
   "outputs": [],
   "source": [
    "# Argument wird an print weitergereicht\n",
    "print_word = lambda word: print(word)\n",
    "\n",
    "# Argument wird modifiziert und an print weitergereicht\n",
    "say_hello = lambda x: print('Hello {}'.format(x))\n",
    "\n",
    "# Argumente werden an print weitergereicht, ebenso zusaetliche Argumente\n",
    "myprint = lambda *args: print(*args, sep=', ', end=', ')"
   ]
  },
  {
   "cell_type": "code",
   "execution_count": null,
   "id": "9dd7e581-5339-425d-8ee1-757a29c772fb",
   "metadata": {},
   "outputs": [],
   "source": [
    "print_word('Test')\n",
    "say_hello('Bob')"
   ]
  },
  {
   "cell_type": "code",
   "execution_count": null,
   "id": "35300231-335e-42ab-a797-f5821662adcd",
   "metadata": {},
   "outputs": [],
   "source": [
    "myprint(1, 2, 3)\n",
    "myprint(4, 5, 6)"
   ]
  },
  {
   "cell_type": "markdown",
   "id": "c5615844-4e91-4d9e-bd99-ec378598913c",
   "metadata": {},
   "source": [
    "### Lambda-Ausdruck als Callback"
   ]
  },
  {
   "cell_type": "code",
   "execution_count": null,
   "id": "ec1c151f-d86f-4043-9235-82e26e6a5b11",
   "metadata": {},
   "outputs": [],
   "source": [
    "pairs = list(zip('ABCDE', range(5,0,-1)))\n",
    "pairs         "
   ]
  },
  {
   "cell_type": "code",
   "execution_count": null,
   "id": "a4703d1c-183b-40ae-adac-7809d3540f7c",
   "metadata": {},
   "outputs": [],
   "source": [
    "# pairs aufsteigend nach Zahl sortieren\n",
    "sorted(pairs, key=lambda x:x[1])"
   ]
  },
  {
   "cell_type": "code",
   "execution_count": null,
   "id": "dd3cfd15-335c-451d-8ee4-1d1a009de8bf",
   "metadata": {},
   "outputs": [],
   "source": [
    "def modify_lst(lst, modifier=lambda x:x):\n",
    "    '''wendet die Funktion auf jedes Listenelement an\n",
    "       gibt neue Liste zurueck\n",
    "    '''   \n",
    "    return [modifier(item) for item in lst]"
   ]
  },
  {
   "cell_type": "code",
   "execution_count": null,
   "id": "b8ac0a72-c6f5-4ca3-a3bc-8fd9f336a051",
   "metadata": {},
   "outputs": [],
   "source": [
    "students = [('john', 'A.', 2000), ('jane', 'B.', 2001), ('dave', 'C.', 1999)]"
   ]
  },
  {
   "cell_type": "code",
   "execution_count": null,
   "id": "e016eda7-7cdf-43c8-a892-ac564f2a329c",
   "metadata": {},
   "outputs": [],
   "source": [
    "modify_lst(students, lambda x:(x[0].capitalize(),) + x[1:])"
   ]
  },
  {
   "cell_type": "markdown",
   "id": "8260b565-3dbb-48a5-877f-11a1f8fc6519",
   "metadata": {},
   "source": [
    "**Bemerkung**:  \n",
    "Python's built-in Funktion [map](https://docs.python.org/3/library/functions.html#map) macht im Wesentlichen das Gleiche wie `modify_iterable`, nur das anstelle einer Liste ein Iterator zur&uuml;ckgebegen wird (ein Objekt wie `range`  &uuml;ber das man iterieren, oder das man z.B. in eine Liste umwandeln kann."
   ]
  },
  {
   "cell_type": "code",
   "execution_count": null,
   "id": "7933e12f-04bc-4211-b0c1-f18cd472aa99",
   "metadata": {},
   "outputs": [],
   "source": [
    "list(map(lambda x:(x[0].capitalize(),) + x[1:], students))"
   ]
  },
  {
   "cell_type": "markdown",
   "id": "60fb5a88-84cc-4f27-8520-da4ae5b53d2e",
   "metadata": {},
   "source": [
    "## Nur auf den ersten Blick &uuml;berrachend  \n",
    "Wir wollen eine Liste mit Funktionen erzeugen. \n",
    "Die erste Funktion soll 0 ausgeben, die zweite 1, u.s.w."
   ]
  },
  {
   "cell_type": "code",
   "execution_count": null,
   "id": "4fa90b63-da93-4f07-ab4c-88408f99f3ba",
   "metadata": {},
   "outputs": [],
   "source": [
    "funs_0 = []\n",
    "for i in range(3):\n",
    "    f = lambda: print(i, end=', ')\n",
    "    funs_0.append(f)"
   ]
  },
  {
   "cell_type": "code",
   "execution_count": null,
   "id": "401cdd72-aa13-42dd-a464-e8f208e57eed",
   "metadata": {},
   "outputs": [],
   "source": [
    "# Was wird ausgegeben? Wieso nicht 0, 1, 2,?\n",
    "for f in funs_0:\n",
    "    f()"
   ]
  },
  {
   "cell_type": "markdown",
   "id": "dd333cd7-baab-4ee0-8d4f-9d8cd2c6630c",
   "metadata": {},
   "source": [
    "Jede der Funktionen in `funs_0` gibt die globale Variable `i` aus.  \n",
    "Diese hat im Moment den Wert `2`.  "
   ]
  },
  {
   "cell_type": "code",
   "execution_count": null,
   "id": "0a10a0bb-34d1-412c-9130-57ddf604a5bc",
   "metadata": {},
   "outputs": [],
   "source": [
    "i = 10 # Nun geben die Funktion in funs_0 10 aus\n",
    "for f in funs_0:\n",
    "    f()"
   ]
  },
  {
   "cell_type": "markdown",
   "id": "26b58734-ac80-4f83-a397-65dbcc283390",
   "metadata": {},
   "source": [
    "Um den gew&uuml;schten Effekt zu erzielen, geben wir jeder Funktion ein eigenes Default-Argument:"
   ]
  },
  {
   "cell_type": "code",
   "execution_count": null,
   "id": "85a28cb8-bdef-42a1-9e5d-8d88202f1a72",
   "metadata": {},
   "outputs": [],
   "source": [
    "funs_1 = []\n",
    "for i in range(3):\n",
    "    # f ist eine Funktion mit einem Default-Argument x\n",
    "    # dem Default-Argument x wird der momentane Wert von i zugewiesen\n",
    "    f = lambda x=i: print(x, end=', ')\n",
    "    funs_1.append(f)"
   ]
  },
  {
   "cell_type": "code",
   "execution_count": null,
   "id": "7c78f82e-e0a9-42cb-9f60-455977f17999",
   "metadata": {},
   "outputs": [],
   "source": [
    "for f in funs_1:\n",
    "    f()"
   ]
  },
  {
   "cell_type": "markdown",
   "id": "fbfee9b3-48e8-4646-9a17-cb93227ddec4",
   "metadata": {},
   "source": [
    "***\n",
    "Ein &auml;hnliches Verhalten stellt sich ein, wenn die Funktionen mit List-Comprehension definiert werden.\n",
    "***"
   ]
  },
  {
   "cell_type": "code",
   "execution_count": null,
   "id": "232cbd51-ea8d-40f2-acb3-87f69bc24912",
   "metadata": {},
   "outputs": [],
   "source": [
    "funs_2 = [lambda: print(i, end = ', ') for i in range(3)]\n",
    "for f in funs_2:\n",
    "    f()"
   ]
  },
  {
   "cell_type": "code",
   "execution_count": null,
   "id": "3def38e4-ea4d-4178-aacf-b810f89e86e3",
   "metadata": {},
   "outputs": [],
   "source": [
    "funs_2 = [lambda x=i: print(x, end = ', ') for i in range(3)]\n",
    "for f in funs_2:\n",
    "    f()"
   ]
  },
  {
   "cell_type": "code",
   "execution_count": null,
   "id": "4b144202-c34c-4ffd-9d97-6714b2e87de0",
   "metadata": {},
   "outputs": [],
   "source": [
    "# das Default-Argument kann auch wieder i genannt werden\n",
    "funs_3 = [lambda i=i: print(i, end = ', ') for i in range(3)]\n",
    "for f in funs_3:\n",
    "    f()"
   ]
  },
  {
   "cell_type": "code",
   "execution_count": null,
   "id": "f8231ea1-5ac2-4812-a168-11f041541049",
   "metadata": {},
   "outputs": [],
   "source": [
    "for f in funs_2:\n",
    "    f()"
   ]
  },
  {
   "cell_type": "code",
   "execution_count": null,
   "id": "bc0090d4-3ede-4ea1-b148-9e709fdfcf58",
   "metadata": {},
   "outputs": [],
   "source": [
    "from ipywidgets import Output, Select"
   ]
  },
  {
   "cell_type": "code",
   "execution_count": null,
   "id": "66d58c41-dc77-4b7c-a4ce-4c4b160654a5",
   "metadata": {},
   "outputs": [],
   "source": [
    "def f(change):\n",
    "    out.clear_output()\n",
    "    with out:\n",
    "        print('old value: {}, new value: {}'.format(change.old, change.new))"
   ]
  },
  {
   "cell_type": "code",
   "execution_count": null,
   "id": "6f543e32-c32d-46c2-b5f2-46e65ba418a5",
   "metadata": {},
   "outputs": [],
   "source": [
    "out = Output(layout={'border': '1px solid black'})\n",
    "select = Select(options=('A', 'B', 'C'))\n",
    "select.observe(f, names='value')\n",
    "display(select, out)"
   ]
  },
  {
   "cell_type": "code",
   "execution_count": null,
   "id": "af1ee392-9ecc-4a2b-ada8-1a78028944e9",
   "metadata": {},
   "outputs": [],
   "source": []
  },
  {
   "cell_type": "code",
   "execution_count": null,
   "id": "2ac9a3a2-71b9-4ffd-849c-bf36b82bc65f",
   "metadata": {},
   "outputs": [],
   "source": [
    "# Macht obigen Code kaputt. Fehlermeldung wird in LOg-Console geschrieben.\n",
    "# Die globale Variable out wird ueberschreiben\n",
    "# out is nun ein Integer, und Integers haben keine Methode clear_output.\n",
    "out = 0"
   ]
  },
  {
   "cell_type": "code",
   "execution_count": null,
   "id": "0c3fe114-dd78-4227-b56e-18f79390c258",
   "metadata": {},
   "outputs": [],
   "source": [
    "def g(change, out):\n",
    "    out.clear_output()\n",
    "    with out:\n",
    "        print('old value: {}, new value: {}'.format(change.old, change.new))"
   ]
  },
  {
   "cell_type": "code",
   "execution_count": null,
   "id": "0ce77ce4-fe9a-489c-a38c-940dc02ee833",
   "metadata": {},
   "outputs": [],
   "source": [
    "out = Output(layout={'border': '1px solid black'})\n",
    "select = Select(options=('A', 'B', 'C'))\n",
    "# hilft auch nicht\n",
    "select.observe(lambda change:g(change, out), names='value')\n",
    "# besser \n",
    "# select.observe(lambda x, y=out:g(x, y), names='value')\n",
    "# select.observe(lambda change, out=out:g(change, out), names='value')\n",
    "display(select, out)"
   ]
  },
  {
   "cell_type": "code",
   "execution_count": null,
   "id": "fd2dfdc6-796f-48f5-b7a7-158a4cd60ad2",
   "metadata": {},
   "outputs": [],
   "source": [
    "out = 0"
   ]
  },
  {
   "cell_type": "code",
   "execution_count": null,
   "id": "4b0cb455-009e-46fa-9028-7497e7acd866",
   "metadata": {},
   "outputs": [],
   "source": [
    "\n",
    "\n"
   ]
  },
  {
   "cell_type": "markdown",
   "id": "6729029d-3225-40b7-8534-ebde60f3a022",
   "metadata": {},
   "source": [
    "### Aufgabe  \n",
    "Was unterscheidet die Funktionen `append_1` und `append_2`?"
   ]
  },
  {
   "cell_type": "code",
   "execution_count": null,
   "id": "e1632d2a-7b53-4616-a82e-44e47782fd4b",
   "metadata": {},
   "outputs": [],
   "source": [
    "my_list = []\n",
    "my_copy = my_list\n",
    "\n",
    "append_1 = lambda item, l=my_list: l.append(item)\n",
    "append_2 = lambda item : my_list.append(item)"
   ]
  },
  {
   "cell_type": "code",
   "execution_count": null,
   "id": "5827c3d3-e638-46d5-ae03-d525708235ff",
   "metadata": {},
   "outputs": [],
   "source": [
    "my_list = []"
   ]
  },
  {
   "cell_type": "code",
   "execution_count": null,
   "id": "6207b1c1-999a-42e9-b903-87b7fe6c00bd",
   "metadata": {},
   "outputs": [],
   "source": [
    "append_1(1)\n",
    "my_copy"
   ]
  },
  {
   "cell_type": "code",
   "execution_count": null,
   "id": "298c4a24-ff7e-49f5-99c9-a7fdf1b15e13",
   "metadata": {},
   "outputs": [],
   "source": [
    "# Wieso wird my_copy nicht geandert?\n",
    "append_2(2)\n",
    "my_copy"
   ]
  },
  {
   "cell_type": "code",
   "execution_count": null,
   "id": "8c2960be-9980-433e-9011-762a199ae9eb",
   "metadata": {},
   "outputs": [],
   "source": [
    "# Wieso wird my_copy geandert?\n",
    "append_1(3)\n",
    "my_copy"
   ]
  },
  {
   "cell_type": "code",
   "execution_count": null,
   "id": "6eb6e3f4-bcc6-445c-b87f-1c6ed3ff255e",
   "metadata": {},
   "outputs": [],
   "source": []
  },
  {
   "cell_type": "markdown",
   "id": "b6552e1d-90a2-448c-8862-e27bd4d1ddf1",
   "metadata": {
    "jupyter": {
     "source_hidden": true
    },
    "tags": []
   },
   "source": [
    "Die Funktion `append_1` h&auml;ngt ein Element an die Liste `l` an. `l` referenziert die gleiche Liste wie `my_list` **zum Zeitpunkt der Definition** von `append_1`. `my_copy` referenziert ebenfalls diese Liste. \n",
    "`append_1` verl&auml;ngert deshalb die Liste `my_copy`.\n",
    "\n",
    "Die Funktion `append_2`  verl&auml;ngert die List, die **im Moment des Funktionsaufrufs** von `my_list` referenziert wird. `my_list` referenziert mittlerweile eine andere Liste als `my_copy`. \n",
    "Deshalb &auml;ndert `append_2` die Liste `my_copy` nicht."
   ]
  },
  {
   "cell_type": "code",
   "execution_count": null,
   "id": "daef33ee-4d69-40b7-b8be-9bbf80949c87",
   "metadata": {},
   "outputs": [],
   "source": []
  }
 ],
 "metadata": {
  "author": "dieter.probst@gmail.com",
  "kernelspec": {
   "display_name": "Python 3 (ipykernel)",
   "language": "python",
   "name": "python3"
  },
  "language_info": {
   "codemirror_mode": {
    "name": "ipython",
    "version": 3
   },
   "file_extension": ".py",
   "mimetype": "text/x-python",
   "name": "python",
   "nbconvert_exporter": "python",
   "pygments_lexer": "ipython3",
   "version": "3.12.0"
  }
 },
 "nbformat": 4,
 "nbformat_minor": 5
}
