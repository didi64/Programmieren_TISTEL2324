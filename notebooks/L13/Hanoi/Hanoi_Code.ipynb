{
 "cells": [
  {
   "cell_type": "markdown",
   "id": "3d7a4800-85d7-4f21-aede-f4b625399a91",
   "metadata": {},
   "source": [
    "### T&uuml;rme von Hanoi, Code von erster Variante  \n",
    "Hier aller Code einer ersten Variante des Spiels T&uuml;rme von Hanoi.  \n",
    "\n",
    "Der Code besteht aus den 3 Komponenten Game (Spiellogik), View (Spielzustand darstellen) und Controller (Benutzerinput entgegennehmen und weiterleiten).  \n",
    "\n",
    "**Beachte**: Im Moment k&uuml;mmert sich der Controller auch noch um die Darstellung.\n",
    "Nach dem &Uuml;bermitteln eines Kommandos an die Spielkomponente mit\n",
    "`new_game()` bez. `move_disk(src, dst)` ruft er auch noch \n",
    "`draw_stacks(stacks)` auf."
   ]
  },
  {
   "cell_type": "code",
   "execution_count": null,
   "id": "8ba3473f-db31-40b1-8696-7153a29d4b53",
   "metadata": {},
   "outputs": [],
   "source": [
    "# Game-Komponente\n",
    "stacks = [[], [], []]   \n",
    "\n",
    "def new_game():\n",
    "    # Liste stacks modifizieren\n",
    "    stacks[:] = [list(range(4)), [], []]\n",
    "\n",
    "def move_disk(i, j):    \n",
    "    x = stacks[i].pop()\n",
    "    stacks[j].append(x)"
   ]
  },
  {
   "cell_type": "code",
   "execution_count": null,
   "id": "7305b2b1-3513-486c-91e9-bb83a2222f83",
   "metadata": {},
   "outputs": [],
   "source": [
    "# View-Komponente\n",
    "canvas_width = 300\n",
    "canvas_height = 100\n",
    "positions = [50, 150, 250]\n",
    "disk_widths = [90, 70, 50, 30]\n",
    "disk_height = 10\n",
    "stack_width = 100\n",
    "layout = {'border': '1px solid black'}\n",
    "colors = ['#8f5902', '#204a87', '#c4a000', '#f57900'] \n",
    "\n",
    "from ipycanvas import Canvas\n",
    "canvas = Canvas(width = canvas_width, height = canvas_height, layout=layout)\n",
    "\n",
    "def draw_stack(stack, x):\n",
    "    canvas.clear_rect(x - stack_width/2, 0, stack_width, canvas_height)\n",
    "    for i, disk in enumerate(stack):\n",
    "        canvas.fill_style = colors[disk]\n",
    "        w = disk_widths[disk]\n",
    "        h = disk_height\n",
    "        canvas.fill_rect(x - w/2, canvas_height-(i+1)*h, w, h)\n",
    "        \n",
    "def draw_stacks(stacks):\n",
    "    for x, stack in zip(positions, stacks):\n",
    "        draw_stack(stack, x)"
   ]
  },
  {
   "cell_type": "code",
   "execution_count": null,
   "id": "caca8e35-2e9b-43ff-a300-c89ac1baa3b2",
   "metadata": {},
   "outputs": [],
   "source": [
    "# Controller-Komponente\n",
    "src = None\n",
    "\n",
    "def on_key_down(key, *flags):\n",
    "    global src\n",
    "  \n",
    "    if key in '123' and src is None:\n",
    "        src = int(key) - 1\n",
    "    elif key in '123' and src is not None:\n",
    "        dst = int(key) - 1\n",
    "        move_disk(src, dst)\n",
    "        draw_stacks(stacks)\n",
    "        src = None\n",
    "    elif key == 'n':\n",
    "        new_game()\n",
    "        draw_stacks(stacks)\n",
    "        src = None    \n",
    "    else:\n",
    "        src = None        "
   ]
  },
  {
   "cell_type": "code",
   "execution_count": null,
   "id": "ff176b10-f4a0-4296-96a0-40904d5572e4",
   "metadata": {},
   "outputs": [],
   "source": [
    "# Callback registrieren und Canvas anzeigen\n",
    "canvas.on_key_down(on_key_down)\n",
    "canvas"
   ]
  },
  {
   "cell_type": "code",
   "execution_count": null,
   "id": "6a9019e7-a7e7-42c0-80ba-b545a96fd817",
   "metadata": {},
   "outputs": [],
   "source": []
  }
 ],
 "metadata": {
  "kernelspec": {
   "display_name": "Python 3 (ipykernel)",
   "language": "python",
   "name": "python3"
  },
  "language_info": {
   "codemirror_mode": {
    "name": "ipython",
    "version": 3
   },
   "file_extension": ".py",
   "mimetype": "text/x-python",
   "name": "python",
   "nbconvert_exporter": "python",
   "pygments_lexer": "ipython3",
   "version": "3.12.0"
  }
 },
 "nbformat": 4,
 "nbformat_minor": 5
}
