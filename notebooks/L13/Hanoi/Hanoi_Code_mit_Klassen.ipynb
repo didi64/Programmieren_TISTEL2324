{
 "cells": [
  {
   "cell_type": "markdown",
   "id": "f46198c7-a221-4a5f-beba-7309140e4f9e",
   "metadata": {},
   "source": [
    "### T&uuml;rme von Hanoi mit Klassen  \n",
    "Die Komponenten Game, View und Controller sind nun als Klassen implementiert.\n",
    "\n",
    "- Die Klasse `Game` implementiert u.a. die Methoden\n",
    "`new_game`, `move_disk` und `register_callback` und jede Instanz der Klasse Game hat die Attribute `stacks` und `_callbacks`.  \n",
    "Das f&uuml;hrende `_` des Variabelnamen deutet an, dass `_callbacks` eine private Variable ist, und nur innerhalb der Klasse `Game` angeprochen werden sollte.\n",
    "\n",
    "- Die Klasse `View` implementiert u.a. die Methode `draw_stacks`, welche den Spielzustand auf der Leinwand darstellt. Die Methode `_ipython_display_` wird von Jupyterlab ausgef&uuml;hrt wenn `display(view)` aufgerufen wird .\n",
    "\n",
    "- Die Klasse `Controller` benutzt das Canvas-Widget einer `View`-Instanz um Tastendr&uuml;cke entgegenzunehmen, zu interpretieren und entsprechende Kommandos das Instanz-Attribut `game` zu schicken.\n",
    " \n",
    "Eine Controller-Instanz `Controller(game, canvas)`\n",
    "nutzt die Canvas der View um Tastaturinput entgegenzunehmen.\n",
    "Je nach Input wird dann `game.new_game()` oder `game.move_disk(src, dst)` aufgerufen.\n",
    "Nach getaner Arbeit rufen dann `new_game` bez. `move_disk` das von der View registrierte Callback auf, was zur Darstellung des Spielzustandes führt.\n",
    "\n",
    "**To do**:  \n",
    "Schreibe eine Hilfsmethode `is_legal(i, j)`, die `True` zur&uuml;ck gibt, falls die Verschiebung m&ouml;glich und regelkonform ist. `move_disk(i, j)` soll dann nur Etwas tun, falls `is_legal(i, j)` `True` liefert."
   ]
  },
  {
   "cell_type": "code",
   "execution_count": null,
   "id": "f55bce78-6d2c-4b87-9a05-bae677c672d5",
   "metadata": {},
   "outputs": [],
   "source": [
    "#%%file game.py\n",
    "class Game:\n",
    "    def __init__(self):\n",
    "        self.stacks = []\n",
    "        self._callbacks = []\n",
    "    \n",
    "    def register_callback(self, callback):\n",
    "        if callback not in self._callbacks:\n",
    "            self._callbacks.append(callback)\n",
    "            \n",
    "    def new_game(self):\n",
    "        self.stacks[:] = [list(range(4)), [], []]\n",
    "        self._notify('new_game', self.stacks)\n",
    "        \n",
    "    def move_disk(self, i, j):   \n",
    "        if self._is_legal(i, j):\n",
    "            x = self.stacks[i].pop()\n",
    "            self.stacks[j].append(x)\n",
    "            self._notify('move_disk', self.stacks)\n",
    "            \n",
    "    def _is_legal(self, i,j):\n",
    "        '''sollte testen, ob Verschiebung moeglich und regelkonform'''\n",
    "        return True        \n",
    "            \n",
    "    def _notify(self, event, data):\n",
    "        for f in self._callbacks:\n",
    "            f(event, data)"
   ]
  },
  {
   "cell_type": "code",
   "execution_count": null,
   "id": "0c7818a7-5e7b-4053-9f30-becfc8cecf0d",
   "metadata": {},
   "outputs": [],
   "source": [
    "# a first callback\n",
    "f = lambda event, data: print('Event: {}\\nData: {}'.format(event, data))\n",
    "f('test', 1)"
   ]
  },
  {
   "cell_type": "code",
   "execution_count": null,
   "id": "40b54e4a-2fa6-40af-9d74-e7a65f362f97",
   "metadata": {},
   "outputs": [],
   "source": [
    "game = Game()"
   ]
  },
  {
   "cell_type": "code",
   "execution_count": null,
   "id": "242edf1a-7b86-4027-9afc-93fce932ccbe",
   "metadata": {},
   "outputs": [],
   "source": [
    "# wirf mit <tab> einen BLick auf die oeffentilchen Attribute des Objektes game\n",
    "game."
   ]
  },
  {
   "cell_type": "code",
   "execution_count": null,
   "id": "d559b9f9-3f66-4065-b3f3-af8cc4a102d3",
   "metadata": {},
   "outputs": [],
   "source": [
    "game = Game()\n",
    "game.register_callback(f)\n",
    "game.new_game()"
   ]
  },
  {
   "cell_type": "code",
   "execution_count": null,
   "id": "f91b201c-73ac-4cac-bd29-dc14bbef0528",
   "metadata": {},
   "outputs": [],
   "source": [
    "game.move_disk(0,1)"
   ]
  },
  {
   "cell_type": "code",
   "execution_count": null,
   "id": "0f1b3677-18e5-4bc9-a5e8-2e16ee260128",
   "metadata": {},
   "outputs": [],
   "source": [
    "#%%file view.py\n",
    "class View:\n",
    "    from ipycanvas import Canvas\n",
    "    \n",
    "    positions = [50, 150, 250]\n",
    "    disk_widths = [90, 70, 50, 30]\n",
    "    disk_height = 10\n",
    "    stack_width = 100\n",
    "    colors = ['#8f5902', '#204a87', '#c4a000', '#f57900'] \n",
    "    \n",
    "    def __init__(self, game):\n",
    "        game.register_callback(self.callback)\n",
    "        self.canvas = View.Canvas(width = 300, height = 100, layout={'border': '1px solid black'})\n",
    "        \n",
    "    def draw_stack(self, stack, x):\n",
    "        self.canvas.clear_rect(x - self.stack_width/2, 0, self.stack_width, self.canvas.height)\n",
    "        h = self.disk_height\n",
    "        for i, disk in enumerate(stack):\n",
    "            self.canvas.fill_style = self.colors[disk]\n",
    "            w = self.disk_widths[disk]\n",
    "            self.canvas.fill_rect(x - w/2, self.canvas.height-(i+1)*h, w, h)\n",
    "        \n",
    "    def draw_stacks(self, stacks):\n",
    "        for x, stack in zip(self.positions, stacks):\n",
    "            self.draw_stack(stack, x)    \n",
    "     \n",
    "    def callback(self, event, data):\n",
    "        self.draw_stacks(data)\n",
    "        \n",
    "    def _ipython_display_(self):\n",
    "        display(self.canvas)"
   ]
  },
  {
   "cell_type": "code",
   "execution_count": null,
   "id": "17e241fb-0f91-4a20-8643-31293d592e80",
   "metadata": {},
   "outputs": [],
   "source": [
    "view = View(game)\n",
    "view"
   ]
  },
  {
   "cell_type": "code",
   "execution_count": null,
   "id": "db81780b-6310-4ec4-b7cf-f3256732fdc2",
   "metadata": {},
   "outputs": [],
   "source": [
    "game.new_game()"
   ]
  },
  {
   "cell_type": "code",
   "execution_count": null,
   "id": "440ce21b-1bba-4d96-bc12-713cf9499184",
   "metadata": {},
   "outputs": [],
   "source": [
    "game.move_disk(0,2)"
   ]
  },
  {
   "cell_type": "code",
   "execution_count": null,
   "id": "2bc63173-6fe3-413c-a09a-0db6ac4ea830",
   "metadata": {},
   "outputs": [],
   "source": [
    "game._callbacks[-1]"
   ]
  },
  {
   "cell_type": "code",
   "execution_count": null,
   "id": "724353dc-f922-4996-8394-8331445c6131",
   "metadata": {},
   "outputs": [],
   "source": [
    "# Speicheradresse in hex des Objektes view\n",
    "hex(id(view))"
   ]
  },
  {
   "cell_type": "code",
   "execution_count": null,
   "id": "0ec1d16f-3656-4a6c-920c-ce65223eeff3",
   "metadata": {},
   "outputs": [],
   "source": [
    "#%%file controller.py\n",
    "class Controller:\n",
    "    def __init__(self, game, canvas):\n",
    "        canvas.on_key_down(self.on_key_down)\n",
    "        self.game = game\n",
    "        self.src = None\n",
    "\n",
    "    def on_key_down(self, key, *flags):\n",
    "        if key in '123' and self.src is None:\n",
    "            self.src = int(key) - 1\n",
    "        elif key in '123' and self.src is not None:\n",
    "            dst = int(key) - 1\n",
    "            self.game.move_disk(self.src, dst)\n",
    "            self.src = None\n",
    "        elif key == 'n':\n",
    "            self.game.new_game()\n",
    "            self.src = None    \n",
    "        else:\n",
    "            self.src = None"
   ]
  },
  {
   "cell_type": "code",
   "execution_count": null,
   "id": "41a016ab-0524-49ae-b6cb-b21c097cf9f3",
   "metadata": {},
   "outputs": [],
   "source": [
    "# canvas der view hoert nun auf Tastendruecke\n",
    "controller = Controller(game, view.canvas)"
   ]
  },
  {
   "cell_type": "markdown",
   "id": "10d73b38-3e6f-4081-9e5e-1271e7d7003a",
   "metadata": {},
   "source": [
    "### Komponenten in separaten Files speichern\n",
    "Speichere die Klassen `Game`, `View` und `Controller` in separaten Files\n",
    "`game.py`, `view.py` und `controller.py`.  &Ouml;ffne ein neues Notebook.\n",
    "\n",
    "Importiere dort die Klassen Game, View und Controller:\n",
    "```python\n",
    "from game import Game\n",
    "from view import View\n",
    "from controller import Controller\n",
    "\n",
    "```\n",
    "Starte die Applikation mit\n",
    "```python\n",
    "game = Game()\n",
    "view = View(game)\n",
    "controller = Controller(game, view.canvas)\n",
    "\n",
    "display(view)\n",
    "```"
   ]
  },
  {
   "cell_type": "code",
   "execution_count": null,
   "id": "e8c7c251-ef21-4f78-928b-2e1d5e27adf2",
   "metadata": {},
   "outputs": [],
   "source": []
  }
 ],
 "metadata": {
  "kernelspec": {
   "display_name": "Python 3 (ipykernel)",
   "language": "python",
   "name": "python3"
  },
  "language_info": {
   "codemirror_mode": {
    "name": "ipython",
    "version": 3
   },
   "file_extension": ".py",
   "mimetype": "text/x-python",
   "name": "python",
   "nbconvert_exporter": "python",
   "pygments_lexer": "ipython3",
   "version": "3.12.0"
  }
 },
 "nbformat": 4,
 "nbformat_minor": 5
}
