{
 "cells": [
  {
   "cell_type": "markdown",
   "id": "ce872100-2b2d-4317-9028-9c3d3fc748e7",
   "metadata": {
    "tags": []
   },
   "source": [
    "### T&uuml;rme von Hanoi"
   ]
  },
  {
   "cell_type": "code",
   "execution_count": null,
   "id": "a985ad99-2b51-42b6-af12-59239f568d12",
   "metadata": {},
   "outputs": [],
   "source": [
    "%run hanoi"
   ]
  },
  {
   "cell_type": "code",
   "execution_count": null,
   "id": "c843dad4-ae86-42d5-a1f2-1b62d479e6f6",
   "metadata": {},
   "outputs": [],
   "source": []
  }
 ],
 "metadata": {
  "kernelspec": {
   "display_name": "Python 3 (ipykernel)",
   "language": "python",
   "name": "python3"
  },
  "language_info": {
   "codemirror_mode": {
    "name": "ipython",
    "version": 3
   },
   "file_extension": ".py",
   "mimetype": "text/x-python",
   "name": "python",
   "nbconvert_exporter": "python",
   "pygments_lexer": "ipython3",
   "version": "3.12.0"
  }
 },
 "nbformat": 4,
 "nbformat_minor": 5
}
