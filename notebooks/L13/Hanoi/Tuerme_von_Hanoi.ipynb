{
 "cells": [
  {
   "cell_type": "markdown",
   "id": "aa081574-4dde-44ad-a97e-71fa4bbef3d6",
   "metadata": {},
   "source": [
    "### T&uuml;rme von Hanoi\n",
    "Siehe [hier](https://de.wikipedia.org/wiki/T%C3%BCrme_von_Hanoi). \n",
    "Ein Turm, bestehend aus gestapelten Scheiben, soll verschoben werden. Dabei sind folgende Regeln einzuhalten:\n",
    "- Es darf jeweils nur eine Scheibe verschoben werden.\n",
    "- Auf eine Scheibe darf nur eine kleinere Scheibe gelegt werden.\n",
    "- Es d&uuml;rfen max. 3 Stapel vorhanden sein.\n",
    "\n",
    "Wir programmieren vereinfachte, aber ausbauf&auml;hige Varianten diese Spiels.  \n",
    "Wir repr&auml;sentieren  Scheiben als Zahlen (`0,1,...`) und T&uuml;rme als Listen von Zahlen `[0,1,3,...]`. \n",
    "Je gr&ouml;sser die Zahl, desto kleiner die Scheibe, d.h. die Regeln erlauben nur\n",
    "aufsteigend sortierte Listen als Stapel."
   ]
  },
  {
   "cell_type": "markdown",
   "id": "d192ce07-b5e8-46e2-9326-ae5568d78817",
   "metadata": {},
   "source": [
    "***\n",
    "**Variante 1**: Ein Turm mit **4** Scheiben soll verschoben werden. Es werden 3 Scheibenstapel bereitgestellt, sowie eine Funktion `move_disk(i,j)`, die eine Scheibe vom Stapel `i` auf den Stapel `j` verschiebt.  \n",
    "- Das Einhalten der Spielregeln wird nicht gepr&uuml;ft. \n",
    "- Ob es Stapel `i` und `j` gibt, und ob es Scheiben auf Stapel `i` hat wird nicht gepr&uuml;ft.\n",
    "***"
   ]
  },
  {
   "cell_type": "markdown",
   "id": "3a8aacc4-a4f9-415e-b36b-13d6c685ae81",
   "metadata": {},
   "source": [
    "***\n",
    "**Spiellogik**: Dieser Teil stellt die Funktionen\n",
    "`new_game()` und `move_disk(von, nach)` zur Verf&uuml;gung. \n",
    "Hier sollte auch das Einhalten der Regeln gepr&uuml;ft werden, und ev. ob es der Spieler geschafft hat, den Turm zu verschieben, wieviele Z&uuml;ge und Zeit er dazu gebraucht hat, u.s.w.\n",
    "***"
   ]
  },
  {
   "cell_type": "code",
   "execution_count": null,
   "id": "300485b6-5494-4d94-9d0b-c01ccc96343f",
   "metadata": {},
   "outputs": [],
   "source": [
    "# Liste mit 3 Tuermen (Spielzustand)\n",
    "stacks = [[], [], []]   \n",
    "\n",
    "def new_game():\n",
    "    # Liste stacks modifizieren\n",
    "    stacks[:] = [list(range(4)), [], []]\n",
    "\n",
    "def move_disk(i, j):    \n",
    "    x = stacks[i].pop()\n",
    "    stacks[j].append(x)"
   ]
  },
  {
   "cell_type": "code",
   "execution_count": null,
   "id": "afebbe17-40c8-4820-ad1f-df9408d253f8",
   "metadata": {},
   "outputs": [],
   "source": [
    "new_game()\n",
    "stacks"
   ]
  },
  {
   "cell_type": "code",
   "execution_count": null,
   "id": "6a38df0e-f0ae-41e8-a80f-bc734b5b11a8",
   "metadata": {},
   "outputs": [],
   "source": [
    "move_disk(0, 1)\n",
    "stacks"
   ]
  },
  {
   "cell_type": "markdown",
   "id": "1319a6c2-f01c-472a-86a8-ce155b729ad0",
   "metadata": {},
   "source": [
    "***\n",
    "**Spielzustand darstellen**: \n",
    "Die Funktion `draw_stacks(stacks)` stellt die 3 T&uuml;rme im Canvas-Widget dar. \n",
    "`stacks` ist eine Liste mit 3 Listen; jede dieser Listen ist eine Liste mit\n",
    "Zahlen von 0 bis 3 (den Scheiben). Die eigentliche Arbeit wird von der Funktion `draw_stack(stack, x)` erledigt, welche den Scheibenstapel `stack` bei der x-Koordinate `x` zeichnet.\n",
    "***"
   ]
  },
  {
   "cell_type": "code",
   "execution_count": null,
   "id": "4c2e3530-1b4f-4341-a50d-cb6fbee672f8",
   "metadata": {},
   "outputs": [],
   "source": [
    "canvas_width = 300\n",
    "canvas_height = 100\n",
    "positions = [50, 150, 250]\n",
    "disk_widths = [90, 70, 50, 30]\n",
    "disk_height = 10\n",
    "stack_width = 100\n",
    "layout = {'border': '1px solid black'}\n",
    "colors = ['#8f5902', '#204a87', '#c4a000', '#f57900'] \n",
    "\n",
    "from ipycanvas import Canvas\n",
    "canvas = Canvas(width = canvas_width, height = canvas_height, layout=layout)\n",
    "\n",
    "def draw_stack(stack, x):\n",
    "    canvas.clear_rect(x - stack_width/2, 0, stack_width, canvas_height)\n",
    "    for i, disk in enumerate(stack):\n",
    "        canvas.fill_style = colors[disk]\n",
    "        w = disk_widths[disk]\n",
    "        h = disk_height\n",
    "        canvas.fill_rect(x - w/2, canvas_height-(i+1)*h, w, h)\n",
    "        \n",
    "def draw_stacks(stacks):\n",
    "    for x, stack in zip(positions, stacks):\n",
    "        draw_stack(stack, x)"
   ]
  },
  {
   "cell_type": "code",
   "execution_count": null,
   "id": "efd8a7d9-773e-4186-ac08-d0241aa98d1d",
   "metadata": {},
   "outputs": [],
   "source": [
    "canvas"
   ]
  },
  {
   "cell_type": "code",
   "execution_count": null,
   "id": "7668a15d-8d83-4402-ae50-b9d911c78a49",
   "metadata": {},
   "outputs": [],
   "source": [
    "# neuese Spiel starten und Tuerme zeichen\n",
    "new_game()\n",
    "draw_stacks(stacks)"
   ]
  },
  {
   "cell_type": "code",
   "execution_count": null,
   "id": "202ac3ff-a888-4faa-bc17-c5f30fbba811",
   "metadata": {},
   "outputs": [],
   "source": [
    "# Scheibe verschieben und Tuerme zeichnen\n",
    "move_disk(0, 1)\n",
    "draw_stacks(stacks) "
   ]
  },
  {
   "cell_type": "markdown",
   "id": "6ba01775-a3ea-43a7-a369-93b14e85871d",
   "metadata": {},
   "source": [
    "***\n",
    "**Benutzerinput entgegennehmen und weiterleiten**: \n",
    "Das Canvas-Widget soll auf Tastendr&uuml;cke h&ouml;ren:\n",
    "Dr&uuml;cken von `'n'` soll ein neues Spiel starten und z.B. dr&uuml;cken von `'1'` gefolgt von `'2'` soll eine Scheibe vom Stapel 0 auf Stapel 1 verschieben.  \n",
    "Die Funktion `on_key_down` merkt sich in der globalen Variable `src` den Ausgangsstapel.\n",
    "Wird mit dem n&auml;chsten Tastendruck ein Zielstapel `dst` selektiert, so wird \n",
    "eine Scheibe vom Stapel `src` auf Stapel `dst` verschoben. \n",
    "***"
   ]
  },
  {
   "cell_type": "code",
   "execution_count": null,
   "id": "531d151e-a3f3-477b-b319-87eb6f786d64",
   "metadata": {},
   "outputs": [],
   "source": [
    "src = None\n",
    "\n",
    "def on_key_down(key, *flags):\n",
    "    global src\n",
    "  \n",
    "    if key in '123' and src is None:\n",
    "        src = int(key) - 1\n",
    "    elif key in '123' and src is not None:\n",
    "        dst = int(key) - 1\n",
    "        # Scheibe verschieben und Tuerme zeichnen\n",
    "        move_disk(src, dst)\n",
    "        draw_stacks(stacks)\n",
    "        src = None\n",
    "    elif key == 'n':\n",
    "        # Neues Spiel starten und Tuerme zeichnen\n",
    "        new_game()\n",
    "        draw_stacks(stacks)\n",
    "        src = None    \n",
    "    else:\n",
    "        src = None"
   ]
  },
  {
   "cell_type": "code",
   "execution_count": null,
   "id": "8a3d8e2a-c631-4a76-967b-a74b7a406949",
   "metadata": {},
   "outputs": [],
   "source": [
    "canvas"
   ]
  },
  {
   "cell_type": "code",
   "execution_count": null,
   "id": "e3ba3b37-82ec-4a5d-98ee-9eaf640096d4",
   "metadata": {},
   "outputs": [],
   "source": [
    "# callback registrieren\n",
    "canvas.on_key_down(on_key_down)"
   ]
  },
  {
   "cell_type": "code",
   "execution_count": null,
   "id": "4cccc5de-bc0e-4911-992f-d62c68c70b29",
   "metadata": {},
   "outputs": [],
   "source": []
  }
 ],
 "metadata": {
  "kernelspec": {
   "display_name": "Python 3 (ipykernel)",
   "language": "python",
   "name": "python3"
  },
  "language_info": {
   "codemirror_mode": {
    "name": "ipython",
    "version": 3
   },
   "file_extension": ".py",
   "mimetype": "text/x-python",
   "name": "python",
   "nbconvert_exporter": "python",
   "pygments_lexer": "ipython3",
   "version": "3.12.0"
  }
 },
 "nbformat": 4,
 "nbformat_minor": 5
}
