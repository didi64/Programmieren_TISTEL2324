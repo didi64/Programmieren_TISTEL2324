{
 "cells": [
  {
   "cell_type": "markdown",
   "id": "d5a4cc05-6a55-49c3-b209-39ac3aef838d",
   "metadata": {},
   "source": [
    "### Ratespiel mit Klassen  "
   ]
  },
  {
   "cell_type": "markdown",
   "id": "34c973e7-7a82-420a-a984-ff8c11f8176f",
   "metadata": {},
   "source": [
    "Die Klasse **Game**:  \n",
    "`new_game()` startet ein neues Spiel und mit `guess(n)` wird ein Rateversuch abgegeben. \n",
    "Nach getaner Arbeit rufen `new_game` und `guess` die registrierten Callbacks auf.\n",
    "Die erste Argumente ist `new_game` oder `guess`, das zweite Argument ist die Game-Instanz."
   ]
  },
  {
   "cell_type": "code",
   "execution_count": null,
   "id": "624dfaf4-64e4-4181-8c37-0cc7b66418f0",
   "metadata": {},
   "outputs": [],
   "source": [
    "from game import Game\n",
    "game = Game()\n",
    "game"
   ]
  },
  {
   "cell_type": "code",
   "execution_count": null,
   "id": "d056ea0c-d942-41a0-b92d-846acad844b0",
   "metadata": {},
   "outputs": [],
   "source": [
    "callback = lambda event, data: print('Event: {}\\nData: {}'.format(event, data))\n",
    "game.register_callback(callback)\n",
    "game.new_game()"
   ]
  },
  {
   "cell_type": "code",
   "execution_count": null,
   "id": "3d6d497a-4248-49e9-9898-5dac7b76f241",
   "metadata": {},
   "outputs": [],
   "source": [
    "game.guess(3)"
   ]
  },
  {
   "cell_type": "markdown",
   "id": "e082c270-4e66-4d0c-9b4e-68e340fd40df",
   "metadata": {},
   "source": [
    "***\n",
    "Die Klasse **View**:  \n",
    "Stellt eine Game-Instanz auf der Leinwand dar. \n",
    "Auf einer Linie werden die geratenen Zahlen dargestellt, die Farbe zeigt an,\n",
    "ob zu klein, zu gross oder richtig geraten wurde (blau: zu klein, gr&uuml;n: korrekt, rot: zu gross).\n",
    "***"
   ]
  },
  {
   "cell_type": "code",
   "execution_count": null,
   "id": "958253bd-d8a2-4a2d-8c1d-9ca5e06b33de",
   "metadata": {},
   "outputs": [],
   "source": [
    "from view import View\n",
    "config = {\n",
    " 'width': 200,\n",
    " 'height': 50,\n",
    " 'line_start': (20, 40),\n",
    " 'line_end': (180, 40),\n",
    " 'pt_size': 3,\n",
    " 'font': '20px serif',\n",
    " 'text': 'Guess a Number',\n",
    " 'text_pos': (20, 20),\n",
    " 'colors': {-1: 'blue', 0: 'green', 1: 'red'},\n",
    "}\n",
    "view = View(config, game)\n",
    "view"
   ]
  },
  {
   "cell_type": "code",
   "execution_count": null,
   "id": "adf142c6-53c6-4008-b252-7cf036e8b30f",
   "metadata": {},
   "outputs": [],
   "source": [
    "game.new_game()"
   ]
  },
  {
   "cell_type": "code",
   "execution_count": null,
   "id": "2902b0f3-18ae-4169-975e-06d04fc8f70f",
   "metadata": {},
   "outputs": [],
   "source": [
    "game.guess(5)"
   ]
  },
  {
   "cell_type": "markdown",
   "id": "5725dc23-d35d-4c02-b64d-552c53b3830b",
   "metadata": {},
   "source": [
    "***\n",
    "Die Klasse **Controller**:  \n",
    "Mit einem Slider wird Benutzerinput entgegengenommen und an die Game-Instanz weitergegeben.\n",
    "Durch Eingabe von 0 wird ein neues Spiel gestarten.\n",
    "***"
   ]
  },
  {
   "cell_type": "code",
   "execution_count": null,
   "id": "414935e6-30bc-4a7f-bdf2-1f9fcd6acb16",
   "metadata": {},
   "outputs": [],
   "source": [
    "from controller import Controller\n",
    "controller = Controller(game)\n",
    "display(view, controller)"
   ]
  },
  {
   "cell_type": "code",
   "execution_count": null,
   "id": "b8413894-032f-4e38-bdbb-14178e7e5128",
   "metadata": {},
   "outputs": [],
   "source": []
  }
 ],
 "metadata": {
  "kernelspec": {
   "display_name": "Python 3 (ipykernel)",
   "language": "python",
   "name": "python3"
  },
  "language_info": {
   "codemirror_mode": {
    "name": "ipython",
    "version": 3
   },
   "file_extension": ".py",
   "mimetype": "text/x-python",
   "name": "python",
   "nbconvert_exporter": "python",
   "pygments_lexer": "ipython3",
   "version": "3.12.0"
  }
 },
 "nbformat": 4,
 "nbformat_minor": 5
}
