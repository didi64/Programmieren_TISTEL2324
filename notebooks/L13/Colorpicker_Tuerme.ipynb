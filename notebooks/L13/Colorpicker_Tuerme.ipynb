{
 "cells": [
  {
   "cell_type": "markdown",
   "id": "08cb673d-152b-40fb-8e72-f956ffb0566e",
   "metadata": {},
   "source": [
    "### Colorpicker Widget\n",
    "Mit Hilfe des Colorpicker Widgets kann eine Farbe ausgew&auml;hlt werden. Der Farbwert ist ein\n",
    "Hex-Farbcode (siehe [hier](https://de.wikipedia.org/wiki/Hexadezimale_Farbdefinition)), ein String der Form `'#ff6000'`. `ff`, `60` und `00` sind die rot, gr&uuml;n und blau Anteile der Farbe als\n",
    "hexadezimale Zahl.\n",
    "Den Canvas-Attributen `fill_style` und `stroke_style` kann ein solcher\n",
    "Hex-Farbcode zugewiesen werden."
   ]
  },
  {
   "cell_type": "markdown",
   "id": "c6de5f83-2433-41ba-9a98-ad299eed0150",
   "metadata": {},
   "source": [
    "### Aufgabe:  \n",
    "1. Benutze den Colorpicker, um eine Liste `colors` mit  4 verschiedene Hex-Farbcodes zu erstellen.\n",
    "2. Benutze die `fill_rect` Methode des Canvas Widgets, um nebeneinander 4 Streifen in diesen Farben zu zeichnen mit Breite  Leinwandbreite/4 und H&ouml;hen gleich Leinwandh&ouml;he.  \n",
    "3. Benutze `clear_rect` um den 2. Streifen wieder zu l&ouml;schen."
   ]
  },
  {
   "cell_type": "code",
   "execution_count": null,
   "id": "d1c14042-4fd7-4b16-920e-e139a7a44f15",
   "metadata": {},
   "outputs": [],
   "source": [
    "# Colorpicker um Farben zu waehlen\n",
    "from ipywidgets import ColorPicker\n",
    "ColorPicker()"
   ]
  },
  {
   "cell_type": "code",
   "execution_count": null,
   "id": "02e61aa5-700a-44f3-895a-27b1bb2cb611",
   "metadata": {},
   "outputs": [],
   "source": [
    "# Fuege in diese Liste 4 verschiedene Hex-Farbcodes ein.\n",
    "colors = ['#ff0000', '#00ff00', '#0000ff', '#8f5902']"
   ]
  },
  {
   "cell_type": "code",
   "execution_count": null,
   "id": "6a1b93fc-1b90-4397-b3be-b5bff01a3bbf",
   "metadata": {},
   "outputs": [],
   "source": [
    "# Leinwandgroesse und Layout\n",
    "canvas_width = 300\n",
    "canvas_height = 100\n",
    "layout = {'border': '1px solid black'}"
   ]
  },
  {
   "cell_type": "code",
   "execution_count": null,
   "id": "39b22d18-f3af-4da8-8614-fbb63394e19f",
   "metadata": {},
   "outputs": [],
   "source": [
    "from ipycanvas import Canvas\n",
    "canvas = Canvas(width = canvas_width, height = canvas_height, layout=layout)\n",
    "canvas"
   ]
  },
  {
   "cell_type": "code",
   "execution_count": null,
   "id": "10e6db93-e60d-433e-bc5c-9cf2e749c7e8",
   "metadata": {},
   "outputs": [],
   "source": [
    "# Fuellfarbe setzen, Rechteck zeichnen\n",
    "name_hexcode = {'red': '#ff0000',  'green': '#00ff00', 'blue': '#0000ff'}\n",
    "dw = canvas.width/3\n",
    "dh = canvas.height/2\n",
    "for i, (name, hexcode) in enumerate(name_hexcode.items()):\n",
    "    canvas.fill_style = name\n",
    "    canvas.fill_rect(i*dw, 0, dw, dh)\n",
    "    canvas.fill_style = hexcode\n",
    "    canvas.fill_rect(i*dw, dh, dw, dh)"
   ]
  },
  {
   "cell_type": "code",
   "execution_count": null,
   "id": "07d0c925-10c4-47f9-a262-b9a244009079",
   "metadata": {},
   "outputs": [],
   "source": [
    "# Rechteck loeschen\n",
    "canvas.clear_rect(dw, dh, dw, dh)"
   ]
  },
  {
   "cell_type": "code",
   "execution_count": null,
   "id": "918c3211-3a7a-49c8-af7f-77dcb8d54341",
   "metadata": {},
   "outputs": [],
   "source": [
    "canvas.fill_style = '#008000'\n",
    "canvas.fill_rect(dw, dh, dw, dh)"
   ]
  },
  {
   "cell_type": "code",
   "execution_count": null,
   "id": "459c1b79-c2ed-41e0-96e5-653489bda0ba",
   "metadata": {},
   "outputs": [],
   "source": [
    "# Leinwand loeschen\n",
    "canvas.clear()"
   ]
  },
  {
   "cell_type": "code",
   "execution_count": null,
   "id": "63ec909b-21ad-4c3d-a58e-06413d10d18c",
   "metadata": {},
   "outputs": [],
   "source": []
  },
  {
   "cell_type": "code",
   "execution_count": null,
   "id": "9bfb0723-7269-4e21-8555-396250ec831c",
   "metadata": {},
   "outputs": [],
   "source": []
  },
  {
   "cell_type": "code",
   "execution_count": null,
   "id": "f1e8c2e7-cbc7-4564-a8c1-9343f9bc8e80",
   "metadata": {
    "jupyter": {
     "source_hidden": true
    },
    "tags": []
   },
   "outputs": [],
   "source": [
    "w = canvas.width/4\n",
    "for i, color in enumerate(colors):\n",
    "    canvas.fill_style = color\n",
    "    canvas.fill_rect(i*w, 0, w, canvas.height)"
   ]
  },
  {
   "cell_type": "code",
   "execution_count": null,
   "id": "c093be7b-5770-4583-906e-5ffc6e67d27f",
   "metadata": {
    "jupyter": {
     "source_hidden": true
    },
    "tags": []
   },
   "outputs": [],
   "source": [
    "canvas.clear_rect(w, 0, w, canvas_height)"
   ]
  },
  {
   "cell_type": "markdown",
   "id": "db817773-7f66-4343-a8a8-708f6a94a4e8",
   "metadata": {},
   "source": [
    "### Aufgabe\n",
    "Gegeben sein die Scheibentypen 0,1,2 und 3.  \n",
    "Scheibenh&ouml;he ist jeweils 10, die Farbe und Breite ist\n",
    "`colors[<Scheibentyp>]` und `disk_widths[<Scheibentyp>]` (siehe n&auml;chste Zelle).\n",
    "\n",
    "1. Staple die Scheiben einer Liste `stack` an der x-Koordinate `x=150` (x-Position der Scheibenmitte) aufeinander.  \n",
    "L&ouml;sche vorg&auml;ngig einen Leinwandstreifen der Breite `stack_width` an dieser Position, um Platz f&uuml;r den Scheibenstapel zu schaffen.  \n",
    "1. Schreibe eine Funktion `draw_stack(stack, x)`, die den Scheibenstapel an der Stelle `x` zeichnet und vorg&auml;ngig einen Leinwandstreifen der Breite `stack_width` l&ouml;scht."
   ]
  },
  {
   "cell_type": "code",
   "execution_count": null,
   "id": "600c4c4e-9f89-4b41-8628-3c427ad9c05d",
   "metadata": {},
   "outputs": [],
   "source": [
    "# Groesse der Scheiben\n",
    "disk_widths = [90, 70, 50, 30]\n",
    "disk_height = 10\n",
    "\n",
    "# Max. Stapelbreite und Stapelpositionen\n",
    "stack_width = 100\n",
    "positions = [50, 150, 250]"
   ]
  },
  {
   "cell_type": "code",
   "execution_count": null,
   "id": "72a17f86-9c4e-40cc-8f9e-73753fa60356",
   "metadata": {},
   "outputs": [],
   "source": [
    "canvas"
   ]
  },
  {
   "cell_type": "code",
   "execution_count": null,
   "id": "ca521526-21c9-4f82-bf05-04bf0b680c07",
   "metadata": {},
   "outputs": [],
   "source": []
  },
  {
   "cell_type": "code",
   "execution_count": null,
   "id": "f5fb125a-60b8-43d8-ae37-f86639dfd2a4",
   "metadata": {},
   "outputs": [],
   "source": []
  },
  {
   "cell_type": "code",
   "execution_count": null,
   "id": "c8656aea-5e34-4e77-8928-f4635d7b4ac7",
   "metadata": {
    "jupyter": {
     "source_hidden": true
    },
    "tags": []
   },
   "outputs": [],
   "source": [
    "def draw_stack(stack, x):\n",
    "    canvas.clear_rect(x - stack_width/2, 0, stack_width, canvas.height)\n",
    "    h = disk_height\n",
    "    for i, disk in enumerate(stack):\n",
    "        canvas.fill_style = colors[disk]\n",
    "        w = disk_widths[disk]\n",
    "        canvas.fill_rect(x - w/2, canvas.height-(i+1)*h, w, h)"
   ]
  }
 ],
 "metadata": {
  "kernelspec": {
   "display_name": "Python 3 (ipykernel)",
   "language": "python",
   "name": "python3"
  },
  "language_info": {
   "codemirror_mode": {
    "name": "ipython",
    "version": 3
   },
   "file_extension": ".py",
   "mimetype": "text/x-python",
   "name": "python",
   "nbconvert_exporter": "python",
   "pygments_lexer": "ipython3",
   "version": "3.12.0"
  }
 },
 "nbformat": 4,
 "nbformat_minor": 5
}
