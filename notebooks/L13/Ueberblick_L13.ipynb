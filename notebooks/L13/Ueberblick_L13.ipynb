{
 "cells": [
  {
   "cell_type": "markdown",
   "id": "357c5831-fe8e-4dba-ac9a-8a61173a09f5",
   "metadata": {},
   "source": [
    "### Lektion 13, &Uuml;berblick und weitere Ressourcen\n",
    "\n",
    "- Wir werfen eine kurzen Blick auf das [Colorpicker-Widget](https://ipywidgets.readthedocs.io/en/latest/examples/Widget%20List.html#color-picker) , welches n&uuml;tzlich ist, um Farben auszuw&auml;hlen.\n",
    "- Wir implementieren eine rudiment&auml;re Variante des Spiels [T&uuml;rme von Hanoi](https://de.wikipedia.org/wiki/T%C3%BCrme_von_Hanoi) im Canvas-Widget und programmieren eine\n",
    "Steuerung mit der Tastatur.\n",
    "- Wir f&uuml;hren  Klassen ein und betrachten eine Implementation der T&uuml;rme von Hanoi mit einer Klasse Game (Spiellogik), einer Klasse View (Darstellung des Spielzustandes) und einer Klasse Controller (Entgegennahme von Benutzerinput und weiterleiten von Kommandos an die Game-Klasse.    \n",
    "   [Klassen W3School](https://www.w3schools.com/python/python_classes.asp)  \n",
    "   [Klassen docs.python](https://docs.python.org/3/tutorial/classes.html)\n",
    "\n"
   ]
  },
  {
   "cell_type": "code",
   "execution_count": null,
   "id": "96292d6a-7891-4250-b0de-ea51ed472161",
   "metadata": {},
   "outputs": [],
   "source": []
  }
 ],
 "metadata": {
  "kernelspec": {
   "display_name": "Python 3 (ipykernel)",
   "language": "python",
   "name": "python3"
  },
  "language_info": {
   "codemirror_mode": {
    "name": "ipython",
    "version": 3
   },
   "file_extension": ".py",
   "mimetype": "text/x-python",
   "name": "python",
   "nbconvert_exporter": "python",
   "pygments_lexer": "ipython3",
   "version": "3.12.0"
  }
 },
 "nbformat": 4,
 "nbformat_minor": 5
}
