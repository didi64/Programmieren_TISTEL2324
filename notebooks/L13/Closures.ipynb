{
 "cells": [
  {
   "cell_type": "markdown",
   "id": "4e2ba8cb-bcb7-458a-9d47-9303e317d88f",
   "metadata": {},
   "source": [
    "### Closures\n",
    "\n",
    "Python erlaubt es innerhalb einer Funktion eine weitere Funktion zu definieren. \n",
    "Diese innere Funktion kann von der &auml;usseren Funktion mit `return` zur&uuml;ck gegeben werden.  \n",
    "\n",
    "Wenn die innere Funktion auf lokale Variabeln der &auml;usseren Funktion zugreift, dann wird\n",
    "eine sog. **Closure** erstellt, die der inneren Funktion den Zugriff auf diese lokale Variabeln erm&ouml;glicht.  \n",
    "\n",
    "Nachstehend das **Standard-Beispiel** einer Funktion mit Closure. \n",
    "Die &auml;usseren Funktion `make_counter(name, value=0)` definiert \n",
    "eine innere Funktion, die `value` um eins erh&ouml;ht und dann das Tuple (`name`, `value`) zur&uuml;ck gibt. \n",
    "Diese innere Funktion wird dann zur&uuml;ck gegeben, und kann als *Counter* verwendet werden.\n",
    "\n"
   ]
  },
  {
   "cell_type": "code",
   "execution_count": null,
   "id": "cd46e596-f4f4-42e6-96de-20f64f7792fd",
   "metadata": {},
   "outputs": [],
   "source": [
    "def make_counter(name, value=0):\n",
    "    '''name und start sind lokale Variabeln dieser Funktion.\n",
    "    \n",
    "       Die innere Funktion inc greift auf name und start zu.\n",
    "       Der Python Interpreter sieht das und macht eine sog. Closure.\n",
    "       Via diese Closure behaelt die Funktion inc Zugriff auf name und start.\n",
    "    '''\n",
    "   \n",
    "    def inc():\n",
    "        '''inkrementiere value und gib (name, value) zurueck'''\n",
    "        nonlocal value \n",
    "        value += 1\n",
    "        return name, value\n",
    "        \n",
    "    return inc"
   ]
  },
  {
   "cell_type": "code",
   "execution_count": null,
   "id": "b55168b8-5111-4137-9e6d-9f576ff2604d",
   "metadata": {},
   "outputs": [],
   "source": [
    "counter_1 = make_counter('Counter I')\n",
    "counter_2 = make_counter('Counter II', 10)"
   ]
  },
  {
   "cell_type": "code",
   "execution_count": null,
   "id": "e9fa1841-cec9-4350-9553-75fa096016f0",
   "metadata": {},
   "outputs": [],
   "source": [
    "# inkrementiert die Variable value in der Closure von counter_1\n",
    "counter_1()"
   ]
  },
  {
   "cell_type": "code",
   "execution_count": null,
   "id": "a796ac3d-16c0-4c0d-8e26-dcf5c69f6db7",
   "metadata": {},
   "outputs": [],
   "source": [
    "# inkrementiert die Variable value in der Closure von counter_2\n",
    "counter_2()"
   ]
  },
  {
   "cell_type": "markdown",
   "id": "ed19df36-b786-408a-8bfb-84ef1788e3bc",
   "metadata": {},
   "source": [
    "***\n",
    "Die **Closure** einer Funktion `f` ist in `f.__closure__` gespeichert und stellt einen **Mechanismus** zur Verf&uuml;gung, auf die ben&ouml;tigen Variablen der &auml;usseren Funktion zuzugreifen. \n",
    "Wie dieser Mechanismus funktioniert ist ein Implementationsdetail und braucht den Programmierer nicht zu k&uuml;mmern.\n",
    "\n",
    "\n",
    "\n",
    "\n",
    "Die Closure ist ein Tuple von `cell`-Objekten, je eins pro ben&ouml;tiger Variable.  \n",
    "Das `cell`-Objekt hat einen [Data descriptor](https://docs.python.org/3/howto/descriptor.html) \n",
    "`cell_contents`, welcher den Zugriff erm&ouml;glicht.  \n",
    "\n",
    "Im Folgenden werfen wir einen Blick auf die Closures der Funktionen `counter_1` und `counter_2`.  \n",
    "**Beachte**: Jede Funktion hat ihre eigene Closure.\n",
    "***"
   ]
  },
  {
   "cell_type": "code",
   "execution_count": null,
   "id": "d354f845-ed08-4d96-9348-39bca399f02b",
   "metadata": {},
   "outputs": [],
   "source": [
    "# Closure von counter_1\n",
    "closure = counter_1.__closure__\n",
    "cell_0 = closure[0]\n",
    "type(closure), type(closure[0])"
   ]
  },
  {
   "cell_type": "code",
   "execution_count": null,
   "id": "093b5b51-b47d-484c-9c2e-e7f1187fae54",
   "metadata": {},
   "outputs": [],
   "source": [
    "# closure ist ein Tuple von cell-Objekten\n",
    "closure"
   ]
  },
  {
   "cell_type": "code",
   "execution_count": null,
   "id": "d8a78947-41b4-44e1-8fa1-0d9aab9847f3",
   "metadata": {},
   "outputs": [],
   "source": [
    "# Closure von counter_2\n",
    "counter_2.__closure__"
   ]
  },
  {
   "cell_type": "code",
   "execution_count": null,
   "id": "36e3ed9d-6d0f-4f28-ac07-c95b074a9ae2",
   "metadata": {},
   "outputs": [],
   "source": [
    "def show_closure(f):\n",
    "    for cell in f.__closure__:\n",
    "        print(cell.cell_contents)"
   ]
  },
  {
   "cell_type": "code",
   "execution_count": null,
   "id": "0abd4160-7a4e-4d66-85c7-a337a7bc0860",
   "metadata": {},
   "outputs": [],
   "source": [
    "show_closure(counter_1)"
   ]
  },
  {
   "cell_type": "code",
   "execution_count": null,
   "id": "a6512b87-19c3-4ec7-a246-48503652001e",
   "metadata": {},
   "outputs": [],
   "source": [
    "show_closure(counter_2)"
   ]
  },
  {
   "cell_type": "code",
   "execution_count": null,
   "id": "5b255337-d448-4ad4-a529-539f864d073c",
   "metadata": {},
   "outputs": [],
   "source": [
    "# Variable value in der Closure von  counter_1 aendern\n",
    "counter_1.__closure__[1].cell_contents = -10"
   ]
  },
  {
   "cell_type": "code",
   "execution_count": null,
   "id": "7be9a7fc-b314-4818-a574-4888358701e1",
   "metadata": {},
   "outputs": [],
   "source": [
    "counter_1()"
   ]
  },
  {
   "cell_type": "markdown",
   "id": "11d44326-29d2-497e-a210-b58b94fbaa1a",
   "metadata": {},
   "source": [
    "***\n",
    "Die Funktion `make_stack` erstellt eine leere Liste `stack` und gibt die Funktionen `push(x)` und `pop()` zur&uuml;ck.\n",
    "`push(x)` h&auml;ngt `x` an die Liste `stack` an, `pop()` entfernt das letzte Element von `stack` und gibt es zur&uuml;ck.   \n",
    "Die Liste `stack` kann (mit normalen Mitteln) nur via die Funktionen `push` und `pop` ge&auml;ndert werden.\n",
    "***"
   ]
  },
  {
   "cell_type": "code",
   "execution_count": null,
   "id": "0fd9954a-1f11-4a01-8843-d98a7228b3f4",
   "metadata": {},
   "outputs": [],
   "source": [
    "def make_stack():\n",
    "    stack = []\n",
    "    def pop():\n",
    "        return stack.pop()\n",
    "    def push(x):\n",
    "        stack.append(x)\n",
    "       \n",
    "    return pop, push"
   ]
  },
  {
   "cell_type": "code",
   "execution_count": null,
   "id": "cfbc7d09-a487-48a6-baed-0f26fef567af",
   "metadata": {},
   "outputs": [],
   "source": [
    "pop, push = make_stack()"
   ]
  },
  {
   "cell_type": "code",
   "execution_count": null,
   "id": "8c40a013-20a7-4247-8b13-6c2baa036a92",
   "metadata": {},
   "outputs": [],
   "source": [
    "for c in 'abcde':\n",
    "    push(c)"
   ]
  },
  {
   "cell_type": "code",
   "execution_count": null,
   "id": "3bc5e5a9-545b-4534-b339-f76c15219e34",
   "metadata": {},
   "outputs": [],
   "source": [
    "pop()"
   ]
  },
  {
   "cell_type": "code",
   "execution_count": null,
   "id": "f8143542-3141-4e08-b24f-fd6050821bef",
   "metadata": {},
   "outputs": [],
   "source": [
    "pop()"
   ]
  },
  {
   "cell_type": "markdown",
   "id": "ad827720-dde4-4fb1-b457-6bb06b6a63e6",
   "metadata": {},
   "source": [
    "### Aufgabe\n",
    "Erg&auml;nze die Funktion `make_stack`. Gib zus&auml;tzlich noch eine Funktion `show_stack` zur&uuml;ck, die den Stack anzeigt.\n"
   ]
  },
  {
   "cell_type": "code",
   "execution_count": null,
   "id": "eeb4b4b8-e436-4c65-8390-7f58b396ff84",
   "metadata": {
    "jupyter": {
     "source_hidden": true
    },
    "tags": []
   },
   "outputs": [],
   "source": [
    "# def make_stack():\n",
    "#     stack = []\n",
    "#     def pop():\n",
    "#         return stack.pop()\n",
    "#     def push(x):\n",
    "#         stack.append(x)\n",
    "#     def show_stack():\n",
    "#         print(stack)\n",
    "#     return pop, push, show_stack"
   ]
  },
  {
   "cell_type": "code",
   "execution_count": null,
   "id": "935a4405-7b3e-44d4-820d-9f0ee0198828",
   "metadata": {},
   "outputs": [],
   "source": [
    "# make_stack testen\n",
    "pop, push, show_stack = make_stack()\n",
    "push(1)\n",
    "show_stack()"
   ]
  },
  {
   "cell_type": "code",
   "execution_count": null,
   "id": "45770e3c-1333-4da0-a3b0-3c098869120b",
   "metadata": {},
   "outputs": [],
   "source": []
  }
 ],
 "metadata": {
  "kernelspec": {
   "display_name": "Python 3 (ipykernel)",
   "language": "python",
   "name": "python3"
  },
  "language_info": {
   "codemirror_mode": {
    "name": "ipython",
    "version": 3
   },
   "file_extension": ".py",
   "mimetype": "text/x-python",
   "name": "python",
   "nbconvert_exporter": "python",
   "pygments_lexer": "ipython3",
   "version": "3.12.0"
  }
 },
 "nbformat": 4,
 "nbformat_minor": 5
}
