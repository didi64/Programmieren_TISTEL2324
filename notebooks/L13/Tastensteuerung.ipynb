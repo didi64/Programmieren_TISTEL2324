{
 "cells": [
  {
   "cell_type": "markdown",
   "id": "e1b511ad-e15c-44ab-8fb6-96eefca26821",
   "metadata": {},
   "source": [
    "### Tastensteuerung\n",
    "Gegeben seine 3 T&uuml;rme (Scheibenstapel).\n",
    "Drücken von 1 gefolgt von 2 soll eine Scheibe von Stapel 1 auf Stapel 2 verschieben.  \n",
    "\n",
    "**Aufgabe**:\n",
    "Schreibe eine Funktion `on_key_down(key)`, die von einer globalen Variable `src` gebrauch macht (`src` steht f&uuml;r source/Ausgangspunkt).\n",
    "- Ist `src` gleich `None` und `key` `'1'`, `'2'` oder `'3'`, wird `key` in der globalen Variable `src` gespeichert.\n",
    "- Ist `src` `'1'`, `'2'` oder `'3'` und  `key` `'1'`, `'2'` oder `'3'`, gibt  \n",
    "  >Move disk from `src` to `key` aus.\n",
    "- Anderfalls setze `src` auf `None`.\n",
    "\n",
    "Teste die Funktion mit dem bereitgestellten Code."
   ]
  },
  {
   "cell_type": "code",
   "execution_count": null,
   "id": "99470719-ca8d-4547-befa-befddbced575",
   "metadata": {},
   "outputs": [],
   "source": [
    "def on_key_down(key):\n",
    "    global src\n",
    "    if key in '123' and src is None:\n",
    "        src = key\n",
    "    elif key in '123' and src is not None:\n",
    "        print('Move disk from {} to {}'.format(src, key))\n",
    "        src = None\n",
    "    else:\n",
    "        src = None"
   ]
  },
  {
   "cell_type": "code",
   "execution_count": null,
   "id": "39eef2bd-b306-46ec-b386-e7f601f46215",
   "metadata": {},
   "outputs": [],
   "source": [
    "# Funktion on_key_down testen\n",
    "src = None\n",
    "keys = [1, 4, 2, 3]\n",
    "for key in keys:\n",
    "    on_key_down(str(key))\n",
    "    print('key pressed: {}'.format(key))\n",
    "    print('src: {}'.format(src))"
   ]
  },
  {
   "cell_type": "markdown",
   "id": "fda2c829-71e8-4912-bf66-ed1dadf57fb5",
   "metadata": {},
   "source": [
    "### Tastendr&uuml;cke in Canvas-Widget entgegennehmen  \n",
    "- Die Funktion `on_key_down` soll nun als Callback f&uuml;r das `on_key_down` Event registriert werden.\n",
    "- Der Output von `on_key_down` soll in ein Output-Widget umgeleitet werden.  \n",
    "Beachte: Die Signatur der Funktion ist anzupassen.\n",
    "Das Callback wird mit 4 Argumenten aufgerufen, das erste ist der Name der Taste."
   ]
  },
  {
   "cell_type": "code",
   "execution_count": 1,
   "id": "efb6dc06-effd-4c44-9713-9b4e0e5539cc",
   "metadata": {},
   "outputs": [],
   "source": [
    "# Canvas- und Output-Widget erzeugen\n",
    "import canvas_helpers\n",
    "from ipycanvas import Canvas\n",
    "from ipywidgets import Output\n",
    "\n",
    "canvas_width = 300\n",
    "canvas_height = 100\n",
    "layout = {'border': '1px solid black'}\n",
    "\n",
    "canvas = Canvas(width = canvas_width, height = canvas_height, layout=layout)\n",
    "out = Output(layout={'border': '1px solid black'})"
   ]
  },
  {
   "cell_type": "code",
   "execution_count": 2,
   "id": "127437a0-ed00-4515-bccc-e1920a27b2d9",
   "metadata": {},
   "outputs": [],
   "source": [
    "# Callback definieren, Output nach out umleiten.\n",
    "@out.capture()\n",
    "def on_key_down(key, *flags):\n",
    "    global src\n",
    "    if key in '123' and src is None:\n",
    "        src = key\n",
    "    elif key in '123' and src is not None:\n",
    "        print('Move disk from {} to {}'.format(src, key))\n",
    "        src = None\n",
    "    else:\n",
    "        src = None\n",
    "    "
   ]
  },
  {
   "cell_type": "code",
   "execution_count": 3,
   "id": "bd693106-b226-4413-8864-13eb482a2ab7",
   "metadata": {},
   "outputs": [
    {
     "data": {
      "application/vnd.jupyter.widget-view+json": {
       "model_id": "68d3aae3692d408ea35098f4f5376a2e",
       "version_major": 2,
       "version_minor": 0
      },
      "text/plain": [
       "Canvas(height=100, layout=Layout(border_bottom='1px solid black', border_left='1px solid black', border_right=…"
      ]
     },
     "metadata": {},
     "output_type": "display_data"
    },
    {
     "data": {
      "application/vnd.jupyter.widget-view+json": {
       "model_id": "1e1828cfae3c4fca9d6629292c604d49",
       "version_major": 2,
       "version_minor": 0
      },
      "text/plain": [
       "Output(layout=Layout(border_bottom='1px solid black', border_left='1px solid black', border_right='1px solid b…"
      ]
     },
     "metadata": {},
     "output_type": "display_data"
    }
   ],
   "source": [
    "# Widgets anzeigen\n",
    "display(canvas, out)"
   ]
  },
  {
   "cell_type": "code",
   "execution_count": null,
   "id": "b28cf7fb-bcc9-4828-a8c6-c0ac0cd5c775",
   "metadata": {},
   "outputs": [],
   "source": [
    "out.clear_output()"
   ]
  },
  {
   "cell_type": "code",
   "execution_count": 4,
   "id": "6a921b4d-dbbc-45cd-b5c5-c9e79bce2739",
   "metadata": {},
   "outputs": [],
   "source": [
    "# Callback registrieren.\n",
    "src = None\n",
    "canvas_helpers.remove_all_callbacks(canvas)\n",
    "canvas.on_key_down(on_key_down)"
   ]
  },
  {
   "cell_type": "code",
   "execution_count": null,
   "id": "ea6ec904-e343-4a11-9209-f65f0a4a47fc",
   "metadata": {},
   "outputs": [],
   "source": []
  },
  {
   "cell_type": "code",
   "execution_count": null,
   "id": "651002c2-eb28-4aca-938d-30079dc594dd",
   "metadata": {},
   "outputs": [],
   "source": []
  },
  {
   "cell_type": "markdown",
   "id": "4b9f8ca6-3530-48cf-9859-c6749900890e",
   "metadata": {},
   "source": [
    "***\n",
    "L&ouml;sung in n&auml;chster Zelle\n",
    "***"
   ]
  },
  {
   "cell_type": "code",
   "execution_count": null,
   "id": "d5a3464d-d34c-4167-9ace-80e1655ef230",
   "metadata": {
    "jupyter": {
     "source_hidden": true
    },
    "tags": []
   },
   "outputs": [],
   "source": [
    "# Funktionsbody der Aufgabe\n",
    "\n",
    "    if key in '123' and src is None:\n",
    "        src = key\n",
    "    elif key in '123' and src is not None:\n",
    "        print('Move disk from {} to {}'.format(src, key))\n",
    "        src = None\n",
    "    else:\n",
    "        src = None"
   ]
  }
 ],
 "metadata": {
  "kernelspec": {
   "display_name": "Python 3 (ipykernel)",
   "language": "python",
   "name": "python3"
  },
  "language_info": {
   "codemirror_mode": {
    "name": "ipython",
    "version": 3
   },
   "file_extension": ".py",
   "mimetype": "text/x-python",
   "name": "python",
   "nbconvert_exporter": "python",
   "pygments_lexer": "ipython3",
   "version": "3.12.0"
  }
 },
 "nbformat": 4,
 "nbformat_minor": 5
}
