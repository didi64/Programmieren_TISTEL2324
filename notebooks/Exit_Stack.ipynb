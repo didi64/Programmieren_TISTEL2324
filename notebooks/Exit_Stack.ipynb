{
 "cells": [
  {
   "cell_type": "code",
   "execution_count": null,
   "id": "1aff7768-5f3c-4996-9a2a-25c018e3b556",
   "metadata": {},
   "outputs": [],
   "source": []
  },
  {
   "cell_type": "code",
   "execution_count": null,
   "id": "72d61c64-b142-4b48-a0b8-1badda910a9a",
   "metadata": {},
   "outputs": [],
   "source": [
    "https://www.youtube.com/watch?v=FHixla7BLvI"
   ]
  },
  {
   "cell_type": "code",
   "execution_count": 7,
   "id": "a77300ba-0cb1-4f6c-81a8-75e1999429d7",
   "metadata": {},
   "outputs": [],
   "source": [
    "import contextlib\n",
    "def output_line(s, stream, filename=None):\n",
    "    with contextlib.ExitStack() as ctx:\n",
    "        streams = [stream]\n",
    "        if filename is not None:\n",
    "            streams.append(ctx.enter_context(open(filename, 'w')))\n",
    "            \n",
    "        for output_stream in streams:\n",
    "            output_stream.write(f'{s}\\n')"
   ]
  },
  {
   "cell_type": "code",
   "execution_count": 8,
   "id": "0de0b717-b7ef-496b-bceb-269adb479dcb",
   "metadata": {},
   "outputs": [
    {
     "name": "stderr",
     "output_type": "stream",
     "text": [
      "hello\n"
     ]
    }
   ],
   "source": [
    "output_line('hello', sys.stderr, filename='foo')"
   ]
  },
  {
   "cell_type": "code",
   "execution_count": 9,
   "id": "272ae7ef-e21a-4f81-9407-35321412e673",
   "metadata": {},
   "outputs": [
    {
     "name": "stdout",
     "output_type": "stream",
     "text": [
      "hello\n"
     ]
    }
   ],
   "source": [
    "cat foo\n"
   ]
  },
  {
   "cell_type": "code",
   "execution_count": null,
   "id": "87333267-0253-473f-9d5e-b39ab2ba9df3",
   "metadata": {},
   "outputs": [],
   "source": []
  }
 ],
 "metadata": {
  "kernelspec": {
   "display_name": "Python 3 (ipykernel)",
   "language": "python",
   "name": "python3"
  },
  "language_info": {
   "codemirror_mode": {
    "name": "ipython",
    "version": 3
   },
   "file_extension": ".py",
   "mimetype": "text/x-python",
   "name": "python",
   "nbconvert_exporter": "python",
   "pygments_lexer": "ipython3",
   "version": "3.12.0"
  }
 },
 "nbformat": 4,
 "nbformat_minor": 5
}
