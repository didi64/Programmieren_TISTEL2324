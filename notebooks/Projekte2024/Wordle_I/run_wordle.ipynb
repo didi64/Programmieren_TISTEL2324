{
 "cells": [
  {
   "cell_type": "code",
   "execution_count": null,
   "id": "35ed9000-2f68-4e9f-849c-eef28f80781c",
   "metadata": {},
   "outputs": [],
   "source": [
    "%run wordle"
   ]
  },
  {
   "cell_type": "code",
   "execution_count": null,
   "id": "6ff1519f-1c5c-4ce8-a5a9-8a28ed93e64f",
   "metadata": {},
   "outputs": [],
   "source": []
  }
 ],
 "metadata": {
  "kernelspec": {
   "display_name": "Python 3 (ipykernel)",
   "language": "python",
   "name": "python3"
  },
  "language_info": {
   "codemirror_mode": {
    "name": "ipython",
    "version": 3
   },
   "file_extension": ".py",
   "mimetype": "text/x-python",
   "name": "python",
   "nbconvert_exporter": "python",
   "pygments_lexer": "ipython3",
   "version": "3.12.0"
  }
 },
 "nbformat": 4,
 "nbformat_minor": 5
}
