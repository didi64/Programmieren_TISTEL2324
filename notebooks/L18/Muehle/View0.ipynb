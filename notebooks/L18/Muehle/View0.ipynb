{
 "cells": [
  {
   "cell_type": "markdown",
   "id": "fb5cd671-aa07-4f1a-9bca-6483e6208c4d",
   "metadata": {},
   "source": [
    "### View, Skizze\n",
    "\n"
   ]
  },
  {
   "cell_type": "code",
   "execution_count": null,
   "id": "5215fd79-f37c-474e-930e-c0bc42ff9dd0",
   "metadata": {},
   "outputs": [],
   "source": []
  },
  {
   "cell_type": "code",
   "execution_count": 170,
   "id": "282a98df-f834-4331-af0d-dea41d584d99",
   "metadata": {},
   "outputs": [],
   "source": [
    "from muehle0 import Game\n",
    "from ipycanvas import MultiCanvas\n",
    "\n",
    "class View:\n",
    "    \n",
    "    width = 200\n",
    "    height = 200\n",
    "    \n",
    "    colors = ['red', 'blue']\n",
    "    line_width = 2\n",
    "    radius = 7\n",
    "    \n",
    "    scale = 0.8\n",
    "    pts =  [(-1, -1), (0, -1), (1, -1), (1, 0), (1, 1), (0, 1), (-1, 1), (-1, 0)]\n",
    "    \n",
    "    def __init__(self, game):\n",
    "        self.game = game\n",
    "        self.game.callback = self.update\n",
    "        self.colors = {0: 'red', 1: 'blue'}\n",
    "        self.mcanvas = MultiCanvas(2, width = self.width, height = self.height, \n",
    "                layout = {'border' : '1px solid black'},\n",
    "               )\n",
    "        self.bg, self.fg = self.mcanvas\n",
    "        self.bg.line_width = self.line_width\n",
    "        \n",
    "        self.game.new_game()\n",
    "        \n",
    "    def ri2xy(self, ri):\n",
    "        r, i = ri\n",
    "        s, w, h = self.scale, self.width, self.height\n",
    "        x, y = self.pts[i]\n",
    "        x = (s/3*(r+1)*x + 1) * w/2\n",
    "        y = (s/3*(r+1)*y + 1) * h/2\n",
    "       \n",
    "        return x, y    \n",
    "        \n",
    "    def new_game(self, _):\n",
    "        self.mcanvas.clear()\n",
    "        for muehle in self.game.muehlen:\n",
    "            line = [self.ri2xy(ri) for ri in muehle]\n",
    "            self.bg.stroke_lines(line)\n",
    "     \n",
    "    def place_stone(self, ri, player):\n",
    "        color = self.colors[player]\n",
    "        x, y = self.ri2xy(ri)\n",
    "        self.fg.fill_style = color\n",
    "        self.fg.fill_circle(x, y, self.radius)\n",
    "    \n",
    "    def remove_stone(self, ri):\n",
    "        x, y = self.ri2xy(ri)\n",
    "        x -= (self.radius + 1)\n",
    "        y -= (self.radius + 1)\n",
    "        self.fg.clear_rect(x, y, 2*self.radius + 2)\n",
    "        \n",
    "    def move_stone(self, ri1, ri2, player):\n",
    "        self.remove_stone(ri1)\n",
    "        self.place_stone(ri2, player)\n",
    "        \n",
    "    def update(self, event, data):\n",
    "        getattr(self, event)(*data)\n",
    "    \n",
    "    def _ipython_display_(self):\n",
    "        display(self.mcanvas)"
   ]
  },
  {
   "cell_type": "code",
   "execution_count": null,
   "id": "976a2632-2be9-44a8-b979-66084906cc45",
   "metadata": {},
   "outputs": [],
   "source": []
  },
  {
   "cell_type": "code",
   "execution_count": 171,
   "id": "d153edfc-a77d-4d66-b974-4e745821a01a",
   "metadata": {},
   "outputs": [
    {
     "data": {
      "application/vnd.jupyter.widget-view+json": {
       "model_id": "0ab0c5bd65cb4287b5055b171061db12",
       "version_major": 2,
       "version_minor": 0
      },
      "text/plain": [
       "MultiCanvas(height=200, layout=Layout(border_bottom='1px solid black', border_left='1px solid black', border_r…"
      ]
     },
     "metadata": {},
     "output_type": "display_data"
    }
   ],
   "source": [
    "view = View(game)\n",
    "view"
   ]
  },
  {
   "cell_type": "code",
   "execution_count": 172,
   "id": "07e7e882-f8e0-480e-aa63-da4272f3f69e",
   "metadata": {},
   "outputs": [
    {
     "name": "stdout",
     "output_type": "stream",
     "text": [
      "muehle\n"
     ]
    }
   ],
   "source": [
    "for pos in [(0, 0), (0, 1), (0, 2)]:\n",
    "    game.move(0, 'p', pos)"
   ]
  },
  {
   "cell_type": "code",
   "execution_count": 173,
   "id": "e9202cdf-fe22-4617-a4dd-37fd39b89ee2",
   "metadata": {},
   "outputs": [],
   "source": [
    "game.move(0, 'm', (0, 0), (0, 7))"
   ]
  },
  {
   "cell_type": "code",
   "execution_count": 174,
   "id": "db625ccc-af21-4e56-aa05-2d351d1fb45c",
   "metadata": {},
   "outputs": [
    {
     "name": "stdout",
     "output_type": "stream",
     "text": [
      "muehle\n"
     ]
    }
   ],
   "source": [
    "game.move(0, 'm', (0, 7), (0, 0))"
   ]
  },
  {
   "cell_type": "code",
   "execution_count": 175,
   "id": "7cf59f30-d7e9-4b42-be0f-d30e9954c629",
   "metadata": {},
   "outputs": [],
   "source": [
    "game.move(1, 'p', (2, 0))"
   ]
  },
  {
   "cell_type": "code",
   "execution_count": 176,
   "id": "1cf4dfba-0fc2-4854-b47b-3f387afd5e18",
   "metadata": {},
   "outputs": [],
   "source": [
    "game.move(0, 'r', (2, 0))"
   ]
  },
  {
   "cell_type": "code",
   "execution_count": null,
   "id": "68b7a25a-eb7c-4cdb-b757-6db25591806e",
   "metadata": {},
   "outputs": [],
   "source": []
  },
  {
   "cell_type": "markdown",
   "id": "c710c060-a797-4dac-9722-1498c99f8942",
   "metadata": {},
   "source": [
    "```python\n",
    "        self.mcanvas.on_mouse_down(self.on_mouse_down)\n",
    "        self.mcanvas.on_mouse_up(self.on_mouse_up)\n",
    "       \n",
    "        self.ris = [(r,i) for r in range(3) for i in range(8)]\n",
    "        self.xys = [self.ri2xy(ri) for ri in self.ris]\n",
    "        self.selected_idx = None\n",
    "```\n",
    "\n",
    "sowie View on_mouse_down on_mouse_up"
   ]
  },
  {
   "cell_type": "code",
   "execution_count": 155,
   "id": "c19355dc-2e3f-440f-9f21-df13c6f08718",
   "metadata": {},
   "outputs": [],
   "source": [
    "from muehle0 import Game\n",
    "from get_closest import get_closest\n",
    "from ipycanvas import MultiCanvas\n",
    "from ipywidgets import Output\n",
    "debug = Output(layout = {'border': '1px solid black'})\n",
    "\n",
    "class View:\n",
    "    \n",
    "    width = 200\n",
    "    height = 200\n",
    "    \n",
    "    colors = ['red', 'blue']\n",
    "    line_width = 2\n",
    "    radius = 7\n",
    "    \n",
    "    scale = 0.8\n",
    "    pts =  [(-1, -1), (0, -1), (1, -1), (1, 0), (1, 1), (0, 1), (-1, 1), (-1, 0)]\n",
    "    \n",
    "    def __init__(self, game):\n",
    "        self.game = game\n",
    "        self.game.callback = self.update\n",
    "        self.colors = {0: 'red', 1: 'blue'}\n",
    "        self.mcanvas = MultiCanvas(2, width = self.width, height = self.height, \n",
    "                layout = {'border' : '1px solid black'},\n",
    "               )\n",
    "        self.bg, self.fg = self.mcanvas\n",
    "        self.bg.line_width = self.line_width\n",
    "        \n",
    "        ####\n",
    "        self.mcanvas.on_mouse_down(self.on_mouse_down)\n",
    "        self.mcanvas.on_mouse_up(self.on_mouse_up)\n",
    "       \n",
    "        self.ris = [(r,i) for r in range(3) for i in range(8)]\n",
    "        self.xys = [self.ri2xy(ri) for ri in self.ris]\n",
    "        self.selected_idx = None\n",
    "        ###\n",
    "        \n",
    "        self.game.new_game()\n",
    "        \n",
    "    def ri2xy(self, ri):\n",
    "        r, i = ri\n",
    "        s, w, h = self.scale, self.width, self.height\n",
    "        x, y = self.pts[i]\n",
    "        x = (s/3*(r+1)*x + 1) * w/2\n",
    "        y = (s/3*(r+1)*y + 1) * h/2\n",
    "       \n",
    "        return x, y    \n",
    "    ###\n",
    "    @debug.capture()        \n",
    "    def on_mouse_down(self, x, y):\n",
    "        if (idx := get_closest(self.xys, (x, y))) is None:\n",
    "            return\n",
    "        \n",
    "        src = self.ris[idx]\n",
    "        ptm = self.game.ptm\n",
    "        \n",
    "        if self.game.muehle:\n",
    "            self.game.move(ptm, 'r', src)\n",
    "            print(ptm, 'remove', src)\n",
    "        elif self.game.phase == 'place':\n",
    "            self.game.move(ptm, 'p', src)\n",
    "            print(ptm, 'place', src)\n",
    "        else:\n",
    "            self.selected_idx = idx\n",
    "                \n",
    "    @debug.capture()   \n",
    "    def on_mouse_up(self, x, y):   \n",
    "        if self.selected_idx is None or self.game.phase != 'move':\n",
    "            return\n",
    "        \n",
    "        idx = get_closest(self.xys, (x, y))\n",
    "        if idx is not None:\n",
    "            target = self.ris[idx]\n",
    "            src = self.ris[self.selected_idx]\n",
    "            ptm = self.game.ptm\n",
    "            self.game.move(ptm, 'm', src, target)\n",
    "            print(ptm, src, target)\n",
    "           \n",
    "        self.selected_idx = None \n",
    "    ####\n",
    "    def new_game(self, _):\n",
    "        self.mcanvas.clear()\n",
    "        for muehle in self.game.muehlen:\n",
    "            line = [self.ri2xy(ri) for ri in muehle]\n",
    "            self.bg.stroke_lines(line)\n",
    "     \n",
    "    def place_stone(self, ri, player):\n",
    "        color = self.colors[player]\n",
    "        x, y = self.ri2xy(ri)\n",
    "        self.fg.fill_style = color\n",
    "        self.fg.fill_circle(x, y, self.radius)\n",
    "    \n",
    "    def remove_stone(self, ri):\n",
    "        x, y = self.ri2xy(ri)\n",
    "        x -= (self.radius + 1)\n",
    "        y -= (self.radius + 1)\n",
    "        self.fg.clear_rect(x, y, 2*self.radius + 2)\n",
    "        \n",
    "    def move_stone(self, ri1, ri2, player):\n",
    "        self.remove_stone(ri1)\n",
    "        self.place_stone(ri2, player)\n",
    "        \n",
    "    def update(self, event, data):\n",
    "        getattr(self, event)(*data)\n",
    "    \n",
    "    def _ipython_display_(self):\n",
    "        display(self.mcanvas, debug)"
   ]
  },
  {
   "cell_type": "code",
   "execution_count": 156,
   "id": "7de38fed-bf7a-4dcb-b2e1-0451d0844cbb",
   "metadata": {},
   "outputs": [
    {
     "data": {
      "application/vnd.jupyter.widget-view+json": {
       "model_id": "1e08468a430c4362bd0f5892e556522e",
       "version_major": 2,
       "version_minor": 0
      },
      "text/plain": [
       "MultiCanvas(height=200, layout=Layout(border_bottom='1px solid black', border_left='1px solid black', border_r…"
      ]
     },
     "metadata": {},
     "output_type": "display_data"
    },
    {
     "data": {
      "application/vnd.jupyter.widget-view+json": {
       "model_id": "52dfcac3012f4f60aeb6529d50b49d0c",
       "version_major": 2,
       "version_minor": 0
      },
      "text/plain": [
       "Output(layout=Layout(border_bottom='1px solid black', border_left='1px solid black', border_right='1px solid b…"
      ]
     },
     "metadata": {},
     "output_type": "display_data"
    }
   ],
   "source": [
    "game = Game()\n",
    "view = View(game)\n",
    "view"
   ]
  },
  {
   "cell_type": "code",
   "execution_count": 161,
   "id": "0502f521-ea41-4f22-841f-5b75e0e07684",
   "metadata": {},
   "outputs": [],
   "source": [
    "game.phase = 'move'"
   ]
  },
  {
   "cell_type": "code",
   "execution_count": 162,
   "id": "52aed6a5-182c-41dc-9408-341d00597d4e",
   "metadata": {},
   "outputs": [],
   "source": [
    "debug.clear_output()"
   ]
  },
  {
   "cell_type": "code",
   "execution_count": 160,
   "id": "aa862a93-ec99-497a-afd2-833c30fa1400",
   "metadata": {},
   "outputs": [],
   "source": [
    "game.new_game()"
   ]
  },
  {
   "cell_type": "code",
   "execution_count": null,
   "id": "44e9b5cf-fb0a-4a40-9d14-cea30ec4592e",
   "metadata": {},
   "outputs": [],
   "source": []
  }
 ],
 "metadata": {
  "author": "dieter.probst@gmail.com",
  "kernelspec": {
   "display_name": "Python 3 (ipykernel)",
   "language": "python",
   "name": "python3"
  },
  "language_info": {
   "codemirror_mode": {
    "name": "ipython",
    "version": 3
   },
   "file_extension": ".py",
   "mimetype": "text/x-python",
   "name": "python",
   "nbconvert_exporter": "python",
   "pygments_lexer": "ipython3",
   "version": "3.12.0"
  }
 },
 "nbformat": 4,
 "nbformat_minor": 5
}
