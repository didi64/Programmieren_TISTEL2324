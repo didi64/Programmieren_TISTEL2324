{
 "cells": [
  {
   "cell_type": "markdown",
   "id": "fb5cd671-aa07-4f1a-9bca-6483e6208c4d",
   "metadata": {},
   "source": [
    "### M&uuml;hle, Skizze\n",
    "\n",
    "M&uuml;hle-Koordinaten: `(r, i)`, wobei\n",
    "- `r` ist einer der Ringe 0, 1 ,2. 0 ist der innerste Ring.\n",
    "- `i` ist einer der Punkte auf diesem Ring, nummeriert z.B.  \n",
    "$\\begin{array}{ccc}\n",
    "6& 5& 4\\\\\n",
    "7 &&  3\\\\\n",
    "0 &1 &2\\\\\n",
    "\\end{array}$  \n",
    "\n",
    "\n",
    "Man kann von `(r,i)` nach  `(s,j)` ziehen, falls\n",
    "- `r == s and abs(i - j) in (1, 7)` (benachbart im gleichen Ring)\n",
    "- `abs(r - s) == 1 and i == j and is_odd(i)` (benachbart auf Verbindung zw. Ringen)\n",
    "\n",
    "M&uuml;hlen (falls $8\\equiv 0$)\n",
    "- $[(r, i), (r, i+1), (r, i+2)]$ ist Ring-M&uuml;hle, falls $r\\in\\{0,1,2\\}$ und $i$ gerade.\n",
    "- $[(0, i), (1, i), (2, i)]$ ist Quer-M&uuml;hle, falls $i$ ungerade.\n",
    "\n",
    "Variabelnamen in der Klasse `Game`:\n",
    "- `stone`, `pos`: Tuple `(r, i)`, Position eines Spielsteins"
   ]
  },
  {
   "cell_type": "code",
   "execution_count": 4,
   "id": "d63d29f3-9a0b-4594-abf2-099023284075",
   "metadata": {},
   "outputs": [],
   "source": [
    "#%%file muehle0.py\n",
    "class Game:\n",
    "    def __init__(self):\n",
    "        self.players = (0, 1)\n",
    "        self.muehlen = ([[(r, i), (r, i+1), (r, (i+2) % 8)] \n",
    "                         for r in range(3) for i in range(8) if self.is_even(i)\n",
    "                        ] +\n",
    "                        [[(0, i), (1, i), (2, i)] for i in range(8) if self.is_odd(i)]\n",
    "                       )\n",
    "        self.callback = lambda event, data: print(event, data)\n",
    "        \n",
    "    def new_game(self):\n",
    "        self.board = {(r, i): None for r in range(3) for i in range(8)}\n",
    "        self.ptm = 0 # player to move\n",
    "        self.muehle = False  # hat jemand eine Muehle\n",
    "        self.phase = 'place' # place, move\n",
    "        self.callback('new_game', (self.muehlen,))\n",
    "       \n",
    "    def is_even(self, i):\n",
    "        return i % 2 == 0\n",
    "    \n",
    "    def is_odd(self, i):\n",
    "        return i % 2 == 1\n",
    "    \n",
    "    def is_muehle(self, stone):\n",
    "        for muehle in self.muehlen:\n",
    "            if stone in muehle and len(set(self.board[pos] for pos in muehle)) == 1:\n",
    "                return True\n",
    "          \n",
    "    def move(self, player, tp, src, target=None):\n",
    "        if tp == 'p':\n",
    "            self.board[src] = player\n",
    "            self.muehle = self.is_muehle(src)\n",
    "            self.callback('place_stone', (src, player))\n",
    "        elif tp == 'm':\n",
    "            self.board[src] = None\n",
    "            self.board[target] = player \n",
    "            self.muehle = self.is_muehle(target)\n",
    "            self.callback('move_stone', (src, target, player))\n",
    "        elif tp == 'r':\n",
    "            self.board[src] = None\n",
    "            self.muehle = False\n",
    "            self.callback('remove_stone', (src,))\n",
    "       \n",
    "        if not self.muehle:\n",
    "            self.ptm = 1 - self.ptm   \n",
    "        else:\n",
    "            print('muehle')\n",
    "        \n",
    "    def __repr__(self):\n",
    "        return 'Am Zug: {}\\nBoard {}'.\\\n",
    "                format(self.ptm, self.board)"
   ]
  },
  {
   "cell_type": "markdown",
   "id": "332e84e7-a11d-4fc9-9420-dd40006c9e6c",
   "metadata": {},
   "source": [
    "### Klasse Game testen"
   ]
  },
  {
   "cell_type": "code",
   "execution_count": null,
   "id": "196d626f-5884-409d-9531-840709ab3c29",
   "metadata": {},
   "outputs": [],
   "source": [
    "game = Game()\n",
    "game.new_game()\n",
    "game"
   ]
  },
  {
   "cell_type": "code",
   "execution_count": null,
   "id": "01d51c6e-c0e6-43ca-ba93-b54c55d61676",
   "metadata": {},
   "outputs": [],
   "source": [
    "# wird Muehle erkannt\n",
    "for i in range(3):\n",
    "    game.move(0, 'p', (0, i))\n",
    "game"
   ]
  },
  {
   "cell_type": "code",
   "execution_count": null,
   "id": "eda38780-91cc-4ecc-9693-cd915d4016e8",
   "metadata": {},
   "outputs": [],
   "source": [
    "# Stein von Spieler 1 setzen\n",
    "game.move(1, 'p', (0, 0))\n",
    "game"
   ]
  },
  {
   "cell_type": "code",
   "execution_count": null,
   "id": "bbf4ed82-eb4b-4c70-92bf-b80785557bd2",
   "metadata": {},
   "outputs": [],
   "source": [
    "# wurden Muehlen korrekt berechnet?\n",
    "game.muehlen"
   ]
  },
  {
   "cell_type": "code",
   "execution_count": null,
   "id": "3e410c87-e49c-453c-854e-2eaca491f281",
   "metadata": {},
   "outputs": [],
   "source": []
  }
 ],
 "metadata": {
  "author": "dieter.probst@gmail.com",
  "kernelspec": {
   "display_name": "Python 3 (ipykernel)",
   "language": "python",
   "name": "python3"
  },
  "language_info": {
   "codemirror_mode": {
    "name": "ipython",
    "version": 3
   },
   "file_extension": ".py",
   "mimetype": "text/x-python",
   "name": "python",
   "nbconvert_exporter": "python",
   "pygments_lexer": "ipython3",
   "version": "3.12.0"
  }
 },
 "nbformat": 4,
 "nbformat_minor": 5
}
