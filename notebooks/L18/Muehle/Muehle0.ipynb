{
 "cells": [
  {
   "cell_type": "markdown",
   "id": "fb5cd671-aa07-4f1a-9bca-6483e6208c4d",
   "metadata": {},
   "source": [
    "### M&uuml;hle, Skizze\n",
    "\n",
    "M&uuml;hle-Koordinaten: `(r, i)`, wobei\n",
    "- `r` ist einer der Ringe 0, 1 ,2.\n",
    "- `i` ist einer der Punkte auf diesem Ring, nummeriert z.B.  \n",
    "$\\begin{array}{ccc}\n",
    "6& 5& 4\\\\\n",
    "7 &&  3\\\\\n",
    "0 &1 &2\\\\\n",
    "\\end{array}$  \n",
    "\n",
    "\n",
    "Man kann von `(r,i)` nach  `(s,j)` ziehen, falls\n",
    "- `r == s and abs(i - j) in (1, 7)` (benachbart im gleichen Ring)\n",
    "- `abs(r - s) == 1 and i == j and is_odd(i)` (benachbart auf Verbindung zw. Ringen)\n",
    "\n",
    "M&uuml;hlen (falls $8\\equiv 0$)\n",
    "- $[(r, i), (r, i+1), (r, i+2)]$ ist Ring-M&uuml;hle, falls $r\\in\\{0,1,2\\}$ und $i$ gerade.\n",
    "- $[(0, i), (1, i), (2, i)]$ ist Quer-M&uuml;hle, falls $i$ ungerade.\n",
    "\n",
    "Variabelnamen in der Klasse `Game`:\n",
    "- `stone`, `pos`: Tuple `(r, i)`, Position eines Spielsteins"
   ]
  },
  {
   "cell_type": "code",
   "execution_count": 1,
   "id": "d63d29f3-9a0b-4594-abf2-099023284075",
   "metadata": {},
   "outputs": [],
   "source": [
    "#%%file muehle0.py\n",
    "class Game:\n",
    "    def __init__(self):\n",
    "        self.players = [0, 1]\n",
    "        self.muehlen = ([[(r, i), (r, i+1), (r, (i+2) % 8)] \n",
    "                         for r in range(3) for i in range(8) if self.is_even(i)\n",
    "                        ] +\n",
    "                        [[(0, i), (1, i), (2, i)] for i in range(8) if self.is_odd(i)]\n",
    "                       )\n",
    "        self.callback = lambda event, data: print(event, data)\n",
    "        \n",
    "    def new_game(self):\n",
    "        self.board = {(r, i): None for r in range(3) for i in range(8)}\n",
    "        self.ptm = 0 # player to move\n",
    "        self.muehle = False  # hat jemand eine Muehle\n",
    "        self.phase = 'place' # place, move\n",
    "        self.callback('new_game', (None,))\n",
    "       \n",
    "    def is_even(self, i):\n",
    "        return i % 2 == 0\n",
    "    \n",
    "    def is_odd(self, i):\n",
    "        return i % 2 == 1\n",
    "    \n",
    "    def is_muehle(self, stone):\n",
    "        for muehle in self.muehlen:\n",
    "            if stone in muehle and len(set(self.board[pos] for pos in muehle)) == 1:\n",
    "                return True\n",
    "          \n",
    "    def move(self, player, tp, src, target=None):\n",
    "        if tp == 'p':\n",
    "            self.board[src] = player\n",
    "            self.muehle = self.is_muehle(src)\n",
    "            self.callback('place_stone', (src, player))\n",
    "        elif tp == 'm':\n",
    "            self.board[src] = None\n",
    "            self.board[target] = player \n",
    "            self.muehle = self.is_muehle(target)\n",
    "            self.callback('move_stone', (src, target, player))\n",
    "        elif tp == 'r':\n",
    "            self.board[src] = None\n",
    "            self.muehle = False\n",
    "            self.callback('remove_stone', (src,))\n",
    "       \n",
    "        if not self.muehle:\n",
    "            self.ptm = 1 - self.ptm   \n",
    "        else:\n",
    "            print('muehle')\n",
    "        \n",
    "    def __repr__(self):\n",
    "        return 'Am Zug: {}\\nBoard {}'.\\\n",
    "                format(self.ptm, self.board)"
   ]
  },
  {
   "cell_type": "code",
   "execution_count": 2,
   "id": "196d626f-5884-409d-9531-840709ab3c29",
   "metadata": {},
   "outputs": [
    {
     "name": "stdout",
     "output_type": "stream",
     "text": [
      "new_game (None,)\n"
     ]
    },
    {
     "data": {
      "text/plain": [
       "Am Zug: 0\n",
       "Board {(0, 0): None, (0, 1): None, (0, 2): None, (0, 3): None, (0, 4): None, (0, 5): None, (0, 6): None, (0, 7): None, (1, 0): None, (1, 1): None, (1, 2): None, (1, 3): None, (1, 4): None, (1, 5): None, (1, 6): None, (1, 7): None, (2, 0): None, (2, 1): None, (2, 2): None, (2, 3): None, (2, 4): None, (2, 5): None, (2, 6): None, (2, 7): None}"
      ]
     },
     "execution_count": 2,
     "metadata": {},
     "output_type": "execute_result"
    }
   ],
   "source": [
    "game = Game()\n",
    "game.new_game()\n",
    "game"
   ]
  },
  {
   "cell_type": "code",
   "execution_count": 3,
   "id": "01d51c6e-c0e6-43ca-ba93-b54c55d61676",
   "metadata": {},
   "outputs": [
    {
     "name": "stdout",
     "output_type": "stream",
     "text": [
      "place_stone ((0, 0), 0)\n",
      "place_stone ((0, 1), 0)\n",
      "place_stone ((0, 2), 0)\n",
      "muehle\n"
     ]
    },
    {
     "data": {
      "text/plain": [
       "Am Zug: 0\n",
       "Board {(0, 0): 0, (0, 1): 0, (0, 2): 0, (0, 3): None, (0, 4): None, (0, 5): None, (0, 6): None, (0, 7): None, (1, 0): None, (1, 1): None, (1, 2): None, (1, 3): None, (1, 4): None, (1, 5): None, (1, 6): None, (1, 7): None, (2, 0): None, (2, 1): None, (2, 2): None, (2, 3): None, (2, 4): None, (2, 5): None, (2, 6): None, (2, 7): None}"
      ]
     },
     "execution_count": 3,
     "metadata": {},
     "output_type": "execute_result"
    }
   ],
   "source": [
    "for i in range(3):\n",
    "    game.move(0, 'p', (0, i))\n",
    "game"
   ]
  },
  {
   "cell_type": "code",
   "execution_count": 4,
   "id": "eda38780-91cc-4ecc-9693-cd915d4016e8",
   "metadata": {},
   "outputs": [
    {
     "name": "stdout",
     "output_type": "stream",
     "text": [
      "place_stone ((0, 0), 1)\n"
     ]
    },
    {
     "data": {
      "text/plain": [
       "Am Zug: 1\n",
       "Board {(0, 0): 1, (0, 1): 0, (0, 2): 0, (0, 3): None, (0, 4): None, (0, 5): None, (0, 6): None, (0, 7): None, (1, 0): None, (1, 1): None, (1, 2): None, (1, 3): None, (1, 4): None, (1, 5): None, (1, 6): None, (1, 7): None, (2, 0): None, (2, 1): None, (2, 2): None, (2, 3): None, (2, 4): None, (2, 5): None, (2, 6): None, (2, 7): None}"
      ]
     },
     "execution_count": 4,
     "metadata": {},
     "output_type": "execute_result"
    }
   ],
   "source": [
    "game.move(1, 'p', (0, 0))\n",
    "game"
   ]
  },
  {
   "cell_type": "code",
   "execution_count": 5,
   "id": "bbf4ed82-eb4b-4c70-92bf-b80785557bd2",
   "metadata": {},
   "outputs": [
    {
     "data": {
      "text/plain": [
       "[[(0, 0), (0, 1), (0, 2)],\n",
       " [(0, 2), (0, 3), (0, 4)],\n",
       " [(0, 4), (0, 5), (0, 6)],\n",
       " [(0, 6), (0, 7), (0, 0)],\n",
       " [(1, 0), (1, 1), (1, 2)],\n",
       " [(1, 2), (1, 3), (1, 4)],\n",
       " [(1, 4), (1, 5), (1, 6)],\n",
       " [(1, 6), (1, 7), (1, 0)],\n",
       " [(2, 0), (2, 1), (2, 2)],\n",
       " [(2, 2), (2, 3), (2, 4)],\n",
       " [(2, 4), (2, 5), (2, 6)],\n",
       " [(2, 6), (2, 7), (2, 0)],\n",
       " [(0, 1), (1, 1), (2, 1)],\n",
       " [(0, 3), (1, 3), (2, 3)],\n",
       " [(0, 5), (1, 5), (2, 5)],\n",
       " [(0, 7), (1, 7), (2, 7)]]"
      ]
     },
     "execution_count": 5,
     "metadata": {},
     "output_type": "execute_result"
    }
   ],
   "source": [
    "game.muehlen"
   ]
  }
 ],
 "metadata": {
  "author": "dieter.probst@gmail.com",
  "kernelspec": {
   "display_name": "Python 3 (ipykernel)",
   "language": "python",
   "name": "python3"
  },
  "language_info": {
   "codemirror_mode": {
    "name": "ipython",
    "version": 3
   },
   "file_extension": ".py",
   "mimetype": "text/x-python",
   "name": "python",
   "nbconvert_exporter": "python",
   "pygments_lexer": "ipython3",
   "version": "3.12.0"
  }
 },
 "nbformat": 4,
 "nbformat_minor": 5
}
