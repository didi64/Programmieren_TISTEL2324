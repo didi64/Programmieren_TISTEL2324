{
 "cells": [
  {
   "cell_type": "markdown",
   "id": "54556be7-6e16-4340-a6d4-655ab3a8c830",
   "metadata": {},
   "source": [
    "### Lektion 18, Überblick \n",
    "- Der [Python Style-Guide PEP8](https://peps.python.org/pep-0008/).  \n",
    "  PEP-8 legt Konventionen zum Programmieren fest (Einzug, Gebrauch von Leerzeichen, max. Zeilenl&auml;nge, Variabelnamen, ...).  \n",
    "- L&ouml;sungen zu Programmierproblemen aus den Projekten (Wordle, BlackJack).  \n",
    "- Trennung von Spiellogik und Darstellung bei einfachen Spielen/Anwendungen:  \n",
    "  Diskussion anhand der Beispiele Vier-Gewinnt und M&uuml;hle.\n"
   ]
  },
  {
   "cell_type": "code",
   "execution_count": null,
   "id": "419d995b-8ff5-40d3-8fb4-e413207c6880",
   "metadata": {},
   "outputs": [],
   "source": []
  }
 ],
 "metadata": {
  "kernelspec": {
   "display_name": "Python 3 (ipykernel)",
   "language": "python",
   "name": "python3"
  },
  "language_info": {
   "codemirror_mode": {
    "name": "ipython",
    "version": 3
   },
   "file_extension": ".py",
   "mimetype": "text/x-python",
   "name": "python",
   "nbconvert_exporter": "python",
   "pygments_lexer": "ipython3",
   "version": "3.12.0"
  }
 },
 "nbformat": 4,
 "nbformat_minor": 5
}
