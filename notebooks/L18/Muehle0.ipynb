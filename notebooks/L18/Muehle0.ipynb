{
 "cells": [
  {
   "cell_type": "markdown",
   "id": "fb5cd671-aa07-4f1a-9bca-6483e6208c4d",
   "metadata": {},
   "source": [
    "### M&uuml;hle, Skizze\n",
    "\n",
    "M&uuml;hle-Koordinaten: `(r, i)`, wobei\n",
    "- `r` ist einer der Ringe 0, 1 ,2.\n",
    "- `i` ist einer der Punkte auf diesem Ring, nummeriert z.B.  \n",
    "$\\begin{array}{ccc}\n",
    "6& 5& 4\\\\\n",
    "7 &&  3\\\\\n",
    "0 &1 &2\\\\\n",
    "\\end{array}$  \n",
    "\n",
    "\n",
    "Man kann von `(r,i)` nach  `(s,j)` ziehen, falls\n",
    "- `r == s and abs(i - j) in (1, 7)` (benachbart im gleichen Ring)\n",
    "- `abs(r - s) == 1 and i == j and is_odd(i)` (benachbart auf Verbindung zw. Ringen)\n",
    "\n",
    "M&uuml;hlen (falls $8\\equiv 0$)\n",
    "- $[(r, i), (r, i+1), (r, i+2)]$ ist M&uuml;hle, falls $r\\in\\{0,1,2\\}$ und $i$ gerade.\n",
    "- $[(0, i), (1, i), (2, i)]$ ist M&uuml;hle, falls $i$ ungerade."
   ]
  },
  {
   "cell_type": "code",
   "execution_count": null,
   "id": "d63d29f3-9a0b-4594-abf2-099023284075",
   "metadata": {},
   "outputs": [],
   "source": []
  },
  {
   "cell_type": "code",
   "execution_count": 1,
   "id": "2146fc41-c7b2-4dfd-9e96-5a866f26804e",
   "metadata": {},
   "outputs": [
    {
     "name": "stdout",
     "output_type": "stream",
     "text": [
      "Writing muehle0.py\n"
     ]
    }
   ],
   "source": [
    "#%%file muehle0.py\n",
    "class Game:\n",
    "    def __init__(self):\n",
    "        self.players = [0, 1]\n",
    "        self.muehlen = ([[(r, i), (r, i+1), (r, (i+2) % 8)] \n",
    "                         for r in range(3) for i in range(8) if self.is_even(i)\n",
    "                        ] +\n",
    "                        [[(0, i), (1, i), (2, i)] for i in range(8) if self.is_odd(i)]\n",
    "                       )\n",
    "        \n",
    "        self.new_game()\n",
    "        \n",
    "    def new_game(self):\n",
    "        self.board = {(r, i): None for r in range(3) for i in range(8)}\n",
    "        self.ptm = 0\n",
    "        self.result = None\n",
    "       \n",
    "    def is_even(self, i):\n",
    "        return i % 2 == 0\n",
    "    \n",
    "    def is_odd(self, i):\n",
    "        return i % 2 == 1\n",
    "    \n",
    "    def is_adjacent(self, pos1, pos2):\n",
    "        r, i = pos1\n",
    "        s, j = pos2\n",
    "        return (r == s and abs(i - j) in (1, 7) \n",
    "                or abs(r - s) == 1 and i == j and self.is_odd(i))\n",
    "                \n",
    "    def is_blocked(self, pos):\n",
    "        return None not in set(self.board[(r,i)] for r in range(3) for i in range(8) if self.is_adjacent(pos, (i,j)))\n",
    "                \n",
    "    def cannot_move(self, player):\n",
    "        stones = [(r, i) for r in range(3) for i in range(9) if position[r][i] == player]\n",
    "        return all(self.is_blocked(stone) for stone in  stones)   \n",
    "        \n",
    "    def update_result(self):\n",
    "        pass\n",
    "   \n",
    "    def is_legal(self, player, tp, src, target=None):\n",
    "        if player != self.ptm:\n",
    "            return False\n",
    "        \n",
    "        return True\n",
    "        \n",
    "    def move(self, player, tp, src, target=None):\n",
    "        if not self.is_legal(player, tp, src, target):\n",
    "            return\n",
    "        \n",
    "        if tp == 'p':\n",
    "            self.board[src] = player\n",
    "        elif tp == 'r':\n",
    "            self.board[src] = None\n",
    "        elif tp == 'm':\n",
    "            self.board[src] = None\n",
    "            self.board[target] = player\n",
    "        \n",
    "        self.result = self.update_result()\n",
    "        \n",
    "        if tp != 'r' and not self.update_result():\n",
    "            self.ptm = 1 - self.ptm   \n",
    "        \n",
    "    def __repr__(self):\n",
    "        return 'Am Zug: {}\\nResult: {}\\nBoard {}'.\\\n",
    "                format(self.ptm, self.result, self.board)"
   ]
  },
  {
   "cell_type": "code",
   "execution_count": 121,
   "id": "196d626f-5884-409d-9531-840709ab3c29",
   "metadata": {},
   "outputs": [
    {
     "data": {
      "text/plain": [
       "Am Zug: 0\n",
       "Result: None\n",
       "Board {(0, 0): None, (0, 1): None, (0, 2): None, (0, 3): None, (0, 4): None, (0, 5): None, (0, 6): None, (0, 7): None, (1, 0): None, (1, 1): None, (1, 2): None, (1, 3): None, (1, 4): None, (1, 5): None, (1, 6): None, (1, 7): None, (2, 0): None, (2, 1): None, (2, 2): None, (2, 3): None, (2, 4): None, (2, 5): None, (2, 6): None, (2, 7): None}"
      ]
     },
     "execution_count": 121,
     "metadata": {},
     "output_type": "execute_result"
    }
   ],
   "source": [
    "game = Game()\n",
    "game"
   ]
  },
  {
   "cell_type": "code",
   "execution_count": 122,
   "id": "01d51c6e-c0e6-43ca-ba93-b54c55d61676",
   "metadata": {},
   "outputs": [
    {
     "data": {
      "text/plain": [
       "Am Zug: 1\n",
       "Result: None\n",
       "Board {(0, 0): 0, (0, 1): None, (0, 2): None, (0, 3): None, (0, 4): None, (0, 5): None, (0, 6): None, (0, 7): None, (1, 0): None, (1, 1): None, (1, 2): None, (1, 3): None, (1, 4): None, (1, 5): None, (1, 6): None, (1, 7): None, (2, 0): None, (2, 1): None, (2, 2): None, (2, 3): None, (2, 4): None, (2, 5): None, (2, 6): None, (2, 7): None}"
      ]
     },
     "execution_count": 122,
     "metadata": {},
     "output_type": "execute_result"
    }
   ],
   "source": [
    "game.move(0, 'p', (0, 0))\n",
    "game"
   ]
  },
  {
   "cell_type": "code",
   "execution_count": 123,
   "id": "eda38780-91cc-4ecc-9693-cd915d4016e8",
   "metadata": {},
   "outputs": [
    {
     "data": {
      "text/plain": [
       "Am Zug: 0\n",
       "Result: None\n",
       "Board {(0, 0): 0, (0, 1): None, (0, 2): None, (0, 3): None, (0, 4): None, (0, 5): None, (0, 6): None, (0, 7): None, (1, 0): 1, (1, 1): None, (1, 2): None, (1, 3): None, (1, 4): None, (1, 5): None, (1, 6): None, (1, 7): None, (2, 0): None, (2, 1): None, (2, 2): None, (2, 3): None, (2, 4): None, (2, 5): None, (2, 6): None, (2, 7): None}"
      ]
     },
     "execution_count": 123,
     "metadata": {},
     "output_type": "execute_result"
    }
   ],
   "source": [
    "game.move(1, 'p', (1, 0))\n",
    "game"
   ]
  },
  {
   "cell_type": "code",
   "execution_count": 124,
   "id": "bbf4ed82-eb4b-4c70-92bf-b80785557bd2",
   "metadata": {},
   "outputs": [
    {
     "data": {
      "text/plain": [
       "[[(0, 0), (0, 1), (0, 2)],\n",
       " [(0, 2), (0, 3), (0, 4)],\n",
       " [(0, 4), (0, 5), (0, 6)],\n",
       " [(0, 6), (0, 7), (0, 0)],\n",
       " [(1, 0), (1, 1), (1, 2)],\n",
       " [(1, 2), (1, 3), (1, 4)],\n",
       " [(1, 4), (1, 5), (1, 6)],\n",
       " [(1, 6), (1, 7), (1, 0)],\n",
       " [(2, 0), (2, 1), (2, 2)],\n",
       " [(2, 2), (2, 3), (2, 4)],\n",
       " [(2, 4), (2, 5), (2, 6)],\n",
       " [(2, 6), (2, 7), (2, 0)],\n",
       " [(0, 1), (1, 1), (2, 1)],\n",
       " [(0, 3), (1, 3), (2, 3)],\n",
       " [(0, 5), (1, 5), (2, 5)],\n",
       " [(0, 7), (1, 7), (2, 7)]]"
      ]
     },
     "execution_count": 124,
     "metadata": {},
     "output_type": "execute_result"
    }
   ],
   "source": [
    "game.muehlen"
   ]
  },
  {
   "cell_type": "code",
   "execution_count": 23,
   "id": "4116d657-2572-470a-8c91-d5596770b890",
   "metadata": {},
   "outputs": [
    {
     "data": {
      "text/plain": [
       "Am Zug: O\n",
       "Result: None\n",
       "Board {(0, 0): None, (0, 1): None, (0, 2): None, (0, 3): None, (0, 4): None, (0, 5): None, (0, 6): None, (0, 7): None, (1, 0): None, (1, 1): None, (1, 2): None, (1, 3): None, (1, 4): None, (1, 5): None, (1, 6): None, (1, 7): None, (2, 0): None, (2, 1): None, (2, 2): None, (2, 3): None, (2, 4): None, (2, 5): None, (2, 6): None, (2, 7): None}"
      ]
     },
     "execution_count": 23,
     "metadata": {},
     "output_type": "execute_result"
    }
   ],
   "source": [
    "game.move(1, 'r', (0, 0))\n",
    "game"
   ]
  },
  {
   "cell_type": "code",
   "execution_count": null,
   "id": "5215fd79-f37c-474e-930e-c0bc42ff9dd0",
   "metadata": {},
   "outputs": [],
   "source": []
  },
  {
   "cell_type": "code",
   "execution_count": 116,
   "id": "282a98df-f834-4331-af0d-dea41d584d99",
   "metadata": {},
   "outputs": [],
   "source": [
    "from ipycanvas import MultiCanvas\n",
    "from ipywidgets import Output\n",
    "out = Output(layout = {'border': '1px solid black'})\n",
    "\n",
    "\n",
    "class View:\n",
    "    \n",
    "    width = 200\n",
    "    height = 200\n",
    "    \n",
    "    colors = ['red', 'blue']\n",
    "    line_width = 2\n",
    "    radius = 7\n",
    "    \n",
    "    scale = 0.8\n",
    "    pts =  [(-1, -1), (0, -1), (1, -1), (1, 0), (1, 1), (0, 1), (-1, 1), (-1, 0)]\n",
    "    \n",
    "    def __init__(self, game):\n",
    "        self.game = game\n",
    "        self.mcanvas = MultiCanvas(3, width = self.width, height = self.height, \n",
    "                layout = {'border' : '1px solid black'},\n",
    "               )\n",
    "        self.bg, *self.p_layers = self.mcanvas\n",
    "        self.bg.line_width = self.line_width\n",
    "        for layer, color in zip(self.p_layers, self.colors):\n",
    "            layer.fill_style = color\n",
    "       \n",
    "    def ri2xy(self, r, i):\n",
    "        s, w, h = self.scale, self.width, self.height\n",
    "        x, y = self.pts[i]\n",
    "        x = (s/3*(r+1)*x + 1) * w/2\n",
    "        y = (s/3*(r+1)*y + 1) * h/2\n",
    "       \n",
    "        return x, y    \n",
    "        \n",
    "    def draw_board(self):\n",
    "        for muehle in self.game.muehlen:\n",
    "            line = [self.ri2xy(r, i) for r,i in muehle]\n",
    "            self.bg.stroke_lines(line)\n",
    "            \n",
    "    def draw_position(self):\n",
    "        board = self.game.board\n",
    "        for pos, player in board.items():\n",
    "            if player is not None:\n",
    "                x, y = self.ri2xy(*pos)\n",
    "                self.p_layers[player].fill_circle(x, y, self.radius)\n",
    "        \n",
    "    def _ipython_display_(self):\n",
    "        display(self.mcanvas)"
   ]
  },
  {
   "cell_type": "code",
   "execution_count": null,
   "id": "976a2632-2be9-44a8-b979-66084906cc45",
   "metadata": {},
   "outputs": [],
   "source": []
  },
  {
   "cell_type": "code",
   "execution_count": 117,
   "id": "d153edfc-a77d-4d66-b974-4e745821a01a",
   "metadata": {},
   "outputs": [
    {
     "data": {
      "application/vnd.jupyter.widget-view+json": {
       "model_id": "3ad50a4b88c64cc7b1d60b2613aca78c",
       "version_major": 2,
       "version_minor": 0
      },
      "text/plain": [
       "MultiCanvas(height=200, layout=Layout(border_bottom='1px solid black', border_left='1px solid black', border_r…"
      ]
     },
     "metadata": {},
     "output_type": "display_data"
    }
   ],
   "source": [
    "view = View(game)\n",
    "view"
   ]
  },
  {
   "cell_type": "code",
   "execution_count": 118,
   "id": "07fb8b8d-8a2b-4ff4-b777-ca01431f1765",
   "metadata": {},
   "outputs": [],
   "source": [
    "view.draw_board()"
   ]
  },
  {
   "cell_type": "code",
   "execution_count": 119,
   "id": "07e7e882-f8e0-480e-aa63-da4272f3f69e",
   "metadata": {},
   "outputs": [],
   "source": [
    "view.draw_position()"
   ]
  },
  {
   "cell_type": "code",
   "execution_count": null,
   "id": "e9202cdf-fe22-4617-a4dd-37fd39b89ee2",
   "metadata": {},
   "outputs": [],
   "source": []
  },
  {
   "cell_type": "code",
   "execution_count": null,
   "id": "f7c53003-efd3-43b4-b8ae-0a3c3cfa671b",
   "metadata": {},
   "outputs": [],
   "source": [
    "from ipycanvas import MultiCanvas\n",
    "from ipywidgets import Output\n",
    "out = Output(layout = {'border': '1px solid black'})\n",
    "\n",
    "\n",
    "class View:\n",
    "    \n",
    "    width = 200\n",
    "    height = 200\n",
    "    \n",
    "    colors = ['red', 'blue']\n",
    "    line_width = 2\n",
    "    radius = 7\n",
    "    \n",
    "    scale = 0.8\n",
    "    pts =  [(-1, -1), (0, -1), (1, -1), (1, 0), (1, 1), (0, 1), (-1, 1), (-1, 0)]\n",
    "    \n",
    "    def __init__(self, game):\n",
    "        self.game = game\n",
    "        self.mcanvas = MultiCanvas(3, width = self.width, height = self.height, \n",
    "                layout = {'border' : '1px solid black'},\n",
    "               )\n",
    "        self.bg, *self.p_layers = self.mcanvas\n",
    "        self.bg.line_width = self.line_width\n",
    "        for layer, color in zip(self.p_layers, self.colors):\n",
    "            layer.fill_style = color\n",
    "       \n",
    "    def ri2xy(self, r, i):\n",
    "        s, w, h = self.scale, self.width, self.height\n",
    "        x, y = self.pts[i]\n",
    "        x = (s/3*(r+1)*x + 1) * w/2\n",
    "        y = (s/3*(r+1)*y + 1) * h/2\n",
    "       \n",
    "        return x, y    \n",
    "        \n",
    "    def draw_board(self):\n",
    "        for muehle in self.game.muehlen:\n",
    "            line = [self.ri2xy(r, i) for r,i in muehle]\n",
    "            self.bg.stroke_lines(line)\n",
    "            \n",
    "    def draw_position(self):\n",
    "        board = self.game.board\n",
    "        for pos, player in board.items():\n",
    "            if player is not None:\n",
    "                x, y = self.ri2xy(*pos)\n",
    "                self.p_layers[player].fill_circle(x, y, self.radius)\n",
    "        \n",
    "    def _ipython_display_(self):\n",
    "        display(self.mcanvas)"
   ]
  },
  {
   "cell_type": "code",
   "execution_count": null,
   "id": "3a1b62b1-bd7a-43f3-b849-ebe2c5054c73",
   "metadata": {},
   "outputs": [],
   "source": []
  },
  {
   "cell_type": "code",
   "execution_count": null,
   "id": "23704245-c432-4243-ba15-c6e3ea60e8f8",
   "metadata": {},
   "outputs": [],
   "source": [
    "from ipycanvas import MultiCanvas\n",
    "from ipywidgets import Output\n",
    "out = Output(layout = {'border': '1px solid black'})\n",
    "\n",
    "\n",
    "class View:\n",
    "    \n",
    "    width = 200\n",
    "    height = 200\n",
    "    \n",
    "    colors = ['red', 'blue']\n",
    "    line_width = 2\n",
    "    radius = 7\n",
    "    \n",
    "    scale = 0.8\n",
    "    pts =  [(-1, -1), (0, -1), (1, -1), (1, 0), (1, 1), (0, 1), (-1, 1), (-1, 0)]\n",
    "    \n",
    "    def __init__(self, game):\n",
    "        self.game = game\n",
    "        self.mcanvas = MultiCanvas(3, width = self.width, height = self.height, \n",
    "                layout = {'border' : '1px solid black'},\n",
    "               )\n",
    "        self.bg, *self.p_layers = self.mcanvas\n",
    "        self.bg.line_width = self.line_width\n",
    "        for layer, color in zip(self.p_layers, self.colors):\n",
    "            layer.fill_style = color\n",
    "       \n",
    "    def ri2xy(self, r, i):\n",
    "        s, w, h = self.scale, self.width, self.height\n",
    "        x, y = self.pts[i]\n",
    "        x = (s/3*(r+1)*x + 1) * w/2\n",
    "        y = (s/3*(r+1)*y + 1) * h/2\n",
    "       \n",
    "        return x, y    \n",
    "        \n",
    "    def draw_board(self):\n",
    "        for muehle in self.game.muehlen:\n",
    "            line = [self.ri2xy(r, i) for r,i in muehle]\n",
    "            self.bg.stroke_lines(line)\n",
    "            \n",
    "    def draw_position(self):\n",
    "        board = self.game.board\n",
    "        for pos, player in board.items():\n",
    "            if player is not None:\n",
    "                x, y = self.ri2xy(*pos)\n",
    "                self.p_layers[player].fill_circle(x, y, self.radius)\n",
    "        \n",
    "    def _ipython_display_(self):\n",
    "        display(self.mcanvas)"
   ]
  }
 ],
 "metadata": {
  "author": "dieter.probst@gmail.com",
  "kernelspec": {
   "display_name": "Python 3 (ipykernel)",
   "language": "python",
   "name": "python3"
  },
  "language_info": {
   "codemirror_mode": {
    "name": "ipython",
    "version": 3
   },
   "file_extension": ".py",
   "mimetype": "text/x-python",
   "name": "python",
   "nbconvert_exporter": "python",
   "pygments_lexer": "ipython3",
   "version": "3.12.0"
  }
 },
 "nbformat": 4,
 "nbformat_minor": 5
}
