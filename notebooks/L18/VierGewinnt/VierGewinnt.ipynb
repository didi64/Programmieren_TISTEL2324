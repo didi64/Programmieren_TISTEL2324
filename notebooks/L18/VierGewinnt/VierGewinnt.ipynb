{
 "cells": [
  {
   "cell_type": "markdown",
   "id": "21716441-97be-492f-aea6-b6dcc4dcc480",
   "metadata": {},
   "source": [
    "### Klasse `Game` f&uuml;r 4-Gewinnt  \n",
    "Die Klasse `Game` implementiert die Spiellogik f&uuml;r 4-Gewinnt.  \n",
    "- `new_game(cols = 7, player=0)` startet ein neues Spiel auf einem Spielfeld \n",
    "mit `cols` Spalten und `cols+1` Reihen. Der Spieler `player` (0 oder 1) beginnt.  \n",
    "- `drop_piece(cols)` platziert einen Stein des Spielers am Zug in Spalte `cols`,\n",
    "- Die Funktion `callback` liefert genug Informationen, so dass eine f&uuml;r die Darstellung verantwortliche Komponente\n",
    "laufend den aktuellen Spielzustand darstellen kann.  "
   ]
  },
  {
   "cell_type": "code",
   "execution_count": 81,
   "id": "a074e7a1-5a25-4e58-a49e-4d488320e612",
   "metadata": {},
   "outputs": [
    {
     "name": "stdout",
     "output_type": "stream",
     "text": [
      "Overwriting viergewinnt.py\n"
     ]
    }
   ],
   "source": [
    "#%%file viergewinnt.py\n",
    "TIE = 2\n",
    "class Game:\n",
    "    '''\n",
    "    game = Game() creates a game-instance\n",
    "    game.new_game() starts a new game of  4-gewinnt.\n",
    "    game.drop_piece(col) drops a piece in column col\n",
    "    \n",
    "    The function game.callback is intended to be overwritten by a class responsible for the presentation\n",
    "    and is called \n",
    "    - if a new game is started, with arguments \n",
    "      'new_game', {'player': player, 'rows': rows, 'cols': cols)}\n",
    "    - if a piece is dropped, with arguments \n",
    "      'place_piece', {'player': player, 'pos': (row, col)})   \n",
    "    - if the game ends, with arguments \n",
    "      'update_result', {'result': result}\n",
    "    '''\n",
    "    def __init__(self):\n",
    "        self.players = (0, 1)\n",
    "        self.results = {0: 'Player 0 wins', 1: 'Player 1 wins', TIE: 'tie', None: None}\n",
    "        self.callback = lambda event, data: print('event: {}, data: {}'.format(event, data))\n",
    "        \n",
    "    def new_game(self, cols = 7, player=0):\n",
    "        '''starts a new game\n",
    "           cols: int, number of columns\n",
    "           player: either 0 or 1, player who starts\n",
    "        '''   \n",
    "        self.ptm = player # Spieler am Zug\n",
    "        self.cols = cols\n",
    "        self.rows = cols - 1\n",
    "        self.board = [[' ' for _ in range(self.cols)] for _ in range(self.rows)]\n",
    "        \n",
    "        self.col_heights = [0] * self.cols # Fuellstand der Spalten\n",
    "        self.ply = 0 # gespielte Halbzuege\n",
    "        self.result = None # None, 0, 1, TIE\n",
    "        \n",
    "        self.callback('new_game', {'player': self.ptm, 'rows': self.rows, 'cols': self.cols})\n",
    "        \n",
    "    def is_game_over(self):\n",
    "        return self.result is not None\n",
    "    \n",
    "    def get_field(self, row, col):\n",
    "        if 0 <= row < self.rows and 0 <= col < self.cols:\n",
    "            return self.board[row][col]\n",
    "        \n",
    "    def drop_piece(self, col):\n",
    "        '''drops a stone in column col if game is still on and column not full'''\n",
    "        row = self.col_heights[col]\n",
    "        if self.is_game_over() or row == self.rows:\n",
    "            return\n",
    "        \n",
    "        self.board[row][col] = self.ptm\n",
    "        self.col_heights[col] += 1\n",
    "        self.ply += 1\n",
    "        self.callback('place_piece', {'player': self.ptm, 'pos': (row, col)})        \n",
    "               \n",
    "        if self.is_4gewinnt(row, col):\n",
    "            self.result = self.ptm\n",
    "        elif self.ply == self.rows*self.cols:\n",
    "            self.result =  TIE\n",
    "            \n",
    "        if self.result is None:\n",
    "            self.ptm = 1 - self.ptm\n",
    "        else:\n",
    "            self.ptm = None\n",
    "            self.callback('update_result', {'result': self.result})\n",
    "        \n",
    "    def _n_connect(self, row, col, dr, dc, d=1):\n",
    "        '''returns number of fields with same stone as in (row, pos) in direction (d*dr,d*dc)\n",
    "           0 if stone has no neighbor of its kind\n",
    "        '''\n",
    "        p = self.board[row][col]\n",
    "        i = 0\n",
    "        while self.get_field(row + (i + 1)*d*dr, col + (i + 1)*d*dc) == p:\n",
    "            i += 1\n",
    "        return i \n",
    "\n",
    "    def is_4gewinnt(self, row, col):\n",
    "        '''returns True if stone at (row, col) contributes to a 4gewinnt'''\n",
    "        for vec in [(0, 1), (1, 0), (1, 1), (-1, 1)]:\n",
    "            if sum(self._n_connect(row, col,*vec, d) for d in (-1, 1)) == 3:\n",
    "                return True\n",
    "        \n",
    "    def _board2str(self):\n",
    "        rows = [['{}'.format(x) for x in row] for row in self.board]\n",
    "        return '\\n'.join('{}'.format(row) for row in rows[::-1])\n",
    "    \n",
    "    def __repr__(self):\n",
    "        return 'Am Zug: {}\\nResultat: {}\\n{}'.\\\n",
    "            format(self.ptm, self.results[self.result], self._board2str())"
   ]
  },
  {
   "cell_type": "markdown",
   "id": "aeed3da1-1233-4a9f-b770-2264d5f9d54e",
   "metadata": {},
   "source": [
    "### Klasse Game testen"
   ]
  },
  {
   "cell_type": "code",
   "execution_count": 75,
   "id": "a91cdb81-0ad5-41df-a814-2a95cae9001c",
   "metadata": {},
   "outputs": [
    {
     "name": "stdout",
     "output_type": "stream",
     "text": [
      "event: new_game, data: {'player': 0, 'rows': 6, 'cols': 7}\n",
      "event: place_piece, data: {'player': 0, 'pos': (0, 0)}\n"
     ]
    },
    {
     "data": {
      "text/plain": [
       "Am Zug: 1\n",
       "Resultat: None\n",
       "[' ', ' ', ' ', ' ', ' ', ' ', ' ']\n",
       "[' ', ' ', ' ', ' ', ' ', ' ', ' ']\n",
       "[' ', ' ', ' ', ' ', ' ', ' ', ' ']\n",
       "[' ', ' ', ' ', ' ', ' ', ' ', ' ']\n",
       "[' ', ' ', ' ', ' ', ' ', ' ', ' ']\n",
       "['0', ' ', ' ', ' ', ' ', ' ', ' ']"
      ]
     },
     "execution_count": 75,
     "metadata": {},
     "output_type": "execute_result"
    }
   ],
   "source": [
    "# Stein platzieren\n",
    "game=Game()\n",
    "game.new_game()\n",
    "game.drop_piece(0)\n",
    "game"
   ]
  },
  {
   "cell_type": "code",
   "execution_count": 76,
   "id": "97974ac1-37bd-4811-8a56-32b54be47377",
   "metadata": {},
   "outputs": [
    {
     "name": "stdout",
     "output_type": "stream",
     "text": [
      "event: new_game, data: {'player': 0, 'rows': 6, 'cols': 7}\n",
      "event: place_piece, data: {'player': 0, 'pos': (0, 3)}\n",
      "event: place_piece, data: {'player': 1, 'pos': (0, 4)}\n",
      "event: place_piece, data: {'player': 0, 'pos': (1, 3)}\n",
      "event: place_piece, data: {'player': 1, 'pos': (1, 4)}\n",
      "event: place_piece, data: {'player': 0, 'pos': (2, 3)}\n",
      "event: place_piece, data: {'player': 1, 'pos': (2, 4)}\n",
      "event: place_piece, data: {'player': 0, 'pos': (3, 3)}\n",
      "event: update_result, data: {'result': 0}\n"
     ]
    },
    {
     "data": {
      "text/plain": [
       "Am Zug: None\n",
       "Resultat: Player 0 wins\n",
       "[' ', ' ', ' ', ' ', ' ', ' ', ' ']\n",
       "[' ', ' ', ' ', ' ', ' ', ' ', ' ']\n",
       "[' ', ' ', ' ', '0', ' ', ' ', ' ']\n",
       "[' ', ' ', ' ', '0', '1', ' ', ' ']\n",
       "[' ', ' ', ' ', '0', '1', ' ', ' ']\n",
       "[' ', ' ', ' ', '0', '1', ' ', ' ']"
      ]
     },
     "execution_count": 76,
     "metadata": {},
     "output_type": "execute_result"
    }
   ],
   "source": [
    "# 4gewinnt in einer Spalte\n",
    "game.new_game()\n",
    "for col in [3,4]*4:\n",
    "    game.drop_piece(col)\n",
    "game    "
   ]
  },
  {
   "cell_type": "code",
   "execution_count": 77,
   "id": "cff4f65d-523a-47c9-8792-f51fc12e1ff1",
   "metadata": {},
   "outputs": [
    {
     "name": "stdout",
     "output_type": "stream",
     "text": [
      "event: new_game, data: {'player': 0, 'rows': 6, 'cols': 7}\n",
      "event: place_piece, data: {'player': 0, 'pos': (0, 1)}\n",
      "event: place_piece, data: {'player': 1, 'pos': (1, 1)}\n",
      "event: place_piece, data: {'player': 0, 'pos': (0, 2)}\n",
      "event: place_piece, data: {'player': 1, 'pos': (1, 2)}\n",
      "event: place_piece, data: {'player': 0, 'pos': (0, 3)}\n",
      "event: place_piece, data: {'player': 1, 'pos': (1, 3)}\n",
      "event: place_piece, data: {'player': 0, 'pos': (0, 4)}\n",
      "event: update_result, data: {'result': 0}\n"
     ]
    },
    {
     "data": {
      "text/plain": [
       "Am Zug: None\n",
       "Resultat: Player 0 wins\n",
       "[' ', ' ', ' ', ' ', ' ', ' ', ' ']\n",
       "[' ', ' ', ' ', ' ', ' ', ' ', ' ']\n",
       "[' ', ' ', ' ', ' ', ' ', ' ', ' ']\n",
       "[' ', ' ', ' ', ' ', ' ', ' ', ' ']\n",
       "[' ', '1', '1', '1', ' ', ' ', ' ']\n",
       "[' ', '0', '0', '0', '0', ' ', ' ']"
      ]
     },
     "execution_count": 77,
     "metadata": {},
     "output_type": "execute_result"
    }
   ],
   "source": [
    "# 4gewinnt in einer Zeile\n",
    "game.new_game()\n",
    "for col in [1,1,2,2,3,3,4,4]:\n",
    "    game.drop_piece(col)\n",
    "game    "
   ]
  },
  {
   "cell_type": "code",
   "execution_count": 78,
   "id": "a149dab1-bd55-47a8-a054-5046e9e45548",
   "metadata": {},
   "outputs": [
    {
     "name": "stdout",
     "output_type": "stream",
     "text": [
      "event: new_game, data: {'player': 0, 'rows': 6, 'cols': 7}\n",
      "event: place_piece, data: {'player': 0, 'pos': (0, 0)}\n",
      "event: place_piece, data: {'player': 1, 'pos': (0, 3)}\n",
      "event: place_piece, data: {'player': 0, 'pos': (0, 4)}\n",
      "event: place_piece, data: {'player': 1, 'pos': (1, 4)}\n",
      "event: place_piece, data: {'player': 0, 'pos': (0, 5)}\n",
      "event: place_piece, data: {'player': 1, 'pos': (0, 6)}\n",
      "event: place_piece, data: {'player': 0, 'pos': (1, 5)}\n",
      "event: place_piece, data: {'player': 1, 'pos': (2, 5)}\n",
      "event: place_piece, data: {'player': 0, 'pos': (1, 6)}\n",
      "event: place_piece, data: {'player': 1, 'pos': (2, 6)}\n",
      "event: place_piece, data: {'player': 0, 'pos': (1, 0)}\n",
      "event: place_piece, data: {'player': 1, 'pos': (3, 6)}\n",
      "event: update_result, data: {'result': 1}\n"
     ]
    },
    {
     "data": {
      "text/plain": [
       "Am Zug: None\n",
       "Resultat: Player 1 wins\n",
       "[' ', ' ', ' ', ' ', ' ', ' ', ' ']\n",
       "[' ', ' ', ' ', ' ', ' ', ' ', ' ']\n",
       "[' ', ' ', ' ', ' ', ' ', ' ', '1']\n",
       "[' ', ' ', ' ', ' ', ' ', '1', '1']\n",
       "['0', ' ', ' ', ' ', '1', '0', '0']\n",
       "['0', ' ', ' ', '1', '0', '0', '1']"
      ]
     },
     "execution_count": 78,
     "metadata": {},
     "output_type": "execute_result"
    }
   ],
   "source": [
    "# 4gewinnt in Diagonale nach rechts\n",
    "game.new_game()\n",
    "for col in [0,3,4,4,5,6,5,5,6,6,0,6,2]:\n",
    "    game.drop_piece(col)\n",
    "game"
   ]
  },
  {
   "cell_type": "code",
   "execution_count": 79,
   "id": "dea8fcc2-53ec-450e-89d2-3f4cd087231f",
   "metadata": {},
   "outputs": [
    {
     "name": "stdout",
     "output_type": "stream",
     "text": [
      "event: new_game, data: {'player': 0, 'rows': 6, 'cols': 7}\n",
      "event: place_piece, data: {'player': 0, 'pos': (0, 6)}\n",
      "event: place_piece, data: {'player': 1, 'pos': (0, 3)}\n",
      "event: place_piece, data: {'player': 0, 'pos': (0, 2)}\n",
      "event: place_piece, data: {'player': 1, 'pos': (1, 2)}\n",
      "event: place_piece, data: {'player': 0, 'pos': (0, 1)}\n",
      "event: place_piece, data: {'player': 1, 'pos': (0, 0)}\n",
      "event: place_piece, data: {'player': 0, 'pos': (1, 1)}\n",
      "event: place_piece, data: {'player': 1, 'pos': (2, 1)}\n",
      "event: place_piece, data: {'player': 0, 'pos': (1, 0)}\n",
      "event: place_piece, data: {'player': 1, 'pos': (2, 0)}\n",
      "event: place_piece, data: {'player': 0, 'pos': (1, 6)}\n",
      "event: place_piece, data: {'player': 1, 'pos': (3, 0)}\n",
      "event: update_result, data: {'result': 1}\n"
     ]
    },
    {
     "data": {
      "text/plain": [
       "Am Zug: None\n",
       "Resultat: Player 1 wins\n",
       "[' ', ' ', ' ', ' ', ' ', ' ', ' ']\n",
       "[' ', ' ', ' ', ' ', ' ', ' ', ' ']\n",
       "['1', ' ', ' ', ' ', ' ', ' ', ' ']\n",
       "['1', '1', ' ', ' ', ' ', ' ', ' ']\n",
       "['0', '0', '1', ' ', ' ', ' ', '0']\n",
       "['1', '0', '0', '1', ' ', ' ', '0']"
      ]
     },
     "execution_count": 79,
     "metadata": {},
     "output_type": "execute_result"
    }
   ],
   "source": [
    "# 4gewinnt in Diagonale nach links\n",
    "game.new_game()\n",
    "for col in [0,3,4,4,5,6,5,5,6,6,0,6]:\n",
    "    game.drop_piece(6-col)\n",
    "game"
   ]
  },
  {
   "cell_type": "code",
   "execution_count": 80,
   "id": "5db81fc4-2851-4e7a-b82a-d239a5f7c966",
   "metadata": {},
   "outputs": [
    {
     "name": "stdout",
     "output_type": "stream",
     "text": [
      "event: new_game, data: {'player': 1, 'rows': 3, 'cols': 4}\n",
      "event: place_piece, data: {'player': 1, 'pos': (0, 0)}\n",
      "event: place_piece, data: {'player': 0, 'pos': (0, 1)}\n",
      "event: place_piece, data: {'player': 1, 'pos': (0, 2)}\n",
      "event: place_piece, data: {'player': 0, 'pos': (0, 3)}\n",
      "event: place_piece, data: {'player': 1, 'pos': (1, 0)}\n",
      "event: place_piece, data: {'player': 0, 'pos': (1, 1)}\n",
      "event: place_piece, data: {'player': 1, 'pos': (1, 2)}\n",
      "event: place_piece, data: {'player': 0, 'pos': (1, 3)}\n",
      "event: place_piece, data: {'player': 1, 'pos': (2, 0)}\n",
      "event: place_piece, data: {'player': 0, 'pos': (2, 1)}\n",
      "event: place_piece, data: {'player': 1, 'pos': (2, 2)}\n",
      "event: place_piece, data: {'player': 0, 'pos': (2, 3)}\n",
      "event: update_result, data: {'result': 2}\n"
     ]
    },
    {
     "data": {
      "text/plain": [
       "Am Zug: None\n",
       "Resultat: tie\n",
       "['1', '0', '1', '0']\n",
       "['1', '0', '1', '0']\n",
       "['1', '0', '1', '0']"
      ]
     },
     "execution_count": 80,
     "metadata": {},
     "output_type": "execute_result"
    }
   ],
   "source": [
    "# Unentschieden auf kleinem Spielfeld, Spieler 1 beginnt\n",
    "game.new_game(4, player=1)\n",
    "for col in [0,1,2,3]*4:\n",
    "    game.drop_piece(col)\n",
    "game"
   ]
  },
  {
   "cell_type": "code",
   "execution_count": null,
   "id": "8ab97e2e-cdd9-4dd7-a48f-ebe4ab93fd1a",
   "metadata": {},
   "outputs": [],
   "source": []
  }
 ],
 "metadata": {
  "kernelspec": {
   "display_name": "Python 3 (ipykernel)",
   "language": "python",
   "name": "python3"
  },
  "language_info": {
   "codemirror_mode": {
    "name": "ipython",
    "version": 3
   },
   "file_extension": ".py",
   "mimetype": "text/x-python",
   "name": "python",
   "nbconvert_exporter": "python",
   "pygments_lexer": "ipython3",
   "version": "3.12.0"
  }
 },
 "nbformat": 4,
 "nbformat_minor": 5
}
