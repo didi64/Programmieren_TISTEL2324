{
 "cells": [
  {
   "cell_type": "markdown",
   "id": "748be413-3e0d-4096-837a-c633eadec004",
   "metadata": {},
   "source": [
    "### Wordle, Rateversuch f&auml;rben"
   ]
  },
  {
   "cell_type": "markdown",
   "id": "7c9febd2-da26-4a8c-9ac5-46c81ee9ce31",
   "metadata": {},
   "source": [
    "Das F&auml;rben der Buchstaben eines Rateversuchs l&auml;sst sich als Paarbildungsproblem ansehen.\n",
    "Jeder Buchstaben des Rateversuchs m&ouml;chte mit einem gleichen Buchstaben des L&ouml;sungswort gepaart werden.\n",
    "Dazu werden die Buchstaben der beiden W&ouml;rter gegen&uuml;ber aufgereiht.  \n",
    "1. Steht ein Buchstaben des Rateversuchs einem gleichen Buchstaben des L&ouml;sungsworts gegen&uuml;ber, wird er gr&uuml;n gef&auml;rbt.\n",
    "   Beide Buchstaben werden entfernt.\n",
    "2. Der erste verbleibende Buchstabe des Rateversuchs sucht sich nun einen gleichen im L&ouml;sungswort verblieben Buchstaben.\n",
    "   Findet er einen, wird er gelb gef&auml;rbt und beide Buchstaben werden entfernt, andernfalls wird er grau gef&auml;rbt und entfernt.\n",
    "   Analog wird mit den verbleibenden Buchstaben des Rateversuchs verfahren.\n"
   ]
  },
  {
   "cell_type": "code",
   "execution_count": 59,
   "id": "4420b28c-3e7b-4778-90a6-10f1d1a70b03",
   "metadata": {},
   "outputs": [],
   "source": [
    "def color_letters(guess, solution):\n",
    "    coloring = ['grey'] * len(guess) \n",
    "    unmatched = list(solution)\n",
    "    revisit = [] \n",
    "    \n",
    "    for i, ch in enumerate(guess):\n",
    "        if ch == solution[i]:\n",
    "            coloring[i] = 'green'\n",
    "            unmatched.remove(ch)\n",
    "        else:\n",
    "            revisit.append((i, ch))\n",
    "            \n",
    "    for i, ch in revisit:   \n",
    "        if ch in unmatched:\n",
    "            coloring[i] = 'yellow'\n",
    "            unmatched.remove(ch)\n",
    "          \n",
    "    return coloring"
   ]
  },
  {
   "cell_type": "code",
   "execution_count": 60,
   "id": "515e8e51-e3d3-4a8b-939b-f49182160d6d",
   "metadata": {},
   "outputs": [
    {
     "data": {
      "text/plain": [
       "['yellow', 'grey', 'green', 'green', 'green']"
      ]
     },
     "execution_count": 60,
     "metadata": {},
     "output_type": "execute_result"
    }
   ],
   "source": [
    "color_letters(guess='apple', solution='maple')"
   ]
  },
  {
   "cell_type": "markdown",
   "id": "e83b4b6d-152c-46a3-8e98-8aeee626670e",
   "metadata": {},
   "source": [
    "### Black-Jack, Handwert\n",
    "1. Ein provisorischer Handwert wird berechnet: Jedes Ass z&auml;hlt 11 Punkte. Die Anzahl Asse wird notiert.\n",
    "2. Ist der Handwert gr&ouml;sser als 21 und die Anzahl Asse gr&ouml;sser als 0, wird der Handwert um 10 und die Anzahl Asse um 1  reduziert.\n",
    "   Dies wird wiederholt, solange der Handwert gr&ouml;sser als 21 und die Anzahl Asse gr&ouml;sser als 0 ist.\n"
   ]
  },
  {
   "cell_type": "code",
   "execution_count": null,
   "id": "8bde80aa-6c7e-45e6-9573-f91ae1d9c666",
   "metadata": {},
   "outputs": [],
   "source": [
    "def hand_value(hand):\n",
    "    total_value = 0\n",
    "    num_aces = 0\n",
    "\n",
    "    for card in hand:\n",
    "        if card in ['J', 'Q', 'K']:\n",
    "            total_value += 10\n",
    "        elif card == 'A':\n",
    "            num_aces += 1\n",
    "            total_value += 11  # Assume ace initially counts as 11\n",
    "        else:\n",
    "            total_value += int(card)\n",
    "\n",
    "    # Adjust the value of aces if necessary to prevent busting\n",
    "    while total_value > 21 and num_aces > 0:\n",
    "        total_value -= 10  # Change the value of ace from 11 to 1\n",
    "        num_aces -= 1\n",
    "\n",
    "    return total_value"
   ]
  },
  {
   "cell_type": "code",
   "execution_count": null,
   "id": "f7b58fba-a23b-40e7-9057-1f9aed318afd",
   "metadata": {},
   "outputs": [],
   "source": [
    "hand_value(['5', '5', 'A', 'A'])"
   ]
  },
  {
   "cell_type": "code",
   "execution_count": 66,
   "id": "3976aa18-60ac-4e3d-81f4-f86694c68631",
   "metadata": {},
   "outputs": [
    {
     "data": {
      "application/vnd.jupyter.widget-view+json": {
       "model_id": "fb25851823b64438bc82fc7b075bc97c",
       "version_major": 2,
       "version_minor": 0
      },
      "text/plain": [
       "VBox(children=(HBox(children=(Select(options=('⬆️ .', '  📁 Abgaben24', '  📁 CanvasGames', '  📁 Canvas__Lessons…"
      ]
     },
     "metadata": {},
     "output_type": "display_data"
    },
    {
     "data": {
      "application/vnd.jupyter.widget-view+json": {
       "model_id": "4f62299bb2b94f3c95c2753a9aadd6ab",
       "version_major": 2,
       "version_minor": 0
      },
      "text/plain": [
       "Output(layout=Layout(border_bottom='1px solid black', border_left='1px solid black', border_right='1px solid b…"
      ]
     },
     "metadata": {},
     "output_type": "display_data"
    }
   ],
   "source": [
    "%run -m nbf"
   ]
  },
  {
   "cell_type": "code",
   "execution_count": null,
   "id": "9440b0e4-4248-4662-8b72-86d65436e296",
   "metadata": {},
   "outputs": [],
   "source": []
  }
 ],
 "metadata": {
  "kernelspec": {
   "display_name": "Python 3 (ipykernel)",
   "language": "python",
   "name": "python3"
  },
  "language_info": {
   "codemirror_mode": {
    "name": "ipython",
    "version": 3
   },
   "file_extension": ".py",
   "mimetype": "text/x-python",
   "name": "python",
   "nbconvert_exporter": "python",
   "pygments_lexer": "ipython3",
   "version": "3.12.0"
  }
 },
 "nbformat": 4,
 "nbformat_minor": 5
}
