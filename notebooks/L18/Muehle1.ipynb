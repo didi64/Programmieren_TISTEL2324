{
 "cells": [
  {
   "cell_type": "markdown",
   "id": "fb5cd671-aa07-4f1a-9bca-6483e6208c4d",
   "metadata": {},
   "source": [
    "### M&uuml;hle, Skizze\n",
    "\n",
    "M&uuml;hle-Koordinaten: `(r, i)`, wobei\n",
    "- `r` ist einer der Ringe 0, 1 ,2.\n",
    "- `i` ist einer der Punkte auf diesem Ring, nummeriert z.B.  \n",
    "$\\begin{array}{ccc}\n",
    "6& 5& 4\\\\\n",
    "7 &&  3\\\\\n",
    "0 &1 &2\\\\\n",
    "\\end{array}$  \n",
    "\n",
    "\n",
    "Man kann von `(r,i)` nach  `(s,j)` ziehen, falls\n",
    "- `r == s and abs(i - j) in (1, 7)` (benachbart im gleichen Ring)\n",
    "- `abs(r - s) == 1 and i == j and is_odd(i)` (benachbart auf Verbindung zw. Ringen)\n",
    "\n",
    "M&uuml;hlen (falls $8\\equiv 0$)\n",
    "- $[(r, i), (r, i+1), (r, i+2)]$ ist M&uuml;hle, falls $r\\in\\{0,1,2\\}$ und $i$ gerade.\n",
    "- $[(0, i), (1, i), (2, i)]$ ist M&uuml;hle, falls $i$ ungerade."
   ]
  },
  {
   "cell_type": "code",
   "execution_count": null,
   "id": "d63d29f3-9a0b-4594-abf2-099023284075",
   "metadata": {},
   "outputs": [],
   "source": [
    "aus muhle nehmen falls nur muehlen!"
   ]
  },
  {
   "cell_type": "code",
   "execution_count": 301,
   "id": "2146fc41-c7b2-4dfd-9e96-5a866f26804e",
   "metadata": {},
   "outputs": [],
   "source": [
    "class Game:\n",
    "    def __init__(self):\n",
    "        self.players = [0, 1]\n",
    "        self.muehlen = ([[(r, i), (r, i+1), (r, (i+2) % 8)] \n",
    "                         for r in range(3) for i in range(8) if self.is_even(i)\n",
    "                        ] +\n",
    "                        [[(0, i), (1, i), (2, i)] for i in range(8) if self.is_odd(i)]\n",
    "                       )\n",
    "        self.callback = lambda: print(self)\n",
    "        self.new_game()\n",
    "        \n",
    "    def new_game(self):\n",
    "        self.board = {(r, i): None for r in range(3) for i in range(8)}\n",
    "        self.ptm = 0\n",
    "        self.ply = 0\n",
    "        self.muehle = False\n",
    "        self.result = None\n",
    "       \n",
    "    def is_even(self, i):\n",
    "        return i % 2 == 0\n",
    "    \n",
    "    def is_odd(self, i):\n",
    "        return i % 2 == 1\n",
    "    \n",
    "    def is_adjacent(self, pos1, pos2):\n",
    "        r, i = pos1\n",
    "        s, j = pos2\n",
    "        return (r == s and abs(i - j) in (1, 7) \n",
    "                or abs(r - s) == 1 and i == j and self.is_odd(i)\n",
    "               )\n",
    "                \n",
    "    def is_blocked(self, pos):\n",
    "        return None not in set(p for pos_, p  in self.board.items() if self.is_adjacent(pos, pos_))\n",
    "                \n",
    "    def cannot_move(self, player):\n",
    "        stones = [stone for stone, p in self.board.items() if p == player]\n",
    "        return stones and all(self.is_blocked(stone) for stone in  stones)   \n",
    "    \n",
    "    def get_nstones(self, player):\n",
    "        return list(self.board.values()).count(player)\n",
    "        \n",
    "    def is_muehle(self, stone):\n",
    "        for muehle in self.muehlen:\n",
    "            if stone in muehle and len(set(self.board[pos] for pos in muehle)) == 1:\n",
    "                return True\n",
    "                \n",
    "    def update_result(self):\n",
    "        opponent = 1 - self.ptm\n",
    "        if self.cannot_move(opponent) or (self.ply >= 18 and self.get_nstones(opponent) < 3):\n",
    "            self.result = self.ptm\n",
    "   \n",
    "    def is_legal(self, player, tp, src, target=None):\n",
    "        # Spieler nicht am Zug\n",
    "        if player != self.ptm:\n",
    "            return\n",
    "        # Muehle, aber kein Stein wird entfernt\n",
    "        if self.muehle and tp != 'r':\n",
    "            return \n",
    "        \n",
    "        if tp == 'r':\n",
    "            # keine Muehle\n",
    "            if not self.muehle:\n",
    "                return\n",
    "            # kein gegnerischer Stein an Position src\n",
    "            opponent = 1 - self.ptm\n",
    "            if self.board[src] != opponent: \n",
    "                return\n",
    "            \n",
    "            # Stein in Muhle und Gegner hat mehr als 3 Steine\n",
    "            if self.is_muehle(src) and self.get_nstones(opponent) > 3:\n",
    "                return\n",
    "            \n",
    "        # nicht mehr in Setzphase oder Platz nicht frei    \n",
    "        if tp == 'p' and (self.ply >= 18 or self.board[src] is not None):\n",
    "            return\n",
    "        \n",
    "      \n",
    "        if tp == 'm':\n",
    "            # nicht in Setzphase\n",
    "            if self.ply < 18:\n",
    "                return\n",
    "            # Platz nicht frei \n",
    "            if self.board[src] is not None:\n",
    "                return\n",
    "            # src und taret nicht benachbart und mehr als 3 Steine\n",
    "            if self.get_nstones(self.ptm) > 3 and not self.is_adjacent(src, target):\n",
    "                return\n",
    "            \n",
    "        return True\n",
    "        \n",
    "    def move(self, player, tp, src, target=None):\n",
    "        if not self.is_legal(player, tp, src, target):\n",
    "            return\n",
    "        \n",
    "        if tp == 'p':\n",
    "            self.board[src] = player\n",
    "            self.muehle = self.is_muehle(src)\n",
    "            print('Muehle',self.muehle)\n",
    "        elif tp == 'r':\n",
    "            self.board[src] = None\n",
    "            self.muehle = False\n",
    "        elif tp == 'm':\n",
    "            self.board[src] = None\n",
    "            self.board[target] = player\n",
    "        \n",
    "        self.update_result()\n",
    "        \n",
    "        if self.result is None and not self.muehle:\n",
    "            self.ptm = 1 - self.ptm   \n",
    "            self.ply += 1\n",
    "            \n",
    "        self.callback()\n",
    "        \n",
    "    def __repr__(self):\n",
    "        return 'Am Zug: {}\\nResult: {}\\nBoard {}'.\\\n",
    "                format(self.ptm, self.result, self.board)"
   ]
  },
  {
   "cell_type": "code",
   "execution_count": 302,
   "id": "196d626f-5884-409d-9531-840709ab3c29",
   "metadata": {},
   "outputs": [
    {
     "data": {
      "text/plain": [
       "Am Zug: 0\n",
       "Result: None\n",
       "Board {(0, 0): None, (0, 1): None, (0, 2): None, (0, 3): None, (0, 4): None, (0, 5): None, (0, 6): None, (0, 7): None, (1, 0): None, (1, 1): None, (1, 2): None, (1, 3): None, (1, 4): None, (1, 5): None, (1, 6): None, (1, 7): None, (2, 0): None, (2, 1): None, (2, 2): None, (2, 3): None, (2, 4): None, (2, 5): None, (2, 6): None, (2, 7): None}"
      ]
     },
     "execution_count": 302,
     "metadata": {},
     "output_type": "execute_result"
    }
   ],
   "source": [
    "game = Game()\n",
    "game"
   ]
  },
  {
   "cell_type": "code",
   "execution_count": 289,
   "id": "a0a88596-da9e-4c94-9252-b988e4bd8348",
   "metadata": {},
   "outputs": [
    {
     "data": {
      "text/plain": [
       "True"
      ]
     },
     "execution_count": 289,
     "metadata": {},
     "output_type": "execute_result"
    }
   ],
   "source": [
    "game.is_legal(0, 'p', (0, 0))"
   ]
  },
  {
   "cell_type": "code",
   "execution_count": 300,
   "id": "fb379a9d-bbdb-4974-901d-2ec8d3514ac3",
   "metadata": {},
   "outputs": [
    {
     "data": {
      "text/plain": [
       "True"
      ]
     },
     "execution_count": 300,
     "metadata": {},
     "output_type": "execute_result"
    }
   ],
   "source": [
    "game.cannot_move(1)"
   ]
  },
  {
   "cell_type": "code",
   "execution_count": 297,
   "id": "01d51c6e-c0e6-43ca-ba93-b54c55d61676",
   "metadata": {},
   "outputs": [
    {
     "name": "stdout",
     "output_type": "stream",
     "text": [
      "Muehle None\n",
      "Am Zug: 0\n",
      "Result: 0\n",
      "Board {(0, 0): 0, (0, 1): None, (0, 2): None, (0, 3): None, (0, 4): None, (0, 5): None, (0, 6): None, (0, 7): None, (1, 0): None, (1, 1): None, (1, 2): None, (1, 3): None, (1, 4): None, (1, 5): None, (1, 6): None, (1, 7): None, (2, 0): None, (2, 1): None, (2, 2): None, (2, 3): None, (2, 4): None, (2, 5): None, (2, 6): None, (2, 7): None}\n"
     ]
    }
   ],
   "source": [
    "game.move(0, 'p', (0, 0))"
   ]
  },
  {
   "cell_type": "code",
   "execution_count": 243,
   "id": "eda38780-91cc-4ecc-9693-cd915d4016e8",
   "metadata": {},
   "outputs": [
    {
     "name": "stdout",
     "output_type": "stream",
     "text": [
      "Am Zug: 0\n",
      "Result: None\n",
      "Board {(0, 0): 0, (0, 1): 1, (0, 2): None, (0, 3): None, (0, 4): None, (0, 5): None, (0, 6): None, (0, 7): None, (1, 0): None, (1, 1): None, (1, 2): None, (1, 3): None, (1, 4): None, (1, 5): None, (1, 6): None, (1, 7): None, (2, 0): None, (2, 1): None, (2, 2): None, (2, 3): None, (2, 4): None, (2, 5): None, (2, 6): None, (2, 7): None}\n"
     ]
    }
   ],
   "source": [
    "game.move(1, 'p', (0, 1))"
   ]
  },
  {
   "cell_type": "code",
   "execution_count": 188,
   "id": "bbf4ed82-eb4b-4c70-92bf-b80785557bd2",
   "metadata": {},
   "outputs": [
    {
     "data": {
      "text/plain": [
       "[[(0, 0), (0, 1), (0, 2)],\n",
       " [(0, 2), (0, 3), (0, 4)],\n",
       " [(0, 4), (0, 5), (0, 6)],\n",
       " [(0, 6), (0, 7), (0, 0)],\n",
       " [(1, 0), (1, 1), (1, 2)],\n",
       " [(1, 2), (1, 3), (1, 4)],\n",
       " [(1, 4), (1, 5), (1, 6)],\n",
       " [(1, 6), (1, 7), (1, 0)],\n",
       " [(2, 0), (2, 1), (2, 2)],\n",
       " [(2, 2), (2, 3), (2, 4)],\n",
       " [(2, 4), (2, 5), (2, 6)],\n",
       " [(2, 6), (2, 7), (2, 0)],\n",
       " [(0, 1), (1, 1), (2, 1)],\n",
       " [(0, 3), (1, 3), (2, 3)],\n",
       " [(0, 5), (1, 5), (2, 5)],\n",
       " [(0, 7), (1, 7), (2, 7)]]"
      ]
     },
     "execution_count": 188,
     "metadata": {},
     "output_type": "execute_result"
    }
   ],
   "source": [
    "game.muehlen"
   ]
  },
  {
   "cell_type": "code",
   "execution_count": 190,
   "id": "4116d657-2572-470a-8c91-d5596770b890",
   "metadata": {},
   "outputs": [],
   "source": [
    "game.move(0, 'r', (0, 1))"
   ]
  },
  {
   "cell_type": "code",
   "execution_count": 192,
   "id": "5215fd79-f37c-474e-930e-c0bc42ff9dd0",
   "metadata": {},
   "outputs": [],
   "source": [
    "game.move(0, 'm', (0, 0), (0, 1))"
   ]
  },
  {
   "cell_type": "code",
   "execution_count": 126,
   "id": "282a98df-f834-4331-af0d-dea41d584d99",
   "metadata": {},
   "outputs": [],
   "source": [
    "from ipycanvas import MultiCanvas\n",
    "from ipywidgets import Output\n",
    "out = Output(layout = {'border': '1px solid black'})\n",
    "\n",
    "\n",
    "class View:\n",
    "    \n",
    "    width = 200\n",
    "    height = 200\n",
    "    \n",
    "    colors = ['red', 'blue']\n",
    "    line_width = 2\n",
    "    radius = 7\n",
    "    \n",
    "    scale = 0.8\n",
    "    pts =  [(-1, -1), (0, -1), (1, -1), (1, 0), (1, 1), (0, 1), (-1, 1), (-1, 0)]\n",
    "    \n",
    "    def __init__(self, game):\n",
    "        self.game = game\n",
    "        self.mcanvas = MultiCanvas(3, width = self.width, height = self.height, \n",
    "                layout = {'border' : '1px solid black'},\n",
    "               )\n",
    "        self.bg, *self.p_layers = self.mcanvas\n",
    "        self.bg.line_width = self.line_width\n",
    "        for layer, color in zip(self.p_layers, self.colors):\n",
    "            layer.fill_style = color\n",
    "       \n",
    "    def ri2xy(self, r, i):\n",
    "        s, w, h = self.scale, self.width, self.height\n",
    "        x, y = self.pts[i]\n",
    "        x = (s/3*(r+1)*x + 1) * w/2\n",
    "        y = (s/3*(r+1)*y + 1) * h/2\n",
    "       \n",
    "        return x, y    \n",
    "        \n",
    "    def draw_board(self):\n",
    "        for muehle in self.game.muehlen:\n",
    "            line = [self.ri2xy(r, i) for r,i in muehle]\n",
    "            self.bg.stroke_lines(line)\n",
    "            \n",
    "    def draw_position(self):\n",
    "        board = self.game.board\n",
    "        for pos, player in board.items():\n",
    "            if player is not None:\n",
    "                x, y = self.ri2xy(*pos)\n",
    "                self.p_layers[player].fill_circle(x, y, self.radius)\n",
    "        \n",
    "    def _ipython_display_(self):\n",
    "        display(self.mcanvas)"
   ]
  },
  {
   "cell_type": "code",
   "execution_count": null,
   "id": "976a2632-2be9-44a8-b979-66084906cc45",
   "metadata": {},
   "outputs": [],
   "source": []
  },
  {
   "cell_type": "code",
   "execution_count": 127,
   "id": "d153edfc-a77d-4d66-b974-4e745821a01a",
   "metadata": {},
   "outputs": [
    {
     "data": {
      "application/vnd.jupyter.widget-view+json": {
       "model_id": "61f85babf8394492afb7a06381872d8b",
       "version_major": 2,
       "version_minor": 0
      },
      "text/plain": [
       "MultiCanvas(height=200, layout=Layout(border_bottom='1px solid black', border_left='1px solid black', border_r…"
      ]
     },
     "metadata": {},
     "output_type": "display_data"
    }
   ],
   "source": [
    "view = View(game)\n",
    "view"
   ]
  },
  {
   "cell_type": "code",
   "execution_count": 128,
   "id": "07fb8b8d-8a2b-4ff4-b777-ca01431f1765",
   "metadata": {},
   "outputs": [],
   "source": [
    "view.draw_board()"
   ]
  },
  {
   "cell_type": "code",
   "execution_count": 129,
   "id": "07e7e882-f8e0-480e-aa63-da4272f3f69e",
   "metadata": {},
   "outputs": [],
   "source": [
    "view.draw_position()"
   ]
  },
  {
   "cell_type": "code",
   "execution_count": null,
   "id": "e9202cdf-fe22-4617-a4dd-37fd39b89ee2",
   "metadata": {},
   "outputs": [],
   "source": []
  },
  {
   "cell_type": "code",
   "execution_count": 303,
   "id": "f7c53003-efd3-43b4-b8ae-0a3c3cfa671b",
   "metadata": {},
   "outputs": [],
   "source": [
    "from get_closest import get_closest\n",
    "from ipycanvas import MultiCanvas\n",
    "from ipywidgets import Output\n",
    "out = Output(layout = {'border': '1px solid black'})\n",
    "\n",
    "class View:\n",
    "    \n",
    "    width = 200\n",
    "    height = 200\n",
    "    \n",
    "    colors = ['red', 'blue']\n",
    "    line_width = 2\n",
    "    radius = 7\n",
    "    \n",
    "    scale = 0.8\n",
    "    pts =  [(-1, -1), (0, -1), (1, -1), (1, 0), (1, 1), (0, 1), (-1, 1), (-1, 0)]\n",
    "    \n",
    "    def __init__(self, game):\n",
    "        self.game = game\n",
    "        self.game.callback = self.update\n",
    "        \n",
    "        self.mcanvas = MultiCanvas(3, width = self.width, height = self.height, \n",
    "                layout = {'border' : '1px solid black'},\n",
    "               )\n",
    "        self.mcanvas.on_mouse_down(self.on_mouse_down)\n",
    "        self.mcanvas.on_mouse_up(self.on_mouse_up)\n",
    "        \n",
    "        self.bg, *self.p_layers = self.mcanvas\n",
    "        self.bg.line_width = self.line_width\n",
    "        for layer, color in zip(self.p_layers, self.colors):\n",
    "            layer.fill_style = color\n",
    "            \n",
    "        self.ris = [(r,i) for r in range(3) for i in range(8)]\n",
    "        self.xys = [self.ri2xy(r, i) for r in range(3) for i in range(8)]\n",
    "       \n",
    "        self.draw_board()\n",
    "       \n",
    "    def ri2xy(self, r, i):\n",
    "        s, w, h = self.scale, self.width, self.height\n",
    "        x, y = self.pts[i]\n",
    "        x = (s/3*(r+1)*x + 1) * w/2\n",
    "        y = (s/3*(r+1)*y + 1) * h/2\n",
    "       \n",
    "        return x, y    \n",
    "        \n",
    "    def draw_board(self):\n",
    "        for muehle in self.game.muehlen:\n",
    "            line = [self.ri2xy(r, i) for r,i in muehle]\n",
    "            self.bg.stroke_lines(line)\n",
    "            \n",
    "    def draw_position(self):\n",
    "        for layer in self.p_layers:\n",
    "            layer.clear()\n",
    "        board = self.game.board\n",
    "        for pos, player in board.items():\n",
    "            if player is not None:\n",
    "                x, y = self.ri2xy(*pos)\n",
    "                self.p_layers[player].fill_circle(x, y, self.radius)\n",
    "                \n",
    "                \n",
    "                \n",
    "    @out.capture()        \n",
    "    def on_mouse_down(self, x, y):\n",
    "        idx = get_closest(self.xys, (x, y))\n",
    "        if idx is not None:\n",
    "            self.selected_idx = idx\n",
    "            src = self.ris[idx]\n",
    "            ptm = self.game.ptm\n",
    "            if self.game.board[src] is not None:\n",
    "                self.game.move(ptm, 'r',src)\n",
    "                print(ptm, 'remove', src)\n",
    "            else:\n",
    "                self.game.move(ptm, 'p', src)\n",
    "                print(ptm, 'place', src)\n",
    "        \n",
    "    @out.capture()   \n",
    "    def on_mouse_up(self, x, y):   \n",
    "        if self.selected_idx is None:\n",
    "            return\n",
    "        idx= get_closest(self.xys, (x, y))\n",
    "        if idx is not None:\n",
    "            target = self.ris[idx]\n",
    "            src = self.ris[self.selected_idx]\n",
    "            ptm = self.game.ptm\n",
    "            self.game.move(ptm, 'm', src, target)\n",
    "            print(ptm, src, target)\n",
    "           \n",
    "        self.selected_idx = None \n",
    "            \n",
    "    def update(self):\n",
    "        self.draw_position()\n",
    "        \n",
    "    def _ipython_display_(self):\n",
    "        display(self.mcanvas, out)"
   ]
  },
  {
   "cell_type": "code",
   "execution_count": 304,
   "id": "4e0c96c7-0688-467d-930c-eb083851d20b",
   "metadata": {},
   "outputs": [
    {
     "data": {
      "application/vnd.jupyter.widget-view+json": {
       "model_id": "501726689849442b9e444bd1b342b548",
       "version_major": 2,
       "version_minor": 0
      },
      "text/plain": [
       "MultiCanvas(height=200, layout=Layout(border_bottom='1px solid black', border_left='1px solid black', border_r…"
      ]
     },
     "metadata": {},
     "output_type": "display_data"
    },
    {
     "data": {
      "application/vnd.jupyter.widget-view+json": {
       "model_id": "dddc961eb87d473da35dde4475c71346",
       "version_major": 2,
       "version_minor": 0
      },
      "text/plain": [
       "Output(layout=Layout(border_bottom='1px solid black', border_left='1px solid black', border_right='1px solid b…"
      ]
     },
     "metadata": {},
     "output_type": "display_data"
    }
   ],
   "source": [
    "game=Game()\n",
    "view=View(game)\n",
    "view"
   ]
  },
  {
   "cell_type": "code",
   "execution_count": 273,
   "id": "b76d7426-be34-4630-af49-3c8ae3d5cf51",
   "metadata": {},
   "outputs": [],
   "source": [
    "out.clear_output()\n"
   ]
  },
  {
   "cell_type": "code",
   "execution_count": 305,
   "id": "e1b64c59-5747-4c0c-b3ec-e9ebb9df6dd8",
   "metadata": {},
   "outputs": [
    {
     "data": {
      "text/plain": [
       "0"
      ]
     },
     "execution_count": 305,
     "metadata": {},
     "output_type": "execute_result"
    }
   ],
   "source": [
    "game.ptm"
   ]
  },
  {
   "cell_type": "code",
   "execution_count": 278,
   "id": "ff6780bd-5c67-4c0e-b7c3-9f5fd184526e",
   "metadata": {},
   "outputs": [
    {
     "data": {
      "text/plain": [
       "True"
      ]
     },
     "execution_count": 278,
     "metadata": {},
     "output_type": "execute_result"
    }
   ],
   "source": [
    "game.cannot_move(0)"
   ]
  },
  {
   "cell_type": "code",
   "execution_count": 280,
   "id": "e2ace268-dd3c-4631-b8d8-8dc5f8a7859d",
   "metadata": {},
   "outputs": [],
   "source": [
    "game.result"
   ]
  },
  {
   "cell_type": "code",
   "execution_count": null,
   "id": "4617c5a8-9242-4af1-abd9-b9479ad3eef5",
   "metadata": {},
   "outputs": [],
   "source": []
  }
 ],
 "metadata": {
  "author": "dieter.probst@gmail.com",
  "kernelspec": {
   "display_name": "Python 3 (ipykernel)",
   "language": "python",
   "name": "python3"
  },
  "language_info": {
   "codemirror_mode": {
    "name": "ipython",
    "version": 3
   },
   "file_extension": ".py",
   "mimetype": "text/x-python",
   "name": "python",
   "nbconvert_exporter": "python",
   "pygments_lexer": "ipython3",
   "version": "3.12.0"
  }
 },
 "nbformat": 4,
 "nbformat_minor": 5
}
