{
 "cells": [
  {
   "cell_type": "markdown",
   "id": "6a19ccf3-f19c-4116-9c48-be9c1f146171",
   "metadata": {},
   "source": [
    "### Funktionen mit einer variablen Anzahl Argumente\n",
    "Zur Erinnerung:  \n",
    "- Funktionsdefinition: **Non-Default Arguments** vor  **Default Arguments**  \n",
    "  `def f(x, y, z=0):`\n",
    "- Funktionsaufruf: Argumente **by position** oder als **keyword arguments** &uuml;bergeben,  \n",
    "  **by position** vor **keyword arguments**  \n",
    "  `f(1, z=5, y=3)`\n",
    "***"
   ]
  },
  {
   "cell_type": "code",
   "execution_count": null,
   "id": "c7f72f39-88d8-4cf1-b826-5e19c1451940",
   "metadata": {},
   "outputs": [],
   "source": [
    "# x,y sind non-default Argumente, z ist ein Default-Argument\n",
    "def f(x, y, z=0):\n",
    "    fs = 'x: {}, y: {}, z: {}'\n",
    "    print(fs.format(x, y, z))"
   ]
  },
  {
   "cell_type": "code",
   "execution_count": null,
   "id": "0a99ffa7-4abb-4479-b1c8-ed8db89dbcee",
   "metadata": {},
   "outputs": [],
   "source": [
    "# x wird 'by position', y und z werden als key-word arguments uebergeben.\n",
    "f(1, z=5, y=3)"
   ]
  },
  {
   "cell_type": "markdown",
   "id": "72a246d3-c7b0-4332-8d64-68e94aa1531c",
   "metadata": {},
   "source": [
    "### Variadische Funktionen aufrufen\n",
    "Funktionen, welche mit einer variablen Anzahl Argumente aufgerufen werden k&ouml;nnen nennt man auch **variadische Funktionen**/**variadic functions**.  \n",
    "Beispiele sind  `print`, `str.format`, `max` ...  \n",
    "**Beim Aufruf** der Funktionen m&uuml;ssen *by position* Argumente vor *keyword* Argumenten &uuml;bergeben werden."
   ]
  },
  {
   "cell_type": "code",
   "execution_count": null,
   "id": "62f0143b-a168-4d15-aff6-9ff2ec99607d",
   "metadata": {},
   "outputs": [],
   "source": [
    "# 1, 2 werden by position,  ', ',  '\\n' keyword Argumente uebergeben\n",
    "print(1, 2, sep = ', ', end = '\\n')"
   ]
  },
  {
   "cell_type": "code",
   "execution_count": null,
   "id": "9028b01b-1e3d-4ba7-a74d-6676d2c0148b",
   "metadata": {},
   "outputs": [],
   "source": [
    "# Argumente zum Auspacken\n",
    "letters = ('a', 'b', 'c')\n",
    "kwargs = {'end': '\\n'}"
   ]
  },
  {
   "cell_type": "code",
   "execution_count": null,
   "id": "7f0dd54c-310a-472a-8064-021e73cd987c",
   "metadata": {},
   "outputs": [],
   "source": [
    "# alle drei Varianten sind ok, 'by position' Argumente kommen vor keyword Argumenten\n",
    "print(1,2, *letters,  sep = ', ', **kwargs)\n",
    "print(*letters, 1, 2, sep = ', ', **kwargs)\n",
    "print(*letters, 1, 2, **kwargs, sep = ', ')"
   ]
  },
  {
   "cell_type": "code",
   "execution_count": null,
   "id": "328033bd-c8a0-45e8-b278-87ffe868eb46",
   "metadata": {},
   "outputs": [],
   "source": [
    "# str.format nimmt variabel Anzahl positional und keyword Argumente\n",
    "'{}) {}, {anrede}, {name}'.format(1, 'Hallo', anrede='Lieber', name='Hans')"
   ]
  },
  {
   "cell_type": "code",
   "execution_count": null,
   "id": "7aeb613a-c0ac-4576-a5dc-c6ce0ee667d7",
   "metadata": {},
   "outputs": [],
   "source": [
    "# wirf einen Blick auf die Signatur der Funktion \n",
    "# klicke auf Funktion, dann shift-tab/ oder benutze help()\n",
    "print\n",
    "str.format\n",
    "t"
   ]
  },
  {
   "cell_type": "code",
   "execution_count": null,
   "id": "35ac43a3-77dd-4840-b3a6-b8b512884724",
   "metadata": {},
   "outputs": [],
   "source": []
  },
  {
   "cell_type": "markdown",
   "id": "7f28fc21-295f-46f6-aca1-dc2a35dccf12",
   "metadata": {},
   "source": [
    "### Variadische Funktionen definieren\n",
    "Die definierten Funktionen geben jeweils die &uuml;bergebenen Argumente aus."
   ]
  },
  {
   "cell_type": "code",
   "execution_count": null,
   "id": "5494d413-a31a-4a6c-8b7c-db693b07295b",
   "metadata": {},
   "outputs": [],
   "source": [
    "def f(*args):\n",
    "    '''f kann nur mit 'by position' Argumenten aufgerufen werden.\n",
    "       Alle diese Argumente werden in tuple args gepackt\n",
    "    '''   \n",
    "    print('args:', args)\n",
    "\n",
    "def g(**kwargs):\n",
    "    '''g kann nur mit 'keyword' Argumenten aufgerufen werden.\n",
    "       Alle diese Argumente werden in einen Dict kwargs gepackt\n",
    "    '''  \n",
    "    print('kwargs:', kwargs)\n",
    "\n",
    "def h(*args, **kwargs):\n",
    "    '''h kann mit 'by position' Argumenten und 'keyword' Argumenten aufgerufen werden.\n",
    "       Die 'by position' Argumente muessen vor den keyword' Argumenten stehen\n",
    "    '''\n",
    "    print('args:', args)\n",
    "    print('kwargs:', kwargs)    "
   ]
  },
  {
   "cell_type": "code",
   "execution_count": null,
   "id": "b1548048-0d45-4766-95a6-aec4128d8923",
   "metadata": {},
   "outputs": [],
   "source": [
    "# nur 'by position' Argumente\n",
    "f(1, 2, 3)\n",
    "\n",
    "# nur keyword Argumente\n",
    "g(a=1, b=2 ,c=3)\n",
    "\n",
    "# alle 'by position' Argumente vor den keyword Argumenten\n",
    "h('foo', x='bar' )"
   ]
  },
  {
   "cell_type": "markdown",
   "id": "4bf89636-c896-4932-9d44-edea7485916d",
   "metadata": {},
   "source": [
    "***\n",
    "Sogar folgende Formen sind zul&auml;ssig:\n",
    "***"
   ]
  },
  {
   "cell_type": "code",
   "execution_count": null,
   "id": "b02af8ed-f22f-437b-99e9-f64ac3acdd5c",
   "metadata": {},
   "outputs": [],
   "source": [
    "def fun(x, y, *args,  z=0, **kwargs):\n",
    "    '''fun kann mit 'by position' Argumenten und 'keyword' Argumenten aufgerufen werden'''\n",
    "    print('x: {}, y: {}, z: {}'.format(x, y, z))\n",
    "    print('args:', args)\n",
    "    print('kwargs:', kwargs)\n",
    "    \n",
    "def not_fun(x, *args, y, z=0, **kwargs):\n",
    "    '''syntaktisch korrekt, aber nicht zu empfehlen\n",
    "       beachte: \n",
    "           y kann hier nur als keyword argument uebergeben werden:\n",
    "           das erste 'by position' Argument wird x zugewiesen,\n",
    "           die anderen 'by position' Argumente werden in ein Tuple args gepackt.\n",
    "    '''\n",
    "    print('x: {}, y: {}, z: {}'.format(x, y, z))\n",
    "    print('args:', args)\n",
    "    print('kwargs:', kwargs)    "
   ]
  },
  {
   "cell_type": "code",
   "execution_count": null,
   "id": "c4606401-01fa-44c1-96c3-25382d60d84e",
   "metadata": {},
   "outputs": [],
   "source": [
    "fun(1, 2)  "
   ]
  },
  {
   "cell_type": "code",
   "execution_count": null,
   "id": "75fc1fce-adb2-4907-a551-069d17c6e7db",
   "metadata": {},
   "outputs": [],
   "source": []
  },
  {
   "cell_type": "code",
   "execution_count": null,
   "id": "53d3ed22-19d1-43cb-881a-2266c4a79259",
   "metadata": {},
   "outputs": [],
   "source": [
    "fun(1, 2, 3, z='foo', w='bar')"
   ]
  },
  {
   "cell_type": "code",
   "execution_count": null,
   "id": "2c887149-6549-44d8-a6f0-bb9c365978b2",
   "metadata": {},
   "outputs": [],
   "source": [
    "fun(1, y=2, w='bar')"
   ]
  },
  {
   "cell_type": "code",
   "execution_count": null,
   "id": "f6eab38f-0226-4279-be83-c0343b2b5ea7",
   "metadata": {},
   "outputs": [],
   "source": [
    "not_fun(1, 2, 3, bar='bar', y=4)  "
   ]
  },
  {
   "cell_type": "code",
   "execution_count": null,
   "id": "2c584e52-5e32-460d-9519-1d6576a424a1",
   "metadata": {},
   "outputs": [],
   "source": [
    "# y kann nur als keyword Argument uebergenen werden!\n",
    "not_fun(1, 2, 3, bar='bar')  "
   ]
  },
  {
   "cell_type": "code",
   "execution_count": null,
   "id": "214bfbe0-6b1b-4f34-b336-d783a52ef6c2",
   "metadata": {},
   "outputs": [],
   "source": [
    "# ok\n",
    "not_fun(x=1, y=1)"
   ]
  },
  {
   "cell_type": "code",
   "execution_count": null,
   "id": "2b6d07d5-af79-48aa-a411-a19f6f864847",
   "metadata": {},
   "outputs": [],
   "source": [
    "# ok\n",
    "not_fun(1, 2, 3, w='foo', z='bar', y=1)"
   ]
  },
  {
   "cell_type": "markdown",
   "id": "85ce44e5-8eeb-490f-a33a-0d0244e4798b",
   "metadata": {},
   "source": [
    "### Aufgabe\n",
    "**Mit welchen Argumenten wird ein Callback aufgerufen**?  \n",
    "Immer wenn eine neue Sekunde, Minute oder Stunde anbricht, werde ein entsprechendes Event getriggert, welche ein f&uuml;r dieses Event registriertes Callback aufruft. Ziel ist es, herauszufinden, mit welchen Argumenten die Callbacks aufgerufen werden.  \n",
    "Registriere  Callbacks, die alle &uuml;bergebenen Argumente ausgiben und anzeigen, welche \n",
    "*by position* und welche als *keyword* Argumente &uuml;bergeben wurden."
   ]
  },
  {
   "cell_type": "code",
   "execution_count": null,
   "id": "d4068601-6804-4d60-94e3-05c5fd549e34",
   "metadata": {},
   "outputs": [],
   "source": [
    "from mock_events import register_callback, trigger_event, events"
   ]
  },
  {
   "cell_type": "code",
   "execution_count": null,
   "id": "6b8375f2-ad98-4894-87d3-627e8600c04f",
   "metadata": {},
   "outputs": [],
   "source": [
    "def show_args():\n",
    "    pass"
   ]
  },
  {
   "cell_type": "code",
   "execution_count": null,
   "id": "0fbc178c-15f6-40c0-b814-2a850f78d478",
   "metadata": {},
   "outputs": [],
   "source": [
    "for event in events:\n",
    "    register_callback(event, show_args)"
   ]
  },
  {
   "cell_type": "code",
   "execution_count": null,
   "id": "174bb795-2a36-4539-963f-93b70ab1cd9e",
   "metadata": {},
   "outputs": [],
   "source": [
    "for event in events:\n",
    "    trigger_event(event)"
   ]
  },
  {
   "cell_type": "code",
   "execution_count": null,
   "id": "0c567d0b-989c-49a4-8425-8d3dd1044309",
   "metadata": {},
   "outputs": [],
   "source": []
  }
 ],
 "metadata": {
  "author": "dieter.probst@gmail.com",
  "kernelspec": {
   "display_name": "Python 3 (ipykernel)",
   "language": "python",
   "name": "python3"
  },
  "language_info": {
   "codemirror_mode": {
    "name": "ipython",
    "version": 3
   },
   "file_extension": ".py",
   "mimetype": "text/x-python",
   "name": "python",
   "nbconvert_exporter": "python",
   "pygments_lexer": "ipython3",
   "version": "3.12.0"
  }
 },
 "nbformat": 4,
 "nbformat_minor": 5
}
