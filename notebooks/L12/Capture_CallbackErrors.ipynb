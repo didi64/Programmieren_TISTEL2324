{
 "cells": [
  {
   "cell_type": "markdown",
   "id": "21604b29-7b18-4939-b9a5-4be19b06db8a",
   "metadata": {},
   "source": [
    "### Fehlermeldungen von Callbacks in Output-Widget umleiten\n",
    "\n",
    "Wie andere Widgets erlaubt das Canvas-Widget die Registrierung von Callbacks für verschiedene Events (siehe unten). Ausgaben und **Fehlermeldungen** dieser Callbacks werden aber nicht ausgegeben, ausser der Output des Callbacks wird in ein Output-Widget umgeleitet.  \n",
    "Siehe\n",
    "[https://ipywidgets.readthedocs.io/en/7.7.1/examples/Output%20Widget.html#Debugging-errors-in-callbacks-with-the-output-widget](https://ipywidgets.readthedocs.io/en/7.7.1/examples/Output%20Widget.html#Debugging-errors-in-callbacks-with-the-output-widget)  \n",
    "\n",
    "Ist `out` Instanz eines Output-Widgets, so leitet\n",
    "\n",
    "```python\n",
    "@out.capture()\n",
    "def f():\n",
    "    ...\n",
    "```\n",
    "den Output der Funktion `f` ins Output-Widgets `out` um.  \n",
    "Wird das Keyword-Argument `clear_output` auf `True` gesetzt, wird der Inhalt von `out` bei jedem Aufruf von `f` gel&ouml;scht.\n",
    "\n",
    "```python\n",
    "@out.capture(clear_output = True)\n",
    "def f():\n",
    "    ...\n",
    "```  \n",
    "\n",
    "***\n",
    "**Erl&auml;uterung**: `capture` ist eine Methode des Output-Widgets welche eine Funktion zur&uuml;ck gibt.\n",
    "Weiter ist\n",
    "\n",
    "```python\n",
    "@foo\n",
    "def f():\n",
    "    ...\n",
    "```\n",
    "syntactic Sugar f&uuml;r\n",
    "```python\n",
    "def f():\n",
    "    ...\n",
    "\n",
    "f = foo(f)\n",
    "```\n",
    "Das macht nat&uuml;rlich nur Sinn, falls `foo` **callable** ist, d.h. mit `f` als Argument aufrufbar.\n",
    "Das Callable `foo` nennt man in diesem Zusammenhang  **Decorator** der Funktion `f`, siehe z.B.\n",
    "[https://pythonguide.readthedocs.io/en/latest/python/decorator.html](https://pythonguide.readthedocs.io/en/latest/python/decorator.html)\n",
    "***"
   ]
  },
  {
   "cell_type": "code",
   "execution_count": 1,
   "id": "94fa52f9-b914-4291-b6fa-619806320e2a",
   "metadata": {},
   "outputs": [],
   "source": [
    "# Die Funktion remove_all_callbacks(canvas) im Module canvas_helpers unregistriere alle Callbacks\n",
    "# fuer ein Canvas oder MultiCanvas-Objekt.\n",
    "import canvas_helpers \n",
    "import ipywidgets as widgets\n",
    "from ipycanvas import Canvas, MultiCanvas"
   ]
  },
  {
   "cell_type": "code",
   "execution_count": 2,
   "id": "9000872f-efac-46b6-b8c3-41190b100cad",
   "metadata": {},
   "outputs": [
    {
     "data": {
      "application/vnd.jupyter.widget-view+json": {
       "model_id": "ae2136dc410340f89fa304ca05f5c184",
       "version_major": 2,
       "version_minor": 0
      },
      "text/plain": [
       "Canvas(height=100, layout=Layout(border_bottom='2px solid black', border_left='2px solid black', border_right=…"
      ]
     },
     "metadata": {},
     "output_type": "display_data"
    },
    {
     "data": {
      "application/vnd.jupyter.widget-view+json": {
       "model_id": "d55f32b4180444919fb0b0adc2a3362b",
       "version_major": 2,
       "version_minor": 0
      },
      "text/plain": [
       "Output(layout=Layout(border_bottom='1px solid black', border_left='1px solid black', border_right='1px solid b…"
      ]
     },
     "metadata": {},
     "output_type": "display_data"
    }
   ],
   "source": [
    "err_msgs = widgets.Output(layout={'border': '1px solid black'})\n",
    "canvas = Canvas(width=100, height=100, layout = {'border' : '2px solid black'})\n",
    "display(canvas, err_msgs)"
   ]
  },
  {
   "cell_type": "code",
   "execution_count": 12,
   "id": "e6253daa-ab38-4c8f-bb37-f4019dbaa464",
   "metadata": {},
   "outputs": [],
   "source": [
    "err_msgs.clear_output()"
   ]
  },
  {
   "cell_type": "code",
   "execution_count": 4,
   "id": "f3b63733-423f-4910-bcbc-46b77d8348f4",
   "metadata": {},
   "outputs": [],
   "source": [
    "canvas.clear()"
   ]
  },
  {
   "cell_type": "code",
   "execution_count": 7,
   "id": "9a3624f2-7cc3-40b4-9ab8-9abf1ebc3685",
   "metadata": {},
   "outputs": [],
   "source": [
    "# callback mit Fehler, \n",
    "# @err_msgs.capture(clear_output = True)\n",
    "def on_click(pos):\n",
    "    x, y = pos\n",
    "    canvas.draw_circle(x, y, 5)"
   ]
  },
  {
   "cell_type": "code",
   "execution_count": 8,
   "id": "4336c038-bd8a-44f2-ae28-39ff4d8cfe5d",
   "metadata": {},
   "outputs": [
    {
     "ename": "NameError",
     "evalue": "name 'canvas' is not defined",
     "output_type": "error",
     "traceback": [
      "\u001b[0;31m---------------------------------------------------------------------------\u001b[0m",
      "\u001b[0;31mNameError\u001b[0m                                 Traceback (most recent call last)",
      "Cell \u001b[0;32mIn[8], line 2\u001b[0m\n\u001b[1;32m      1\u001b[0m \u001b[38;5;66;03m# Falls moeglich, callback vor Registrierung testen! \u001b[39;00m\n\u001b[0;32m----> 2\u001b[0m \u001b[43mon_click\u001b[49m\u001b[43m(\u001b[49m\u001b[38;5;241;43m1\u001b[39;49m\u001b[43m,\u001b[49m\u001b[43m \u001b[49m\u001b[38;5;241;43m2\u001b[39;49m\u001b[43m)\u001b[49m\n",
      "Cell \u001b[0;32mIn[7], line 5\u001b[0m, in \u001b[0;36mon_click\u001b[0;34m(*pos)\u001b[0m\n\u001b[1;32m      3\u001b[0m \u001b[38;5;28;01mdef\u001b[39;00m \u001b[38;5;21mon_click\u001b[39m(\u001b[38;5;241m*\u001b[39mpos):\n\u001b[1;32m      4\u001b[0m     x, y \u001b[38;5;241m=\u001b[39m pos\n\u001b[0;32m----> 5\u001b[0m     \u001b[43mcanvas\u001b[49m\u001b[38;5;241m.\u001b[39mdraw_circle(x, y, \u001b[38;5;241m5\u001b[39m)\n",
      "\u001b[0;31mNameError\u001b[0m: name 'canvas' is not defined"
     ]
    }
   ],
   "source": [
    "# Falls moeglich, callback vor Registrierung testen! \n",
    "on_click(1, 2)"
   ]
  },
  {
   "cell_type": "markdown",
   "id": "7612119a-38cc-4280-b7f5-43b0d390a2ba",
   "metadata": {},
   "source": [
    "***\n",
    "Der Aufruf von `callback` l&ouml;st nat&uuml;rlich einen Fehler aus (welchen?).\n",
    "Wenn wir eine Funktion, die einen Fehler ausl&ouml;st,  als Callback f&uuml;r z.B. das `mouse_down` Event registrieren, dann\n",
    "passiert beim Eintreffen des Events einfach nichts. Insbesondere wird keine Fehlermeldung angezeigt, was das Finden von Fehlern schwierig macht. W&auml;hrend der Entwicklungsphase empfiehlt es sich, den\n",
    "Output von Callbacks, und damit auch die Fehlermeldungen, in ein Output_Widget umzuleiten.\n",
    "***"
   ]
  },
  {
   "cell_type": "code",
   "execution_count": 11,
   "id": "0882bdee-05c4-4d17-97d4-9cac5ebe47a4",
   "metadata": {},
   "outputs": [],
   "source": [
    "canvas_helpers.remove_all_callbacks(canvas) # unregistriere alle Callbacks\n",
    "canvas.on_mouse_down(on_click)"
   ]
  },
  {
   "cell_type": "markdown",
   "id": "b961859c-e8ce-4b0c-81cc-2c3589335d68",
   "metadata": {},
   "source": [
    "***\n",
    "### Bemerkungen  \n",
    "F&uuml;r ein Event k&ouml;nnen mehrere Callbacks registriert werden, die beim Eintreffen des Events dann alle aufgerufen werden. Beim Herumspielen mit Code in einem Notebook m&ouml;chte man jedoch nicht, dass noch alte und ev. fehlerhafte Versionen eines Callbacks registriert sind.\n",
    "Wir benutzen deshalb die Funktion `remove_all_callbacks(widget)` aus dem Modul `canvas_helpers` zum Entfernen aller Callbacks eines Canvas- oder MultiCanvas-Widgets.  \n",
    "Wie die Funktion `remove_all_callbacks` im Detail funktioniert behandeln wir hier nicht.\n",
    "\n",
    "\n",
    "***"
   ]
  },
  {
   "cell_type": "markdown",
   "id": "5d14cf3c-2a4f-4c57-9c35-615e4daf83f2",
   "metadata": {},
   "source": [
    "***\n",
    "### Aufgabe\n",
    "Canvas (und MultCanvas) erlaubt die Registrierung von Callbacks f&uuml;r die Events\n",
    "- `on_mouse_down`\n",
    "- `on_mouse_up`\n",
    "- `on_mouse_move`\n",
    "- `on_mouse_out`\n",
    "- `on_key_down`\n",
    "\n",
    "Finde heraus, mit wie vielen und welchen Argumenten die Callbacks zu diesen Events aufgerufen werden. Nachfolgender Code macht das bereits f&uuml;r `on_key_down`. \n",
    "Damit Tastendr&uuml;cke registriert werden, muss das Canvas-Widgets **aktiv** sein, d.h., man muss darauf geklickt haben.\n",
    "\n",
    "***"
   ]
  },
  {
   "cell_type": "code",
   "execution_count": 1,
   "id": "bed49f8a-1e82-4237-86b1-5e727c43104b",
   "metadata": {},
   "outputs": [],
   "source": [
    "# @err_msgs.capture(clear_output = True)\n",
    "def show_args(*args):\n",
    "    print('{} Argumente:'.format(len(args)), *args)"
   ]
  },
  {
   "cell_type": "code",
   "execution_count": 2,
   "id": "e53c1c7a-1461-402e-8836-7665f6f28b9e",
   "metadata": {},
   "outputs": [
    {
     "name": "stdout",
     "output_type": "stream",
     "text": [
      "3 Argumente: 1 2 3\n"
     ]
    }
   ],
   "source": [
    "show_args(1, 2, 3)"
   ]
  },
  {
   "cell_type": "code",
   "execution_count": 3,
   "id": "03d4964f-c2f2-4dd5-8fed-4abd1228a061",
   "metadata": {},
   "outputs": [
    {
     "ename": "NameError",
     "evalue": "name 'canvas' is not defined",
     "output_type": "error",
     "traceback": [
      "\u001b[0;31m---------------------------------------------------------------------------\u001b[0m",
      "\u001b[0;31mNameError\u001b[0m                                 Traceback (most recent call last)",
      "Cell \u001b[0;32mIn[3], line 1\u001b[0m\n\u001b[0;32m----> 1\u001b[0m display(\u001b[43mcanvas\u001b[49m, err_msgs)\n",
      "\u001b[0;31mNameError\u001b[0m: name 'canvas' is not defined"
     ]
    }
   ],
   "source": [
    "display(canvas, err_msgs)"
   ]
  },
  {
   "cell_type": "code",
   "execution_count": 22,
   "id": "516926c4-2cb8-493d-8606-9f48faed357b",
   "metadata": {},
   "outputs": [],
   "source": [
    "ch.remove_all_callbacks(canvas)\n",
    "canvas.on_key_down(show_args)"
   ]
  },
  {
   "cell_type": "code",
   "execution_count": 18,
   "id": "b6bcdc79-0a39-40b8-b92e-5efe221215e0",
   "metadata": {},
   "outputs": [],
   "source": [
    "err_msgs.clear_output()"
   ]
  },
  {
   "cell_type": "code",
   "execution_count": null,
   "id": "f4537648-776e-4b31-95e1-7a0530bdc589",
   "metadata": {},
   "outputs": [],
   "source": []
  }
 ],
 "metadata": {
  "author": "dieter.probst@gmail.com",
  "kernelspec": {
   "display_name": "Python 3 (ipykernel)",
   "language": "python",
   "name": "python3"
  },
  "language_info": {
   "codemirror_mode": {
    "name": "ipython",
    "version": 3
   },
   "file_extension": ".py",
   "mimetype": "text/x-python",
   "name": "python",
   "nbconvert_exporter": "python",
   "pygments_lexer": "ipython3",
   "version": "3.12.0"
  }
 },
 "nbformat": 4,
 "nbformat_minor": 5
}
