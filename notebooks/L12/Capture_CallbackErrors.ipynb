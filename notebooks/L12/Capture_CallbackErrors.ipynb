{
 "cells": [
  {
   "cell_type": "markdown",
   "id": "21604b29-7b18-4939-b9a5-4be19b06db8a",
   "metadata": {},
   "source": [
    "### Fehlermeldungen von Callbacks in Output-Widget umleiten\n",
    "\n",
    "Wie andere Widgets erlaubt das Canvas-Widget die Registrierung von Callbacks für verschiedene Events (siehe unten). Ausgaben und **Fehlermeldungen** dieser Callbacks werden aber nicht ausgegeben, ausser der Output des Callbacks wird in ein Output-Widget umgeleitet.  \n",
    "Siehe\n",
    "[https://ipywidgets.readthedocs.io/en/7.7.1/examples/Output%20Widget.html#Debugging-errors-in-callbacks-with-the-output-widget](https://ipywidgets.readthedocs.io/en/7.7.1/examples/Output%20Widget.html#Debugging-errors-in-callbacks-with-the-output-widget)  \n",
    "\n",
    "Ist `out` Instanz eines Output-Widgets, so leitet\n",
    "\n",
    "```python\n",
    "@out.capture()\n",
    "def f():\n",
    "    ...\n",
    "```\n",
    "den Output der Funktion `f` ins Output-Widgets `out` um.  \n",
    "Wird das Keyword-Argument `clear_output` auf `True` gesetzt, wird der Inhalt von `out` bei jedem Aufruf von `f` gel&ouml;scht.\n",
    "\n",
    "```python\n",
    "@out.capture(clear_output = True)\n",
    "def f():\n",
    "    ...\n",
    "```  \n",
    "\n",
    "***\n",
    "**Erl&auml;uterung**: `capture` ist eine Methode des Output-Widgets welche eine Funktion zur&uuml;ck gibt.\n",
    "Weiter ist\n",
    "\n",
    "```python\n",
    "@foo\n",
    "def f():\n",
    "    ...\n",
    "```\n",
    "syntactic Sugar f&uuml;r\n",
    "```python\n",
    "def f():\n",
    "    ...\n",
    "\n",
    "f = foo(f)\n",
    "```\n",
    "Das macht nat&uuml;rlich nur Sinn, falls `foo` **callable** ist, d.h. mit `f` als Argument aufrufbar.\n",
    "Das Callable `foo` nennt man in diesem Zusammenhang  **Decorator** der Funktion `f`, siehe z.B.\n",
    "[https://pythonguide.readthedocs.io/en/latest/python/decorator.html](https://pythonguide.readthedocs.io/en/latest/python/decorator.html)\n",
    "***"
   ]
  },
  {
   "cell_type": "code",
   "execution_count": null,
   "id": "94fa52f9-b914-4291-b6fa-619806320e2a",
   "metadata": {},
   "outputs": [],
   "source": [
    "# Die Funktion remove_all_callbacks(canvas) im Module canvas_helpers unregistriere alle Callbacks\n",
    "# fuer ein Canvas oder MultiCanvas-Objekt.\n",
    "import canvas_helpers \n",
    "import ipywidgets\n",
    "from ipycanvas import Canvas, MultiCanvas"
   ]
  },
  {
   "cell_type": "code",
   "execution_count": null,
   "id": "9000872f-efac-46b6-b8c3-41190b100cad",
   "metadata": {},
   "outputs": [],
   "source": [
    "SIZE = 100\n",
    "err_msgs = ipywidgets.Output(layout={'border': '1px solid black'})\n",
    "canvas = Canvas(width=SIZE, height=SIZE, layout = {'border' : '2px solid black'})\n",
    "display(canvas, err_msgs)"
   ]
  },
  {
   "cell_type": "code",
   "execution_count": null,
   "id": "e6253daa-ab38-4c8f-bb37-f4019dbaa464",
   "metadata": {},
   "outputs": [],
   "source": [
    "# fuehre Zelle aus um Output-Widget zu leeren\n",
    "err_msgs.clear_output()"
   ]
  },
  {
   "cell_type": "code",
   "execution_count": null,
   "id": "f3b63733-423f-4910-bcbc-46b77d8348f4",
   "metadata": {},
   "outputs": [],
   "source": [
    "# fuehre Zelle aus um Canvas zu loeschen\n",
    "canvas.clear()"
   ]
  },
  {
   "cell_type": "code",
   "execution_count": null,
   "id": "9a3624f2-7cc3-40b4-9ab8-9abf1ebc3685",
   "metadata": {},
   "outputs": [],
   "source": [
    "# callback mit Fehler, \n",
    "@err_msgs.capture(clear_output = True) # schreibt in Output-Widget err_msgs\n",
    "def on_click(x, y):\n",
    "    canvas.fill_circle(x, y, 5)"
   ]
  },
  {
   "cell_type": "code",
   "execution_count": null,
   "id": "4336c038-bd8a-44f2-ae28-39ff4d8cfe5d",
   "metadata": {},
   "outputs": [],
   "source": [
    "# Falls moeglich, callback vor Registrierung testen! \n",
    "on_click(SIZE/2, SIZE/2)"
   ]
  },
  {
   "cell_type": "markdown",
   "id": "7612119a-38cc-4280-b7f5-43b0d390a2ba",
   "metadata": {},
   "source": [
    "***\n",
    "Der Aufruf von `on_click` l&ouml;st einen Fehler aus.\n",
    "Wenn wir eine Funktion, die einen Fehler ausl&ouml;st,  als Callback f&uuml;r ein Maus-Event registrieren, dann\n",
    "passiert beim Eintreffen des Events einfach nichts. Insbesondere wird keine Fehlermeldung angezeigt, was das Finden von Fehlern schwierig macht. W&auml;hrend der Entwicklungsphase empfiehlt es sich, den\n",
    "Output von Callbacks, und damit auch die Fehlermeldungen, in ein Output-Widget umzuleiten.\n",
    "***"
   ]
  },
  {
   "cell_type": "code",
   "execution_count": null,
   "id": "0882bdee-05c4-4d17-97d4-9cac5ebe47a4",
   "metadata": {},
   "outputs": [],
   "source": [
    "canvas_helpers.remove_all_callbacks(canvas) # unregistriere alle Callbacks\n",
    "canvas.on_mouse_down(on_click)"
   ]
  },
  {
   "cell_type": "markdown",
   "id": "5d14cf3c-2a4f-4c57-9c35-615e4daf83f2",
   "metadata": {},
   "source": [
    "***\n",
    "### Aufgabe\n",
    "Canvas (und MultCanvas) erlaubt die Registrierung von Callbacks f&uuml;r die Events\n",
    "- `on_mouse_down`\n",
    "- `on_mouse_up`\n",
    "- `on_mouse_move`\n",
    "- `on_mouse_out`\n",
    "- `on_key_down`\n",
    "\n",
    "Finde heraus, wann und mit welchen Argumenten die Callbacks zu diesen Events aufgerufen werden. Nachfolgender Code macht das bereits f&uuml;r `on_key_down`. \n",
    "Damit Tastendr&uuml;cke registriert werden, muss das Canvas-Widgets **aktiv** sein, d.h., man muss darauf geklickt haben.\n",
    "\n",
    "***"
   ]
  },
  {
   "cell_type": "code",
   "execution_count": null,
   "id": "bed49f8a-1e82-4237-86b1-5e727c43104b",
   "metadata": {},
   "outputs": [],
   "source": [
    "# @err_msgs.capture(clear_output = True)\n",
    "def show_args(*args):\n",
    "    print('{} Argumente:'.format(len(args)), *args)"
   ]
  },
  {
   "cell_type": "code",
   "execution_count": null,
   "id": "e53c1c7a-1461-402e-8836-7665f6f28b9e",
   "metadata": {},
   "outputs": [],
   "source": [
    "show_args(1, 2, 3)"
   ]
  },
  {
   "cell_type": "code",
   "execution_count": null,
   "id": "03d4964f-c2f2-4dd5-8fed-4abd1228a061",
   "metadata": {},
   "outputs": [],
   "source": [
    "display(canvas, err_msgs)"
   ]
  },
  {
   "cell_type": "code",
   "execution_count": null,
   "id": "516926c4-2cb8-493d-8606-9f48faed357b",
   "metadata": {},
   "outputs": [],
   "source": [
    "canvas_helpers.remove_all_callbacks(canvas) \n",
    "canvas.on_key_down(show_args)"
   ]
  },
  {
   "cell_type": "code",
   "execution_count": null,
   "id": "f4537648-776e-4b31-95e1-7a0530bdc589",
   "metadata": {},
   "outputs": [],
   "source": []
  }
 ],
 "metadata": {
  "author": "dieter.probst@gmail.com",
  "kernelspec": {
   "display_name": "Python 3 (ipykernel)",
   "language": "python",
   "name": "python3"
  },
  "language_info": {
   "codemirror_mode": {
    "name": "ipython",
    "version": 3
   },
   "file_extension": ".py",
   "mimetype": "text/x-python",
   "name": "python",
   "nbconvert_exporter": "python",
   "pygments_lexer": "ipython3",
   "version": "3.12.0"
  }
 },
 "nbformat": 4,
 "nbformat_minor": 5
}
