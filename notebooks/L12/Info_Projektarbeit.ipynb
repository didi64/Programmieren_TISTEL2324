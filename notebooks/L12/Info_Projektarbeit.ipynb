{
 "cells": [
  {
   "cell_type": "markdown",
   "id": "86175b30-0602-4c3e-bbc0-782a05ecf47a",
   "metadata": {},
   "source": [
    "### Projektarbeit \n",
    "\n",
    "In 2er Teams (ausnahmsweise auch alleine) ist eine einfache Applikation/Spiel zu programmieren, welche(s) nach M&ouml;glichkeit mit der Maus bedient werden kann und Output graphisch darstellt, z.B. in einem Canvas-Widget.\n",
    "Der Programmcode ist zu kommentieren, Funktionen im Code sind mit Doc-Strings zu versehenen.\n",
    "Zus&auml;tzlich zum Programmcode ist eine **Dokumentation** zu verfassen.\n",
    "\n",
    "**Umfang**: 3 x 4 Lektion plus Hausarbeit. \n",
    "Am 19.2, 26.2 und 5.3. habt ihr im Unterricht Zeit, am Projekt zu arbeiten.\n",
    "Ich werde euch anleiten und unterst&uuml;tzen.\n",
    "\n",
    "**Inhalt der Dokumentation** (2-3 Seiten):\n",
    "- Einleitung, kurze Beschreibung des Projekts\n",
    "- Spezifikation eures Programms: Was genau soll das Programm tun, welchen Input akzeptiert es, was f&uuml;r  Output produziert es, wie ist dieser zu interpretieren, ...\n",
    "- Erkl&auml;rung des Code: &Uuml;berblick, welche Klassen/Komponenten/Funktionen erf&uuml;llen welche Aufgaben,\n",
    "  wie spielen die verschiedenen Komponenten zusammen, ...\n",
    "- Diskussion\n",
    "  - erf&uuml;llt das Programm die Spezifikation? Wo/Wieso gibt es Abweichungen? \n",
    "  - gr&ouml;sste Schwierikeiten\n",
    "  - m&ouml;gliche Verbesserungen und Erweiterungen. \n",
    "  \n",
    "###  Timeline  \n",
    "- bis 19.2. (Montag nach den Ferien): **Teams** bilden, Wahl eines **Themas** und Abgabe einer kurzen **Projektskizze** (halbe Seite):\n",
    "   - Formulierung einer Zielvorstellung. Was soll das Programm tun, wie wird es gesteuert, was wird wie dargestellt.\n",
    "   - Beschreibung eines Prototypes, der sich rasch realisieren l&auml;sst.\n",
    "     Der Prototyp sollte die wichtigste Aspekte der Programmlogik (ev. vereinfacht) umsetzen.\n",
    "     Steuerung und Darstellung k&ouml;nnen noch sehr rudiment&auml;r sein.  \n",
    "  \n",
    "\n",
    "\n",
    "\n",
    "- bis Sonntag, 11.3.2024, 24h: **Abgabe** von **Dokumentation** und **Code** (als Notebooks).\n",
    "  \n",
    "  \n",
    "\n",
    "- Montag 12.3.2023 **Pr&auml;sentation**: Dauer: 10' \n",
    "  - Programm vorf&uuml;hren\n",
    "  - Beschreibt euren Weg zum fertigen Programm: Designentscheidungen, anf&auml;ngliche Probleme, gew&auml;hlte L&ouml;sungen, ..."
   ]
  },
  {
   "cell_type": "markdown",
   "id": "038e5dbb-0e19-4733-84f6-e91e00e6b246",
   "metadata": {},
   "source": [
    "### M&ouml;gliche Themen\n",
    "\n",
    "- Ein einfaches Brettspiel f&uuml;r 2 Spieler (ev. mit vereinfachten Regeln). Mensch gegen Mensch, ev. Mensch gegen Computer:  \n",
    "TikTakToe, [Wolf und Schafe](https://de.wikipedia.org/wiki/Wolf_und_Schafe), [Reversi](https://en.wikipedia.org/wiki/Reversi), [Fuchs und G&auml;nse](https://de.wikipedia.org/wiki/Fuchs_und_G%C3%A4nse), Vier gewinnt, Leiterlispiel, Eile mit Weile, ...\n",
    "\n",
    "- Einfaches Karten(ablege)spiel:  \n",
    "  Uno, Tschau Sepp, Elfer raus!, 6 nimm!, Blackjack, Poker, Memory, ...\n",
    "\n",
    "- Einfaches W&uuml;rfelspiel zum Punkte sammeln:  \n",
    "  Yatzy, 12er Jagd, Zehntausend, Shut the Box, Knister, ...\n",
    "      \n",
    "- Einfache Spiele f&uuml;r einen Spieler:  \n",
    "Wordle, Mastermind, [14/15 Schiebepuzzle](https://de.wikipedia.org/wiki/15-Puzzle), [Solit&auml;r](https://de.wikipedia.org/wiki/Solit%C3%A4r_(Brettspiel)), Minesweeper, [Sokoban](https://www.mathsisfun.com/games/sokoban.html), ..."
   ]
  },
  {
   "cell_type": "code",
   "execution_count": null,
   "id": "8525cee7-bf26-47cc-92de-c3487d901762",
   "metadata": {},
   "outputs": [],
   "source": []
  }
 ],
 "metadata": {
  "author": "dieter.probst@gmail.com",
  "kernelspec": {
   "display_name": "Python 3 (ipykernel)",
   "language": "python",
   "name": "python3"
  },
  "language_info": {
   "codemirror_mode": {
    "name": "ipython",
    "version": 3
   },
   "file_extension": ".py",
   "mimetype": "text/x-python",
   "name": "python",
   "nbconvert_exporter": "python",
   "pygments_lexer": "ipython3",
   "version": "3.12.0"
  }
 },
 "nbformat": 4,
 "nbformat_minor": 5
}
