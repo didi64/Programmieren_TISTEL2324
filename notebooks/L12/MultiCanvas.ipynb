{
 "cells": [
  {
   "cell_type": "markdown",
   "id": "f6108091-bd60-4d28-a84e-5a61022aabf4",
   "metadata": {},
   "source": [
    "### Das MultiCanvas-Widget  \n",
    "siehe auch [ipycanvas.readthedocs.io](https://ipycanvas.readthedocs.io/en/latest/basic_usage.html)\n",
    "- Ein MultiCanvas Objekt besteht aus mehreren &uuml;bereinanderliegenden Canvas-Objekten.\n",
    "Z.B. das MultiCanvas-Objekt  \n",
    "`mcanvas = MultiCanvas(3, width=200, height=200)`  \n",
    "enth&auml;lt 3 separate Canvas-Objekte, auf die sich mit `mcanvas[0]`, `mcanvas[1]` und `mcanvas[2]` zugreifen l&auml;sst.  \n",
    "`mcanvas[0]` liegt zuunterst, `mcanvas[2]` zuoberst.  \n",
    "Zeichnungen auf einer oberen Schicht &uuml;berdecken diejenigen auf tiefer liegenden Schichten. \n",
    "- Es lassen sich u.A.  Callbacks f&uuml;r die Maus-Events \n",
    "`on_mouse_down`, `on_mouse_up` und `on_mouse_move`\n",
    "registrieren. Die Callbacks werden jeweils mit den Argumenten `x-Koordinate` und `y-Koordinate` der Mausposition aufgerufen."
   ]
  },
  {
   "cell_type": "code",
   "execution_count": null,
   "id": "a31c7d2b-bfec-4c97-bc0a-f82fa485dc08",
   "metadata": {},
   "outputs": [],
   "source": [
    "from ipycanvas import MultiCanvas"
   ]
  },
  {
   "cell_type": "code",
   "execution_count": null,
   "id": "0ccd5264-cf34-4780-b6ed-e95d22763dd5",
   "metadata": {},
   "outputs": [],
   "source": [
    "SIZE = 200 \n",
    "mcanvas = MultiCanvas(3, width = SIZE, height = SIZE, \n",
    "                layout = {'border' : '2px solid black'}\n",
    "               )\n",
    "\n",
    "bg, mg, fg = mcanvas # mvcanvas laesst sich auspacken, bg, mg, fg = mcanvas\n",
    "display(mcanvas)"
   ]
  },
  {
   "cell_type": "code",
   "execution_count": null,
   "id": "343c500c-2d25-481e-aaf4-9f291579237a",
   "metadata": {},
   "outputs": [],
   "source": [
    "# Farben fuer bg, mg und fg\n",
    "bg.fill_style = 'grey'\n",
    "mg.fill_style = 'blue'\n",
    "fg.fill_style = 'red'\n",
    "\n",
    "fg.fill_rect(0, 0, SIZE/2)\n",
    "bg.fill_rect(SIZE/4, SIZE/4, SIZE/2)\n",
    "fg.fill_rect(SIZE/2, SIZE/2, SIZE/2)\n",
    "mg.fill_circle(SIZE/2, SIZE/2, radius = SIZE/8)"
   ]
  },
  {
   "cell_type": "code",
   "execution_count": null,
   "id": "fee55a5c-a567-4dcf-b0d0-27f2b553223e",
   "metadata": {},
   "outputs": [],
   "source": [
    "# alle Layer loeschen\n",
    "mcanvas.clear()"
   ]
  },
  {
   "cell_type": "code",
   "execution_count": null,
   "id": "a5d25379-b9ac-4dd7-8923-daf2b4b9d835",
   "metadata": {},
   "outputs": [],
   "source": [
    "# foreground loeschen\n",
    "fg.clear()"
   ]
  },
  {
   "cell_type": "code",
   "execution_count": null,
   "id": "dfcaf713-ea8b-4837-bb24-df59315323d2",
   "metadata": {},
   "outputs": [],
   "source": [
    "# middleground loeschen\n",
    "mg.clear()"
   ]
  },
  {
   "cell_type": "markdown",
   "id": "659ca11c-96c2-4a6b-b1ee-ea8fed0cd25f",
   "metadata": {},
   "source": [
    "***\n",
    "**Callbacks f&uuml;r Maus-Events**  \n",
    "***"
   ]
  },
  {
   "cell_type": "code",
   "execution_count": null,
   "id": "0a362abc-88f6-41b3-a87f-1626643ba506",
   "metadata": {},
   "outputs": [],
   "source": [
    "# ist is_mousedown Attribut von fg?\n",
    "# falls nicht, nutze es um zu speichern, ob Maustaste gedrueckt.\n",
    "fg.is_mousedown"
   ]
  },
  {
   "cell_type": "code",
   "execution_count": null,
   "id": "17b7bb0e-b140-4688-8cd1-4d86ebbc3d96",
   "metadata": {},
   "outputs": [],
   "source": [
    "# Callbacks fuer Mausevents\n",
    "def on_mousedown(x, y):\n",
    "    fg.is_mousedown = True\n",
    "    \n",
    "def on_mouseup(x, y):\n",
    "    fg.is_mousedown = False\n",
    "    \n",
    "def on_mousemove(x, y):\n",
    "    if fg.is_mousedown:\n",
    "        fg.fill_circle(x, y, 3)"
   ]
  },
  {
   "cell_type": "code",
   "execution_count": null,
   "id": "b2507f85-dda6-4c29-88c9-43c9ce37d336",
   "metadata": {},
   "outputs": [],
   "source": [
    "mcanvas"
   ]
  },
  {
   "cell_type": "code",
   "execution_count": null,
   "id": "28d2c1fe-f191-45ab-be89-17adb85a1b28",
   "metadata": {},
   "outputs": [],
   "source": [
    "# callbacks testen\n",
    "fg.fill_style = 'black'\n",
    "mcanvas.clear()"
   ]
  },
  {
   "cell_type": "code",
   "execution_count": null,
   "id": "87d8ee63-0291-49b1-a868-75fd94a96284",
   "metadata": {},
   "outputs": [],
   "source": [
    "on_mousedown(0, 0)\n",
    "fg.is_mousedown"
   ]
  },
  {
   "cell_type": "code",
   "execution_count": null,
   "id": "616cca64-aea4-4c27-8f5c-77295d11d60c",
   "metadata": {},
   "outputs": [],
   "source": [
    "# Ist fg.is_mousedown sollte ein schwarzer Punkt in die Leinwandmitte gezeichnet werden\n",
    "# andernfalls sollte nicht passieren\n",
    "on_mousemove(SIZE/2, SIZE/2)"
   ]
  },
  {
   "cell_type": "code",
   "execution_count": null,
   "id": "1c3548af-b079-4071-a222-182948c6e5ff",
   "metadata": {},
   "outputs": [],
   "source": [
    "on_mouseup(0, 0)\n",
    "fg.is_mousedown"
   ]
  },
  {
   "cell_type": "code",
   "execution_count": null,
   "id": "1b9ce6ea-839b-4fd5-9dd3-596901ddac29",
   "metadata": {},
   "outputs": [],
   "source": [
    "# Callbacks registrieren\n",
    "# Die Callbacks werden mit den Argumenten x=Koordinate, y-Koordinate der Mausposition aufgerufen\n",
    "\n",
    "mcanvas.on_mouse_down(on_mousedown)\n",
    "mcanvas.on_mouse_up(on_mouseup)\n",
    "mcanvas.on_mouse_move(on_mousemove)\n",
    "\n",
    "fg.fill_style = 'black'\n",
    "display(mcanvas)"
   ]
  },
  {
   "cell_type": "code",
   "execution_count": null,
   "id": "3c74007d-e4dc-4571-af94-f4da521ef84d",
   "metadata": {},
   "outputs": [],
   "source": []
  }
 ],
 "metadata": {
  "author": "dieter.probst@gmail.com",
  "kernelspec": {
   "display_name": "Python 3 (ipykernel)",
   "language": "python",
   "name": "python3"
  },
  "language_info": {
   "codemirror_mode": {
    "name": "ipython",
    "version": 3
   },
   "file_extension": ".py",
   "mimetype": "text/x-python",
   "name": "python",
   "nbconvert_exporter": "python",
   "pygments_lexer": "ipython3",
   "version": "3.12.0"
  }
 },
 "nbformat": 4,
 "nbformat_minor": 5
}
