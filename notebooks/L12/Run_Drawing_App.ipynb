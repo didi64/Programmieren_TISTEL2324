{
 "cells": [
  {
   "cell_type": "markdown",
   "id": "425bfc28-7891-42e8-88b8-a9a976e3db75",
   "metadata": {},
   "source": [
    "### Minimale Drawing-APP  \n",
    "`%run minimal_drawing_app.py` f&uuml;hrt den Code im File `minimal_drawing_app.py` in diesem Notebook aus."
   ]
  },
  {
   "cell_type": "code",
   "execution_count": null,
   "id": "e9a9dcd5-d180-44ca-b64b-22d096da2239",
   "metadata": {},
   "outputs": [],
   "source": [
    "%run minimal_drawing_app.py"
   ]
  },
  {
   "cell_type": "code",
   "execution_count": null,
   "id": "195c4bfa-236d-47d8-b460-83ea660feb4d",
   "metadata": {},
   "outputs": [],
   "source": []
  }
 ],
 "metadata": {
  "kernelspec": {
   "display_name": "Python 3 (ipykernel)",
   "language": "python",
   "name": "python3"
  },
  "language_info": {
   "codemirror_mode": {
    "name": "ipython",
    "version": 3
   },
   "file_extension": ".py",
   "mimetype": "text/x-python",
   "name": "python",
   "nbconvert_exporter": "python",
   "pygments_lexer": "ipython3",
   "version": "3.12.0"
  }
 },
 "nbformat": 4,
 "nbformat_minor": 5
}
