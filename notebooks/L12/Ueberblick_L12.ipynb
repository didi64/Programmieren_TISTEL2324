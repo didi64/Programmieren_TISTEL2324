{
 "cells": [
  {
   "cell_type": "markdown",
   "id": "357c5831-fe8e-4dba-ac9a-8a61173a09f5",
   "metadata": {},
   "source": [
    "### Lektion 12, &Uuml;berblick und weitere Ressourcen\n",
    "\n",
    "- Die Widgets Canvas und Multicanvas des Modules `ipycanvas`. \n",
    "  Diese Widges erm&ouml;glich es, auf eine Leinwand zu malen und dort Text darzustellen. Zudem\n",
    "  stellen diese Widgets Mechanismen zur Verf&uuml;gung, auf Tastendr&uuml;cke und Maus-Events zu reagieren.  \n",
    "  [Offizielle Dokumentation zum Canvas-Widget](https://ipycanvas.readthedocs.io/en/latest/)   \n",
    "  [MultiCanvas](https://ipycanvas.readthedocs.io/en/latest/basic_usage.html)\n",
    "- Wie kann man Output und Fehlermeldungen, welche von Widget-Callbacks erzeugt werden in ein Output-Widget umleiten?  \n",
    "[Fehlermeldungen in Output Widget umleiten](https://ipywidgets.readthedocs.io/en/7.7.1/examples/Output%20Widget.html#Debugging-errors-in-callbacks-with-the-output-widget)\n",
    "\n",
    "\n",
    "- Wie definiert man Funktionen mit einer variablen Anzahl Argumente, wie z.B. `print` und `str.format`?  \n",
    "  [Variadische Funktionen](https://www.programiz.com/python-programming/args-and-kwargs)"
   ]
  },
  {
   "cell_type": "code",
   "execution_count": null,
   "id": "96292d6a-7891-4250-b0de-ea51ed472161",
   "metadata": {},
   "outputs": [],
   "source": []
  }
 ],
 "metadata": {
  "kernelspec": {
   "display_name": "Python 3 (ipykernel)",
   "language": "python",
   "name": "python3"
  },
  "language_info": {
   "codemirror_mode": {
    "name": "ipython",
    "version": 3
   },
   "file_extension": ".py",
   "mimetype": "text/x-python",
   "name": "python",
   "nbconvert_exporter": "python",
   "pygments_lexer": "ipython3",
   "version": "3.12.0"
  }
 },
 "nbformat": 4,
 "nbformat_minor": 5
}
