{
 "cells": [
  {
   "cell_type": "markdown",
   "id": "9f8f1a46-1e73-4a41-b69f-e3957f71606d",
   "metadata": {},
   "source": [
    "### Ein minimales Zeichenprogramm\n",
    "\n",
    "- Zeichen mit der Maus Linien und Kreise auf die Leinwand.  \n",
    "  Eine Linie wird gezogen vom Punkt, wo auf die Leinwand geklickt wird, zum Punkt, wo die Maustaste wieder losgelassen wird.\n",
    "  Wird vor dem Loslassen 'Shift' gedr&uuml;ckt, wird ein Kreis gezeichnet.\n",
    "  Wird 'Esc' gedr&uuml;ckt, passiert beim Loslassen nichts.\n",
    "- Farbe und Linienbreite w&auml;hlen: Wenn Leinwand im Fokus, dr&uuml;cke\n",
    "  eine Ziffer (neue Linienbreite) oder einer der Buchstaben 'r','g','b', f&uuml;r \n",
    "  'rot', 'g&uuml;n' oder 'blau'.\n",
    "- Dr&uuml;cke 'c', um das Leinwandgekritzel zu l&ouml;schen.\n",
    "\n",
    "Wir benutzen das [MultiCanvas-Widget](https://ipycanvas.readthedocs.io/en/latest/basic_usage.html).  \n",
    "\n",
    "Nachstehender Code implementiert Teile des oben beschriebenen Programms.  \n",
    "Noch zu erg&auml;nzen ist das W&auml;hlen der Linienbreite und das \n",
    "Abbrechen mit `Esc`."
   ]
  },
  {
   "cell_type": "code",
   "execution_count": 1,
   "id": "5d994d15-6716-4ed7-bec7-e4114c17cb4b",
   "metadata": {},
   "outputs": [],
   "source": [
    "import canvas_helpers # Methode remove_all_callbacks(mcanvas) unregistriert alle Callback \n",
    "from ipywidgets import Output\n",
    "from ipycanvas import MultiCanvas, Canvas"
   ]
  },
  {
   "cell_type": "code",
   "execution_count": 2,
   "id": "6103228f-a827-4c66-81d1-bd0f9d1c4a6a",
   "metadata": {},
   "outputs": [],
   "source": [
    "def distance(pt1, pt2):\n",
    "    '''return the distance between the points pt1=(x1,y1) and pt2=(x2,y2)'''\n",
    "    return ((pt2[0] - pt1[0])**2 + (pt2[1] - pt1[1])**2)**0.5    "
   ]
  },
  {
   "cell_type": "code",
   "execution_count": 3,
   "id": "9f05980f-ea84-4c5e-b0f9-39a0527af83d",
   "metadata": {},
   "outputs": [
    {
     "data": {
      "text/plain": [
       "5.0"
      ]
     },
     "execution_count": 3,
     "metadata": {},
     "output_type": "execute_result"
    }
   ],
   "source": [
    "A = (3, 4)\n",
    "B = (-1, 7)\n",
    "distance(A, B)"
   ]
  },
  {
   "cell_type": "code",
   "execution_count": 4,
   "id": "0328d3c1-bede-44f3-9603-aba3ff700060",
   "metadata": {},
   "outputs": [],
   "source": [
    "WIDTH = 300\n",
    "HEIGHT = 200\n",
    "HEADER_Y = 20\n",
    "HEADER_XS = (10, 100, 150, 170)\n",
    "FONT = '12px serif'  # https://ipycanvas.readthedocs.io/en/latest/drawing_text.html\n",
    "LINEWIDTH = 4\n",
    "\n",
    "LAYOUT = {'border': '1px solid black'}"
   ]
  },
  {
   "cell_type": "code",
   "execution_count": null,
   "id": "c7bb2910-5e37-41f2-9341-ec3ab8cb9452",
   "metadata": {},
   "outputs": [],
   "source": [
    "canvas    = Canvas(width=WIDTH, height=HEIGHT, layout = LAYOUT)\n",
    "canvas"
   ]
  },
  {
   "cell_type": "code",
   "execution_count": null,
   "id": "bacabac2-f011-44ed-b085-002624c68117",
   "metadata": {},
   "outputs": [],
   "source": [
    "canvas.close()\n",
    "del canvas"
   ]
  },
  {
   "cell_type": "code",
   "execution_count": null,
   "id": "cdae74ce-286e-4560-aad8-f201bb824268",
   "metadata": {},
   "outputs": [],
   "source": [
    "mcanvas    = MultiCanvas(3, width=WIDTH, height=HEIGHT, layout = LAYOUT)\n",
    "mcanvas"
   ]
  },
  {
   "cell_type": "code",
   "execution_count": null,
   "id": "510e25fb-222b-4a4c-a2d5-5cb049b7022d",
   "metadata": {},
   "outputs": [],
   "source": [
    "mcanvas.close()"
   ]
  },
  {
   "cell_type": "code",
   "execution_count": 6,
   "id": "64ffd0fc-3707-4935-a212-1bc226e100ba",
   "metadata": {},
   "outputs": [],
   "source": [
    "mcanvas.close()    \n",
    "for c in mcanvas:\n",
    "    c.close()\n",
    "del mcanvas"
   ]
  },
  {
   "cell_type": "code",
   "execution_count": 5,
   "id": "5b2f084a-8512-4792-8f8c-ca3963e6f52b",
   "metadata": {},
   "outputs": [
    {
     "data": {
      "application/vnd.jupyter.widget-view+json": {
       "model_id": "",
       "version_major": 2,
       "version_minor": 0
      },
      "text/plain": [
       "MultiCanvas(height=200, layout=Layout(border_bottom='1px solid black', border_left='1px solid black', border_r…"
      ]
     },
     "metadata": {},
     "output_type": "display_data"
    }
   ],
   "source": [
    "# error_msgs = Output(layout = LAYOUT)\n",
    "mcanvas    = MultiCanvas(3, width=WIDTH, height=HEIGHT, layout = LAYOUT)\n",
    "\n",
    "bg, mg, fg  = mcanvas # Background, Middleground, Foreground, 3 uebereinanderliegende Canvas'\n",
    "\n",
    "fg.font = FONT\n",
    "fg.text_baseline = 'middle'\n",
    "fg.line_width = LINEWIDTH\n",
    "bg.line_width = LINEWIDTH\n",
    "\n",
    "# display(mcanvas, error_msgs)\n",
    "display(mcanvas)"
   ]
  },
  {
   "cell_type": "code",
   "execution_count": null,
   "id": "1836e90b-e28f-47d8-8220-b24a0a2b518d",
   "metadata": {},
   "outputs": [],
   "source": [
    "mcanvas.close()"
   ]
  },
  {
   "cell_type": "code",
   "execution_count": null,
   "id": "5f36e0cc-a888-4f7b-a195-2091243a2034",
   "metadata": {},
   "outputs": [],
   "source": [
    "error_msgs.close()"
   ]
  },
  {
   "cell_type": "code",
   "execution_count": null,
   "id": "5607c070-98f8-4364-9d0d-0d7ad5f4b95f",
   "metadata": {},
   "outputs": [],
   "source": [
    "bg.close()"
   ]
  },
  {
   "cell_type": "code",
   "execution_count": null,
   "id": "1a555c21-5045-426b-8cea-c9759e68127f",
   "metadata": {},
   "outputs": [],
   "source": [
    "del error_msgs"
   ]
  },
  {
   "cell_type": "code",
   "execution_count": null,
   "id": "8ee6c620-c380-4abb-9710-0090faafebb0",
   "metadata": {},
   "outputs": [],
   "source": [
    "state  = {'pt': (0,0), 'mouse_down': False, 'key_pressed': None}\n",
    "colors = {'r': 'red', 'g': 'green', 'b':'blue'}\n",
    "\n",
    "def show_state(fg):\n",
    "    '''show state on fg (foreground)'''\n",
    "    pts = [(x, HEADER_Y) for x in  HEADER_XS]\n",
    "    fg.clear()\n",
    "    \n",
    "    fg.fill_text('Linewidth: ', *pts[0])\n",
    "    fg.stroke_lines(pts[1:3])\n",
    "    \n",
    "    text = 'key: {}'.format(state['key_pressed'])\n",
    "    fg.fill_text(text , *pts[3])"
   ]
  },
  {
   "cell_type": "code",
   "execution_count": null,
   "id": "aba4aa18-c974-46a6-a4f6-66bf516a0f8b",
   "metadata": {},
   "outputs": [],
   "source": [
    "state"
   ]
  },
  {
   "cell_type": "code",
   "execution_count": null,
   "id": "d1bfa1bb-c373-415a-82c7-58842a972c70",
   "metadata": {},
   "outputs": [],
   "source": [
    "show_state(fg)\n",
    "distance((0,0), (3,4))"
   ]
  },
  {
   "cell_type": "code",
   "execution_count": null,
   "id": "c5fae1fe-9bfb-41b1-8856-b8aca1c1e0b5",
   "metadata": {},
   "outputs": [],
   "source": [
    "show_state(fg)"
   ]
  },
  {
   "cell_type": "markdown",
   "id": "4ff07645-aab3-4066-ab6b-fb2b6ca43b14",
   "metadata": {},
   "source": [
    "***\n",
    "Nachstehend definieren wir die Funktionen, welche Maus-Events behandeln.  \n",
    "Ihr Output (Fehlermeldungen) wird ins Output-Widget `error_msgs` umgeleitet, \n",
    "[siehe](https://ipywidgets.readthedocs.io/en/7.7.1/examples/Output%20Widget.html#Debugging-errors-in-callbacks-with-the-output-widget).\n",
    "***"
   ]
  },
  {
   "cell_type": "code",
   "execution_count": null,
   "id": "94a2f26f-2d4a-4de4-a34b-45660c427b66",
   "metadata": {
    "tags": []
   },
   "outputs": [],
   "source": [
    "@error_msgs.capture(clear_output=True)\n",
    "def on_mouse_down(x, y):\n",
    "    '''update state\n",
    "       zeichne Punkt (Kreis mit Radius halbe line_width) auf mg\n",
    "    '''\n",
    "    state['pt'] = (x, y)\n",
    "    state['mouse_down'] = True\n",
    "    mg.fill_circle(x, y, radius = bg.line_width / 2)\n",
    "\n",
    "@error_msgs.capture(clear_output=True)  \n",
    "def on_mouse_up(x, y):\n",
    "    '''update state\n",
    "       zeichen auf bg (background), je nach gedrueckter Taste\n",
    "       loesche mg (middleground)\n",
    "    '''\n",
    "    state['mouse_down'] = False\n",
    "    pt_current = (x, y)\n",
    "    pt_clicked = state['pt']\n",
    "    \n",
    "    if state['key_pressed'] == 'Shift':\n",
    "        r = distance(pt_clicked,  pt_current)\n",
    "        bg.stroke_circle(*pt_clicked, r)\n",
    "    elif  state['key_pressed'] == 'Escape':   \n",
    "        pass\n",
    "    else:    \n",
    "        line = [pt_clicked,  pt_current]\n",
    "        bg.stroke_lines(line)\n",
    "        \n",
    "    state['key_pressed'] = None\n",
    "    show_state(fg)\n",
    "    mg.clear()\n",
    "    \n",
    "@error_msgs.capture(clear_output=True)      \n",
    "def on_key_down(key, *flags):\n",
    "    '''update state['key_pressed']\n",
    "       je nach state und gedrueckter Taste: set stroke_style und line_width von bg und fg\n",
    "       redraw state on fg (foregrond)\n",
    "    '''\n",
    "    if state['mouse_down']:\n",
    "        state['key_pressed'] = key\n",
    "        \n",
    "    if key == 'c':\n",
    "        bg.clear()\n",
    "    elif key in colors:\n",
    "        fg.stroke_style = colors[key]\n",
    "        bg.stroke_style = colors[key]\n",
    "    elif key in '123456789':\n",
    "        fg.line_width = int(key)\n",
    "        bg.line_width = int(key)\n",
    "        \n",
    "    show_state(fg)    "
   ]
  },
  {
   "cell_type": "code",
   "execution_count": null,
   "id": "240d4860-f390-480c-8289-b3ab44ece8e0",
   "metadata": {},
   "outputs": [],
   "source": [
    "# entferne alle fuer mcanvas registrierten Callbacks \n",
    "canvas_helpers.remove_all_callbacks(mcanvas)\n",
    "\n",
    "# registriere obige Funktionen als Callbacks \n",
    "mcanvas.on_mouse_down(on_mouse_down)\n",
    "mcanvas.on_mouse_up(on_mouse_up)\n",
    "mcanvas.on_key_down(on_key_down)"
   ]
  },
  {
   "cell_type": "code",
   "execution_count": null,
   "id": "cff46aed-81df-4265-bc18-2327e14ec308",
   "metadata": {},
   "outputs": [],
   "source": []
  }
 ],
 "metadata": {
  "author": "dieter.probst@gmail.com",
  "kernelspec": {
   "display_name": "Python 3 (ipykernel)",
   "language": "python",
   "name": "python3"
  },
  "language_info": {
   "codemirror_mode": {
    "name": "ipython",
    "version": 3
   },
   "file_extension": ".py",
   "mimetype": "text/x-python",
   "name": "python",
   "nbconvert_exporter": "python",
   "pygments_lexer": "ipython3",
   "version": "3.12.0"
  }
 },
 "nbformat": 4,
 "nbformat_minor": 5
}
