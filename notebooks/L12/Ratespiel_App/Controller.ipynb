{
 "cells": [
  {
   "cell_type": "markdown",
   "id": "c0824155-064f-4619-a76b-f82dc19c44a6",
   "metadata": {},
   "source": [
    "### Controller f&uuml;r unser Ratespiel  \n",
    "Eingaben sollen mit eine Slider gemacht werden k&ouml;nnen.  \n",
    "Wird 0 eingegeben, so wird `ratespiel.game_new()` aufgerufen, wird eine positive Zahl `n` eingegeben, so wird `ratespiel.game_guess(n)`."
   ]
  },
  {
   "cell_type": "code",
   "execution_count": null,
   "id": "28747660-78ef-4991-9294-c5a9c4b11be2",
   "metadata": {},
   "outputs": [],
   "source": [
    "#%%file controller.py\n",
    "import ratespiel\n",
    "from ipywidgets import IntSlider\n",
    "\n",
    "def submit_guess(change):\n",
    "    zahl = change.new\n",
    "    if zahl == 0:\n",
    "        ratespiel.game_new() \n",
    "    else:    \n",
    "        ratespiel.game_guess(zahl) \n",
    "\n",
    "kwargs = {'value': 0, \n",
    "          'min': 0, \n",
    "          'max': ratespiel.state['range'][1],\n",
    "          'step': 1, \n",
    "          'description': 'Your guess:', \n",
    "          'continuous_update': False,\n",
    "         }\n",
    "slider = IntSlider(**kwargs)\n",
    "slider.observe(submit_guess, names = 'value')      "
   ]
  },
  {
   "cell_type": "code",
   "execution_count": null,
   "id": "7383e30a-bacc-47b7-9ab0-d9708c480557",
   "metadata": {},
   "outputs": [],
   "source": [
    "slider"
   ]
  },
  {
   "cell_type": "code",
   "execution_count": null,
   "id": "bcebadd3-2ee8-4b64-9a09-a6bf0585332d",
   "metadata": {},
   "outputs": [],
   "source": []
  },
  {
   "cell_type": "markdown",
   "id": "d2d2c636-45db-4612-8c46-51f31c80560d",
   "metadata": {},
   "source": [
    "***\n",
    "Ausgabe mit Text View\n",
    "***"
   ]
  },
  {
   "cell_type": "code",
   "execution_count": null,
   "id": "d525f9ff-5a27-4600-b2e5-87889a57a9b4",
   "metadata": {},
   "outputs": [],
   "source": [
    "import text_view\n",
    "ratespiel.state['callback'] = text_view.callback\n",
    "display(text_view.widget, slider)"
   ]
  },
  {
   "cell_type": "markdown",
   "id": "d0dfbca7-9eb4-445f-b9b2-05c5948b09a3",
   "metadata": {},
   "source": [
    "***\n",
    "Ausgabe mit Canvas View\n",
    "***"
   ]
  },
  {
   "cell_type": "code",
   "execution_count": null,
   "id": "39fdcd45-9d07-4063-9200-5628573c2ee9",
   "metadata": {},
   "outputs": [],
   "source": [
    "import canvas_view\n",
    "ratespiel.state['callback'] = canvas_view.callback\n",
    "display(canvas_view.widget, slider)"
   ]
  },
  {
   "cell_type": "code",
   "execution_count": null,
   "id": "29d7ecfa-4e56-4d36-a63c-0cb982f0e40b",
   "metadata": {},
   "outputs": [],
   "source": []
  }
 ],
 "metadata": {
  "kernelspec": {
   "display_name": "Python 3 (ipykernel)",
   "language": "python",
   "name": "python3"
  },
  "language_info": {
   "codemirror_mode": {
    "name": "ipython",
    "version": 3
   },
   "file_extension": ".py",
   "mimetype": "text/x-python",
   "name": "python",
   "nbconvert_exporter": "python",
   "pygments_lexer": "ipython3",
   "version": "3.12.0"
  }
 },
 "nbformat": 4,
 "nbformat_minor": 5
}
