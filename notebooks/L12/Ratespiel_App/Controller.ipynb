{
 "cells": [
  {
   "cell_type": "markdown",
   "id": "c0824155-064f-4619-a76b-f82dc19c44a6",
   "metadata": {},
   "source": [
    "### Controller f&uuml;r unser Ratespiel  \n",
    "Eingaben sollen mit eine Slider gemacht werden k&ouml;nnen.  \n",
    "Wird 0 eingegeben, so wird `ratespiel.game_new()` aufgerufen, wird eine positive Zahl `n` eingegeben, so wird `ratespiel.game_guess(n)`."
   ]
  },
  {
   "cell_type": "code",
   "execution_count": 1,
   "id": "28747660-78ef-4991-9294-c5a9c4b11be2",
   "metadata": {},
   "outputs": [],
   "source": [
    "#%%file controller.py\n",
    "import ratespiel\n",
    "from ipywidgets import IntSlider\n",
    "\n",
    "def submit_guess(change):\n",
    "    zahl = change.new\n",
    "    if zahl == 0:\n",
    "        ratespiel.game_new() \n",
    "    else:    \n",
    "        ratespiel.game_guess(zahl) \n",
    "\n",
    "kwargs = {'value': 0, \n",
    "          'min': 0, \n",
    "          'max': ratespiel.state['range'][1],\n",
    "          'step': 1, \n",
    "          'description': 'Your guess:', \n",
    "          'continuous_update': False,\n",
    "         }\n",
    "slider = IntSlider(**kwargs)\n",
    "slider.observe(submit_guess, names = 'value')      "
   ]
  },
  {
   "cell_type": "code",
   "execution_count": 2,
   "id": "7383e30a-bacc-47b7-9ab0-d9708c480557",
   "metadata": {},
   "outputs": [
    {
     "data": {
      "application/vnd.jupyter.widget-view+json": {
       "model_id": "85873f2ff9cd4bdeaa0a7bb816bc81fd",
       "version_major": 2,
       "version_minor": 0
      },
      "text/plain": [
       "IntSlider(value=0, continuous_update=False, description='Your guess:', max=10)"
      ]
     },
     "execution_count": 2,
     "metadata": {},
     "output_type": "execute_result"
    }
   ],
   "source": [
    "slider"
   ]
  },
  {
   "cell_type": "code",
   "execution_count": null,
   "id": "bcebadd3-2ee8-4b64-9a09-a6bf0585332d",
   "metadata": {},
   "outputs": [],
   "source": []
  },
  {
   "cell_type": "markdown",
   "id": "d2d2c636-45db-4612-8c46-51f31c80560d",
   "metadata": {},
   "source": [
    "***\n",
    "Ausgabe mit Text View\n",
    "***"
   ]
  },
  {
   "cell_type": "code",
   "execution_count": 3,
   "id": "d525f9ff-5a27-4600-b2e5-87889a57a9b4",
   "metadata": {},
   "outputs": [
    {
     "data": {
      "application/vnd.jupyter.widget-view+json": {
       "model_id": "85873f2ff9cd4bdeaa0a7bb816bc81fd",
       "version_major": 2,
       "version_minor": 0
      },
      "text/plain": [
       "IntSlider(value=0, continuous_update=False, description='Your guess:', max=10)"
      ]
     },
     "metadata": {},
     "output_type": "display_data"
    },
    {
     "data": {
      "application/vnd.jupyter.widget-view+json": {
       "model_id": "4851f18c30894ecf865ef6ee3dae28d9",
       "version_major": 2,
       "version_minor": 0
      },
      "text/plain": [
       "Output(layout=Layout(border_bottom='1px solid black', border_left='1px solid black', border_right='1px solid b…"
      ]
     },
     "metadata": {},
     "output_type": "display_data"
    }
   ],
   "source": [
    "import text_view\n",
    "ratespiel.state['callback'] = text_view.callback\n",
    "display(slider, text_view.widget)"
   ]
  },
  {
   "cell_type": "code",
   "execution_count": null,
   "id": "6b65ca6d-48e8-459f-8885-9249fde2de76",
   "metadata": {},
   "outputs": [],
   "source": []
  }
 ],
 "metadata": {
  "kernelspec": {
   "display_name": "Python 3 (ipykernel)",
   "language": "python",
   "name": "python3"
  },
  "language_info": {
   "codemirror_mode": {
    "name": "ipython",
    "version": 3
   },
   "file_extension": ".py",
   "mimetype": "text/x-python",
   "name": "python",
   "nbconvert_exporter": "python",
   "pygments_lexer": "ipython3",
   "version": "3.12.0"
  }
 },
 "nbformat": 4,
 "nbformat_minor": 5
}
