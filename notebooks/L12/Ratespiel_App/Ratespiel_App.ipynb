{
 "cells": [
  {
   "cell_type": "markdown",
   "id": "ca7bc456-d905-48e9-90d2-0519df0626d2",
   "metadata": {},
   "source": [
    "### Ratespiel App"
   ]
  },
  {
   "cell_type": "code",
   "execution_count": null,
   "id": "692bf199-3315-40b0-9f7b-dab3ab445edd",
   "metadata": {},
   "outputs": [],
   "source": [
    "# Mit Output-Widget View\n",
    "import ratespiel, text_view, controller\n",
    "ratespiel.state['callback'] = text_view.callback\n",
    "display(controller.slider, text_view.widget)"
   ]
  },
  {
   "cell_type": "code",
   "execution_count": null,
   "id": "7d33ecd7-c3a5-466b-a3e4-3307d32339aa",
   "metadata": {},
   "outputs": [],
   "source": [
    "# Mit Canvas-Widget View"
   ]
  },
  {
   "cell_type": "code",
   "execution_count": null,
   "id": "29201a57-67c8-4e53-9cd1-c40ddccefce5",
   "metadata": {},
   "outputs": [],
   "source": [
    "import ratespiel, canvas_view, controller\n",
    "ratespiel.state['callback'] = canvas_view.callback\n",
    "display(controller.slider, canvas_view.widget)"
   ]
  }
 ],
 "metadata": {
  "kernelspec": {
   "display_name": "Python 3 (ipykernel)",
   "language": "python",
   "name": "python3"
  },
  "language_info": {
   "codemirror_mode": {
    "name": "ipython",
    "version": 3
   },
   "file_extension": ".py",
   "mimetype": "text/x-python",
   "name": "python",
   "nbconvert_exporter": "python",
   "pygments_lexer": "ipython3",
   "version": "3.12.0"
  }
 },
 "nbformat": 4,
 "nbformat_minor": 5
}
