{
 "cells": [
  {
   "cell_type": "markdown",
   "id": "8d657097-41ad-4176-82c1-6496c95523b2",
   "metadata": {},
   "source": [
    "### Ratespiel  \n",
    "Eine Zufallszahl soll erraten werden. \n",
    "Der Benutzer mit kann `game_new()` ein neues Spiel starten\n",
    "und dann mit `game_guess(zahl)` einen Rateversuche abgeben.\n",
    "Dem Benutzer wird mitgeteilt, ob er zu klein (-1), zu gross (1) oder richtig (0) geraten hat.  \n",
    "\n",
    "Wir teilen unsere Applikation in 3 Komponenten auf (Modell, View, Controller).\n",
    "View und Controller h&auml;ngen vom Modell ab. Das Modell kommuniziert mir der View via eine Callback Funktion,\n",
    "welche die View registriert.\n",
    "\n",
    "1. Das Modul `ratespiel` (Modell) implementiert die Spiellogik. Der Spielzustand wird in einem Dictionary `state` gespeichert,\n",
    "die Funktion `game_new()` startet ein neues Spiel und die Funktion `game_guess(zahl)` behandelt einen Rateversuch.  \n",
    "Die Funktion `game_new()` und `game_guess(zahl)` rufen nach getaner Arbeit das registrierte Callback\n",
    "`state['callback']` auf. Die Argumenten sind `event` (Funktionsname) und `state`.\n",
    "\n",
    "2. a) Das Modul `text_view` (View) erstellt ein Output-Widget und definiert eine Funktion `callback(event, state)`, die\n",
    "den Namen des Events und relevante Informationen zum Spielzustand in dieses Output-Widget schreibt.  \n",
    "\n",
    "   b) Das Modul `canvas_view` (View) erstellt ein Canvas-Widget und definiert eine Funktion `callback(event, state)`, die\n",
    "den Spielzustand graphisch darstellt. \n",
    "\n",
    "3. Das Modul `controller` (Controller) erstellt ein Slider-Widget, das Benutzerinput entgegennimmt.\n",
    "Wird 0 eingegeben, so wird `ratespiel.game_new()` aufgerufen,\n",
    "wird eine positive Zahl `n` eingegeben, so wird  `ratespiel.game_guess(n)` aufgerufen."
   ]
  },
  {
   "cell_type": "code",
   "execution_count": 1,
   "id": "fbec0a58-4241-4cee-a1a7-7711f0c23dc6",
   "metadata": {},
   "outputs": [],
   "source": [
    "sign = lambda x:(x > 0) - (x < 0)"
   ]
  },
  {
   "cell_type": "code",
   "execution_count": 2,
   "id": "2167ac56-e03b-4520-901f-131e85dbdf80",
   "metadata": {},
   "outputs": [
    {
     "data": {
      "text/plain": [
       "(1, 0, -1)"
      ]
     },
     "execution_count": 2,
     "metadata": {},
     "output_type": "execute_result"
    }
   ],
   "source": [
    "# man kann mit Booleans rechnen: True -> 1, False -> 0\n",
    "True-False, False-False, False-True"
   ]
  },
  {
   "cell_type": "code",
   "execution_count": 3,
   "id": "9faebf68-5f14-48b6-864d-d928a7468150",
   "metadata": {},
   "outputs": [
    {
     "name": "stdout",
     "output_type": "stream",
     "text": [
      "sign(-2)=-1, sign(0)=0, sign(3)=1, "
     ]
    }
   ],
   "source": [
    "# Die sign-Funktion: sign(0):=0, sign(x)=-1 falls x<0, sign(x)=1 falls x>0\n",
    "for x in [-2, 0, 3]:\n",
    "    print('sign({})={}'.format(x, sign(x)), end = ', ')"
   ]
  },
  {
   "cell_type": "markdown",
   "id": "76493823-4600-4793-908a-8b6bc0593c64",
   "metadata": {},
   "source": [
    "### Code f&uuml;r Spiellogik"
   ]
  },
  {
   "cell_type": "code",
   "execution_count": 17,
   "id": "1df59b70-13ab-4295-9201-ea84d5b27e3c",
   "metadata": {},
   "outputs": [],
   "source": [
    "#%%file ratespiel.py\n",
    "import random\n",
    "sign = lambda x:(x > 0) - (x < 0)\n",
    "\n",
    "# Gamestate\n",
    "state = {'range': (1, 10),\n",
    "         'number_to_guess': None,\n",
    "         'guesses_with_feedback': [], # list of tuples (zahl, feeback)\n",
    "         'is_game_on': False,\n",
    "         'callback': lambda event, data: print('Event: {}\\n{}'.format(event, state))\n",
    "        }\n",
    "\n",
    "# Handlungsoptionen\n",
    "def game_new():\n",
    "    '''starte ein neues Spiel'''\n",
    "    state['guesses_with_feedback'].clear()\n",
    "    state['number_to_guess'] = random.randint(*state['range'])\n",
    "    state['is_game_on'] = True\n",
    "    state['callback']('new_game', state)\n",
    "    \n",
    "def game_guess(zahl):\n",
    "    '''behandle Rateversuch'''\n",
    "    if state['is_game_on']:\n",
    "        feedback = sign(zahl - state['number_to_guess'])\n",
    "        if feedback == 0:\n",
    "            state['is_game_on'] = False\n",
    "        state['guesses_with_feedback'].append((zahl, feedback))\n",
    "        state['callback']('guess', state)  "
   ]
  },
  {
   "cell_type": "code",
   "execution_count": 18,
   "id": "21a2c215-333a-4261-87ef-dd0ab9137e89",
   "metadata": {},
   "outputs": [
    {
     "data": {
      "text/plain": [
       "{'range': (1, 10),\n",
       " 'number_to_guess': None,\n",
       " 'guesses_with_feedback': [],\n",
       " 'is_game_on': False,\n",
       " 'callback': <function __main__.<lambda>(event, data)>}"
      ]
     },
     "execution_count": 18,
     "metadata": {},
     "output_type": "execute_result"
    }
   ],
   "source": [
    "state"
   ]
  },
  {
   "cell_type": "code",
   "execution_count": 19,
   "id": "a0e58f2e-69a9-4330-b8fb-d6f62cdad257",
   "metadata": {},
   "outputs": [
    {
     "name": "stdout",
     "output_type": "stream",
     "text": [
      "Event: new_game\n",
      "{'range': (1, 10), 'number_to_guess': 6, 'guesses_with_feedback': [], 'is_game_on': True, 'callback': <function <lambda> at 0x7fbb3c702160>}\n"
     ]
    }
   ],
   "source": [
    "game_new()"
   ]
  },
  {
   "cell_type": "code",
   "execution_count": 24,
   "id": "6df78d5e-2acd-43de-a611-867d1bb0b84f",
   "metadata": {},
   "outputs": [
    {
     "name": "stdout",
     "output_type": "stream",
     "text": [
      "Event: guess\n",
      "{'range': (1, 10), 'number_to_guess': 6, 'guesses_with_feedback': [(5, -1), (3, -1), (8, 1), (7, 1), (6, 0)], 'is_game_on': False, 'callback': <function <lambda> at 0x7fbb3c702160>}\n"
     ]
    }
   ],
   "source": [
    "game_guess(6)"
   ]
  },
  {
   "cell_type": "code",
   "execution_count": null,
   "id": "054539a3-dcae-44a0-a1e7-52ffbd946093",
   "metadata": {},
   "outputs": [],
   "source": []
  }
 ],
 "metadata": {
  "kernelspec": {
   "display_name": "Python 3 (ipykernel)",
   "language": "python",
   "name": "python3"
  },
  "language_info": {
   "codemirror_mode": {
    "name": "ipython",
    "version": 3
   },
   "file_extension": ".py",
   "mimetype": "text/x-python",
   "name": "python",
   "nbconvert_exporter": "python",
   "pygments_lexer": "ipython3",
   "version": "3.12.0"
  }
 },
 "nbformat": 4,
 "nbformat_minor": 5
}
