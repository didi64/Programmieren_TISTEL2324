{
 "cells": [
  {
   "cell_type": "markdown",
   "id": "9805b3fb-4651-4c56-b1cc-2a4d0296e0c7",
   "metadata": {},
   "source": [
    "### Textbasierte View f&uuml;r Ratespiel\n",
    "Das Modul `text_viewtext_view` erstellt ein Output-Widget und definiert eine \n",
    "Funktion `callback(event, state)`, die den Namen des Events und relevante Informationen zum Spielzustand in dieses Output-Widget schreibt."
   ]
  },
  {
   "cell_type": "code",
   "execution_count": null,
   "id": "7dff8d23-37b2-46cd-bcea-98a9c69ef7e8",
   "metadata": {},
   "outputs": [],
   "source": [
    "#%%file text_view.py\n",
    "from ipywidgets import Output\n",
    "\n",
    "widget = Output(layout={'border': '1px solid black'})\n",
    "\n",
    "def callback(event, state):\n",
    "    widget.clear_output()\n",
    "    with widget:\n",
    "        print('Event: {}'.format(event))\n",
    "        print('Game on: {}, Range: {}, Versuche: {}'.\n",
    "              format(state['is_game_on'], \n",
    "                     state['range'], \n",
    "                     state['guesses_with_feedback']))"
   ]
  },
  {
   "cell_type": "code",
   "execution_count": null,
   "id": "30186b47-93bf-4d0f-9bf6-b3f30b6c86f2",
   "metadata": {},
   "outputs": [],
   "source": [
    "widget"
   ]
  },
  {
   "cell_type": "code",
   "execution_count": null,
   "id": "2f1f000c-d618-4cff-9e74-6833bd4ce9f5",
   "metadata": {},
   "outputs": [],
   "source": [
    "import ratespiel"
   ]
  },
  {
   "cell_type": "code",
   "execution_count": null,
   "id": "5cdb16ab-4b0e-4d90-a43c-2b90bdfbdc2c",
   "metadata": {},
   "outputs": [],
   "source": [
    "callback('test', ratespiel.state)"
   ]
  },
  {
   "cell_type": "code",
   "execution_count": null,
   "id": "06cb6501-728d-4d56-93cf-14d2667ec287",
   "metadata": {},
   "outputs": [],
   "source": [
    "# Callback registrieren und testen\n",
    "ratespiel.state['callback'] = callback"
   ]
  },
  {
   "cell_type": "code",
   "execution_count": null,
   "id": "3af07664-a460-47a2-91a7-4456b9ed28ba",
   "metadata": {},
   "outputs": [],
   "source": [
    "ratespiel.game_new()"
   ]
  },
  {
   "cell_type": "code",
   "execution_count": null,
   "id": "2cfada39-8790-4582-be40-7bebb719b319",
   "metadata": {},
   "outputs": [],
   "source": [
    "ratespiel.game_guess(8)"
   ]
  },
  {
   "cell_type": "code",
   "execution_count": null,
   "id": "d88c2078-321c-4a4b-b4c6-d8372c8e7f5e",
   "metadata": {},
   "outputs": [],
   "source": []
  }
 ],
 "metadata": {
  "kernelspec": {
   "display_name": "Python 3 (ipykernel)",
   "language": "python",
   "name": "python3"
  },
  "language_info": {
   "codemirror_mode": {
    "name": "ipython",
    "version": 3
   },
   "file_extension": ".py",
   "mimetype": "text/x-python",
   "name": "python",
   "nbconvert_exporter": "python",
   "pygments_lexer": "ipython3",
   "version": "3.12.0"
  }
 },
 "nbformat": 4,
 "nbformat_minor": 5
}
