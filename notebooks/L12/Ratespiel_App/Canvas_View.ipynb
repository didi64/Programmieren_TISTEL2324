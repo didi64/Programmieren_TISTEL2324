{
 "cells": [
  {
   "cell_type": "markdown",
   "id": "3c76d21d-ab34-4c14-b9a7-4faf0fe0224c",
   "metadata": {},
   "source": [
    "### Canvas View\n",
    "Das Modul `canvas_view` erstellt ein Canvas-Widget und definiert eine Funktion `callback(event, state)`, die den Spielzustand graphisch darstellt."
   ]
  },
  {
   "cell_type": "code",
   "execution_count": null,
   "id": "71b6d530-9280-4871-aa85-cede2464b214",
   "metadata": {},
   "outputs": [],
   "source": [
    "#%%file canvas_view.py\n",
    "from ipycanvas import MultiCanvas\n",
    "\n",
    "# View-Konfiguration\n",
    "WIDTH =  200\n",
    "HEIGHT = 50\n",
    "LINE_START = (20, 40)\n",
    "LINE_END = (180, 40)\n",
    "PT_SIZE = 3\n",
    "FONT = '20px serif'\n",
    "TEXT = 'Guess a Number'\n",
    "TEXT_POS = (20, 20)\n",
    "COLORS = {-1: 'blue', 0: 'green', 1: 'red'}\n",
    "\n",
    "widget = MultiCanvas(2, width=WIDTH, height=HEIGHT, layout={'border' : '2px solid black'})\n",
    "bg, fg = widget\n",
    "bg.font = FONT\n",
    "bg.fill_text(TEXT, *TEXT_POS)\n",
    "\n",
    "def on_game_new(state):\n",
    "    '''loesche Vordergrund, zeichne Skala'''\n",
    "    fg.clear()\n",
    "    fg.stroke_lines([LINE_START, LINE_END])\n",
    "      \n",
    "def get_pt_pos(zahl, upper):\n",
    "    '''gibt x und y Koordinate des Punktes zurueck,\n",
    "       der zahl auf der Skala repraesentiert\n",
    "    '''\n",
    "    x0, y0 = LINE_START\n",
    "    x1 = LINE_END[0]\n",
    "    return x0 + (x1 - x0)/(upper-1) * (zahl-1), y0        \n",
    "        \n",
    "def on_game_guess(state):\n",
    "    '''Zeichen Versuch auf Skala ein'''\n",
    "    guess, feedback = state['guesses_with_feedback'][-1]\n",
    "    fg.fill_style = COLORS[feedback]\n",
    "    pos = get_pt_pos(guess, state['range'][1])\n",
    "    fg.fill_circle(*pos, radius = PT_SIZE)            \n",
    "    \n",
    "# callback die auf Canvas schreibt\n",
    "event_action = {'new_game': on_game_new, 'guess': on_game_guess}\n",
    "callback = lambda event, data: event_action[event](data)    "
   ]
  },
  {
   "cell_type": "code",
   "execution_count": null,
   "id": "170dffec-5314-4892-96e3-564651aab00a",
   "metadata": {},
   "outputs": [],
   "source": [
    "import ratespiel"
   ]
  },
  {
   "cell_type": "code",
   "execution_count": null,
   "id": "8ed97c9f-eb0c-4fbf-a00a-c8da53fada66",
   "metadata": {},
   "outputs": [],
   "source": [
    "widget"
   ]
  },
  {
   "cell_type": "code",
   "execution_count": null,
   "id": "d16e5b73-d819-4722-ae76-b56c7ed487d4",
   "metadata": {},
   "outputs": [],
   "source": [
    "on_game_new(ratespiel.state)"
   ]
  },
  {
   "cell_type": "code",
   "execution_count": null,
   "id": "c6584492-bd15-4750-9fdf-2c915a5c7c48",
   "metadata": {},
   "outputs": [],
   "source": [
    "ratespiel.game_new()\n",
    "ratespiel.game_guess(5)"
   ]
  },
  {
   "cell_type": "code",
   "execution_count": null,
   "id": "b52e10b2-6460-45d2-bd11-3647a013c6a8",
   "metadata": {},
   "outputs": [],
   "source": [
    "on_game_guess(ratespiel.state)"
   ]
  },
  {
   "cell_type": "code",
   "execution_count": null,
   "id": "3bcc90bf-f080-4f5a-a086-a52d4dcc2227",
   "metadata": {},
   "outputs": [],
   "source": [
    "# callback registrieren und testen\n",
    "ratespiel.state['callback'] = callback"
   ]
  },
  {
   "cell_type": "code",
   "execution_count": null,
   "id": "9fa46bfc-47b6-4819-a27b-d72097f1fb85",
   "metadata": {},
   "outputs": [],
   "source": [
    "ratespiel.game_new()"
   ]
  },
  {
   "cell_type": "code",
   "execution_count": null,
   "id": "4f9f934f-fe4a-49bb-95e0-3c905acb1cd3",
   "metadata": {},
   "outputs": [],
   "source": [
    "ratespiel.game_guess(2)"
   ]
  },
  {
   "cell_type": "code",
   "execution_count": null,
   "id": "cdea4b19-713b-470c-a49d-79ea6c9bf410",
   "metadata": {},
   "outputs": [],
   "source": []
  }
 ],
 "metadata": {
  "kernelspec": {
   "display_name": "Python 3 (ipykernel)",
   "language": "python",
   "name": "python3"
  },
  "language_info": {
   "codemirror_mode": {
    "name": "ipython",
    "version": 3
   },
   "file_extension": ".py",
   "mimetype": "text/x-python",
   "name": "python",
   "nbconvert_exporter": "python",
   "pygments_lexer": "ipython3",
   "version": "3.12.0"
  }
 },
 "nbformat": 4,
 "nbformat_minor": 5
}
