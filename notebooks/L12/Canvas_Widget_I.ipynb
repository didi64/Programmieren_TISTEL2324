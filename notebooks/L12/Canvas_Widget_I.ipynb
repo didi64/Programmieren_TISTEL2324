{
 "cells": [
  {
   "cell_type": "markdown",
   "id": "01efa5e5-5252-4777-a391-98395da1954e",
   "metadata": {},
   "source": [
    "### Das Canvas-Widget\n",
    "[Offizielle Dokumentation zum Canvas-Widget](https://ipycanvas.readthedocs.io/en/latest/)  \n",
    "Ein Canvas-Objekt wird z.B. mit  \n",
    "```python\n",
    "canvas = Canvas(width = 200, height=200)\n",
    "display(canvas)\n",
    "```  \n",
    "erzeugt und dargestellt. \n",
    "Wie alle Widgets f&uuml;r Jupyterlab \n",
    "akzeptiert `Canvas` ein Keyword-Argument [layout](https://ipywidgets.readthedocs.io/en/stable/examples/Widget%20Layout.html), womit die Darstellung der\n",
    "Canvas beeinflusst werden kann.  \n",
    "\n",
    "Einige **Attribute**:\n",
    "- `stroke_style`: Farbe zum Zeichnen (stroke-color)\n",
    "- `fill_style`:   Farbe zum F&uuml;ll (fill-color)\n",
    "- `line_width`:   Linienbreite (stroke-width)\n",
    "- `font`:         Font und Fontsize\n",
    "Einige **Methoden**:  \n",
    "- `canvas.stroke_lines([(0, 0), (20, 10), (100, 100),...])`\n",
    "- `canvas.stroke_circle(x, y, radius)`\n",
    "- `canvas.stroke_polygon([(0, 0), (20, 10), (100, 100),...])`  \n",
    "  Ist der letzte Punkt verschieden von ersten, wird das Polygon automatisch geschlossen\n",
    "- `canvas.stroke_rect(upperleft_x, upper_left_y, width, height)`  \n",
    "- `canvas.fill_text(text, x, y)`\n",
    "- `canvas.clear()`  \n",
    "- `canvas.clear_rect(upperleft_x, upper_left_y, width, height)`  \n",
    "   rechteckiges Gebiet wird von Canvas gel&ouml;scht\n",
    "\n",
    "F&uuml;r viele `fill`-Methodengibt es eine entsprechende `fill`-Methoden."
   ]
  },
  {
   "cell_type": "markdown",
   "id": "b33c8a51-7cf5-49aa-b6fe-a5fdad0b1932",
   "metadata": {},
   "source": [
    "***\n",
    "### Bemerkungen  \n",
    "F&uuml;r ein Event k&ouml;nnen mehrere Callbacks registriert werden, die beim Eintreffen des Events dann alle aufgerufen werden. Beim Herumspielen mit Code in einem Notebook m&ouml;chte man jedoch nicht, dass noch alte und ev. fehlerhafte Versionen eines Callbacks registriert sind.\n",
    "Wir benutzen deshalb die Funktion `remove_all_callbacks(widget)` aus dem Modul `canvas_helpers` zum Entfernen aller Callbacks eines Canvas- oder MultiCanvas-Widgets.  \n",
    "Wie die Funktion `remove_all_callbacks` im Detail funktioniert behandeln wir hier nicht.\n",
    "***"
   ]
  },
  {
   "cell_type": "code",
   "execution_count": 1,
   "id": "1c42c273-0855-48e7-8416-1d0566ed19fd",
   "metadata": {},
   "outputs": [
    {
     "data": {
      "application/vnd.jupyter.widget-view+json": {
       "model_id": "6bf9e00de42c4aa394c58f5cec678e29",
       "version_major": 2,
       "version_minor": 0
      },
      "text/plain": [
       "Canvas(height=200, layout=Layout(border_bottom='2px solid black', border_left='2px solid black', border_right=…"
      ]
     },
     "metadata": {},
     "output_type": "display_data"
    }
   ],
   "source": [
    "import canvas_helpers\n",
    "# entfernt alle registrierten Callbacks\n",
    "canvas_helpers.remove_all_callbacks(canvas)\n",
    "from ipycanvas import Canvas\n",
    "SIZE = 200\n",
    "canvas = Canvas(width=SIZE, height=SIZE, \n",
    "                # schwarzer Rand um Canvas, damit sichtbar wenn leer\n",
    "                layout = {'border' : '2px solid black'}\n",
    "               )\n",
    "display(canvas)"
   ]
  },
  {
   "cell_type": "code",
   "execution_count": 7,
   "id": "89e0be70-912a-4879-bb8a-1a0d497b8f63",
   "metadata": {},
   "outputs": [
    {
     "data": {
      "text/plain": [
       "'black'"
      ]
     },
     "execution_count": 7,
     "metadata": {},
     "output_type": "execute_result"
    }
   ],
   "source": [
    "# Farbe zum Malen\n",
    "canvas.stroke_style"
   ]
  },
  {
   "cell_type": "code",
   "execution_count": 74,
   "id": "a7d0f6bd-5551-400f-b62f-7d9dd0a59067",
   "metadata": {},
   "outputs": [
    {
     "data": {
      "text/plain": [
       "'12px serif'"
      ]
     },
     "execution_count": 74,
     "metadata": {},
     "output_type": "execute_result"
    }
   ],
   "source": [
    "# Font der mit fill_text verwendet wird\n",
    "canvas.font"
   ]
  },
  {
   "cell_type": "code",
   "execution_count": 21,
   "id": "c0281f13-c3f6-4d6b-84b3-c6d2ffc8d0b7",
   "metadata": {},
   "outputs": [],
   "source": [
    "# zeichne Kreislinie in blau\n",
    "canvas.stroke_style = 'blue'\n",
    "canvas.line_width = 5\n",
    "canvas.stroke_circle(150, 150, radius = 20)"
   ]
  },
  {
   "cell_type": "code",
   "execution_count": 9,
   "id": "389562d6-8ba6-498b-90fe-d86723015f13",
   "metadata": {},
   "outputs": [],
   "source": [
    "# zeichne Kreisscheibe in rot, Polygon in orange\n",
    "canvas.fill_style = 'red'\n",
    "canvas.fill_circle(100, 100, 30)"
   ]
  },
  {
   "cell_type": "code",
   "execution_count": 10,
   "id": "afedbd5c-6134-4e55-b10b-7479c51abb27",
   "metadata": {},
   "outputs": [],
   "source": [
    "# Polygon in orange\n",
    "canvas.fill_style = 'orange'\n",
    "canvas.fill_polygon([(0, 100), (0, 200), (100, 100)])"
   ]
  },
  {
   "cell_type": "code",
   "execution_count": 11,
   "id": "3dfaf94d-9f76-46a1-80b8-b17be5460191",
   "metadata": {},
   "outputs": [],
   "source": [
    "# Leinwand mit blauem Rechteck einfassen\n",
    "canvas.stroke_style = 'blue'\n",
    "canvas.line_width = 10\n",
    "canvas.stroke_rect(0, 0, canvas.width, canvas.height)"
   ]
  },
  {
   "cell_type": "code",
   "execution_count": 12,
   "id": "1bbb4a98-6c2a-41ae-80dd-14dcce958709",
   "metadata": {},
   "outputs": [],
   "source": [
    "# Zeichne Canvasdiagonale\n",
    "pts = [(0, 0), (canvas.width, canvas.height)]\n",
    "canvas.stroke_lines(pts)"
   ]
  },
  {
   "cell_type": "code",
   "execution_count": 32,
   "id": "0abd81ea-8e86-4a14-bc32-e29de1a38e9e",
   "metadata": {},
   "outputs": [],
   "source": [
    "# Text platzieren\n",
    "canvas.fill_style = 'black'\n",
    "canvas.fill_text('Hallo', 100, 50)"
   ]
  },
  {
   "cell_type": "code",
   "execution_count": 33,
   "id": "4286af12-68f0-45c6-8373-ab15f494a3d5",
   "metadata": {},
   "outputs": [],
   "source": [
    "# loesche rechteckigen Teil der Leinwand \n",
    "canvas.clear_rect(50, 100, 50, 20)"
   ]
  },
  {
   "cell_type": "code",
   "execution_count": 50,
   "id": "478de100-6f75-43b0-ad4c-7c25d30a373a",
   "metadata": {},
   "outputs": [],
   "source": [
    "# loesche Leinwand\n",
    "canvas.clear()"
   ]
  },
  {
   "cell_type": "markdown",
   "id": "5c468b9a-9660-4082-a850-8070907b1238",
   "metadata": {},
   "source": [
    "***\n",
    "Mit `canvas.on_mouse_down` kann ein Callback registriert werden, das beim Klicken auf die Leinwand aufgerufen wird.  \n",
    "Als Argumente werden dem Callback x und y-Koordinate der Klickposition &uuml;bergeben.  \n",
    "***   "
   ]
  },
  {
   "cell_type": "code",
   "execution_count": 46,
   "id": "e2e74081-e0c7-4184-8f4d-799662935085",
   "metadata": {},
   "outputs": [],
   "source": [
    "# Callback definieren und testen\n",
    "callback = lambda x,y:canvas.fill_text('Klicked at ({},{})'.format(int(x), int(y)), \n",
    "                                        x, y\n",
    "                                       )\n",
    "callback(30, 30)"
   ]
  },
  {
   "cell_type": "code",
   "execution_count": 51,
   "id": "9637acce-50bc-4a54-897b-ba005b6a0b3f",
   "metadata": {},
   "outputs": [],
   "source": [
    "import canvas_helpers\n",
    "# entfernt alle registrierten Callbacks\n",
    "canvas_helpers.remove_all_callbacks(canvas)"
   ]
  },
  {
   "cell_type": "code",
   "execution_count": 49,
   "id": "7d443815-5385-41f2-9a26-05d0c18a7388",
   "metadata": {},
   "outputs": [],
   "source": [
    "# callback registrieren\n",
    "canvas.on_mouse_down(callback)"
   ]
  },
  {
   "cell_type": "markdown",
   "id": "a57791e1-83eb-429c-80f4-d05f06cf82f7",
   "metadata": {},
   "source": [
    "### Aufgaben \n",
    "1. Zeichen ein Schachbrett auf die Leinwand mit Felderfarben grey und blue.  \n",
    "   Schreibe dann eine Funktion, die ein Schachbrett auf die Leinwand zeichnet.\n",
    "   - zeichne ein gef&uuml;lltes graues Rechteck in Linewandgr&ouml;sse  \n",
    "   - ein einzelnes Feld ist `size = SIZE/8` gross  \n",
    "   - die rechte obere Ecke des Feld in Spalte 0, Reihe 0 liegt bei (0, 0)  \n",
    "   - die rechte obere Ecke des Feld in Spalte 2, Reihe 4 liegt bei (`2*size`, `4*size`)  \n",
    "   - bei blauen Feldern ist Spalte + Reihe gerade  \n",
    "   \n",
    "2. Gegeben seine Koordinaten (x, y).  \n",
    "   In welchem Feld des Schachbretts (Spalte, Reihe) liegt dieser Punkt?\n",
    "   Zeichne einen gef&uuml;llten schwarzen Kreis in die Mitte dieses Feldes.  \n",
    "   **Hint**: Spalte und Reihe sind gegeben durch `x // size` und `y //size`, wobei size die Breite eines Feldes ist.\n",
    "   \n",
    "3. Schreibe eine Funktion, `draw_circle_in_field(x, y)`, die einen Kreis in die mitte des Feldes \n",
    "   bei (x, y) zeichnet.\n",
    "   \n",
    "4. Wenn deine Funktion `draw_circle_in_field(x, y)` wie gew&uuml;scht funktioniert,\n",
    "   registeriere sie als Callback, um mit einem Klick auf ein Feld dort einen Spielstein platzieren zu k&ouml;nnen."
   ]
  },
  {
   "cell_type": "code",
   "execution_count": 39,
   "id": "fe6b06ad-a551-412f-b503-a3475744a562",
   "metadata": {
    "jupyter": {
     "source_hidden": true
    },
    "tags": []
   },
   "outputs": [],
   "source": [
    "# def draw_chessboard(canvas, color1 = 'grey', color2 = 'blue'):\n",
    "#     n = 8 # 8x8 Brett\n",
    "#     # Fuelle Canvas mit color1\n",
    "#     canvas.fill_style = color1\n",
    "#     canvas.fill_rect(0, 0, canvas.width, canvas.height)\n",
    "    \n",
    "#     # Zeichne (ungerade) Felder mit color2\n",
    "#     canvas.fill_style = color2\n",
    "    \n",
    "#     # width und height eines Feldes\n",
    "#     dw = canvas.width / n\n",
    "#     dh = canvas.height / n\n",
    "    \n",
    "#     for x in range(n):\n",
    "#         for y in range(n):\n",
    "#             # zeichen Feld falls x + y gerade\n",
    "#             if (x + y) % 2 == 0:\n",
    "#                 canvas.fill_rect(x*dw, y*dh, dw, dh)"
   ]
  },
  {
   "cell_type": "code",
   "execution_count": null,
   "id": "f45c190d-81b6-4879-a398-1d48d42397dc",
   "metadata": {},
   "outputs": [],
   "source": []
  },
  {
   "cell_type": "code",
   "execution_count": 4,
   "id": "7e09f753-ccad-45b7-b20f-1afc30b7a610",
   "metadata": {},
   "outputs": [
    {
     "data": {
      "application/vnd.jupyter.widget-view+json": {
       "model_id": "6bf9e00de42c4aa394c58f5cec678e29",
       "version_major": 2,
       "version_minor": 0
      },
      "text/plain": [
       "Canvas(height=200, layout=Layout(border_bottom='2px solid black', border_left='2px solid black', border_right=…"
      ]
     },
     "metadata": {},
     "output_type": "display_data"
    }
   ],
   "source": [
    "display(canvas)"
   ]
  },
  {
   "cell_type": "code",
   "execution_count": 5,
   "id": "453e5d82-bd52-4cd6-be56-782216a6d850",
   "metadata": {},
   "outputs": [],
   "source": [
    "canvas.clear()"
   ]
  },
  {
   "cell_type": "code",
   "execution_count": 49,
   "id": "82fa4615-fc7a-417c-8a0e-130702c24248",
   "metadata": {},
   "outputs": [],
   "source": [
    "# draw_chessboard(canvas)"
   ]
  },
  {
   "cell_type": "code",
   "execution_count": 66,
   "id": "37248f00-0d89-4db8-9112-526c6152986c",
   "metadata": {
    "jupyter": {
     "source_hidden": true
    },
    "tags": []
   },
   "outputs": [],
   "source": [
    "# def draw_circle_in_field(x, y):\n",
    "#     canvas.fill_style = 'black'\n",
    "#     size = SIZE / 8\n",
    "#     col = x // size\n",
    "#     row = y // size\n",
    "    \n",
    "#     center = ((col+0.5)*size, (row+0.5)*size)\n",
    "#     canvas.fill_circle(*center, size/3)"
   ]
  },
  {
   "cell_type": "code",
   "execution_count": null,
   "id": "7f6cc3bd-f976-46f8-89eb-75d986cdddc5",
   "metadata": {},
   "outputs": [],
   "source": []
  },
  {
   "cell_type": "code",
   "execution_count": 67,
   "id": "0d988ce7-1467-4339-949e-44145e537367",
   "metadata": {},
   "outputs": [],
   "source": [
    "# draw_circle_in_field(80, 30)"
   ]
  },
  {
   "cell_type": "code",
   "execution_count": 25,
   "id": "1cc3989d-603f-42dc-b420-48cbc205e717",
   "metadata": {},
   "outputs": [],
   "source": [
    "# entfernt alle registrierten Callbacks\n",
    "canvas_helpers.remove_all_callbacks(canvas)\n",
    "# canvas.on_mouse_down(draw_circle_in_field)"
   ]
  },
  {
   "cell_type": "code",
   "execution_count": null,
   "id": "1e4e6981-c6e1-405a-80e4-7a9cc301fc4f",
   "metadata": {},
   "outputs": [],
   "source": []
  }
 ],
 "metadata": {
  "author": "dieter.probst@gmail.com",
  "kernelspec": {
   "display_name": "Python 3 (ipykernel)",
   "language": "python",
   "name": "python3"
  },
  "language_info": {
   "codemirror_mode": {
    "name": "ipython",
    "version": 3
   },
   "file_extension": ".py",
   "mimetype": "text/x-python",
   "name": "python",
   "nbconvert_exporter": "python",
   "pygments_lexer": "ipython3",
   "version": "3.12.0"
  }
 },
 "nbformat": 4,
 "nbformat_minor": 5
}
