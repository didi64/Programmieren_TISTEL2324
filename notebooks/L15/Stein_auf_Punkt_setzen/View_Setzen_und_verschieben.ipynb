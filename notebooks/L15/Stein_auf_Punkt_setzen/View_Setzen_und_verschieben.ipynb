{
 "cells": [
  {
   "cell_type": "markdown",
   "id": "1d64fe21-0cd5-4dd3-9c51-a0602941e954",
   "metadata": {},
   "source": [
    "### View f&uuml;r Spiel \"Steine setzen und verschieben\"\n",
    "Zur Darstellung des Spielzustandes benutzen wir eine\n",
    "MultiCanvas mit 2 Layern (Hintergrund, Vordergrund).\n",
    "\n",
    "\n",
    "\n",
    "Mit `view = View(game)` wird eine View f&uuml;r die Spielinstanz `game` erstellt.  \n",
    "Die `__init__` Methode weist dem Attribut `game.callback` die Funktion  \n",
    "`lambda event, data: self.callback(even, data)` zu.  "
   ]
  },
  {
   "cell_type": "code",
   "execution_count": null,
   "id": "5cd7c8c4-360e-45ea-8efa-6ccb0fcc981a",
   "metadata": {},
   "outputs": [],
   "source": [
    "from ipycanvas import MultiCanvas\n",
    "class View:\n",
    "    \n",
    "    pts = [(180, 100), (140, 30), (60, 30), (20, 100),  (60, 170),  (140, 170)]\n",
    "    colors = ['LightSalmon', 'Salmon', 'Red','Crimson',  'FireBrick', 'DarkRed']\n",
    "    r = 10\n",
    "   \n",
    "    def __init__(self, game):\n",
    "        self.game = game\n",
    "        # callback registrieren\n",
    "        game.callback = lambda event, data: self.callback(event, data)\n",
    "        \n",
    "        self.mcanvas = MultiCanvas(2, width = 200, height = 200, \n",
    "                                   layout = {'border': '1px solid black'}\n",
    "                                  )\n",
    "        self.bg, self.fg = self.mcanvas\n",
    "       \n",
    "        for pt in self.pts:\n",
    "            self.bg.fill_circle(*pt, 3)\n",
    "            \n",
    "    def place_stone(self, idx, color='black'):\n",
    "        x, y = self.idx2pos(idx)\n",
    "        self.fg.fill_style = color\n",
    "        self.fg.fill_circle(x, y, self.r)\n",
    "        \n",
    "    def remove_stone(self, idx):\n",
    "        x, y = self.idx2pos(idx)\n",
    "        self.fg.clear_rect(x-self.r-0.5, y-self.r-0.5, 2*self.r+1)\n",
    "        \n",
    "    def move_stone(self, src, target, color='black'):\n",
    "        self.remove_stone(src)\n",
    "        self.place_stone(target, color)\n",
    "        \n",
    "    def idx2pos(self, idx):\n",
    "        return self.pts[idx]\n",
    "    \n",
    "    def callback(self, move_type, idxs):\n",
    "        if move_type == 'place_stone':\n",
    "            src = idxs[0]\n",
    "            self.place_stone(src, self.colors[src])\n",
    "        if move_type == 'move_stone':\n",
    "            src, target = idxs\n",
    "            self.move_stone(src, target, self.colors[target])\n",
    "            \n",
    "    def _ipython_display_(self):\n",
    "        display(self.mcanvas)"
   ]
  },
  {
   "cell_type": "code",
   "execution_count": null,
   "id": "5058c018-24f7-4026-bda3-874a7b4215e4",
   "metadata": {},
   "outputs": [],
   "source": [
    "# Klasse Game und Funktion engine importieren\n",
    "from game_setzen_verschieben import Game"
   ]
  },
  {
   "cell_type": "code",
   "execution_count": null,
   "id": "39188d2c-4038-44f7-b492-6845962b3a67",
   "metadata": {},
   "outputs": [],
   "source": [
    "game = Game()\n",
    "view = View(game)\n",
    "view"
   ]
  },
  {
   "cell_type": "code",
   "execution_count": null,
   "id": "93764ddf-f544-4aad-850d-3343e6d00d28",
   "metadata": {},
   "outputs": [],
   "source": [
    "# Teste ob View auf Callback reagiert\n",
    "game.place(0)\n",
    "game"
   ]
  },
  {
   "cell_type": "code",
   "execution_count": null,
   "id": "d8470473-d873-408f-8f8d-0b241d72f075",
   "metadata": {},
   "outputs": [],
   "source": [
    "game.move(0, 1)"
   ]
  },
  {
   "cell_type": "code",
   "execution_count": null,
   "id": "4f7474d4-e21c-4fb2-8400-209f05bab29e",
   "metadata": {},
   "outputs": [],
   "source": [
    "game.move(1, 2)"
   ]
  },
  {
   "cell_type": "markdown",
   "id": "8c7e350e-6cda-4ac8-971e-96e85f53beb9",
   "metadata": {
    "tags": []
   },
   "source": [
    "### Steine mit der Maus setzen und bewegen\n",
    "- `on_mouse_down(x, y)`: Finde mit `idx = get_closest(self.pts, (x, y))` den Index des  n&auml;chsten Punktes in `pts`. Ist `idx` ungleich `None`, speichere ihn in `fg.selectet_point` und setze einen Stein auf diesen Punkt.\n",
    "- `on_mouse_up(x, y)`: Ist `idx = get_closest(self.pts, (x, y))` ungleich `None`,\n",
    "verschieben den Stein von Ecke `fg.selectet_point` auf Ecke `idx`."
   ]
  },
  {
   "cell_type": "code",
   "execution_count": null,
   "id": "b3c56d67-fe73-4d1d-95a5-400b64ef1c4b",
   "metadata": {},
   "outputs": [],
   "source": [
    "from get_closest import get_closest\n",
    "from ipywidgets import Output\n",
    "err_msg = Output(layout = {'border': '1px solid black'})\n",
    "from ipycanvas import MultiCanvas\n",
    "\n",
    "class View:\n",
    "    pts = [(180, 100), (140, 30), (60, 30), (20, 100),  (60, 170),  (140, 170)]\n",
    "    colors = ['LightSalmon', 'Salmon', 'Red','Crimson',  'FireBrick', 'DarkRed']\n",
    "    r = 10\n",
    "    \n",
    "    def __init__(self, game):\n",
    "        self.game = game\n",
    "        # callback registrieren\n",
    "        game.callback = lambda event, data: self.callback(event, data)\n",
    "        \n",
    "        self.mcanvas = MultiCanvas(2, width = 200, height = 200, \n",
    "                                   layout = {'border': '1px solid black'}\n",
    "                                  )\n",
    "        self.bg, self.fg = self.mcanvas\n",
    "        for pt in self.pts:\n",
    "            self.bg.fill_circle(*pt, 3)\n",
    "            \n",
    "        # Attribut fuer selektiertes Feld, Callbacks fuer Maus-Events registrieren\n",
    "        self.selected_field = None\n",
    "        self.mcanvas.on_mouse_down(self.on_mouse_down)\n",
    "        self.mcanvas.on_mouse_up(self.on_mouse_up)\n",
    "       \n",
    "    def place_stone(self, idx, color='black'):\n",
    "        x, y = self.pts[idx]\n",
    "        self.fg.fill_style = color\n",
    "        self.fg.fill_circle(x, y, self.r)\n",
    "        \n",
    "    def remove_stone(self, idx):\n",
    "        x, y = self.pts[idx]\n",
    "        self.fg.clear_rect(x-self.r-0.5, y-self.r-0.5, 2*self.r+1)\n",
    "        \n",
    "    def move_stone(self, src, target, color='black'):\n",
    "        self.remove_stone(src)\n",
    "        self.place_stone(target, color)\n",
    "        \n",
    "    def callback(self, move_type, idxs):\n",
    "        if move_type == 'place_stone':\n",
    "            src = idxs[0]\n",
    "            self.place_stone(src, self.colors[src])\n",
    "        if move_type == 'move_stone':\n",
    "            src, target = idxs\n",
    "            self.move_stone(src, target, self.colors[target])\n",
    "            \n",
    "    @err_msg.capture()        \n",
    "    def on_mouse_down(self, x, y):\n",
    "        idx = get_closest(self.pts, (x, y))\n",
    "        if idx is not None:\n",
    "            self.selected_field = idx\n",
    "            # Zug an Game-Instanz weitergeben\n",
    "            self.game.place(idx) \n",
    "        \n",
    "    @err_msg.capture()   \n",
    "    def on_mouse_up(self, x, y):   \n",
    "        if self.selected_field is None:\n",
    "            return\n",
    "        target = get_closest(self.pts, (x, y))\n",
    "        if target is not None:\n",
    "            # Zug an Game-Instanz weitergeben\n",
    "            self.game.move(self.selected_field, target)  \n",
    "            self.selected_field = None       \n",
    "            \n",
    "    def _ipython_display_(self):\n",
    "        display(self.mcanvas, err_msg)"
   ]
  },
  {
   "cell_type": "code",
   "execution_count": null,
   "id": "8d18fcb2-5299-4555-b87d-2ef933715c6e",
   "metadata": {},
   "outputs": [],
   "source": [
    "game = Game()\n",
    "view = View(game)\n",
    "view"
   ]
  },
  {
   "cell_type": "code",
   "execution_count": null,
   "id": "5ef46fa3-afb7-419f-a4b8-e52483f77d2e",
   "metadata": {},
   "outputs": [],
   "source": []
  },
  {
   "cell_type": "code",
   "execution_count": null,
   "id": "0b9381bb-202e-494e-87d7-82b9b0c3d327",
   "metadata": {},
   "outputs": [],
   "source": []
  }
 ],
 "metadata": {
  "kernelspec": {
   "display_name": "Python 3 (ipykernel)",
   "language": "python",
   "name": "python3"
  },
  "language_info": {
   "codemirror_mode": {
    "name": "ipython",
    "version": 3
   },
   "file_extension": ".py",
   "mimetype": "text/x-python",
   "name": "python",
   "nbconvert_exporter": "python",
   "pygments_lexer": "ipython3",
   "version": "3.12.0"
  }
 },
 "nbformat": 4,
 "nbformat_minor": 5
}
