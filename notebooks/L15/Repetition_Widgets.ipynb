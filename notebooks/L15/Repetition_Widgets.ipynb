{
 "cells": [
  {
   "cell_type": "markdown",
   "id": "5a9f8161-3273-4b1d-9579-081586c3be58",
   "metadata": {},
   "source": [
    "### Die wichtigsten Widgets\n",
    "Siehe auch Notebook `Widgets_Select_Output.ipynb` der Lektion 11 und\n",
    "[Dokumentation der Jupyter-Widgets](https://ipywidgets.readthedocs.io/en/stable/examples/Widget%20List.html)"
   ]
  },
  {
   "cell_type": "code",
   "execution_count": null,
   "id": "c0375478-d3c6-4c47-a702-cf5f743150d5",
   "metadata": {},
   "outputs": [],
   "source": [
    "from ipycanvas import Canvas\n",
    "from ipywidgets import Output, Select, Button, HBox"
   ]
  },
  {
   "cell_type": "code",
   "execution_count": null,
   "id": "a7228175-81e2-460a-8209-23d25229b8d8",
   "metadata": {},
   "outputs": [],
   "source": [
    "# Layouts\n",
    "layout_canvas = {'border' : '1px solid black'}\n",
    "layout_out    = {'border' : '1px solid black', 'height': '30px'}\n",
    "layout_button = {'border' : '2px solid black', \n",
    "                 'width'  : '100px',\n",
    "                 'height' : '30px',\n",
    "                }"
   ]
  },
  {
   "cell_type": "code",
   "execution_count": null,
   "id": "27063f96-b4a3-4c64-a731-851fcb498114",
   "metadata": {},
   "outputs": [],
   "source": [
    "# Widgets erstellen\n",
    "canvas = Canvas(width=400, height=100, layout=layout_canvas)\n",
    "out    = Output(layout=layout_out)\n",
    "select = Select(options = ['Zürich', 'Bern', 'Luzern'],\n",
    "                value = 'Bern',\n",
    "                rows  = 5,\n",
    "               )\n",
    "button = Button(description = 'click me', layout = layout_button)\n",
    "hbox   = HBox(children = [select, button])"
   ]
  },
  {
   "cell_type": "code",
   "execution_count": null,
   "id": "e15c7019-84d0-4e0e-8308-fa94aeaa30db",
   "metadata": {},
   "outputs": [],
   "source": [
    "# Hilfsfunktionen\n",
    "def print_to_out(text):\n",
    "    '''printe in Outputwidet out'''\n",
    "    out.clear_output()\n",
    "    with out:\n",
    "        print(text)\n",
    "        \n",
    "def print_to_canvas(text):\n",
    "    '''schreibe auf Canvas'''\n",
    "    canvas.clear()\n",
    "    canvas.font = '30px serif'\n",
    "    canvas.fill_text(text, 20, 50)"
   ]
  },
  {
   "cell_type": "code",
   "execution_count": null,
   "id": "62dfaefc-831a-4ede-a34c-c3b5aac022d4",
   "metadata": {},
   "outputs": [],
   "source": [
    "# Callbacks fuer button und select Widgets\n",
    "def on_click(button):\n",
    "    '''wird mit dem button-objekt als Arguemt aufgerufen, \n",
    "       wenn der Button geklickt wird\n",
    "    '''   \n",
    "    text = 'Button clicked!'\n",
    "    print_to_out(text)\n",
    "    print_to_canvas(text)\n",
    "    \n",
    "def on_change(change):\n",
    "    '''wird mit einem Change-Objekt aufgerufen, wenn\n",
    "       das Attribut `select.value` geaendert wird\n",
    "    '''\n",
    "    text = change.new\n",
    "    print_to_out(text)\n",
    "    print_to_canvas(text)\n",
    "\n",
    "# Callback fuer Tastendruck\n",
    "def on_key_down(key, *flags):\n",
    "    text = 'Key: {}, Flags: {}'.format(key, flags)\n",
    "    print_to_out(text)\n",
    "    print_to_canvas(text)\n",
    "    \n",
    "#Callbacks registrieren\n",
    "canvas.on_key_down(on_key_down)\n",
    "button.on_click(on_click)\n",
    "select.observe(on_change, names='value')"
   ]
  },
  {
   "cell_type": "code",
   "execution_count": null,
   "id": "b44babdd-92c2-4f08-b1e3-fbc6888ce03e",
   "metadata": {},
   "outputs": [],
   "source": [
    "display(canvas, out, hbox)"
   ]
  },
  {
   "cell_type": "code",
   "execution_count": null,
   "id": "61c77269-40a8-4a4f-8b5b-f5e2d393d9cb",
   "metadata": {},
   "outputs": [],
   "source": []
  }
 ],
 "metadata": {
  "kernelspec": {
   "display_name": "Python 3 (ipykernel)",
   "language": "python",
   "name": "python3"
  },
  "language_info": {
   "codemirror_mode": {
    "name": "ipython",
    "version": 3
   },
   "file_extension": ".py",
   "mimetype": "text/x-python",
   "name": "python",
   "nbconvert_exporter": "python",
   "pygments_lexer": "ipython3",
   "version": "3.12.0"
  }
 },
 "nbformat": 4,
 "nbformat_minor": 5
}
