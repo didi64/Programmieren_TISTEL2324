{
 "cells": [
  {
   "cell_type": "markdown",
   "id": "5864b4c9-889c-4a1b-a794-9162dc23cdff",
   "metadata": {},
   "source": [
    "### N&auml;chster Punkt \n",
    "Gegeben sei ein Punkt `pt = (0, 6)` und eine Liste `pts` mit Punkten,  \n",
    "`pts = [(0, 0), (0, 5), (0, 10)]`.  \n",
    "Finde den Punkt in `pts`, der am n&auml;chsten bei `pt` liegt.  \n",
    "\n",
    "1. Erstelle eine Liste mit Paaren der Form `(distance(pt, pts[i]), i)`:  \n",
    "   `dist_idx = [(6, 0), (1, 1), (4, 2)]` \n",
    "1. Finde das kleinste Tuple `(1, 1)`   mit  `min(dist_idx)`  \n",
    "  (Tuple werden in erster Priorit&auml;t nach dem ersten Element (hier die Distanz)  sortiert)\n",
    "1. Greife den Index `1` des Punktes mit `(1, 1)[1]`  \n",
    "\n",
    "Oft d&uuml;nnt man die Liste `dist_idx` aus und beh&auml;lt nur Punkte, welche im Umkreis einer Distanz `err` von `pt` liegen.\n"
   ]
  },
  {
   "cell_type": "code",
   "execution_count": null,
   "id": "e9c2cfbc-3f30-4f3a-ac72-5d6d2d1bac17",
   "metadata": {},
   "outputs": [],
   "source": [
    "def distance(p, q):\n",
    "    return ((p[0] - q[0])**2 + (p[1] - q[1])**2)**0.5\n",
    "\n",
    "def get_closest(pts, pt0, err):\n",
    "    dist_idx = []\n",
    "    for i, pt in enumerate(pts):\n",
    "        dist = distance(pt, pt0)\n",
    "        if dist < err:\n",
    "            dist_idx.append((dist, i))\n",
    "    \n",
    "    return min(dist_idx)[1]"
   ]
  },
  {
   "cell_type": "code",
   "execution_count": null,
   "id": "6c791b9c-23f4-418d-8b61-7b53f1163798",
   "metadata": {},
   "outputs": [],
   "source": [
    "pts = [(0, 0), (0, 5), (0, 10)]\n",
    "pt = (0, 6)\n",
    "idx = get_closest(pts, pt, err=2)\n",
    "pts[idx]"
   ]
  },
  {
   "cell_type": "code",
   "execution_count": null,
   "id": "9d134c3f-1de2-43a2-bc10-ebc3a1494dd6",
   "metadata": {},
   "outputs": [],
   "source": [
    "# Problem:\n",
    "get_closest(pts, pt, err = 1)"
   ]
  },
  {
   "cell_type": "markdown",
   "id": "aa6a761d-fdb6-413b-b596-24e347dbef7f",
   "metadata": {},
   "source": [
    "### Verbesserung\n",
    "Ist die Liste `dist_idx` leer weil der Punkt `pt` keinen Nachbarn im Umkreis `err` hat, \n",
    "verursacht `min(dist_idx)` einen Fehler.  \n",
    "`min(dist_idx, defaul=(None, None))` liefert in diesem Fall das Tuple `(None, None)`.\n"
   ]
  },
  {
   "cell_type": "code",
   "execution_count": 1,
   "id": "cf407de7-8f5e-485a-8644-86b50bfe5050",
   "metadata": {},
   "outputs": [
    {
     "name": "stdout",
     "output_type": "stream",
     "text": [
      "Writing get_closest.py\n"
     ]
    }
   ],
   "source": [
    "#%%file get_closest.py\n",
    "def distance(p, q):\n",
    "    return ((p[0] - q[0])**2 + (p[1] - q[1])**2)**0.5\n",
    "\n",
    "def get_closest(pts, pt0, err=10):\n",
    "    dist_idx = []\n",
    "    for i, pt in enumerate(pts):\n",
    "        dist = distance(pt, pt0)\n",
    "        if dist < err:\n",
    "            dist_idx.append((dist, i))\n",
    "    \n",
    "    return min(dist_idx, default=(None, None))[1]"
   ]
  },
  {
   "cell_type": "code",
   "execution_count": null,
   "id": "cff2d6f5-94fa-4771-b626-ca6465dcf4e3",
   "metadata": {},
   "outputs": [],
   "source": [
    "print(get_closest(pts, pt, err = 1))"
   ]
  },
  {
   "cell_type": "markdown",
   "id": "f7181a92-57cc-4f63-9ab0-7a0696e80000",
   "metadata": {},
   "source": [
    "### Anwendung: Steine auf Leinwand setzen und verschieben"
   ]
  },
  {
   "cell_type": "code",
   "execution_count": null,
   "id": "7a761319-6c8b-4f20-bd77-44c37994b607",
   "metadata": {},
   "outputs": [],
   "source": [
    "pts = [(180, 100), (140, 30), (60, 30), (20, 100), (60, 170), (140, 170)]\n",
    "       \n",
    "def place_stone(canvas, idx, color='black'):\n",
    "    x, y = pts[idx]\n",
    "    canvas.fill_style = color\n",
    "    canvas.fill_circle(x, y, radius)\n",
    "\n",
    "def remove_stone(canvas, idx):\n",
    "    x, y = pts[idx]\n",
    "    canvas.clear_rect(x-radius-0.5, y-radius-0.5, 2*radius+1)\n",
    "\n",
    "def move_stone(canvas, src, target, color='black'):\n",
    "    remove_stone(canvas, src)\n",
    "    place_stone(canvas, target, color)"
   ]
  },
  {
   "cell_type": "code",
   "execution_count": null,
   "id": "4139cffb-1218-405e-a5d3-28d4ac9b4eda",
   "metadata": {},
   "outputs": [],
   "source": [
    "from ipywidgets import Output\n",
    "err_msg = Output(layout = {'border': '1px solid black'})\n",
    "from ipycanvas import MultiCanvas\n",
    "\n",
    "colors = ['LightSalmon', 'Salmon', 'Red','Crimson',  'FireBrick', 'DarkRed']\n",
    "radius = 10\n",
    "\n",
    "mcanvas = MultiCanvas(2, width = 200, height = 200, \n",
    "                                   layout = {'border': '1px solid black'}\n",
    "                                  )\n",
    "bg, fg = mcanvas\n",
    "fg.selected_field = None\n",
    "\n",
    "@err_msg.capture()        \n",
    "def on_mouse_down(x, y):\n",
    "    idx = get_closest(pts, (x, y))\n",
    "    if idx is not None:\n",
    "        fg.selected_field = idx\n",
    "        place_stone(fg, idx, colors[idx])\n",
    "\n",
    "@err_msg.capture()   \n",
    "def on_mouse_up(x, y):   \n",
    "    if fg.selected_field is None:\n",
    "        return\n",
    "    target = get_closest(pts, (x, y))\n",
    "    if target is not None:\n",
    "        move_stone(fg, fg.selected_field, target, colors[target])  \n",
    "        selected_field = None       \n",
    "        \n",
    "mcanvas.on_mouse_down(on_mouse_down)\n",
    "mcanvas.on_mouse_up(on_mouse_up)\n",
    "\n",
    "for pt in pts:\n",
    "    bg.fill_style = 'blue'\n",
    "    bg.fill_circle(*pt, 3)\n",
    "    \n",
    "display(mcanvas, err_msg)      "
   ]
  }
 ],
 "metadata": {
  "kernelspec": {
   "display_name": "Python 3 (ipykernel)",
   "language": "python",
   "name": "python3"
  },
  "language_info": {
   "codemirror_mode": {
    "name": "ipython",
    "version": 3
   },
   "file_extension": ".py",
   "mimetype": "text/x-python",
   "name": "python",
   "nbconvert_exporter": "python",
   "pygments_lexer": "ipython3",
   "version": "3.12.0"
  }
 },
 "nbformat": 4,
 "nbformat_minor": 5
}
