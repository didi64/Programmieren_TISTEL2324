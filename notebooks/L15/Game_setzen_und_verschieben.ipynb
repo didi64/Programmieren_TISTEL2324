{
 "cells": [
  {
   "cell_type": "markdown",
   "id": "36b48f7c-f8ab-4fd4-8b31-4f2059ec213e",
   "metadata": {},
   "source": [
    "### Steine auf Spielbrett verschieben\n",
    "Das Spielfeld besteht aus den Ecken eines Sechsecks.\n",
    "Ein Spieler kann  einen Steine auf eine freie Ecke setzen oder\n",
    "einen Stein von einer Ecke auf eine andere freie Ecke verschieben.  "
   ]
  },
  {
   "cell_type": "code",
   "execution_count": 38,
   "id": "44988f7a-567a-455f-ade4-20810a3df88e",
   "metadata": {},
   "outputs": [],
   "source": [
    "#%%file game_setzen_verschieben.py\n",
    "class Game:\n",
    "    \n",
    "    def __init__(self):\n",
    "        self.n = 6\n",
    "        self.position = [False] * self.n\n",
    "       \n",
    "    def callback(self):\n",
    "        print('Message from Callback:',  e, d)\n",
    "        \n",
    "    def are_valid(self, idxs):\n",
    "        '''gibt True zurueck falls alle idx in der Liste idxs\n",
    "           gueltige Indices fuer position sind\n",
    "        '''   \n",
    "        return all(0 <= idx < self.n for idx in idxs)\n",
    "    \n",
    "    def is_legal(self, move_type, idxs):\n",
    "        if not self.are_valid(idxs):\n",
    "            return\n",
    "        \n",
    "        if move_type == 'place':\n",
    "            src = idxs[0]\n",
    "            return not self.position[src]\n",
    "        \n",
    "        if move_type == 'move':\n",
    "            src, target = idxs\n",
    "            return self.position[src] and not self.position[target]\n",
    "           \n",
    "    def place(self, src):  \n",
    "        if not self.is_legal('place', (src,)):\n",
    "            return\n",
    "        \n",
    "        self.position[src] = True\n",
    "        self.callback('place_stone', (src,))\n",
    "        \n",
    "    def move(self, src, target):  \n",
    "        if not self.is_legal('move', (src, target)):\n",
    "            return\n",
    "        \n",
    "        self.position[src] = False\n",
    "        self.position[target] =True\n",
    "        self.callback('move_stone', (src, target))\n",
    "        \n",
    "    def __repr__(self):\n",
    "        return 'Position: {}'.format(self.position)"
   ]
  },
  {
   "cell_type": "code",
   "execution_count": null,
   "id": "18fc8890-c769-4e81-b3c6-1616ccd546bf",
   "metadata": {},
   "outputs": [],
   "source": [
    "# Klasse Game testen\n",
    "game = Game()\n",
    "game.callback = lambda e, d: print('Message from Callback:',  e, d)\n",
    "game"
   ]
  },
  {
   "cell_type": "code",
   "execution_count": null,
   "id": "956f104e-e15f-4897-a14b-48dd0646278e",
   "metadata": {},
   "outputs": [],
   "source": [
    "game.place(1)\n",
    "game"
   ]
  },
  {
   "cell_type": "code",
   "execution_count": null,
   "id": "c72af42b-b6d4-4226-80d8-372248f9958a",
   "metadata": {},
   "outputs": [],
   "source": [
    "game.move(1, 2)\n",
    "game"
   ]
  }
 ],
 "metadata": {
  "kernelspec": {
   "display_name": "Python 3 (ipykernel)",
   "language": "python",
   "name": "python3"
  },
  "language_info": {
   "codemirror_mode": {
    "name": "ipython",
    "version": 3
   },
   "file_extension": ".py",
   "mimetype": "text/x-python",
   "name": "python",
   "nbconvert_exporter": "python",
   "pygments_lexer": "ipython3",
   "version": "3.12.0"
  }
 },
 "nbformat": 4,
 "nbformat_minor": 5
}
