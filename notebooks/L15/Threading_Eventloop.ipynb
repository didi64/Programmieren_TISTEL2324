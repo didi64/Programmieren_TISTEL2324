{
 "cells": [
  {
   "cell_type": "markdown",
   "id": "7364f8bd-949a-45de-901a-ca9bede6c59b",
   "metadata": {},
   "source": [
    "### Threads, Eventloop\n",
    "Threads erlauben es, mehrere Funktionen (scheinbar) parallel auszuf&uuml;hren.\n",
    "Tats&auml;chlich wird rasch von einem Thead zum n&auml;chsten gesprungen. "
   ]
  },
  {
   "cell_type": "code",
   "execution_count": 1,
   "id": "beec6e4c-e2b8-416b-90a0-cf06abd6bc79",
   "metadata": {},
   "outputs": [],
   "source": [
    "import threading"
   ]
  },
  {
   "cell_type": "markdown",
   "id": "afce375a-0848-4e30-81c9-6be1a83c5810",
   "metadata": {},
   "source": [
    "***\n",
    "Jupyterlab benutzt offenbar bereits Threads, wie die Ausgabe der aktiven Threads mit \n",
    "`threading.active_count()` zeigt."
   ]
  },
  {
   "cell_type": "code",
   "execution_count": 2,
   "id": "859a52da-151c-48f5-afd3-aec711d1610f",
   "metadata": {},
   "outputs": [
    {
     "data": {
      "text/plain": [
       "8"
      ]
     },
     "execution_count": 2,
     "metadata": {},
     "output_type": "execute_result"
    }
   ],
   "source": [
    "threading.active_count()"
   ]
  },
  {
   "cell_type": "markdown",
   "id": "f6e61e25-42c1-42ec-8b54-65bb18acd939",
   "metadata": {},
   "source": [
    "***\n",
    "&Uuml;ber die aktiven Threads kann man wie unten gezeigt iterieren.  \n",
    "Wir geben exemplarisch die Namen der Threads aus.\n",
    "***"
   ]
  },
  {
   "cell_type": "code",
   "execution_count": 3,
   "id": "73c1576f-0309-4bdc-84ad-1c11482ce342",
   "metadata": {},
   "outputs": [
    {
     "name": "stdout",
     "output_type": "stream",
     "text": [
      "MainThread\n",
      "IOPub\n",
      "Heartbeat\n",
      "Thread-3 (_watch_pipe_fd)\n",
      "Thread-4 (_watch_pipe_fd)\n",
      "Control\n",
      "IPythonHistorySavingThread\n",
      "Thread-2\n"
     ]
    }
   ],
   "source": [
    "for thread in threading.enumerate():\n",
    "    print(thread.name)"
   ]
  },
  {
   "cell_type": "markdown",
   "id": "f02ed9d9-c35c-4322-9a20-5dbc2534bf4e",
   "metadata": {},
   "source": [
    "***\n",
    "`threading.Thread(target = <Funktion>, args = <Iterable mit Argumenten>)`\n",
    "macht aus einer Funktion ein Thread-Objekt, welches dann mit `start()` gestartet werden kann:\n",
    "***"
   ]
  },
  {
   "cell_type": "code",
   "execution_count": 4,
   "id": "072627c2-3605-444f-a51a-842a20f4b557",
   "metadata": {},
   "outputs": [],
   "source": [
    "import time\n",
    "def f1(n):\n",
    "    for i in range(n):\n",
    "        print('A{}'.format(i))\n",
    "        time.sleep(0.1)\n",
    "        \n",
    "def f2(n):\n",
    "    for i in range(n):\n",
    "        print('B{}'.format(i))    \n",
    "        time.sleep(0.1)"
   ]
  },
  {
   "cell_type": "code",
   "execution_count": 5,
   "id": "c32b9c6f-d1e6-421c-b616-ce52ca787676",
   "metadata": {},
   "outputs": [],
   "source": [
    "thread1 = threading.Thread(target = f1, args = (10,))\n",
    "thread2 = threading.Thread(target = f2, args = (10,))"
   ]
  },
  {
   "cell_type": "code",
   "execution_count": 6,
   "id": "3a06862a-ab62-4e6f-b652-2f9b34de157a",
   "metadata": {},
   "outputs": [
    {
     "name": "stdout",
     "output_type": "stream",
     "text": [
      "A0\n",
      "B0\n",
      "A1\n",
      "B1\n",
      "A2\n",
      "B2\n",
      "A3\n"
     ]
    }
   ],
   "source": [
    "thread1.start()\n",
    "thread2.start()"
   ]
  },
  {
   "cell_type": "markdown",
   "id": "9407e4de-f646-40d0-9df0-a4a9cc2c92aa",
   "metadata": {},
   "source": [
    "***\n",
    "`t = threading.Timer(delay, function, args)` kreiert einen Thread `t`.  \n",
    "`t.start()` startet diesen Thread dann mit `delay` Sekunden Verz&ouml;gerung.\n",
    "\n",
    "***"
   ]
  },
  {
   "cell_type": "code",
   "execution_count": 8,
   "id": "659bfabc-4e7b-4fce-998a-9b6f1dec7462",
   "metadata": {},
   "outputs": [
    {
     "name": "stdout",
     "output_type": "stream",
     "text": [
      "Warte eine Sekunde ...\n",
      "Sorry fuer die Verspaetung\n"
     ]
    }
   ],
   "source": [
    "thread = threading.Timer(1, print, args = ['Sorry fuer die Verspaetung'])\n",
    "thread.start()   \n",
    "print('Warte eine Sekunde ...')"
   ]
  },
  {
   "cell_type": "markdown",
   "id": "a7536da6-5812-4374-891b-1ac1e0dbf975",
   "metadata": {},
   "source": [
    "***\n",
    "**threading.Event**:  \n",
    "Eine Klasse mit  Methoden\n",
    "\n",
    "- `is_set()` : `True` falls internes Flag gesetzt.\n",
    "- `set()`    : setzt internes Flag\n",
    "- `clear()`  : clears Flag\n",
    "***"
   ]
  },
  {
   "cell_type": "code",
   "execution_count": null,
   "id": "02ef010d-c809-4ff2-8ca3-50d747d70d34",
   "metadata": {},
   "outputs": [],
   "source": [
    "stop_event = threading.Event()\n",
    "stop_event.is_set()"
   ]
  },
  {
   "cell_type": "code",
   "execution_count": null,
   "id": "6ea0d3d7-413e-4e6a-8f21-d1c273c7e1e4",
   "metadata": {},
   "outputs": [],
   "source": [
    "stop_event.set()\n",
    "stop_event.is_set()"
   ]
  },
  {
   "cell_type": "code",
   "execution_count": null,
   "id": "a80deb5e-8db3-4450-974d-5a529613942c",
   "metadata": {},
   "outputs": [],
   "source": [
    "stop_event.clear()\n",
    "stop_event.is_set()"
   ]
  },
  {
   "cell_type": "markdown",
   "id": "e598fa46-3204-4a7c-a23f-e7ce36630b18",
   "metadata": {},
   "source": [
    "***\n",
    "Mit  `threading.Timer` kann z.B. ein sog. Event-Loop implementiert werden:\n",
    "Nachstehend definierte Funktion `event_loop(fps)` \n",
    "f&uuml;hrt fps mal pro Sekunde die Funktion `do_stuff` aus,\n",
    "solange das Event `stop` nicht gesetzt ist.\n",
    "***"
   ]
  },
  {
   "cell_type": "code",
   "execution_count": 27,
   "id": "b94d826d-2f14-4a61-89f2-512bfc4fd49c",
   "metadata": {},
   "outputs": [],
   "source": [
    "stop = threading.Event()\n",
    "lst = [0]\n",
    "\n",
    "def do_stuff():\n",
    "    new = lst[-1] + 1\n",
    "    print('Haenge {} an Lise lst an'.format(new))\n",
    "    lst.append(new)"
   ]
  },
  {
   "cell_type": "code",
   "execution_count": 28,
   "id": "f9047fd6-54e2-4596-bef1-8f7c1b2b9955",
   "metadata": {},
   "outputs": [],
   "source": [
    "def event_loop(fps):  \n",
    "    if not stop.is_set():\n",
    "        do_stuff()\n",
    "        t = threading.Timer(1/fps, loop, args=[fps])\n",
    "        t.start()"
   ]
  },
  {
   "cell_type": "code",
   "execution_count": 29,
   "id": "d7427699-1760-4565-8ec2-182f43cde55a",
   "metadata": {},
   "outputs": [
    {
     "name": "stdout",
     "output_type": "stream",
     "text": [
      "Haenge 1 an Lise lst an\n",
      "Haenge 2 an Lise lst an\n",
      "Haenge 3 an Lise lst an\n",
      "Haenge 4 an Lise lst an\n",
      "Haenge 5 an Lise lst an\n"
     ]
    }
   ],
   "source": [
    "loop(1)"
   ]
  },
  {
   "cell_type": "code",
   "execution_count": 30,
   "id": "ff9c5b7b-75c0-413c-bd58-4edddb673d99",
   "metadata": {},
   "outputs": [],
   "source": [
    "stop.set()"
   ]
  },
  {
   "cell_type": "code",
   "execution_count": 31,
   "id": "2cc36b06-c0e9-4099-923b-647b452200f5",
   "metadata": {},
   "outputs": [
    {
     "data": {
      "text/plain": [
       "[0, 1, 2, 3, 4, 5]"
      ]
     },
     "execution_count": 31,
     "metadata": {},
     "output_type": "execute_result"
    }
   ],
   "source": [
    "lst"
   ]
  },
  {
   "cell_type": "markdown",
   "id": "0b64b17d-209b-4a70-9ce1-c0044379c99d",
   "metadata": {},
   "source": [
    "***\n",
    "Eventloop erneut starten\n",
    "***"
   ]
  },
  {
   "cell_type": "code",
   "execution_count": 33,
   "id": "ca5bcbd1-180a-4504-97e3-10783ca7732a",
   "metadata": {},
   "outputs": [
    {
     "name": "stdout",
     "output_type": "stream",
     "text": [
      "Haenge 6 an Lise lst an\n",
      "Haenge 7 an Lise lst an\n",
      "Haenge 8 an Lise lst an\n",
      "Haenge 9 an Lise lst an\n",
      "Haenge 10 an Lise lst an\n",
      "Haenge 11 an Lise lst an\n"
     ]
    }
   ],
   "source": [
    "stop.clear()\n",
    "event_loop(1)"
   ]
  },
  {
   "cell_type": "code",
   "execution_count": 34,
   "id": "a538563a-811c-4fd9-8209-93c8a1d4654f",
   "metadata": {},
   "outputs": [],
   "source": [
    "stop.set()"
   ]
  },
  {
   "cell_type": "code",
   "execution_count": 35,
   "id": "533432ec-9836-4911-b81b-d6cfca6b70bc",
   "metadata": {},
   "outputs": [
    {
     "data": {
      "text/plain": [
       "[0, 1, 2, 3, 4, 5, 6, 7, 8, 9, 10, 11]"
      ]
     },
     "execution_count": 35,
     "metadata": {},
     "output_type": "execute_result"
    }
   ],
   "source": [
    "lst"
   ]
  },
  {
   "cell_type": "code",
   "execution_count": null,
   "id": "cbc96aba-82b5-4def-a15b-6a26b80a4459",
   "metadata": {},
   "outputs": [],
   "source": []
  }
 ],
 "metadata": {
  "author": "dieter.probst@gmail.com",
  "kernelspec": {
   "display_name": "Python 3 (ipykernel)",
   "language": "python",
   "name": "python3"
  },
  "language_info": {
   "codemirror_mode": {
    "name": "ipython",
    "version": 3
   },
   "file_extension": ".py",
   "mimetype": "text/x-python",
   "name": "python",
   "nbconvert_exporter": "python",
   "pygments_lexer": "ipython3",
   "version": "3.12.0"
  }
 },
 "nbformat": 4,
 "nbformat_minor": 5
}
