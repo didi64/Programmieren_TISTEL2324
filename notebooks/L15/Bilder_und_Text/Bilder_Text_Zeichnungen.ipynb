{
 "cells": [
  {
   "cell_type": "markdown",
   "id": "079f021e-fbdf-415a-b1d3-fe211c6a9a4b",
   "metadata": {},
   "source": [
    "### Bilder, Text und Zeichnungen auf der Leinwand platzieren  \n",
    "Nachstehend sei `canvas` ein Canvas-Objekt.  \n",
    "**Text** (siehe auch das Notebook Textalignment_Linecaps_Linejoins.ipynb von Lektion 12)  \n",
    "- Font und Fontsiz z.B. mit `canvas.font = '20px serif'` w&auml;hlen\n",
    "- mit `canvas.fill_text(text, x, y)` wird Text an der Position `(x,y)` platziert.  \n",
    "  `canvas.text_align = 'center'` und `canvas.text_baseline = 'middle'`: `(x,y)` ist Mittelpunkt des Texts.  \n",
    "  `canvas.text_align = 'start'` und `canvas.text_baseline = 'alphabetic'`: `(x,y)` ist die linke untere Ecke des \n",
    "  \n",
    "**Zeichnungen**  \n",
    "Schreibe z.B. ein Funktion wie `draw_BE_flag(canvas, pos, size)` (siehe `flaggen.py`), welche in ein Quadrat der Gr&ouml;sse `size` mit\n",
    "oberer rechter Ecke an `pos = (x,y)` zeichnet.\n",
    "\n",
    "**Bilder**:  \n",
    "Nach `from ipywidgets import Image` kann mit  \n",
    "`img = Image.from_file(<filename>)` ein Bild geladen werden. \n",
    "Dieses Bild kann dann mit `canvas.draw_image(img, x, y, width, height)` auf die Leinwand gezeichnet werden. `(x,y)` ist die rechte obere Ecke.\n"
   ]
  },
  {
   "cell_type": "code",
   "execution_count": 1,
   "id": "46d1b949-f6e3-416a-b754-e31ade790e96",
   "metadata": {},
   "outputs": [
    {
     "data": {
      "application/vnd.jupyter.widget-view+json": {
       "model_id": "c185f12724ef468e9e751653969683e2",
       "version_major": 2,
       "version_minor": 0
      },
      "text/plain": [
       "MultiCanvas(height=200, layout=Layout(border_bottom='1px solid black', border_left='1px solid black', border_r…"
      ]
     },
     "execution_count": 1,
     "metadata": {},
     "output_type": "execute_result"
    }
   ],
   "source": [
    "from ipycanvas import MultiCanvas\n",
    "mcanvas = MultiCanvas(2, width = 200, height = 200, \n",
    "                layout = {'border' : '1px solid black'},\n",
    "               )\n",
    "bg, fg = mcanvas\n",
    "\n",
    "bg.stroke_lines([(100, 0),(100,200)])\n",
    "bg.stroke_lines([(0, 100),(200, 100)])\n",
    "mcanvas"
   ]
  },
  {
   "cell_type": "code",
   "execution_count": 2,
   "id": "e9fffac5-9375-486d-9dfa-53fe0cbc2bc1",
   "metadata": {},
   "outputs": [
    {
     "data": {
      "text/plain": [
       "('start', 'alphabetic')"
      ]
     },
     "execution_count": 2,
     "metadata": {},
     "output_type": "execute_result"
    }
   ],
   "source": [
    "# Defaults ausgeben\n",
    "fg.text_align, fg.text_baseline"
   ]
  },
  {
   "cell_type": "markdown",
   "id": "613b70bc-7720-46e9-a9fd-f0520ff51269",
   "metadata": {},
   "source": [
    "### Text"
   ]
  },
  {
   "cell_type": "code",
   "execution_count": null,
   "id": "079e1fd6-6408-4a7e-abb8-a7a212beef99",
   "metadata": {},
   "outputs": [],
   "source": [
    "# Zentrierter Text\n",
    "fg.font='30px serif'\n",
    "fg.text_align = 'center'\n",
    "fg.text_baseline = 'middle'\n",
    "\n",
    "fg.fill_style = 'blue'\n",
    "fg.fill_text('BRD', 150, 50)\n",
    "fg.fill_text('BE', 50, 150)\n",
    "\n",
    "fg.fill_style = 'black'\n",
    "fg.fill_circle(150, 50, 2)\n",
    "fg.fill_circle(50, 150, 2)"
   ]
  },
  {
   "cell_type": "code",
   "execution_count": null,
   "id": "6f38c1bf-1661-45c6-8cd9-6dfe8f2067e6",
   "metadata": {},
   "outputs": [],
   "source": [
    "# linke untere Ecke des Texts angeben\n",
    "fg.text_align = 'start'\n",
    "fg.text_baseline = 'alphabetic'\n",
    "\n",
    "fg.font='20px serif'\n",
    "fg.fill_text('Belgien', 10, 190)\n",
    "fg.fill_circle(10, 190, 2)\n",
    "\n",
    "fg.font='12px serif'\n",
    "fg.fill_text('Deutschland', 110, 90)\n",
    "fg.fill_circle(110, 90, 2)"
   ]
  },
  {
   "cell_type": "markdown",
   "id": "e92d83a7-e161-4e33-ab6d-1555f46767fc",
   "metadata": {},
   "source": [
    "### Zeichnungen"
   ]
  },
  {
   "cell_type": "code",
   "execution_count": null,
   "id": "be8b3ba5-7ba3-481b-908d-0255c4b275c4",
   "metadata": {},
   "outputs": [],
   "source": [
    "mcanvas"
   ]
  },
  {
   "cell_type": "code",
   "execution_count": null,
   "id": "c9c65656-e94a-4467-9ff5-d09e62422488",
   "metadata": {},
   "outputs": [],
   "source": [
    "from flaggen import draw_BE_flag, draw_BRD_flag\n",
    "draw_BRD_flag(fg, (0, 0), 100)\n",
    "draw_BE_flag(fg, (100, 100), 100)"
   ]
  },
  {
   "cell_type": "markdown",
   "id": "2c144e87-3afd-4d33-b489-83142dd852dd",
   "metadata": {},
   "source": [
    "### Bilder"
   ]
  },
  {
   "cell_type": "code",
   "execution_count": null,
   "id": "32f62e26-c181-435d-a09f-1b47ba4047af",
   "metadata": {},
   "outputs": [],
   "source": [
    "mcanvas.clear()\n",
    "mcanvas"
   ]
  },
  {
   "cell_type": "code",
   "execution_count": null,
   "id": "001203a6-cf20-4639-8c7e-065c86d5f837",
   "metadata": {},
   "outputs": [],
   "source": [
    "# Bilder einlesen\n",
    "from ipywidgets import Image\n",
    "img1 = Image.from_file('image.png')\n",
    "img2 = Image.from_file('red_circle.png')"
   ]
  },
  {
   "cell_type": "code",
   "execution_count": null,
   "id": "abb7cbbe-9a73-470c-bf8e-d1d94e43d66c",
   "metadata": {},
   "outputs": [],
   "source": [
    "# Bilder auf Leinwand zeichnen\n",
    "bg.fill_rect(0, 0, 200)\n",
    "fg.draw_image(img1, 0, 0, width = 100)\n",
    "fg.draw_image(img2, 100, 100, width = 100)"
   ]
  },
  {
   "cell_type": "code",
   "execution_count": null,
   "id": "52f219e5-8b4f-43d0-b841-22863966dbc9",
   "metadata": {},
   "outputs": [],
   "source": []
  }
 ],
 "metadata": {
  "kernelspec": {
   "display_name": "Python 3 (ipykernel)",
   "language": "python",
   "name": "python3"
  },
  "language_info": {
   "codemirror_mode": {
    "name": "ipython",
    "version": 3
   },
   "file_extension": ".py",
   "mimetype": "text/x-python",
   "name": "python",
   "nbconvert_exporter": "python",
   "pygments_lexer": "ipython3",
   "version": "3.12.0"
  }
 },
 "nbformat": 4,
 "nbformat_minor": 5
}
