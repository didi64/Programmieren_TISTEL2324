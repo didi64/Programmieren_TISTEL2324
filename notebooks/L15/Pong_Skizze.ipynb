{
 "cells": [
  {
   "cell_type": "markdown",
   "id": "5921f97b-5565-424a-a105-ce2ae2c53bef",
   "metadata": {},
   "source": [
    "### Pong, Skizze"
   ]
  },
  {
   "cell_type": "code",
   "execution_count": 1,
   "id": "0e443f48-848c-432b-bf81-d19d1b3b87cc",
   "metadata": {},
   "outputs": [],
   "source": [
    "import threading, math\n",
    "from ipycanvas import MultiCanvas, hold_canvas"
   ]
  },
  {
   "cell_type": "code",
   "execution_count": 2,
   "id": "50bc6a15-4314-443f-8be6-a52f476977f0",
   "metadata": {},
   "outputs": [
    {
     "data": {
      "text/plain": [
       "[(170.0, 100.0),\n",
       " (169.9654592256012, 97.17303168296846),\n",
       " (169.86187098997902, 94.3488532423618)]"
      ]
     },
     "execution_count": 2,
     "metadata": {},
     "output_type": "execute_result"
    }
   ],
   "source": [
    "N = 200\n",
    "alphas = [2*i*math.pi/N for i in range(N)]\n",
    "pts = [(70*math.cos(alpha)+100, -90*math.sin(alpha)+100) for alpha in alphas]\n",
    "pts[:3]"
   ]
  },
  {
   "cell_type": "code",
   "execution_count": 3,
   "id": "ec531778-2e2a-45bb-8d7f-fb734d37342e",
   "metadata": {},
   "outputs": [],
   "source": [
    "game = {'bar': [50, 100, 50, 10],\n",
    "        'bar_dir': 1, \n",
    "        'ball_pos': 0,\n",
    "        'ball_dir': 1\n",
    "        }"
   ]
  },
  {
   "cell_type": "code",
   "execution_count": 4,
   "id": "b3e1b8c8-b396-4f6f-859e-d074b020477a",
   "metadata": {},
   "outputs": [],
   "source": [
    "def move_bar(dx=3):\n",
    "    bar = game['bar']\n",
    "    x, y, width, height = bar\n",
    " \n",
    "    if x <= 0:\n",
    "        game['bar_dir'] = 1\n",
    "    if x + width >= bg.width:\n",
    "        game['bar_dir'] = -1\n",
    "        \n",
    "    with hold_canvas():    \n",
    "        if game['bar_dir'] == 1:\n",
    "            bg.fill_rect(x+width, y, dx, height)\n",
    "            bg.clear_rect(x, y, dx, height)\n",
    "        if game['bar_dir'] == -1:\n",
    "            bg.fill_rect(x-dx, y, dx, height)\n",
    "            bg.clear_rect(x+width-dx, y, dx, height)\n",
    "        \n",
    "    bar[0] += game['bar_dir'] * dx   \n",
    "    \n",
    "def move_ball(di=1, err=5):\n",
    "    \n",
    "    i = game['ball_pos']\n",
    "    ball_dir = game['ball_dir']\n",
    "    i_next = (i + di*ball_dir) % N\n",
    "    \n",
    "    x0, y0 = pts[i]\n",
    "    x1, y1 = pts[i_next]\n",
    "    \n",
    "    bar = game['bar']\n",
    "    bx, by, width, height = bar\n",
    "    \n",
    "    if (y0-err < by < y1+err) and (bx < x0 < bx + width):\n",
    "        i_next = (i -  di*ball_dir) % N\n",
    "        x1, y1 = pts[i_next]\n",
    "        game['ball_dir'] = -ball_dir\n",
    "        \n",
    "    game['ball_pos'] = i_next   \n",
    "    with hold_canvas():\n",
    "        fg.clear_rect(x0-4, y0-4, 8)\n",
    "        fg.fill_circle(x1, y1, 3)"
   ]
  },
  {
   "cell_type": "code",
   "execution_count": 5,
   "id": "71857e58-1e01-43f7-bdb7-4dd6e3c62860",
   "metadata": {},
   "outputs": [],
   "source": [
    "def loop(fps=50):  \n",
    "    if not stop.is_set():\n",
    "        move_bar()\n",
    "        move_ball()\n",
    "        threading.Timer(1/fps, loop, args=[fps]).start()"
   ]
  },
  {
   "cell_type": "code",
   "execution_count": 6,
   "id": "8eeea702-6eee-4421-b167-5f21bd7b7dc5",
   "metadata": {},
   "outputs": [],
   "source": [
    "def on_key_down(key, *flags):\n",
    "    if key == 'ArrowRight':\n",
    "        game['bar_dir'] = 1\n",
    "    elif key == 'ArrowLeft':\n",
    "        game['bar_dir'] = -1\n",
    "    elif key == ' ':\n",
    "        stop.set()"
   ]
  },
  {
   "cell_type": "code",
   "execution_count": 7,
   "id": "526f46f7-202d-46ae-8ea3-fca1b96117c2",
   "metadata": {},
   "outputs": [
    {
     "data": {
      "application/vnd.jupyter.widget-view+json": {
       "model_id": "54b46699abb7464bae55637730f3549e",
       "version_major": 2,
       "version_minor": 0
      },
      "text/plain": [
       "MultiCanvas(height=200, layout=Layout(border_bottom='1px solid black', border_left='1px solid black', border_r…"
      ]
     },
     "execution_count": 7,
     "metadata": {},
     "output_type": "execute_result"
    }
   ],
   "source": [
    "stop = threading.Event()\n",
    "mcanvas = MultiCanvas(2, width = 200, height = 200, \n",
    "                layout = {'border' : '1px solid black'},\n",
    "               )\n",
    "bg, fg = mcanvas\n",
    "fg.fill_style = 'red'\n",
    "\n",
    "mcanvas.on_key_down(on_key_down)\n",
    "mcanvas"
   ]
  },
  {
   "cell_type": "code",
   "execution_count": 8,
   "id": "cefb31a2-8f5f-49d5-b05c-d6ccf3c81531",
   "metadata": {},
   "outputs": [],
   "source": [
    "bg.fill_rect(*game['bar'])\n",
    "pt = pts[game['ball_pos']]\n",
    "fg.fill_circle(*pt, 3)"
   ]
  },
  {
   "cell_type": "code",
   "execution_count": 9,
   "id": "fba3e459-2dd4-49fb-80d6-bac5e9db424d",
   "metadata": {},
   "outputs": [],
   "source": [
    "move_bar(30)"
   ]
  },
  {
   "cell_type": "code",
   "execution_count": 10,
   "id": "c5300cc4-713d-4eb8-bad5-9a5ef6668610",
   "metadata": {},
   "outputs": [],
   "source": [
    "move_ball(5)"
   ]
  },
  {
   "cell_type": "code",
   "execution_count": 11,
   "id": "0264e4a1-d297-4702-a7d4-ee53f08527bc",
   "metadata": {},
   "outputs": [],
   "source": [
    "stop.clear() \n",
    "loop(50)"
   ]
  },
  {
   "cell_type": "code",
   "execution_count": 130,
   "id": "a4ed7b58-8b37-45c3-95d6-e1c7ed307308",
   "metadata": {},
   "outputs": [],
   "source": [
    "stop.set()"
   ]
  }
 ],
 "metadata": {
  "kernelspec": {
   "display_name": "Python 3 (ipykernel)",
   "language": "python",
   "name": "python3"
  },
  "language_info": {
   "codemirror_mode": {
    "name": "ipython",
    "version": 3
   },
   "file_extension": ".py",
   "mimetype": "text/x-python",
   "name": "python",
   "nbconvert_exporter": "python",
   "pygments_lexer": "ipython3",
   "version": "3.12.0"
  }
 },
 "nbformat": 4,
 "nbformat_minor": 5
}
