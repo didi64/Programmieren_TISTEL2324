{
 "cells": [
  {
   "cell_type": "markdown",
   "id": "787655c9-d265-4032-9984-b263f9108cf0",
   "metadata": {},
   "source": [
    "### Aufgaben\n",
    "**Restarte den Kernel (und update `sys.path`) um einen Import zu wiederholen**\n",
    "1. Kopiere `table_tools` ins Verzeichnis  `/home/tistel/work/modules`.  \n",
    "   (Wer nicht im Container arbeitet, erstelle in seinem Ordner `Programmieren` einen Ordner `modules` und kopiere \n",
    "   `table_tools` dorthin.)\n",
    "1. Wirf einen Blick auf `sys.path`. Aus welchem Verzeichnis wird  `table_tools` importiert?  \n",
    "   (Importiere das Module und wirf nun einen Blick auf `table_tools.__file__`).\n",
    "1. F&uuml;ge `''` zuvorderst in die Liste `sys.path` ein, damit `table_tools` aus dem aktuellen Verzeichnis importiert wird.  \n",
    "  Entferne dann diesen Eintrag wieder, damit `table_tools` aus\n",
    "`/home/tistel/work/modules` importiert wird (ev. muss dieses Verzeichnis noch in `sys.path` aufgenommen werden).  \n",
    "\n",
    "1. F&uuml;ge eine Funktion `say_hello` ins File `table_tools` ein, welche z.B. `'hello'` ausgibt.  \n",
    "   Importiere das Modul erneut und teste die Funktion.\n",
    "\n",
    "1. Importiere das Module `table_tools` aus `/home/tistel/work/modules` (f&uuml;ge diesen Pfad an erster Stelle in `sys.path` ein).  \n",
    "   Erstellem mit der Funktion `random_table` eine Zufallstabelle und gib diese mit\n",
    "   `show_table` aus.\n",
    "\n",
    "1. Importiere die Tabelle `table` aus dem File `email_table.py` und gib sie\n",
    "formatiert aus. F&uuml;ge eine passende Kopfzeile hinzu.  "
   ]
  },
  {
   "cell_type": "code",
   "execution_count": null,
   "id": "24c75950-0d3f-4745-a97a-d282251696c1",
   "metadata": {},
   "outputs": [],
   "source": [
    "# sys.path anschauen\n",
    "# import sys # wird im Container von Jupyterlab automatisch importiert\n",
    "sys.path"
   ]
  },
  {
   "cell_type": "code",
   "execution_count": null,
   "id": "8afd4cd9-83ee-461e-8af1-93cc7f00f809",
   "metadata": {},
   "outputs": [],
   "source": [
    "import table_tools\n",
    "table_tools.__file__"
   ]
  },
  {
   "cell_type": "code",
   "execution_count": null,
   "id": "af889934-60b9-4cbb-99c1-a7153d80808a",
   "metadata": {},
   "outputs": [],
   "source": [
    "sys.path.insert(0, '')"
   ]
  },
  {
   "cell_type": "code",
   "execution_count": null,
   "id": "ebf422ea-bd3a-4e82-a7ba-6819daac1253",
   "metadata": {},
   "outputs": [],
   "source": [
    "# fuege in table_tools.py ein, restarte den Kernel und importiere table_tools erneut\n",
    "def say_hello():\n",
    "    print('hello')"
   ]
  },
  {
   "cell_type": "code",
   "execution_count": null,
   "id": "08fbded6-5eb6-4040-866f-cc61a9b41643",
   "metadata": {},
   "outputs": [],
   "source": [
    "sys.path.insert(0,'/home/probst/Projects/JupyterNotebooks/Tistel_2324/modules')\n",
    "import table_tools\n",
    "table_tools.__file__"
   ]
  },
  {
   "cell_type": "code",
   "execution_count": null,
   "id": "c2877c86-7aab-46c3-b1c6-ced7431606f1",
   "metadata": {},
   "outputs": [],
   "source": [
    "import table_tools\n",
    "# importiere table aus file email_table.py\n",
    "from email_table import table\n",
    "header = ['Name', 'Vorname', 'Email']\n",
    "table_tools.show_table(header, table)"
   ]
  },
  {
   "cell_type": "code",
   "execution_count": null,
   "id": "89a2cef9-b26c-4595-8a7e-e9178060edd6",
   "metadata": {},
   "outputs": [],
   "source": []
  }
 ],
 "metadata": {
  "kernelspec": {
   "display_name": "Python 3 (ipykernel)",
   "language": "python",
   "name": "python3"
  },
  "language_info": {
   "codemirror_mode": {
    "name": "ipython",
    "version": 3
   },
   "file_extension": ".py",
   "mimetype": "text/x-python",
   "name": "python",
   "nbconvert_exporter": "python",
   "pygments_lexer": "ipython3",
   "version": "3.12.0"
  }
 },
 "nbformat": 4,
 "nbformat_minor": 5
}
