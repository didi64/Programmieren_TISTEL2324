{
 "cells": [
  {
   "cell_type": "markdown",
   "id": "9ffb4eb2-fe85-442c-adea-68f0d3fe67c2",
   "metadata": {},
   "source": [
    "### Modul table_tools testen"
   ]
  },
  {
   "cell_type": "code",
   "execution_count": null,
   "id": "381def04-b6f6-4787-93c5-312199bdb5a6",
   "metadata": {},
   "outputs": [],
   "source": [
    "# import sys\n",
    "sys.path"
   ]
  },
  {
   "cell_type": "code",
   "execution_count": null,
   "id": "8e40c0b1-e197-4883-9ec9-0dbad12c5bd7",
   "metadata": {},
   "outputs": [],
   "source": [
    "# falls nicht in sys.path\n",
    "module_path = '/home/tistel/work/modules'\n",
    "sys.path.insert(0, module_path)"
   ]
  },
  {
   "cell_type": "code",
   "execution_count": null,
   "id": "f06dfcc9-c278-4306-a18f-67da88980a26",
   "metadata": {},
   "outputs": [],
   "source": [
    "import table_tools as ttools"
   ]
  },
  {
   "cell_type": "code",
   "execution_count": null,
   "id": "61a74f59-e033-41cd-88a5-6efeabf02214",
   "metadata": {},
   "outputs": [],
   "source": [
    "tbl = ttools.random_table()\n",
    "tbl"
   ]
  },
  {
   "cell_type": "code",
   "execution_count": null,
   "id": "5564aad6-37d6-44a7-821a-0a43702c05c5",
   "metadata": {},
   "outputs": [],
   "source": [
    "header = ('Vorname', 'Name', 'Email')\n",
    "table = [['Hans', 'Muster', 'hans.muster@email.ch'],\n",
    "         ['Johannes', 'Mustermann', 'johannes.mustermann@email.ch'],\n",
    "        ] \n",
    "ttools.show_table(header, table)"
   ]
  }
 ],
 "metadata": {
  "kernelspec": {
   "display_name": "Python 3 (ipykernel)",
   "language": "python",
   "name": "python3"
  },
  "language_info": {
   "codemirror_mode": {
    "name": "ipython",
    "version": 3
   },
   "file_extension": ".py",
   "mimetype": "text/x-python",
   "name": "python",
   "nbconvert_exporter": "python",
   "pygments_lexer": "ipython3",
   "version": "3.12.0"
  }
 },
 "nbformat": 4,
 "nbformat_minor": 5
}
