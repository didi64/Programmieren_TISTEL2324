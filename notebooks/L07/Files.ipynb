{
 "cells": [
  {
   "cell_type": "markdown",
   "id": "40dd8772-0589-4bfd-b6e4-e1fe690c7170",
   "metadata": {},
   "source": [
    "### Arbeiten mit Textfiles\n",
    "\n",
    "Ein Textfile enth&auml;lt Zeilen (Strings).  \n",
    "Der Newline-Charater  `\\n` markiert dabei das Zeilenende:\n",
    "\n",
    "- Werden Zeilen in ein Textfile geschreiben, sollte jede Zeile mit `\\n` enden.\n",
    "- Wird eine Zeile gelesen, so ist das letzte Zeichen ein `\\n` (ausser ev. bei der letzten Zeile)\n",
    "\n",
    "\n",
    "\n",
    "\n",
    "Python stellt folgendes Konstrukt zur Bearbeitung von Files zur Verf&uuml;gung:\n",
    "\n",
    "```python\n",
    "with open(<filename>, mode = <mode>) as f:\n",
    "    <statements>\n",
    "```\n",
    "**Erl&auml;uterungen**:  `with  open(<filename>, mode = <mode>) as f:`  \n",
    "&ouml;ffnet/erstellt ein File und kreiert ein Fileobjekt, `f`.  \n",
    "**Nach Abarbeitung** der `<statements>` wird das **File wieder geschlossen**.\n",
    "    \n",
    "- `<mode>`: **'w'**, **'r'** oder **'a'** (write, read, append)  \n",
    "i.e. ((&uuml;ber)schreiben, lesen, anh&auml;ngen)\n",
    "  \n",
    "Das Fileobjekt `f` hat u.a. folgende Methoden:\n",
    "  - `f.read() -> str`  \n",
    "     gibt Inhalt des Files als String zur&uuml;ck\n",
    "  - `f.readlines() -> list[str]`  \n",
    "    liest File zeilenweise\n",
    "  - `f.write(text: str)`  \n",
    "     schreibt text in File\n",
    "  - `f.writelines(lines: list[str])`  \n",
    "    gleicher Effekt wie  \n",
    "    ```python\n",
    "    for line in lines:\n",
    "        f.write(line)\n",
    "    ```\n",
    " \n",
    "Wurde ein File zum Lesen ge&ouml;ffnet, so kann man mit\n",
    "\n",
    "```python\n",
    "for line in f:\n",
    "    <statements>\n",
    "```\n",
    "\n",
    "&uuml;ber die Zeilen (Strings) des Fileobjekts `f` iterieren.\n",
    "\n",
    "**Bemerkung**:  \n",
    "- Wird eine Zeile mit readline gelesen, so ist das letzte Zeichen ein `\\n` (ausser ev. bei der letzten Zeile).\n",
    "\n",
    "- Werden Zeilen in ein Textfile geschreiben, sollte jede Zeile mit `\\n` enden."
   ]
  },
  {
   "cell_type": "markdown",
   "id": "15471e51-f178-47e0-a9da-fa9c2b81bebf",
   "metadata": {},
   "source": [
    "***\n",
    "**Bereitstellung von Text und Zeilen zum Experimentieren mit Files**\n",
    "***"
   ]
  },
  {
   "cell_type": "code",
   "execution_count": 4,
   "id": "d9561669-eed2-4eb1-8b63-cc6640c98374",
   "metadata": {},
   "outputs": [],
   "source": [
    "text = '''\\\n",
    "Text für ein Textfile\n",
    "---------------------\n",
    "1. Zeile\n",
    "2. Zeile\n",
    "'''\n",
    "\n",
    "zeilen = ['3. Zeile', '4. Zeile']"
   ]
  },
  {
   "cell_type": "code",
   "execution_count": 5,
   "id": "4c855d1f-9ac8-4e89-88ee-e686a17fcf53",
   "metadata": {},
   "outputs": [
    {
     "data": {
      "text/plain": [
       "'Text für ein Textfile\\n---------------------\\n1. Zeile\\n2. Zeile\\n'"
      ]
     },
     "execution_count": 5,
     "metadata": {},
     "output_type": "execute_result"
    }
   ],
   "source": [
    "text"
   ]
  },
  {
   "cell_type": "code",
   "execution_count": 6,
   "id": "01f99824-2d91-4203-b0fb-3e078482613c",
   "metadata": {},
   "outputs": [
    {
     "data": {
      "text/plain": [
       "['3. Zeile', '4. Zeile']"
      ]
     },
     "execution_count": 6,
     "metadata": {},
     "output_type": "execute_result"
    }
   ],
   "source": [
    "zeilen"
   ]
  },
  {
   "cell_type": "code",
   "execution_count": 10,
   "id": "71d58f14-8acd-426c-896c-2f98be03a821",
   "metadata": {},
   "outputs": [
    {
     "name": "stdout",
     "output_type": "stream",
     "text": [
      "3. Zeile4. Zeile\n"
     ]
    }
   ],
   "source": [
    "print(''.join(zeilen))"
   ]
  },
  {
   "cell_type": "code",
   "execution_count": 8,
   "id": "5764cc21-ec43-4055-8805-dd5d1fba9931",
   "metadata": {},
   "outputs": [
    {
     "data": {
      "text/plain": [
       "['3. Zeile\\n', '4. Zeile\\n']"
      ]
     },
     "execution_count": 8,
     "metadata": {},
     "output_type": "execute_result"
    }
   ],
   "source": [
    "# Zeilen mit `\\n` (Zeilenumbruch) versehen\n",
    "zeilen_mit_umbruch = [line + '\\n' for line in zeilen]\n",
    "zeilen_mit_umbruch"
   ]
  },
  {
   "cell_type": "code",
   "execution_count": 11,
   "id": "c22210f5-4b6a-4d5c-842d-77006c1a892b",
   "metadata": {},
   "outputs": [
    {
     "name": "stdout",
     "output_type": "stream",
     "text": [
      "3. Zeile\n",
      "4. Zeile\n",
      "\n"
     ]
    }
   ],
   "source": [
    "print(''.join(zeilen_mit_umbruch))"
   ]
  },
  {
   "cell_type": "markdown",
   "id": "beb248b4-473d-4421-bac3-27997d566816",
   "metadata": {
    "jupyter": {
     "outputs_hidden": true
    },
    "tags": []
   },
   "source": [
    "***\n",
    "**Lesen/Schreiben**: alles auf einmal \n",
    "***"
   ]
  },
  {
   "cell_type": "code",
   "execution_count": null,
   "id": "76923dd6-fec5-41ef-a2df-5ad8b57a5539",
   "metadata": {},
   "outputs": [],
   "source": [
    "#File erstellen/ueberschreiben\n",
    "with  open('test.txt', mode = 'w') as f:\n",
    "    f.write(text)  "
   ]
  },
  {
   "cell_type": "code",
   "execution_count": null,
   "id": "af4e3c87-331c-40ad-9c9f-6ec3e94d5990",
   "metadata": {},
   "outputs": [],
   "source": [
    "# an File anhaengen\n",
    "with  open('test.txt', mode = 'a') as f:\n",
    "    f.write()  "
   ]
  },
  {
   "cell_type": "code",
   "execution_count": null,
   "id": "1772e578-0526-4b53-8dfc-f7ad9e6dc1c3",
   "metadata": {},
   "outputs": [],
   "source": [
    "# File lesen\n",
    "with  open('test.txt', mode = 'r') as f:\n",
    "    text = f.read(zeilen_mit_umbruch)\n",
    "print(text)   "
   ]
  },
  {
   "cell_type": "markdown",
   "id": "eadb64aa-9033-4708-9f48-678fe0e63567",
   "metadata": {},
   "source": [
    "***\n",
    "**Zeilenweise Lesen/Schreiben**: \n",
    "***"
   ]
  },
  {
   "cell_type": "code",
   "execution_count": null,
   "id": "ea62b600-cb51-43fa-8251-da31a3f902b0",
   "metadata": {},
   "outputs": [],
   "source": [
    "# file test.txt wird ueberschrieben\n",
    "with  open('test.txt', mode = 'w') as f:\n",
    "    f.writelines()"
   ]
  },
  {
   "cell_type": "code",
   "execution_count": null,
   "id": "e41d8715-522a-4c91-900d-116094390901",
   "metadata": {},
   "outputs": [],
   "source": [
    "with  open('test.txt', mode = 'r') as f:\n",
    "    lines = f.readlines(zeilen)\n",
    "lines    "
   ]
  },
  {
   "cell_type": "markdown",
   "id": "a4145cb7-c3d3-4941-98c7-613c02eb47fa",
   "metadata": {},
   "source": [
    "***\n",
    "**&uuml;ber Zeilen des Files iterieren**: \n",
    "***"
   ]
  },
  {
   "cell_type": "code",
   "execution_count": null,
   "id": "3d89b385-c5af-4bae-a8ef-5f80da0f04d0",
   "metadata": {},
   "outputs": [],
   "source": [
    "with  open('test.txt', mode = 'r') as f:\n",
    "    lines = []\n",
    "    for line in f:\n",
    "        lines.append(line)\n",
    "lines  "
   ]
  },
  {
   "cell_type": "markdown",
   "id": "5fd5b9a2-71d3-4129-8977-b82dee9469b8",
   "metadata": {},
   "source": [
    "***\n",
    "**File in Zelle &ouml;ffnen**\n",
    "***"
   ]
  },
  {
   "cell_type": "code",
   "execution_count": null,
   "id": "5539e5a2-06ed-4431-b9e8-32c21ec6d48a",
   "metadata": {},
   "outputs": [],
   "source": [
    "%load test.txt"
   ]
  },
  {
   "cell_type": "markdown",
   "id": "17755cde-e3af-44f5-a0a4-55b80038f294",
   "metadata": {},
   "source": [
    "### Aufgabe\n",
    "Das File `superleague21_22.txt` enth&auml;lt die Abschlusstabelle der Fussball Super League 2021/2022.  \n",
    "Schreibe Code, welcher dieses File einliest und die Tabelle mit Hilfe unserer Funktion \n",
    "`show_table` ausgibt.  \n",
    "Nach Ausf&uuml;hren von `import toolbox` kann diese Funktion mit `toolbox.show_table` angesprochen werden.  \n",
    "\n",
    "**Hinweise**:\n",
    "- lies die Zeilen des Files in eine Liste `lines`  ein\n",
    "- schreibe ein Hilfsfunktion `line2tuple`, welche\n",
    "die Methode `str.split` verwendet, um eine Zeile mit Komma-separierten W&ouml;rtern in \n",
    "eine Liste W&ouml;rtern zu splitten, und weiter\n",
    "  die Methode `str.strip` benutzt, um f&uuml;hrenden und nachfolgenden White-Space zu entfernen \n",
    "- Verwende ev. Index - und Slicenotation:  \n",
    "  `lines[1]` ist die Kopfzeile der Tabelle,   \n",
    "  `lines[2:]` die Liste mit allen folgenden Zeilen"
   ]
  },
  {
   "cell_type": "code",
   "execution_count": null,
   "id": "4a2d375f-991b-4927-8817-7cbd4dc09a3f",
   "metadata": {},
   "outputs": [],
   "source": [
    "# help(str.split)\n",
    "# help(str.strip)"
   ]
  },
  {
   "cell_type": "code",
   "execution_count": null,
   "id": "c88435c6-263a-4b20-b849-7cee1e35085b",
   "metadata": {},
   "outputs": [],
   "source": [
    "# linker und rechter white-space entfernen\n",
    "'  test  \\n '.strip()"
   ]
  },
  {
   "cell_type": "code",
   "execution_count": null,
   "id": "6725745f-43e1-4783-ac1c-62d0979fd0ef",
   "metadata": {},
   "outputs": [],
   "source": [
    "# String in Liste von Strings splitten, \n",
    "'a, b , c\\n'.split(',')"
   ]
  },
  {
   "cell_type": "code",
   "execution_count": null,
   "id": "6f6f1151-fd01-42d8-a49c-564760f628d4",
   "metadata": {},
   "outputs": [],
   "source": []
  }
 ],
 "metadata": {
  "author": "dieter.probst@gmail.com",
  "kernelspec": {
   "display_name": "Python 3 (ipykernel)",
   "language": "python",
   "name": "python3"
  },
  "language_info": {
   "codemirror_mode": {
    "name": "ipython",
    "version": 3
   },
   "file_extension": ".py",
   "mimetype": "text/x-python",
   "name": "python",
   "nbconvert_exporter": "python",
   "pygments_lexer": "ipython3",
   "version": "3.8.10"
  }
 },
 "nbformat": 4,
 "nbformat_minor": 5
}
