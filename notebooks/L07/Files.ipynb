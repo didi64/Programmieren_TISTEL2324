{
 "cells": [
  {
   "cell_type": "markdown",
   "id": "40dd8772-0589-4bfd-b6e4-e1fe690c7170",
   "metadata": {},
   "source": [
    "### Arbeiten mit Textfiles\n",
    "\n",
    "Ein Textfile enth&auml;lt Zeilen (Strings).  \n",
    "Der Newline-Charater  `\\n` markiert dabei das Zeilenende:\n",
    "\n",
    "- Werden Zeilen in ein Textfile geschreiben, sollte jede Zeile mit `\\n` enden.\n",
    "- Wird eine Zeile gelesen, so ist das letzte Zeichen ein `\\n` (ausser ev. bei der letzten Zeile)\n",
    "\n",
    "\n",
    "\n",
    "\n",
    "Python stellt folgendes Konstrukt zur Bearbeitung von Files zur Verf&uuml;gung:\n",
    "\n",
    "```python\n",
    "with open(<filename>, mode = <mode>) as f:\n",
    "    <statements>\n",
    "```\n",
    "**Erl&auml;uterungen**:  `with  open(<filename>, mode = <mode>) as f:`  \n",
    "&ouml;ffnet/erstellt ein File und kreiert ein Fileobjekt, welches in der Variable  `f` gespeichert wird.  \n",
    "**In jedem Fall**, nach Abarbeitung der `<statements>` \n",
    "oder falls  eines der `<statements>` einen Fehler verursacht,\n",
    "wird das **File wieder geschlossen**.  \n",
    "Damit wird der Zugriff auf diese File von z.B. anderen Programmen wieder freigegeben.\n",
    "    \n",
    "- `<mode>`: **'w'**, **'r'** oder **'a'** (write, read, append)  \n",
    "i.e. ((&uuml;ber)schreiben, lesen, anh&auml;ngen)\n",
    "  \n",
    "Das Fileobjekt `f` hat u.a. folgende Methoden:\n",
    "  - `f.read() -> str`  \n",
    "     gibt Inhalt des Files als String zur&uuml;ck\n",
    "  - `f.readlines() -> list[str]`  \n",
    "    liest File zeilenweise\n",
    "  - `f.write(text: str)`  \n",
    "     schreibt text in File\n",
    "  - `f.writelines(lines: list[str])`  \n",
    "    gleicher Effekt wie  \n",
    "    ```python\n",
    "    for line in lines:\n",
    "        f.write(line)\n",
    "    ```\n",
    " \n",
    "Wurde ein File mit \n",
    "> `with open('some_file.txt', mode = 'r') as f:` \n",
    "\n",
    "zum Lesen ge&ouml;ffnet, so kann man mit\n",
    "\n",
    "```python\n",
    "for line in f:\n",
    "    <statements>\n",
    "```\n",
    "\n",
    "&uuml;ber die Zeilen (Strings) des Fileobjekts `f` iterieren."
   ]
  },
  {
   "cell_type": "markdown",
   "id": "15471e51-f178-47e0-a9da-fa9c2b81bebf",
   "metadata": {},
   "source": [
    "***\n",
    "**Bereitstellung von Text und Zeilen zum Experimentieren mit Files**\n",
    "***"
   ]
  },
  {
   "cell_type": "code",
   "execution_count": null,
   "id": "d9561669-eed2-4eb1-8b63-cc6640c98374",
   "metadata": {},
   "outputs": [],
   "source": [
    "text = '''\\\n",
    "Text für ein Textfile\n",
    "---------------------\n",
    "1. Zeile\n",
    "2. Zeile\n",
    "'''\n",
    "\n",
    "zeilen = ['3. Zeile', '4. Zeile']"
   ]
  },
  {
   "cell_type": "code",
   "execution_count": null,
   "id": "4c855d1f-9ac8-4e89-88ee-e686a17fcf53",
   "metadata": {},
   "outputs": [],
   "source": [
    "# enthaelt Zeilenumbrueche \\n\n",
    "text"
   ]
  },
  {
   "cell_type": "code",
   "execution_count": null,
   "id": "2c78fff6-1552-4389-bba7-57d3a0b0a091",
   "metadata": {},
   "outputs": [],
   "source": [
    "display(text)"
   ]
  },
  {
   "cell_type": "code",
   "execution_count": null,
   "id": "01f99824-2d91-4203-b0fb-3e078482613c",
   "metadata": {},
   "outputs": [],
   "source": [
    "# enthaelt keine Zeilenumbrueche \\n\n",
    "zeilen"
   ]
  },
  {
   "cell_type": "code",
   "execution_count": null,
   "id": "71d58f14-8acd-426c-896c-2f98be03a821",
   "metadata": {},
   "outputs": [],
   "source": [
    "print(''.join(zeilen))"
   ]
  },
  {
   "cell_type": "code",
   "execution_count": null,
   "id": "5764cc21-ec43-4055-8805-dd5d1fba9931",
   "metadata": {},
   "outputs": [],
   "source": [
    "# Zeilen mit `\\n` (Zeilenumbruch) versehen\n",
    "zeilen_mit_umbruch = [line + '\\n' for line in zeilen]\n",
    "zeilen_mit_umbruch"
   ]
  },
  {
   "cell_type": "code",
   "execution_count": null,
   "id": "c22210f5-4b6a-4d5c-842d-77006c1a892b",
   "metadata": {},
   "outputs": [],
   "source": [
    "print(''.join(zeilen_mit_umbruch))"
   ]
  },
  {
   "cell_type": "markdown",
   "id": "beb248b4-473d-4421-bac3-27997d566816",
   "metadata": {
    "jupyter": {
     "outputs_hidden": true
    },
    "tags": []
   },
   "source": [
    "***\n",
    "**Lesen/Schreiben**: Alles auf einmal \n",
    "***"
   ]
  },
  {
   "cell_type": "code",
   "execution_count": null,
   "id": "76923dd6-fec5-41ef-a2df-5ad8b57a5539",
   "metadata": {},
   "outputs": [],
   "source": [
    "# File erstellen/ueberschreiben\n",
    "with open('test.txt', mode = 'w') as f:\n",
    "    f.write(text)  "
   ]
  },
  {
   "cell_type": "code",
   "execution_count": null,
   "id": "af4e3c87-331c-40ad-9c9f-6ec3e94d5990",
   "metadata": {},
   "outputs": [],
   "source": [
    "# an File anhaengen\n",
    "with open('test.txt', mode = 'a') as f:\n",
    "    f.write(''.join(zeilen_mit_umbruch))  "
   ]
  },
  {
   "cell_type": "code",
   "execution_count": null,
   "id": "1772e578-0526-4b53-8dfc-f7ad9e6dc1c3",
   "metadata": {},
   "outputs": [],
   "source": [
    "# File lesen\n",
    "with open('test.txt', mode = 'r') as f:\n",
    "    text = f.read()\n",
    "print(text)   "
   ]
  },
  {
   "cell_type": "markdown",
   "id": "eadb64aa-9033-4708-9f48-678fe0e63567",
   "metadata": {},
   "source": [
    "***\n",
    "**Zeilenweise Lesen/Schreiben**: \n",
    "***"
   ]
  },
  {
   "cell_type": "code",
   "execution_count": null,
   "id": "ea62b600-cb51-43fa-8251-da31a3f902b0",
   "metadata": {},
   "outputs": [],
   "source": [
    "# file test.txt wird ueberschrieben\n",
    "with  open('test.txt', mode = 'w') as f:\n",
    "    f.writelines(zeilen_mit_umbruch)"
   ]
  },
  {
   "cell_type": "code",
   "execution_count": null,
   "id": "e41d8715-522a-4c91-900d-116094390901",
   "metadata": {},
   "outputs": [],
   "source": [
    "with  open('test.txt', mode = 'r') as f:\n",
    "    lines = f.readlines()\n",
    "lines    "
   ]
  },
  {
   "cell_type": "markdown",
   "id": "a4145cb7-c3d3-4941-98c7-613c02eb47fa",
   "metadata": {},
   "source": [
    "***\n",
    "**&uuml;ber Zeilen des Files iterieren**: \n",
    "***"
   ]
  },
  {
   "cell_type": "code",
   "execution_count": null,
   "id": "3d89b385-c5af-4bae-a8ef-5f80da0f04d0",
   "metadata": {},
   "outputs": [],
   "source": [
    "with  open('test.txt', mode = 'r') as f:\n",
    "    lines = []\n",
    "    for line in f:\n",
    "        lines.append(line)\n",
    "lines  "
   ]
  },
  {
   "cell_type": "markdown",
   "id": "17755cde-e3af-44f5-a0a4-55b80038f294",
   "metadata": {},
   "source": [
    "### Aufgabe\n",
    "Das File `superleague21_22.txt` enth&auml;lt die Abschlusstabelle der Fussball Super League 2021/2022.  \n",
    "Schreibe Code, welcher dieses File einliest und die Tabelle mit Hilfe unserer Funktion \n",
    "`show_table` ausgibt.  \n",
    "\n",
    "\n",
    "**Die einzelnen Schritte**:\n",
    "- Lies die Zeilen des Files in eine Liste `lines`  ein.  \n",
    "  `lines[0]` ist ein Kommentar,   \n",
    "  `lines[1]` ist die Kopfzeile der Tabelle,   \n",
    "  `lines[2:]` ist die Liste mit allen folgenden Zeilen\n",
    "- Schreibe ein Hilfsfunktion `line2tuple`, welche die einzelnen Zeilen (Strings) beim Komma trennt und\n",
    "  umgebenden White-Space entfernt.  \n",
    "  Verwende  `str.split`  und `str.strip`.\n",
    "- Importiere `table_tools`.\n",
    "- Benutze die Hilfsfunktion `line2tuple`, um `header` und `table` zu definieren und\n",
    "  alles mit  \n",
    "  `table_tools.show_table(header, table)` ausgeben zu k&ouml;nnen."
   ]
  },
  {
   "cell_type": "code",
   "execution_count": null,
   "id": "4a2d375f-991b-4927-8817-7cbd4dc09a3f",
   "metadata": {},
   "outputs": [],
   "source": [
    "# help(str.split)\n",
    "# help(str.strip)"
   ]
  },
  {
   "cell_type": "code",
   "execution_count": null,
   "id": "c88435c6-263a-4b20-b849-7cee1e35085b",
   "metadata": {},
   "outputs": [],
   "source": [
    "# linker und rechter white-space entfernen\n",
    "'  test  \\n '.strip()"
   ]
  },
  {
   "cell_type": "code",
   "execution_count": null,
   "id": "6725745f-43e1-4783-ac1c-62d0979fd0ef",
   "metadata": {},
   "outputs": [],
   "source": [
    "# String in Liste von Strings splitten, \n",
    "'a, b , c\\n'.split(',')"
   ]
  },
  {
   "cell_type": "code",
   "execution_count": null,
   "id": "92a8a8d5-f7de-4f9f-b21a-2137f5ae8820",
   "metadata": {},
   "outputs": [],
   "source": []
  }
 ],
 "metadata": {
  "author": "dieter.probst@gmail.com",
  "kernelspec": {
   "display_name": "Python 3 (ipykernel)",
   "language": "python",
   "name": "python3"
  },
  "language_info": {
   "codemirror_mode": {
    "name": "ipython",
    "version": 3
   },
   "file_extension": ".py",
   "mimetype": "text/x-python",
   "name": "python",
   "nbconvert_exporter": "python",
   "pygments_lexer": "ipython3",
   "version": "3.12.0"
  }
 },
 "nbformat": 4,
 "nbformat_minor": 5
}
