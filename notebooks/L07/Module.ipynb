{
 "cells": [
  {
   "cell_type": "markdown",
   "id": "de1578f2-982e-4aaa-a5dc-121f298c9b88",
   "metadata": {},
   "source": [
    "###  Modul\n",
    "\n",
    "Ein Modul ist ein `.py` File mit Pythoncode.  \n",
    "Der Modulname ist der Filename ohne die `.py` Endung.  \n",
    "Nach dem Import eines Moduls sind die im Modul definierten Variablen, Funktionen und Klassen ansprechbar. \n",
    "\n",
    "Die **Python Standard Library** besteht aus einer Vielzahl von Modulen, wie z.B. das Modul `random`, welches\n",
    "Funktionen zum Arbeiten mit zuf&auml;lligen Werten enth&auml;lt.\n",
    "\n",
    "Typischerweise speichert man in einem Modul Programmcode, welchen man wiederverwenden will.\n",
    "In einem File `table_tools.py` k&ouml;nnte man z.B. Funktionen zum Generieren und Ausgeben von Tabellen\n",
    "speichern.\n",
    "\n",
    "Mit\n",
    "```python\n",
    "import <Modulname>\n",
    "```\n",
    "wird das Modul `<Modulname>` importiert. Dabei geschieht Folgendes:\n",
    "- Das File `<Modulname>.py` wird ausgef&uuml;hrt.  \n",
    "  Das File wird **nur beim seinem ersten Import** ausgef&uuml;hrt.  \n",
    "  Soll das File ein weiters Mal ausgef&uuml;hrt werden, z.B. weil es modifiziert wurde, muss zuerst der **Kernel neu gestartet werden**.\n",
    "- Alle im Modul definierten Funktionen  und Variablen  sind nun mittels\n",
    "`<Modulname>.` ansprechbar:  \n",
    "Z.B. die im Modul `random` definierte Funktion `randint` kann mit\n",
    "`random.randint(1,6)` aufgerufen werden.\n",
    "    \n",
    "Alternativ kann mit\n",
    "```python\n",
    "from <Modulname> import <Objektname>\n",
    "```\n",
    "ein Objekt direkt import werden. Obige Anweisung hat den gleichen Effekt wie\n",
    "\n",
    "```python\n",
    "import <Modulname>\n",
    "<Objektname> = <Modulname>.<Objektname>\n",
    "```\n",
    "Allerdings ist `<Modulname>` in diesem Fall nicht definiert."
   ]
  },
  {
   "cell_type": "markdown",
   "id": "62245ede-ed3e-4f5a-8507-c111d3590729",
   "metadata": {},
   "source": [
    "***\n",
    "Modul `random` importieren (dieses Modul ist Teil der Python Standard Library)  \n",
    "Funktion `randint` mit dot-Notation aufrufen\n",
    "***"
   ]
  },
  {
   "cell_type": "code",
   "execution_count": null,
   "id": "e840907e-bb47-430b-b9b7-6f6ec4f4c2ad",
   "metadata": {},
   "outputs": [],
   "source": [
    "import random\n",
    "# help(random)"
   ]
  },
  {
   "cell_type": "code",
   "execution_count": null,
   "id": "1402510b-f531-49b2-80d8-28459da0e72c",
   "metadata": {},
   "outputs": [],
   "source": [
    "randint = random.randint\n",
    "randint(1, 6)"
   ]
  },
  {
   "cell_type": "markdown",
   "id": "77ecb460-494d-4dc2-8dc7-4b82e0104df6",
   "metadata": {},
   "source": [
    "***\n",
    "Funktion `randint` aus dem Modul `random` direkt in den aktuellen Namesraum importieren.  \n",
    "Die Variable wird &uuml;berschrieben, falls bereits definiert.\n",
    "***"
   ]
  },
  {
   "cell_type": "code",
   "execution_count": null,
   "id": "fc6ce899-6074-41af-8a93-6c3c0d0aa81a",
   "metadata": {},
   "outputs": [],
   "source": [
    "def randint(lower, upper):\n",
    "    return lower"
   ]
  },
  {
   "cell_type": "code",
   "execution_count": null,
   "id": "ef79cb66-5086-43bd-a02a-e9f629fe63e8",
   "metadata": {},
   "outputs": [],
   "source": [
    "randint(1,6)"
   ]
  },
  {
   "cell_type": "code",
   "execution_count": null,
   "id": "df878566-eda0-4e21-a950-87a3e71f85bb",
   "metadata": {},
   "outputs": [],
   "source": [
    "# Restart Kernel um `import random` rueckgaenig zu machen!\n",
    "from random import randint"
   ]
  },
  {
   "cell_type": "code",
   "execution_count": null,
   "id": "3d8acf24-a817-4db7-b2a1-5254b909fd11",
   "metadata": {},
   "outputs": [],
   "source": [
    "# random.randint(1,6) # NameError 'random' ist nicht definiert!"
   ]
  },
  {
   "cell_type": "code",
   "execution_count": null,
   "id": "26c13925-d86d-42bf-9e6d-46ac5efb6e92",
   "metadata": {},
   "outputs": [],
   "source": [
    "randint(1,6)"
   ]
  },
  {
   "cell_type": "markdown",
   "id": "ab7fb90e-50b0-4ef7-8133-f851b6120463",
   "metadata": {},
   "source": [
    "### Wo wird nach Modulen gesucht?\n",
    "Die Variable `path` des Moduls `sys` ist eine Liste mit Verzeichnissen, in denen \n",
    "nach dem zu importierende Modul gesucht wird.\n",
    "Die Suche beginnt beim ersten Pfad.  \n",
    "Der leere String `''` steht f&uuml;r den das aktuelle Arbeitsverzeichnis, welches z.B. mit `!pdw` (print working directory) angezeigt werden kann.\n",
    "Sobald der Modul in einem Pfad gefunden wird, wird es importiert.  \n",
    "Andernfalls wird ein `ModuleNotFoundError` erzeugt."
   ]
  },
  {
   "cell_type": "markdown",
   "id": "2311a80a-032d-41e2-a25d-d90c0f871122",
   "metadata": {},
   "source": [
    "***\n",
    "Die Variable `path` im Modul `sys` ist eine Liste mit Ordnern, in denen nach dem zu importierenden Modul gesucht wird.  \n",
    "Das erste Modul, das gefunden wird, wird importiert.\n",
    "***"
   ]
  },
  {
   "cell_type": "code",
   "execution_count": null,
   "id": "ae6d7dad-637f-4358-a38c-b4bfb7a767c4",
   "metadata": {},
   "outputs": [],
   "source": [
    "import sys\n",
    "sys.path"
   ]
  },
  {
   "cell_type": "markdown",
   "id": "acc63dcc-d7d7-41bc-b770-963debbabd41",
   "metadata": {},
   "source": [
    "***\n",
    "Beim Import eines Moduls wird der Modulvariable `__file__` der volle Filename des Moduls zugewiesen.  \n",
    "Mit `%load $random.__file__` kann dieses File in eine Codezelle geladen werden.  \n",
    "Teste das in einem anderen Notebook.\n",
    "***"
   ]
  },
  {
   "cell_type": "code",
   "execution_count": null,
   "id": "926fc5a9-5b5e-4daf-9195-ed85e905ac36",
   "metadata": {},
   "outputs": [],
   "source": [
    "random.__file__"
   ]
  },
  {
   "cell_type": "code",
   "execution_count": null,
   "id": "9e3dce08-b497-4963-ab09-6916d6dd1eaf",
   "metadata": {},
   "outputs": [],
   "source": [
    "'/usr/lib/python3.12' in sys.path"
   ]
  },
  {
   "cell_type": "markdown",
   "id": "33ec13fb-25a0-4b3e-91ef-9091ba7293ea",
   "metadata": {},
   "source": [
    "***\n",
    "Funktion `randint` aus dem Modul `random` direkt in den aktuellen Namesraum importieren.  \n",
    "Die Variable wird &uuml;berschrieben, falls bereits definiert.\n",
    "***"
   ]
  },
  {
   "cell_type": "code",
   "execution_count": null,
   "id": "4fa70755-2de2-4fea-b799-b001594dcc3b",
   "metadata": {},
   "outputs": [],
   "source": [
    "def randint(lower, upper):\n",
    "    return lower"
   ]
  },
  {
   "cell_type": "code",
   "execution_count": null,
   "id": "08fb4534-ded5-444a-b138-bb63d00db3d3",
   "metadata": {},
   "outputs": [],
   "source": [
    "randint(1,6)"
   ]
  },
  {
   "cell_type": "code",
   "execution_count": null,
   "id": "7e5117a8-ff5c-4fae-8b0e-a8551481ca1e",
   "metadata": {},
   "outputs": [],
   "source": [
    "# Restart Kernel um `import random` rueckgaenig zu machen!\n",
    "from random import randint"
   ]
  },
  {
   "cell_type": "code",
   "execution_count": null,
   "id": "64502d29-8b25-49d7-bff5-fb07eaa4ffab",
   "metadata": {},
   "outputs": [],
   "source": [
    "# random.randint(1,6) # NameError 'random' ist nicht definiert!"
   ]
  },
  {
   "cell_type": "code",
   "execution_count": null,
   "id": "05796d45-91d4-4a61-b734-b27c401bddaa",
   "metadata": {},
   "outputs": [],
   "source": [
    "randint(1,6)"
   ]
  },
  {
   "cell_type": "markdown",
   "id": "70d996d4-e5b0-4c99-ba01-81a3026c5e9a",
   "metadata": {},
   "source": [
    "### Python Modul erstellen\n",
    "Nachstehend schreiben wir das File `mymodule.py`.  \n",
    "Damit ist `mymodule` ein Python-Module, welches mit\n",
    "`import mymodule` importiert werden kann.  "
   ]
  },
  {
   "cell_type": "code",
   "execution_count": null,
   "id": "93752afd-ec5d-46f8-9ee4-d571370ff7bc",
   "metadata": {},
   "outputs": [],
   "source": [
    "%%file mymodule.py\n",
    "\n",
    "x = 42\n",
    "def f():\n",
    "    print('Die in \"mymodul\" definierte Variable x hat den Wert \"{}\"'.format(x))\n",
    "    \n",
    "print('Das Modul \"mymodul\" wurde importiert!')"
   ]
  },
  {
   "cell_type": "code",
   "execution_count": null,
   "id": "2c34bfee-2aa1-49c8-90ae-0ab1a50a1bbb",
   "metadata": {},
   "outputs": [],
   "source": [
    "# Fuehrt mymodule.py nur beim ersten Aufruf auf.\n",
    "import mymodule"
   ]
  },
  {
   "cell_type": "code",
   "execution_count": null,
   "id": "3c3d18e9-183e-41eb-a951-ca99f47e01a2",
   "metadata": {},
   "outputs": [],
   "source": [
    "mymodule.x"
   ]
  },
  {
   "cell_type": "code",
   "execution_count": null,
   "id": "267d15bc-9399-4ee6-93b0-72a4801d3928",
   "metadata": {},
   "outputs": [],
   "source": [
    "mymodule.f()"
   ]
  },
  {
   "cell_type": "code",
   "execution_count": null,
   "id": "e5bd3e92-dff9-4bd9-8f1f-01587f8ae711",
   "metadata": {},
   "outputs": [],
   "source": [
    "# Pfad zum File mymodule\n",
    "mymodule.__file__"
   ]
  },
  {
   "cell_type": "code",
   "execution_count": null,
   "id": "ecb8701e-cd58-46ae-8568-186bed30cd2f",
   "metadata": {},
   "outputs": [],
   "source": [
    "# Modulename\n",
    "mymodule.__name__"
   ]
  },
  {
   "cell_type": "markdown",
   "id": "3be2371f-bbf3-441e-8c50-80d37e41f5ea",
   "metadata": {},
   "source": [
    "### Pfad zur Liste `sys.path` hinzuf&uuml;gen  \n",
    "Wir wollen Module mit n&uuml;tzlichen Funktionen, die wir geschrieben, haben im Ordner\n",
    "`/home/tistel/work/modules/` ablegen. \n",
    "\n",
    "Dazu muss `/home/tistel/work/modules/` zur Liste `sys.path` hinzugef&uuml;gt werden."
   ]
  },
  {
   "cell_type": "code",
   "execution_count": null,
   "id": "e01297d3-ce11-4ab8-b02e-4767d201ef78",
   "metadata": {},
   "outputs": [],
   "source": [
    "# Nur falls ihr im Dockercontainer arbeitet \n",
    "module_path = '/home/tistel/work/modules'\n",
    "if module_path not in sys.path:\n",
    "    sys.path.insert(0, module_path)\n",
    "    print('{} zu sys.path hinzugefuegt'.format(module_path))"
   ]
  },
  {
   "cell_type": "code",
   "execution_count": null,
   "id": "6f03ca1d-d23f-437e-879a-ebb0bfbbb55b",
   "metadata": {},
   "outputs": [],
   "source": [
    "# module_path aus sys.path entfernen\n",
    "if module_path in sys.path:\n",
    "    sys.path.remove(module_path)\n",
    "    print('{} aus sys.path entfernt'.format(module_path))"
   ]
  },
  {
   "cell_type": "markdown",
   "id": "ea7afba2-98fe-48bd-a454-61bc7c21cb42",
   "metadata": {},
   "source": [
    "### Aufgaben\n",
    "**Restarte den Kernel, um einen Import zu wiederholen**\n",
    "1. Kopiere `table_tools` ins Verzeichnis  `/home/tistel/work/modules`.  \n",
    "   (Wer nicht im Container arbeitet, erstelle in seinem Ordner `Programmieren` einen Ordner `modules` und kopiere \n",
    "   `table_tools` dorthin.)\n",
    "1. Wirf einen Blick auf `sys.path`. Aus welchem Verzeichnis wird  `table_tools` importiert?  \n",
    "   (Importiere das Module und wirf nun einen Blick auf `table_tools.__file__`).\n",
    "1. F&uuml;ge `''` zuvorderst in die Liste `sys.path` ein, damit `table_tools` aus dem aktuellen Verzeichnis importiert wird.  \n",
    "  Entferne dann diesen Eintrag wieder, damit `table_tools` aus\n",
    "`/home/tistel/work/modules` importiert wird (ev. muss dieses Verzeichnis noch in `sys.path` aufgenommen werden).  \n",
    "\n",
    "1. F&uuml;ge eine Funktion `say_hello` ins File `table_tools` ein, welche z.B. `'hello'` ausgibt.  \n",
    "   Importiere das Modul erneut und teste die Funktion.\n",
    "\n",
    "1. Importiere das Module `table_tools` aus `/home/tistel/work/modules`.  \n",
    "   Erstellem mit der Funktion `random_table` eine Zufallstabelle und gib diese mit\n",
    "   `show_table` aus.\n",
    "\n",
    "1. Importiere die Tabelle `table` aus dem File `email_table.py` und gib sie\n",
    "formatiert aus. F&uuml;ge eine passende Kopfzeile hinzu.  "
   ]
  }
 ],
 "metadata": {
  "author": "dieter.probst@gmail.com",
  "kernelspec": {
   "display_name": "Python 3 (ipykernel)",
   "language": "python",
   "name": "python3"
  },
  "language_info": {
   "codemirror_mode": {
    "name": "ipython",
    "version": 3
   },
   "file_extension": ".py",
   "mimetype": "text/x-python",
   "name": "python",
   "nbconvert_exporter": "python",
   "pygments_lexer": "ipython3",
   "version": "3.12.0"
  }
 },
 "nbformat": 4,
 "nbformat_minor": 5
}
