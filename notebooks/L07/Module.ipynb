{
 "cells": [
  {
   "cell_type": "markdown",
   "id": "de1578f2-982e-4aaa-a5dc-121f298c9b88",
   "metadata": {},
   "source": [
    "###  Module \n",
    "Ein Module ist ein `.py` File mit Pythoncode.  \n",
    "Der Modulename ist der Filename ohne die `.py` Endung.  \n",
    "Nach dem Import eines Modules sind die im Modul definierten Variablen, Funktionen und Klassen ansprechbar.\n",
    "\n",
    "Mit\n",
    "```python\n",
    "import <Modulename>\n",
    "```\n",
    "wird das Modul `<Modulename>` importiert. Dabei geschieht Folgendes:\n",
    "- Das File `<Modulename>.py` wird ausgef&uuml;hrt.  \n",
    "  Das File wird **nur beim seinem ersten Import** ausgef&uuml;hrt.  \n",
    "  Soll das File ein weiters Mal ausgef&uuml;hrt werden, z.B. weil es modifiziert wurde, muss zuerst der **Kernel neu gestartet werden**.\n",
    "- alle im Modul definierten Funktionen  und Variablen  sind nun mittels\n",
    "`<Modulename>.` ansprechbar:  \n",
    "Z.B. die im Modul `random` definierte Funktion `randint` kann mit\n",
    "`random.randint(1,6)` aufgerufen werden.\n",
    "    \n",
    "    \n",
    "- die Liste `sys.path` legt fest, wo &uuml;berall nach dem Modul gesucht wird.  \n",
    "\n",
    "Alternativ kann mit\n",
    "```python\n",
    "from <Modulname> import <Objektname>\n",
    "```\n",
    "ein Objekt direkt import werden. Obige Anweisung hat den gleichen Effekt wie\n",
    "\n",
    "```python\n",
    "import <Modulname>\n",
    "<Objektname> = <Modulname>.<Objektname>\n",
    "```\n",
    "Allerdings ist `<Modulname>` in diesem Fall nicht definiert."
   ]
  },
  {
   "cell_type": "code",
   "execution_count": null,
   "id": "9867bd68-c2bb-44a6-8972-ac6c488c9820",
   "metadata": {},
   "outputs": [],
   "source": [
    "import random\n",
    "randint = random.randint\n",
    "randint(1, 6)"
   ]
  },
  {
   "cell_type": "code",
   "execution_count": null,
   "id": "c4002ad6-813c-4a73-8b19-e8449338d262",
   "metadata": {},
   "outputs": [],
   "source": [
    "# Restart Kernel um `import random` rueckgaenig zu machen!\n",
    "from random import randint\n",
    "print(randint(1,6))\n",
    "random.randint(1,6) # NameError 'random' ist nicht definiert!"
   ]
  },
  {
   "cell_type": "markdown",
   "id": "70d996d4-e5b0-4c99-ba01-81a3026c5e9a",
   "metadata": {},
   "source": [
    "### Python Modul erstellen\n",
    "Nachstehend schreiben wir das File `mymodule.py`.  \n",
    "Damit ist `mymodule` ein Python-Module, welches mit\n",
    "`import mymodule` importiert werden kann.  \n",
    "Die Variable `mymodule.__file__` enth&auml;lt den Pfad zum File `mymodule.py`.  \n",
    "Mit `%load $mymodule.__file__` kann der Source dieses in eine Code-Zelle geladen werden."
   ]
  },
  {
   "cell_type": "code",
   "execution_count": null,
   "id": "93752afd-ec5d-46f8-9ee4-d571370ff7bc",
   "metadata": {},
   "outputs": [],
   "source": [
    "%%file mymodule.py\n",
    "\n",
    "x = 42\n",
    "def f():\n",
    "    print('Die in \"mymodul\" definierte Variable x hat den Wert \"{}\"'.format(x))\n",
    "    \n",
    "print('Das Modul \"mymodul\" wurde importiert!')"
   ]
  },
  {
   "cell_type": "code",
   "execution_count": null,
   "id": "2c34bfee-2aa1-49c8-90ae-0ab1a50a1bbb",
   "metadata": {},
   "outputs": [],
   "source": [
    "import mymodule"
   ]
  },
  {
   "cell_type": "code",
   "execution_count": null,
   "id": "3c3d18e9-183e-41eb-a951-ca99f47e01a2",
   "metadata": {},
   "outputs": [],
   "source": [
    "mymodule.x"
   ]
  },
  {
   "cell_type": "code",
   "execution_count": null,
   "id": "267d15bc-9399-4ee6-93b0-72a4801d3928",
   "metadata": {},
   "outputs": [],
   "source": [
    "mymodule.f()"
   ]
  },
  {
   "cell_type": "code",
   "execution_count": null,
   "id": "e5bd3e92-dff9-4bd9-8f1f-01587f8ae711",
   "metadata": {},
   "outputs": [],
   "source": [
    "# Pfad zum File mymodule\n",
    "mymodule.__file__"
   ]
  },
  {
   "cell_type": "markdown",
   "id": "5dd48706-2a49-4a34-af4a-374e74b8c196",
   "metadata": {},
   "source": [
    "### The Zen of Python\n",
    "Der langjährige Pythoneer Tim Peters fasst die Leitprinzipien für das Design von Python Aphorismen zusammen, welche\n",
    "beim Import des Modules `this` ausgegeben werden.  \n",
    "\n",
    "Ein Blick auf den Source-Code des Modules `this` zeigt,\n",
    "das die Aphorismen verschl&uuml;sselt in einer Variable `s` gespeichert sind. \n",
    "Es wird ein Dicionary `d` definiert, welcher jeden Buchstaben um 13 Positionen weiter schiebt\n",
    "(rot13)."
   ]
  },
  {
   "cell_type": "code",
   "execution_count": null,
   "id": "16bd7516-0e7d-4e26-80ed-815d577b403f",
   "metadata": {},
   "outputs": [],
   "source": [
    "import this"
   ]
  },
  {
   "cell_type": "code",
   "execution_count": null,
   "id": "0c67cdb0-fd8b-49c6-a790-84da93d9811f",
   "metadata": {},
   "outputs": [],
   "source": [
    "# this.s\n",
    "# this.d\n",
    "def rot13(text):\n",
    "    '''ersetze das Zeichen c von text  this.d.get(c, c)'''\n",
    "    cypher_text = ''.join([this.d.get(c, c) for c in text])\n",
    "    return cypher_text"
   ]
  },
  {
   "cell_type": "code",
   "execution_count": null,
   "id": "80ecc5a6-e3ac-46af-b639-47d440499cf6",
   "metadata": {},
   "outputs": [],
   "source": [
    "print(rot13(this.s))"
   ]
  },
  {
   "cell_type": "markdown",
   "id": "ad05bfb6-f49d-4be1-8ac2-4d9055104a70",
   "metadata": {},
   "source": [
    "***\n",
    "**Source** des Moduls `this` mit `%load $this.__file__` in Zelle laden:\n",
    "***"
   ]
  },
  {
   "cell_type": "code",
   "execution_count": null,
   "id": "2dbef557-8794-4c39-8ccb-35059f9062ba",
   "metadata": {},
   "outputs": [],
   "source": [
    "%load $this.__file__"
   ]
  },
  {
   "cell_type": "code",
   "execution_count": null,
   "id": "61c80898-e196-4271-b1b4-9c5ca46e202f",
   "metadata": {},
   "outputs": [],
   "source": [
    "text = 'Das Geld ist im Tresor.'\n",
    "cypher = rot13(text)\n",
    "cypher"
   ]
  },
  {
   "cell_type": "code",
   "execution_count": null,
   "id": "995d79a7-8ed6-4e81-820f-e0050079a267",
   "metadata": {},
   "outputs": [],
   "source": [
    "rot13(cypher)"
   ]
  },
  {
   "cell_type": "markdown",
   "id": "720ab0ae-dd50-4609-99b4-ceb903f3f985",
   "metadata": {},
   "source": [
    "### Wo wird nach Modulen gesucht?\n",
    "Die Variable `path` des Modules `sys` ist eine Liste mit Pfaden, in denen \n",
    "nach dem zu importierende Modul gesucht wird.\n",
    "Die Suche beginnt beim ersten Pfad.  \n",
    "Der leere String `` steht f&uuml;r den das aktuelle Arbeitsverzeichnis, welches z.B. mit `!pdw` angezeigt werden kann.\n",
    "Sobald das Modul in einem Pfad gefunden wird, wird es importiert.  \n",
    "Andernfalls wird ein `ModuleNotFoundError` erzeugt."
   ]
  },
  {
   "cell_type": "code",
   "execution_count": null,
   "id": "3c2cabf7-1826-42b9-8c1b-b623725870ec",
   "metadata": {},
   "outputs": [],
   "source": [
    "# aktuelles Verzeichnis ausgeben (print working directory)\n",
    "!pwd"
   ]
  },
  {
   "cell_type": "code",
   "execution_count": null,
   "id": "264b1b27-4307-4bf5-b15a-bb4075004c6d",
   "metadata": {},
   "outputs": [],
   "source": [
    "# sys.path ausgeben\n",
    "import sys\n",
    "sys.path"
   ]
  },
  {
   "cell_type": "code",
   "execution_count": null,
   "id": "7957ac8a-5241-4dc3-a0e7-345c22188326",
   "metadata": {},
   "outputs": [],
   "source": []
  },
  {
   "cell_type": "markdown",
   "id": "3be2371f-bbf3-441e-8c50-80d37e41f5ea",
   "metadata": {},
   "source": [
    "### Pfad zur Liste `sys.path` hinzuf&uuml;gen  \n",
    "Wir wollen in Zukunft Module mit n&uuml;tzlichen Funktionen, die wir geschrieben haben im Ordner\n",
    "`/home/tistel/work/modules/` ablegen. Falls dieser Pfad noch nicht\n",
    "in der Liste `sys.path` auftaucht (was eigentlich der Fall sein sollte), \n",
    "kann er wie folgt hinzugef&uuml;gt und wieder entfernt werden:"
   ]
  },
  {
   "cell_type": "code",
   "execution_count": null,
   "id": "e01297d3-ce11-4ab8-b02e-4767d201ef78",
   "metadata": {},
   "outputs": [],
   "source": [
    "# Nur falls ihr im Dockercontainer arbeitet\n",
    "module_path = '/home/tistel/work/modules'\n",
    "if module_path not in sys.path:\n",
    "    sys.path.insert(0, module_path)\n",
    "    print('{} zu sys.path hinzugefuegt'.format(module_path))"
   ]
  },
  {
   "cell_type": "code",
   "execution_count": null,
   "id": "6f03ca1d-d23f-437e-879a-ebb0bfbbb55b",
   "metadata": {},
   "outputs": [],
   "source": [
    "#module_path aus sys.path entfernen\n",
    "if module_path in sys.path:\n",
    "    sys.path.remove(module_path)\n",
    "    print('{} aus sys.path entfernt'.format(module_path))"
   ]
  },
  {
   "cell_type": "markdown",
   "id": "ea7afba2-98fe-48bd-a454-61bc7c21cb42",
   "metadata": {},
   "source": [
    "### Aufgaben\n",
    "1. Importiere das Module `table_tools` aus dem aktuellen Verzeichnis.  \n",
    "   Erstellem mit der Funktion `random_table` eine Zufallstabelle und gib diese mit\n",
    "   `show_table` aus.\n",
    "2. Verschiebe nun das Modul `table_tools` in den Ordner\n",
    "   `/home/tistel/work/modules` (im Container, der Ordner `modules` im Jupyterlab Filebrowser).  \n",
    "   Restarte den Kernel.\n",
    "   Importiere und teste nun das Modul erneut.  \n",
    "   Stelle sicher, dass `/home/tistel/work/modules` in `sys.path` ist.\n",
    "3. Importiere die Tabelle `table` aus em File `email_table.py` und gib sie\n",
    "formatiert aus. F&uuml;ge eine passende Kopfzeile hinzu."
   ]
  },
  {
   "cell_type": "code",
   "execution_count": null,
   "id": "f471c4c5-439e-4073-9b7d-7d7c6087ce91",
   "metadata": {},
   "outputs": [],
   "source": [
    "import table_tools\n",
    "help(table_tools)"
   ]
  },
  {
   "cell_type": "code",
   "execution_count": null,
   "id": "abe5ef77-3c89-400a-ad10-3d77dde2a5ae",
   "metadata": {},
   "outputs": [],
   "source": [
    "from email_table import table\n",
    "header = ['Name', 'Vorname', 'Email']\n",
    "table_tools.show_table(header, table)"
   ]
  },
  {
   "cell_type": "code",
   "execution_count": null,
   "id": "6263cedb-7957-4ae5-9637-7d1e9ce91d38",
   "metadata": {},
   "outputs": [],
   "source": []
  }
 ],
 "metadata": {
  "author": "dieter.probst@gmail.com",
  "kernelspec": {
   "display_name": "Python 3 (ipykernel)",
   "language": "python",
   "name": "python3"
  },
  "language_info": {
   "codemirror_mode": {
    "name": "ipython",
    "version": 3
   },
   "file_extension": ".py",
   "mimetype": "text/x-python",
   "name": "python",
   "nbconvert_exporter": "python",
   "pygments_lexer": "ipython3",
   "version": "3.8.10"
  }
 },
 "nbformat": 4,
 "nbformat_minor": 5
}
