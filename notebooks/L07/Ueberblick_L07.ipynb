{
 "cells": [
  {
   "cell_type": "markdown",
   "id": "357c5831-fe8e-4dba-ac9a-8a61173a09f5",
   "metadata": {},
   "source": [
    "### Lektion 7, &Uuml;berblick und weitere Ressourcen\n",
    "Wir werden nochmals ansehen, wie man einfache Funktionen schreibt.\n",
    "Dann sehen wir uns nochmals die Funktion `show_table` zur formatierten Ausgabe einer Tabelle an.\n",
    "Wir lernen, wie wir diese Funktion in einem Modul speichern und bei Bedarf importieren k&ouml;nnen.\n",
    "Weiter lernen wir, wie man Textfiles liest und schreibt.\n",
    "\n",
    "- Module [W3Schools](https://www.w3schools.com/python/python_modules.asp).\n"
   ]
  }
 ],
 "metadata": {
  "kernelspec": {
   "display_name": "Python 3 (ipykernel)",
   "language": "python",
   "name": "python3"
  },
  "language_info": {
   "codemirror_mode": {
    "name": "ipython",
    "version": 3
   },
   "file_extension": ".py",
   "mimetype": "text/x-python",
   "name": "python",
   "nbconvert_exporter": "python",
   "pygments_lexer": "ipython3",
   "version": "3.12.0"
  }
 },
 "nbformat": 4,
 "nbformat_minor": 5
}
