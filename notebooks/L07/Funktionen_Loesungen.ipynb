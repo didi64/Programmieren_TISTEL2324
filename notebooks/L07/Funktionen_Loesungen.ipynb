{
 "cells": [
  {
   "cell_type": "markdown",
   "id": "696fb93c-a5b8-499b-ba35-880f0c721f43",
   "metadata": {},
   "source": [
    "### L&ouml;sungen Aufgaben Funktionen"
   ]
  },
  {
   "cell_type": "code",
   "execution_count": null,
   "id": "5fd464ae-f1b6-4dab-97ec-9495b314ea4c",
   "metadata": {},
   "outputs": [],
   "source": [
    "# Finde den ersten Satz des Strings <text>.\n",
    "# Der String <text>  enthaelt mind. einen Punkt.\n",
    "\n",
    "def erster_satz(text):\n",
    "    '''gibt den ersten Satz von text zurueck'''\n",
    "    idx = text.index('.') \n",
    "    erster_satz = text[:idx]\n",
    "    return erster_satz"
   ]
  },
  {
   "cell_type": "code",
   "execution_count": null,
   "id": "f6e97633-6cad-4ef1-b089-7bfab54a2e1b",
   "metadata": {},
   "outputs": [],
   "source": [
    "# Teste die Funktion\n",
    "texts = ['foo. bar. bax.', 'abc.']\n",
    "for text in texts:\n",
    "    erster = erster_satz(text)\n",
    "    print(erster)"
   ]
  },
  {
   "cell_type": "markdown",
   "id": "c3b90db2-f283-4dd0-a8a8-d3e17d2188d2",
   "metadata": {},
   "source": [
    "***"
   ]
  },
  {
   "cell_type": "code",
   "execution_count": null,
   "id": "7ac6a337-bee7-40ec-a51e-b61f6bf16e25",
   "metadata": {},
   "outputs": [],
   "source": [
    "# Loesche den letzten Satz des Strings <text>.\n",
    "# Der String <text>  enthaelt mind. 2 Saetze.\n",
    "# Jeder Satz endet mit einem Punkt.\n",
    "\n",
    "def ohne_letzer(text):\n",
    "    '''gibt text ohne den lezten Satz zurueck'''\n",
    "    txet = text[::-1]\n",
    "    idx = txet.index('.', 1) \n",
    "    ohne_letzter = text[:-idx]\n",
    "    return ohne_letzter"
   ]
  },
  {
   "cell_type": "code",
   "execution_count": null,
   "id": "adda021f-8378-44d3-8535-f207f74e9bbb",
   "metadata": {},
   "outputs": [],
   "source": [
    "# Teste die Funktion\n",
    "texts = ['foo. bar. bax.', 'abc. xyz.']\n",
    "for text in texts:\n",
    "    erster = ohne_letzer(text)\n",
    "    print(erster)"
   ]
  },
  {
   "cell_type": "markdown",
   "id": "b530732d-bb00-4eed-86f5-4b186ddd38cd",
   "metadata": {},
   "source": [
    "***"
   ]
  },
  {
   "cell_type": "code",
   "execution_count": null,
   "id": "317361bd-0e7a-401f-a7c7-b55261f9b43f",
   "metadata": {},
   "outputs": [],
   "source": [
    "# Finde den ersten Satz des Strings <text>.\n",
    "# Falls <text> keinen String enthaelt ist <text> der erste Satz\n",
    "\n",
    "def erster_satz(text):\n",
    "    '''gibt den ersten Satz von text zurueck'''\n",
    "    if '.' in text:\n",
    "        idx = text.index('.') \n",
    "        erster_satz = text[:idx]\n",
    "    else:\n",
    "        erster_satz = text\n",
    "    return erster_satz\n"
   ]
  },
  {
   "cell_type": "code",
   "execution_count": null,
   "id": "c91374fc-ff94-41af-9604-6646927abde1",
   "metadata": {},
   "outputs": [],
   "source": [
    "# Teste die Funktion\n",
    "texts = ['foo. bar. bax.', 'abc']\n",
    "for text in texts:\n",
    "    erster = erster_satz(text)\n",
    "    print(erster)"
   ]
  },
  {
   "cell_type": "markdown",
   "id": "277c94f9-6947-4b57-9b09-a3ef9977b254",
   "metadata": {},
   "source": [
    "***"
   ]
  },
  {
   "cell_type": "code",
   "execution_count": null,
   "id": "b731a31b-e9b2-4377-8bbe-1517a0ca0505",
   "metadata": {},
   "outputs": [],
   "source": [
    "# Loesche den letzten Satz des Strings <text>.\n",
    "# Der String <text>  enthaelt mind. einen Satz (ev. nur einen!).\n",
    "# Jeder Satz endet mit einem Punkt.\n",
    "\n",
    "def ohne_letzer(text):\n",
    "    'gibt text ohne den letzten Satz zurueck'''\n",
    "    if text.count('.') <= 1:\n",
    "        ohne_letzter = text\n",
    "    else:\n",
    "        txet = text[::-1]\n",
    "        idx = txet.index('.', 1) \n",
    "        ohne_letzter = text[:-idx]\n",
    "   \n",
    "    return ohne_letzter"
   ]
  },
  {
   "cell_type": "code",
   "execution_count": null,
   "id": "40aefe81-cfaf-4e7b-badf-2153598e3c15",
   "metadata": {},
   "outputs": [],
   "source": [
    "# Teste die Funktion\n",
    "texts = ['foo. bar. bax.', 'abc, xyz.']\n",
    "for text in texts:\n",
    "    erster = ohne_letzer(text)\n",
    "    print(erster)"
   ]
  }
 ],
 "metadata": {
  "kernelspec": {
   "display_name": "Python 3 (ipykernel)",
   "language": "python",
   "name": "python3"
  },
  "language_info": {
   "codemirror_mode": {
    "name": "ipython",
    "version": 3
   },
   "file_extension": ".py",
   "mimetype": "text/x-python",
   "name": "python",
   "nbconvert_exporter": "python",
   "pygments_lexer": "ipython3",
   "version": "3.12.0"
  }
 },
 "nbformat": 4,
 "nbformat_minor": 5
}
