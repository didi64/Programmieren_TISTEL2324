{
 "cells": [
  {
   "cell_type": "markdown",
   "id": "6754a1fc-37b1-45bf-880e-f3d770945cc6",
   "metadata": {},
   "source": [
    "### Dictionaries, L&ouml;sungen\n",
    "**Aufgabe**:  \n",
    "Ersetze in obigem Code die Anweisungen `d[ch] = d.get(ch, 0) + 1` und\n",
    "`d.setdefault(ch, []).append(i)` durch einen if-else Block, der ohne die Dictionary-Methoden\n",
    "`get` und `setdefault` auskommt.  \n",
    "\n",
    "Implementiere nun folgende beiden Funktionen.\n",
    "\n",
    "```python\n",
    "def count_dict(text):\n",
    "    '''gib einen Dictionary der Form \n",
    "       `{<Buchstabe>: <Anzahl Auftreten des Buchstabens im Text>, ...  }`\n",
    "        zurueck\n",
    "    '''\n",
    "    ...\n",
    "    \n",
    "def pos_dict(text): \n",
    "    '''gib einen Dictionary der Form \n",
    "       `{<Buchstabe>: <Liste mit Positionen, an denen Buchstabens im Text auftritt>, ...  }`\n",
    "        zurueck\n",
    "    '''\n",
    "    ...\n",
    "    \n",
    "```    "
   ]
  },
  {
   "cell_type": "code",
   "execution_count": 14,
   "id": "6070c88c-f1c5-46fa-b949-655da9597ca3",
   "metadata": {},
   "outputs": [
    {
     "data": {
      "text/plain": [
       "{'a': 5, 'b': 2, 'k': 1, 'd': 1, 'r': 1}"
      ]
     },
     "execution_count": 14,
     "metadata": {},
     "output_type": "execute_result"
    }
   ],
   "source": [
    "word = 'abakadabra'\n",
    "d = {}\n",
    "for ch in word:\n",
    "    # falls Buchstabe bereits Schluessel von d\n",
    "    # erhoehe Count um 1\n",
    "    if ch in d:\n",
    "        d[ch] +=1\n",
    "    # falls  Buchstabe noch kein Schluessel von d   \n",
    "    # nimm das Paar Buchstabe: 1 in den Dict auf\n",
    "    else:\n",
    "        d[ch] =1\n",
    "        \n",
    "d   "
   ]
  },
  {
   "cell_type": "code",
   "execution_count": 15,
   "id": "026eb88c-dd54-4e79-ab4f-5fa5514c6c80",
   "metadata": {},
   "outputs": [
    {
     "data": {
      "text/plain": [
       "{'a': [0, 2, 4, 6, 9], 'b': [1, 7], 'k': [3], 'd': [5], 'r': [8]}"
      ]
     },
     "execution_count": 15,
     "metadata": {},
     "output_type": "execute_result"
    }
   ],
   "source": [
    "word = 'abakadabra'\n",
    "d = {}\n",
    "for i, ch in enumerate(word):\n",
    "    # falls Buchstabe bereits Schluessel von d\n",
    "    # haenge Position i vom Buchstaben an die Liste an\n",
    "    if ch in d:\n",
    "        d[ch].append(i)\n",
    "    # falls  Buchstabe noch kein Schluessel von d   \n",
    "    # nimm das Paar Buchstabe: [i] in den Dict auf    \n",
    "    else:\n",
    "        d[ch] = [i]\n",
    "\n",
    "d   "
   ]
  },
  {
   "cell_type": "code",
   "execution_count": 3,
   "id": "e7c7a210-d2e8-4a98-b188-fe2aa0767a7b",
   "metadata": {},
   "outputs": [],
   "source": [
    "def count_dict(text):\n",
    "    d = {}\n",
    "    for ch in word:\n",
    "        d[ch] = d.get(ch, 0) + 1\n",
    "    return d"
   ]
  },
  {
   "cell_type": "code",
   "execution_count": 8,
   "id": "5a1e3e9c-d7cc-4f01-b362-0699045f6fcd",
   "metadata": {},
   "outputs": [
    {
     "data": {
      "text/plain": [
       "{'a': 5, 'b': 2, 'k': 1, 'd': 1, 'r': 1}"
      ]
     },
     "execution_count": 8,
     "metadata": {},
     "output_type": "execute_result"
    }
   ],
   "source": [
    "word = 'abakadabra'\n",
    "cd = count_dict(word)\n",
    "cd"
   ]
  },
  {
   "cell_type": "code",
   "execution_count": 13,
   "id": "9dba51bc-9961-4e41-a8d0-e3bd34d79297",
   "metadata": {},
   "outputs": [],
   "source": [
    "def pos_dict(text):\n",
    "    d = {}\n",
    "    for i, ch in enumerate(word):\n",
    "        d.setdefault(ch, []).append(i)\n",
    "    return d    "
   ]
  },
  {
   "cell_type": "code",
   "execution_count": 10,
   "id": "5c89c670-0d51-468f-857b-3e69ec7367dd",
   "metadata": {},
   "outputs": [
    {
     "data": {
      "text/plain": [
       "{'a': [0, 2, 4, 6, 9], 'b': [1, 7], 'k': [3], 'd': [5], 'r': [8]}"
      ]
     },
     "execution_count": 10,
     "metadata": {},
     "output_type": "execute_result"
    }
   ],
   "source": [
    "word = 'abakadabra'\n",
    "pd = pos_dict(word)\n",
    "pd"
   ]
  },
  {
   "cell_type": "code",
   "execution_count": 12,
   "id": "f52f5e0f-b693-44ea-99cf-601092a4736c",
   "metadata": {},
   "outputs": [
    {
     "name": "stdout",
     "output_type": "stream",
     "text": [
      "Position: 0, Buchstabe: a\n",
      "Position: 2, Buchstabe: a\n",
      "Position: 4, Buchstabe: a\n",
      "Position: 6, Buchstabe: a\n",
      "Position: 9, Buchstabe: a\n"
     ]
    }
   ],
   "source": [
    "idxs_a = pd['a']\n",
    "for i in idxs_a:\n",
    "    print('Position: {}, Buchstabe: {}'.format(i, word[i]))"
   ]
  },
  {
   "cell_type": "code",
   "execution_count": null,
   "id": "196f5aba-829f-4cb2-bb29-37ff159e8077",
   "metadata": {},
   "outputs": [],
   "source": []
  }
 ],
 "metadata": {
  "kernelspec": {
   "display_name": "Python 3 (ipykernel)",
   "language": "python",
   "name": "python3"
  },
  "language_info": {
   "codemirror_mode": {
    "name": "ipython",
    "version": 3
   },
   "file_extension": ".py",
   "mimetype": "text/x-python",
   "name": "python",
   "nbconvert_exporter": "python",
   "pygments_lexer": "ipython3",
   "version": "3.8.10"
  }
 },
 "nbformat": 4,
 "nbformat_minor": 5
}
