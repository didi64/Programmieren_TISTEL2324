{
 "cells": [
  {
   "cell_type": "markdown",
   "id": "49573d63-ecec-4dce-b7d2-1e7bdc4abd26",
   "metadata": {},
   "source": [
    "### Funktionen\n",
    "\n",
    "Mache aus folgenden Codefragmenten jeweils eine Funktion.  \n",
    "W&auml;hle einen passenden Funktionsnamen und f&uuml;ge einen passenden Doc-String hinzu.\n",
    "\n",
    "Die Codefragmente enthalten z.T. Syntaxfehler.  \n",
    "Diese sind zu korrigieren."
   ]
  },
  {
   "cell_type": "code",
   "execution_count": null,
   "id": "e014ed1c-3ccc-4d09-88c9-ac18907d85d4",
   "metadata": {},
   "outputs": [],
   "source": [
    "# Was macht die String-Methode str.index, lies den Hilfstext.\n",
    "str.index"
   ]
  },
  {
   "cell_type": "code",
   "execution_count": 21,
   "id": "b888eae6-8e15-4f70-845f-d799ce06ed56",
   "metadata": {},
   "outputs": [
    {
     "data": {
      "text/plain": [
       "2"
      ]
     },
     "execution_count": 21,
     "metadata": {},
     "output_type": "execute_result"
    }
   ],
   "source": [
    "'bla bla'.index('a')"
   ]
  },
  {
   "cell_type": "code",
   "execution_count": 24,
   "id": "5e1d6411-458e-4bd8-996d-0937faff6f55",
   "metadata": {},
   "outputs": [
    {
     "data": {
      "text/plain": [
       "6"
      ]
     },
     "execution_count": 24,
     "metadata": {},
     "output_type": "execute_result"
    }
   ],
   "source": [
    "'bla bla'.index('a', 3)"
   ]
  },
  {
   "cell_type": "code",
   "execution_count": 25,
   "id": "ba77403b-92cf-48eb-9299-c6c0cd91265a",
   "metadata": {},
   "outputs": [
    {
     "data": {
      "text/plain": [
       "('a', 'a')"
      ]
     },
     "execution_count": 25,
     "metadata": {},
     "output_type": "execute_result"
    }
   ],
   "source": [
    "# gibt tatsaechlich die beiden 'a' aus\n",
    "'bla bla'[2], 'bla bla'[6]"
   ]
  },
  {
   "cell_type": "markdown",
   "id": "277b7885-0bf1-4602-abf2-8ff9ed938475",
   "metadata": {},
   "source": [
    "***"
   ]
  },
  {
   "cell_type": "code",
   "execution_count": null,
   "id": "3664986b-a6e0-43d4-a59f-c57ef2c70701",
   "metadata": {},
   "outputs": [],
   "source": [
    "# Finde den ersten Satz des Strings <text>.\n",
    "# Der String <text>  enthaelt mind. einen Punkt.\n",
    "\n",
    "text = 'Der erste Satz. Ein weitere Satz.'\n",
    "idx = text.index('.') \n",
    "# Teilstring bis vor 1. Punkt\n",
    "erster_satz = text[:idx]\n",
    "erster_satz"
   ]
  },
  {
   "cell_type": "markdown",
   "id": "cb6fc936-337d-46c5-94b9-4a6dfd632e07",
   "metadata": {},
   "source": [
    "***"
   ]
  },
  {
   "cell_type": "code",
   "execution_count": 26,
   "id": "76fd9559-b6a5-4a17-8cb8-bc3e3dc04ed5",
   "metadata": {},
   "outputs": [
    {
     "name": "stdout",
     "output_type": "stream",
     "text": [
      ".\n",
      "_\n"
     ]
    },
    {
     "data": {
      "text/plain": [
       "'Der erste Satz._Ein weitere Satz.'"
      ]
     },
     "execution_count": 26,
     "metadata": {},
     "output_type": "execute_result"
    }
   ],
   "source": [
    "# Loesche den letzten Satz des Strings <text>.\n",
    "# Der String <text>  enthaelt mind. 2 Saetze.\n",
    "# Jeder Satz endet mit einem Punkt.\n",
    "\n",
    "text = 'Der erste Satz._Ein weitere Satz._Der letze Satz.'\n",
    "# text umgedreht\n",
    "txet = text[::-1]\n",
    "\n",
    "idx = txet.index('.', 1) \n",
    "print(txet[idx])\n",
    "print(text[-idx])\n",
    "ohne_letzter = text[:-idx]\n",
    "ohne_letzter"
   ]
  },
  {
   "cell_type": "markdown",
   "id": "5185185f-a621-4dff-8d07-15868be434bb",
   "metadata": {},
   "source": [
    "***"
   ]
  },
  {
   "cell_type": "code",
   "execution_count": null,
   "id": "ef081dfa-68cb-4055-984b-a9a783d6b724",
   "metadata": {},
   "outputs": [],
   "source": [
    "# Finde den ersten Satz des Strings <text>.\n",
    "# Falls <text> keinen String enthaelt ist <text> der erste Satz\n",
    "\n",
    "text = 'Der erste Satz. Ein weitere Satz.'\n",
    "if '.' in text\n",
    "    idx = text.index('.') \n",
    "    erster_satz = text[:idx]\n",
    "else\n",
    "erster_satz = text\n",
    "erster_satz"
   ]
  },
  {
   "cell_type": "markdown",
   "id": "5b2d8375-d543-4b9d-9471-f6b741c2b87d",
   "metadata": {},
   "source": [
    "***"
   ]
  },
  {
   "cell_type": "code",
   "execution_count": null,
   "id": "ba9530ce-ee1a-499e-a2b1-7406dc8f7ccb",
   "metadata": {},
   "outputs": [],
   "source": [
    "# Loesche den letzten Satz des Strings <text>.\n",
    "# Der String <text>  enthaelt mind. einen Satz (ev. nur einen!).\n",
    "# Jeder Satz endet mit einem Punkt.\n",
    "\n",
    "text = 'Der erste Satz._Ein weitere Satz._Der letze Satz.'\n",
    "if text.count('.') <= 1:\n",
    "    ohne_letzter = text\n",
    "\n",
    "else \n",
    "    txet = text[::-1]\n",
    "    idx = txet.index('.', 1) \n",
    "    ohne_letzter = text[:-idx]\n",
    "ohne_letzter"
   ]
  },
  {
   "cell_type": "code",
   "execution_count": null,
   "id": "40a91688-0b75-4b53-ace6-ce642788c07b",
   "metadata": {},
   "outputs": [],
   "source": []
  },
  {
   "cell_type": "code",
   "execution_count": null,
   "id": "b013ed92-714f-4355-8b15-bcdecfa1a9a5",
   "metadata": {},
   "outputs": [],
   "source": [
    "\n"
   ]
  }
 ],
 "metadata": {
  "kernelspec": {
   "display_name": "Python 3 (ipykernel)",
   "language": "python",
   "name": "python3"
  },
  "language_info": {
   "codemirror_mode": {
    "name": "ipython",
    "version": 3
   },
   "file_extension": ".py",
   "mimetype": "text/x-python",
   "name": "python",
   "nbconvert_exporter": "python",
   "pygments_lexer": "ipython3",
   "version": "3.12.0"
  }
 },
 "nbformat": 4,
 "nbformat_minor": 5
}
