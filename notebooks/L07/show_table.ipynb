{
 "cells": [
  {
   "cell_type": "markdown",
   "id": "45c25c27-711b-436a-ad6a-2551ec95fe6c",
   "metadata": {},
   "source": [
    "### Tabelle formatiert ausgeben\n",
    "\n",
    "Nachstehend ist aller Code der Funktion `show_table` zur formatierten Ausgabe einer Tabelle zusammengetragen.  \n",
    "Die einzelenen Teile werden separat getestet und dann in Funktionen gepackt."
   ]
  },
  {
   "cell_type": "markdown",
   "id": "094fd26f-5067-4294-8d38-408637fead60",
   "metadata": {},
   "source": [
    "***\n",
    "**Spaltenbreiten** bestimmen\n",
    "***"
   ]
  },
  {
   "cell_type": "code",
   "execution_count": null,
   "id": "23e31720-50b7-4e2a-bb22-d9eda57e4785",
   "metadata": {},
   "outputs": [],
   "source": [
    "def get_col_widths(header, table):\n",
    "    '''table:   Liste von Listen\n",
    "       Header:  Liste (Kopfzeile)\n",
    "       returns: Liste mit den maximalen Spaltenbreiten \n",
    "    '''\n",
    "    maxcolwidths = [len(col)  for col in header] \n",
    "   \n",
    "    for row in table:\n",
    "        for i,col in enumerate(row):\n",
    "            width = len(col)\n",
    "            if width > maxcolwidths[i]:\n",
    "                maxcolwidths[i] = width\n",
    "         \n",
    "    return maxcolwidths    "
   ]
  },
  {
   "cell_type": "code",
   "execution_count": 43,
   "id": "2da03c3d-cd98-4a5c-8b6c-6cf2615e1081",
   "metadata": {},
   "outputs": [
    {
     "data": {
      "text/plain": [
       "[7, 4, 5]"
      ]
     },
     "execution_count": 43,
     "metadata": {},
     "output_type": "execute_result"
    }
   ],
   "source": [
    "# Kopfzeile\n",
    "header = ('Vorname', 'Name', 'Email')\n",
    "\n",
    "# Breiten der Spalten der Kopfzeile\n",
    "widths = [len(col)  for col in header] \n",
    "widths"
   ]
  },
  {
   "cell_type": "code",
   "execution_count": 3,
   "id": "fc4a3961-422c-4c0d-9f13-4704a923ce9f",
   "metadata": {},
   "outputs": [],
   "source": [
    "# Tabelle mit 2 Zeilen\n",
    "table = [['Hans', 'Muster', 'hans.muster@email.ch'],\n",
    "         ['Johannes', 'Mustermann', 'johannes.mustermann@email.ch'],\n",
    "        ] "
   ]
  },
  {
   "cell_type": "code",
   "execution_count": 4,
   "id": "4d00d4e7-2285-46f4-88ee-3d66963cac80",
   "metadata": {},
   "outputs": [
    {
     "data": {
      "text/plain": [
       "['Hans', 'Muster', 'hans.muster@email.ch']"
      ]
     },
     "execution_count": 4,
     "metadata": {},
     "output_type": "execute_result"
    }
   ],
   "source": [
    "# 1. Zeile\n",
    "row0 = table[0]\n",
    "row0"
   ]
  },
  {
   "cell_type": "code",
   "execution_count": 45,
   "id": "31ae8ca8-6a7b-4f75-ad52-6e86946d0732",
   "metadata": {},
   "outputs": [
    {
     "name": "stdout",
     "output_type": "stream",
     "text": [
      "2. Spalte: Muster\n",
      "\"Muster\" ist breiter als \"Name\"\n",
      "3. Spalte: hans.muster@email.ch\n",
      "\"hans.muster@email.ch\" ist breiter als \"Email\"\n"
     ]
    }
   ],
   "source": [
    "# 1. Zeile inspizieren\n",
    "for i,col in enumerate(row0):\n",
    "    width = len(col)\n",
    "    if width > widths[i]:\n",
    "        print('{}. Spalte: {}'.format(i+1, col))\n",
    "        print('\"{}\" ist breiter als \"{}\"'.format(col, header[i]))"
   ]
  },
  {
   "cell_type": "code",
   "execution_count": 46,
   "id": "8571c871-16d3-4e4e-ac3f-d530b6da4701",
   "metadata": {},
   "outputs": [
    {
     "name": "stdout",
     "output_type": "stream",
     "text": [
      "Inspiziere Zeile ['Hans', 'Muster', 'hans.muster@email.ch']:\n",
      "    2. Spalte: Muster\n",
      "    \"Muster\" ist breiter als \"Name\"\n",
      "    3. Spalte: hans.muster@email.ch\n",
      "    \"hans.muster@email.ch\" ist breiter als \"Email\"\n",
      "Inspiziere Zeile ['Johannes', 'Mustermann', 'johannes.mustermann@email.ch']:\n",
      "    1. Spalte: Johannes\n",
      "    \"Johannes\" ist breiter als \"Vorname\"\n",
      "    2. Spalte: Mustermann\n",
      "    \"Mustermann\" ist breiter als \"Name\"\n",
      "    3. Spalte: johannes.mustermann@email.ch\n",
      "    \"johannes.mustermann@email.ch\" ist breiter als \"Email\"\n"
     ]
    }
   ],
   "source": [
    "# alle Tabellenzeilen inspizieren\n",
    "for row in table:\n",
    "    print('Inspiziere Zeile {}:'.format(row))\n",
    "    \n",
    "    for i,col in enumerate(row):\n",
    "        width = len(col)\n",
    "        if width > widths[i]:\n",
    "            print('    {}. Spalte: {}'.format(i+1, col))\n",
    "            print('    \"{}\" ist breiter als \"{}\"'.format(col, header[i]))"
   ]
  },
  {
   "cell_type": "code",
   "execution_count": 47,
   "id": "3ecb9690-e18d-49e0-819a-ca8538a1fb0f",
   "metadata": {},
   "outputs": [
    {
     "name": "stdout",
     "output_type": "stream",
     "text": [
      "Breite der Headerspalten: [7, 4, 5]\n",
      "Inspiziere Zeile ['Hans', 'Muster', 'hans.muster@email.ch']:\n",
      "    2. Spalte: Muster\n",
      "    \"Muster\" ist breiter als \"4\"\n",
      "    neue max. Breite der 2.ten Spalte: 6\n",
      "    3. Spalte: hans.muster@email.ch\n",
      "    \"hans.muster@email.ch\" ist breiter als \"5\"\n",
      "    neue max. Breite der 3.ten Spalte: 20\n",
      "Inspiziere Zeile ['Johannes', 'Mustermann', 'johannes.mustermann@email.ch']:\n",
      "    1. Spalte: Johannes\n",
      "    \"Johannes\" ist breiter als \"7\"\n",
      "    neue max. Breite der 1.ten Spalte: 8\n",
      "    2. Spalte: Mustermann\n",
      "    \"Mustermann\" ist breiter als \"6\"\n",
      "    neue max. Breite der 2.ten Spalte: 10\n",
      "    3. Spalte: johannes.mustermann@email.ch\n",
      "    \"johannes.mustermann@email.ch\" ist breiter als \"20\"\n",
      "    neue max. Breite der 3.ten Spalte: 28\n"
     ]
    },
    {
     "data": {
      "text/plain": [
       "[8, 10, 28]"
      ]
     },
     "execution_count": 47,
     "metadata": {},
     "output_type": "execute_result"
    }
   ],
   "source": [
    "# maxcolwidths mit Spaltenbreiten der Kopfzeile initialisieren\n",
    "# Alle Tablellenzeilen inspizieren, maxcolwidths falls noetig updaten\n",
    "\n",
    "header = ('Vorname', 'Name', 'Email')\n",
    "table = [['Hans', 'Muster', 'hans.muster@email.ch'],\n",
    "         ['Johannes', 'Mustermann', 'johannes.mustermann@email.ch'],\n",
    "        ] \n",
    "\n",
    "maxcolwidths = [len(col)  for col in header] \n",
    "print('Breite der Headerspalten: {}'.format(maxcolwidths))   \n",
    "    \n",
    "for row in table:\n",
    "    print('Inspiziere Zeile {}:'.format(row))\n",
    "    for i,col in enumerate(row):\n",
    "        width = len(col)\n",
    "        if width > maxcolwidths[i]:\n",
    "            print('    {}. Spalte: {}'.format(i+1, col))\n",
    "            print('    \"{}\" ist breiter als \"{}\"'.format(col, maxcolwidths[i]))\n",
    "            print('    neue max. Breite der {}.ten Spalte: {}'.format(i+1, width))\n",
    "            maxcolwidths[i] = width\n",
    "\n",
    "maxcolwidths    "
   ]
  },
  {
   "cell_type": "code",
   "execution_count": 19,
   "id": "43b514b4-61b1-4fc3-8caf-fa70e8d03908",
   "metadata": {},
   "outputs": [
    {
     "data": {
      "text/plain": [
       "[8, 10, 28]"
      ]
     },
     "execution_count": 19,
     "metadata": {},
     "output_type": "execute_result"
    }
   ],
   "source": [
    "# Code ohne print statements in einer Zelle sammeln\n",
    "header = ('Vorname', 'Name', 'Email')\n",
    "table = [['Hans', 'Muster', 'hans.muster@email.ch'],\n",
    "         ['Johannes', 'Mustermann', 'johannes.mustermann@email.ch'],\n",
    "        ] \n",
    "\n",
    "maxcolwidths = [len(col)  for col in header] \n",
    "\n",
    "for row in table:\n",
    "    for i,col in enumerate(row):\n",
    "        width = len(col)\n",
    "        if width > maxcolwidths[i]:\n",
    "            maxcolwidths[i] = width\n",
    "\n",
    "maxcolwidths    "
   ]
  },
  {
   "cell_type": "code",
   "execution_count": 21,
   "id": "8f8647ab-51cc-4fe2-8e96-f86fdf76493c",
   "metadata": {},
   "outputs": [],
   "source": [
    "# als Funktion\n",
    "# Code in Funktion kopieren, Resultat mit return zurueckgeben\n",
    "def get_col_widths(header, table):\n",
    "    \n",
    "    maxcolwidths = [len(col)  for col in header] \n",
    "\n",
    "    for row in table:\n",
    "        for i,col in enumerate(row):\n",
    "            width = len(col)\n",
    "            if width > maxcolwidths[i]:\n",
    "                maxcolwidths[i] = width\n",
    "\n",
    "    return maxcolwidths        "
   ]
  },
  {
   "cell_type": "code",
   "execution_count": 23,
   "id": "03f9915e-df7b-4558-a1d5-aed9a060c734",
   "metadata": {},
   "outputs": [
    {
     "data": {
      "text/plain": [
       "[8, 10, 28]"
      ]
     },
     "execution_count": 23,
     "metadata": {},
     "output_type": "execute_result"
    }
   ],
   "source": [
    "# Funktion testen\n",
    "header = ('Vorname', 'Name', 'Email')\n",
    "table = [['Hans', 'Muster', 'hans.muster@email.ch'],\n",
    "         ['Johannes', 'Mustermann', 'johannes.mustermann@email.ch'],\n",
    "        ] \n",
    "\n",
    "get_col_widths(header, table)"
   ]
  },
  {
   "cell_type": "markdown",
   "id": "1c5cb198-e15c-45c3-b269-111d80f1b341",
   "metadata": {},
   "source": [
    "***\n",
    "**Tabelle** formatiert ausgeben\n",
    "***"
   ]
  },
  {
   "cell_type": "code",
   "execution_count": null,
   "id": "b099c0cb-1728-4f9f-9a2d-ca91843158d9",
   "metadata": {},
   "outputs": [],
   "source": [
    "def print_table(widths, header, table):\n",
    "    '''widths: Liste mit Spaltenbreiten\n",
    "       header: Liste mit Spaltentiteln\n",
    "       table:  Liste mit Tabellenzeilen\n",
    "       \n",
    "       gibt Header- und Tabellenspalten linksbuendig aus\n",
    "       mit Breiten widths\n",
    "    '''   \n",
    "    hlines = ['-' * width   for width in widths]\n",
    "    fheader = [col.ljust(width) for col, width in zip(header, widths)]\n",
    "    ftable = [[col.ljust(width) for col, width in zip(row, widths)]  for row in table]\n",
    "    \n",
    "    print(' | '.join(fheader))\n",
    "    print(' | '.join(hlines))\n",
    "    for row in ftable:\n",
    "        print(' | '.join(row))"
   ]
  },
  {
   "cell_type": "code",
   "execution_count": null,
   "id": "e863581a-0837-4698-b298-afb7908f4be6",
   "metadata": {},
   "outputs": [],
   "source": []
  },
  {
   "cell_type": "code",
   "execution_count": 24,
   "id": "11560b96-448b-4dba-824a-f9344e995e9e",
   "metadata": {},
   "outputs": [
    {
     "data": {
      "text/plain": [
       "['--------', '----------', '----------------------------']"
      ]
     },
     "execution_count": 24,
     "metadata": {},
     "output_type": "execute_result"
    }
   ],
   "source": [
    "# Liste mit den Trennlinien erstellen\n",
    "idths = [8, 10, 28]\n",
    "hlines = ['-' * width   for width in widths]\n",
    "hlines"
   ]
  },
  {
   "cell_type": "code",
   "execution_count": 25,
   "id": "216679b8-b272-481c-9999-a642979e3f4e",
   "metadata": {},
   "outputs": [
    {
     "data": {
      "text/plain": [
       "['Vorname ', 'Name      ', 'Email                       ']"
      ]
     },
     "execution_count": 25,
     "metadata": {},
     "output_type": "execute_result"
    }
   ],
   "source": [
    "# formatierte Kopfzeile erstellen: alle Spalten haben die gewuenschte Breite\n",
    "header = ('Vorname', 'Name', 'Email')\n",
    "fheader = [col.ljust(width) for col, width in zip(header, widths)]\n",
    "fheader"
   ]
  },
  {
   "cell_type": "code",
   "execution_count": 28,
   "id": "06775576-9aa4-411c-a325-06aaae9c40b5",
   "metadata": {},
   "outputs": [
    {
     "data": {
      "text/plain": [
       "[['Hans    ', 'Muster    ', 'hans.muster@email.ch        '],\n",
       " ['Johannes', 'Mustermann', 'johannes.mustermann@email.ch']]"
      ]
     },
     "execution_count": 28,
     "metadata": {},
     "output_type": "execute_result"
    }
   ],
   "source": [
    "# alle Tabellenzeilen formatieren\n",
    "table = [['Hans', 'Muster', 'hans.muster@email.ch'],\n",
    "         ['Johannes', 'Mustermann', 'johannes.mustermann@email.ch'],\n",
    "        ] \n",
    "\n",
    "ftable = []\n",
    "for row in table:\n",
    "    frow = [col.ljust(width) for col, width in zip(row, widths)]\n",
    "    ftable.append(frow)\n",
    "ftable"
   ]
  },
  {
   "cell_type": "code",
   "execution_count": 29,
   "id": "a838a9a7-17da-455a-a60b-5b8c3a596f51",
   "metadata": {},
   "outputs": [
    {
     "data": {
      "text/plain": [
       "[['Hans    ', 'Muster    ', 'hans.muster@email.ch        '],\n",
       " ['Johannes', 'Mustermann', 'johannes.mustermann@email.ch']]"
      ]
     },
     "execution_count": 29,
     "metadata": {},
     "output_type": "execute_result"
    }
   ],
   "source": [
    "# mit Listcomprehension\n",
    "table = [['Hans', 'Muster', 'hans.muster@email.ch'],\n",
    "         ['Johannes', 'Mustermann', 'johannes.mustermann@email.ch'],\n",
    "        ] \n",
    "\n",
    "ftable = [[col.ljust(width) for col, width in zip(row, widths)]  for row in table]\n",
    "ftable"
   ]
  },
  {
   "cell_type": "code",
   "execution_count": 30,
   "id": "7aae75fb-fe83-42f2-b956-029ed31006c8",
   "metadata": {},
   "outputs": [
    {
     "name": "stdout",
     "output_type": "stream",
     "text": [
      "Vorname  | Name       | Email                       \n"
     ]
    }
   ],
   "source": [
    "# Liste von Strings mit ' | ' zu einem String verbinden\n",
    "print(' | '.join(fheader))"
   ]
  },
  {
   "cell_type": "code",
   "execution_count": 31,
   "id": "4fa5723a-626e-4590-bf46-29ce6c02b175",
   "metadata": {},
   "outputs": [
    {
     "name": "stdout",
     "output_type": "stream",
     "text": [
      "-------- | ---------- | ----------------------------\n"
     ]
    }
   ],
   "source": [
    "# Liste zu String machen\n",
    "print(' | '.join(hlines))"
   ]
  },
  {
   "cell_type": "code",
   "execution_count": 32,
   "id": "2a7feabf-13dc-4c45-93e3-633586954129",
   "metadata": {},
   "outputs": [
    {
     "name": "stdout",
     "output_type": "stream",
     "text": [
      "Hans     | Muster     | hans.muster@email.ch        \n",
      "Johannes | Mustermann | johannes.mustermann@email.ch\n"
     ]
    }
   ],
   "source": [
    "# Tabellenzeilen zu Strings machen und ausgeben\n",
    "for row in ftable:\n",
    "    print(' | '.join(row))"
   ]
  },
  {
   "cell_type": "code",
   "execution_count": 33,
   "id": "bce94c89-27de-4207-a31e-1fdf95161108",
   "metadata": {},
   "outputs": [
    {
     "name": "stdout",
     "output_type": "stream",
     "text": [
      "Vorname  | Name       | Email                       \n",
      "-------- | ---------- | ----------------------------\n",
      "Hans     | Muster     | hans.muster@email.ch        \n",
      "Johannes | Mustermann | johannes.mustermann@email.ch\n"
     ]
    }
   ],
   "source": [
    "# Code in Zelle zusammentragen\n",
    "hlines = ['-' * width   for width in widths]\n",
    "fheader = [col.ljust(width) for col, width in zip(header, widths)]\n",
    "ftable = [[col.ljust(width) for col, width in zip(row, widths)]  for row in table]\n",
    "\n",
    "print(' | '.join(fheader))\n",
    "print(' | '.join(hlines))\n",
    "for row in ftable:\n",
    "    print(' | '.join(row))"
   ]
  },
  {
   "cell_type": "code",
   "execution_count": 34,
   "id": "c7b250d9-a1d0-4a5b-81c6-ace955186238",
   "metadata": {},
   "outputs": [],
   "source": [
    "# als Funktion\n",
    "def print_table(widths, header, table):\n",
    "    hlines = ['-' * width   for width in widths]\n",
    "    fheader = [col.ljust(width) for col, width in zip(header, widths)]\n",
    "    ftable = [[col.ljust(width) for col, width in zip(row, widths)]  for row in table]\n",
    "    \n",
    "    print(' | '.join(fheader))\n",
    "    print(' | '.join(hlines))\n",
    "    for row in ftable:\n",
    "        print(' | '.join(row))"
   ]
  },
  {
   "cell_type": "code",
   "execution_count": 35,
   "id": "894a3d6d-a73b-4667-a326-d56b5680788f",
   "metadata": {},
   "outputs": [
    {
     "name": "stdout",
     "output_type": "stream",
     "text": [
      "Vorname  | Name       | Email                       \n",
      "-------- | ---------- | ----------------------------\n",
      "Hans     | Muster     | hans.muster@email.ch        \n",
      "Johannes | Mustermann | johannes.mustermann@email.ch\n"
     ]
    }
   ],
   "source": [
    "# Funktion testen\n",
    "header = ('Vorname', 'Name', 'Email')\n",
    "table = [['Hans', 'Muster', 'hans.muster@email.ch'],\n",
    "         ['Johannes', 'Mustermann', 'johannes.mustermann@email.ch'],\n",
    "        ] \n",
    "widths = [8, 10, 28]\n",
    "\n",
    "print_table(widths, header, table)"
   ]
  },
  {
   "cell_type": "markdown",
   "id": "9f7e515a-a006-45ce-9738-41ee9efb0a98",
   "metadata": {},
   "source": [
    "***\n",
    "Mit `print_table` und `get_col_widths` Tabelle formatiert ausgeben\n",
    "***"
   ]
  },
  {
   "cell_type": "code",
   "execution_count": null,
   "id": "df981638-a089-46b4-afde-03a4108a1f41",
   "metadata": {},
   "outputs": [],
   "source": [
    "def show_table(header, table):\n",
    "    '''gibt Header und Tabelle formatiert aus\n",
    "       header: Liste mit Spaltentiteln\n",
    "       table:  Liste mit Tabellenzeilen\n",
    "    '''\n",
    "    widths =  get_col_widths(header, table)\n",
    "    print_table(widths, header, table)        "
   ]
  },
  {
   "cell_type": "code",
   "execution_count": 36,
   "id": "bbdde633-3e28-4f45-b5d5-559684d6077d",
   "metadata": {},
   "outputs": [
    {
     "data": {
      "text/plain": [
       "[8, 10, 28]"
      ]
     },
     "execution_count": 36,
     "metadata": {},
     "output_type": "execute_result"
    }
   ],
   "source": [
    "# Spalenbreiten bestimmen\n",
    "widths =  get_col_widths(header, table)\n",
    "widths"
   ]
  },
  {
   "cell_type": "code",
   "execution_count": 37,
   "id": "cc8eb111-42cf-46e1-8d18-e1c259c02d24",
   "metadata": {},
   "outputs": [
    {
     "name": "stdout",
     "output_type": "stream",
     "text": [
      "Vorname  | Name       | Email                       \n",
      "-------- | ---------- | ----------------------------\n",
      "Hans     | Muster     | hans.muster@email.ch        \n",
      "Johannes | Mustermann | johannes.mustermann@email.ch\n"
     ]
    }
   ],
   "source": [
    "# Tabelle ausgeben\n",
    "print_table(widths, header, table)"
   ]
  },
  {
   "cell_type": "code",
   "execution_count": 48,
   "id": "020667b4-df06-4d9f-a95c-2636e14a9e23",
   "metadata": {},
   "outputs": [],
   "source": [
    "# als Funktion\n",
    "def show_table(header, table):\n",
    "    widths =  get_col_widths(header, table)\n",
    "    print_table(widths, header, table)        "
   ]
  },
  {
   "cell_type": "code",
   "execution_count": 42,
   "id": "6998ed7a-2752-4652-abfc-72ca0203ec28",
   "metadata": {},
   "outputs": [
    {
     "name": "stdout",
     "output_type": "stream",
     "text": [
      "Vorname  | Name       | Email                       \n",
      "-------- | ---------- | ----------------------------\n",
      "Hans     | Muster     | hans.muster@email.ch        \n",
      "Johannes | Mustermann | johannes.mustermann@email.ch\n"
     ]
    }
   ],
   "source": [
    "header = ('Vorname', 'Name', 'Email')\n",
    "table = [['Hans', 'Muster', 'hans.muster@email.ch'],\n",
    "         ['Johannes', 'Mustermann', 'johannes.mustermann@email.ch'],\n",
    "        ] \n",
    "\n",
    "show_table(header, table)"
   ]
  }
 ],
 "metadata": {
  "kernelspec": {
   "display_name": "Python 3 (ipykernel)",
   "language": "python",
   "name": "python3"
  },
  "language_info": {
   "codemirror_mode": {
    "name": "ipython",
    "version": 3
   },
   "file_extension": ".py",
   "mimetype": "text/x-python",
   "name": "python",
   "nbconvert_exporter": "python",
   "pygments_lexer": "ipython3",
   "version": "3.12.0"
  }
 },
 "nbformat": 4,
 "nbformat_minor": 5
}
