{
 "cells": [
  {
   "cell_type": "markdown",
   "id": "b08f22f4-85af-46f3-b633-2b1e640c2dc0",
   "metadata": {},
   "source": [
    "### L&ouml;sungen Aufgaben Files"
   ]
  },
  {
   "cell_type": "code",
   "execution_count": null,
   "id": "939fb064-44cf-4352-a4a5-390870b7bec8",
   "metadata": {},
   "outputs": [],
   "source": [
    "# File Zeilenweise einlesen\n",
    "fn = 'superleague21_22.txt'\n",
    "with open(fn, mode = 'r') as f:\n",
    "    lines = f.readlines()\n",
    "lines    "
   ]
  },
  {
   "cell_type": "code",
   "execution_count": null,
   "id": "7de7382a-d0fc-4471-a9ac-36a8e2267ddb",
   "metadata": {},
   "outputs": [],
   "source": [
    "header_line = lines[1]\n",
    "header_line"
   ]
  },
  {
   "cell_type": "code",
   "execution_count": null,
   "id": "037d6435-585b-4d44-b644-70b2c561655e",
   "metadata": {},
   "outputs": [],
   "source": [
    "header = header_line.split(',')\n",
    "header "
   ]
  },
  {
   "cell_type": "code",
   "execution_count": null,
   "id": "cfcbe0f5-acf8-46ae-bdb4-d4a787d46f11",
   "metadata": {},
   "outputs": [],
   "source": [
    "[col.strip() for col in header]"
   ]
  },
  {
   "cell_type": "code",
   "execution_count": null,
   "id": "3c768007-52c8-46e0-8af9-c785fab4f2ee",
   "metadata": {},
   "outputs": [],
   "source": [
    "# Hilfsfunktion line2tuple, ohne Listcomprehension\n",
    "def line2list(line):\n",
    "    res = []\n",
    "    words = line.split(',')\n",
    "    for word in words:\n",
    "        word_stripped = word.strip()\n",
    "        res.append(word_stripped)\n",
    "        \n",
    "    return res"
   ]
  },
  {
   "cell_type": "code",
   "execution_count": null,
   "id": "945fcf3e-7de0-44f5-b287-350c693abbd0",
   "metadata": {},
   "outputs": [],
   "source": [
    "# Funktion testen\n",
    "line2list(lines[4])"
   ]
  },
  {
   "cell_type": "code",
   "execution_count": null,
   "id": "fbe73d6c-c53e-48b9-9b8f-2ee79be11833",
   "metadata": {
    "tags": []
   },
   "outputs": [],
   "source": [
    "# Hilfsfunktion line2tuple mit Listcomprehension\n",
    "def line2list(line):\n",
    "    return [word.strip() for word in line.split(',')]"
   ]
  },
  {
   "cell_type": "code",
   "execution_count": null,
   "id": "33fc0cfb-9731-482b-a04e-b853a5049fc5",
   "metadata": {},
   "outputs": [],
   "source": [
    "# Funktion testen\n",
    "line2list(lines[4])"
   ]
  },
  {
   "cell_type": "code",
   "execution_count": null,
   "id": "6c689fc0-d632-4d91-9cdf-2238f0e3be2d",
   "metadata": {},
   "outputs": [],
   "source": [
    "# noetig je nach Fall\n",
    "import sys\n",
    "moduelpath = '/home/tistel/work/modules' # bez. von wo du deine Module importieren willst\n",
    "sys.path.insert(0, moduelpath)"
   ]
  },
  {
   "cell_type": "code",
   "execution_count": null,
   "id": "bd4de52d-e3b2-40c3-b8f0-6c89837210a1",
   "metadata": {},
   "outputs": [],
   "source": [
    "# Tabelle mit show_table ausgeben\n",
    "import table_tools\n",
    "# help(table_tools)"
   ]
  },
  {
   "cell_type": "code",
   "execution_count": null,
   "id": "c15adc80-858f-4675-930a-8ca9e2aa3dc2",
   "metadata": {},
   "outputs": [],
   "source": [
    "header = line2list(header_line)\n",
    "header"
   ]
  },
  {
   "cell_type": "code",
   "execution_count": null,
   "id": "29a0e3bd-635e-4b63-b49f-11860454b794",
   "metadata": {},
   "outputs": [],
   "source": [
    "table = [line2list(line) for line in lines[2:]]\n",
    "table"
   ]
  },
  {
   "cell_type": "code",
   "execution_count": null,
   "id": "20ffd14a-7620-43d7-81fa-27e98cfe5fd3",
   "metadata": {},
   "outputs": [],
   "source": [
    "table_tools.show_table(header, table)"
   ]
  },
  {
   "cell_type": "code",
   "execution_count": null,
   "id": "a6b7f7b4-35e9-42e5-b322-d85d1b601352",
   "metadata": {},
   "outputs": [],
   "source": []
  }
 ],
 "metadata": {
  "author": "dieter.probst@gmail.com",
  "kernelspec": {
   "display_name": "Python 3 (ipykernel)",
   "language": "python",
   "name": "python3"
  },
  "language_info": {
   "codemirror_mode": {
    "name": "ipython",
    "version": 3
   },
   "file_extension": ".py",
   "mimetype": "text/x-python",
   "name": "python",
   "nbconvert_exporter": "python",
   "pygments_lexer": "ipython3",
   "version": "3.12.0"
  }
 },
 "nbformat": 4,
 "nbformat_minor": 5
}
