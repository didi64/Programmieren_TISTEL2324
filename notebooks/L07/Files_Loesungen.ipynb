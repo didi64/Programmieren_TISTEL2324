{
 "cells": [
  {
   "cell_type": "markdown",
   "id": "b08f22f4-85af-46f3-b633-2b1e640c2dc0",
   "metadata": {},
   "source": [
    "### L&ouml;sungen Aufgaben Files"
   ]
  },
  {
   "cell_type": "code",
   "execution_count": 1,
   "id": "939fb064-44cf-4352-a4a5-390870b7bec8",
   "metadata": {},
   "outputs": [
    {
     "data": {
      "text/plain": [
       "['# Abschlusstabelle der schweizer Raiffeisen Super League 2021/2022\\n',\n",
       " 'Mannschaft,Sp.,S,U,V,Tore,Diff.,Pkt\\n',\n",
       " 'FC Zürich, 36,23,7,6,78:46,32,76\\n',\n",
       " 'FC Basel, 36,15,17,4,70:41,29,62\\n',\n",
       " 'Y.B. Bern, 36,16,12,8,80:50,30,60\\n',\n",
       " 'Lugano, 36,16,6,14,50:54,-4,54\\n',\n",
       " 'St. Gallen, 36,14,8,14,68:63,5,50\\n',\n",
       " 'Genf, 36,12,8,16,50:66,16,44\\n',\n",
       " 'Sion, 36,11,8,17,46:67,-21,41\\n',\n",
       " 'Gr. Zürich,36,9,13,14,54:58,-4,40\\n',\n",
       " 'Luzern, 36,9,13,14,52:64,-12,40\\n',\n",
       " 'Lausanne, 36,4,10,22,37:76, -39,22\\n']"
      ]
     },
     "execution_count": 1,
     "metadata": {},
     "output_type": "execute_result"
    }
   ],
   "source": [
    "# File Zeilenweise einlesen\n",
    "fn = 'superleague21_22.txt'\n",
    "with open(fn, mode = 'r') as f:\n",
    "    lines = f.readlines()\n",
    "lines    "
   ]
  },
  {
   "cell_type": "code",
   "execution_count": 15,
   "id": "7de7382a-d0fc-4471-a9ac-36a8e2267ddb",
   "metadata": {},
   "outputs": [
    {
     "data": {
      "text/plain": [
       "'Mannschaft,Sp.,S,U,V,Tore,Diff.,Pkt\\n'"
      ]
     },
     "execution_count": 15,
     "metadata": {},
     "output_type": "execute_result"
    }
   ],
   "source": [
    "header_line = lines[1]\n",
    "header_line"
   ]
  },
  {
   "cell_type": "code",
   "execution_count": 2,
   "id": "7b3dc8f7-29e8-415e-b1f8-d71ee45a028d",
   "metadata": {},
   "outputs": [],
   "source": [
    "# Hilfsfunktion line2tuple\n",
    "def line2list(line):\n",
    "    return [word.strip() for word in line.split(',')]"
   ]
  },
  {
   "cell_type": "code",
   "execution_count": null,
   "id": "fbe73d6c-c53e-48b9-9b8f-2ee79be11833",
   "metadata": {
    "tags": []
   },
   "outputs": [],
   "source": [
    "# Hilfsfunktion line2tuple, ohne list comprehension\n",
    "def line2list(line):\n",
    "    res = []\n",
    "    items = line.split(',')\n",
    "    for item in items:\n",
    "        item_stripped = item.strip()\n",
    "        res.append(item_stripped)\n",
    "        \n",
    "    return res"
   ]
  },
  {
   "cell_type": "code",
   "execution_count": 3,
   "id": "c5fab153-6505-45f1-a30b-f296993e2e8a",
   "metadata": {},
   "outputs": [],
   "source": [
    "# Hilfsfunktion line2tuple, mit list comprehension\n",
    "def line2list(line):\n",
    "    res = [word.strip() for word in line.split(',')]\n",
    "    return res"
   ]
  },
  {
   "cell_type": "code",
   "execution_count": 16,
   "id": "da279917-590a-43d6-9a16-1c0ebe6a6bd8",
   "metadata": {},
   "outputs": [
    {
     "data": {
      "text/plain": [
       "['Mannschaft', 'Sp.', 'S', 'U', 'V', 'Tore', 'Diff.', 'Pkt']"
      ]
     },
     "execution_count": 16,
     "metadata": {},
     "output_type": "execute_result"
    }
   ],
   "source": [
    "header = line2list(header_line)\n",
    "header"
   ]
  },
  {
   "cell_type": "code",
   "execution_count": 10,
   "id": "6c689fc0-d632-4d91-9cdf-2238f0e3be2d",
   "metadata": {},
   "outputs": [],
   "source": [
    "import sys\n",
    "moduelpath = '/home/tistel/work/modules'\n",
    "sys.path.insert(0, moduelpath)"
   ]
  },
  {
   "cell_type": "code",
   "execution_count": 11,
   "id": "bd4de52d-e3b2-40c3-b8f0-6c89837210a1",
   "metadata": {},
   "outputs": [
    {
     "name": "stdout",
     "output_type": "stream",
     "text": [
      "Help on module toolbox:\n",
      "\n",
      "NAME\n",
      "    toolbox\n",
      "\n",
      "FUNCTIONS\n",
      "    show_table(header, table)\n",
      "        gibt Header und Tabelle formatiert aus\n",
      "        header: Liste mit Spaltentiteln\n",
      "        table:  Liste mit Tabellenzeilen\n",
      "\n",
      "FILE\n",
      "    /home/probst/Projects/JupyterNotebooks/Tistel_2324/modules/toolbox.py\n",
      "\n",
      "\n"
     ]
    }
   ],
   "source": [
    "# Tabelle mit print_as_table ausgeben\n",
    "import toolbox\n",
    "help(toolbox)"
   ]
  },
  {
   "cell_type": "code",
   "execution_count": 14,
   "id": "29a0e3bd-635e-4b63-b49f-11860454b794",
   "metadata": {},
   "outputs": [
    {
     "data": {
      "text/plain": [
       "'Mannschaft,Sp.,S,U,V,Tore,Diff.,Pkt\\n'"
      ]
     },
     "execution_count": 14,
     "metadata": {},
     "output_type": "execute_result"
    }
   ],
   "source": [
    "table = [line2list(line) for line in lines[2:]]\n",
    "table"
   ]
  },
  {
   "cell_type": "code",
   "execution_count": 17,
   "id": "20ffd14a-7620-43d7-81fa-27e98cfe5fd3",
   "metadata": {},
   "outputs": [
    {
     "name": "stdout",
     "output_type": "stream",
     "text": [
      "Mannschaft | Sp. | S  | U  | V  | Tore  | Diff. | Pkt\n",
      "---------- | --- | -- | -- | -- | ----- | ----- | ---\n",
      "FC Zürich  | 36  | 23 | 7  | 6  | 78:46 | 32    | 76 \n",
      "FC Basel   | 36  | 15 | 17 | 4  | 70:41 | 29    | 62 \n",
      "Y.B. Bern  | 36  | 16 | 12 | 8  | 80:50 | 30    | 60 \n",
      "Lugano     | 36  | 16 | 6  | 14 | 50:54 | -4    | 54 \n",
      "St. Gallen | 36  | 14 | 8  | 14 | 68:63 | 5     | 50 \n",
      "Genf       | 36  | 12 | 8  | 16 | 50:66 | 16    | 44 \n",
      "Sion       | 36  | 11 | 8  | 17 | 46:67 | -21   | 41 \n",
      "Gr. Zürich | 36  | 9  | 13 | 14 | 54:58 | -4    | 40 \n",
      "Luzern     | 36  | 9  | 13 | 14 | 52:64 | -12   | 40 \n",
      "Lausanne   | 36  | 4  | 10 | 22 | 37:76 | -39   | 22 \n"
     ]
    }
   ],
   "source": [
    "\n",
    "toolbox.show_table(header, table)"
   ]
  },
  {
   "cell_type": "markdown",
   "id": "4c2c37e5-8895-46e8-9997-0476f9101884",
   "metadata": {},
   "source": [
    "### Cast Strings zu Integers wo angebracht"
   ]
  },
  {
   "cell_type": "code",
   "execution_count": null,
   "id": "ea42527e-dbf8-4e20-bcda-a06f2aa936c9",
   "metadata": {},
   "outputs": [],
   "source": [
    "def as_is_or_as_int(s):\n",
    "    if s.isnumeric() or (s[0] == '-' and s[1:].isnumeric()):\n",
    "        return int(s)\n",
    "    else:\n",
    "        return s"
   ]
  },
  {
   "cell_type": "code",
   "execution_count": null,
   "id": "ac951981-e5db-4f2d-823f-f3ffcf216f0b",
   "metadata": {},
   "outputs": [],
   "source": [
    "def line2list(line):\n",
    "    return [as_is_or_as_int(item.strip()) for item in line.split(',')]"
   ]
  },
  {
   "cell_type": "markdown",
   "id": "f3a305bf-55ba-4e9a-8c0b-2251b1ee542e",
   "metadata": {},
   "source": [
    "***\n",
    "Module toolbox.py in Zelle laden mit\n",
    "`%load $toolbox.__file__`  \n",
    "- Wird ein Modul importiert, wird der Variable toolbox.__file__ der Filepfad zugewiesen\n",
    "- In Zellen-Magic Befehlen: `$<variable>` expandiert die Variable\n",
    "***"
   ]
  },
  {
   "cell_type": "code",
   "execution_count": null,
   "id": "af9dfdd0-3ab6-4354-8f77-322a794b90c7",
   "metadata": {},
   "outputs": [],
   "source": [
    "toolbox.__file__"
   ]
  },
  {
   "cell_type": "code",
   "execution_count": null,
   "id": "946cb384-b135-480b-9707-bc3cfa02abb6",
   "metadata": {},
   "outputs": [],
   "source": [
    "# %load /home/jovyan/work/TISTEL2223Prog/src/toolbox.py"
   ]
  },
  {
   "cell_type": "code",
   "execution_count": null,
   "id": "e06e2987-3f0b-48d6-86b0-ec71ea611b40",
   "metadata": {},
   "outputs": [],
   "source": []
  }
 ],
 "metadata": {
  "author": "dieter.probst@gmail.com",
  "kernelspec": {
   "display_name": "Python 3 (ipykernel)",
   "language": "python",
   "name": "python3"
  },
  "language_info": {
   "codemirror_mode": {
    "name": "ipython",
    "version": 3
   },
   "file_extension": ".py",
   "mimetype": "text/x-python",
   "name": "python",
   "nbconvert_exporter": "python",
   "pygments_lexer": "ipython3",
   "version": "3.8.10"
  }
 },
 "nbformat": 4,
 "nbformat_minor": 5
}
