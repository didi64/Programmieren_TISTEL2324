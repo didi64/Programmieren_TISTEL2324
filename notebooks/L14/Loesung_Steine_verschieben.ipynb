{
 "cells": [
  {
   "cell_type": "markdown",
   "id": "e3b4ba45-8de6-4ccb-843b-64ddc945b63e",
   "metadata": {},
   "source": [
    "### View Steine verschieben L&ouml;sung\n",
    "- Die Klasse View hat keine Methode `move_stone`, die Methode heisst `move`.\n",
    "\n",
    "Direkt testen:  \n",
    "```python\n",
    "view.on_mouse_down(10, 10) # Klick auf das Feld 0\n",
    "view.selected_field # 0 (ok)\n",
    "```\n",
    "\n",
    "```python\n",
    "view.on_mouse_up(110, 110) # Klick auf das Feld in Leinwand Mitte\n",
    "# verursacht Fehler\n",
    "```\n"
   ]
  },
  {
   "cell_type": "code",
   "execution_count": 16,
   "id": "c2baff35-ca1d-48a9-907d-2aeeb245489f",
   "metadata": {},
   "outputs": [],
   "source": [
    "def draw_chessboard(canvas, color1 = 'grey', color2 = 'blue'):\n",
    "    n = 8 # 8x8 Brett\n",
    "    # Fuelle Canvas mit color1\n",
    "    canvas.fill_style = color1\n",
    "    canvas.fill_rect(0, 0, canvas.width, canvas.height)\n",
    "    \n",
    "    # Zeichne (ungerade) Felder mit color2\n",
    "    canvas.fill_style = color2\n",
    "    \n",
    "    # width und height eines Feldes\n",
    "    dw = canvas.width / n\n",
    "    dh = canvas.height / n\n",
    "    \n",
    "    for x in range(n):\n",
    "        for y in range(n):\n",
    "            # zeichen Feld falls x + y gerade\n",
    "            if (x + y) % 2 == 0:\n",
    "                canvas.fill_rect(x*dw, y*dh, dw, dh)\n",
    "                \n",
    "from ipycanvas import MultiCanvas\n",
    "from ipywidgets import Output\n",
    "err_msg = Output(layout = {'border': '1px solid black'})\n",
    "\n",
    "class View:\n",
    "    \n",
    "    def __init__(self, game):\n",
    "        self.game = game\n",
    "        # callback registrieren\n",
    "        game.callback = lambda event, data: self.move_stone(*data)\n",
    "        \n",
    "        self.mcanvas = MultiCanvas(3, width = 200, height = 200, \n",
    "                                   layout = {'border': '1px solid black'}\n",
    "                                  )\n",
    "        self.bg, self.l0, self.l1 = self.mcanvas\n",
    "        self.layers = {'bg': self.bg, 0: self.l0, 1: self.l1}\n",
    "        self.layers[0].fill_style = 'red'\n",
    "        self.layers[1].fill_style = 'yellow'\n",
    "\n",
    "        self.r = 10\n",
    "        self.field_size = self.mcanvas.width / 8\n",
    "        draw_chessboard(self.bg)\n",
    "        \n",
    "        # Attribut fuer selektiertes Feld, Callbacks fuer Maus-Events registrieren\n",
    "        self.selected_field = None\n",
    "        self.mcanvas.on_mouse_down(self.on_mouse_down)\n",
    "        self.mcanvas.on_mouse_up(self.on_mouse_up)\n",
    "       \n",
    "    def draw_position(self):\n",
    "        for player, stones in self.game.position.items():\n",
    "            for idx in stones:\n",
    "                self.place_stone(player, idx)\n",
    "            \n",
    "    def place_stone(self, layer, idx):\n",
    "        x, y = self.idx2pos(idx)\n",
    "        self.layers[layer].fill_circle(x, y, self.r)\n",
    "        \n",
    "    def remove_stone(self, layer, idx):\n",
    "        x, y = self.idx2pos(idx)\n",
    "        self.layers[layer].clear_rect(x-self.r-0.5, y-self.r-0.5, 2*self.r+1)\n",
    "        \n",
    "    def move_stone(self, layer, src, target):\n",
    "        self.remove_stone(layer, src)\n",
    "        self.place_stone(layer, target)\n",
    "        \n",
    "    def idx2pos(self, idx):\n",
    "        '''gibt x und y Koordinate der Mitte des Feldes mit Nummer idx zurueck'''\n",
    "        row = idx // 8 \n",
    "        col = idx % 8  \n",
    "        return (col+0.5) * self.field_size, (row + 0.5)*self.field_size\n",
    "      \n",
    "    def pos2idx(self, pos):\n",
    "        '''x,y Koordinaten der Klickposition und Feldnummer umrechnen'''\n",
    "        x, y = pos\n",
    "        col = int(x // self.field_size)\n",
    "        row = int(y // self.field_size)\n",
    "        return 8*row + col   \n",
    "        \n",
    "    @err_msg.capture()    \n",
    "    def on_mouse_down(self, x, y):\n",
    "        pos = (x, y)\n",
    "        self.selected_field = self.pos2idx(pos)\n",
    "        \n",
    "    @err_msg.capture()    \n",
    "    def on_mouse_up(self, x, y):   \n",
    "        if self.selected_field is None:\n",
    "            return\n",
    "       \n",
    "        pos = (x, y)\n",
    "        target = self.pos2idx(pos)\n",
    "        # Zug an Game-Instanz weitergeben\n",
    "        self.game.move(self.game.ptm, self.selected_field, target)  \n",
    "        self.selected_field = None\n",
    "        \n",
    "    def _ipython_display_(self):\n",
    "        display(self.mcanvas, err_msg)"
   ]
  },
  {
   "cell_type": "code",
   "execution_count": 17,
   "id": "08b7500c-ebf4-4461-b45f-7416a51cf75a",
   "metadata": {},
   "outputs": [
    {
     "data": {
      "application/vnd.jupyter.widget-view+json": {
       "model_id": "7128fb9d9610454b949ad3925d6d1fbe",
       "version_major": 2,
       "version_minor": 0
      },
      "text/plain": [
       "MultiCanvas(height=200, layout=Layout(border_bottom='1px solid black', border_left='1px solid black', border_r…"
      ]
     },
     "metadata": {},
     "output_type": "display_data"
    },
    {
     "data": {
      "application/vnd.jupyter.widget-view+json": {
       "model_id": "b423397668604e4ba739f7375de76505",
       "version_major": 2,
       "version_minor": 0
      },
      "text/plain": [
       "Output(layout=Layout(border_bottom='1px solid black', border_left='1px solid black', border_right='1px solid b…"
      ]
     },
     "metadata": {},
     "output_type": "display_data"
    }
   ],
   "source": [
    "from game_steine import Game, engine\n",
    "\n",
    "game = Game()\n",
    "game.player_name[1] = engine\n",
    "view = View(game)\n",
    "view.draw_position()\n",
    "view"
   ]
  },
  {
   "cell_type": "code",
   "execution_count": null,
   "id": "7cea1e2d-0cd2-4340-abfe-2e0d938e052b",
   "metadata": {},
   "outputs": [],
   "source": []
  }
 ],
 "metadata": {
  "kernelspec": {
   "display_name": "Python 3 (ipykernel)",
   "language": "python",
   "name": "python3"
  },
  "language_info": {
   "codemirror_mode": {
    "name": "ipython",
    "version": 3
   },
   "file_extension": ".py",
   "mimetype": "text/x-python",
   "name": "python",
   "nbconvert_exporter": "python",
   "pygments_lexer": "ipython3",
   "version": "3.12.0"
  }
 },
 "nbformat": 4,
 "nbformat_minor": 5
}
