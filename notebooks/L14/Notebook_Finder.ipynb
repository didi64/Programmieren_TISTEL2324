{
 "cells": [
  {
   "cell_type": "markdown",
   "id": "f30c35ae-b9de-4d93-bed3-c9b7a179fa8a",
   "metadata": {},
   "source": [
    "### Notebooks suchen\n",
    "Verschiebe den Ordner `nbf` in den Ordner `modules` in deinem Programmier-Odner (der Ordner, wo nach Moduls gesucht wird). Wenn der Ordner `nbf` dort hin verschoben wurde, kann durch Eingabe von  \n",
    "`%run -m nbf`  \n",
    "eine App gestartet werden, mit der nach Notebooks gesucht werden kann.  \n",
    "\n",
    "Die App ist zur Verwendung innerhalb des Dockercontainers gedacht.\n",
    "Ausserhalb ist die App mit\n",
    "`%run -m nbf -- up 1`  \n",
    "zu starten. Die Zahl n nach `up` gibt an, dass das n-te Elternverzeichnis durchsucht werden soll.\n",
    "\n",
    "\n",
    "<img src='notebook_finder.png'>  \n",
    "\n",
    "Im linken Fenster kann die Suche auf einen Ordner eingegrenzt werden, rechts k&ouml;nnen durch `;` getrennte Stichworte eingegeben werden. Alle Stichworte im `Alle` Feld m&uuml;ssen im zu findenden Notebook vorkommen, und\n",
    "mind. eines der Stichworte im `Manche` Feld muss im Notebook vorkommen.\n",
    "Als Resultat erh&auml;lt man eine Liste von Links auf Notebooks oder .py Files. \n",
    "Die Zahl in Klammern ist ein Score f&uuml;r die G&uuml;te des Resultates.  \n",
    "\n",
    "<img src='resultate.png'>"
   ]
  },
  {
   "cell_type": "code",
   "execution_count": null,
   "id": "3c989bf5-4c09-4771-a452-536a458411e8",
   "metadata": {},
   "outputs": [],
   "source": [
    "%run -m nbf"
   ]
  },
  {
   "cell_type": "code",
   "execution_count": null,
   "id": "85109763-ef4f-4cdd-89d2-8e269767bfdc",
   "metadata": {},
   "outputs": [],
   "source": []
  }
 ],
 "metadata": {
  "kernelspec": {
   "display_name": "Python 3 (ipykernel)",
   "language": "python",
   "name": "python3"
  },
  "language_info": {
   "codemirror_mode": {
    "name": "ipython",
    "version": 3
   },
   "file_extension": ".py",
   "mimetype": "text/x-python",
   "name": "python",
   "nbconvert_exporter": "python",
   "pygments_lexer": "ipython3",
   "version": "3.12.0"
  }
 },
 "nbformat": 4,
 "nbformat_minor": 5
}
