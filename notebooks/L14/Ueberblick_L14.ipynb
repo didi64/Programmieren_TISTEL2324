{
 "cells": [
  {
   "cell_type": "markdown",
   "id": "357c5831-fe8e-4dba-ac9a-8a61173a09f5",
   "metadata": {},
   "source": [
    "### Lektion 14, &Uuml;berblick und weitere Ressourcen\n",
    "- Ich werde mit euch eure Projektvorschl&auml;ge anschauen und euch beraten, wir ihr euer Projekt realisieren k&ouml;nnt.  \n",
    "- Wir werden ein einfaches Beispiel betrachten, dass eine M&ouml;glichkeit zeigt, das Projekt zu realisieren.\n",
    "- Wir repetieren, wie Fehlermeldungen von Callbacks in ein Output-Widget umgeleiten werden k&ouml;nnen.\n",
    "- Wir lernen, wie das Zeichnen auf die Leinwand mit `hold_canvas` beschleunigt werden kann.  \n",
    "[Doku zu `hold_canvas()`](https://ipycanvas.readthedocs.io/en/latest/basic_usage.html#optimizing-drawings).  \n"
   ]
  }
 ],
 "metadata": {
  "kernelspec": {
   "display_name": "Python 3 (ipykernel)",
   "language": "python",
   "name": "python3"
  },
  "language_info": {
   "codemirror_mode": {
    "name": "ipython",
    "version": 3
   },
   "file_extension": ".py",
   "mimetype": "text/x-python",
   "name": "python",
   "nbconvert_exporter": "python",
   "pygments_lexer": "ipython3",
   "version": "3.12.0"
  }
 },
 "nbformat": 4,
 "nbformat_minor": 5
}
