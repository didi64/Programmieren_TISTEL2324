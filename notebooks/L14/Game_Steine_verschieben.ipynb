{
 "cells": [
  {
   "cell_type": "markdown",
   "id": "36b48f7c-f8ab-4fd4-8b31-4f2059ec213e",
   "metadata": {},
   "source": [
    "### Steine auf Spielbrett verschieben\n",
    "Zwei Spieler k&ouml;nnen abwechselnd auf einem Schachbrett Steine ihrer Farbe auf ein freies Feld verschieben. Die Klasse `Game` hat folgende (Daten)-Attribute und Methoden:\n",
    "- `position`: Dictionary mit Schl&uuml;ssel 0 oder 1 (Spieler). Die Werte sind Mengen mit Feldern (Zahlen von 0-63).\n",
    "- `ptm`: Player to move (0 oder 1)\n",
    "- `move(player, src, target)`: verschiebe einen Stein von Spieler `player` vom Feld `src` auf das Feld `target`\n",
    "- `is_legal(player, src, target)`: testet, ob Zug legal  \n",
    "\n",
    "Nachdem die Methode `move` die Spielposition aktualisiert hat, ruft sie ein noch zu registrierendes Callback\n",
    "auf, mit den Argumenten `'move_stone'` und `(player, src, target)`.  \n",
    "Sp&auml;ter wird diese Callback eine Methode der `View` sein, welche den Spielzustand auf der Leinwand\n",
    "aktualisiert.\n"
   ]
  },
  {
   "cell_type": "code",
   "execution_count": 2,
   "id": "44988f7a-567a-455f-ade4-20810a3df88e",
   "metadata": {},
   "outputs": [],
   "source": [
    "class Game:\n",
    "    \n",
    "    def __init__(self):\n",
    "        self.player_name = {0: 'Rot', 1: 'Gelb'}\n",
    "        self.position = {0: set((0, 2, 4, 6)),\n",
    "                         1: set((59,)),\n",
    "                        }\n",
    "        self.ptm = 0 # player to move\n",
    "        \n",
    "    def is_legal(self, player, src, target):\n",
    "        # Spieler ist nicht am Zug\n",
    "        if player != self.ptm:\n",
    "            return False\n",
    "        # Spieler hat keinen Stein auf Feld src\n",
    "        if src not in self.position[player]:\n",
    "            return False\n",
    "        # Zielfeld kein legales Feld\n",
    "        if target < 0 or target > 63:\n",
    "            return False\n",
    "        # Zielfeld besetzt\n",
    "        if target in self.position[player]:\n",
    "            return False\n",
    "        if target in self.position[1-player]:\n",
    "            return False\n",
    "        \n",
    "        return True\n",
    "    \n",
    "    def move(self, player, src, target):  \n",
    "        if not self.is_legal(player, src, target):\n",
    "            return\n",
    "        \n",
    "        # Index src aus der Menge entfernen und target hinzufuegen\n",
    "        self.position[player].remove(src)\n",
    "        self.position[player].add(target)\n",
    "        \n",
    "        # ruft noch zu registrierendes Callback auf\n",
    "        self.callback('move_stone', (player, src, target))\n",
    "        \n",
    "        self.ptm = 1 - self.ptm\n",
    "        \n",
    "    def __repr__(self):\n",
    "        return 'Am Zug: {}\\nPosition: {}'.format(self.player_name[self.ptm], self.position)        "
   ]
  },
  {
   "cell_type": "code",
   "execution_count": 3,
   "id": "18fc8890-c769-4e81-b3c6-1616ccd546bf",
   "metadata": {},
   "outputs": [
    {
     "data": {
      "text/plain": [
       "Am Zug: Rot\n",
       "Position: {0: {0, 2, 4, 6}, 1: {59}}"
      ]
     },
     "execution_count": 3,
     "metadata": {},
     "output_type": "execute_result"
    }
   ],
   "source": [
    "# Klasse Game testen\n",
    "game = Game()\n",
    "game.callback = lambda e, d: print('Message from Callback:',  e, d)\n",
    "game"
   ]
  },
  {
   "cell_type": "code",
   "execution_count": 4,
   "id": "956f104e-e15f-4897-a14b-48dd0646278e",
   "metadata": {},
   "outputs": [
    {
     "name": "stdout",
     "output_type": "stream",
     "text": [
      "Message from Callback: move_stone (0, 0, 9)\n"
     ]
    },
    {
     "data": {
      "text/plain": [
       "Am Zug: Gelb\n",
       "Position: {0: {2, 4, 6, 9}, 1: {59}}"
      ]
     },
     "execution_count": 4,
     "metadata": {},
     "output_type": "execute_result"
    }
   ],
   "source": [
    "game.move(0, 0, 9)\n",
    "game"
   ]
  },
  {
   "cell_type": "code",
   "execution_count": 5,
   "id": "34cec831-9a23-45b3-9d26-7432ea2d5c42",
   "metadata": {},
   "outputs": [
    {
     "data": {
      "text/plain": [
       "Am Zug: Gelb\n",
       "Position: {0: {2, 4, 6, 9}, 1: {59}}"
      ]
     },
     "execution_count": 5,
     "metadata": {},
     "output_type": "execute_result"
    }
   ],
   "source": [
    "# illegaler Zug, nichts passiert\n",
    "game.move(0, 9, 10)\n",
    "game"
   ]
  },
  {
   "cell_type": "code",
   "execution_count": 6,
   "id": "8cb70fa5-bbd3-4630-af47-949f86c4b67c",
   "metadata": {},
   "outputs": [
    {
     "name": "stdout",
     "output_type": "stream",
     "text": [
      "Message from Callback: move_stone (1, 59, 52)\n"
     ]
    },
    {
     "data": {
      "text/plain": [
       "Am Zug: Rot\n",
       "Position: {0: {2, 4, 6, 9}, 1: {52}}"
      ]
     },
     "execution_count": 6,
     "metadata": {},
     "output_type": "execute_result"
    }
   ],
   "source": [
    "game.move(1, 59, 52)\n",
    "game"
   ]
  },
  {
   "cell_type": "markdown",
   "id": "94c7164c-63c9-4242-b4af-56efeda1a6ab",
   "metadata": {},
   "source": [
    "### M&ouml;gliche Erweiterung: Lasse Computer Zug ausf&uuml;hren\n",
    "Ist der Spielername eine Funktion, so wird diese Funktion mit den Argumenten \n",
    "`game.position` und `game.ptm` aufgerufen. Diese Funktion soll einen legalen Zug zur&uuml;ck geben. Im Moment gegeben wir einen zuf&auml;lligen Zug zur&uuml;ck.  \n",
    "\n",
    "Wenn wir sp&auml;ter den Zug auf der Leinwand darstellen, soll sich der Computer mit der Antwort eine Sekunde Zeit lassen.\n",
    "Dazu verwenden wir die Methode `time.sleep(1)` aus dem Modul `time`.  \n",
    "\n",
    "Um unseren Code sp&auml;ter wieder verwenden zu k&ouml;nnen, speichern wir ihn im File\n",
    "`game_steine.py` ab (Modul)."
   ]
  },
  {
   "cell_type": "code",
   "execution_count": 7,
   "id": "2710e143-0cf1-42e7-a3a2-8bcf08512785",
   "metadata": {},
   "outputs": [],
   "source": [
    "import random\n",
    "def engine(state, ptm):\n",
    "    # nicht besetzte Spielfelder\n",
    "    options = [i for i in range(64) if i not in state[0] and i not in state[1]]\n",
    "    return random.choice(list(state[ptm])), random.choice(options)"
   ]
  },
  {
   "cell_type": "code",
   "execution_count": 8,
   "id": "ff764db6-2e34-4f0a-82cc-13d061f171cf",
   "metadata": {},
   "outputs": [
    {
     "data": {
      "text/plain": [
       "Am Zug: Rot\n",
       "Position: {0: {2, 4, 6, 9}, 1: {52}}"
      ]
     },
     "execution_count": 8,
     "metadata": {},
     "output_type": "execute_result"
    }
   ],
   "source": [
    "game"
   ]
  },
  {
   "cell_type": "code",
   "execution_count": 9,
   "id": "e7f5d83a-a449-4618-9465-4b70f72fec63",
   "metadata": {},
   "outputs": [
    {
     "data": {
      "text/plain": [
       "(2, 23)"
      ]
     },
     "execution_count": 9,
     "metadata": {},
     "output_type": "execute_result"
    }
   ],
   "source": [
    "# Engine testen\n",
    "engine(game.position, 0)"
   ]
  },
  {
   "cell_type": "code",
   "execution_count": 10,
   "id": "6ad8a1d6-bc73-4e3a-9281-7ff653274dbc",
   "metadata": {},
   "outputs": [],
   "source": [
    "#%%file game_steine.py\n",
    "import time, random\n",
    "\n",
    "def engine(state, ptm):\n",
    "    # nicht besetzte Spielfelder\n",
    "    options = [i for i in range(64) if i not in state[0] and i not in state[1]]\n",
    "    return random.choice(list(state[ptm])), random.choice(options)\n",
    "\n",
    "class Game:\n",
    "    \n",
    "    def __init__(self):\n",
    "        self.player_name = {0:'Rot', 1: 'Gelb'}\n",
    "        self.position = {0: set((0, 2, 4, 6)),\n",
    "                         1: set((59,)),\n",
    "                        }\n",
    "        self.ptm = 0 # player to move\n",
    "        \n",
    "    def is_legal(self, player, src, target):\n",
    "        # Spieler ist nicht am Zug\n",
    "        if player != self.ptm:\n",
    "            return False\n",
    "        # Spieler hat keinen Stein auf Feld src\n",
    "        if src not in self.position[player]:\n",
    "            return False\n",
    "        # Zielfeld kein legales Feld\n",
    "        if target < 0 or target > 63:\n",
    "            return False\n",
    "        # Zielfeld besetzt\n",
    "        if target in self.position[player]:\n",
    "            return False\n",
    "        if target in self.position[1-player]:\n",
    "            return False\n",
    "        \n",
    "        return True\n",
    "    \n",
    "    def move(self, player, src, target):  \n",
    "        if not self.is_legal(player, src, target):\n",
    "            return\n",
    "        \n",
    "        self.position[player].remove(src)\n",
    "        self.position[player].add(target)\n",
    "        \n",
    "        # ruft noch zu registrierendes Callback auf\n",
    "        self.callback('move_stone', (player, src, target))\n",
    "        \n",
    "        self.ptm = 1 - self.ptm\n",
    "        \n",
    "        player = self.player_name[self.ptm]\n",
    "        if callable(player):\n",
    "            src, target = player(self.position, self.ptm)\n",
    "            time.sleep(1)\n",
    "            self.move(self.ptm, src, target)\n",
    "    def __repr__(self):\n",
    "        return 'Am Zug: {}\\nPosition: {}'.format(self.player_name[self.ptm], self.position)                "
   ]
  },
  {
   "cell_type": "code",
   "execution_count": 11,
   "id": "7d851ceb-eb26-44ac-84ec-74e742d06c96",
   "metadata": {},
   "outputs": [
    {
     "data": {
      "text/plain": [
       "Am Zug: Rot\n",
       "Position: {0: {0, 2, 4, 6}, 1: {59}}"
      ]
     },
     "execution_count": 11,
     "metadata": {},
     "output_type": "execute_result"
    }
   ],
   "source": [
    "game = Game()\n",
    "game.callback = lambda e, d: print('Message from Callback:',  e, d)\n",
    "game.player_name[1] = engine\n",
    "game"
   ]
  },
  {
   "cell_type": "code",
   "execution_count": 12,
   "id": "aa75c01e-c540-4ccb-97f3-935ca8f2735d",
   "metadata": {},
   "outputs": [
    {
     "name": "stdout",
     "output_type": "stream",
     "text": [
      "Message from Callback: move_stone (0, 0, 10)\n",
      "Message from Callback: move_stone (1, 59, 29)\n"
     ]
    },
    {
     "data": {
      "text/plain": [
       "Am Zug: Rot\n",
       "Position: {0: {2, 4, 6, 10}, 1: {29}}"
      ]
     },
     "execution_count": 12,
     "metadata": {},
     "output_type": "execute_result"
    }
   ],
   "source": [
    "game.move(0,0,10)\n",
    "game"
   ]
  }
 ],
 "metadata": {
  "kernelspec": {
   "display_name": "Python 3 (ipykernel)",
   "language": "python",
   "name": "python3"
  },
  "language_info": {
   "codemirror_mode": {
    "name": "ipython",
    "version": 3
   },
   "file_extension": ".py",
   "mimetype": "text/x-python",
   "name": "python",
   "nbconvert_exporter": "python",
   "pygments_lexer": "ipython3",
   "version": "3.12.0"
  }
 },
 "nbformat": 4,
 "nbformat_minor": 5
}
