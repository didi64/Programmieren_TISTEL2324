{
 "cells": [
  {
   "cell_type": "markdown",
   "id": "8dac55b2-c2f5-415a-b21c-bb0a6517a277",
   "metadata": {},
   "source": [
    "### Canvas-Widget, Optimierung mit `hold_canvas()`\n",
    "Wir z.B. mit `fill_circle` ein Punkt auf die Leinwand gemalt, so wird dieser sofort dargestellt.\n",
    "Das macht das Zeichen vieler Punkte sehr langsam.  \n",
    "Der Kontext-Manager `hold_canvas` des Moduls `ipycanvas` sorgt daf&uuml;r, dass\n",
    "alle Ausgaben  gebuffert werden, das Leinwand-Update erfolgt erst am Schluss. \n",
    "\n",
    "```python\n",
    "from ipycanvas import hold_canvas\n",
    "\n",
    "with hold_canvas():\n",
    "    zeiche viele Dinge Leinwand\n",
    "    Leinwand wird nur einmal neu gezeichnet\n",
    "    \n",
    "```\n",
    "\n",
    "[Doku zu `hold_canvas()`](https://ipycanvas.readthedocs.io/en/latest/basic_usage.html#optimizing-drawings).  \n",
    "\n",
    "Nachstehende Beispiele illustrieren die Verwendung von `hold_canvas`."
   ]
  },
  {
   "cell_type": "code",
   "execution_count": null,
   "id": "43ef8771-c308-4a26-ac3e-eb5d0a6b2479",
   "metadata": {},
   "outputs": [],
   "source": [
    "# ohne hold_canvas, langsam\n",
    "def draw_slow(canvas, color = 'red'):\n",
    "    canvas.clear()\n",
    "    canvas.fill_style = color\n",
    "    for i in range(50):\n",
    "        for j in range(50):\n",
    "            x = (i+0.5)*4\n",
    "            y = (j+0.5)*4\n",
    "            canvas.fill_circle(x, y, 2)\n",
    "\n",
    "# mit hold_canvas, schnell\n",
    "def draw_fast(canvas, color = 'red'):\n",
    "    '''platziere allen COde der auf die Leinwand zeichnet innerhalb des\n",
    "       Contexts \"with hold_canvas():\"\n",
    "    '''   \n",
    "    canvas.clear()\n",
    "    canvas.fill_style = color\n",
    "    \n",
    "    # Beachte: hold_canvas wird aufgerufen!\n",
    "    with hold_canvas():\n",
    "        for i in range(50):\n",
    "            for j in range(50):\n",
    "                x = (i+0.5)*4\n",
    "                y = (j+0.5)*4\n",
    "                canvas.fill_circle(x, y, 2)           "
   ]
  },
  {
   "cell_type": "code",
   "execution_count": null,
   "id": "16386511-284c-46bb-81e4-beb4759e6137",
   "metadata": {},
   "outputs": [],
   "source": [
    "from ipycanvas import Canvas, hold_canvas\n",
    "canvas = Canvas(width = 200, height = 200,  layout = {'border': '1px solid black'})\n",
    "canvas.fill_style = 'red'\n",
    "canvas"
   ]
  },
  {
   "cell_type": "code",
   "execution_count": null,
   "id": "975f17c7-f2b1-4b4b-a582-c3feb529bc01",
   "metadata": {},
   "outputs": [],
   "source": [
    "draw_slow(canvas, 'red')"
   ]
  },
  {
   "cell_type": "code",
   "execution_count": null,
   "id": "35ec70d5-842b-44fa-ab16-dbc83045fb25",
   "metadata": {},
   "outputs": [],
   "source": [
    "canvas.clear()"
   ]
  },
  {
   "cell_type": "code",
   "execution_count": null,
   "id": "5fc688ef-8bff-4b4a-8bc9-abe2278241db",
   "metadata": {},
   "outputs": [],
   "source": [
    "draw_fast(canvas, 'blue')"
   ]
  },
  {
   "cell_type": "code",
   "execution_count": null,
   "id": "3ab18371-1e3b-4c05-820d-d96633b586af",
   "metadata": {},
   "outputs": [],
   "source": []
  },
  {
   "cell_type": "code",
   "execution_count": null,
   "id": "f7f8f139-cafb-4bfc-b3f0-9e382f053e41",
   "metadata": {},
   "outputs": [],
   "source": [
    "# with hold_canvas mit Layers\n",
    "from ipycanvas import MultiCanvas\n",
    "mcanvas = MultiCanvas(2, width = 200, height = 200,  layout = {'border': '1px solid black'})\n",
    "fg, bg = mcanvas\n",
    "mcanvas"
   ]
  },
  {
   "cell_type": "code",
   "execution_count": null,
   "id": "d1ff2538-4e5f-460c-9f63-c141a8f6bb5d",
   "metadata": {},
   "outputs": [],
   "source": [
    "draw_fast(bg)"
   ]
  },
  {
   "cell_type": "code",
   "execution_count": null,
   "id": "44d88e4f-8b4c-4217-b31c-ac5ddd190afe",
   "metadata": {},
   "outputs": [],
   "source": [
    "draw_slow(fg, color='blue')"
   ]
  },
  {
   "cell_type": "code",
   "execution_count": null,
   "id": "f97bfc7f-b6a3-45f6-a09a-613e69cc459a",
   "metadata": {},
   "outputs": [],
   "source": [
    "mcanvas.clear()"
   ]
  },
  {
   "cell_type": "code",
   "execution_count": null,
   "id": "59e52260-9caa-4bdf-8e83-052955fff974",
   "metadata": {},
   "outputs": [],
   "source": []
  }
 ],
 "metadata": {
  "kernelspec": {
   "display_name": "Python 3 (ipykernel)",
   "language": "python",
   "name": "python3"
  },
  "language_info": {
   "codemirror_mode": {
    "name": "ipython",
    "version": 3
   },
   "file_extension": ".py",
   "mimetype": "text/x-python",
   "name": "python",
   "nbconvert_exporter": "python",
   "pygments_lexer": "ipython3",
   "version": "3.12.0"
  }
 },
 "nbformat": 4,
 "nbformat_minor": 5
}
