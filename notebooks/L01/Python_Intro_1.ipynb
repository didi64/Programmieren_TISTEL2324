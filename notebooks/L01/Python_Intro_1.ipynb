{
 "cells": [
  {
   "cell_type": "markdown",
   "id": "f5e71423-eec2-4615-8045-868efe717987",
   "metadata": {},
   "source": [
    "### Erste Schritte mit Python (Teil 1)\n",
    "- Strings und Listen\n",
    "- Der Befehl `print`\n",
    "\n",
    "  \n",
    "**Ziel** (mit Teil 2): Tabelle formatiert ausgeben.\n",
    "```\n",
    "|Vorname   |Name      |Email                         |\n",
    "------------------------------------------------------\n",
    "|Max       |Mueller   |max.mueller@gmail.com         |\n",
    "|Betty     |Bossi     |betty.bossi@gmail.com         |\n",
    "\n",
    "```"
   ]
  },
  {
   "cell_type": "markdown",
   "id": "a529a726-c6b6-43d2-b6d9-9e247d563ac3",
   "metadata": {},
   "source": [
    "### Nachtrag zu Code-Zellen\n",
    "Ist die letzte Zeile ein Pythonausdruck, dem ein Wert zugewiesen kann, wird dieser ausgegeben.\n",
    "Jupyterlab verwendet dazu eine Funktion `display`, die &auml;hnlichen Output produziert wie `print`.  \n",
    "\n",
    "**Untersuche**:  \n",
    "Wie unterscheiden sich `display` und `print` bei der Ausgabe von Strings?  \n",
    "```python\n",
    "display('hallo')    \n",
    "print('hallo')\n",
    "```"
   ]
  },
  {
   "cell_type": "code",
   "execution_count": null,
   "id": "52f37c97-d836-4533-b515-80dc51289586",
   "metadata": {},
   "outputs": [],
   "source": [
    "1+2"
   ]
  },
  {
   "cell_type": "code",
   "execution_count": null,
   "id": "71f10a6c-1217-4429-b4f2-5b2b0fab2f13",
   "metadata": {},
   "outputs": [],
   "source": [
    "'Hallo'"
   ]
  },
  {
   "cell_type": "markdown",
   "id": "c7eaa370-d778-4cfe-ba50-cbe5765dcf13",
   "metadata": {},
   "source": [
    "### Strings\n",
    "Ein String ist eine Folge von Zeichen.  Z.B. mit\n",
    "- `'hallo' `\n",
    "- `\"hallo\"`  \n",
    "\n",
    "kann ein String erzeugt werden. Ich bevorzuge single quotes `'` gegen&uuml;ber `\"`.  \n",
    "Beide Varianten erzeugen das gleiche String-Objekt.\n",
    "\n",
    "Nicht direkt darstellbare Zeichen:  \n",
    "- `\\n` newline (Zeilenumbruch)\n",
    "- `\\t` Tabulator\n",
    "- `\\r` (Carriage return) Cursor kehrt an den Anfang der Zeile zur\\\"uck, keine neue Zeile\n",
    "- `\\'` und `\\\"` sind Anf&uuml;hrungszeichen\n",
    "\n",
    "**Operationen** auf Stings:  \n",
    "- `len(s)` liefert die L&auml;nge eines Strings\n",
    "- `s + t` h&auml;ngt zwei Strings aneinander\n",
    "- `3 * s` verdreifacht den String"
   ]
  },
  {
   "cell_type": "code",
   "execution_count": null,
   "id": "3fbb11c7-de6a-471b-9fa9-cf7d4c49b5d6",
   "metadata": {},
   "outputs": [],
   "source": [
    "print(\"Hallo\")"
   ]
  },
  {
   "cell_type": "code",
   "execution_count": null,
   "id": "5f55912a-8a3e-476a-b76e-69a6da655141",
   "metadata": {},
   "outputs": [],
   "source": [
    "print('foo\\tbar\\nneue Zeile\\nI\\'am fine')"
   ]
  },
  {
   "cell_type": "code",
   "execution_count": null,
   "id": "d4d7854c-f00e-49fa-914c-9804696470ec",
   "metadata": {},
   "outputs": [],
   "source": [
    "print('123456789\\rabc')"
   ]
  },
  {
   "cell_type": "code",
   "execution_count": null,
   "id": "cb1d64c2-45fb-4855-a75d-a2ddc0be8cea",
   "metadata": {},
   "outputs": [],
   "source": [
    "'hallo, ' + 'world'"
   ]
  },
  {
   "cell_type": "code",
   "execution_count": null,
   "id": "b5faa3c8-c2b3-42d8-b108-489128635851",
   "metadata": {},
   "outputs": [],
   "source": [
    "80 * '-'"
   ]
  },
  {
   "cell_type": "markdown",
   "id": "cabfb542-6337-43a4-bcb2-e21bbd4561e0",
   "metadata": {},
   "source": [
    "### Listen\n",
    "Eine Liste ist eine Folge von Objekten.  \n",
    "`['foo', 'bar', 'baz']` erzeugt eine Liste von Strings.  \n",
    "Die Funktion `len` liefert die L&auml;nge einer Liste.  \n",
    "Listen kann man addieren (aneinanderh&auml;ngen)."
   ]
  },
  {
   "cell_type": "code",
   "execution_count": null,
   "id": "b616e993-09fc-4b89-8432-105bc0878fa4",
   "metadata": {},
   "outputs": [],
   "source": [
    "['foo', 'bar', 'baz']"
   ]
  },
  {
   "cell_type": "code",
   "execution_count": null,
   "id": "c41bfb3a-05f0-494f-a5c7-311015de2ea7",
   "metadata": {},
   "outputs": [],
   "source": [
    "len(['foo', 'bar', 'baz'])"
   ]
  },
  {
   "cell_type": "code",
   "execution_count": null,
   "id": "058909aa-e64e-48a7-99f5-01789329412b",
   "metadata": {},
   "outputs": [],
   "source": [
    "['foo', 'bar'] + ['baz']"
   ]
  },
  {
   "cell_type": "markdown",
   "id": "4d6edb78-9ab9-4bb6-840c-d958c8db9fa1",
   "metadata": {},
   "source": [
    "### Variablen\n",
    "Variabelnamen beginnen mit einem Buchstaben.  \n",
    "Variabelnamen bestehen aus Buchstaben, Zahlen und `_`.  \n",
    "Variabeln kann man Objekte zuweisen."
   ]
  },
  {
   "cell_type": "code",
   "execution_count": null,
   "id": "66e7dba8-0bbf-4837-9d82-fc37c23fa652",
   "metadata": {},
   "outputs": [],
   "source": [
    "vorname = 'Max'\n",
    "name = 'Muster'\n",
    "lst = ['Max', 'Muster']"
   ]
  },
  {
   "cell_type": "code",
   "execution_count": null,
   "id": "07a98143-0675-4766-863f-1b1717f5276f",
   "metadata": {},
   "outputs": [],
   "source": [
    "name"
   ]
  },
  {
   "cell_type": "code",
   "execution_count": null,
   "id": "86cd3540-61cc-476b-8ae8-423145d51240",
   "metadata": {},
   "outputs": [],
   "source": [
    "lst"
   ]
  },
  {
   "cell_type": "code",
   "execution_count": null,
   "id": "43ee659c-f3d0-4b02-8444-a8c08ecab106",
   "metadata": {},
   "outputs": [],
   "source": [
    "print(name)"
   ]
  },
  {
   "cell_type": "markdown",
   "id": "b093e3bc-9801-4c9e-84e4-1a22d88987b1",
   "metadata": {},
   "source": [
    "### Der Hilfstext zu `print`\n",
    "`print(value, ..., sep=' ', end='\\n', file=sys.stdout, flush=False)`\n",
    "\n",
    "- `print(value, ...)` zeigt an, dass der Funktion ein der mehrere Argumente &uuml;bergeben werden k&ouml;nnen. Das erste Argument ist obligatorisch.  \n",
    "- `sep=' '`,... listet die optionalen Keyword-Argumente auf.  \n",
    "  Die Defaultwerte sind angezeigt: \n",
    "  - Es wird `' '` als Trennzeichen (separator) verwendet,  \n",
    "  - am Schluss wird auf eine neue Zeile gesprungen (`'\\n'`)\n",
    "  - die Ausgabe wird nach sys.stdout geschickt (Standard Ausgabe), Jupyterlab leitet das dann ins Notebook weiter.\n",
    "  - `flush=False` heisst, dass die Ausgabe zuerst in einem Buffer aggregiert wird, und bei Gelegenheit ausgegeben wird.\n",
    "  \n",
    "Um zu sehen was `sys.stdout` ist importieren wir das Modul `sys` und lassen uns dann den Hilfstext zu `sys.stdout` anzeigen.  "
   ]
  },
  {
   "cell_type": "code",
   "execution_count": null,
   "id": "b9a5f01d-c664-41f9-9e0f-762a0265ff6b",
   "metadata": {},
   "outputs": [],
   "source": [
    "import sys"
   ]
  },
  {
   "cell_type": "code",
   "execution_count": null,
   "id": "20908fa9-32f8-4922-9607-569d59062574",
   "metadata": {},
   "outputs": [],
   "source": [
    "sys.std # plaziere den Cursor an Ende von sys.std und druecke tab (autocomplete)"
   ]
  },
  {
   "cell_type": "code",
   "execution_count": null,
   "id": "0b7ca4ff-8eae-4038-9603-27bb3b2a230e",
   "metadata": {},
   "outputs": [],
   "source": [
    "sys.stdout "
   ]
  },
  {
   "cell_type": "code",
   "execution_count": null,
   "id": "dced760d-5b0b-4e63-83e3-e8b270b219c4",
   "metadata": {},
   "outputs": [],
   "source": [
    "print('Eine Fehlermeldung!', file=sys.stderr)"
   ]
  },
  {
   "cell_type": "code",
   "execution_count": null,
   "id": "c81497dd-2643-484b-a5b3-8d3baf1e866c",
   "metadata": {
    "scrolled": true,
    "tags": []
   },
   "outputs": [],
   "source": [
    "# soll Einfluss von flush illustrieren\n",
    "import time\n",
    "flush = True # setze flush = False, was aendert?\n",
    "lauttext = '*** HALLO, WELT! ***'\n",
    "text = ' {} '.format(lauttext)\n",
    "\n",
    "for _ in range(5):\n",
    "    for i in range(50):\n",
    "        print(text, end = '', flush = flush)\n",
    "        time.sleep(1/25)\n",
    "        print('\\r{}'.format(' ' * i), end = '')  \n",
    "        \n",
    "    for i in range(50,-1,-1):\n",
    "        print(text, end = '', flush = flush)\n",
    "        time.sleep(1/25)\n",
    "        print('\\r{}'.format(' ' * i), end = '')    "
   ]
  },
  {
   "cell_type": "markdown",
   "id": "6f206f5a-ee84-4580-a57d-a579793a7ffc",
   "metadata": {},
   "source": [
    "### Sage den Output vorher und schaue ob du richtig lagst"
   ]
  },
  {
   "cell_type": "code",
   "execution_count": null,
   "id": "205b99f9-12f8-4cdf-9017-b337f6846668",
   "metadata": {},
   "outputs": [],
   "source": [
    "print('hello',  'world')"
   ]
  },
  {
   "cell_type": "code",
   "execution_count": null,
   "id": "efa573e5-fd44-4470-9e6e-01eb90ff2543",
   "metadata": {},
   "outputs": [],
   "source": [
    "print('hello',  'world', sep='\\n')"
   ]
  },
  {
   "cell_type": "code",
   "execution_count": null,
   "id": "093e4cb6-3616-4549-83c3-66866fc405ef",
   "metadata": {},
   "outputs": [],
   "source": [
    "print(1, 2, 3)\n",
    "print(4, 5, 6)"
   ]
  },
  {
   "cell_type": "code",
   "execution_count": null,
   "id": "5ee38618-750e-4c80-887a-f363b979e8e8",
   "metadata": {},
   "outputs": [],
   "source": [
    "print(1, 2, 3, end = ', ')\n",
    "print(4, 5, 6)"
   ]
  },
  {
   "cell_type": "code",
   "execution_count": null,
   "id": "b0648060-1856-4d78-aad9-90c896ac8695",
   "metadata": {},
   "outputs": [],
   "source": [
    "print(1, 2, 3, end = ' ')\n",
    "print(4, 5, 6)"
   ]
  },
  {
   "cell_type": "code",
   "execution_count": null,
   "id": "73233123-7262-46f1-adf9-7f75f56b2d54",
   "metadata": {},
   "outputs": [],
   "source": [
    "print(1, 2, 3, sep= ', ', end = ', ')\n",
    "print(4, 5, 6, sep= ', ', end = ' ')"
   ]
  },
  {
   "cell_type": "code",
   "execution_count": null,
   "id": "ab8e906d-cb92-4b49-94ad-3dc05b00c21a",
   "metadata": {},
   "outputs": [],
   "source": [
    "print(1, 2, 3, end = ', ')\n",
    "print(4, 5, 6)"
   ]
  },
  {
   "cell_type": "code",
   "execution_count": null,
   "id": "0b290b7a-d543-404d-80a9-30af22b723bb",
   "metadata": {},
   "outputs": [],
   "source": [
    "print(1, 2, 3, end = ' ')\n",
    "print(4, 5, 6)"
   ]
  },
  {
   "cell_type": "code",
   "execution_count": null,
   "id": "ad62c42a-8b84-4113-a543-920d54685ae3",
   "metadata": {},
   "outputs": [],
   "source": [
    "print(1, 2, 3, sep= ', ', end = ', ')\n",
    "print(4, 5, 6, sep= ', ', end = ' ')"
   ]
  }
 ],
 "metadata": {
  "author": "dieter.probst@gmail.com",
  "kernelspec": {
   "display_name": "Python 3 (ipykernel)",
   "language": "python",
   "name": "python3"
  },
  "language_info": {
   "codemirror_mode": {
    "name": "ipython",
    "version": 3
   },
   "file_extension": ".py",
   "mimetype": "text/x-python",
   "name": "python",
   "nbconvert_exporter": "python",
   "pygments_lexer": "ipython3",
   "version": "3.12.0"
  }
 },
 "nbformat": 4,
 "nbformat_minor": 5
}
