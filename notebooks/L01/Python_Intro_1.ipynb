{
 "cells": [
  {
   "cell_type": "markdown",
   "id": "f5e71423-eec2-4615-8045-868efe717987",
   "metadata": {},
   "source": [
    "### Erste Schritte mit Python (Teil 1)\n",
    "- Strings und Listen\n",
    "- Der Befehl `print`\n",
    "\n",
    "  \n",
    "**Ziel** (mit Teil 2): Tabelle formatiert ausgeben.\n",
    "```\n",
    "|Vorname   |Name      |Email                         |\n",
    "------------------------------------------------------\n",
    "|Max       |Mueller   |max.mueller@gmail.com         |\n",
    "|Betty     |Bossi     |betty.bossi@gmail.com         |\n",
    "\n",
    "```"
   ]
  },
  {
   "cell_type": "markdown",
   "id": "a529a726-c6b6-43d2-b6d9-9e247d563ac3",
   "metadata": {},
   "source": [
    "### Nachtrag zu Code-Zellen\n",
    "Ist die letzte Zeile ein Pythonausdruck, dem ein Wert zugewiesen kann, wird dieser ausgegeben.\n",
    "Jupyterlab verwendet dazu eine Funktion `display`, die &auml;hnlichen Output produziert wie `print`.  \n",
    "\n",
    "**Untersuche**:  \n",
    "Wie unterscheiden sich `display` und `print` bei der Ausgabe von Strings?  \n",
    "```python\n",
    "display('hallo')    \n",
    "print('hallo')\n",
    "```"
   ]
  },
  {
   "cell_type": "code",
   "execution_count": null,
   "id": "52f37c97-d836-4533-b515-80dc51289586",
   "metadata": {},
   "outputs": [],
   "source": [
    "1+2"
   ]
  },
  {
   "cell_type": "code",
   "execution_count": null,
   "id": "71f10a6c-1217-4429-b4f2-5b2b0fab2f13",
   "metadata": {},
   "outputs": [],
   "source": [
    "'Hallo'"
   ]
  },
  {
   "cell_type": "markdown",
   "id": "c7eaa370-d778-4cfe-ba50-cbe5765dcf13",
   "metadata": {},
   "source": [
    "### Strings\n",
    "Ein String ist eine Folge von Zeichen.  Z.B. mit\n",
    "- `'hallo' `\n",
    "- `\"hallo\"`  \n",
    "\n",
    "kann ein String erzeugt werden. Ich bevorzuge single quotes `'` gegen&uuml;ber `\"`.  \n",
    "Beide Varianten erzeugen das gleiche String-Objekt.\n",
    "\n",
    "Nicht direkt darstellbare Zeichen:  \n",
    "- `\\n` newline (Zeilenumbruch)\n",
    "- `\\t` Tabulator\n",
    "- `\\r` (Carriage return) Cursor kehrt an den ANfang der Zeile zur\\\"uck, keine neue Zeile\n",
    "- `\\'` und `\\\"` sind Anf&uuml;hrungszeichen\n",
    "\n",
    "**Operationen** auf Stings:  \n",
    "- `len(s)` liefert die L\\\"ange eines Strings\n",
    "- `s + t` h&auml;ngt zwei Strings aneinander\n",
    "- `3 * s` verdreifacht den String"
   ]
  },
  {
   "cell_type": "code",
   "execution_count": null,
   "id": "5f55912a-8a3e-476a-b76e-69a6da655141",
   "metadata": {},
   "outputs": [],
   "source": [
    "print('foo\\tbar\\nneue Zeile\\nI\\'am fine')"
   ]
  },
  {
   "cell_type": "code",
   "execution_count": null,
   "id": "d4d7854c-f00e-49fa-914c-9804696470ec",
   "metadata": {},
   "outputs": [],
   "source": [
    "print('123456789\\rabc')"
   ]
  },
  {
   "cell_type": "code",
   "execution_count": null,
   "id": "cb1d64c2-45fb-4855-a75d-a2ddc0be8cea",
   "metadata": {},
   "outputs": [],
   "source": [
    "'hallo, ' + 'world'"
   ]
  },
  {
   "cell_type": "code",
   "execution_count": null,
   "id": "b5faa3c8-c2b3-42d8-b108-489128635851",
   "metadata": {},
   "outputs": [],
   "source": [
    "80 * '-'"
   ]
  },
  {
   "cell_type": "markdown",
   "id": "cabfb542-6337-43a4-bcb2-e21bbd4561e0",
   "metadata": {},
   "source": [
    "### Listen\n",
    "Eine Liste ist eine Folge von Objekten.  \n",
    "`['foo', 'bar', 'baz']` erzeugt eine Liste von Strings.  \n",
    "Die Funktion `len` liefert die L&auml;nge einer Liste.  \n",
    "Listen kann man addieren (aneinanderh&auml;ngen)."
   ]
  },
  {
   "cell_type": "code",
   "execution_count": null,
   "id": "c41bfb3a-05f0-494f-a5c7-311015de2ea7",
   "metadata": {},
   "outputs": [],
   "source": [
    "len(['foo', 'bar', 'baz'])"
   ]
  },
  {
   "cell_type": "code",
   "execution_count": null,
   "id": "058909aa-e64e-48a7-99f5-01789329412b",
   "metadata": {},
   "outputs": [],
   "source": [
    "['foo', 'bar'] + ['baz']"
   ]
  },
  {
   "cell_type": "markdown",
   "id": "4d6edb78-9ab9-4bb6-840c-d958c8db9fa1",
   "metadata": {},
   "source": [
    "### Variablen\n",
    "Variabelnamen beginnen mit einem Buchstaben.  \n",
    "Variabelnamen bestehen aus Buchstaben, Zahlen und `_`.  \n",
    "Variabeln kann man Objekte zuweisen."
   ]
  },
  {
   "cell_type": "code",
   "execution_count": null,
   "id": "66e7dba8-0bbf-4837-9d82-fc37c23fa652",
   "metadata": {},
   "outputs": [],
   "source": [
    "vorname = 'Max'\n",
    "name = 'Muster'\n",
    "lst = ['Max', 'Muster']"
   ]
  },
  {
   "cell_type": "code",
   "execution_count": null,
   "id": "07a98143-0675-4766-863f-1b1717f5276f",
   "metadata": {},
   "outputs": [],
   "source": [
    "name"
   ]
  },
  {
   "cell_type": "code",
   "execution_count": null,
   "id": "86cd3540-61cc-476b-8ae8-423145d51240",
   "metadata": {},
   "outputs": [],
   "source": [
    "lst"
   ]
  },
  {
   "cell_type": "markdown",
   "id": "b093e3bc-9801-4c9e-84e4-1a22d88987b1",
   "metadata": {},
   "source": [
    "### Der Hilfstext zu `print`\n",
    "`print(value, ..., sep=' ', end='\\n', file=sys.stdout, flush=False)`\n",
    "\n",
    "- `print(value, ...)` zeigt an, dass der Funktion ein der mehrere Argumente &uuml;bergeben werden k&ouml;nnen. Das erste Argument ist obligatorisch.  \n",
    "- `sep=' '`,... listet die optionalen Keyword-Argumente auf.  \n",
    "  Die Defaultwerte sind angezeigt: \n",
    "  - Es wird `' '` als Trennzeichen (separator) verwendet,  \n",
    "  - am Schluss wird auf eine neue Zeile gesprungen (`'\\n'`)\n",
    "  - die Ausgabe wird nach sys.stdout geschickt (Standard Ausgabe), Jupyterlab leitet das dann ins Notebook weiter.\n",
    "  - `flush=False` heisst, dass die Ausgabe zuerst in einem Buffer aggregiert wird, und bei Gelegenheit ausgegeben wird.\n",
    "  \n",
    "Um zu sehen was `sys.stdout` ist importieren wir das Modul `sys` und lassen uns dann den Hilfstext zu `sys.stdout` anzeigen.  "
   ]
  },
  {
   "cell_type": "code",
   "execution_count": null,
   "id": "e01567f2-9f87-4972-98a0-72c6b3c054cc",
   "metadata": {},
   "outputs": [],
   "source": [
    "print"
   ]
  },
  {
   "cell_type": "code",
   "execution_count": null,
   "id": "b9a5f01d-c664-41f9-9e0f-762a0265ff6b",
   "metadata": {},
   "outputs": [],
   "source": [
    "import sys"
   ]
  },
  {
   "cell_type": "code",
   "execution_count": null,
   "id": "0b7ca4ff-8eae-4038-9603-27bb3b2a230e",
   "metadata": {},
   "outputs": [],
   "source": [
    "sys.stdout # plaziere den Cursor an Ende von sys.std und druecke tab (autocomplete)"
   ]
  },
  {
   "cell_type": "code",
   "execution_count": null,
   "id": "f46b316d-31e2-4aa7-9004-29f82d738682",
   "metadata": {},
   "outputs": [],
   "source": [
    "print"
   ]
  },
  {
   "cell_type": "code",
   "execution_count": null,
   "id": "dced760d-5b0b-4e63-83e3-e8b270b219c4",
   "metadata": {},
   "outputs": [],
   "source": [
    "print('Eine Fehlermeldung!', file=sys.stderr)"
   ]
  },
  {
   "cell_type": "code",
   "execution_count": null,
   "id": "c81497dd-2643-484b-a5b3-8d3baf1e866c",
   "metadata": {
    "scrolled": true,
    "tags": []
   },
   "outputs": [],
   "source": [
    "import time\n",
    "flush = True #\n",
    "lauttext = '*** HALLO, WELT! ***'\n",
    "text = ' {} '.format(lauttext)\n",
    "\n",
    "for _ in range(5):\n",
    "    for i in range(50):\n",
    "        print(text, end = '', flush = flush)\n",
    "        time.sleep(1/25)\n",
    "        print('\\r{}'.format(' ' * i), end = '')  \n",
    "        \n",
    "    for i in range(50,-1,-1):\n",
    "        print(text, end = '', flush = flush)\n",
    "        time.sleep(1/25)\n",
    "        print('\\r{}'.format(' ' * i), end = '')    "
   ]
  },
  {
   "cell_type": "markdown",
   "id": "6f206f5a-ee84-4580-a57d-a579793a7ffc",
   "metadata": {},
   "source": [
    "### Sage den Output vorher und schaue ob du richtig lagst"
   ]
  },
  {
   "cell_type": "code",
   "execution_count": null,
   "id": "205b99f9-12f8-4cdf-9017-b337f6846668",
   "metadata": {},
   "outputs": [],
   "source": [
    "print('hello',  'world')"
   ]
  },
  {
   "cell_type": "code",
   "execution_count": null,
   "id": "efa573e5-fd44-4470-9e6e-01eb90ff2543",
   "metadata": {},
   "outputs": [],
   "source": [
    "print('hello',  'world')"
   ]
  },
  {
   "cell_type": "code",
   "execution_count": null,
   "id": "093e4cb6-3616-4549-83c3-66866fc405ef",
   "metadata": {},
   "outputs": [],
   "source": [
    "print(1, 2, 3)\n",
    "print(4, 5, 6)"
   ]
  },
  {
   "cell_type": "code",
   "execution_count": null,
   "id": "5ee38618-750e-4c80-887a-f363b979e8e8",
   "metadata": {},
   "outputs": [],
   "source": [
    "print(1, 2, 3, end = ', ')\n",
    "print(4, 5, 6)"
   ]
  },
  {
   "cell_type": "code",
   "execution_count": null,
   "id": "b0648060-1856-4d78-aad9-90c896ac8695",
   "metadata": {},
   "outputs": [],
   "source": [
    "print(1, 2, 3, end = ' ')\n",
    "print(4, 5, 6)"
   ]
  },
  {
   "cell_type": "code",
   "execution_count": null,
   "id": "73233123-7262-46f1-adf9-7f75f56b2d54",
   "metadata": {},
   "outputs": [],
   "source": [
    "print(1, 2, 3, sep= ', ', end = ', ')\n",
    "print(4, 5, 6, sep= ', ', end = ' ')"
   ]
  },
  {
   "cell_type": "code",
   "execution_count": null,
   "id": "ab8e906d-cb92-4b49-94ad-3dc05b00c21a",
   "metadata": {},
   "outputs": [],
   "source": [
    "print(1, 2, 3, end = ', ')\n",
    "print(4, 5, 6)"
   ]
  },
  {
   "cell_type": "code",
   "execution_count": null,
   "id": "0b290b7a-d543-404d-80a9-30af22b723bb",
   "metadata": {},
   "outputs": [],
   "source": [
    "print(1, 2, 3, end = ' ')\n",
    "print(4, 5, 6)"
   ]
  },
  {
   "cell_type": "code",
   "execution_count": null,
   "id": "ad62c42a-8b84-4113-a543-920d54685ae3",
   "metadata": {},
   "outputs": [],
   "source": [
    "print(1, 2, 3, sep= ', ', end = ', ')\n",
    "print(4, 5, 6, sep= ', ', end = ' ')"
   ]
  },
  {
   "cell_type": "code",
   "execution_count": null,
   "id": "4457efaa-a431-4c34-bffc-2bcc7195d5c7",
   "metadata": {},
   "outputs": [],
   "source": []
  },
  {
   "cell_type": "code",
   "execution_count": null,
   "id": "b4e1d00b-f048-4149-ace4-614cd2c6519f",
   "metadata": {},
   "outputs": [],
   "source": []
  },
  {
   "cell_type": "code",
   "execution_count": null,
   "id": "1344ae15-2d20-4f6a-b4bb-a3e9ccf2fa92",
   "metadata": {},
   "outputs": [],
   "source": []
  },
  {
   "cell_type": "code",
   "execution_count": null,
   "id": "7b55b145-1d88-4851-9eb2-69b9777853cc",
   "metadata": {},
   "outputs": [],
   "source": [
    "'-' * 80"
   ]
  },
  {
   "cell_type": "code",
   "execution_count": null,
   "id": "c682af9a-27da-44f5-89e8-aa709f7ccb80",
   "metadata": {},
   "outputs": [],
   "source": [
    "'hello,' + 'world'"
   ]
  },
  {
   "cell_type": "code",
   "execution_count": null,
   "id": "e89b6d13-04c3-4dd3-9dea-f91b77beedb3",
   "metadata": {},
   "outputs": [],
   "source": [
    "Listen ['hallo', 'welt', 'foo', 'bar']"
   ]
  },
  {
   "cell_type": "code",
   "execution_count": null,
   "id": "db2da006-d33e-4406-9383-59d0dc1113bd",
   "metadata": {},
   "outputs": [],
   "source": [
    "len(['hallo', 'welt', 'foo', 'bar'])"
   ]
  },
  {
   "cell_type": "code",
   "execution_count": null,
   "id": "68a92ed8-18ca-4138-8528-85906fb7ebd9",
   "metadata": {},
   "outputs": [],
   "source": [
    "['hallo', 'welt'] +  ['foo', 'bar']"
   ]
  },
  {
   "cell_type": "code",
   "execution_count": null,
   "id": "cde47310-1e06-4b57-b1c3-1ed9e7335ad6",
   "metadata": {},
   "outputs": [],
   "source": [
    "# variabaln\n",
    "message = 'hallo world'\n",
    "words = ['hallo', 'welt', 'foo', 'bar']"
   ]
  },
  {
   "cell_type": "code",
   "execution_count": null,
   "id": "e57b7048-2be3-4ebe-b7f4-df77c7dd0849",
   "metadata": {},
   "outputs": [],
   "source": [
    "# end einfuegen als aufgabe\n",
    "for word in ['hallo', 'welt', 'foo', 'bar']:\n",
    "    print(word, end = ', ')"
   ]
  },
  {
   "cell_type": "code",
   "execution_count": null,
   "id": "34560a31-0436-45d8-a9a3-fc180c14c2bb",
   "metadata": {},
   "outputs": [],
   "source": [
    "for word in words:\n",
    "    print(word, end = ', ')"
   ]
  },
  {
   "cell_type": "code",
   "execution_count": null,
   "id": "a92a067d-be08-419d-8112-232414e48b3c",
   "metadata": {},
   "outputs": [],
   "source": [
    "# beginnen beim zaehlen bei 0\n",
    "for i in [0,1,2]:\n",
    "    print(i, end = ', ')"
   ]
  },
  {
   "cell_type": "code",
   "execution_count": null,
   "id": "02339f59-af65-4554-9c98-a8190ccd76bd",
   "metadata": {},
   "outputs": [],
   "source": [
    "# besser als liste,\n",
    "# liste erstellen ist teier fallslsite lang\n",
    "# elemente auf demand liefern\n",
    "for i in range(1_000_000_000):\n",
    "    print(i, end = ', ')\n",
    "    if i>3:\n",
    "        break"
   ]
  },
  {
   "cell_type": "code",
   "execution_count": null,
   "id": "7f0511e5-b6e7-4a48-8f6f-39e895b40711",
   "metadata": {},
   "outputs": [],
   "source": [
    "for i in range(5):\n",
    "    print(i, end = ', ')"
   ]
  },
  {
   "cell_type": "code",
   "execution_count": null,
   "id": "8db35599-fa45-4a43-ba6f-777e026b31c3",
   "metadata": {},
   "outputs": [],
   "source": [
    "wieder datan\n"
   ]
  },
  {
   "cell_type": "code",
   "execution_count": null,
   "id": "47965b20-8e00-464b-83b1-08da4b7a896b",
   "metadata": {},
   "outputs": [],
   "source": []
  },
  {
   "cell_type": "code",
   "execution_count": null,
   "id": "fa2fb7b4-48c8-40f3-94ca-1abebab42bd9",
   "metadata": {},
   "outputs": [],
   "source": [
    "# tabelle\n",
    "[ [0,1,2],\n",
    "  [3,4,5], \n",
    "  [6,7,8],\n",
    "]"
   ]
  },
  {
   "cell_type": "code",
   "execution_count": null,
   "id": "24d0869f-f283-4f29-8f68-eb61bd640d98",
   "metadata": {},
   "outputs": [],
   "source": [
    "# tabelle (Liste von Listen)\n",
    "[['Name','Vorname','E-Mail-Adresse'],\n",
    " ['Max', 'Munter', 'max.muster@xmail.com'],\n",
    " ['Fabi', 'Froehlich' 'fabi.froehlich@imail.com'],\n",
    "]\n",
    " "
   ]
  },
  {
   "cell_type": "code",
   "execution_count": null,
   "id": "546502a8-a4d8-4940-bf64-dd8fe2ee0bdc",
   "metadata": {},
   "outputs": [],
   "source": []
  },
  {
   "cell_type": "code",
   "execution_count": null,
   "id": "32287e7a-c89f-47d3-a8f1-40779f7c9171",
   "metadata": {},
   "outputs": [],
   "source": [
    "'Name: {}, Vorname: {}'.format('Max', 'Munter')\n"
   ]
  },
  {
   "cell_type": "code",
   "execution_count": null,
   "id": "b064e500-95b2-4f49-8d97-5b2dcc15e42e",
   "metadata": {},
   "outputs": [],
   "source": [
    "fabi = ['Fabi', 'Froehlich']\n"
   ]
  },
  {
   "cell_type": "code",
   "execution_count": null,
   "id": "6835f455-f1c5-4080-a3fe-bcbfedaf152a",
   "metadata": {},
   "outputs": [],
   "source": [
    "'Name: {}, Vorname: {}'.format(['Fabi', 'Froehlich'])"
   ]
  },
  {
   "cell_type": "code",
   "execution_count": null,
   "id": "e2b88147-9a62-4b3b-b287-09ef3a2112e4",
   "metadata": {},
   "outputs": [],
   "source": [
    "'{}{}'.format(['foo', 'bar'],[1, 2])"
   ]
  },
  {
   "cell_type": "code",
   "execution_count": null,
   "id": "e557dc3b-20f4-443a-b49d-2044e935fd09",
   "metadata": {},
   "outputs": [],
   "source": [
    "'{}, {}'.format(['foo', 'bar'])"
   ]
  },
  {
   "cell_type": "code",
   "execution_count": null,
   "id": "e2f932d2-b038-438b-b6d6-728227c39269",
   "metadata": {},
   "outputs": [],
   "source": [
    "# Unpacking\n",
    "'Name: {}, Vorname: {}'.format(*['Fabi', 'Froehlich'])"
   ]
  },
  {
   "cell_type": "code",
   "execution_count": null,
   "id": "c12f50da-fb52-48cb-b920-94c184505d58",
   "metadata": {},
   "outputs": [],
   "source": [
    "# Formatierung"
   ]
  },
  {
   "cell_type": "code",
   "execution_count": null,
   "id": "226890a8-fb55-4db3-9623-a8a11589235e",
   "metadata": {},
   "outputs": [],
   "source": [
    "foo_bar = 'foo: {:<10}'.format('bar')"
   ]
  },
  {
   "cell_type": "code",
   "execution_count": null,
   "id": "20b99e5a-10e9-44e5-872c-ad269fd6eaf7",
   "metadata": {},
   "outputs": [],
   "source": [
    "foo__b_a_r = 'foo: {:<10}'.format('b a r ')\n",
    "foo__b_a_r "
   ]
  },
  {
   "cell_type": "code",
   "execution_count": null,
   "id": "59aaee7a-0ae5-439e-9667-87f919f6195a",
   "metadata": {},
   "outputs": [],
   "source": [
    "# aufgabevariabeln definieren, in den obigen beiden aellen arbeiten"
   ]
  },
  {
   "cell_type": "code",
   "execution_count": null,
   "id": "1f59ccd4-18a3-4660-adfa-a9c3119329e7",
   "metadata": {},
   "outputs": [],
   "source": [
    "print(foo_bar, 0)\n",
    "print(foo__b_a_r, 0)"
   ]
  },
  {
   "cell_type": "code",
   "execution_count": null,
   "id": "7c7fe8d5-b14f-4ca4-aa41-4809578890a1",
   "metadata": {},
   "outputs": [],
   "source": []
  },
  {
   "cell_type": "code",
   "execution_count": null,
   "id": "a2a7c62c-0161-4bba-8a3e-b55e8c7f22fe",
   "metadata": {},
   "outputs": [],
   "source": [
    "cols = ['Vorname', 'Name', 'Email']\n",
    "\n",
    "lines = [['Max', 'Mueller', 'max.mueller@gmail.com'],\n",
    "         ['Betty', 'Bossy', 'betty.bossi@gmail.com'],\n",
    "        ] \n",
    "\n",
    "fstring= '|{:<10}|{:<10}|{:<30}|'"
   ]
  },
  {
   "cell_type": "code",
   "execution_count": null,
   "id": "5fc65e0c-f95d-41ee-a458-66a45b48469f",
   "metadata": {},
   "outputs": [],
   "source": [
    "header = fstring.format(*cols)\n",
    "header"
   ]
  },
  {
   "cell_type": "code",
   "execution_count": null,
   "id": "55e27078-6939-472d-98cd-21eb92d3f4c4",
   "metadata": {},
   "outputs": [],
   "source": [
    "header = fstring.format(*cols)\n",
    "len_header = len(header)\n",
    "\n",
    "print(fstring.format(*cols))\n",
    "print('-' * len_header)\n",
    "\n",
    "for line in lines:\n",
    "    print(fstring.format(*line))"
   ]
  },
  {
   "cell_type": "code",
   "execution_count": null,
   "id": "378b71b2-55b7-4554-82e5-1f6fb9301549",
   "metadata": {},
   "outputs": [],
   "source": []
  },
  {
   "cell_type": "code",
   "execution_count": null,
   "id": "522e7457-4d9e-4fa2-a86c-377ac9122684",
   "metadata": {},
   "outputs": [],
   "source": [
    "def print_table(fstring, cols, lines):\n",
    "    header = fstring.format(*cols)\n",
    "    len_header = len(header)\n",
    "    \n",
    "    print(fstring.format(*cols))\n",
    "    print('-' * len_header)\n",
    "    \n",
    "    for line in lines:\n",
    "        print(fstring.format(*line))"
   ]
  },
  {
   "cell_type": "code",
   "execution_count": null,
   "id": "f6c43ad1-b7c2-4b05-9896-4848ac4fbaf4",
   "metadata": {},
   "outputs": [],
   "source": []
  },
  {
   "cell_type": "code",
   "execution_count": null,
   "id": "bc980d0a-9055-469a-9e04-6251de040d0e",
   "metadata": {},
   "outputs": [],
   "source": [
    "# load table with students and execute \n",
    "# then print\n",
    "%load table_with_emails.py"
   ]
  },
  {
   "cell_type": "code",
   "execution_count": null,
   "id": "c395b67d-a4af-4c0e-adb9-cb02e7dc8385",
   "metadata": {},
   "outputs": [],
   "source": []
  },
  {
   "cell_type": "code",
   "execution_count": null,
   "id": "79d0087a-a813-48b2-aaf5-18ac992eb9ef",
   "metadata": {},
   "outputs": [],
   "source": [
    "%load table.py\n",
    "\n"
   ]
  },
  {
   "cell_type": "code",
   "execution_count": null,
   "id": "7114e96f-504f-4e44-8661-a6b02b13b2ee",
   "metadata": {},
   "outputs": [],
   "source": []
  },
  {
   "cell_type": "code",
   "execution_count": null,
   "id": "aa1540e6-1420-40a9-8ec9-c0f9776fd630",
   "metadata": {},
   "outputs": [],
   "source": [
    "print_table(fstring,cols, table)"
   ]
  },
  {
   "cell_type": "code",
   "execution_count": null,
   "id": "ee5511c1-dd93-4947-bcaf-2630f7940640",
   "metadata": {},
   "outputs": [],
   "source": [
    "fstr= '|{:<10}|{:<13}|{:<35}|'"
   ]
  },
  {
   "cell_type": "code",
   "execution_count": null,
   "id": "3157b719-eb06-4c8a-99a5-d29179d8f21a",
   "metadata": {},
   "outputs": [],
   "source": [
    "print_table(fstr, cols, table)"
   ]
  }
 ],
 "metadata": {
  "author": "dieter.probst@gmail.com",
  "kernelspec": {
   "display_name": "Python 3 (ipykernel)",
   "language": "python",
   "name": "python3"
  },
  "language_info": {
   "codemirror_mode": {
    "name": "ipython",
    "version": 3
   },
   "file_extension": ".py",
   "mimetype": "text/x-python",
   "name": "python",
   "nbconvert_exporter": "python",
   "pygments_lexer": "ipython3",
   "version": "3.8.10"
  }
 },
 "nbformat": 4,
 "nbformat_minor": 5
}
