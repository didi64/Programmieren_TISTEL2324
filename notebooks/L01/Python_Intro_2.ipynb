{
 "cells": [
  {
   "cell_type": "markdown",
   "id": "eaa424c8-7866-463f-8aeb-bcd8f1a958cc",
   "metadata": {},
   "source": [
    "### Erste Schritte mit Python (Teil 2)\n",
    "- Platzhalter-Strings und die Methode `format()`\n",
    "- for loops:\n",
    "  - iterieren &uuml;ber Listenelemente\n",
    "  - itererieren mit range (Elemente on demand)\n",
    "  "
   ]
  },
  {
   "cell_type": "markdown",
   "id": "c3422749-803c-4b95-85f8-e479182afc87",
   "metadata": {},
   "source": [
    "### For-Loop 1) Iterieren &uuml;ber Listenelemente\n",
    "```python\n",
    "for <variabelname> in <liste>:\n",
    "    <statement>\n",
    "```   \n",
    "\n",
    "**wichtig**: Einr&uuml;cken ist Teil der Syntax, so wie der Doppelpunkt `:`.  \n",
    "Der Python-Styleguide [PEP-8](https://peps.python.org/pep-0008/) empfiehlt 4 * `' '` einzur&uuml;cken.\n",
    "\n",
    "\n",
    "```python\n",
    "for word in ['hallo', 'welt', 'foo', 'bar']:\n",
    "    print(word)\n",
    "```    \n"
   ]
  },
  {
   "cell_type": "code",
   "execution_count": null,
   "id": "ab5ff714-dbf0-4e8d-b342-517a198bbbb2",
   "metadata": {},
   "outputs": [],
   "source": [
    "# Aufgabe: gib hallo, welt, foo, bar, aus.\n",
    "for word in ['hallo', 'welt', 'foo', 'bar']:\n",
    "    print(word)"
   ]
  },
  {
   "cell_type": "code",
   "execution_count": null,
   "id": "a9b93a7b-14f0-4d8b-9343-647384f65e78",
   "metadata": {},
   "outputs": [],
   "source": [
    "words = ['hallo', 'welt', 'foo', 'bar']\n",
    "for word in words:\n",
    "    print(word)"
   ]
  },
  {
   "cell_type": "code",
   "execution_count": null,
   "id": "f48c68b6-a0a7-408c-a223-52d337a8734a",
   "metadata": {},
   "outputs": [],
   "source": [
    "tot = 0\n",
    "for i in [0, 1, 2, 3, 4, 5]:\n",
    "    tot = tot + i\n",
    "\n",
    "print(tot)"
   ]
  },
  {
   "cell_type": "markdown",
   "id": "64aae65e-051d-4abc-88d8-8c4c5d825761",
   "metadata": {},
   "source": [
    "### For-Loop 2) Iterieren mit `range`\n",
    "Das Iterieren &uuml;ber die ersten $n$ Zahlen ist sehr h&auml;ufig.  \n",
    "Python hat daf&uuml;r ein eigenes Idiom:\n",
    "```python\n",
    "for i in range(n):\n",
    "    ...\n",
    "```\n",
    "\n",
    "Das hat den gleichen Effekt wie \n",
    "```python\n",
    "for i in [0,1,...,n]:\n",
    "    ...\n",
    "```\n",
    "**Wichtig**: die Elemente werden erst auf Demand geliefert.  \n",
    "Im folgenden Beispiel wird keine lange Liste erstellt."
   ]
  },
  {
   "cell_type": "code",
   "execution_count": null,
   "id": "6979f482-f845-43b1-b982-47c85084012c",
   "metadata": {},
   "outputs": [],
   "source": [
    "for i in range(1_000_000_000):\n",
    "    print(i, end = ', ')\n",
    "    # falls i > 0 wird die Schleife verlassen\n",
    "    if i > 3:\n",
    "        break"
   ]
  },
  {
   "cell_type": "markdown",
   "id": "b56682bf-25b0-49e3-a8b6-a0f8018f627d",
   "metadata": {},
   "source": [
    "### Platzhalter-Strings\n",
    "Strings der Form\n",
    "```python\n",
    "'Vorname: {}, Name {}'\n",
    "```\n",
    "nennen wir Platzhalter-Strings. `{}` fungiert dabei als Platzhalter.  \n",
    "Mittels der Funktion `str.format(platzhalter-str, ersatz, ...)` k&ouml;nnen die Platzhalter ersetzt werden.   \n",
    "`platzhalter-str.format(ersatz, ...)` bewirkt das selbe.  \n",
    "Im Platzhalter kann man Formatierungscodes plazieren. Z.B.\n",
    "- `'{:<10}'` (eingef&uuml;llter Text wird zu einem linksb&uuml;ndigen String mit Mindestl&auml;nge 10 gemacht.\n",
    "- `'{:>10}'` (eingef&uuml;llter Text wird zu einem rechtsb&uuml;ndigen String mit Mindestl&auml;nge 10 gemacht."
   ]
  },
  {
   "cell_type": "code",
   "execution_count": null,
   "id": "813aae5a-3bb2-442e-9d18-a0a0a0de418e",
   "metadata": {},
   "outputs": [],
   "source": [
    "fstring = 'Vorname: {}, Name: {}'\n",
    "str.format(fstring, 'Betty', 'Bossi')"
   ]
  },
  {
   "cell_type": "markdown",
   "id": "bd7b521c-0b45-49ca-8cc3-6ce6d7a44051",
   "metadata": {},
   "source": [
    "### Der unpacking Operator `*`\n",
    "Sind z.B. Vorname und Name in einer Liste `['Fabi', 'Froehlich']` gespeichert,\n",
    "so k&ouml;nnen wir auch\n",
    "```python\n",
    "fstring.format(*['Betty', 'Bossi'])\n",
    "```\n",
    "statt\n",
    "```python\n",
    "fstring.format('Betty', 'Bossi')\n",
    "```\n",
    "schreiben. Der unpacking Operator `*` packt die Liste aus.  "
   ]
  },
  {
   "cell_type": "code",
   "execution_count": null,
   "id": "22efee0f-994d-4ee9-bfc8-e7f7e19f0299",
   "metadata": {},
   "outputs": [],
   "source": [
    "fstring.format(*['Betty', 'Bossi'])"
   ]
  },
  {
   "cell_type": "markdown",
   "id": "dda23065-8b29-488d-8228-6b8b049fc50a",
   "metadata": {},
   "source": [
    "### Tablelle formatiert ausgeben\n",
    "Eine Tabelle der Form\n",
    "\n",
    "| Vorname | Name | Email |  \n",
    "| --- | --- | --- |  \n",
    "| Max | Mueller | max.mueller@gmail.com |  \n",
    "| Betty | Bossi | betty.bossi@gmail.com |  \n",
    "\n",
    "k&ouml;nnen wir als Liste von Zeilen auffassen."
   ]
  },
  {
   "cell_type": "code",
   "execution_count": null,
   "id": "dc1eaaf1-049a-4c73-8efc-2fecda9b122d",
   "metadata": {},
   "outputs": [],
   "source": [
    "cols = ['Vorname', 'Name', 'Email']\n",
    "rows = [['Max', 'Mueller', 'max.mueller@gmail.com'],\n",
    "        ['Betty', 'Bossi', 'betty.bossi@gmail.com'],\n",
    "       ] \n",
    "\n",
    "fstring= '|{:<10}|{:<10}|{:<30}|'"
   ]
  },
  {
   "cell_type": "code",
   "execution_count": null,
   "id": "d87a7f6c-0118-41ac-8e17-00816f593bc2",
   "metadata": {},
   "outputs": [],
   "source": [
    "header = fstring.format(*cols)\n",
    "header"
   ]
  },
  {
   "cell_type": "code",
   "execution_count": null,
   "id": "59bc70ac-40cd-4aee-8c4e-a6bc9f82b896",
   "metadata": {},
   "outputs": [],
   "source": [
    "header = fstring.format(*cols)\n",
    "len_header = len(header)\n",
    "\n",
    "print(fstring.format(*cols))\n",
    "print('-' * len_header)\n",
    "\n",
    "for line in lines:\n",
    "    print(fstring.format(*line))"
   ]
  },
  {
   "cell_type": "code",
   "execution_count": null,
   "id": "eb753d36-b7f5-4314-9647-9644ddc12636",
   "metadata": {},
   "outputs": [],
   "source": [
    "# lade die Tabelle, dan fuehre den Code aus!\n",
    "%load table.py"
   ]
  },
  {
   "cell_type": "code",
   "execution_count": null,
   "id": "c3236aa0-84b5-4d33-b9b7-747543063b69",
   "metadata": {},
   "outputs": [],
   "source": [
    "# passe den fstring an um die Ausgabe zu verschoenern\n",
    "print(fstring.format(*cols))\n",
    "print('-' * len_header)\n",
    "\n",
    "for row in table:\n",
    "    print(fstring.format(*row))"
   ]
  },
  {
   "cell_type": "code",
   "execution_count": null,
   "id": "83f907d1-1803-49a2-b797-9441f1c7bf1a",
   "metadata": {},
   "outputs": [],
   "source": []
  },
  {
   "cell_type": "code",
   "execution_count": null,
   "id": "8cf17f51-da9a-4180-a2aa-ac2f7ee6edd5",
   "metadata": {},
   "outputs": [],
   "source": []
  }
 ],
 "metadata": {
  "kernelspec": {
   "display_name": "Python 3 (ipykernel)",
   "language": "python",
   "name": "python3"
  },
  "language_info": {
   "codemirror_mode": {
    "name": "ipython",
    "version": 3
   },
   "file_extension": ".py",
   "mimetype": "text/x-python",
   "name": "python",
   "nbconvert_exporter": "python",
   "pygments_lexer": "ipython3",
   "version": "3.8.10"
  }
 },
 "nbformat": 4,
 "nbformat_minor": 5
}
