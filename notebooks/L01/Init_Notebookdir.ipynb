{
 "cells": [
  {
   "cell_type": "markdown",
   "id": "60670284-cf67-4811-b47f-481ca951f635",
   "metadata": {},
   "source": [
    "### Share-Folder einrichten\n",
    "Folgender Code richtet einen Ordner `share` ein.  \n",
    "Notebooks in diesem Ordner k&ouml;nnen mit mir geteilt werden:  \n",
    "- Notebook in den Ordner `share` kopieren\n",
    "- den Befehl `!sync_share` in einer neuen Code-Zelle ausf&uuml;hren\n",
    "\n",
    "Der Ordner `share` hat einen Unterordner `share/response`.  \n",
    "Darin ist ggf. meine Antwort zu finden.  \n",
    "\n",
    "\n",
    "Der Ordner wird via ein Git-Repository geteilt.  \n",
    "F&uuml;r den Zugriff auf dieses Repository wird ein Access-Token ben&ouml;tigt, welches mit \n",
    "Hilfe eines Pins, den ich noch verraten werde, generiert wird.\n"
   ]
  },
  {
   "cell_type": "code",
   "execution_count": 49,
   "id": "d1c249a2-f7cd-415f-9d7d-79848a109ad7",
   "metadata": {},
   "outputs": [
    {
     "name": "stderr",
     "output_type": "stream",
     "text": [
      "Ungueltiger Pin!\n"
     ]
    }
   ],
   "source": [
    "# weise der Variable 'pin' den richtigen pin zu\n",
    "from import init_share\n",
    "pin = 123456\n",
    "init_share(pin)"
   ]
  },
  {
   "cell_type": "code",
   "execution_count": 57,
   "id": "9f54ecdf-6dba-4e17-8aa3-c5a1475640b4",
   "metadata": {},
   "outputs": [],
   "source": [
    "\n"
   ]
  },
  {
   "cell_type": "code",
   "execution_count": null,
   "id": "d58149b5-d0a2-4f38-aa3b-0314b7349214",
   "metadata": {},
   "outputs": [],
   "source": []
  }
 ],
 "metadata": {
  "kernelspec": {
   "display_name": "Python 3 (ipykernel)",
   "language": "python",
   "name": "python3"
  },
  "language_info": {
   "codemirror_mode": {
    "name": "ipython",
    "version": 3
   },
   "file_extension": ".py",
   "mimetype": "text/x-python",
   "name": "python",
   "nbconvert_exporter": "python",
   "pygments_lexer": "ipython3",
   "version": "3.8.10"
  }
 },
 "nbformat": 4,
 "nbformat_minor": 5
}
