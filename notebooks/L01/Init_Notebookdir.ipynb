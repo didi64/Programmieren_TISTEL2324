{
 "cells": [
  {
   "cell_type": "markdown",
   "id": "60670284-cf67-4811-b47f-481ca951f635",
   "metadata": {},
   "source": [
    "### Share-Folder einrichten\n",
    "Folgender Code richtet einen Ordner `share` ein.  \n",
    "Notebooks in diesem Ordner k&ouml;nnen mit mir geteilt werden:  \n",
    "- Notebook in den Ordner `share` kopieren\n",
    "- den Befehl `!sync_share` in einer neuen Code-Zelle ausf&uuml;hren\n",
    "\n",
    "Der Ordner `share` hat einen Unterordner `share/response`.  \n",
    "Darin ist ggf. meine Antwort zu finden.  \n",
    "\n",
    "\n",
    "Der Ordner wird via ein Git-Repository geteilt.  \n",
    "F&uuml;r den Zugriff auf dieses Repository wird ein Access-Token ben&ouml;tigt, welches mit \n",
    "Hilfe eines Pins, den ich noch verraten werde, generiert wird.\n"
   ]
  },
  {
   "cell_type": "code",
   "execution_count": 58,
   "id": "e72d7467-22db-4fdf-9893-f52aad1ba06e",
   "metadata": {
    "tags": []
   },
   "outputs": [
    {
     "name": "stdout",
     "output_type": "stream",
     "text": [
      "Writing share.py\n"
     ]
    }
   ],
   "source": [
    "#%%file share.py\n",
    "import pickle\n",
    "import subprocess\n",
    "from pathlib import Path\n",
    "\n",
    "NB_DIR = '/home/tistel/work'\n",
    "SC_DIR = '/home/tistel/.bin'\n",
    "\n",
    "def init_share(pin):\n",
    "    with open(NB_DIR + '/data/.init.pkl','rb') as f:\n",
    "        data=pickle.load(f)\n",
    "    with open(B_DIR + '/data/emails.pkl','rb') as f:\n",
    "        emails=pickle.load(f)  \n",
    "    \n",
    "    tok = ''.join([chr((x-pin)) for x in data])\n",
    "    if tok[6:11] != '_pat_':\n",
    "        print('Ungueltiger Pin!', file=sys.stderr)\n",
    "        return\n",
    "    \n",
    "    user = input('Enter Email prefix (Teil vor @):')\n",
    "    if user + '@edu.teko.ch' not in [x for _,_,x in emails]:\n",
    "        print('Prefix {} not found!'.format(user), file=sys.stderr)\n",
    "        \n",
    "    with open(NB_DIR + '/.user', 'w') as f:\n",
    "        f.write(user)\n",
    "        \n",
    "    with open(NB_DIR  + '.token_tistel2324', 'w') as f:\n",
    "        f.write(tok)\n",
    "        \n",
    "    res = subprocess.call(NB_DIR  +  './bin/init_share')\n",
    "    if res:\n",
    "        print('share=Folder fuer User {} eingerichtet.'.format(user))     \n",
    "    else:\n",
    "        print('Etwas ging schief!', file=sys.stderr)"
   ]
  },
  {
   "cell_type": "code",
   "execution_count": 49,
   "id": "d1c249a2-f7cd-415f-9d7d-79848a109ad7",
   "metadata": {},
   "outputs": [
    {
     "name": "stderr",
     "output_type": "stream",
     "text": [
      "Ungueltiger Pin!\n"
     ]
    }
   ],
   "source": [
    "# weise der Variable 'pin' den richtigen pin zu\n",
    "from import init_share\n",
    "pin = 123456\n",
    "init_share(pin)"
   ]
  },
  {
   "cell_type": "code",
   "execution_count": 57,
   "id": "9f54ecdf-6dba-4e17-8aa3-c5a1475640b4",
   "metadata": {},
   "outputs": [],
   "source": [
    "\n"
   ]
  },
  {
   "cell_type": "code",
   "execution_count": null,
   "id": "d58149b5-d0a2-4f38-aa3b-0314b7349214",
   "metadata": {},
   "outputs": [],
   "source": []
  }
 ],
 "metadata": {
  "kernelspec": {
   "display_name": "Python 3 (ipykernel)",
   "language": "python",
   "name": "python3"
  },
  "language_info": {
   "codemirror_mode": {
    "name": "ipython",
    "version": 3
   },
   "file_extension": ".py",
   "mimetype": "text/x-python",
   "name": "python",
   "nbconvert_exporter": "python",
   "pygments_lexer": "ipython3",
   "version": "3.8.10"
  }
 },
 "nbformat": 4,
 "nbformat_minor": 5
}
