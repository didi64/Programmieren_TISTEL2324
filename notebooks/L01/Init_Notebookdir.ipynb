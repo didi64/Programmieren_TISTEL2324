{
 "cells": [
  {
   "cell_type": "markdown",
   "id": "60670284-cf67-4811-b47f-481ca951f635",
   "metadata": {},
   "source": [
    "### Share-Folder einrichten\n",
    "Folgender Code richtet einen Ordner `share` ein.  \n",
    "Notebooks in diesem Ordner k&ouml;nnen mit mir geteilt werden:  \n",
    "- Notebook in den Ordner `share` kopieren\n",
    "- den Befehl `!sync_share` in einer neuen Code-Zelle ausf&uuml;hren\n",
    "\n",
    "Der Ordner `share` hat einen Unterordner `share/response`.  \n",
    "Darin ist ggf. meine Antwort zu finden.  \n",
    "\n",
    "\n",
    "Der Ordner wird via ein Git-Repository geteilt.  \n",
    "F&uuml;r den Zugriff auf dieses Repository wird ein Access-Token ben&ouml;tigt, welches mit \n",
    "Hilfe eines Pins, den ich noch verraten werde, generiert wird.\n"
   ]
  },
  {
   "cell_type": "code",
   "execution_count": null,
   "id": "d1c249a2-f7cd-415f-9d7d-79848a109ad7",
   "metadata": {},
   "outputs": [],
   "source": [
    "# weise der Variable 'pin' den richtigen pin zu\n",
    "from share import init_share\n",
    "pin = 123456\n",
    "init_share(pin)"
   ]
  }
 ],
 "metadata": {
  "kernelspec": {
   "display_name": "Python 3 (ipykernel)",
   "language": "python",
   "name": "python3"
  },
  "language_info": {
   "codemirror_mode": {
    "name": "ipython",
    "version": 3
   },
   "file_extension": ".py",
   "mimetype": "text/x-python",
   "name": "python",
   "nbconvert_exporter": "python",
   "pygments_lexer": "ipython3",
   "version": "3.12.0"
  }
 },
 "nbformat": 4,
 "nbformat_minor": 5
}
