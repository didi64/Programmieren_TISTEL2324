{
 "cells": [
  {
   "cell_type": "markdown",
   "id": "0149c278-e703-4af1-8249-5b903b8c46f9",
   "metadata": {},
   "source": [
    "### Ausblick\n",
    "- Die `import` Anweisung\n",
    "- Das Modul `random` und die Methoden `random.randint`, `random.choices`\n",
    "- Die Zeichen `{` und  `}`  in Platzhalter-Strings verwenden:\n",
    "  In einem Platzhalter-String haben die geschweiften Klammern `{}` die Bedeutung von Platzhaltern.  \n",
    "  Um eine  geschweiften Klammer in einem Platzhalter-String darzustellen, \n",
    "  muss man `{{` bez. `}}` verwenden.\n",
    "- Die String-Methode `str.join(<Liste>)`"
   ]
  },
  {
   "cell_type": "code",
   "execution_count": 1,
   "id": "346a0939-29e2-4d77-9c49-3fbbb50c11df",
   "metadata": {},
   "outputs": [],
   "source": [
    "# visits https://xkcd.com/353/\n",
    "# initialisiert das Modul  und erlaubt Zugriff auf seine Methoden\n",
    "# Initializierung findet nur einmal statt\n",
    "import antigravity"
   ]
  },
  {
   "cell_type": "code",
   "execution_count": 3,
   "id": "fb9ce4ec-7748-4d85-bc23-fd909ac2ded9",
   "metadata": {},
   "outputs": [],
   "source": [
    "# Module mit Zufallsmethoden\n",
    "import random"
   ]
  },
  {
   "cell_type": "code",
   "execution_count": 4,
   "id": "97f93d5d-321b-4e53-8205-b6e75d3f1063",
   "metadata": {},
   "outputs": [
    {
     "data": {
      "text/plain": [
       "4"
      ]
     },
     "execution_count": 4,
     "metadata": {},
     "output_type": "execute_result"
    }
   ],
   "source": [
    "# wuerfle: Zufallszahl zwischen 1 und 6\n",
    "random.randint(1,6)"
   ]
  },
  {
   "cell_type": "markdown",
   "id": "b2349bf3-01f2-4062-b6ed-fd6fb69aa0ae",
   "metadata": {},
   "source": [
    "***"
   ]
  },
  {
   "cell_type": "markdown",
   "id": "93101361-f5df-4ff5-abe7-715b49d0a052",
   "metadata": {},
   "source": [
    "### Zuf&auml;llige W&ouml;rter und Tabellen erstellen"
   ]
  },
  {
   "cell_type": "code",
   "execution_count": 9,
   "id": "ace64f61-6148-4c11-8c4f-2e262e1815d3",
   "metadata": {},
   "outputs": [
    {
     "data": {
      "text/plain": [
       "['g', 'b', 'h', 'e', 'g']"
      ]
     },
     "execution_count": 9,
     "metadata": {},
     "output_type": "execute_result"
    }
   ],
   "source": [
    "letters = random.choices('abcdefgh', k=5)\n",
    "letters"
   ]
  },
  {
   "cell_type": "code",
   "execution_count": null,
   "id": "3ef9cda0-89a1-4c4f-89f5-db3c45b6e206",
   "metadata": {},
   "outputs": [],
   "source": [
    "# Studiere den Doc-String dieser String-Methode\n",
    "str.join"
   ]
  },
  {
   "cell_type": "code",
   "execution_count": 74,
   "id": "721e81a4-6d5e-4ae7-bb71-17ca07140794",
   "metadata": {},
   "outputs": [
    {
     "data": {
      "text/plain": [
       "'afbhd'"
      ]
     },
     "execution_count": 74,
     "metadata": {},
     "output_type": "execute_result"
    }
   ],
   "source": [
    "''.join(letters)"
   ]
  },
  {
   "cell_type": "code",
   "execution_count": 34,
   "id": "d55614da-0eb2-45cc-b087-f9673930c93d",
   "metadata": {},
   "outputs": [],
   "source": [
    "import random\n",
    "\n",
    "def random_word(length, alphabet):\n",
    "    '''gibt ein Wort der Laenge length mit Buchstaben\n",
    "       aus der Liste/String alphabet zurueck\n",
    "    '''   \n",
    "       \n",
    "    letters = random.choices(alphabet, k=length)\n",
    "    word = ''.join(letters)\n",
    "    return word\n",
    "\n",
    "def random_words(n):\n",
    "    '''gibt eine Liste mit n zufaelligen Woertern zurueck'''\n",
    "    bounds = (3, 15)\n",
    "    abc = 'abcdefghijklmnopqrstuvwxyz'\n",
    "    words = []\n",
    "    \n",
    "    for i in range(n):\n",
    "        length = random.randint(*bounds)\n",
    "        word = random_word(length, abc)\n",
    "        words.append(word)\n",
    "        \n",
    "    return words \n",
    "\n",
    "def random_table():\n",
    "    '''gibt eine zufaellige Tabelle zurueck'''\n",
    "    table = []\n",
    "    nrows = random.randint(3, 10)\n",
    "    ncols = random.randint(1, 5)\n",
    "    \n",
    "    for _ in range(nrows):\n",
    "        row = random_words(ncols)\n",
    "        table.append(row)\n",
    "        \n",
    "    return table    "
   ]
  },
  {
   "cell_type": "code",
   "execution_count": 14,
   "id": "4c3ac4ba-0dd7-4d09-b27b-fbef3e63ae80",
   "metadata": {},
   "outputs": [
    {
     "data": {
      "text/plain": [
       "'sgfhk'"
      ]
     },
     "execution_count": 14,
     "metadata": {},
     "output_type": "execute_result"
    }
   ],
   "source": [
    "random_word(5, 'dfhsgjkldhs')"
   ]
  },
  {
   "cell_type": "code",
   "execution_count": 12,
   "id": "4fe07de8-2340-4485-9de3-b89890d05273",
   "metadata": {},
   "outputs": [
    {
     "data": {
      "text/plain": [
       "['yqetizhtubkz', 'netcccbl', 'hrwbw', 'gmdh', 'iqdxywgvxwsjih']"
      ]
     },
     "execution_count": 12,
     "metadata": {},
     "output_type": "execute_result"
    }
   ],
   "source": [
    "random_words(5)"
   ]
  },
  {
   "cell_type": "code",
   "execution_count": 16,
   "id": "370d382c-87a6-43e0-af80-62649483d0af",
   "metadata": {},
   "outputs": [
    {
     "data": {
      "text/plain": [
       "[['lwxgdzawjqp', 'zdnocnrxagkxv', 'ztwvfkqgqhbsenh', 'ljethpkqfudadug'],\n",
       " ['upoazkd', 'spttatzlgi', 'xeqlg', 'chet'],\n",
       " ['vvh', 'iuzwsv', 'cfhylgphyz', 'qhnon']]"
      ]
     },
     "execution_count": 16,
     "metadata": {},
     "output_type": "execute_result"
    }
   ],
   "source": [
    "random_table()"
   ]
  },
  {
   "cell_type": "markdown",
   "id": "27d7434f-86b8-4395-82c9-cf4904b40d9e",
   "metadata": {},
   "source": [
    "### Tabelle formatiert ausgeben"
   ]
  },
  {
   "cell_type": "code",
   "execution_count": 61,
   "id": "77b1526e-9f6c-4263-b0f0-460a87b266f0",
   "metadata": {},
   "outputs": [
    {
     "data": {
      "text/plain": [
       "'| {:<10} |'"
      ]
     },
     "execution_count": 61,
     "metadata": {},
     "output_type": "execute_result"
    }
   ],
   "source": [
    "# fstring erstellen\n",
    "n = 10\n",
    "fstring_template = '| {{:<{}}} |'\n",
    "fstring = fstring_template.format(n)\n",
    "fstring"
   ]
  },
  {
   "cell_type": "code",
   "execution_count": 28,
   "id": "d9b6ff78-5d82-4927-8a7e-e5c157b524da",
   "metadata": {},
   "outputs": [
    {
     "data": {
      "text/plain": [
       "'| test       |'"
      ]
     },
     "execution_count": 28,
     "metadata": {},
     "output_type": "execute_result"
    }
   ],
   "source": [
    "fstring.format('test')"
   ]
  },
  {
   "cell_type": "code",
   "execution_count": 35,
   "id": "126a0745-cfe6-4bd4-8749-f1ea820fbf29",
   "metadata": {},
   "outputs": [],
   "source": [
    "def make_fstring(widths):\n",
    "    '''widths: Tuple oder Liste mit Spaltenbreiten\n",
    "       returns: fstring der zur Ausgabe von Tabellenzeilen\n",
    "                verwendet werden kann\n",
    "       \n",
    "       make_fstring([5, 10]) gibt den fstring \n",
    "       '| {:<5} | {:<10} |' zurueck\n",
    "    '''\n",
    "    ncols = len(widths)\n",
    "    fs_template = (ncols * '| {{:<{}}} ' ) + '|'\n",
    "    fs = fs_template.format(*widths)\n",
    "    return fs\n",
    "\n",
    "def make_hline(widths):\n",
    "    '''widths: Tuple oder Liste mit Spaltenbreiten\n",
    "       returns: Tabellenzeile (Liste), die zur Ausgabe einer Trennzeile\n",
    "                verwendet werden kann\n",
    "    '''   \n",
    "    hline = []\n",
    "    for width in widths:\n",
    "        s = width * '-'\n",
    "        hline.append(s)\n",
    "    return hline    \n",
    "\n",
    "def get_col_widths(table, header):\n",
    "    '''table: Liste von Listen\n",
    "       Header: Liste (Kopfzeile)\n",
    "       returns: Liste mit den maximalen Spaltenbreiten \n",
    "    '''\n",
    "    maxcolwidths = [] \n",
    "    for col in header:\n",
    "        n = len(col) \n",
    "        maxcolwidths.append(n)\n",
    "    \n",
    "    for row in table:\n",
    "        i = 0\n",
    "        for col in row:\n",
    "            width = len(col)\n",
    "            if width > maxcolwidths[i]:\n",
    "                maxcolwidths[i] = width\n",
    "            i = i + 1   \n",
    "    return maxcolwidths    \n",
    "\n",
    "def print_table_and_header(table, header):\n",
    "    '''table: Liste von Listen\n",
    "       Header: Liste (Kopfzeile)\n",
    "      \n",
    "       Gibt header und table formatiert aus\n",
    "    '''\n",
    "    \n",
    "    col_widths = get_col_widths(table, header)\n",
    "    hline = make_hline(col_widths)\n",
    "    fs = make_fstring(col_widths)\n",
    "    \n",
    "    print(fs.format(*header))\n",
    "    print(fs.format(*hline))\n",
    "    for row in table:\n",
    "        print(fs.format(*row))"
   ]
  },
  {
   "cell_type": "code",
   "execution_count": 40,
   "id": "84b784fa-5c52-4b7f-8dd7-75e485ad6b92",
   "metadata": {},
   "outputs": [
    {
     "data": {
      "text/plain": [
       "'| {:<3} | {:<4} | {:<5} |'"
      ]
     },
     "execution_count": 40,
     "metadata": {},
     "output_type": "execute_result"
    }
   ],
   "source": [
    "make_fstring((3,4,5))"
   ]
  },
  {
   "cell_type": "code",
   "execution_count": 41,
   "id": "4cded4b0-94ca-48bb-89cd-74f022a7b4b8",
   "metadata": {},
   "outputs": [
    {
     "data": {
      "text/plain": [
       "['---', '----', '-----']"
      ]
     },
     "execution_count": 41,
     "metadata": {},
     "output_type": "execute_result"
    }
   ],
   "source": [
    "make_hline((3,4,5))"
   ]
  },
  {
   "cell_type": "code",
   "execution_count": 42,
   "id": "f676cc10-4afb-4f85-9955-d5edc64a697e",
   "metadata": {},
   "outputs": [
    {
     "data": {
      "text/plain": [
       "[15, 14]"
      ]
     },
     "execution_count": 42,
     "metadata": {},
     "output_type": "execute_result"
    }
   ],
   "source": [
    "table = random_table()\n",
    "get_col_widths(table, table[0])"
   ]
  },
  {
   "cell_type": "code",
   "execution_count": 47,
   "id": "e483d866-313a-43b6-90af-7976d84973a5",
   "metadata": {},
   "outputs": [
    {
     "name": "stdout",
     "output_type": "stream",
     "text": [
      "| aetwzhcr       | lqzqj   | yfztloxzxyzujey | muvqbfdawglxxo | hjgibi          |\n",
      "| -------------- | ------- | --------------- | -------------- | --------------- |\n",
      "| ejczieprmdqomv | ybfbtum | vmelcoum        | dlusim         | ubmivvbxubsikqj |\n",
      "| znwbkcugr      | dev     | jdznrfwnrfds    | whytmrog       | pvh             |\n",
      "| tocvdprip      | iht     | ilqskboryyo     | djfom          | iclstobowy      |\n"
     ]
    }
   ],
   "source": [
    "# table[1:] alle Tabellenzeilen von der 1. Zeile (bez.2. Zeile) an\n",
    "print_table_and_header(table[1:], table[0])"
   ]
  },
  {
   "cell_type": "code",
   "execution_count": null,
   "id": "a0a6946f-e890-49b6-ba34-f48d786832a1",
   "metadata": {},
   "outputs": [],
   "source": []
  }
 ],
 "metadata": {
  "kernelspec": {
   "display_name": "Python 3 (ipykernel)",
   "language": "python",
   "name": "python3"
  },
  "language_info": {
   "codemirror_mode": {
    "name": "ipython",
    "version": 3
   },
   "file_extension": ".py",
   "mimetype": "text/x-python",
   "name": "python",
   "nbconvert_exporter": "python",
   "pygments_lexer": "ipython3",
   "version": "3.12.0"
  }
 },
 "nbformat": 4,
 "nbformat_minor": 5
}
