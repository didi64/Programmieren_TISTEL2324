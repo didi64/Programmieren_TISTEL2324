{
 "cells": [
  {
   "cell_type": "markdown",
   "id": "db89e5b2-309c-46cd-b165-d32cd2efd378",
   "metadata": {},
   "source": [
    "### Aufgaben For-Schleife\n",
    "1. Z&auml;hle, wie oft der Buchstabe 'a' in einem Wort vorkommt.\n",
    "1. Erstelle eine Liste, mit den Positionen, an welchen der  Buchstabe 'a' in einem Wort auftritt.  \n",
    "   Z.B. 'abakadabra' -> [0, 2, 4, 6, 9]\n",
    "1. W&uuml;rfle 6 Mal und berechne das Produkt der gew&uuml;rfelten Zahlen.\n",
    "   **Hint**:\n",
    "   ```python\n",
    "   import random\n",
    "   \n",
    "   # wuerfeln: Zufallszahl von 1 bis 6\n",
    "   n = random.randint(1, 6)\n",
    "   ```\n",
    "1. Berechne das Produkt zweier Zahlen ohne die Multiplikation `*` zu benutzen:  \n",
    "   Berechne `x * y` indem du `x` `y`-Mal addierst.\n",
    "1. Gib folgende Multiplikationstabelle f&uuml;r das kleine 1x1 aus:      \n",
    "```\n",
    " 1,  2,  3,  4,  5,  6,  7,  8,  9, \n",
    " 2,  4,  6,  8, 10, 12, 14, 16, 18, \n",
    " 3,  6,  9, 12, 15, 18, 21, 24, 27, \n",
    " 4,  8, 12, 16, 20, 24, 28, 32, 36, \n",
    " 5, 10, 15, 20, 25, 30, 35, 40, 45, \n",
    " 6, 12, 18, 24, 30, 36, 42, 48, 54, \n",
    " 7, 14, 21, 28, 35, 42, 49, 56, 63, \n",
    " 8, 16, 24, 32, 40, 48, 56, 64, 72, \n",
    " 9, 18, 27, 36, 45, 54, 63, 72, 81, \n",
    "```\n",
    "**Hint**: Zahl rechtsb&uuml;ndig ausgeben mit `print('{:>2}'.format(42))`"
   ]
  },
  {
   "cell_type": "code",
   "execution_count": null,
   "id": "f0f6bc51-7c4b-43f5-8c08-9171e1ca2eae",
   "metadata": {},
   "outputs": [],
   "source": []
  }
 ],
 "metadata": {
  "kernelspec": {
   "display_name": "Python 3 (ipykernel)",
   "language": "python",
   "name": "python3"
  },
  "language_info": {
   "codemirror_mode": {
    "name": "ipython",
    "version": 3
   },
   "file_extension": ".py",
   "mimetype": "text/x-python",
   "name": "python",
   "nbconvert_exporter": "python",
   "pygments_lexer": "ipython3",
   "version": "3.8.10"
  }
 },
 "nbformat": 4,
 "nbformat_minor": 5
}
