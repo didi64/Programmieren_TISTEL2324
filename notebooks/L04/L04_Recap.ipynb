{
 "cells": [
  {
   "cell_type": "markdown",
   "id": "5d8924eb-eb9f-4b43-81a4-fd7ca0d25d72",
   "metadata": {},
   "source": [
    "### Recap Lektion 3\n",
    "1. Eine **einfache Funktion schreiben**, welche z.B. ein Wort umdreht:\n",
    "   - Schreibe Code, welcher ein in der Variable `word` gespeichertes Wort umdreht.\n",
    "   - Wenn der Code funktioniert, erstelle daraus eine Funktion.\n",
    "    \n",
    "     \n",
    "     ```python\n",
    "     def reverse_word(word):\n",
    "        # Code der word umdreht und\n",
    "        # Resultat in der Variable res speichert\n",
    "         \n",
    "        # gib das umgedrehte Wort zurueck \n",
    "        return res\n",
    "     ```\n",
    "    - Funktion testen\n",
    "2. **range**:  mit `for i in range(3)` kann man &uuml;ber die Werte [0,1,2] iterieren,\n",
    "und mit `list(range(3))` die Liste [0,1,2] erstellen.  \n",
    "Die allgemeine Form des range-Befehls ist `range(Start, Stop, Schrittweite)`.\n",
    "Das erste Element ist `Start`.\n",
    "Nur Elemente vor `Stop` werden ausgegeben.\n",
    "\n",
    "3. **if-elif-else**: Mittels diesen Anweiungen lassen sich Codebl&ouml;cke abh&auml;ngig von Bedingungen ausf&uuml;hren.\n",
    "\n",
    "   \n",
    "   \n",
    "   \n",
    "      \n",
    "   \n"
   ]
  },
  {
   "cell_type": "code",
   "execution_count": null,
   "id": "d40ce40a-b8c4-4b58-8c7f-178d22fd42c7",
   "metadata": {},
   "outputs": [],
   "source": [
    "word = 'abc'\n",
    "# leere Liste erstellen, Elemente werden in For-Schleife hinzugefuegt\n",
    "letters = []\n",
    "\n",
    "for letter in word:\n",
    "    letters.insert(0, letter)\n",
    "    #print(letters)\n",
    "    \n",
    "letters   "
   ]
  },
  {
   "cell_type": "code",
   "execution_count": null,
   "id": "e81beaa5-c05a-4f12-9b93-66ec0c157bd1",
   "metadata": {},
   "outputs": [],
   "source": [
    "# Buchstaben der Liste zu Wort zusammenfasse\n",
    "res = ''.join(letters)\n",
    "res"
   ]
  },
  {
   "cell_type": "code",
   "execution_count": null,
   "id": "5ff8f2a1-a718-4d37-bb94-730cb0c8f717",
   "metadata": {},
   "outputs": [],
   "source": [
    "def reverse_word(word):\n",
    "    letters = []\n",
    "    for letter in word:\n",
    "        letters.insert(0, letter)\n",
    "    res =  ''.join(letters)    \n",
    "    return res"
   ]
  },
  {
   "cell_type": "code",
   "execution_count": null,
   "id": "bbbc8a5d-59e5-4a10-8cee-e00442928314",
   "metadata": {},
   "outputs": [],
   "source": [
    "reverse_word('abcde')"
   ]
  },
  {
   "cell_type": "markdown",
   "id": "f5db8653-5e52-46d3-bee7-98fbc1726cd7",
   "metadata": {},
   "source": [
    "***"
   ]
  },
  {
   "cell_type": "code",
   "execution_count": null,
   "id": "b2738a61-516c-4488-ac54-f2f88b080497",
   "metadata": {},
   "outputs": [],
   "source": [
    "for i in range(2, 10, 2):\n",
    "    print(i, end = ', ')"
   ]
  },
  {
   "cell_type": "code",
   "execution_count": null,
   "id": "564b9207-2a53-4039-a2a3-072a5133d84f",
   "metadata": {},
   "outputs": [],
   "source": [
    "list(range(2, 10, 2))"
   ]
  },
  {
   "cell_type": "code",
   "execution_count": null,
   "id": "3fe21d8f-8e1f-44dd-be06-d3c5345fa79d",
   "metadata": {},
   "outputs": [],
   "source": [
    "list(range(5, 0, -1))"
   ]
  },
  {
   "cell_type": "code",
   "execution_count": null,
   "id": "e4b833aa-d3a9-4df3-9920-b3404fb794da",
   "metadata": {},
   "outputs": [],
   "source": [
    "# Zahlen 2 + 4 + 6 + ... + 100 zusammenzaehlen\n",
    "tot = 0\n",
    "for i in range(2, 101, 2):\n",
    "    tot = tot + i\n",
    "tot    "
   ]
  },
  {
   "cell_type": "markdown",
   "id": "9eb8b824-b3b2-4521-b885-b2d0c5ffcbe5",
   "metadata": {},
   "source": [
    "***"
   ]
  },
  {
   "cell_type": "code",
   "execution_count": null,
   "id": "f3f79742-254c-4175-9b74-70420d1193dd",
   "metadata": {},
   "outputs": [],
   "source": [
    "def sign(n):\n",
    "    '''gibt das Vorzeichen einer Zahl zurueck'''\n",
    "    # Zahl negativ\n",
    "    if n < 0:\n",
    "        return -1\n",
    "    # Zahl positiv\n",
    "    elif n > 0:\n",
    "        return 1\n",
    "    # Zahl gleich 0\n",
    "    else:\n",
    "        return 0  "
   ]
  },
  {
   "cell_type": "code",
   "execution_count": null,
   "id": "f9d0e71b-ee78-450d-8d86-aabf95f8db5a",
   "metadata": {},
   "outputs": [],
   "source": [
    "for i in [2, 3, -2 ,-5, 0]:\n",
    "    print('sign({}) = {}'.format(i, sign(i)))"
   ]
  },
  {
   "cell_type": "code",
   "execution_count": null,
   "id": "742e593c-8f63-47c7-9d0b-5cede5d2da50",
   "metadata": {},
   "outputs": [],
   "source": [
    "def fizzbuzz(n):\n",
    "    # n ist durch 5 und 3 teilbar\n",
    "    if  n % 5 == 0 and n % 3 ==0:\n",
    "        return 'fizzbuzz'\n",
    "    # n ist nur durch 5 teilbar\n",
    "    elif n % 5 == 0:\n",
    "        return 'buzz'\n",
    "    # n ist nur durch 3 teilbar\n",
    "    elif n % 3 == 0:\n",
    "        return 'fizz'\n",
    "    # n ist weder durch 3 noch durch 5 teilbar\n",
    "    else:\n",
    "        return str(n)"
   ]
  },
  {
   "cell_type": "code",
   "execution_count": null,
   "id": "2655466e-9033-4794-8ad1-44a4381e04b6",
   "metadata": {},
   "outputs": [],
   "source": [
    "for i in range(1, 30):\n",
    "    print(fizzbuzz(i), end = ', ')"
   ]
  },
  {
   "cell_type": "code",
   "execution_count": null,
   "id": "2bc161c0-129b-4442-8066-21c82c772395",
   "metadata": {},
   "outputs": [],
   "source": []
  }
 ],
 "metadata": {
  "kernelspec": {
   "display_name": "Python 3 (ipykernel)",
   "language": "python",
   "name": "python3"
  },
  "language_info": {
   "codemirror_mode": {
    "name": "ipython",
    "version": 3
   },
   "file_extension": ".py",
   "mimetype": "text/x-python",
   "name": "python",
   "nbconvert_exporter": "python",
   "pygments_lexer": "ipython3",
   "version": "3.8.10"
  }
 },
 "nbformat": 4,
 "nbformat_minor": 5
}
