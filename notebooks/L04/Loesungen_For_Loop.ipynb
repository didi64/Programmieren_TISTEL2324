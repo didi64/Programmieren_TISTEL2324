{
 "cells": [
  {
   "cell_type": "markdown",
   "id": "db89e5b2-309c-46cd-b165-d32cd2efd378",
   "metadata": {},
   "source": [
    "### Aufgaben For-Schleife\n",
    "1. Z&auml;hle, wie oft der Buchstabe 'a' in einem Wort vorkommt.\n",
    "1. Erstelle eine Liste, mit den Positionen, an welchen der  Buchstabe 'a' in einem Wort auftritt.  \n",
    "   Z.B. 'abakadabra' -> [0, 2, 4, 6, 9]\n",
    "1. W&uuml;rfle 6 Mal und berechne das Produkt der gew&uuml;rfelten Zahlen.\n",
    "   **Hint**:\n",
    "   ```python\n",
    "   import random\n",
    "   \n",
    "   # wuerfeln: Zufallszahl von 1 bis 6\n",
    "   n = random.randint(1, 6)\n",
    "   ```\n",
    "1. Berechne das Produkt zweier Zahlen ohne die Multiplikation `*` zu benutzen:\n",
    "   Berechne `x * y` indem du `x` `y`-Mal addierst.\n",
    "1. Gib folgende Multiplikationstabelle f&uuml;r das kleine 1x1 aus:      \n",
    "```\n",
    " 1,  2,  3,  4,  5,  6,  7,  8,  9, \n",
    " 2,  4,  6,  8, 10, 12, 14, 16, 18, \n",
    " 3,  6,  9, 12, 15, 18, 21, 24, 27, \n",
    " 4,  8, 12, 16, 20, 24, 28, 32, 36, \n",
    " 5, 10, 15, 20, 25, 30, 35, 40, 45, \n",
    " 6, 12, 18, 24, 30, 36, 42, 48, 54, \n",
    " 7, 14, 21, 28, 35, 42, 49, 56, 63, \n",
    " 8, 16, 24, 32, 40, 48, 56, 64, 72, \n",
    " 9, 18, 27, 36, 45, 54, 63, 72, 81, \n",
    "```\n",
    "**Hint**: Zahl rechtsb&uuml;ndig ausgeben mit `print('{:>2}'.format(42))`"
   ]
  },
  {
   "cell_type": "code",
   "execution_count": 4,
   "id": "78092921-af22-4826-b910-f2298933c247",
   "metadata": {},
   "outputs": [
    {
     "name": "stdout",
     "output_type": "stream",
     "text": [
      "5\n"
     ]
    }
   ],
   "source": [
    "# Wie oft tritt 'a' in 'abakadabra' auf?\n",
    "word = 'abakadabra'\n",
    "count = 0\n",
    "\n",
    "for ch in word:\n",
    "    if ch == 'a':\n",
    "        count = count + 1\n",
    "        \n",
    "print(count)    "
   ]
  },
  {
   "cell_type": "code",
   "execution_count": 6,
   "id": "4ac15107-7faa-465f-a8d9-a59b6911fc6e",
   "metadata": {},
   "outputs": [
    {
     "name": "stdout",
     "output_type": "stream",
     "text": [
      "[0, 2, 4, 6, 9]\n"
     ]
    }
   ],
   "source": [
    "# An welchen Positionen stehen 'a's?\n",
    "word = 'abakadabra'\n",
    "positions = []\n",
    "\n",
    "for i, ch in enumerate(word):\n",
    "    if ch == 'a':\n",
    "        positions.append(i)\n",
    "        \n",
    "print(positions)    "
   ]
  },
  {
   "cell_type": "code",
   "execution_count": 20,
   "id": "99189366-f787-4b2d-b032-96322ae3d357",
   "metadata": {},
   "outputs": [
    {
     "name": "stdout",
     "output_type": "stream",
     "text": [
      "7200\n"
     ]
    }
   ],
   "source": [
    "# 6 Zufallszalen multiplizieren\n",
    "import random\n",
    "prod = 1\n",
    "for i in range(6):\n",
    "    n = random.randint(1,6)\n",
    "    prod = prod * n\n",
    "print(prod)    "
   ]
  },
  {
   "cell_type": "code",
   "execution_count": 22,
   "id": "269de359-01da-4988-b235-a565aff8024b",
   "metadata": {},
   "outputs": [
    {
     "name": "stdout",
     "output_type": "stream",
     "text": [
      "40\n"
     ]
    }
   ],
   "source": [
    "# Addiere 4 10-Mal zu sich selber 10 * 4 = 40\n",
    "x = 4\n",
    "y = 10\n",
    "res = 0\n",
    "\n",
    "for i in range(y):\n",
    "    res = res + x\n",
    "print(res)    "
   ]
  },
  {
   "cell_type": "code",
   "execution_count": 15,
   "id": "9dfeb4ad-5fd7-4833-b525-8c08c7b09d57",
   "metadata": {},
   "outputs": [
    {
     "name": "stdout",
     "output_type": "stream",
     "text": [
      " 1,  2,  3,  4,  5,  6,  7,  8,  9, \n",
      " 2,  4,  6,  8, 10, 12, 14, 16, 18, \n",
      " 3,  6,  9, 12, 15, 18, 21, 24, 27, \n",
      " 4,  8, 12, 16, 20, 24, 28, 32, 36, \n",
      " 5, 10, 15, 20, 25, 30, 35, 40, 45, \n",
      " 6, 12, 18, 24, 30, 36, 42, 48, 54, \n",
      " 7, 14, 21, 28, 35, 42, 49, 56, 63, \n",
      " 8, 16, 24, 32, 40, 48, 56, 64, 72, \n",
      " 9, 18, 27, 36, 45, 54, 63, 72, 81, \n"
     ]
    }
   ],
   "source": [
    "# Tabelle zum kleinen 1x1\n",
    "for i in range(1, 10):\n",
    "    for j in range(1, 10):\n",
    "        print('{:>2}'.format(i*j), end = ', ')\n",
    "    print()"
   ]
  },
  {
   "cell_type": "markdown",
   "id": "aa5d6be4-ba20-44ed-823d-b6f2a9801330",
   "metadata": {},
   "source": [
    "***\n",
    "***L&ouml;sungen*** als Funktionen\n",
    "***"
   ]
  },
  {
   "cell_type": "code",
   "execution_count": 3,
   "id": "4e882aea-0b1d-49c3-89c1-8e9e32c2fa11",
   "metadata": {},
   "outputs": [],
   "source": [
    "def count(word, letter):\n",
    "    count = 0\n",
    "\n",
    "    for ch in word:\n",
    "        if ch == letter:\n",
    "            count = count + 1\n",
    "        \n",
    "    return count"
   ]
  },
  {
   "cell_type": "code",
   "execution_count": 4,
   "id": "827d2d86-eb19-489b-9a2a-baa81e148fd8",
   "metadata": {},
   "outputs": [
    {
     "data": {
      "text/plain": [
       "5"
      ]
     },
     "execution_count": 4,
     "metadata": {},
     "output_type": "execute_result"
    }
   ],
   "source": [
    "count('abakadabra', 'a')"
   ]
  },
  {
   "cell_type": "code",
   "execution_count": 7,
   "id": "dc034138-a335-40ba-b4c7-df0bf70ec635",
   "metadata": {},
   "outputs": [],
   "source": [
    "def positions(word, letter):\n",
    "    positions = []\n",
    "\n",
    "    for i, ch in enumerate(word):\n",
    "        if ch == 'a':\n",
    "            positions.append(i)\n",
    "\n",
    "    return positions"
   ]
  },
  {
   "cell_type": "code",
   "execution_count": 8,
   "id": "f43dc336-df22-4001-9777-8f85ecb0128a",
   "metadata": {},
   "outputs": [
    {
     "data": {
      "text/plain": [
       "[0, 2, 4, 6, 9]"
      ]
     },
     "execution_count": 8,
     "metadata": {},
     "output_type": "execute_result"
    }
   ],
   "source": [
    "positions('abakadabra', 'a')"
   ]
  },
  {
   "cell_type": "code",
   "execution_count": 15,
   "id": "75c76d0c-336d-4ba6-9332-56b0a39e23fa",
   "metadata": {},
   "outputs": [],
   "source": [
    "import random\n",
    "def random_product(n):\n",
    "    prod = 1\n",
    "    for i in range(n):\n",
    "        n = random.randint(1,6)\n",
    "        prod = prod * n\n",
    "    return prod"
   ]
  },
  {
   "cell_type": "code",
   "execution_count": 16,
   "id": "0b8d53cb-57fc-4b69-b23e-b88c1e796aaa",
   "metadata": {},
   "outputs": [
    {
     "data": {
      "text/plain": [
       "24"
      ]
     },
     "execution_count": 16,
     "metadata": {},
     "output_type": "execute_result"
    }
   ],
   "source": [
    "random_product(5)"
   ]
  },
  {
   "cell_type": "code",
   "execution_count": 1,
   "id": "f6339b19-4bd4-4fea-a63e-0323ffa69573",
   "metadata": {},
   "outputs": [],
   "source": [
    "def mul(x, y):\n",
    "\n",
    "    res = 0\n",
    "    \n",
    "    for i in range(y):\n",
    "        res = res + x\n",
    "        \n",
    "    return res"
   ]
  },
  {
   "cell_type": "code",
   "execution_count": 3,
   "id": "b92930b1-1b58-4e48-b84b-f0b3135bbd36",
   "metadata": {},
   "outputs": [
    {
     "data": {
      "text/plain": [
       "18"
      ]
     },
     "execution_count": 3,
     "metadata": {},
     "output_type": "execute_result"
    }
   ],
   "source": [
    "mul(3, 6)"
   ]
  },
  {
   "cell_type": "code",
   "execution_count": 18,
   "id": "c718ec2e-d389-4d38-b646-e6b9498134e3",
   "metadata": {},
   "outputs": [],
   "source": [
    "def kleines1_x_1():\n",
    "    for i in range(1, 10):\n",
    "        for j in range(1, 10):\n",
    "            print('{:>2}'.format(i*j), end = ', ')\n",
    "        print()"
   ]
  },
  {
   "cell_type": "code",
   "execution_count": 19,
   "id": "209d4087-9837-477e-bcf4-7f90ffee90ee",
   "metadata": {},
   "outputs": [
    {
     "name": "stdout",
     "output_type": "stream",
     "text": [
      " 1,  2,  3,  4,  5,  6,  7,  8,  9, \n",
      " 2,  4,  6,  8, 10, 12, 14, 16, 18, \n",
      " 3,  6,  9, 12, 15, 18, 21, 24, 27, \n",
      " 4,  8, 12, 16, 20, 24, 28, 32, 36, \n",
      " 5, 10, 15, 20, 25, 30, 35, 40, 45, \n",
      " 6, 12, 18, 24, 30, 36, 42, 48, 54, \n",
      " 7, 14, 21, 28, 35, 42, 49, 56, 63, \n",
      " 8, 16, 24, 32, 40, 48, 56, 64, 72, \n",
      " 9, 18, 27, 36, 45, 54, 63, 72, 81, \n"
     ]
    }
   ],
   "source": [
    "kleines1_x_1()"
   ]
  },
  {
   "cell_type": "code",
   "execution_count": null,
   "id": "90d5d8e5-ae62-4daf-8707-7a6578c0b9a8",
   "metadata": {},
   "outputs": [],
   "source": []
  }
 ],
 "metadata": {
  "kernelspec": {
   "display_name": "Python 3 (ipykernel)",
   "language": "python",
   "name": "python3"
  },
  "language_info": {
   "codemirror_mode": {
    "name": "ipython",
    "version": 3
   },
   "file_extension": ".py",
   "mimetype": "text/x-python",
   "name": "python",
   "nbconvert_exporter": "python",
   "pygments_lexer": "ipython3",
   "version": "3.8.10"
  }
 },
 "nbformat": 4,
 "nbformat_minor": 5
}
