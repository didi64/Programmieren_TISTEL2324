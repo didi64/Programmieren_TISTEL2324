{
 "cells": [
  {
   "cell_type": "markdown",
   "id": "7dd9b56c-87f5-4e72-a016-9b2fce64ce8c",
   "metadata": {},
   "source": [
    "### Aufgaben zu While-Schleifen\n",
    "Gib jeweils 3 Lösungsvarianten an:\n",
    "While-Schleife mit einer expliziten Abbruchbedingung, mit einer Hilsvariable, mit Ausbrechen.\n",
    "\n",
    "1. Lasse den Computer solange w&uuml;rfeln, bis er 100 oder mehr Punkte gesammelt hat.\n",
    "   Gib eine Liste mit den gew&uuml;rfelten Zahlen aus.  \n",
    "   **Hint**:\n",
    "   ```python\n",
    "   import random\n",
    "   \n",
    "   # wuerfeln: Zufallszahl von 1 bis 6\n",
    "   n = random.randint(1, 6)\n",
    "   ```\n",
    "\n",
    "\n",
    "1. Generiere eine Zufallszahl zwischen 1 und 5.\n",
    "  Frage den Benutzer solange nach einer Zahl, bis er die Zufallszahl erraten hat.\n",
    "  Verrate, ob die geratene Zahl zu gross, zu klein oder richtig war."
   ]
  },
  {
   "cell_type": "markdown",
   "id": "d671fca1-4d2d-4d7f-9887-b1c4d6f4c6ea",
   "metadata": {},
   "source": [
    "***\n",
    "W&uuml;rfeln\n",
    "***"
   ]
  },
  {
   "cell_type": "code",
   "execution_count": null,
   "id": "97b7715f-a92e-47b6-817d-80be0261ee55",
   "metadata": {},
   "outputs": [],
   "source": [
    "import random"
   ]
  },
  {
   "cell_type": "code",
   "execution_count": null,
   "id": "2a16d2a3-9879-4305-a604-ac9277f8bcab",
   "metadata": {},
   "outputs": [],
   "source": [
    "wuerfe = []\n",
    "total = 0\n",
    "\n",
    "# explizite Bedingung\n",
    "while total < 100:\n",
    "    n = random.randint(1, 6)\n",
    "    total = total + n\n",
    "    wuerfe.append(n)\n",
    "\n",
    "print(wuerfe)"
   ]
  },
  {
   "cell_type": "code",
   "execution_count": null,
   "id": "39c01f55-7676-4e52-b8ca-aea5f43e7711",
   "metadata": {},
   "outputs": [],
   "source": [
    "wuerfe = []\n",
    "total = 0\n",
    "done = False\n",
    "\n",
    "# Hilfsvariable\n",
    "while not done:\n",
    "    n = random.randint(1, 6)\n",
    "    total = total + n\n",
    "    wuerfe.append(n)\n",
    "    if total >= 100:\n",
    "        done = True\n",
    "        \n",
    "print(wuerfe)"
   ]
  },
  {
   "cell_type": "code",
   "execution_count": null,
   "id": "ad079b91-528c-4219-841a-499486e10cfa",
   "metadata": {},
   "outputs": [],
   "source": [
    "wuerfe = []\n",
    "total = 0\n",
    "\n",
    "# Ausbrechen\n",
    "while True:\n",
    "    n = random.randint(1, 6)\n",
    "    total = total + n\n",
    "    wuerfe.append(n)\n",
    "    if total >= 100:\n",
    "        break\n",
    "    \n",
    "print(wuerfe)"
   ]
  },
  {
   "cell_type": "markdown",
   "id": "41409b02-8f5a-44af-9192-06b91c96f108",
   "metadata": {},
   "source": [
    "***\n",
    "Zahl erraten\n",
    "***"
   ]
  },
  {
   "cell_type": "code",
   "execution_count": null,
   "id": "966ac920-9504-4940-8c52-9dbc6a8bbd69",
   "metadata": {},
   "outputs": [],
   "source": [
    "# mit guess != number als Bedingung\n",
    "\n",
    "import random\n",
    "number = random.randint(1, 5)\n",
    "guess = None # Wert, der verschieden von der Zufallszahl ist.\n",
    "\n",
    "while guess != number:\n",
    "    guess = int(input('Errate die Zahl zwischen 1 und 5: '))\n",
    "    if  guess == number:\n",
    "        print('Korrekt! Die Zahl war {}.'.format(guess))\n",
    "    elif guess < number:\n",
    "        print('Versuche eine grössere Zahl.')\n",
    "    else:\n",
    "        print('Versuche eine kleinere Zahl.')"
   ]
  },
  {
   "cell_type": "code",
   "execution_count": null,
   "id": "f4df6405-4c95-4baa-9944-db12831ef42e",
   "metadata": {},
   "outputs": [],
   "source": [
    "# Hilfsvariable explizit auf True setzen\n",
    "import random\n",
    "\n",
    "number = random.randint(1, 5)\n",
    "done = False\n",
    "\n",
    "while not done:\n",
    "    guess = int(input('Errate die Zahl zwischen 1 und 5: '))\n",
    "    if  guess == number:\n",
    "        print('Korrekt! Die Zahl war {}.'.format(guess))\n",
    "        done = True\n",
    "    elif guess < number:\n",
    "        print('Versuche eine grössere Zahl.')\n",
    "    else:\n",
    "        print('Versuche eine kleinere Zahl.')"
   ]
  },
  {
   "cell_type": "code",
   "execution_count": null,
   "id": "dcffd96c-5422-4f56-abf9-93fb2ab12247",
   "metadata": {},
   "outputs": [],
   "source": [
    "# Ausbrechen\n",
    "import random\n",
    "number = random.randint(1, 5)\n",
    "\n",
    "while True:\n",
    "    guess = int(input('Errate die Zahl zwischen 1 und 5: '))\n",
    "    if  guess == number:\n",
    "        print('Korrekt! Die Zahl war {}.'.format(guess))\n",
    "        break\n",
    "    elif guess < number:\n",
    "        print('Versuche eine grössere Zahl.')\n",
    "    else:\n",
    "        print('Versuche eine kleinere Zahl.')"
   ]
  },
  {
   "cell_type": "markdown",
   "id": "3db8d517-75ab-471f-bbd8-cc143e0fad34",
   "metadata": {},
   "source": [
    "***\n",
    "L&ouml;sungen als Funktionen\n",
    "***"
   ]
  },
  {
   "cell_type": "code",
   "execution_count": null,
   "id": "eec56117-2e73-4cea-8894-ab17f95d0c04",
   "metadata": {},
   "outputs": [],
   "source": [
    "import random\n",
    "def collect_100():\n",
    "    wuerfe = []\n",
    "    total = 0\n",
    "\n",
    "    # explizite Bedingung\n",
    "    while total < 100:\n",
    "        n = random.randint(1, 6)\n",
    "        total = total + n\n",
    "        wuerfe.append(n)\n",
    "\n",
    "    return wuerfe"
   ]
  },
  {
   "cell_type": "code",
   "execution_count": null,
   "id": "45fd9cc9-085f-4c01-b9b5-2440e2523d23",
   "metadata": {},
   "outputs": [],
   "source": [
    "# Funktion testen\n",
    "tot = 0\n",
    "for i in range(100):\n",
    "    wuerfe = collect_100()\n",
    "    tot = tot + len(wuerfe)\n",
    "print('Um 100 Punkte zu würfeln braucht man ca. {:.2f} Würfe'.format(tot/100))    "
   ]
  },
  {
   "cell_type": "code",
   "execution_count": null,
   "id": "72610bf1-8969-44d9-94e2-2fdab1e96bdc",
   "metadata": {},
   "outputs": [],
   "source": [
    "import random\n",
    "\n",
    "def guessing_game(lower, upper):\n",
    "    number = random.randint(lower, upper)\n",
    "    guess = None # Wert, der verschieden von der Zufallszahl ist.\n",
    "\n",
    "    while guess != number:\n",
    "        guess = int(input('Errate die Zahl zwischen {} und {}: '.format(lower, upper)))\n",
    "        if  guess == number:\n",
    "            print('Korrekt! Die Zahl war {}.'.format(guess))\n",
    "\n",
    "        elif guess < number:\n",
    "            print('Versuche eine grössere Zahl.')\n",
    "        else:\n",
    "            print('Versuche eine kleinere Zahl.')"
   ]
  },
  {
   "cell_type": "code",
   "execution_count": null,
   "id": "1b6ad8d0-ebb6-4f03-ae46-eda6744a41ce",
   "metadata": {},
   "outputs": [],
   "source": [
    "guessing_game(1, 5)"
   ]
  },
  {
   "cell_type": "code",
   "execution_count": null,
   "id": "3c34309c-e010-4063-ada3-0d0cfa4a4a73",
   "metadata": {},
   "outputs": [],
   "source": []
  }
 ],
 "metadata": {
  "kernelspec": {
   "display_name": "Python 3 (ipykernel)",
   "language": "python",
   "name": "python3"
  },
  "language_info": {
   "codemirror_mode": {
    "name": "ipython",
    "version": 3
   },
   "file_extension": ".py",
   "mimetype": "text/x-python",
   "name": "python",
   "nbconvert_exporter": "python",
   "pygments_lexer": "ipython3",
   "version": "3.8.10"
  }
 },
 "nbformat": 4,
 "nbformat_minor": 5
}
