{
 "cells": [
  {
   "cell_type": "markdown",
   "id": "357c5831-fe8e-4dba-ac9a-8a61173a09f5",
   "metadata": {},
   "source": [
    "### Lektion 4, &Uuml;berblick und weitere Resourcen"
   ]
  },
  {
   "cell_type": "markdown",
   "id": "6eeeb147-f3f2-4dae-a99f-d1e94202b396",
   "metadata": {},
   "source": [
    "- [Basic Types, W3Schools](https://www.w3schools.com/python/python_datatypes.asp)  \n",
    "ignoriert die Typen (`bytes`, `bytearray`, `memoryview`, `frozenset` und `complex`).\n",
    "- For und While-Schleifen, \n",
    "  insb. [zip](https://www.w3schools.com/python/ref_func_zip.asp) und \n",
    "  [enumerate](https://www.w3schools.com/python/ref_func_enumerate.asp), sowie\n",
    "  [break](https://www.w3schools.com/python/ref_keyword_break.asp) und \n",
    "  [continue](https://www.w3schools.com/python/ref_keyword_continue.asp)."
   ]
  },
  {
   "cell_type": "code",
   "execution_count": null,
   "id": "f9ddf24f-ea00-4fab-891e-c4f3c8c54931",
   "metadata": {},
   "outputs": [],
   "source": []
  }
 ],
 "metadata": {
  "kernelspec": {
   "display_name": "Python 3 (ipykernel)",
   "language": "python",
   "name": "python3"
  },
  "language_info": {
   "codemirror_mode": {
    "name": "ipython",
    "version": 3
   },
   "file_extension": ".py",
   "mimetype": "text/x-python",
   "name": "python",
   "nbconvert_exporter": "python",
   "pygments_lexer": "ipython3",
   "version": "3.8.10"
  }
 },
 "nbformat": 4,
 "nbformat_minor": 5
}
