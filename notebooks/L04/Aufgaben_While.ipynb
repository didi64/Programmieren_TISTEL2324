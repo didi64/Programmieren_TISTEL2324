{
 "cells": [
  {
   "cell_type": "markdown",
   "id": "7dd9b56c-87f5-4e72-a016-9b2fce64ce8c",
   "metadata": {},
   "source": [
    "### Aufgaben zu While-Schleifen\n",
    "Gib jeweils 3 L&ouml;sungsvarianten an:  \n",
    "While-Schleife mit einer expliziten Abbruchbedingung, mit einer Hilsvariable, mit Ausbrechen.\n",
    "\n",
    "1. Lasse den Computer solange w&uuml;rfeln, bis er 100 oder mehr Punkte gesammelt hat.\n",
    "   Gib eine Liste mit allen Versuchen aus.  \n",
    "   **Hint**:\n",
    "   ```python\n",
    "   import random\n",
    "   \n",
    "   # wuerfeln: Zufallszahl von 1 bis 6\n",
    "   n = random.randint(1, 6)\n",
    "   ```\n",
    "1. Generiere eine Zufallszahl zwischen 1 und 5.\n",
    "  Frage den Benutzer solange nach einer Zahl, bis er die Zufallszahl erraten hat.\n",
    "  Verrate, ob die geratene Zahl zu gross, zu klein oder richtig war."
   ]
  },
  {
   "cell_type": "code",
   "execution_count": null,
   "id": "f0f2dba3-3421-4c77-9726-26fe7e937b8b",
   "metadata": {},
   "outputs": [],
   "source": []
  }
 ],
 "metadata": {
  "kernelspec": {
   "display_name": "Python 3 (ipykernel)",
   "language": "python",
   "name": "python3"
  },
  "language_info": {
   "codemirror_mode": {
    "name": "ipython",
    "version": 3
   },
   "file_extension": ".py",
   "mimetype": "text/x-python",
   "name": "python",
   "nbconvert_exporter": "python",
   "pygments_lexer": "ipython3",
   "version": "3.12.0"
  }
 },
 "nbformat": 4,
 "nbformat_minor": 5
}
