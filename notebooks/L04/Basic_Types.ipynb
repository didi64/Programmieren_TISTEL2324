{
 "cells": [
  {
   "cell_type": "markdown",
   "id": "4bf97312-16bd-4343-a935-b6aef42901c7",
   "metadata": {},
   "source": [
    "### Objekte und Typen\n",
    "\n",
    "Siehe auch [w3schools, datatypes](https://www.w3schools.com/python/python_datatypes.asp)  \n",
    "In Python sind Integer, Strings, Listen,... **Objekte** vom Typ `int`, `str`, `list`, ...  \n",
    "Jedes Objekt `obj` hat einen Typ, der sich mit `type(obj)` ausgeben l&auml;sst.  \n",
    "Der Typ definiert Methoden, welche sich auf ein Objekt dieses Types anwenden lassen.  \n",
    "Ein Typ (`int`, `str`, `list`, ...  ) verh&auml;lt sich wie eine Funktion, die versucht, aus dem Argument ein\n",
    "Objekt des entsprechenden Types zu konstruieren."
   ]
  },
  {
   "cell_type": "code",
   "execution_count": null,
   "id": "6f2a3521-6cbf-433e-928c-bc1a90de1f07",
   "metadata": {},
   "outputs": [],
   "source": [
    "type(list)"
   ]
  },
  {
   "cell_type": "code",
   "execution_count": null,
   "id": "dca74cdc-b6c7-4050-aa1e-f7af9c6abfd6",
   "metadata": {},
   "outputs": [],
   "source": [
    "type([1, 2, 3])"
   ]
  },
  {
   "cell_type": "code",
   "execution_count": null,
   "id": "eb27d44f-240b-4c9d-8771-c284af5fd75e",
   "metadata": {},
   "outputs": [],
   "source": [
    "# erstellt einen Integer\n",
    "int(2.3)"
   ]
  },
  {
   "cell_type": "code",
   "execution_count": null,
   "id": "44c12dc2-d6cf-4711-80b5-9f4016465f83",
   "metadata": {},
   "outputs": [],
   "source": [
    "# erzeugt einen float \n",
    "float(2)"
   ]
  },
  {
   "cell_type": "code",
   "execution_count": null,
   "id": "2a9faff0-511a-4920-936d-37800d97556b",
   "metadata": {},
   "outputs": [],
   "source": [
    "# Erstellt Liste mit Buchstaben\n",
    "letters = list('abc')\n",
    "letters"
   ]
  },
  {
   "cell_type": "code",
   "execution_count": null,
   "id": "75cbf46e-717c-44f8-8eb5-20a2f07df712",
   "metadata": {},
   "outputs": [],
   "source": []
  },
  {
   "cell_type": "markdown",
   "id": "f27d3399-b771-46f9-aab3-8988b850987e",
   "metadata": {},
   "source": [
    "### Python's (built-in) (Daten)Typen\n",
    "In Python stehen die Typen\n",
    "**Integer** (`int`),\n",
    "**Fliesskommazahl** (`float`),\n",
    "**String** (`str`),\n",
    "**Tuple** (`tuple`),\n",
    "**Liste** (`list`),\n",
    "**None** (`None`),\n",
    "**Boolean** (`bool`),\n",
    "**Dictionary** (`dict`) und **Menge** (`set`)\n",
    "zur Verf&uuml;gung.\n",
    "- jeder Typ stellt Methoden zur Verf&uuml;gung, die auf ein Objekt dieses Typs angewandt werden k&ouml;nnen:  \n",
    "Ist `bar` ein Typ mit einer Methode `bar.foo` und\n",
    "`x` ein Objekt vom Typ `bar`,  \n",
    "dann ruft `x.foo()` `bar.foo(x)` auf.\n",
    "- `type(x)` gibt den Typ von `x` aus.    \n",
    "- Typen sind entweder **`immutable`** oder **`mutable`**, manche sind **`iterable`**:\n",
    "  - **immutable** (nicht modifizierbar): `int, float, string, bool, tupel, None`      \n",
    "  - **mutable** (modifizierbar)  `list, set, dict`\n",
    "  - Die Typen `str, tuple, list, set, dict` sind **`iterable`**:  \n",
    "  Ist `x`  iterable, kann man mit  \n",
    "  ```python\n",
    "  for item in x:\n",
    "         print(item)\n",
    "  ```       \n",
    "  &uuml;ber die Elemente von `x` iterieren.  \n",
    "- **Typenumwandlung/Cast**:  \n",
    "  Ein Objekt `x` kann unter Umst&auml;nden \n",
    "  mit `<type>(x)` in ein Objekt vom Type `<type>` umgewandelt werden.  \n",
    "  Z.B. `int(2.3)`, `float(2)`, `list('abc')`"
   ]
  },
  {
   "cell_type": "markdown",
   "id": "7bc3d5c5-c501-4142-bb4e-dc057e3bc08d",
   "metadata": {},
   "source": [
    "### Integer (`int`)\n",
    "- immutable\n",
    "- Operationen: `+, -, *, /, //, %, **`\n",
    "- Auf Integer anwendbare Funktionen: `abs(x)` (Betrag von `x`, $abs(-2) = |-2| =2$)\n",
    "**Bemerkungen**:\n",
    "- `x / y` ist immer ein `float`\n",
    "- `x // y` Ganzahldivision, liefert immer ein `int`\n",
    "- `x % y` liefert den Rest der Ganzahldivision\n",
    "- `x ** y` rechnet `x` hoch `y`\n",
    "- Division durch 0 erzeugt einen `ZeroDivisionError`\n",
    "- Python kann mit sehr grossen Integern rechnen"
   ]
  },
  {
   "cell_type": "code",
   "execution_count": null,
   "id": "6fd86d9b-2040-492b-9abc-6d3f38c1ea18",
   "metadata": {},
   "outputs": [],
   "source": [
    "print(abs(-2))\n",
    "print(2 / 1, type(2 /1 ))\n",
    "print(2 ** 10)\n",
    "print(2 ** (2 ** 10)) # Python Integer duerfen sehr gross sein"
   ]
  },
  {
   "cell_type": "markdown",
   "id": "ee717fbf-0e3a-4e48-823c-7bb6754b07f8",
   "metadata": {},
   "source": [
    "### Fliesskommazahlen (```float```)\n",
    "- immutable\n",
    "- Operatonen: `+, -, *, /, //, %, **`\n",
    "\n",
    "**Bemerkungen**\n",
    "- Ein `float` kann nur Zahlen in einem bestimmten Intervall mit limitierter Genauigkeit abspeichern.\n",
    "  Die Details sind abh&auml;ngig von der Architektur des Computers auf dem der Python Interpreter l&auml;uft.\n",
    "  Typischerweise stehen 64 Bits zur Verf&uuml;gung um einen `float` zu speichern.\n",
    "  Siehe z.B. <a href = 'https://en.wikipedia.org/wiki/Double-precision_floating-point_format#IEEE_754_double-precision_binary_floating-point_format:_binary64'>hier.</a>  \n",
    "  **Overflow-Effekte**\n",
    " - Fliesskommazahlen werden intern als Bin&auml;rzahlen gespeichert.  \n",
    " - So wie sich z.B. $\\frac{1}{3}$ nicht exakt als Dezimalzahl darstellen l&auml;sst, kann man z.B.\n",
    "   0.1 nicht exakt mit einer  Bin&auml;rzahlen darstellen.\n",
    " - z.B. ist `0.1 + 0.1 + 0.1 == 0.3` falsch!  (Rundungsfehler)  \n",
    "   besser: Teste ob absolute Differenz klein\n",
    "   ```python\n",
    "   abs(0.1 + 0.1 + 0.1 - 0.3) < 0.0000000001\n",
    "   ```   "
   ]
  },
  {
   "cell_type": "code",
   "execution_count": null,
   "id": "4835e4e8-e361-4066-b11e-1ae9890a9f2e",
   "metadata": {},
   "outputs": [],
   "source": [
    "0.1 + 0.1 + 0.1 == 0.3 # teste auf Gleichheit"
   ]
  },
  {
   "cell_type": "code",
   "execution_count": null,
   "id": "46d490a0-254c-49d7-b947-eb793a2013e0",
   "metadata": {},
   "outputs": [],
   "source": [
    "0.3 - (0.1 + 0.1 + 0.1)"
   ]
  },
  {
   "cell_type": "code",
   "execution_count": null,
   "id": "9cd70002-5d44-46d9-88cb-de84f15b2dcd",
   "metadata": {},
   "outputs": [],
   "source": [
    "abs(0.1 + 0.1 + 0.1 - 0.3) < 0.0000000000001"
   ]
  },
  {
   "cell_type": "markdown",
   "id": "27faee34-c90d-4dce-9ede-3a7a8b5ddaab",
   "metadata": {},
   "source": [
    "### Strings (`str`)\n",
    "- Strings sind **immutable** und **iterable**\n",
    "- Viele n&uuml;tzliche Methoden: `upper, lower, ...`"
   ]
  },
  {
   "cell_type": "code",
   "execution_count": null,
   "id": "7f37f09b-1c9e-426f-b120-07fc03020cf2",
   "metadata": {},
   "outputs": [],
   "source": [
    "# Strings sind immutable und iterable\n",
    "word = 'heLlO'\n",
    "print(word.upper())\n",
    "print(word.lower().capitalize())"
   ]
  },
  {
   "cell_type": "markdown",
   "id": "3993f72c-2c0f-41c7-9d36-e90b0fe807b4",
   "metadata": {},
   "source": [
    "### Listen (`list`)\n",
    "- Listen sind **mutable** und **iterable**\n",
    "- Listen-Methoden: `append`, `insert`, `pop`, ..."
   ]
  },
  {
   "cell_type": "code",
   "execution_count": null,
   "id": "17165599-fff1-4eb1-b072-34c60393abf4",
   "metadata": {},
   "outputs": [],
   "source": [
    "numbers = [1, 2, 3]\n",
    "numbers.insert(0, 0)\n",
    "numbers.append(4)\n",
    "print(numbers)\n",
    "\n",
    "numbers[0] = 'zero'    # Liste wird modifiziert\n",
    "print(numbers)\n",
    "\n",
    "gepoptes_element = numbers.pop() # letztes Element von `numbers` wird zurueckgegeben und entfernt\n",
    "    \n",
    "print('gepoptes Element =  {}'.format(gepoptes_element))\n",
    "print(numbers) "
   ]
  },
  {
   "cell_type": "markdown",
   "id": "b00e55de-586b-4bad-95b4-cd279a35139e",
   "metadata": {},
   "source": [
    "### Tuples (`tuple`)\n",
    "- Tuples sind **immutable** und **iterable**  \n",
    "  Tuples sind Listen, die sich nicht modifizieren lassen.  \n",
    "  Ist nicht geplant, Werte einer Liste zu modifizieren, ist\n",
    "  ein Tuple zu verwenden.\n",
    "  \n",
    "- Tuple mit nur einem Element werden so kreiert:\n",
    "  - `t = ('a', )`, `t = (1, )`\n",
    "  **Achtung**: `t = ('a')` und `t = (1)`  liefert einen\n",
    "  String, bew. ein Integer"
   ]
  },
  {
   "cell_type": "code",
   "execution_count": null,
   "id": "31268681-99db-4fd0-b4d9-8376c2ac78cb",
   "metadata": {},
   "outputs": [],
   "source": [
    "name = ('Hans', 'Muster')\n",
    "print('Vornamen: {}'.format(name[0]))\n",
    "print('Nachnamen: {}'.format(name[1]))\n",
    "tpl  = (1, )\n",
    "zahl = (1)\n",
    "print('tuple: {}'.format(tpl))\n",
    "print('Integer: {}'.format(zahl), )"
   ]
  },
  {
   "cell_type": "code",
   "execution_count": null,
   "id": "42213399-d67f-4ee5-84ac-0da8edfc504b",
   "metadata": {},
   "outputs": [],
   "source": [
    "# liefert einen Fehler\n",
    "name[0] = 'Max'"
   ]
  },
  {
   "cell_type": "markdown",
   "id": "350d9fde-a4b4-49ce-9626-704604fbea95",
   "metadata": {},
   "source": [
    "### None (`None`)\n",
    "- Es gibt nur **ein** Objekt vom Typ `None`, n&auml;mlich `None`.  \n",
    "  Statt `if x == None` verwendet man deshalb `if x is None`"
   ]
  },
  {
   "cell_type": "code",
   "execution_count": null,
   "id": "3efa45d7-e6a1-45d5-808d-df00f2c4bc93",
   "metadata": {},
   "outputs": [],
   "source": [
    "# x = None\n",
    "\n",
    "if x is None:\n",
    "    x = 42\n",
    "x    "
   ]
  },
  {
   "cell_type": "markdown",
   "id": "5549be5a-09b6-41a5-9ff0-79ae527fc6dd",
   "metadata": {},
   "source": [
    "<a id='booleans'></a>\n",
    "### Booleans (`bool`)\n",
    "- Es gibt nur 2 Objekte von Typ `bool`: `True` und `False`\n",
    "- **jedes** Objekt kann in den Typ `bool` umgewandelt werden:   \n",
    "   - `0`, `None` und Iterables ohne Elemente werden zu `False`\n",
    "   - alle anderen werden zu `True`"
   ]
  },
  {
   "cell_type": "code",
   "execution_count": null,
   "id": "a78604ce-984b-4174-b468-b0ba6be3e530",
   "metadata": {},
   "outputs": [],
   "source": [
    "objs = [None, '', 0, (), []]\n",
    "\n",
    "for obj in objs:\n",
    "    # {!r} gibt String in Anfuehrungszeichen aus, damit leerer String sichtbar\n",
    "    # gibt obj und zugehoeriger Wahrheitswert aus\n",
    "    print('{!r} --> {}'.format(obj, bool(obj)))"
   ]
  },
  {
   "cell_type": "markdown",
   "id": "94a29670-8666-45b6-b042-392264949297",
   "metadata": {},
   "source": [
    "### Dictionaries (dict)\n",
    "- Dictionaires sind **mutable** und **iterable**\n",
    "- Dictionaries enthalten sog. Key-Value (Schl&uuml;ssel-Wert) Paare:  \n",
    "  `d = {0: 'Element mit key=0', 'cat': 'Katze'}`\n",
    "  jedes [**hashable**](https://docs.python.org/3/glossary.html) Objekt ist ein g&uuml;ltiger Key,\n",
    "  jedes Objekt ist ein g&uuml;ltiger Value,\n",
    "- falls `k` ein Key des Dictionary `d` ist, liefert `d[k]` den zugeh&ouml;rigen Wert, andernfalls ein `KeyError`,\n",
    "- mit `k in d` kann man testen, of `k` en Key von `d` ist."
   ]
  },
  {
   "cell_type": "code",
   "execution_count": null,
   "id": "053ab4d3-de7b-4c69-a3f5-629ba8eeac4f",
   "metadata": {},
   "outputs": [],
   "source": [
    "english_deutsch = {'cat': 'Katze', 'House': 'Hause'}\n",
    "english_deutsch['cat']"
   ]
  },
  {
   "cell_type": "code",
   "execution_count": null,
   "id": "99f22e10-62b6-40bd-9fd6-ec587bae6358",
   "metadata": {},
   "outputs": [],
   "source": [
    "taste_richtung = {4: 'left', 8: 'up'}\n",
    "taste_richtung[4]"
   ]
  },
  {
   "cell_type": "code",
   "execution_count": null,
   "id": "140dec17-7aba-41c6-8202-e8d2057cb168",
   "metadata": {},
   "outputs": [],
   "source": [
    "english_deutsch['dog']"
   ]
  },
  {
   "cell_type": "code",
   "execution_count": null,
   "id": "cc761b92-f6f7-4c42-aec2-d64a294a49ab",
   "metadata": {},
   "outputs": [],
   "source": [
    "# word = 'cat'\n",
    "word = 'dog'\n",
    "if word in english_deutsch:\n",
    "    print(english_deutsch[word])\n",
    "else:\n",
    "    print('{!r} ist nicht im Dictionary'.format(word))"
   ]
  },
  {
   "cell_type": "markdown",
   "id": "ff3b7168-8e3f-406d-ac87-56a29ac921fa",
   "metadata": {},
   "source": [
    "### Mengen (`set`)\n",
    "- Mengen sind **mutable** und **iterable**\n",
    "- eine Menge kann ein Element nur einmal enthalten\n",
    "- Mengen sind ungeordnet, iteriert man &uuml;ber die Elemente einer Menge, ist die\n",
    "Reihenfolge zuf&auml;llig.  Deshalb haben Mengen haben z.B. kein 0tes Element.\n",
    "Auf Elemente einer Menge `m` kann man deshalb nicht mit `m[i]` zugreifen."
   ]
  },
  {
   "cell_type": "code",
   "execution_count": null,
   "id": "6b78b8bc-c7e8-45f6-9da6-7a2eefb8200f",
   "metadata": {},
   "outputs": [],
   "source": [
    "menge = set((3, 1))\n",
    "print(menge)\n",
    "# Element hinzufuegen\n",
    "menge.add(5)\n",
    "menge.add(5) # aendert nichts, Element schon in Menge\n",
    "menge"
   ]
  },
  {
   "cell_type": "code",
   "execution_count": null,
   "id": "dff33e9c-2ae6-4f5c-91cc-afd94db3a538",
   "metadata": {},
   "outputs": [],
   "source": [
    "for element in menge:\n",
    "    print(element, end = ', ')"
   ]
  },
  {
   "cell_type": "code",
   "execution_count": null,
   "id": "272d604d-99c0-48d5-b3f6-d6a24779f79e",
   "metadata": {},
   "outputs": [],
   "source": [
    "word = 'abakadabra'\n",
    "letters = set(word)\n",
    "letters, len(letters)"
   ]
  },
  {
   "cell_type": "markdown",
   "id": "ef7c1c8c-9e45-4587-bfc1-1d66c9550991",
   "metadata": {},
   "source": [
    "### Aufgaben\n",
    "1. - Berechne 25 hoch 2 mit `**`.\n",
    "   - Gib mit einer For-Schleife f&uuml;r ein paar Zahlen x // 5 (Ganzzahldivision) und x % 5 (Rest der Division) aus.\n",
    "1. Was ist das Problem mit folgendem Code?  \n",
    "   ```python\n",
    "   numbers = [0, 1, 2, 3, 4, 5, 6, 7, 8, 9]\n",
    "   idx = 10 / 5\n",
    "   print(numbers[idx])\n",
    "   ```\n",
    "   Behebe den Fehler, indem du `//` statt `/` verwendest.\n",
    "\n",
    "1. Benutze einen For-Loop und `append` zum Erstellen einer Liste `numbers` mit den ersten 5 Quadratzahlen.  \n",
    "\n",
    "1. Erzeuge ein Tuple mit 2 Elementen.  \n",
    "   - Versuche das 2. Element durch ein anderes zu ersetzen. Wieso funktioniert das nicht?\n",
    "   - Erzeuge ein neues Tuple mit den gew&uuml;nschten Elementen.\n",
    "   - Verwandle das Tuple in eine Liste, und nimm die Ersetzung vor.\n",
    "\n",
    "1. Mit folgender Funktion wird versucht eine Liste umzudrehen.  \n",
    "Idee: Das jeweils letzte Element wird mit pop entfernt und ans Ende einer neuen Liste gesetzt.  \n",
    "Teste die Funktion. Was geht hier schief?\n",
    "\n",
    "```python\n",
    "def reverse_lst(lst):\n",
    "    lst_rev = []\n",
    "   \n",
    "    for _ in lst:\n",
    "        item = lst.pop()\n",
    "        lst_rev.append(item)\n",
    "        \n",
    "    return lst_rev\n",
    "```\n",
    "6. Geben sind die Listen\n",
    "```python\n",
    "orte = ['Bern', 'Zürich', 'Glattbrugg']\n",
    "orte_mit_plz = [('Bern', 3000), ('Zürich', 8000), ('Glattbrugg', 8152)]\n",
    "```\n",
    "Erstelle daraus eine Dictionary `d`, so dass sich  z.B. die Postleitzahl von Bern mit\n",
    "`d['Bern']` ausgeben l&auml;sst.  \n",
    "Gib die Postleitzahlen aller Orte in der Liste `orte` aus."
   ]
  },
  {
   "cell_type": "code",
   "execution_count": null,
   "id": "ba7d1527-659e-41a4-8a68-d45e31a3d409",
   "metadata": {},
   "outputs": [],
   "source": []
  }
 ],
 "metadata": {
  "author": "dieter.probst@gmail.com",
  "kernelspec": {
   "display_name": "Python 3 (ipykernel)",
   "language": "python",
   "name": "python3"
  },
  "language_info": {
   "codemirror_mode": {
    "name": "ipython",
    "version": 3
   },
   "file_extension": ".py",
   "mimetype": "text/x-python",
   "name": "python",
   "nbconvert_exporter": "python",
   "pygments_lexer": "ipython3",
   "version": "3.8.10"
  }
 },
 "nbformat": 4,
 "nbformat_minor": 5
}
