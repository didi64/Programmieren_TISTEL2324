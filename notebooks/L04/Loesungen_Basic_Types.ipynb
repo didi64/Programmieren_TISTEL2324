{
 "cells": [
  {
   "cell_type": "markdown",
   "id": "562114e6-d559-4767-b80e-444ea0980c7d",
   "metadata": {},
   "source": [
    "### L&ouml;sungen Basic Types"
   ]
  },
  {
   "cell_type": "code",
   "execution_count": null,
   "id": "c540641d-659d-49eb-af53-04242cb30892",
   "metadata": {},
   "outputs": [],
   "source": [
    "# 1a) 25 hoch 2, 25 mal 25\n",
    "25 ** 2, 25 * 25"
   ]
  },
  {
   "cell_type": "code",
   "execution_count": 26,
   "id": "e89f660c-97b0-45aa-bfa5-5bea6e188eec",
   "metadata": {},
   "outputs": [
    {
     "name": "stdout",
     "output_type": "stream",
     "text": [
      "x       x // 5    x % 5\n",
      "-----------------------\n",
      "x = 20, n = (4,), r = 0\n",
      "x = 21, n = (4,), r = 1\n",
      "x = 22, n = (4,), r = 2\n",
      "x = 23, n = (4,), r = 3\n",
      "x = 24, n = (4,), r = 4\n",
      "x = 25, n = (5,), r = 0\n",
      "x = 26, n = (5,), r = 1\n",
      "x = 27, n = (5,), r = 2\n",
      "x = 28, n = (5,), r = 3\n",
      "x = 29, n = (5,), r = 4\n"
     ]
    }
   ],
   "source": [
    "# 1b) Ganzahldivision und Rest der Division mit 5\n",
    "print('x       x // 5    x % 5')\n",
    "print(23 * '-')\n",
    "for x in range(20, 30):\n",
    "    n = x // 5,\n",
    "    r = x % 5\n",
    "    print('x = {}, n = {}, r = {}'.format(x, n, r))"
   ]
  },
  {
   "cell_type": "markdown",
   "id": "e2485eb0-65d1-45ee-93f8-03a2e0673268",
   "metadata": {},
   "source": [
    "***"
   ]
  },
  {
   "cell_type": "code",
   "execution_count": null,
   "id": "cd1538c8-48ca-4ef6-90bb-18340286df47",
   "metadata": {},
   "outputs": [],
   "source": [
    "# 2) \n",
    "#'/' liefert immer ein float\n",
    "# '//' liefert immer ein int\n",
    "numbers = [0, 1, 2, 3, 4, 5, 6, 7, 8, 9]\n",
    "idx = 10 / 5 #\n",
    "print(idx)  # ist ein float, kann nicht als \n",
    "print(numbers[idx]) # idx muss ein Integer sein!"
   ]
  },
  {
   "cell_type": "code",
   "execution_count": null,
   "id": "e63f5962-663e-48b4-a07f-0875df67de2b",
   "metadata": {},
   "outputs": [],
   "source": [
    "numbers = [0, 1, 2, 3, 4, 5, 6, 7, 8, 9]\n",
    "idx = 10 // 5 # Integer\n",
    "print(numbers[idx])"
   ]
  },
  {
   "cell_type": "markdown",
   "id": "befdea08-5586-4b54-bd6d-211737510989",
   "metadata": {},
   "source": [
    "***"
   ]
  },
  {
   "cell_type": "code",
   "execution_count": 11,
   "id": "420e3899-9b81-4699-a427-69131fd762e9",
   "metadata": {},
   "outputs": [
    {
     "name": "stdout",
     "output_type": "stream",
     "text": [
      "[1, 4, 9, 16, 25]\n"
     ]
    }
   ],
   "source": [
    "# 3)Liste numbers mit Quadratzahlen erstellen\n",
    "numbers = []\n",
    "for i in range(1, 6):\n",
    "    numbers.append(i * i)\n",
    "print(numbers)"
   ]
  },
  {
   "cell_type": "markdown",
   "id": "0e4ee477-91af-48ae-be8a-bd80a4cd504e",
   "metadata": {},
   "source": [
    "***"
   ]
  },
  {
   "cell_type": "code",
   "execution_count": 1,
   "id": "443b4145-98d6-4cc8-891d-6dd643cf794d",
   "metadata": {},
   "outputs": [
    {
     "ename": "TypeError",
     "evalue": "'tuple' object does not support item assignment",
     "output_type": "error",
     "traceback": [
      "\u001b[0;31m---------------------------------------------------------------------------\u001b[0m",
      "\u001b[0;31mTypeError\u001b[0m                                 Traceback (most recent call last)",
      "\u001b[0;32m/tmp/ipykernel_50322/302148172.py\u001b[0m in \u001b[0;36m<cell line: 3>\u001b[0;34m()\u001b[0m\n\u001b[1;32m      1\u001b[0m \u001b[0;31m# Tuple aendern\u001b[0m\u001b[0;34m\u001b[0m\u001b[0;34m\u001b[0m\u001b[0;34m\u001b[0m\u001b[0m\n\u001b[1;32m      2\u001b[0m \u001b[0mtpl\u001b[0m \u001b[0;34m=\u001b[0m \u001b[0;34m(\u001b[0m\u001b[0;36m1\u001b[0m\u001b[0;34m,\u001b[0m \u001b[0;36m2\u001b[0m\u001b[0;34m)\u001b[0m\u001b[0;34m\u001b[0m\u001b[0;34m\u001b[0m\u001b[0m\n\u001b[0;32m----> 3\u001b[0;31m \u001b[0mtpl\u001b[0m\u001b[0;34m[\u001b[0m\u001b[0;36m1\u001b[0m\u001b[0;34m]\u001b[0m \u001b[0;34m=\u001b[0m \u001b[0;36m0\u001b[0m \u001b[0;31m# Tuple ist immutable (kann mannicht aendern!)\u001b[0m\u001b[0;34m\u001b[0m\u001b[0;34m\u001b[0m\u001b[0m\n\u001b[0m",
      "\u001b[0;31mTypeError\u001b[0m: 'tuple' object does not support item assignment"
     ]
    }
   ],
   "source": [
    "# 4) Tuple aendern\n",
    "tpl = (1, 2)\n",
    "tpl[1] = 0 # Tuple ist immutable (kann mannicht aendern!)"
   ]
  },
  {
   "cell_type": "code",
   "execution_count": null,
   "id": "24cd04d0-5f81-4d77-8ae5-658482b266e4",
   "metadata": {},
   "outputs": [],
   "source": [
    "# neues Tuple\n",
    "tpl1 = (tpl[0], 0)\n",
    "tpl1"
   ]
  },
  {
   "cell_type": "code",
   "execution_count": null,
   "id": "8ca4fb32-62bb-4904-b12b-194f018efc01",
   "metadata": {},
   "outputs": [],
   "source": [
    "# Tuple in Liste umwandeln und modifizieren\n",
    "lst = list(tpl)\n",
    "lst[1] = 0\n",
    "tuple(lst)"
   ]
  },
  {
   "cell_type": "markdown",
   "id": "72397aae-e3b1-4883-bf23-d832f8561bd9",
   "metadata": {},
   "source": [
    "***"
   ]
  },
  {
   "cell_type": "code",
   "execution_count": 27,
   "id": "dce9b65f-7111-4119-bb29-0c2f8bc32af8",
   "metadata": {},
   "outputs": [],
   "source": [
    "# 5) Vorsicht: nie ueber eine Liste iterieren und diese gleichzeitig aendern\n",
    "def reverse_lst(lst):\n",
    "    lst_rev = []\n",
    "   \n",
    "    for _ in lst:\n",
    "        item = lst.pop()\n",
    "        lst_rev.append(item)\n",
    "        \n",
    "    return lst_rev"
   ]
  },
  {
   "cell_type": "code",
   "execution_count": 28,
   "id": "431b25fc-c132-4ef6-bcbd-e3eabf5ff31d",
   "metadata": {},
   "outputs": [
    {
     "data": {
      "text/plain": [
       "[4, 3]"
      ]
     },
     "execution_count": 28,
     "metadata": {},
     "output_type": "execute_result"
    }
   ],
   "source": [
    "reverse_lst([1,2,3,4])"
   ]
  },
  {
   "cell_type": "code",
   "execution_count": 29,
   "id": "79f7ebc6-f566-4c62-baa4-9e6988a43e35",
   "metadata": {},
   "outputs": [],
   "source": [
    "def reverse_word(lst):\n",
    "    lst_rev = []\n",
    "   \n",
    "    n = len(lst)\n",
    "    for i in range(n):\n",
    "        # Listenelemente von hinten nach vorne herausgreifen\n",
    "        item = lst[n-1-i]\n",
    "        lst_rev.append(item)\n",
    "        \n",
    "    return lst_rev"
   ]
  },
  {
   "cell_type": "code",
   "execution_count": 30,
   "id": "2ed3aea0-881e-49f5-bda7-ea7e34cc7c40",
   "metadata": {},
   "outputs": [
    {
     "data": {
      "text/plain": [
       "['d', 'c', 'b', 'a']"
      ]
     },
     "execution_count": 30,
     "metadata": {},
     "output_type": "execute_result"
    }
   ],
   "source": [
    "reverse_word('abcd')"
   ]
  },
  {
   "cell_type": "markdown",
   "id": "b7175830-49b6-4e25-8bc1-eda0d1ffa423",
   "metadata": {},
   "source": [
    "***"
   ]
  },
  {
   "cell_type": "code",
   "execution_count": 12,
   "id": "d27fd0e2-f459-48ec-bdd7-96b86c6e9b33",
   "metadata": {},
   "outputs": [
    {
     "data": {
      "text/plain": [
       "3000"
      ]
     },
     "execution_count": 12,
     "metadata": {},
     "output_type": "execute_result"
    }
   ],
   "source": [
    "# 6) Dictionary erstellen\n",
    "orte = ['Bern', 'Zürich', 'Glattbrugg']\n",
    "orte_mit_plz = [('Bern', 3000), ('Zürich', 8000), ('Glattbrugg', 8152)]\n",
    "\n",
    "d = dict(orte_mit_plz)\n",
    "d['Bern']"
   ]
  },
  {
   "cell_type": "code",
   "execution_count": 13,
   "id": "e4510cec-5b32-4b64-90bd-86997f320981",
   "metadata": {},
   "outputs": [
    {
     "name": "stdout",
     "output_type": "stream",
     "text": [
      "3000\n",
      "8000\n",
      "8152\n"
     ]
    }
   ],
   "source": [
    "for ort in orte:\n",
    "    print(d[ort])"
   ]
  }
 ],
 "metadata": {
  "kernelspec": {
   "display_name": "Python 3 (ipykernel)",
   "language": "python",
   "name": "python3"
  },
  "language_info": {
   "codemirror_mode": {
    "name": "ipython",
    "version": 3
   },
   "file_extension": ".py",
   "mimetype": "text/x-python",
   "name": "python",
   "nbconvert_exporter": "python",
   "pygments_lexer": "ipython3",
   "version": "3.8.10"
  }
 },
 "nbformat": 4,
 "nbformat_minor": 5
}
