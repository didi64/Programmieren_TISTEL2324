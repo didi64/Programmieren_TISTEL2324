{
 "cells": [
  {
   "cell_type": "markdown",
   "id": "b3c3c12e-7d03-4f6b-a55f-63161681d37e",
   "metadata": {},
   "source": [
    "### List-Comprehension\n",
    "siehe auch\n",
    "https://www.w3schools.com/python und\n",
    "https://docs.python.org/3/tutorial/datastructures.html#list-comprehensions\n",
    "\n",
    "Folgende Code-Muster zum Erstellen von Listen kommen in Python sehr h&auml;ufig vor.  \n",
    "Python stellt deshalb sog. **Listcomprehension** zur Verf&uuml;gung, welche eine kompaktere\n",
    "Formulierung solchen Codes erlaubt."
   ]
  },
  {
   "cell_type": "markdown",
   "id": "2a08cc6e-e3f5-46b5-85be-fec65f74669e",
   "metadata": {},
   "source": [
    "***\n",
    "Mit For-Loop:\n",
    "***"
   ]
  },
  {
   "cell_type": "code",
   "execution_count": 1,
   "id": "07e45602-a9d9-49ef-ab4a-f0fda6c73f55",
   "metadata": {},
   "outputs": [
    {
     "data": {
      "text/plain": [
       "['a', 'b', 'a', 'k', 'a', 'd', 'a', 'b', 'r', 'a']"
      ]
     },
     "execution_count": 1,
     "metadata": {},
     "output_type": "execute_result"
    }
   ],
   "source": [
    "wort = 'abakadabra'\n",
    "\n",
    "buchstaben = []\n",
    "for buchstabe in wort:\n",
    "    buchstaben.append(buchstabe)\n",
    "\n",
    "buchstaben    "
   ]
  },
  {
   "cell_type": "markdown",
   "id": "9e528402-de26-4231-9a20-10bf2b9229cc",
   "metadata": {},
   "source": [
    "***\n",
    "Mit Listcomrehension:\n",
    "***"
   ]
  },
  {
   "cell_type": "code",
   "execution_count": 2,
   "id": "8f0dd73c-6d51-434d-8e27-9142ed155590",
   "metadata": {},
   "outputs": [
    {
     "data": {
      "text/plain": [
       "['a', 'b', 'a', 'k', 'a', 'd', 'a', 'b', 'r', 'a']"
      ]
     },
     "execution_count": 2,
     "metadata": {},
     "output_type": "execute_result"
    }
   ],
   "source": [
    "wort = 'abakadabra'\n",
    "buchstaben = [buchstabe for buchstabe in wort]\n",
    "\n",
    "buchstaben    "
   ]
  },
  {
   "cell_type": "markdown",
   "id": "e78f11c3-8527-4a56-bbe1-382db7397cdf",
   "metadata": {},
   "source": [
    "***\n",
    "Mit For-Loop:\n",
    "***"
   ]
  },
  {
   "cell_type": "code",
   "execution_count": 3,
   "id": "2e7f4ed6-5811-4b63-9423-04df279d38b5",
   "metadata": {},
   "outputs": [
    {
     "data": {
      "text/plain": [
       "[0, 2, 4, 6, 9]"
      ]
     },
     "execution_count": 3,
     "metadata": {},
     "output_type": "execute_result"
    }
   ],
   "source": [
    "wort = 'abakadabra'\n",
    "positionen_von_a = []\n",
    "for i, buchstabe in enumerate(wort):\n",
    "    if buchstabe == 'a':\n",
    "        positionen_von_a.append(i)\n",
    "\n",
    "positionen_von_a  "
   ]
  },
  {
   "cell_type": "markdown",
   "id": "2e7bbd48-260d-4372-ade1-c263f12ad31d",
   "metadata": {},
   "source": [
    "***\n",
    "Mit Listcomrehension:\n",
    "***"
   ]
  },
  {
   "cell_type": "code",
   "execution_count": 4,
   "id": "716f3fa5-e3a4-4ad8-a875-ed7bac329fc9",
   "metadata": {},
   "outputs": [
    {
     "data": {
      "text/plain": [
       "[0, 2, 4, 6, 9]"
      ]
     },
     "execution_count": 4,
     "metadata": {},
     "output_type": "execute_result"
    }
   ],
   "source": [
    "wort = 'abakadabra'\n",
    "positionen_von_a = [i for i, buchstabe in enumerate(wort) if buchstabe == 'a']\n",
    "\n",
    "positionen_von_a  "
   ]
  },
  {
   "cell_type": "markdown",
   "id": "f8add1a8-16f2-402e-a88b-108990c28948",
   "metadata": {},
   "source": [
    "### List-Comprehesion, allgemeine Form\n",
    "\n",
    "- `lst = [<Ausdruck in x> for x in <iterable>]`  \n",
    "  ist Kurzform f&uuml;r\n",
    "\n",
    "```python\n",
    "lst = []\n",
    "for x in <iterable>:\n",
    "    item = <Ausdruck in x>\n",
    "    lst.append(item)\n",
    "```\n",
    "- `lst = [<Ausdruck in x> for x in <iterable> if <expression>]`  \n",
    "  ist Kurzform f&uuml;r\n",
    "\n",
    "```python\n",
    "lst = []\n",
    "for x in <iterable>:\n",
    "    if <Bedingung>:\n",
    "        item = <Ausdruck in x>\n",
    "        lst.append(item)\n",
    "```"
   ]
  },
  {
   "cell_type": "markdown",
   "id": "866a162c-d5ca-42db-a42b-def01791c695",
   "metadata": {},
   "source": [
    "***\n",
    "**Beispiele**:\n",
    "***"
   ]
  },
  {
   "cell_type": "code",
   "execution_count": 5,
   "id": "ede0915c-a48f-4e52-9097-34d2fd89a2e0",
   "metadata": {},
   "outputs": [
    {
     "data": {
      "text/plain": [
       "['H', 'A', 'L', 'L', 'O']"
      ]
     },
     "execution_count": 5,
     "metadata": {},
     "output_type": "execute_result"
    }
   ],
   "source": [
    "word   = 'hallo'\n",
    "[ch.upper() for ch in 'hallo'] "
   ]
  },
  {
   "cell_type": "code",
   "execution_count": 6,
   "id": "a47c8420-9c8e-4d3f-b038-8094c9c56ef8",
   "metadata": {},
   "outputs": [
    {
     "data": {
      "text/plain": [
       "['a', 'o']"
      ]
     },
     "execution_count": 6,
     "metadata": {},
     "output_type": "execute_result"
    }
   ],
   "source": [
    "# Sammle alle Vokale, die in einem Wort vorkommen\n",
    "\n",
    "VOKALE = 'AEIOU'\n",
    "word   = 'hallo'\n",
    "\n",
    "[ch for ch in word if ch.upper() in VOKALE]"
   ]
  },
  {
   "cell_type": "code",
   "execution_count": 7,
   "id": "03b0bf53-81c2-4e31-a45d-098cfcaca419",
   "metadata": {},
   "outputs": [
    {
     "data": {
      "text/plain": [
       "['h', 'l', 'l']"
      ]
     },
     "execution_count": 7,
     "metadata": {},
     "output_type": "execute_result"
    }
   ],
   "source": [
    "# Sammle alle Konsonanten, die in einem Wort vorkommen\n",
    "[ch for ch in word if ch.upper() not in VOKALE]"
   ]
  },
  {
   "cell_type": "markdown",
   "id": "917a672b-d110-4b93-9e8e-a691ef1b0188",
   "metadata": {},
   "source": [
    "### Tuple-Comprehension\n",
    "Analog zu List-Comprehension. Z.B.  \n",
    "`tp = tupel(<Ausdruck in x> for x in <iterable>)`  \n",
    "  hat den gleichen Effekt wie\n",
    "\n",
    "```python\n",
    "tp = []\n",
    "for x in <iterable>:\n",
    "    item = <Ausdruck in x>\n",
    "    tp.append(item)\n",
    "t = tuple(tp)    \n",
    "```"
   ]
  },
  {
   "cell_type": "code",
   "execution_count": 8,
   "id": "576f5e4e-9089-4d99-be8e-34e3dba35ab1",
   "metadata": {},
   "outputs": [
    {
     "data": {
      "text/plain": [
       "('Übung', 'Atmung', 'Begrüssung', 'Ehrung', 'Einigung', 'Endung')"
      ]
     },
     "execution_count": 8,
     "metadata": {},
     "output_type": "execute_result"
    }
   ],
   "source": [
    "words = ['Übung', 'Haus', 'Atmung', 'TV', 'Begrüssung', 'Hund', 'Ehrung', 'Einigung', 'Endung']\n",
    "ungs = tuple(word for word in words if word[-3:] == 'ung')\n",
    "ungs"
   ]
  },
  {
   "cell_type": "markdown",
   "id": "ca70d8d5-8f24-47a0-93ab-c289a5942eae",
   "metadata": {},
   "source": [
    "### Unterschiede zwischen expliziter Verwendung eines For-Loops und Listcomprehesion  \n",
    "- Wird ein expliziter For-Loop verwendet, ist die Schleifenvariable eine **globale** Variable.  \n",
    "  Die **Schleifenvariable  beh&auml;lt ihren Wert**.  \n",
    "\n",
    "- Wird Listcomprehesion verwendet, so ist die Schleifenvariable  eine **lokale** Variable und ist nur innerhalb der Listcomprehesion sichtbar. \n",
    "  **Ausserhalb der Listcomprehesion ist die Schleifenvariable nicht definiert**.\n"
   ]
  },
  {
   "cell_type": "code",
   "execution_count": 9,
   "id": "f15673f4-3826-4599-aec8-4ac34b5199c3",
   "metadata": {},
   "outputs": [
    {
     "data": {
      "text/plain": [
       "'a'"
      ]
     },
     "execution_count": 9,
     "metadata": {},
     "output_type": "execute_result"
    }
   ],
   "source": [
    "buchstaben = []\n",
    "for buchstabe in 'abakadabra':\n",
    "    buchstaben.append(buchstabe)\n",
    "\n",
    "# buchstabe hat Wert vom letzten Schleifendurchlauf\n",
    "buchstabe"
   ]
  },
  {
   "cell_type": "code",
   "execution_count": 10,
   "id": "5f4cca38-e3dd-494e-a5a1-0ff5e3c89cc0",
   "metadata": {},
   "outputs": [
    {
     "ename": "NameError",
     "evalue": "name 'ch' is not defined",
     "output_type": "error",
     "traceback": [
      "\u001b[0;31m---------------------------------------------------------------------------\u001b[0m",
      "\u001b[0;31mNameError\u001b[0m                                 Traceback (most recent call last)",
      "\u001b[0;32m/tmp/ipykernel_986555/2051224364.py\u001b[0m in \u001b[0;36m<cell line: 2>\u001b[0;34m()\u001b[0m\n\u001b[1;32m      1\u001b[0m \u001b[0mbuchstaben\u001b[0m \u001b[0;34m=\u001b[0m \u001b[0;34m[\u001b[0m\u001b[0mch\u001b[0m \u001b[0;32mfor\u001b[0m \u001b[0mch\u001b[0m \u001b[0;32min\u001b[0m \u001b[0;34m'abakadabra'\u001b[0m\u001b[0;34m]\u001b[0m\u001b[0;34m\u001b[0m\u001b[0;34m\u001b[0m\u001b[0m\n\u001b[0;32m----> 2\u001b[0;31m \u001b[0mch\u001b[0m \u001b[0;31m# NameError\u001b[0m\u001b[0;34m\u001b[0m\u001b[0;34m\u001b[0m\u001b[0m\n\u001b[0m",
      "\u001b[0;31mNameError\u001b[0m: name 'ch' is not defined"
     ]
    }
   ],
   "source": [
    "buchstaben = [ch for ch in 'abakadabra']\n",
    "ch # NameError"
   ]
  },
  {
   "cell_type": "markdown",
   "id": "a4fe1373-2f63-4fb8-965a-b76311b4acb5",
   "metadata": {},
   "source": [
    "***\n",
    "### Weitere Beispiele\n",
    "Wir nutzen den Membership-Test `in` (bez. `not in`) und den Operator `min`, der das kleinste Element zur&uuml;ck gibt:\n",
    "```python\n",
    "ziffern = '0123456789'\n",
    "'4' in ziffern # True\n",
    "'a' not in ziffern # True\n",
    "```\n",
    "\n",
    "**Minimum** (kleinstes Element) in einer Liste finden:\n",
    "```python\n",
    "min([4,6,2,8,7]) # kleinste Zahl: 2\n",
    "min(['omega', 'foo', 'baa', 'alpha'] # alphabetisch kleinstes Wort: alpha\n",
    "min([ (3,4,1), (2,1,1,1), (1,3,7,8,9)]) # alphabetisch kleinstes Tuple: (1,3,7,8,9)\n",
    "```\n",
    "***"
   ]
  },
  {
   "cell_type": "markdown",
   "id": "afcdd3f3-8c15-4e40-b688-592071bd29ef",
   "metadata": {},
   "source": [
    "**Entferne alle Ziffern aus einem String**"
   ]
  },
  {
   "cell_type": "code",
   "execution_count": 11,
   "id": "85e3439f-bb65-4410-a06d-4261a9271c5b",
   "metadata": {},
   "outputs": [
    {
     "data": {
      "text/plain": [
       "'foo, bar'"
      ]
     },
     "execution_count": 11,
     "metadata": {},
     "output_type": "execute_result"
    }
   ],
   "source": [
    "# explixiter For-Loop\n",
    "text = 'foo23, ba2r'\n",
    "ziffern = '0123456789'\n",
    "    \n",
    "chars = []\n",
    "for ch in text:\n",
    "    if ch not in ziffern:\n",
    "        chars.append(ch)\n",
    "        \n",
    "''.join(chars)"
   ]
  },
  {
   "cell_type": "code",
   "execution_count": 12,
   "id": "fda4d7d1-28c7-4bcb-beaf-543a135a7933",
   "metadata": {},
   "outputs": [
    {
     "data": {
      "text/plain": [
       "'foo, bar'"
      ]
     },
     "execution_count": 12,
     "metadata": {},
     "output_type": "execute_result"
    }
   ],
   "source": [
    "# mit Listcomprehension\n",
    "''.join([ch  for ch in text if ch not in ziffern])"
   ]
  },
  {
   "cell_type": "markdown",
   "id": "b0c8ed62-c4f9-4fc4-847f-4e5717973893",
   "metadata": {},
   "source": [
    "**Welche dieser Zahlen ist am n&auml;chsten bei 20**?"
   ]
  },
  {
   "cell_type": "code",
   "execution_count": 16,
   "id": "8de2a182-0892-412f-afec-7671e89f68bc",
   "metadata": {},
   "outputs": [
    {
     "name": "stdout",
     "output_type": "stream",
     "text": [
      "[(19, 1), (7, 13), (6, 26), (10, 30)]\n"
     ]
    },
    {
     "data": {
      "text/plain": [
       "26"
      ]
     },
     "execution_count": 16,
     "metadata": {},
     "output_type": "execute_result"
    }
   ],
   "source": [
    "# explixiter For-Loop\n",
    "zahlen =  [1, 13, 26, 30]\n",
    "lst = []\n",
    "\n",
    "for zahl in zahlen:\n",
    "    abstand = abs(zahl - 20)\n",
    "    tpl = (abstand, zahl)\n",
    "    lst.append(tpl)\n",
    "\n",
    "print(lst)\n",
    "min(lst)[1]    "
   ]
  },
  {
   "cell_type": "code",
   "execution_count": 15,
   "id": "ac094c4a-e7bc-4f96-90fa-871ac41e1022",
   "metadata": {},
   "outputs": [
    {
     "data": {
      "text/plain": [
       "26"
      ]
     },
     "execution_count": 15,
     "metadata": {},
     "output_type": "execute_result"
    }
   ],
   "source": [
    "# mit Listcomprehension\n",
    "zahlen =  [1, 13, 26, 30]\n",
    "min([(abs(zahl - 20), zahl) for zahl in zahlen])[1]"
   ]
  },
  {
   "cell_type": "markdown",
   "id": "2e16c76d-16a7-4185-9f83-3d502a95a146",
   "metadata": {},
   "source": [
    "### Aufgaben  \n",
    "Wir arbeiten mit folgenden Daten:  \n",
    "\n",
    "```python  \n",
    "widths = (10, 10, 25)\n",
    "header  = ('Vorname', 'Name', ' Email')\n",
    "table   = [('Hans', 'Muster', 'hans.muster@edu.teko.ch'),\n",
    "           ('Betty', 'Bossi', 'betty.bossi@edu.teko.ch'),\n",
    "          ]\n",
    "```\n",
    "\n",
    "Kopiere den Code zu der Aufgabe in eine Code-Zelle, und \n",
    "finde heraus, was der Code tut. Was macht die String-Methode `str.ljust` ?   \n",
    "Vereinfache den Code dann mit Listcomprehension.\n",
    "\n",
    "```python  \n",
    "# 1)\n",
    "hlines = []\n",
    "for width in widths:\n",
    "    hline = '-' * width\n",
    "    hlines.append(hline)\n",
    "\n",
    "hlines\n",
    "\n",
    "# 2)\n",
    "fheader = []\n",
    "for word, width in zip(header, widths):\n",
    "    fword = word.ljust(width)\n",
    "    fheader.append(fword)\n",
    "fheader  \n",
    "\n",
    "# 3)\n",
    "ftable = []\n",
    "for row in table:\n",
    "    frow = [word.ljust(width) for word, width in zip(row, widths)]\n",
    "    ftable.append(frow)\n",
    "    \n",
    "ftable   \n",
    "```\n",
    "\n",
    "4. Benutze die String-Methode `str.join` um `fheader`, `hlines` und `ftable` in folgender Form auszugeben.\n",
    "\n",
    "```\n",
    "Vorname    | Name       |  Email                   \n",
    "---------- | ---------- | -------------------------\n",
    "Hans       | Muster     | hans.muster@edu.teko.ch  \n",
    "Betty      | Bossi      | betty.bossi@edu.teko.ch  \n",
    "```\n",
    "\n",
    "5. Schreibe eine Funktion `print_table(widths, header, table)`, welche\n",
    "obigen Output produziert."
   ]
  },
  {
   "cell_type": "code",
   "execution_count": null,
   "id": "b8b03124-f553-4be7-825b-fda2f7814294",
   "metadata": {},
   "outputs": [],
   "source": []
  }
 ],
 "metadata": {
  "author": "dieter.probst@gmail.com",
  "kernelspec": {
   "display_name": "Python 3 (ipykernel)",
   "language": "python",
   "name": "python3"
  },
  "language_info": {
   "codemirror_mode": {
    "name": "ipython",
    "version": 3
   },
   "file_extension": ".py",
   "mimetype": "text/x-python",
   "name": "python",
   "nbconvert_exporter": "python",
   "pygments_lexer": "ipython3",
   "version": "3.8.10"
  }
 },
 "nbformat": 4,
 "nbformat_minor": 5
}
