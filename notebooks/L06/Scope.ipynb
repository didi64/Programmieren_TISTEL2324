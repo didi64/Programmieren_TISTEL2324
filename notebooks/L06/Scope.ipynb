{
 "cells": [
  {
   "cell_type": "markdown",
   "metadata": {},
   "source": [
    "### Scope, globale und lokale Variabeln\n",
    "\n",
    "Eine Variable ist nur innerhalb der Umgebung (Funktion, Klasse oder Modul) sichtbar, in welcher sie erzeugt wurde.\n",
    "[Scope, W3School] (https://www.w3schools.com/python/python_scope.asp).  \n",
    "\n",
    "Das Ausf&uuml;hren einer Funktion erzeugt eine neue Scope.  \n",
    "Innerhalb einer Funktion definierte Variablen geh&ouml;ren zu dieser Scope. \n",
    "Nach dem Ausf&uuml;hren der Funktion wird diese Scope wieder gel&ouml;scht.  \n",
    "Variabeln in einer &auml;usseren Scope sind sichtbar (Lesezugriff)\n",
    "\n",
    "\n",
    "<img src = \"../Tistel_2324/images/scopes.png\">  "
   ]
  },
  {
   "cell_type": "markdown",
   "metadata": {},
   "source": [
    "### Globale und lokale Variablen\n",
    "Globale Variable\n",
    "- ausserhalb einer Funktion definiert\n",
    "- Lesezugriff von innerhalb einer Funktion, \n",
    "  **kein** Schreibzugriff von innerhalb der Funktion\n",
    "\n",
    "Lokale Variablen\n",
    "- innerhalb einer Funktion definierte Variabeln und Funktionsargumente  \n",
    "  nur w&auml;hrend der Funktionsausf&uuml;hrung vorhanden\n",
    "- eine lokale Variable \n",
    "\n",
    "**Wieso ist Lesezugriff von einer inneren Scope her ok**?  \n",
    "\n",
    "Es w&auml;re ausserordenlich unpraktisch, wenn eine globale Variable auch f&uuml;r Lesezugriff vorg&auml;ngig als `global` deklariert werden m&uuml;sste: Jeder Funktionsaufruf ist ein Lesezugriff auf eine globale Variable.\n",
    "\n",
    "**Das Keyword** `global`:  \n",
    "Innerhalb einer Funktion kann man mittels des Keywords `global` Variablen als deklarieren: \n",
    "\n",
    "```python\n",
    "    def f():\n",
    "        # Alle Operationen mit den Variablen x und y werden in der globalen Scope\n",
    "        # ausgefuehrt.\n",
    "        \n",
    "        # Erlaubt z.B. Schreibzugriff auf existierende globale Variable x\n",
    "        # Erlaub erstellen einer noch nicht existierenden globalen Variable x\n",
    "        global x, y\n",
    "        ...\n",
    "```\n",
    "\n",
    "Das Keyword `global` sollte gemieden werden (verhindert unbeabsichtiges &Uuml;berschreiben globaler Variablen)."
   ]
  },
  {
   "cell_type": "markdown",
   "metadata": {},
   "source": [
    "***\n",
    "**globales `x`, lokales `y`**"
   ]
  },
  {
   "cell_type": "code",
   "execution_count": 2,
   "metadata": {},
   "outputs": [],
   "source": [
    "x = 'globales x' # global, ueberall sichtbar\n",
    "\n",
    "def f():\n",
    "    y = 'lokales y' # local\n",
    "    print('in f: x = {}'.format(x))\n",
    "    print('in f: y = {}'.format(y))"
   ]
  },
  {
   "cell_type": "code",
   "execution_count": 3,
   "metadata": {},
   "outputs": [
    {
     "name": "stdout",
     "output_type": "stream",
     "text": [
      "ausserhalb f: x = globales x\n",
      "in f: x = globales x\n",
      "in f: y = lokales y\n"
     ]
    }
   ],
   "source": [
    "print('ausserhalb f: x = {}'.format(x))\n",
    "f()"
   ]
  },
  {
   "cell_type": "markdown",
   "metadata": {},
   "source": [
    "***\n",
    "**globales `x` und lokales `x`**"
   ]
  },
  {
   "cell_type": "code",
   "execution_count": 4,
   "metadata": {},
   "outputs": [],
   "source": [
    "def g():\n",
    "    x = 'lokales x' # local, verdeckt (shadows) globales x\n",
    "    print('in g: x = {}'.format(x))"
   ]
  },
  {
   "cell_type": "code",
   "execution_count": 5,
   "metadata": {},
   "outputs": [
    {
     "name": "stdout",
     "output_type": "stream",
     "text": [
      "in g: x = lokales x\n",
      "ausserhalb g: x = globales x\n"
     ]
    }
   ],
   "source": [
    "g()\n",
    "print('ausserhalb g: x = {}'.format(x))"
   ]
  },
  {
   "cell_type": "code",
   "execution_count": 6,
   "metadata": {},
   "outputs": [],
   "source": [
    "def h(x):\n",
    "    print('in h: x = {}'.format(x))"
   ]
  },
  {
   "cell_type": "code",
   "execution_count": 7,
   "metadata": {},
   "outputs": [
    {
     "name": "stdout",
     "output_type": "stream",
     "text": [
      "in h: x = lokales x\n",
      "ausserhalb h: x = globales x\n"
     ]
    }
   ],
   "source": [
    "h('lokales x')\n",
    "print('ausserhalb h: x = {}'.format(x))"
   ]
  },
  {
   "cell_type": "markdown",
   "metadata": {},
   "source": [
    "***\n",
    "**die Rolle einer Variablen muss eindeutig sein: entweder lokal oder global**"
   ]
  },
  {
   "cell_type": "code",
   "execution_count": 8,
   "metadata": {},
   "outputs": [],
   "source": [
    "def fun():\n",
    "    # Erzeugt beim der Ausfuehrung einen Fehler: \n",
    "    # x ist lokale Variable, aber hier noch nicht definiert\n",
    "    print('in f: x = {}'.format(x)) \n",
    "    \n",
    "    # lokale Variable x\n",
    "    x = 'lokales x' \n",
    "    print('in f: x = {}'.format(x))"
   ]
  },
  {
   "cell_type": "code",
   "execution_count": 9,
   "metadata": {},
   "outputs": [
    {
     "ename": "UnboundLocalError",
     "evalue": "local variable 'x' referenced before assignment",
     "output_type": "error",
     "traceback": [
      "\u001b[0;31m---------------------------------------------------------------------------\u001b[0m",
      "\u001b[0;31mUnboundLocalError\u001b[0m                         Traceback (most recent call last)",
      "\u001b[0;32m/tmp/ipykernel_3188966/529771688.py\u001b[0m in \u001b[0;36m<cell line: 1>\u001b[0;34m()\u001b[0m\n\u001b[0;32m----> 1\u001b[0;31m \u001b[0mfun\u001b[0m\u001b[0;34m(\u001b[0m\u001b[0;34m)\u001b[0m\u001b[0;34m\u001b[0m\u001b[0;34m\u001b[0m\u001b[0m\n\u001b[0m",
      "\u001b[0;32m/tmp/ipykernel_3188966/501107214.py\u001b[0m in \u001b[0;36mfun\u001b[0;34m()\u001b[0m\n\u001b[1;32m      2\u001b[0m     \u001b[0;31m# Erzeugt beim der Ausfuehrung einen Fehler:\u001b[0m\u001b[0;34m\u001b[0m\u001b[0;34m\u001b[0m\u001b[0;34m\u001b[0m\u001b[0m\n\u001b[1;32m      3\u001b[0m     \u001b[0;31m# x ist lokale Variable, aber hier noch nicht definiert\u001b[0m\u001b[0;34m\u001b[0m\u001b[0;34m\u001b[0m\u001b[0;34m\u001b[0m\u001b[0m\n\u001b[0;32m----> 4\u001b[0;31m     \u001b[0mprint\u001b[0m\u001b[0;34m(\u001b[0m\u001b[0;34m'in f: x = {}'\u001b[0m\u001b[0;34m.\u001b[0m\u001b[0mformat\u001b[0m\u001b[0;34m(\u001b[0m\u001b[0mx\u001b[0m\u001b[0;34m)\u001b[0m\u001b[0;34m)\u001b[0m\u001b[0;34m\u001b[0m\u001b[0;34m\u001b[0m\u001b[0m\n\u001b[0m\u001b[1;32m      5\u001b[0m \u001b[0;34m\u001b[0m\u001b[0m\n\u001b[1;32m      6\u001b[0m     \u001b[0;31m# lokale Variable x\u001b[0m\u001b[0;34m\u001b[0m\u001b[0;34m\u001b[0m\u001b[0;34m\u001b[0m\u001b[0m\n",
      "\u001b[0;31mUnboundLocalError\u001b[0m: local variable 'x' referenced before assignment"
     ]
    }
   ],
   "source": [
    "fun()"
   ]
  },
  {
   "cell_type": "markdown",
   "metadata": {},
   "source": [
    "***\n",
    "**Methodenaufruf eines Objektes ist ein Lesezugriff**"
   ]
  },
  {
   "cell_type": "code",
   "execution_count": 10,
   "metadata": {},
   "outputs": [],
   "source": [
    "lst = [1, 2, 3]\n",
    "\n",
    "def add_element_to_list(item):\n",
    "    lst.append(item)\n",
    "    \n",
    "def modify_list_item(idx, val):\n",
    "    # kein Schreibzugriff, sondern Methodenaufruf\n",
    "    lst[idx] = val # aequivalent zur naechsten Zeile\n",
    "    # lst.__setitem__(idx, val)"
   ]
  },
  {
   "cell_type": "code",
   "execution_count": 11,
   "metadata": {},
   "outputs": [
    {
     "name": "stdout",
     "output_type": "stream",
     "text": [
      "[1, 2, 3]\n",
      "[1, 2, 3, 4]\n"
     ]
    }
   ],
   "source": [
    "print(lst)\n",
    "add_element_to_list(lst[-1] + 1)\n",
    "print(lst)"
   ]
  },
  {
   "cell_type": "code",
   "execution_count": 12,
   "metadata": {},
   "outputs": [
    {
     "name": "stdout",
     "output_type": "stream",
     "text": [
      "[1, 2, 3, 4]\n",
      "[1, 2, 42, 4]\n"
     ]
    }
   ],
   "source": [
    "print(lst)\n",
    "modify_list_item(2, 42)\n",
    "print(lst)"
   ]
  },
  {
   "cell_type": "markdown",
   "metadata": {},
   "source": [
    "**Funktionsdefinitionen** k&ouml;nnen geschachtelt werden"
   ]
  },
  {
   "cell_type": "code",
   "execution_count": 13,
   "metadata": {},
   "outputs": [],
   "source": [
    "def f1():\n",
    "    # nur innerhalb von f1 definierte Funktion\n",
    "    def f2():\n",
    "        x = 'lokales x'\n",
    "        print('in f2: x = {}'.format(x)) \n",
    "    \n",
    "    print('in f1: x = {}'.format(x)) \n",
    "    f2()"
   ]
  },
  {
   "cell_type": "code",
   "execution_count": 14,
   "metadata": {},
   "outputs": [
    {
     "name": "stdout",
     "output_type": "stream",
     "text": [
      "in f1: x = globales x\n",
      "in f2: x = lokales x\n"
     ]
    }
   ],
   "source": [
    "f1()"
   ]
  },
  {
   "cell_type": "code",
   "execution_count": 15,
   "metadata": {},
   "outputs": [
    {
     "ename": "NameError",
     "evalue": "name 'f2' is not defined",
     "output_type": "error",
     "traceback": [
      "\u001b[0;31m---------------------------------------------------------------------------\u001b[0m",
      "\u001b[0;31mNameError\u001b[0m                                 Traceback (most recent call last)",
      "\u001b[0;32m/tmp/ipykernel_3188966/1603317987.py\u001b[0m in \u001b[0;36m<cell line: 1>\u001b[0;34m()\u001b[0m\n\u001b[0;32m----> 1\u001b[0;31m \u001b[0mf2\u001b[0m\u001b[0;34m(\u001b[0m\u001b[0;34m)\u001b[0m\u001b[0;34m\u001b[0m\u001b[0;34m\u001b[0m\u001b[0m\n\u001b[0m",
      "\u001b[0;31mNameError\u001b[0m: name 'f2' is not defined"
     ]
    }
   ],
   "source": [
    "f2()"
   ]
  },
  {
   "cell_type": "code",
   "execution_count": null,
   "metadata": {},
   "outputs": [],
   "source": []
  },
  {
   "cell_type": "markdown",
   "metadata": {},
   "source": [
    "**das Keyword** `global`:  \n",
    "    "
   ]
  },
  {
   "cell_type": "code",
   "execution_count": 17,
   "metadata": {},
   "outputs": [],
   "source": [
    "def g1():\n",
    "    # die Variabeln x und z werden als globale Variable behandelt\n",
    "    global x, z\n",
    "    \n",
    "    # globales x lesen\n",
    "    print('in g1: x = {}'.format(x))\n",
    "    \n",
    "    # globales x modifizieren\n",
    "    x = 'modifiziertes globales x'\n",
    "    print('in g1: x = {}'.format(x))\n",
    "    \n",
    "    # globale Variable z wird definiert\n",
    "    z = 'globales z'"
   ]
  },
  {
   "cell_type": "code",
   "execution_count": 18,
   "metadata": {},
   "outputs": [
    {
     "name": "stdout",
     "output_type": "stream",
     "text": [
      "in g1: x = globales x\n",
      "in g1: x = modifiziertes globales x\n",
      "modifiziertes globales x\n",
      "globales z\n"
     ]
    }
   ],
   "source": [
    "g1()\n",
    "print(x)\n",
    "print(z)"
   ]
  },
  {
   "cell_type": "code",
   "execution_count": null,
   "metadata": {},
   "outputs": [],
   "source": []
  },
  {
   "cell_type": "code",
   "execution_count": 22,
   "metadata": {},
   "outputs": [],
   "source": [
    "def h_1():\n",
    "    x = 5\n",
    "    print(x)\n",
    "    \n",
    "def h_2():\n",
    "    \n",
    "    print(x)   \n",
    "    x = 5\n",
    "    print(x)   "
   ]
  },
  {
   "cell_type": "code",
   "execution_count": 25,
   "metadata": {},
   "outputs": [
    {
     "ename": "UnboundLocalError",
     "evalue": "local variable 'x' referenced before assignment",
     "output_type": "error",
     "traceback": [
      "\u001b[0;31m---------------------------------------------------------------------------\u001b[0m",
      "\u001b[0;31mUnboundLocalError\u001b[0m                         Traceback (most recent call last)",
      "\u001b[0;32m/tmp/ipykernel_3188966/163162803.py\u001b[0m in \u001b[0;36m<cell line: 1>\u001b[0;34m()\u001b[0m\n\u001b[0;32m----> 1\u001b[0;31m \u001b[0mh_2\u001b[0m\u001b[0;34m(\u001b[0m\u001b[0;34m)\u001b[0m\u001b[0;34m\u001b[0m\u001b[0;34m\u001b[0m\u001b[0m\n\u001b[0m",
      "\u001b[0;32m/tmp/ipykernel_3188966/3011235007.py\u001b[0m in \u001b[0;36mh_2\u001b[0;34m()\u001b[0m\n\u001b[1;32m      5\u001b[0m \u001b[0;32mdef\u001b[0m \u001b[0mh_2\u001b[0m\u001b[0;34m(\u001b[0m\u001b[0;34m)\u001b[0m\u001b[0;34m:\u001b[0m\u001b[0;34m\u001b[0m\u001b[0;34m\u001b[0m\u001b[0m\n\u001b[1;32m      6\u001b[0m \u001b[0;34m\u001b[0m\u001b[0m\n\u001b[0;32m----> 7\u001b[0;31m     \u001b[0mprint\u001b[0m\u001b[0;34m(\u001b[0m\u001b[0mx\u001b[0m\u001b[0;34m)\u001b[0m\u001b[0;34m\u001b[0m\u001b[0;34m\u001b[0m\u001b[0m\n\u001b[0m\u001b[1;32m      8\u001b[0m     \u001b[0mx\u001b[0m \u001b[0;34m=\u001b[0m \u001b[0;36m5\u001b[0m\u001b[0;34m\u001b[0m\u001b[0;34m\u001b[0m\u001b[0m\n\u001b[1;32m      9\u001b[0m     \u001b[0mprint\u001b[0m\u001b[0;34m(\u001b[0m\u001b[0mx\u001b[0m\u001b[0;34m)\u001b[0m\u001b[0;34m\u001b[0m\u001b[0;34m\u001b[0m\u001b[0m\n",
      "\u001b[0;31mUnboundLocalError\u001b[0m: local variable 'x' referenced before assignment"
     ]
    }
   ],
   "source": [
    "h_2()"
   ]
  },
  {
   "cell_type": "code",
   "execution_count": null,
   "metadata": {},
   "outputs": [],
   "source": [
    "def h_3():\n",
    "    \n",
    "    print(x)   \n",
    "    y = 5\n",
    "    print(y)   "
   ]
  }
 ],
 "metadata": {
  "author": "dieter.probst@gmail.com",
  "kernelspec": {
   "display_name": "Python 3 (ipykernel)",
   "language": "python",
   "name": "python3"
  },
  "language_info": {
   "codemirror_mode": {
    "name": "ipython",
    "version": 3
   },
   "file_extension": ".py",
   "mimetype": "text/x-python",
   "name": "python",
   "nbconvert_exporter": "python",
   "pygments_lexer": "ipython3",
   "version": "3.8.10"
  }
 },
 "nbformat": 4,
 "nbformat_minor": 4
}
