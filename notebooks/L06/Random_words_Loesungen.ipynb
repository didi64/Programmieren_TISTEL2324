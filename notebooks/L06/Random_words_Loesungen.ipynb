{
 "cells": [
  {
   "cell_type": "markdown",
   "id": "d492e5f3-ef73-48f6-9d2c-35bf29a3599f",
   "metadata": {},
   "source": [
    "### Zuf&auml;llige W&ouml;rter und Tabellen"
   ]
  },
  {
   "cell_type": "code",
   "execution_count": null,
   "id": "572056eb-89ee-43ed-b522-aadbdfd7da4e",
   "metadata": {},
   "outputs": [],
   "source": [
    "import random"
   ]
  },
  {
   "cell_type": "code",
   "execution_count": null,
   "id": "98699af5-1b6f-47bd-be7f-6db3f71b6b2f",
   "metadata": {},
   "outputs": [],
   "source": [
    "def random_word(length, alphabet):\n",
    "    '''gibt ein Wort der Laenge length mit Buchstaben\n",
    "       aus der Liste/String alphabet zurueck\n",
    "    '''   \n",
    "    letters = random.choices(alphabet, k=length)\n",
    "    word = ''.join(letters)\n",
    "    return word"
   ]
  },
  {
   "cell_type": "code",
   "execution_count": 17,
   "id": "34368915-2f3b-454a-bb37-a81a5e2a256d",
   "metadata": {},
   "outputs": [
    {
     "data": {
      "text/plain": [
       "'eaad'"
      ]
     },
     "execution_count": 17,
     "metadata": {},
     "output_type": "execute_result"
    }
   ],
   "source": [
    "random_word(4, list('abcdefgh'))"
   ]
  },
  {
   "cell_type": "code",
   "execution_count": null,
   "id": "3bd12a87-0572-45de-a573-157ea4cc64e6",
   "metadata": {},
   "outputs": [],
   "source": [
    "def random_words(n):\n",
    "    '''gibt eine Liste mit n zufaelligen Woertern zurueck'''\n",
    "    bounds = (3, 15)\n",
    "    abc = 'abcdefghijklmnopqrstuvwxyz'\n",
    "    words = []\n",
    "    \n",
    "    for _ in range(n):\n",
    "        length = random.randint(*bounds)\n",
    "        word = random_word(length, abc)\n",
    "        words.append(word)\n",
    "        \n",
    "    return words "
   ]
  },
  {
   "cell_type": "code",
   "execution_count": 18,
   "id": "0eaab00c-f451-48e7-8f7c-6f04e51ba254",
   "metadata": {},
   "outputs": [
    {
     "data": {
      "text/plain": [
       "['mlnesjlsmknyqh', 'zyyclezbba', 'sgwjntj']"
      ]
     },
     "execution_count": 18,
     "metadata": {},
     "output_type": "execute_result"
    }
   ],
   "source": [
    "random_words(3)"
   ]
  },
  {
   "cell_type": "code",
   "execution_count": 94,
   "id": "829b3da2-7665-4a94-838d-c0f54e92f7b1",
   "metadata": {},
   "outputs": [],
   "source": [
    "# Mit Listcomprehension\n",
    "def random_words1(n):\n",
    "    '''gibt eine Liste mit n zufaelligen Woertern zurueck'''\n",
    "    bounds = (3, 15)\n",
    "    abc = 'abcdefghijklmnopqrstuvwxyz'\n",
    "    words = [random_word(random.randint(*bounds), abc)  for _ in range(n)]\n",
    "    return words"
   ]
  },
  {
   "cell_type": "code",
   "execution_count": 95,
   "id": "084dd076-f52c-4876-98b1-f41f6e35120c",
   "metadata": {},
   "outputs": [
    {
     "data": {
      "text/plain": [
       "['ltqmlqwif', 'pacylfnruzg', 'oktpvprzxi']"
      ]
     },
     "execution_count": 95,
     "metadata": {},
     "output_type": "execute_result"
    }
   ],
   "source": [
    "random_words1(3)"
   ]
  },
  {
   "cell_type": "code",
   "execution_count": 60,
   "id": "9d216538-d29f-4b6f-bbc2-ded5e1e98650",
   "metadata": {},
   "outputs": [],
   "source": [
    "def random_table():\n",
    "    '''gibt eine zufaellige Tabelle zurueck'''\n",
    "    table = []\n",
    "    nrows = random.randint(3, 10)\n",
    "    ncols = random.randint(1, 5)\n",
    "    \n",
    "    for _ in range(nrows):\n",
    "        row = random_words(ncols)\n",
    "        table.append(row)\n",
    "        \n",
    "    return table    "
   ]
  },
  {
   "cell_type": "code",
   "execution_count": 61,
   "id": "c2cab00c-b80e-4572-8f84-18e2ae7e0528",
   "metadata": {},
   "outputs": [
    {
     "data": {
      "text/plain": [
       "[['mkgivnpmlg', 'gnbw', 'hcjndze', 'mgbro'],\n",
       " ['ulmooepsly', 'pqagqcnia', 'ofasd', 'vibdwulwn'],\n",
       " ['umkpjzlgoxof', 'kxuzbwg', 'fmfqavsrvpdbp', 'rvwml'],\n",
       " ['mpxdvi', 'oowgsvzsd', 'nkoo', 'lxj'],\n",
       " ['xtfiqzsejdrt', 'ihaoncgkmymzb', 'cfuizvwvhhptbyz', 'ezrfhhlqjcmlkw'],\n",
       " ['fryl', 'cqne', 'qeikpyauwtqkzw', 'fvo'],\n",
       " ['tiuts', 'onigbrrfegxhah', 'foh', 'rhfospflmm'],\n",
       " ['pkjyrhosm', 'tvp', 'wfwmamdnucmdkph', 'oqrggpdhwyqomev'],\n",
       " ['vxprf', 'xuxqf', 'ysdhgzuyykdl', 'wzxetylbekjk']]"
      ]
     },
     "execution_count": 61,
     "metadata": {},
     "output_type": "execute_result"
    }
   ],
   "source": [
    "random_table()"
   ]
  },
  {
   "cell_type": "code",
   "execution_count": 96,
   "id": "9dda483e-097a-405d-86fa-2481b2c48bf2",
   "metadata": {},
   "outputs": [],
   "source": [
    "# Mit Listcomprehension\n",
    "def random_table1():\n",
    "    '''gibt eine zufaellige Tabelle zurueck'''\n",
    "   \n",
    "    nrows = random.randint(3, 10)\n",
    "    ncols = random.randint(1, 5)\n",
    "    \n",
    "    table = [random_words(ncols) for _ in range(nrows)]\n",
    "    return table"
   ]
  },
  {
   "cell_type": "code",
   "execution_count": 97,
   "id": "f31d637b-12db-45fe-bb49-c3262ac98738",
   "metadata": {},
   "outputs": [
    {
     "data": {
      "text/plain": [
       "[['kwvngkainmn', 'cacf', 'cowf', 'hzfgvtepqk'],\n",
       " ['gwvrgrudrr', 'nwgrpfudt', 'rvd', 'ixr'],\n",
       " ['ujldvy', 'zjgmqsooou', 'iolik', 'idoxq'],\n",
       " ['fic', 'xeuhdnytjkbmo', 'nlfsirymqxc', 'tegepcyn']]"
      ]
     },
     "execution_count": 97,
     "metadata": {},
     "output_type": "execute_result"
    }
   ],
   "source": [
    "random_table1()"
   ]
  },
  {
   "cell_type": "markdown",
   "id": "0bb25501-948f-46fb-90b2-177a33c5ea12",
   "metadata": {},
   "source": [
    "### Maximale Spaltenbreiten finden"
   ]
  },
  {
   "cell_type": "code",
   "execution_count": 64,
   "id": "22fbbb49-1225-4e6b-8968-1a6107392bb7",
   "metadata": {},
   "outputs": [],
   "source": [
    "def get_col_widths(table, header):\n",
    "    '''table: Liste von Listen\n",
    "       Header: Liste (Kopfzeile)\n",
    "       returns: Liste mit den maximalen Spaltenbreiten \n",
    "    '''\n",
    "    maxcolwidths = [] \n",
    "    # Initializiere maxcolwidths mit den Breiten der Headerspalten\n",
    "    for col in header:\n",
    "        n = len(col) \n",
    "        maxcolwidths.append(n)\n",
    "    \n",
    "    # korrigiere maxcolwidths wo noetig\n",
    "    for row in table:\n",
    "        for i, col in enumerate(row):\n",
    "            width = len(col)\n",
    "            if width > maxcolwidths[i]:\n",
    "                maxcolwidths[i] = width\n",
    "           \n",
    "    return maxcolwidths    "
   ]
  },
  {
   "cell_type": "code",
   "execution_count": 65,
   "id": "1d5e4504-c124-4c38-b3ed-73f5e2ee5886",
   "metadata": {},
   "outputs": [
    {
     "data": {
      "text/plain": [
       "[['cvphq', 'xfhxnlj', 'zrxrtuitxfbzlr'],\n",
       " ['yra', 'tucr', 'nvrczquisc'],\n",
       " ['witjkjlnohubbfy', 'dlpg', 'golbdydlsn'],\n",
       " ['npl', 'edokneg', 'peupsgrhztsshi'],\n",
       " ['vowmefyldt', 'cftdiz', 'amvxp'],\n",
       " ['zjzddhmplxx', 'vpcn', 'qxzweaeuwtvafh'],\n",
       " ['gxwihtphjyht', 'mzywxe', 'jirdfxxobta'],\n",
       " ['uieeguommseka', 'bgsndgkxzwyqoj', 'wsvrwtsmnkrq'],\n",
       " ['aoklrjk', 'gohkoiez', 'ccolsqzguqkp']]"
      ]
     },
     "execution_count": 65,
     "metadata": {},
     "output_type": "execute_result"
    }
   ],
   "source": [
    "table = random_table()\n",
    "table"
   ]
  },
  {
   "cell_type": "code",
   "execution_count": 66,
   "id": "90a063a9-a010-4f04-bb5f-446693d26cc1",
   "metadata": {},
   "outputs": [
    {
     "data": {
      "text/plain": [
       "[15, 14, 14]"
      ]
     },
     "execution_count": 66,
     "metadata": {},
     "output_type": "execute_result"
    }
   ],
   "source": [
    "get_col_widths(table, table[0])"
   ]
  },
  {
   "cell_type": "code",
   "execution_count": 72,
   "id": "2a10d553-46b0-422e-9be3-15813da0c969",
   "metadata": {},
   "outputs": [],
   "source": [
    "# Mit Listcomprehension, Variante I\n",
    "def get_col_widths1(table, header):\n",
    "    '''table: Liste von Listen\n",
    "       Header: Liste (Kopfzeile)\n",
    "       returns: Liste mit den maximalen Spaltenbreiten \n",
    "    '''\n",
    "    maxcolwidths = [len(col)  for col in header] \n",
    "   \n",
    "    for row in table:\n",
    "       \n",
    "        for i,col in enumerate(row):\n",
    "            width = len(col)\n",
    "            if width > maxcolwidths[i]:\n",
    "                maxcolwidths[i] = width\n",
    "         \n",
    "    return maxcolwidths    "
   ]
  },
  {
   "cell_type": "markdown",
   "id": "d2af62f5-e82e-43b0-939b-2e127c72d274",
   "metadata": {},
   "source": [
    "***\n",
    "Um auch im zweiten For-Loop Listcomprehension verwenden zu k&ouml;nnen, \n",
    "erstellen wir jeweils eine neue Liste `maxcolwidths` statt die bestehende anzupassen.\n",
    "***"
   ]
  },
  {
   "cell_type": "code",
   "execution_count": 88,
   "id": "58236038-b2eb-4ed1-89d3-75f4cc03fdb8",
   "metadata": {},
   "outputs": [],
   "source": [
    "# Mit Listcomprehension\n",
    "def get_col_widths2(table, header):\n",
    "    '''table: Liste von Listen\n",
    "       Header: Liste (Kopfzeile)\n",
    "       returns: Liste mit den maximalen Spaltenbreiten \n",
    "    '''\n",
    "    maxcolwidths = [len(col)  for col in header] \n",
    "   \n",
    "    for row in table:\n",
    "        maxcolwidths = [max(len(col), current_maxwidth)\n",
    "                           for col,current_maxwidth in zip(row, maxcolwidths)\n",
    "                       ]\n",
    "        \n",
    "    return maxcolwidths    "
   ]
  },
  {
   "cell_type": "code",
   "execution_count": 92,
   "id": "f0a14b85-f121-4164-80d4-bf3235ee1fdc",
   "metadata": {},
   "outputs": [
    {
     "data": {
      "text/plain": [
       "[12, 8]"
      ]
     },
     "execution_count": 92,
     "metadata": {},
     "output_type": "execute_result"
    }
   ],
   "source": [
    "table = random_table()\n",
    "get_col_widths(table, table[0])"
   ]
  },
  {
   "cell_type": "code",
   "execution_count": 93,
   "id": "b71effea-156e-477e-a768-a289c9dd1e9c",
   "metadata": {},
   "outputs": [
    {
     "data": {
      "text/plain": [
       "[12, 8]"
      ]
     },
     "execution_count": 93,
     "metadata": {},
     "output_type": "execute_result"
    }
   ],
   "source": [
    "get_col_widths1(table, table[0])"
   ]
  },
  {
   "cell_type": "code",
   "execution_count": null,
   "id": "a6b8e1db-d646-4fcc-a823-6e7d20e6eec4",
   "metadata": {},
   "outputs": [],
   "source": []
  }
 ],
 "metadata": {
  "kernelspec": {
   "display_name": "Python 3 (ipykernel)",
   "language": "python",
   "name": "python3"
  },
  "language_info": {
   "codemirror_mode": {
    "name": "ipython",
    "version": 3
   },
   "file_extension": ".py",
   "mimetype": "text/x-python",
   "name": "python",
   "nbconvert_exporter": "python",
   "pygments_lexer": "ipython3",
   "version": "3.8.10"
  }
 },
 "nbformat": 4,
 "nbformat_minor": 5
}
