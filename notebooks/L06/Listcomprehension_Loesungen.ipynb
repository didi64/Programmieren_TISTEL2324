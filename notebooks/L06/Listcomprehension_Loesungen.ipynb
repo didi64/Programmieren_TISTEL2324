{
 "cells": [
  {
   "cell_type": "markdown",
   "id": "588eabb2-b264-4782-a1ad-0be05ff7b015",
   "metadata": {},
   "source": [
    "### Aufgaben  mit L&ouml;sungen\n",
    "Wir arbeiten mit folgenden Daten:  \n",
    "\n",
    "```python  \n",
    "widths = (10, 10, 25)\n",
    "header  = ('Vorname', 'Name', ' Email')\n",
    "table   = [('Hans', 'Muster', 'hans.muster@edu.teko.ch'),\n",
    "           ('Betty', 'Bossi', 'betty.bossi@edu.teko.ch'),\n",
    "          ]\n",
    "```\n",
    "\n",
    "Kopiere den Code zu der Aufgabe in eine Code-Zelle, und \n",
    "finde heraus, was der Code tut. Was macht die String-Methode `str.ljust` ?   \n",
    "Vereinfache den Code dann mit Listcomprehension.\n",
    "\n",
    "```python  \n",
    "# 1)\n",
    "hlines = []\n",
    "for width in widths:\n",
    "    hline = '-' * width\n",
    "    hlines.append(hline)\n",
    "\n",
    "hlines\n",
    "\n",
    "# 2)\n",
    "fheader = []\n",
    "for word, width in zip(header, widths):\n",
    "    fword = word.ljust(width)\n",
    "    fheader.append(fword)\n",
    "fheader  \n",
    "\n",
    "# 3)\n",
    "ftable = []\n",
    "for row in table:\n",
    "    frow = [word.ljust(width) for word, width in zip(row, widths)]\n",
    "    ftable.append(frow)\n",
    "    \n",
    "ftable   \n",
    "```\n",
    "\n",
    "4. Benuzte die String-Methode `str.join` um `fheader`, `hlines` und `ftable` in folgender Form auszugeben.\n",
    "\n",
    "```\n",
    "Vorname    | Name       |  Email                   \n",
    "---------- | ---------- | -------------------------\n",
    "Hans       | Muster     | hans.muster@edu.teko.ch  \n",
    "Betty      | Bossi      | betty.bossi@edu.teko.ch  \n",
    "```\n",
    "\n",
    "5. Schreibe eine Funktion `print_table(widths, header, table)`, welche\n",
    "obigen Output produziert."
   ]
  },
  {
   "cell_type": "code",
   "execution_count": null,
   "id": "ceb4e023-f890-4d2d-910a-01ccb73f3cf7",
   "metadata": {},
   "outputs": [],
   "source": [
    "widths = (10, 10, 25)\n",
    "header  = ('Vorname', 'Name', ' Email')\n",
    "table   = [('Hans', 'Muster', 'hans.muster@edu.teko.ch'),\n",
    "           ('Betty', 'Bossi', 'betty.bossi@edu.teko.ch'),\n",
    "          ]"
   ]
  },
  {
   "cell_type": "code",
   "execution_count": null,
   "id": "62e6c0fb-3ab0-415b-927a-386b1c4f4928",
   "metadata": {},
   "outputs": [],
   "source": [
    "# Loesung 1\n",
    "['-' * width   for width in widths]"
   ]
  },
  {
   "cell_type": "code",
   "execution_count": null,
   "id": "3151a914-df54-4bf3-8323-e9f63f6765bf",
   "metadata": {},
   "outputs": [],
   "source": [
    "# Loesung 2\n",
    "[col.ljust(width) for col, width in zip(header, widths)]"
   ]
  },
  {
   "cell_type": "code",
   "execution_count": null,
   "id": "2bfcbd4c-2b5f-4e2e-a6fd-e602bdfa8ac5",
   "metadata": {},
   "outputs": [],
   "source": [
    "# Loesung 3\n",
    "[[col.ljust(width) for col, width in zip(row, widths)]  for row in table]"
   ]
  },
  {
   "cell_type": "code",
   "execution_count": null,
   "id": "620c45d5-7dce-49ff-b957-8452676a3337",
   "metadata": {},
   "outputs": [],
   "source": [
    "# Loesung 4\n",
    "print(' | '.join(fheader))\n",
    "print(' | '.join(hlines))\n",
    "for row in ftable:\n",
    "    print(' | '.join(row))"
   ]
  },
  {
   "cell_type": "markdown",
   "id": "e98762a7-0f14-4529-83c1-e5fb66b44842",
   "metadata": {},
   "source": [
    "***\n",
    "Code in einer Zelle zusammentragen:\n",
    "***"
   ]
  },
  {
   "cell_type": "code",
   "execution_count": null,
   "id": "e26d0186-6673-44f7-bce5-f7d355cbf8cb",
   "metadata": {},
   "outputs": [],
   "source": [
    "hlines = ['-' * width   for width in widths]\n",
    "fheader = [col.ljust(width) for col, width in zip(header, widths)]\n",
    "ftable = [[col.ljust(width) for col, width in zip(row, widths)]  for row in table]\n",
    "\n",
    "print(' | '.join(fheader))\n",
    "print(' | '.join(hlines))\n",
    "for row in ftable:\n",
    "    print(' | '.join(row))"
   ]
  },
  {
   "cell_type": "markdown",
   "id": "387cc0f3-d0ab-4bc2-8c74-e646bf94c1a3",
   "metadata": {},
   "source": [
    "***\n",
    "Code als Funktion:\n",
    "***"
   ]
  },
  {
   "cell_type": "code",
   "execution_count": null,
   "id": "a1e95e25-37ac-43d7-ada6-bf06807b62d2",
   "metadata": {},
   "outputs": [],
   "source": [
    "def print_table(widths, header, table):\n",
    "    \n",
    "    hlines = ['-' * width   for width in widths]\n",
    "    fheader = [col.ljust(width) for col, width in zip(header, widths)]\n",
    "    ftable = [[col.ljust(width) for col, width in zip(row, widths)]  for row in table]\n",
    "    \n",
    "    print(' | '.join(fheader))\n",
    "    print(' | '.join(hlines))\n",
    "    for row in ftable:\n",
    "        print(' | '.join(row))"
   ]
  },
  {
   "cell_type": "code",
   "execution_count": null,
   "id": "dd37ee0b-5a1e-4563-9c44-e77018e0166e",
   "metadata": {},
   "outputs": [],
   "source": [
    "# Funktion testen\n",
    "print_table(widths, header, table)"
   ]
  }
 ],
 "metadata": {
  "kernelspec": {
   "display_name": "Python 3 (ipykernel)",
   "language": "python",
   "name": "python3"
  },
  "language_info": {
   "codemirror_mode": {
    "name": "ipython",
    "version": 3
   },
   "file_extension": ".py",
   "mimetype": "text/x-python",
   "name": "python",
   "nbconvert_exporter": "python",
   "pygments_lexer": "ipython3",
   "version": "3.12.0"
  }
 },
 "nbformat": 4,
 "nbformat_minor": 5
}
