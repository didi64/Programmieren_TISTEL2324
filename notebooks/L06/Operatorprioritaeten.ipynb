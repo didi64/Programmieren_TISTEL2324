{
 "cells": [
  {
   "cell_type": "markdown",
   "id": "f0121ae6-9588-4af1-800d-c1657923df9e",
   "metadata": {},
   "source": [
    "### Operatoren \n",
    "In Python sind Operatoren spezielle Symbole oder Schl&uuml;sselw&ouml;rter, die dazu dienen, Operationen auf Variablen und Werten durchzuführen. "
   ]
  },
  {
   "cell_type": "markdown",
   "id": "17880628-b45c-448d-8c0d-82cd2032cd95",
   "metadata": {},
   "source": [
    "- Einstellige Operatoren:  \n",
    "  `-`, `not`  \n",
    "  z.B. `-3`, `not True`, ... \n",
    "- Zweistellige Operatoren:  \n",
    "  `+, -, *, /, //, %, **, and, or, ==, <, in, not in, is not, ...`  \n",
    "  z.B. `2 + 3`, `2 < 3`, `1 in (1, 2)`, ...\n",
    "  \n",
    "Operatoren haben unterschiedliche **Priorit&auml;ten**.  \n",
    "Z.B. Hat `*` eine h&ouml;here Priorit&auml;t als `+`, weshalb\n",
    "`5 + 5 * 5` den Wert `30` hat.\n",
    "\n",
    "Bei **fehlender** Klammerung\n",
    "- werden **zuerst** die Operatoren mit der **h&ouml;chsten Priorit&auml;t** ausgewertet  \n",
    "- bei **gleicher Priorit&auml;t** wird **von links nach rechts** ausgewertet   "
   ]
  },
  {
   "cell_type": "code",
   "execution_count": 22,
   "id": "e8e4d1ee-38c1-4e5b-b1e2-10ab119a29d1",
   "metadata": {},
   "outputs": [
    {
     "data": {
      "text/plain": [
       "-2"
      ]
     },
     "execution_count": 22,
     "metadata": {},
     "output_type": "execute_result"
    }
   ],
   "source": [
    "# + und - haben gleiche Priorität. Auswerten von links nach rechts.\n",
    "# 1 - 2 + 3 - 4 ist (((1 - 2) + 3) -4)\n",
    "\n",
    "1 - 2 + 3 - 4"
   ]
  },
  {
   "cell_type": "code",
   "execution_count": 23,
   "id": "c4b8a46c-c8a4-4ca7-a4d0-d3e0bc67e9e8",
   "metadata": {},
   "outputs": [
    {
     "data": {
      "text/plain": [
       "-2"
      ]
     },
     "execution_count": 23,
     "metadata": {},
     "output_type": "execute_result"
    }
   ],
   "source": [
    "(((1 - 2) + 3) -4)"
   ]
  },
  {
   "cell_type": "code",
   "execution_count": 1,
   "id": "f796e478-c09c-4867-93e1-6ffa47c3f976",
   "metadata": {},
   "outputs": [
    {
     "data": {
      "text/plain": [
       "30"
      ]
     },
     "execution_count": 1,
     "metadata": {},
     "output_type": "execute_result"
    }
   ],
   "source": [
    "# 5 + 5 * 5 ist 5 + (5 * 5)\n",
    "# * hat höhere Priorität als +\n",
    "5 + 5 * 5"
   ]
  },
  {
   "cell_type": "code",
   "execution_count": 3,
   "id": "db91a381-75fc-4072-a568-549fa73a7333",
   "metadata": {},
   "outputs": [
    {
     "data": {
      "text/plain": [
       "True"
      ]
     },
     "execution_count": 3,
     "metadata": {},
     "output_type": "execute_result"
    }
   ],
   "source": [
    "# (1 + 2) == 3\n",
    "1 + 2 == 3"
   ]
  },
  {
   "cell_type": "code",
   "execution_count": 15,
   "id": "9b38b7ab-9398-4436-bf3c-1e873493e600",
   "metadata": {},
   "outputs": [
    {
     "data": {
      "text/plain": [
       "True"
      ]
     },
     "execution_count": 15,
     "metadata": {},
     "output_type": "execute_result"
    }
   ],
   "source": [
    "# True or (False and False)\n",
    "True or False and False"
   ]
  },
  {
   "cell_type": "code",
   "execution_count": null,
   "id": "492cd5b4-3268-4463-8a83-a042b3f5ab47",
   "metadata": {},
   "outputs": [],
   "source": [
    "(True or False) and False"
   ]
  },
  {
   "cell_type": "markdown",
   "id": "fd893ade-a6b9-49a7-9a2d-68eb4e1b7f8e",
   "metadata": {},
   "source": [
    "### Operatorpriorit&auml;ten (von hoch nach tief):\n",
    "(siehe auch [operator-precedence](https://docs.python.org/3/reference/expressions.html#operator-precedence))\n",
    "\n",
    "<table>\n",
    "    <tr>\n",
    "         <th>Operator</th><th>Meaning</th>\n",
    "    </tr>\n",
    "    <tr>\n",
    "        <td><code>**</code></td>\n",
    "        <td>hoch</td>\n",
    "    </tr>\n",
    "    <tr>\n",
    "         <td><code>-</code></td>\n",
    "         <td>Negation</td>\n",
    "    </tr>\n",
    "    <tr>\n",
    "        <td><code>*</code>, <code>/</code>, <code>//</code>, <code>%</code></td>\n",
    "        <td>Multiplikation, Division, Ganzahl-Division, Rest</td>\n",
    "    </tr>\n",
    "    <tr>\n",
    "      <td><code>+</code>, <code>-</code></td>\n",
    "      <td>Addition, Subtraktion</td>\n",
    "    </tr>\n",
    "    <tr>\n",
    "      <td><code>==</code>, <code>!=</code>, <code>&gt;</code>, <code>&gt;=</code>,                 <code>&lt;</code>, <code>&lt;=</code>,<br> <code>is</code>, <code>is not</code>,             <code>in</code>, <code>not in</code>\n",
    "      </td>\n",
    "      <td>Vergleiche, Membership-Test  </td>\n",
    "    </tr>\n",
    "    <tr>\n",
    "      <td><code>not</code></td>\n",
    "      <td>logisches NOT</td>\n",
    "    </tr>\n",
    "    <tr>\n",
    "        <td><code>and</code></td>\n",
    "        <td>logisches AND</td>\n",
    "    </tr>\n",
    "     <tr>\n",
    "        <td><code>or</code></td>\n",
    "        <td>logisches OR</td>\n",
    "     </tr>\n",
    " </table>\n",
    " \n",
    "Bei Unsicherheit bez&uuml;glich der Operatorpriorit&auml;t:  \n",
    "Lieber **zuviele** als zuwenige Klammern."
   ]
  },
  {
   "cell_type": "markdown",
   "id": "2bc6d4f5-3f35-402e-9980-2f9ffcf2f559",
   "metadata": {},
   "source": [
    "**Aufgabe**:  Entferne alle unn&ouml;tige Klammern. Teste, ob Resultat gleich bleibt! \n",
    "- `5 + (2 * 10) - (2 * 5)`\n",
    "- `4 +  ((-2) ** 4)`\n",
    "- `(True or False) and False`\n",
    "- `'a' not in ('bc' + 'ef')`"
   ]
  },
  {
   "cell_type": "code",
   "execution_count": null,
   "id": "74031344-3f0c-4363-b3cf-dc227c205fa5",
   "metadata": {},
   "outputs": [],
   "source": []
  }
 ],
 "metadata": {
  "author": "dieter.probst@gmail.com",
  "kernelspec": {
   "display_name": "Python 3 (ipykernel)",
   "language": "python",
   "name": "python3"
  },
  "language_info": {
   "codemirror_mode": {
    "name": "ipython",
    "version": 3
   },
   "file_extension": ".py",
   "mimetype": "text/x-python",
   "name": "python",
   "nbconvert_exporter": "python",
   "pygments_lexer": "ipython3",
   "version": "3.8.10"
  }
 },
 "nbformat": 4,
 "nbformat_minor": 5
}
