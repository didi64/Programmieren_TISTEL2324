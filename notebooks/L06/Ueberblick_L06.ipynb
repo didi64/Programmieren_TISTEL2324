{
 "cells": [
  {
   "cell_type": "markdown",
   "id": "357c5831-fe8e-4dba-ac9a-8a61173a09f5",
   "metadata": {},
   "source": [
    "### Lektion 6, &Uuml;berblick und weitere Ressourcen\n",
    "Wir schreiben eine Funktion, welche eine Zufallstabelle erstellt, sowie eine Funktion, welche eine Tabelle formatiert ausgibt. Dabei benutzen wir Listcomprehesion, Slicenotation sowie g&auml;ngige String-Methoden.  \n",
    "\n",
    "- Listencomprehesion\n",
    "  [W3Schools](https://www.w3schools.com/python/python_lists_comprehension.asp).\n",
    "\n",
    "- Methoden, Funktionen und Operatoren:  \n",
    "  `str.split`, `str.join`, `str.ljust`, `random.randint`, `random.choices`, `in`, `not in`\n",
    "  [max](https://www.w3schools.com/python/ref_func_max.asp), [min](https://www.w3schools.com/python/ref_func_max.asp)\n",
    "\n",
    "- [Operatorpriorit&auml;ten](https://docs.python.org/3/reference/expressions.html#operator-precedence) (`5 + 5 * 5 == 30`).\n",
    "- [Dictionary erstellen](https://www.w3schools.com/python/python_dictionaries.asp)."
   ]
  },
  {
   "cell_type": "code",
   "execution_count": null,
   "id": "2be51557-2054-4bc3-b79b-0bd1edd65245",
   "metadata": {},
   "outputs": [],
   "source": [
    "str.ljust"
   ]
  },
  {
   "cell_type": "code",
   "execution_count": null,
   "id": "ff3e2e79-eb16-4fd9-9205-2da4bb71a34b",
   "metadata": {},
   "outputs": [],
   "source": [
    "max"
   ]
  }
 ],
 "metadata": {
  "kernelspec": {
   "display_name": "Python 3 (ipykernel)",
   "language": "python",
   "name": "python3"
  },
  "language_info": {
   "codemirror_mode": {
    "name": "ipython",
    "version": 3
   },
   "file_extension": ".py",
   "mimetype": "text/x-python",
   "name": "python",
   "nbconvert_exporter": "python",
   "pygments_lexer": "ipython3",
   "version": "3.12.0"
  }
 },
 "nbformat": 4,
 "nbformat_minor": 5
}
