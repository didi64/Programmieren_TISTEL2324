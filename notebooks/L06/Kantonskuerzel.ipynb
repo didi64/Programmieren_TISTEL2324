{
 "cells": [
  {
   "cell_type": "markdown",
   "id": "bc707d56-5db3-48e0-8424-c596ccdb30ad",
   "metadata": {},
   "source": [
    "### Dictionary erstellen, der zum Kantonsk&uuml;rzel den Kantonsnamen liefert\n",
    "Wir m&ouml;chten einen Dictionary, dessen Keys Kantonsk&uuml;rzel sind.\n",
    "Die zugeh&ouml;rigen Werte sind die Kantonsnamen.\n",
    "\n",
    "- Copy/Paste dieses Schl&uuml;ssel-Wert Paare von [Kantonsk&uuml;rzel](https://www.ortsnamen.ch/de/daten/anleitungen/abk-kantone) in eine Codezelle. \n",
    "- Weise diese Zeilen einer Variabl (z.B. `keys_and_values`) zu. \n",
    "- Splite diesen String in eine Liste mit den einzelnen Zeilen.\n",
    "  Gib die ersten und letzten beiden Listenelemente aus.\n",
    "  Splite die erste Zeile in ein key-value Paar. Entferne unerw&uuml;nschten White-Space.\n",
    "- Konstruiere aus dem String `keys_and_values` den gew&uuml;nschten Dictionary `{AG: 'Aargau', ...}`.\n",
    "\n",
    "**Hints**: \n",
    " - Benutze `str.split` und `str.strip`.  \n",
    " - Mit `'''text'''` erstellte Strings k&ouml;nnen sich &uuml;ber mehrerer Zeilen erstrecken.  \n",
    "   Ein Backslash `\\` als letztes Zeichen einer Zeile in einem solchen String verhindert einen Zeilenumbruch.\n",
    " \n",
    "```python\n",
    "langer_string = '''\\\n",
    "z.B. sog. Doc-Strings sind Strings,\n",
    "die sich ueber mehrere Zeilen \n",
    "erstecken koennen.\n",
    "'''\n",
    "```"
   ]
  },
  {
   "cell_type": "code",
   "execution_count": null,
   "id": "b3bdb64d-096d-4c2c-b4d7-6c8486f374fb",
   "metadata": {},
   "outputs": [],
   "source": [
    "langer_string = '''\\\n",
    "z.B. sog. Doc-Strings sind Strings, \\\n",
    "die sich ueber mehrere Zeilen \\\n",
    "erstecken koennen.\n",
    "'''\n",
    "\n",
    "# Gib den String mit und ohne die Backslashes aus. "
   ]
  },
  {
   "cell_type": "code",
   "execution_count": null,
   "id": "91f60757-b2ce-47f2-acd0-6480aeb2d3b3",
   "metadata": {
    "tags": []
   },
   "outputs": [],
   "source": [
    "keys_and_values = '''\\\n",
    "\n",
    "'''"
   ]
  },
  {
   "cell_type": "markdown",
   "id": "6cfbbca1-bdb1-4080-86c6-0f20da9d78c6",
   "metadata": {},
   "source": [
    "### Weitere Aufgaben:\n",
    "Sei `kz_kt` unser Dictionary mit den Kantonsk&uuml;rzel-Kanton Paaren.\n",
    "\n",
    "- Erstelle eine Liste mit den Keys des Dictionaries. Gib die ersten und lezten beiden Elemente aus.  \n",
    "  **Hint**: benutze `list(kz_kt)`  \n",
    "-  Erstellen einen Dictionary der nur die ersten 2 Key-Value Paare von  `kz_kt` enth&auml;lt.\n",
    "-  Erstellen einen Dictionary der nur die letzten 2 Key-Value Paare von `kz_kt` enth&auml;lt.\n",
    "- Schreibe eine Funktion `peek(d, n)`: `peek(d, 3)` gibt einen Dictionary mit den ersten 3 Key-Value Paaren von  `kz_kt`\n",
    "zur&uuml;ck, `peek(d, -3)` einen Dictionary mit den  letzten 3 Key-Value-Paaren."
   ]
  },
  {
   "cell_type": "code",
   "execution_count": null,
   "id": "2f952d1e-8773-4054-a8ad-7d81f248c3b4",
   "metadata": {},
   "outputs": [],
   "source": []
  }
 ],
 "metadata": {
  "author": "dieter.probst@gmail.com",
  "kernelspec": {
   "display_name": "Python 3 (ipykernel)",
   "language": "python",
   "name": "python3"
  },
  "language_info": {
   "codemirror_mode": {
    "name": "ipython",
    "version": 3
   },
   "file_extension": ".py",
   "mimetype": "text/x-python",
   "name": "python",
   "nbconvert_exporter": "python",
   "pygments_lexer": "ipython3",
   "version": "3.12.0"
  }
 },
 "nbformat": 4,
 "nbformat_minor": 5
}
