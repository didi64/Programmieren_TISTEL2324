{
 "cells": [
  {
   "cell_type": "markdown",
   "id": "bc707d56-5db3-48e0-8424-c596ccdb30ad",
   "metadata": {},
   "source": [
    "### Dictionary erstellen, der zum Kantonsk&uuml;rzel den Kantonsnamen liefert\n",
    "Wir m&ouml;chten einen Dictionary, dessen Keys Kantonsk&uuml;rzel sind.\n",
    "Die zugeh&ouml;rigen Werte sind die Kantonsnamen.\n",
    "\n",
    "- Copy/Paste dieses Schl&uuml;ssel-Wert Paare von [Kantonsk&uuml;rzel](https://www.ortsnamen.ch/de/daten/anleitungen/abk-kantone) in eine Codezelle. \n",
    "- Weise diese Zeilen einer Variable, z.B. `keys_and_values` zu. \n",
    "- Splite diesen String in eine Liste mit den einzelnen Zeilen.  \n",
    "  Gib die ersten und letzten beiden Listenelemente aus.  \n",
    "  Splite die erste Zeile in ein key-value Paar. Entferne unerw&uuml;nschten White-Space.\n",
    "- Konstruiere aus dem String `keys_and_values` den gew&uuml;nschten Dictionary `{AG: 'Aargau', ...}`.\n",
    "\n",
    "**Hints**: \n",
    " - Benutze `str.split` und `str.strip`.  \n",
    " - Mit `'''text'''` erstellte Strings k&ouml;nnen sich &uuml;ber mehrerer Zeilen erstrecken.  \n",
    "   Ein Backslash `\\` als letztes Zeichen einer Zeile in einem solchen String verhindert einen Zeilenumbruch.\n",
    " \n",
    "```python\n",
    "langer_string = '''\\\n",
    "z.B. sog. Doc-Strings sind Strings,\n",
    "die sich ueber mehrere Zeilen \n",
    "erstecken koennen.\n",
    "'''\n",
    "```"
   ]
  },
  {
   "cell_type": "code",
   "execution_count": null,
   "id": "b3bdb64d-096d-4c2c-b4d7-6c8486f374fb",
   "metadata": {},
   "outputs": [],
   "source": [
    "langer_string = '''\\\n",
    "z.B. sog. Doc-Strings sind Strings, \\\n",
    "die sich ueber mehrere Zeilen \\\n",
    "erstecken koennen.\n",
    "'''\n",
    "\n",
    "# Gib den String mit und ohne die Backslashes aus. \n",
    "print(langer_string)"
   ]
  },
  {
   "cell_type": "code",
   "execution_count": null,
   "id": "91f60757-b2ce-47f2-acd0-6480aeb2d3b3",
   "metadata": {
    "tags": []
   },
   "outputs": [],
   "source": [
    "keys_and_values = '''\\\n",
    "AG \tAargau\n",
    "AI \tAppenzell Innerrhoden\n",
    "AR \tAppenzell Ausserrhoden\n",
    "BE \tBern\n",
    "BL \tBasel-Landschaft\n",
    "BS \tBasel-Stadt\n",
    "FR \tFreiburg\n",
    "GE \tGenf\n",
    "GL \tGlarus\n",
    "GR \tGraubünden\n",
    "JU \tJura\n",
    "LU \tLuzern\n",
    "NE \tNeuenburg\n",
    "NW \tNidwalden\n",
    "OW \tObwalden\n",
    "SG \tSt. Gallen\n",
    "SH \tSchaffhausen\n",
    "SO \tSolothurn\n",
    "SZ \tSchwyz\n",
    "TG \tThurgau\n",
    "TI \tTessin\n",
    "UR \tUri\n",
    "VD \tWaadt\n",
    "VS \tWallis\n",
    "ZG \tZug\n",
    "ZH \tZürich\\\n",
    "'''"
   ]
  },
  {
   "cell_type": "code",
   "execution_count": null,
   "id": "baa87854-cc3c-496d-825a-f54bd1105f74",
   "metadata": {},
   "outputs": [],
   "source": [
    "#  string in Zeilen splitten, und Zeile 1 und 2 ausgeben\n",
    "pairs = keys_and_values.split('\\n')\n",
    "pairs[:2]"
   ]
  },
  {
   "cell_type": "code",
   "execution_count": null,
   "id": "db6dde66-3843-4f96-b9d6-fd6f0ed3195b",
   "metadata": {},
   "outputs": [],
   "source": [
    "pairs[-2:]"
   ]
  },
  {
   "cell_type": "code",
   "execution_count": null,
   "id": "deb0473c-d024-4ecb-8536-b06acb67545d",
   "metadata": {},
   "outputs": [],
   "source": [
    "# Zeile in Kuerzel und Kantonsnamen splitten\n",
    "pair_1 = pairs[0]\n",
    "kz, kt = pair_1.split('\\t')\n",
    "kz, kt"
   ]
  },
  {
   "cell_type": "code",
   "execution_count": null,
   "id": "2a7d4b67-84b2-4a96-91da-780f65e30853",
   "metadata": {},
   "outputs": [],
   "source": [
    "# White-Space um das Wort entfernen\n",
    "kz.strip()"
   ]
  },
  {
   "cell_type": "code",
   "execution_count": null,
   "id": "c9a77e14-a0f0-41e9-abc2-3c125568e304",
   "metadata": {},
   "outputs": [],
   "source": [
    "# Dictionary erstellen\n",
    "kz_kt = {}\n",
    "pairs = keys_and_values.split('\\n')\n",
    "\n",
    "for pair in pairs:\n",
    "    kz, kt = pair.split('\\t')\n",
    "    kz = kz.strip()\n",
    "    kz_kt[kz] = kt\n",
    "    \n",
    "kz_kt"
   ]
  },
  {
   "cell_type": "code",
   "execution_count": null,
   "id": "700385b2-ab1d-4204-9d32-98b5393a628d",
   "metadata": {},
   "outputs": [],
   "source": [
    "# Funktion die Dictionary erstellt\n",
    "def lines2dict(lines, sep):\n",
    "    '''lines: String der Form \n",
    "    \n",
    "              key_1 <Trennzeichen> Wert_1\n",
    "              key_2 <Trennzeichen> Wert_2\n",
    "              ...\n",
    "       \n",
    "       sep: Trennzeichen\n",
    "       \n",
    "       gibt einen Dctionary der Form\n",
    "       {key_1: Wert_1, key_2, Wert_2,...}\n",
    "       zurueck.       \n",
    "    '''\n",
    "   \n",
    "    kz_kt = {}\n",
    "    \n",
    "    pairs = keys_and_values.split('\\n')\n",
    "    for pair in pairs:\n",
    "        \n",
    "        if sep not in pair:\n",
    "            continue\n",
    "      \n",
    "        kz, kt = pair.split(sep)\n",
    "        kz = kz.strip()\n",
    "        kz_kt[kz] = kt\n",
    "    \n",
    "    return kz_kt"
   ]
  },
  {
   "cell_type": "code",
   "execution_count": null,
   "id": "ba6af185-695d-4afa-a52d-f47656a3aea1",
   "metadata": {},
   "outputs": [],
   "source": [
    "# Funktion testen\n",
    "d = lines2dict(keys_and_values, '\\t')\n",
    "d"
   ]
  },
  {
   "cell_type": "markdown",
   "id": "d45aa5cc-07f5-4e35-9928-aa69100cfee9",
   "metadata": {},
   "source": [
    "### Weitere Aufgaben:\n",
    "Sei `kz_kt` unser Dictionary mit den Kantonsk&uuml;rzel-Kanton Paaren.\n",
    "\n",
    "- Erstelle eine Liste mit den Keys des Dictionaries. Gib die ersten und lezten beiden Elemente aus.  \n",
    "  **Hint**: benutze `list(kz_kt)`  \n",
    "-  Erstellen einen Dictionary der nur die ersten 2 Key-Value Paare von  `kz_kt` enth&auml;lt.\n",
    "-  Erstellen einen Dictionary der nur die letzten 2 Key-Value Paare von `kz_kt` enth&auml;lt.\n",
    "- Schreibe eine Funktion `peek(d, n)`: `peek(d, 3)` gibt einen Dictionary mit den ersten 3 Key-Value Paaren von  `kz_kt`\n",
    "zur&uuml;ck, `peek(d, -3)` einen Dictionary mit den  letzten 3 Key-Value-Paaren."
   ]
  },
  {
   "cell_type": "code",
   "execution_count": null,
   "id": "10be61bf-db8d-49bf-8963-b1705bb57cb4",
   "metadata": {},
   "outputs": [],
   "source": [
    "# Die ersten und letzten beiden Kuerzel\n",
    "keys = list(kz_kt)\n",
    "print(keys[:2])\n",
    "print(keys[-2:])"
   ]
  },
  {
   "cell_type": "code",
   "execution_count": null,
   "id": "91a71ac1-d57e-4140-92c3-1b85ed85ba19",
   "metadata": {},
   "outputs": [],
   "source": [
    "# Dict mit den ersten beiden  Key-Value Paaren\n",
    "\n",
    "d = {}\n",
    "for kz in keys[:2]:\n",
    "    d[kz] = kz_kt[kz]\n",
    "\n",
    "d"
   ]
  },
  {
   "cell_type": "code",
   "execution_count": null,
   "id": "66467ee8-2678-4d7f-9df7-21ac2ff4434f",
   "metadata": {},
   "outputs": [],
   "source": [
    "# Dict mit den letzten beiden  Key-Value Paaren\n",
    "\n",
    "d = {}\n",
    "for kz in keys[-2:]:\n",
    "    d[kz] = kz_kt[kz]\n",
    "\n",
    "d"
   ]
  },
  {
   "cell_type": "code",
   "execution_count": null,
   "id": "802dff72-cfea-4c53-a5ec-f963b05095ed",
   "metadata": {},
   "outputs": [],
   "source": [
    "keys"
   ]
  },
  {
   "cell_type": "code",
   "execution_count": null,
   "id": "cabb64b5-acf6-4f5b-a83d-60e4fee3d909",
   "metadata": {},
   "outputs": [],
   "source": [
    "def peek(d, n):\n",
    "    \n",
    "    d_peek = {}\n",
    "   \n",
    "    if n > 0:\n",
    "        keys = list(d)[:n]\n",
    "    elif n < 0:\n",
    "        keys = list(d)[n:]\n",
    "        \n",
    "    for k in keys:\n",
    "        d_peek[k] = d[k]\n",
    "        \n",
    "    return d_peek"
   ]
  },
  {
   "cell_type": "code",
   "execution_count": null,
   "id": "fafcba6f-aae8-4a0f-968b-82cd3f4df927",
   "metadata": {},
   "outputs": [],
   "source": [
    "peek(kz_kt, 3)"
   ]
  },
  {
   "cell_type": "code",
   "execution_count": null,
   "id": "35e70c12-6135-4945-b7e7-c78bf7e40baf",
   "metadata": {},
   "outputs": [],
   "source": [
    "peek(kz_kt, -3)"
   ]
  }
 ],
 "metadata": {
  "author": "dieter.probst@gmail.com",
  "kernelspec": {
   "display_name": "Python 3 (ipykernel)",
   "language": "python",
   "name": "python3"
  },
  "language_info": {
   "codemirror_mode": {
    "name": "ipython",
    "version": 3
   },
   "file_extension": ".py",
   "mimetype": "text/x-python",
   "name": "python",
   "nbconvert_exporter": "python",
   "pygments_lexer": "ipython3",
   "version": "3.8.10"
  }
 },
 "nbformat": 4,
 "nbformat_minor": 5
}
