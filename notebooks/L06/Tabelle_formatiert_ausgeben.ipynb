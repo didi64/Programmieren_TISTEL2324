{
 "cells": [
  {
   "cell_type": "markdown",
   "id": "45c25c27-711b-436a-ad6a-2551ec95fe6c",
   "metadata": {},
   "source": [
    "### Tabelle formatiert ausgeben\n",
    "\n",
    "Nachstehend ist aller Code zum Generieren einer Zufallstabelle und deren Ausgabe zusammengetragen."
   ]
  },
  {
   "cell_type": "markdown",
   "id": "f7258c64-f1e6-4d0a-ab83-e7963b54d982",
   "metadata": {},
   "source": [
    "***\n",
    "**Zufallstabelle** erstellen\n",
    "***"
   ]
  },
  {
   "cell_type": "code",
   "execution_count": null,
   "id": "af2c1003-2960-4bc0-99f0-d3d59f6a25a9",
   "metadata": {},
   "outputs": [],
   "source": [
    "import random\n",
    "\n",
    "def random_word(length, alphabet):\n",
    "    '''gibt ein Wort der Laenge length mit Buchstaben\n",
    "       aus der Liste/String alphabet zurueck\n",
    "    '''   \n",
    "    letters = random.choices(alphabet, k=length)\n",
    "    word = ''.join(letters)\n",
    "    return word\n",
    "\n",
    "def random_words(n):\n",
    "    '''gibt eine Liste mit n zufaelligen Woertern zurueck\n",
    "       mit Laengen zw. 3 und 15\n",
    "    '''\n",
    "    bounds = (3, 15)\n",
    "    abc = 'abcdefghijklmnopqrstuvwxyz'\n",
    "    words = [random_word(random.randint(*bounds), abc)  for _ in range(n)]\n",
    "    return words\n",
    "\n",
    "def random_table():\n",
    "    '''gibt eine zufaellige Tabelle zurueck'''\n",
    "    nrows = random.randint(3, 10)\n",
    "    ncols = random.randint(1, 5)\n",
    "    table = [random_words(ncols) for _ in range(nrows)]\n",
    "    return table"
   ]
  },
  {
   "cell_type": "code",
   "execution_count": null,
   "id": "653c3ee8-fb22-4ac8-872d-19a1e25ccd2f",
   "metadata": {},
   "outputs": [],
   "source": []
  },
  {
   "cell_type": "markdown",
   "id": "094fd26f-5067-4294-8d38-408637fead60",
   "metadata": {},
   "source": [
    "***\n",
    "**Spaltenbreiten** bestimmen\n",
    "***"
   ]
  },
  {
   "cell_type": "code",
   "execution_count": null,
   "id": "23e31720-50b7-4e2a-bb22-d9eda57e4785",
   "metadata": {},
   "outputs": [],
   "source": [
    "def get_col_widths(header, table):\n",
    "    '''table:   Liste von Listen\n",
    "       Header:  Liste (Kopfzeile)\n",
    "       returns: Liste mit den maximalen Spaltenbreiten \n",
    "    '''\n",
    "    maxcolwidths = [len(col)  for col in header] \n",
    "   \n",
    "    for row in table:\n",
    "        for i,col in enumerate(row):\n",
    "            width = len(col)\n",
    "            if width > maxcolwidths[i]:\n",
    "                maxcolwidths[i] = width\n",
    "         \n",
    "    return maxcolwidths    "
   ]
  },
  {
   "cell_type": "markdown",
   "id": "1c5cb198-e15c-45c3-b269-111d80f1b341",
   "metadata": {},
   "source": [
    "***\n",
    "**Tabelle** formatiert ausgeben\n",
    "***"
   ]
  },
  {
   "cell_type": "code",
   "execution_count": null,
   "id": "020667b4-df06-4d9f-a95c-2636e14a9e23",
   "metadata": {},
   "outputs": [],
   "source": [
    "def print_table(widths, header, table):\n",
    "    '''widths: Liste mit Spaltenbreiten\n",
    "       header: Liste mit Spaltentiteln\n",
    "       table:  Liste mit Tabellenzeilen\n",
    "       \n",
    "       gibt Header- und Tabellenspalten linksbuendig aus\n",
    "       mit Breiten widths\n",
    "    '''   \n",
    "    hlines = ['-' * width   for width in widths]\n",
    "    fheader = [col.ljust(width) for col, width in zip(header, widths)]\n",
    "    ftable = [[col.ljust(width) for col, width in zip(row, widths)]  for row in table]\n",
    "    \n",
    "    print(' | '.join(fheader))\n",
    "    print(' | '.join(hlines))\n",
    "    for row in ftable:\n",
    "        print(' | '.join(row))\n",
    "        \n",
    "def show_table(header, table):\n",
    "    '''gibt Header und Tabelle formatiert aus\n",
    "       header: Liste mit Spaltentiteln\n",
    "       table:  Liste mit Tabellenzeilen\n",
    "    '''\n",
    "    widths =  get_col_widths(header, table)\n",
    "    print_table(widths, header, table)        "
   ]
  },
  {
   "cell_type": "markdown",
   "id": "21622aca-16f0-4f36-a33f-87d0c43e6052",
   "metadata": {},
   "source": [
    "***\n",
    "Funktionen testen\n",
    "***"
   ]
  },
  {
   "cell_type": "code",
   "execution_count": null,
   "id": "ae681883-f697-46f9-b3b8-a88732246986",
   "metadata": {},
   "outputs": [],
   "source": [
    "# Zufallstabelle erstellen und ausgeben\n",
    "table = random_table()\n",
    "show_table(table[0], table[1:])"
   ]
  },
  {
   "cell_type": "code",
   "execution_count": null,
   "id": "76a1ddcc-c070-4dee-b21f-9cdbac550995",
   "metadata": {},
   "outputs": [],
   "source": []
  },
  {
   "cell_type": "code",
   "execution_count": null,
   "id": "ca6ebe59-a6f3-4590-bd2a-277301c5c2ec",
   "metadata": {},
   "outputs": [],
   "source": [
    "# Spaltenbreiten bestimmen\n",
    "widths = get_col_widths(table[0], table[1:])\n",
    "widths"
   ]
  },
  {
   "cell_type": "code",
   "execution_count": null,
   "id": "fb6cd980-8f21-4c58-846e-d501561b22a4",
   "metadata": {},
   "outputs": [],
   "source": [
    "# Tabelle ausgeben, Spalten mind. widths breit\n",
    "print_table(widths, table[0], table[1:])"
   ]
  },
  {
   "cell_type": "code",
   "execution_count": null,
   "id": "fb519540-79d7-4af1-939f-f01e3a86f9e3",
   "metadata": {},
   "outputs": [],
   "source": []
  }
 ],
 "metadata": {
  "kernelspec": {
   "display_name": "Python 3 (ipykernel)",
   "language": "python",
   "name": "python3"
  },
  "language_info": {
   "codemirror_mode": {
    "name": "ipython",
    "version": 3
   },
   "file_extension": ".py",
   "mimetype": "text/x-python",
   "name": "python",
   "nbconvert_exporter": "python",
   "pygments_lexer": "ipython3",
   "version": "3.8.10"
  }
 },
 "nbformat": 4,
 "nbformat_minor": 5
}
