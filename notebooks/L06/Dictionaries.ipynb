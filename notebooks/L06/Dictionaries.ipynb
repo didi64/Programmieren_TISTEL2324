{
 "cells": [
  {
   "cell_type": "markdown",
   "id": "0e7a0fca-44a6-4adf-ad58-b8a0c0006bfc",
   "metadata": {},
   "source": [
    "# Dictionaries\n",
    "Eine __Zuordnungstabelle__ oder **assoziierte Liste**, auf Englisch ein __Dictionary__, ist eine der wichtigsten und n&uuml;tzlichsten Datenstrukturen &uuml;berhaupt.\n",
    "- Dictionaires sind **mutable** und **iterable**\n",
    "- Dictionaries enthalten sog. Key-Value (Schl&uuml;ssel-Wert)  Paare:    \n",
    "  jedes [**hashable**](https://docs.python.org/3/glossary.html#term-hashable) Objekt ist ein g&uuml;ltiger Key,  \n",
    "  **jedes** Objekt ist ein g&uuml;ltiger Value\n",
    "- Derselbe `Key` kann **nur einmal** im Dictionary vorkommen \n",
    "- Seit der Version 3.8 sind Dictionaries geordnet:\n",
    "  Die Schl&uuml;ssel bleiben immer in der Reihenfolge, in welcher sie in den Dictionary eingef&uuml;gt wurden."
   ]
  },
  {
   "cell_type": "markdown",
   "id": "33ae6b03-546c-4bac-a491-174dca0ce322",
   "metadata": {},
   "source": [
    "### Dictionary erzeugen"
   ]
  },
  {
   "cell_type": "code",
   "execution_count": 11,
   "id": "b6f02760-f162-418f-831b-89e44a0a2802",
   "metadata": {},
   "outputs": [
    {
     "data": {
      "text/plain": [
       "{'example': 'Beispiel', 'house': 'Haus', 'three': 'drei'}"
      ]
     },
     "execution_count": 11,
     "metadata": {},
     "output_type": "execute_result"
    }
   ],
   "source": [
    "# Mit Key-Value Paaren \n",
    "d = {'example': 'Beispiel', # Komma obligatorisch, Zeilenumbruch optional\n",
    "     'house':   'Haus',     # Komma obligatorisch,\n",
    "     'three':   'drei',     # Komma optional\n",
    "    }\n",
    "d"
   ]
  },
  {
   "cell_type": "code",
   "execution_count": 12,
   "id": "6b719a5c-7b36-4b8a-8994-fb0589ec6833",
   "metadata": {},
   "outputs": [
    {
     "data": {
      "text/plain": [
       "{'example': 'Beispiel', 'house': 'Haus', 'three': 'drei'}"
      ]
     },
     "execution_count": 12,
     "metadata": {},
     "output_type": "execute_result"
    }
   ],
   "source": [
    "# Aus einer Liste von Kye-Value Tupeln\n",
    "lst = [('example', 'Beispiel'), ('house', 'Haus'), ('three', 'drei')]\n",
    "d = dict(lst)\n",
    "d"
   ]
  },
  {
   "cell_type": "code",
   "execution_count": 13,
   "id": "c036cc3a-bc22-4544-9f35-dd77378ec093",
   "metadata": {},
   "outputs": [
    {
     "data": {
      "text/plain": [
       "{'example': 'Beispiel', 'house': 'Haus', 'three': 'drei'}"
      ]
     },
     "execution_count": 13,
     "metadata": {},
     "output_type": "execute_result"
    }
   ],
   "source": [
    "# Variante: mit zip aus Liste oder Tuple von Keys und Values\n",
    "keys = ['example', 'house', 'three']\n",
    "values = ['Beispiel', 'Haus', 'drei']\n",
    "\n",
    "d = dict(zip(keys, values))\n",
    "d"
   ]
  },
  {
   "cell_type": "markdown",
   "id": "17da8568-d98c-402c-b8d9-5f5bf9974e61",
   "metadata": {},
   "source": [
    "### Key-Value Paar hinzuf&uuml;gen Value eines Keys updaten"
   ]
  },
  {
   "cell_type": "code",
   "execution_count": 14,
   "id": "996f3c4c-8890-45dd-b386-9d3bb10d6c1a",
   "metadata": {},
   "outputs": [
    {
     "data": {
      "text/plain": [
       "{'foo': 'bar'}"
      ]
     },
     "execution_count": 14,
     "metadata": {},
     "output_type": "execute_result"
    }
   ],
   "source": [
    "d = {}\n",
    "d['foo'] = 'bar'\n",
    "d"
   ]
  },
  {
   "cell_type": "code",
   "execution_count": 15,
   "id": "be73e4a7-60cd-4070-9b04-91ebd051dced",
   "metadata": {},
   "outputs": [
    {
     "data": {
      "text/plain": [
       "{'foo': 'foobar'}"
      ]
     },
     "execution_count": 15,
     "metadata": {},
     "output_type": "execute_result"
    }
   ],
   "source": [
    "d['foo'] = 'foobar'\n",
    "d"
   ]
  },
  {
   "cell_type": "markdown",
   "id": "984d7bb5-0e5c-4049-8cae-82ce4ffdafba",
   "metadata": {},
   "source": [
    "### Testen, ob Dictionary einen Key enth&auml;lt"
   ]
  },
  {
   "cell_type": "code",
   "execution_count": 16,
   "id": "eefede5c-73ad-406b-910f-c5385f0fcdd2",
   "metadata": {},
   "outputs": [
    {
     "data": {
      "text/plain": [
       "True"
      ]
     },
     "execution_count": 16,
     "metadata": {},
     "output_type": "execute_result"
    }
   ],
   "source": [
    "d = {'key': 'value'}\n",
    "'key' in d"
   ]
  },
  {
   "cell_type": "code",
   "execution_count": 17,
   "id": "55b056ed-9832-4f3d-9857-db01d7ddd050",
   "metadata": {},
   "outputs": [
    {
     "data": {
      "text/plain": [
       "False"
      ]
     },
     "execution_count": 17,
     "metadata": {},
     "output_type": "execute_result"
    }
   ],
   "source": [
    "d = {'key': 'value'}\n",
    "'foo' in d"
   ]
  },
  {
   "cell_type": "markdown",
   "id": "a9bf4d1c-1709-4ac3-a351-ad11210dc37b",
   "metadata": {},
   "source": [
    "### Existierenden Key und zugeh&ouml;rigen Wert entfernen"
   ]
  },
  {
   "cell_type": "code",
   "execution_count": 18,
   "id": "cea118ba-82e7-4ae0-960e-06baec60013c",
   "metadata": {},
   "outputs": [
    {
     "data": {
      "text/plain": [
       "{0: 'a', 1: 'b', 2: 'c', 3: 'd', 4: 'e'}"
      ]
     },
     "execution_count": 18,
     "metadata": {},
     "output_type": "execute_result"
    }
   ],
   "source": [
    "d = dict(zip(range(5), 'abcde'))\n",
    "d"
   ]
  },
  {
   "cell_type": "code",
   "execution_count": 19,
   "id": "2d15f399-a270-4369-a8e9-c19f20e1a469",
   "metadata": {},
   "outputs": [
    {
     "name": "stdout",
     "output_type": "stream",
     "text": [
      "a\n"
     ]
    },
    {
     "data": {
      "text/plain": [
       "{1: 'b', 2: 'c', 3: 'd', 4: 'e'}"
      ]
     },
     "execution_count": 19,
     "metadata": {},
     "output_type": "execute_result"
    }
   ],
   "source": [
    "val = d.pop(0)\n",
    "print(val)\n",
    "d"
   ]
  },
  {
   "cell_type": "code",
   "execution_count": 20,
   "id": "1df8c5d5-d127-4e13-b055-1c75af300c7b",
   "metadata": {},
   "outputs": [
    {
     "ename": "KeyError",
     "evalue": "0",
     "output_type": "error",
     "traceback": [
      "\u001b[0;31m---------------------------------------------------------------------------\u001b[0m",
      "\u001b[0;31mKeyError\u001b[0m                                  Traceback (most recent call last)",
      "\u001b[0;32m/tmp/ipykernel_2120394/1576445053.py\u001b[0m in \u001b[0;36m<cell line: 2>\u001b[0;34m()\u001b[0m\n\u001b[1;32m      1\u001b[0m \u001b[0;31m# Falls key nicht im Dictionary wird ein Fehler erzeugt\u001b[0m\u001b[0;34m\u001b[0m\u001b[0;34m\u001b[0m\u001b[0;34m\u001b[0m\u001b[0m\n\u001b[0;32m----> 2\u001b[0;31m \u001b[0mval\u001b[0m \u001b[0;34m=\u001b[0m \u001b[0md\u001b[0m\u001b[0;34m.\u001b[0m\u001b[0mpop\u001b[0m\u001b[0;34m(\u001b[0m\u001b[0;36m0\u001b[0m\u001b[0;34m)\u001b[0m\u001b[0;34m\u001b[0m\u001b[0;34m\u001b[0m\u001b[0m\n\u001b[0m",
      "\u001b[0;31mKeyError\u001b[0m: 0"
     ]
    }
   ],
   "source": [
    "# Falls key nicht im Dictionary wird ein Fehler erzeugt\n",
    "val = d.pop(0)"
   ]
  },
  {
   "cell_type": "markdown",
   "id": "5c43414f-5102-4497-9adb-384bf2924117",
   "metadata": {},
   "source": [
    "### Iterieren &uuml;ber eine Dictionary `d`\n",
    "- Iterieren &uuml;ber **`keys`**: `for key in d:` **oder**   \n",
    "  `for key in d.keys():`\n",
    "- Iterieren &uuml;ber **`values`**: `for val in d.values():`\n",
    "- Iterieren &uuml;ber **key-value Paare**: `for k,v in d.items():`"
   ]
  },
  {
   "cell_type": "code",
   "execution_count": 21,
   "id": "25ecc5d2-b68c-4c1e-8671-76c23bab4107",
   "metadata": {},
   "outputs": [
    {
     "name": "stdout",
     "output_type": "stream",
     "text": [
      "1, 2, 3, 4, "
     ]
    }
   ],
   "source": [
    "# ueber Keys iterieren\n",
    "for key in d.keys():\n",
    "   print(key, end = ', ')"
   ]
  },
  {
   "cell_type": "code",
   "execution_count": 22,
   "id": "f9bff2c8-f9fd-4dab-ab91-8979852b405a",
   "metadata": {},
   "outputs": [
    {
     "name": "stdout",
     "output_type": "stream",
     "text": [
      "1, 2, 3, 4, "
     ]
    }
   ],
   "source": [
    "# Variante, iteriert auch ueber Keys\n",
    "for key in d:\n",
    "   print(key, end = ', ')"
   ]
  },
  {
   "cell_type": "code",
   "execution_count": 24,
   "id": "e58a5657-8ef8-41c1-b981-3285f7eef685",
   "metadata": {},
   "outputs": [
    {
     "name": "stdout",
     "output_type": "stream",
     "text": [
      "b, c, d, e, "
     ]
    }
   ],
   "source": [
    "# ueber Values (Werte) iterieren\n",
    "for val in d.values():\n",
    "    print(val, end = ', ')"
   ]
  },
  {
   "cell_type": "code",
   "execution_count": 26,
   "id": "e2fcc551-e50e-4b08-8b27-adc9564deb4e",
   "metadata": {},
   "outputs": [
    {
     "name": "stdout",
     "output_type": "stream",
     "text": [
      "1 --> b, 2 --> c, 3 --> d, 4 --> e, "
     ]
    }
   ],
   "source": [
    "# ueber Key-Value Paare iterieren\n",
    "for key, val in d.items():\n",
    "    print(key, '-->', val, end = ', ')"
   ]
  },
  {
   "cell_type": "markdown",
   "id": "be1a6da4-eb28-4abc-abc1-399103b9bfe0",
   "metadata": {},
   "source": [
    "### Schl&uuml;ssel und Werte als Listen "
   ]
  },
  {
   "cell_type": "code",
   "execution_count": 27,
   "id": "80b1b205-a9cd-4cd7-ade6-71d02f1ed779",
   "metadata": {},
   "outputs": [
    {
     "name": "stdout",
     "output_type": "stream",
     "text": [
      "[1, 2, 3, 4]\n",
      "[1, 2, 3, 4]\n"
     ]
    },
    {
     "data": {
      "text/plain": [
       "['b', 'c', 'd', 'e']"
      ]
     },
     "execution_count": 27,
     "metadata": {},
     "output_type": "execute_result"
    }
   ],
   "source": [
    "# Liste mit allen Keys\n",
    "print(list(d))\n",
    "print(list(d.keys()))\n",
    "\n",
    "# Liste mit allen Values\n",
    "list(d.values())"
   ]
  },
  {
   "cell_type": "markdown",
   "id": "47a6b20e-acb0-4391-aa29-a33d01c30c09",
   "metadata": {},
   "source": [
    "### Die Methoden `dict.get` und `dict.setdefault`\n",
    "**Die sichere Art, Key-Werte Paare nachzuschlagen oder zu &auml;ndern** (im Sinne der Fehlervermeidung).  \n",
    "Sei `d` ein `dict`.\n",
    "  - `d.get(key)` liefert den Wert d[key] falls `key in d`, anderfalls `None`.  \n",
    "  - `d.get(key, value)` liefert den Wert d[key] falls `key in d`, anderfalls `value`.  \n",
    "  - `d.setdefault(key, val)` macht folgendes:\n",
    "    - ist `key in d`, so wird `d[key]` zur&uuml;ckgegeben\n",
    "    - ist `key not in d`, so wird `d[key]=val` ausgef&uuml;hrt und dann  \n",
    "      `d[key]` zur&uuml;ckgegeben (also `val`)  \n",
    "      **`d.setdefault(key, val)`** f&uuml;gt nur neue Key-Wert Paare hinzu, **nie** wird der Wert eines existierenden Keys **&uuml;berschrieben**!\n",
    "      \n",
    "**Bemerkung**:  \n",
    "`setdefault` ist ev. nicht der beste Namen f&uuml;r diese Methode. Beschreibender w&auml;re z.B.\n",
    "`get_if_exixts_else_set_and_get`."
   ]
  },
  {
   "cell_type": "code",
   "execution_count": 28,
   "id": "628107d8-f051-45b5-ae54-91f9335ec468",
   "metadata": {},
   "outputs": [
    {
     "name": "stdout",
     "output_type": "stream",
     "text": [
      "None\n",
      "bar\n"
     ]
    }
   ],
   "source": [
    "# get: gibt Wert zum ang. Schluessel oder None oder ang. Wert zurueck\n",
    "d = {}\n",
    "print(d.get('foo'))\n",
    "print(d.get('foo', 'bar'))"
   ]
  },
  {
   "cell_type": "code",
   "execution_count": 29,
   "id": "0e7eab3a-9c54-4b1b-a80e-6284b7169579",
   "metadata": {},
   "outputs": [
    {
     "ename": "KeyError",
     "evalue": "'foo'",
     "output_type": "error",
     "traceback": [
      "\u001b[0;31m---------------------------------------------------------------------------\u001b[0m",
      "\u001b[0;31mKeyError\u001b[0m                                  Traceback (most recent call last)",
      "\u001b[0;32m/tmp/ipykernel_2120394/91188712.py\u001b[0m in \u001b[0;36m<cell line: 1>\u001b[0;34m()\u001b[0m\n\u001b[0;32m----> 1\u001b[0;31m \u001b[0md\u001b[0m\u001b[0;34m[\u001b[0m\u001b[0;34m'foo'\u001b[0m\u001b[0;34m]\u001b[0m\u001b[0;34m\u001b[0m\u001b[0;34m\u001b[0m\u001b[0m\n\u001b[0m",
      "\u001b[0;31mKeyError\u001b[0m: 'foo'"
     ]
    }
   ],
   "source": [
    "d['foo']"
   ]
  },
  {
   "cell_type": "code",
   "execution_count": 30,
   "id": "5bea15dd-4a9a-4f18-9e2f-ed2e895a05ab",
   "metadata": {},
   "outputs": [
    {
     "name": "stdout",
     "output_type": "stream",
     "text": [
      "bar\n"
     ]
    },
    {
     "data": {
      "text/plain": [
       "{'foo': 'bar'}"
      ]
     },
     "execution_count": 30,
     "metadata": {},
     "output_type": "execute_result"
    }
   ],
   "source": [
    "# gibt immer einen Wert zurueck, \n",
    "# nimmt key-Wert Paar in d auf, falls Schluessel noch nicht im d\n",
    "d = {}\n",
    "val = d.setdefault('foo', 'bar')\n",
    "print(val)\n",
    "d"
   ]
  },
  {
   "cell_type": "code",
   "execution_count": 31,
   "id": "54aed827-2ae5-4790-8fc4-03c3d8f2e946",
   "metadata": {},
   "outputs": [
    {
     "name": "stdout",
     "output_type": "stream",
     "text": [
      "bar\n"
     ]
    },
    {
     "data": {
      "text/plain": [
       "{'foo': 'bar'}"
      ]
     },
     "execution_count": 31,
     "metadata": {},
     "output_type": "execute_result"
    }
   ],
   "source": [
    " # Wert wird nicht ueberschrieben, aktueller Wert wird zurueckgegeben. \n",
    "val = d.setdefault('foo', 'baz') \n",
    "print(val)\n",
    "d"
   ]
  },
  {
   "cell_type": "markdown",
   "id": "1e6e610c-d876-4a58-83fb-24de83bffd5b",
   "metadata": {},
   "source": [
    "### 2 wichtige Anwendungen von `dict.get` und `dict.setdefault`. \n",
    "- Zu einem Wort einen Dictionary erstellen, der angibt, wie oft ein Buchstabe vorkommt.\n",
    "- Zu einem Wort einen Dictionary erstellen, der anzeigt, an welchen Positionen der Buchstabe vorkommt."
   ]
  },
  {
   "cell_type": "code",
   "execution_count": 38,
   "id": "07a408cb-0fe8-481c-ad7b-28004cf8bb30",
   "metadata": {},
   "outputs": [
    {
     "data": {
      "text/plain": [
       "{'a': 5, 'b': 2, 'k': 1, 'd': 1, 'r': 1}"
      ]
     },
     "execution_count": 38,
     "metadata": {},
     "output_type": "execute_result"
    }
   ],
   "source": [
    "# Dictionary, Schluessel sind Buchstaben, die Werte die Anzahl Auftreten des Buchstabens\n",
    "word = 'abakadabra'\n",
    "d = {}\n",
    "for ch in word:\n",
    "    d[ch] = d.get(ch, 0) + 1\n",
    "d    "
   ]
  },
  {
   "cell_type": "code",
   "execution_count": 40,
   "id": "e8c9a2e4-f2dd-4473-8c2d-89c46a127a32",
   "metadata": {},
   "outputs": [
    {
     "data": {
      "text/plain": [
       "{'a': [0, 2, 4, 6, 9], 'b': [1, 7], 'k': [3], 'd': [5], 'r': [8]}"
      ]
     },
     "execution_count": 40,
     "metadata": {},
     "output_type": "execute_result"
    }
   ],
   "source": [
    "# Dictionary, Schluessel sind Buchstaben, die Werte sind Listen mit den\n",
    "# Positionen, wo der Buchstabe auftritt. \n",
    "word = 'abakadabra'\n",
    "d = {}\n",
    "for i, ch in enumerate(word):\n",
    "    d.setdefault(ch, []).append(i)\n",
    "d    "
   ]
  },
  {
   "cell_type": "markdown",
   "id": "b231d303-d814-48b1-b097-158c3c9f70e8",
   "metadata": {},
   "source": [
    "### Aufgabe\n",
    "Ersetze in obigem Code die Anweisungen `d[ch] = d.get(ch, 0) + 1` und\n",
    "`d.setdefault(ch, []).append(i)` durch einen if-else Block, der ohne die Dictionary-Methoden\n",
    "`get` und `setdefault` auskommt.  \n",
    "\n",
    "Implementiere nun folgende beiden Funktionen.\n",
    "\n",
    "```python\n",
    "def count_dict(text):\n",
    "    '''gib einen Dictionary der Form \n",
    "       `{<Buchstabe>: <Anzahl Auftreten des Buchstabens im Text>, ...  }`\n",
    "        zurueck\n",
    "    '''\n",
    "    ...\n",
    "    \n",
    "def pos_dict(text): \n",
    "    '''gib einen Dictionary der Form \n",
    "       `{<Buchstabe>: <Liste mit Positionen, an denen Buchstabens im Text auftritt>, ...  }`\n",
    "        zurueck\n",
    "    '''\n",
    "    ...\n",
    "    \n",
    "```    "
   ]
  },
  {
   "cell_type": "code",
   "execution_count": null,
   "id": "eaebcb19-c40f-4ec4-a7b6-38dcc5f6d83f",
   "metadata": {},
   "outputs": [],
   "source": []
  }
 ],
 "metadata": {
  "author": "dieter.probst@gmail.com",
  "kernelspec": {
   "display_name": "Python 3 (ipykernel)",
   "language": "python",
   "name": "python3"
  },
  "language_info": {
   "codemirror_mode": {
    "name": "ipython",
    "version": 3
   },
   "file_extension": ".py",
   "mimetype": "text/x-python",
   "name": "python",
   "nbconvert_exporter": "python",
   "pygments_lexer": "ipython3",
   "version": "3.8.10"
  }
 },
 "nbformat": 4,
 "nbformat_minor": 5
}
