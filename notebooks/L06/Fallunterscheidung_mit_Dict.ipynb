{
 "cells": [
  {
   "cell_type": "markdown",
   "id": "d96b3613-836e-4745-9fd5-d9bf382d527e",
   "metadata": {
    "tags": []
   },
   "source": [
    "### Fallunterscheidung mit einem Dictionary\n",
    "- Studiere die Rolle des Dictionary `cmd_action` in nachfolgendem Code.  \n",
    "  Der Spieler wird gefragt, in welche Richung er sich bewegen m&ouml;chte.  \n",
    "  Statt die Eingabe in einem  `if-elif`-Block zu analysieren, wird im \n",
    "  Dictionary `cmd_action` nachgeschlagen, welche Aktion zu t&auml;tigen ist.  \n",
    "- Schreibe eine kurze Funktion `quit(pos)`, welche die Konstante\n",
    "`QUIT` zur&uuml;ck gibt. Modifiziere den Dictionary und Code so, dass der Spieler das Spiel durch Eingabe von *quit* vorzeitig verlassen kann.  \n",
    "(Es ist nur sehr wenig zu &auml;ndern).\n"
   ]
  },
  {
   "cell_type": "code",
   "execution_count": null,
   "id": "34a4bef1-78d5-463e-b783-eba7fcdb08d0",
   "metadata": {},
   "outputs": [],
   "source": [
    "# Moegliche Aktionen: Spielerposition aendern\n",
    "\n",
    "START = (0, 0)\n",
    "ZIEL  = (1, 2)\n",
    "QUIT  = (999, 999)\n",
    "# zur Verfuegung stehende Befehle\n",
    "CMDS = ['up', 'down', 'left', 'right']\n",
    "\n",
    "def move_up(pos):\n",
    "    x, y = pos\n",
    "    return (x, y + 1)\n",
    "\n",
    "def move_down(pos):\n",
    "    x, y = pos\n",
    "    return (x, y - 1)\n",
    "\n",
    "def move_left(pos):\n",
    "    x, y = pos\n",
    "    return (x - 1, y)\n",
    "\n",
    "def move_right(pos):\n",
    "    x, y = pos\n",
    "    return (x + 1, y)\n",
    "\n",
    "cmd_action = {'up'   : move_up,\n",
    "              'down' : move_down,\n",
    "              'left' : move_left,\n",
    "              'right': move_right,\n",
    "              }\n",
    "\n",
    "def move(pos):\n",
    "    '''Nimmt Befehl entgegen und handelt entsprechend'''\n",
    "    \n",
    "    msg = ('Aktuelle Position: {}\\n' +\n",
    "           \"In welche Richtung soll es gehen? ['up', 'down', 'left', 'right']\")\n",
    "    err_msg = 'Sorry, \"{}\" ist kein gültiger Befehl!'\n",
    "    \n",
    "    cmd = input(msg.format(pos))\n",
    "    \n",
    "    if cmd not in CMDS:\n",
    "        print(err_msg.format(cmd))\n",
    "    else:    \n",
    "        pos = cmd_action[cmd](pos)\n",
    "       \n",
    "    return pos"
   ]
  },
  {
   "cell_type": "code",
   "execution_count": null,
   "id": "7effe943-47bf-42ca-829b-c606ce3dd91d",
   "metadata": {},
   "outputs": [],
   "source": [
    "pos_msg = {ZIEL: 'Du bist im Ziel',\n",
    "           QUIT: 'Spiel vor erreichen des Ziels beendet',\n",
    "          }\n",
    "\n",
    "pos = START\n",
    "while pos not in (ZIEL, QUIT):\n",
    "    pos = move(pos)\n",
    "\n",
    "print(pos_msg[pos])    "
   ]
  },
  {
   "cell_type": "code",
   "execution_count": null,
   "id": "5e8da94e-e761-48a1-b28d-02ee4e55cba4",
   "metadata": {},
   "outputs": [],
   "source": []
  },
  {
   "cell_type": "markdown",
   "id": "7424ac01-a034-44b9-b159-aad3b277c5f7",
   "metadata": {},
   "source": [
    "### L&ouml;sung"
   ]
  },
  {
   "cell_type": "code",
   "execution_count": null,
   "id": "c2d5e06c-0ed9-4fde-bf54-37ba7c12cd04",
   "metadata": {
    "jupyter": {
     "source_hidden": true
    },
    "tags": []
   },
   "outputs": [],
   "source": [
    "# Moegliche Aktionen: Spielerposition aendern\n",
    "\n",
    "START = (0, 0)\n",
    "ZIEL  = (1, 2)\n",
    "QUIT  = (999, 999)\n",
    "# den neuen Befehl `quit` in die CMDS Lise aufnehmen,\n",
    "# Funktion quit definieren und in cmd_action dictionary aufnehmen\n",
    "CMDS = ['up', 'down', 'left', 'right']\n",
    "\n",
    "def move_up(pos):\n",
    "    x, y = pos\n",
    "    return (x, y + 1)\n",
    "\n",
    "def move_down(pos):\n",
    "    x, y = pos\n",
    "    return (x, y - 1)\n",
    "\n",
    "def move_left(pos):\n",
    "    x, y = pos\n",
    "    return (x - 1, y)\n",
    "\n",
    "def move_right(pos):\n",
    "    x, y = pos\n",
    "    return (x + 1, y)\n",
    "\n",
    "# Action quit definieren und in cmd_action dictionary aufnehmen\n",
    "def quit(pos):\n",
    "    return QUIT\n",
    "\n",
    "cmd_action = {'up'   : move_up,\n",
    "              'down' : move_down,\n",
    "              'left' : move_left,\n",
    "              'right': move_right,\n",
    "              'quit' : quit,\n",
    "              }\n",
    "\n",
    "def move(pos):\n",
    "    '''Nimmt Befehl entgegen und handelt entsprechend'''\n",
    "    \n",
    "    msg = ('Aktuelle Position: {}\\n' +\n",
    "           \"In welche Richtung soll es gehen? ['up', 'down', 'left', 'right']\")\n",
    "    err_msg = 'Sorry, \"{}\" ist kein gültiger Befehl!'\n",
    "    \n",
    "    cmd = input(msg.format(pos))\n",
    "    \n",
    "    if cmd not in ['up', 'down', 'left', 'right', 'quit']:\n",
    "        print(err_msg.format(cmd))\n",
    "    else:    \n",
    "        pos = cmd_action[cmd](pos)\n",
    "       \n",
    "    return pos"
   ]
  },
  {
   "cell_type": "code",
   "execution_count": null,
   "id": "949fe985-3542-4949-b20c-32a635ff6a32",
   "metadata": {
    "jupyter": {
     "source_hidden": true
    },
    "tags": []
   },
   "outputs": [],
   "source": [
    "pos_msg = {ZIEL: 'Du bist im Ziel',\n",
    "           QUIT: 'Spiel vor erreichen des Ziels beendet',\n",
    "          }\n",
    "\n",
    "pos = START\n",
    "while pos not in (ZIEL, QUIT):\n",
    "    pos = move(pos)\n",
    "\n",
    "print(pos_msg[pos])    "
   ]
  },
  {
   "cell_type": "code",
   "execution_count": null,
   "id": "ba5f4cf5-3c44-4bc0-acef-8eb09a31149f",
   "metadata": {},
   "outputs": [],
   "source": []
  }
 ],
 "metadata": {
  "kernelspec": {
   "display_name": "Python 3 (ipykernel)",
   "language": "python",
   "name": "python3"
  },
  "language_info": {
   "codemirror_mode": {
    "name": "ipython",
    "version": 3
   },
   "file_extension": ".py",
   "mimetype": "text/x-python",
   "name": "python",
   "nbconvert_exporter": "python",
   "pygments_lexer": "ipython3",
   "version": "3.8.10"
  }
 },
 "nbformat": 4,
 "nbformat_minor": 5
}
