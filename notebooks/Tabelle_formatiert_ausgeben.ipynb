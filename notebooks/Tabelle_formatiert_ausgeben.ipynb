{
 "cells": [
  {
   "cell_type": "markdown",
   "id": "27d7434f-86b8-4395-82c9-cf4904b40d9e",
   "metadata": {},
   "source": [
    "### Tabelle formatiert ausgeben\n",
    "Ziel ist es, eine Funktion zu schreiben, die eine Tabelle formatiert ausgibt.  \n",
    "Gegeben seien z.B. Tabelle und eine Kopfzeile (header) mit Spaltennamen\n",
    "```python\n",
    "header = ['Vorname', 'Name']\n",
    "table = [['Maximilian', 'Mustermann'], \n",
    "         ['Betty', 'Bossi'],\n",
    "        ]\n",
    "```\n",
    "\n",
    "In eine ersten Schritt bestimmen wir die maximalen Spaltenbreiten (inkl. Kopfzeile),\n",
    "in obigem Beispiel (10, 10).  \n",
    "\n",
    "Dann erstellen wir programmatisch einen Platzhalterstring\n",
    "`fstring = '| {:<10} | {:<10} |'`, und benutzen diesen, um die Tabelle in der Form\n",
    "```\n",
    "| Vorname    | Name       |\n",
    "|------------|------------|\n",
    "| Maximilian | Mustermann |\n",
    "| Betty      | Bossi      |\n",
    "```\n",
    "\n",
    "auszugeben.\n",
    "\n",
    "Die Funktion sollte auch Tabellen mit mehr als 2 Spalten verarbeiten k&ouml;nnen."
   ]
  },
  {
   "cell_type": "markdown",
   "id": "6195bd77-ea47-4a56-a37b-271eddf920c0",
   "metadata": {},
   "source": [
    "### Platzhalter-String erstellen\n",
    "In einem Platzhalter-String wird `{}` als Platzhalter interpretiert, der sp&auml;ter \n",
    "ersetzt wird. Um auch `{` und `}` ausgeben zu k&ouml;nnen, wird `{{` und `}}` von der str.format Methode durch `{` bez. `}` ersetzt."
   ]
  },
  {
   "cell_type": "code",
   "execution_count": 1,
   "id": "77b1526e-9f6c-4263-b0f0-460a87b266f0",
   "metadata": {},
   "outputs": [
    {
     "data": {
      "text/plain": [
       "'| {:<12} |'"
      ]
     },
     "execution_count": 1,
     "metadata": {},
     "output_type": "execute_result"
    }
   ],
   "source": [
    "# fstring erstellen\n",
    "n = 12\n",
    "fstring_template = '| {{:<{}}} |'\n",
    "fstring = fstring_template.format(n)\n",
    "fstring"
   ]
  },
  {
   "cell_type": "code",
   "execution_count": 28,
   "id": "d9b6ff78-5d82-4927-8a7e-e5c157b524da",
   "metadata": {},
   "outputs": [
    {
     "data": {
      "text/plain": [
       "'| test       |'"
      ]
     },
     "execution_count": 28,
     "metadata": {},
     "output_type": "execute_result"
    }
   ],
   "source": [
    "fstring.format('test')"
   ]
  },
  {
   "cell_type": "code",
   "execution_count": 26,
   "id": "126a0745-cfe6-4bd4-8749-f1ea820fbf29",
   "metadata": {},
   "outputs": [],
   "source": [
    "def make_fstring(widths):\n",
    "    '''widths: Tuple oder Liste mit Spaltenbreiten\n",
    "       returns: fstring der zur Ausgabe von Tabellenzeilen\n",
    "                verwendet werden kann\n",
    "       \n",
    "       make_fstring([5, 10]) gibt den fstring \n",
    "       '| {:<5} | {:<10} |' zurueck\n",
    "    '''\n",
    "    ncols = len(widths)\n",
    "    fs_template = (ncols * '| {{:<{}}} ') + '|'\n",
    "    fs = fs_template.format(*widths)\n",
    "    return fs"
   ]
  },
  {
   "cell_type": "code",
   "execution_count": 27,
   "id": "117a267f-ec10-427b-9656-f386b6e9a99b",
   "metadata": {},
   "outputs": [
    {
     "data": {
      "text/plain": [
       "'| {:<8} | {:<12} | {:<8} |'"
      ]
     },
     "execution_count": 27,
     "metadata": {},
     "output_type": "execute_result"
    }
   ],
   "source": [
    "fs = make_fstring((8, 12, 8))\n",
    "fs"
   ]
  },
  {
   "cell_type": "code",
   "execution_count": 28,
   "id": "d0c384f9-60e8-49d0-8206-932348f8676b",
   "metadata": {},
   "outputs": [
    {
     "name": "stdout",
     "output_type": "stream",
     "text": [
      "| x        | y            | z        |\n",
      "| -------- | ------------ | -------- |\n",
      "| abcdefgh | abcdefghijkl | abcdefgh |\n"
     ]
    }
   ],
   "source": [
    "print(fs.format('x', 'y', 'z'))\n",
    "print(fs.format(8 * '-', 12 * '-', 8 * '-'))\n",
    "print(fs.format('abcdefgh', 'abcdefghijkl', 'abcdefgh'))"
   ]
  },
  {
   "cell_type": "markdown",
   "id": "845044b6-d519-4399-80a3-114b8a640498",
   "metadata": {},
   "source": [
    "**Horizontale Trennlinie** erstellen:  \n",
    "Wie in obiger Zelle, produzieren wir die horizontale Trennlinie indem wir\n",
    "dem Platzhalter-String Strings der Form '---' mit maximaler Spaltenbreite f&uuml;ttern."
   ]
  },
  {
   "cell_type": "code",
   "execution_count": 29,
   "id": "6ca09516-f2d0-4cb3-bbca-0d1adf20064c",
   "metadata": {},
   "outputs": [],
   "source": [
    "def make_hline(widths):\n",
    "    '''widths: Tuple oder Liste mit Spaltenbreiten\n",
    "       returns: Tabellenzeile (Liste), die zur Ausgabe einer Trennzeile\n",
    "                verwendet werden kann\n",
    "    '''   \n",
    "    hline = []\n",
    "    for width in widths:\n",
    "        s = width * '-'\n",
    "        hline.append(s)\n",
    "    return hline    "
   ]
  },
  {
   "cell_type": "code",
   "execution_count": 30,
   "id": "777fc756-c78c-4fca-89c3-72878f42ee7b",
   "metadata": {},
   "outputs": [
    {
     "name": "stdout",
     "output_type": "stream",
     "text": [
      "| -------- | ------------ | -------- |\n"
     ]
    }
   ],
   "source": [
    "lst = make_hline((8, 12, 8))\n",
    "print(fs.format(*lst))"
   ]
  },
  {
   "cell_type": "markdown",
   "id": "aaf4a5df-f6e4-42d3-8115-5c389928d716",
   "metadata": {},
   "source": [
    "**Maximale Spaltenbreiten berechnen**:\n",
    "In einem ersten Schritt schreiben wir die Spaltenbreiten der\n",
    "Kopfzeile in eine Liste `maxcolwidths`.\n",
    "Dann iterieren wir &uuml;ber alle Tabellenzeilen.\n",
    "Finden wir eine Spalte, die breier ist als der momentane Wert in der Liste\n",
    "`maxcolwidths`, wird dieser Wert auf die neue maximale Spaltenbreite gesetzt.\n"
   ]
  },
  {
   "cell_type": "code",
   "execution_count": 31,
   "id": "c15bec4a-c4fb-49ab-957f-4ad0fbc4a8b4",
   "metadata": {},
   "outputs": [],
   "source": [
    "def get_col_widths(table, header):\n",
    "    '''table: Liste von Listen\n",
    "       Header: Liste (Kopfzeile)\n",
    "       returns: Liste mit den maximalen Spaltenbreiten \n",
    "    '''\n",
    "    maxcolwidths = [] \n",
    "    for col in header:\n",
    "        n = len(col) \n",
    "        maxcolwidths.append(n)\n",
    "    \n",
    "    for row in table:\n",
    "        i = 0\n",
    "        for col in row:\n",
    "            width = len(col)\n",
    "            if width > maxcolwidths[i]:\n",
    "                maxcolwidths[i] = width\n",
    "            i = i + 1   \n",
    "    return maxcolwidths    "
   ]
  },
  {
   "cell_type": "markdown",
   "id": "9aa36f37-5f35-4268-84be-825ac1f7f370",
   "metadata": {},
   "source": [
    "**Tabelle ausgeben**    "
   ]
  },
  {
   "cell_type": "code",
   "execution_count": 32,
   "id": "26eb259d-c90f-40e4-8385-023dbf8a5f4a",
   "metadata": {},
   "outputs": [],
   "source": [
    "def print_table_and_header(table, header):\n",
    "    '''table: Liste von Listen\n",
    "       Header: Liste (Kopfzeile)\n",
    "      \n",
    "       Gibt header und table formatiert aus\n",
    "    '''\n",
    "    \n",
    "    col_widths = get_col_widths(table, header)\n",
    "    hline = make_hline(col_widths)\n",
    "    fs = make_fstring(col_widths)\n",
    "    \n",
    "    print(fs.format(*header))\n",
    "    print(fs.format(*hline))\n",
    "    for row in table:\n",
    "        print(fs.format(*row))"
   ]
  },
  {
   "cell_type": "code",
   "execution_count": 33,
   "id": "f676cc10-4afb-4f85-9955-d5edc64a697e",
   "metadata": {},
   "outputs": [
    {
     "data": {
      "text/plain": [
       "[['eruknrfc', 'thlileua', 'swtzupdpyvlmgl'],\n",
       " ['loez', 'yqqjjognquq', 'kabulgwf'],\n",
       " ['etrfliabggsva', 'jpecrrcbj', 'pjirf'],\n",
       " ['jkqetsj', 'qwgbfupl', 'tdu'],\n",
       " ['wxkfj', 'jvlassuztlamvk', 'fakacd'],\n",
       " ['xqofk', 'hzbfdmrubu', 'qipysspdhugjwu'],\n",
       " ['dgfvzoxxdsdd', 'ydfhpg', 'vhdyfufamt'],\n",
       " ['kusgzfjzdlirr', 'dawkzj', 'hxx'],\n",
       " ['lccufcozkxiydzt', 'fezzi', 'hshhygeixll'],\n",
       " ['iurlunicvqjys', 'nrseckkibgnba', 'rhljotnzpu']]"
      ]
     },
     "execution_count": 33,
     "metadata": {},
     "output_type": "execute_result"
    }
   ],
   "source": [
    "from table_tools import random_table\n",
    "table = random_table()\n",
    "table"
   ]
  },
  {
   "cell_type": "code",
   "execution_count": 34,
   "id": "e483d866-313a-43b6-90af-7976d84973a5",
   "metadata": {},
   "outputs": [
    {
     "name": "stdout",
     "output_type": "stream",
     "text": [
      "| eruknrfc        | thlileua       | swtzupdpyvlmgl |\n",
      "| --------------- | -------------- | -------------- |\n",
      "| loez            | yqqjjognquq    | kabulgwf       |\n",
      "| etrfliabggsva   | jpecrrcbj      | pjirf          |\n",
      "| jkqetsj         | qwgbfupl       | tdu            |\n",
      "| wxkfj           | jvlassuztlamvk | fakacd         |\n",
      "| xqofk           | hzbfdmrubu     | qipysspdhugjwu |\n",
      "| dgfvzoxxdsdd    | ydfhpg         | vhdyfufamt     |\n",
      "| kusgzfjzdlirr   | dawkzj         | hxx            |\n",
      "| lccufcozkxiydzt | fezzi          | hshhygeixll    |\n",
      "| iurlunicvqjys   | nrseckkibgnba  | rhljotnzpu     |\n"
     ]
    }
   ],
   "source": [
    "# table[1:] alle Tabellenzeilen von der 1. Zeile (bez.2. Zeile) an\n",
    "print_table_and_header(table[1:], table[0])"
   ]
  },
  {
   "cell_type": "code",
   "execution_count": null,
   "id": "a0a6946f-e890-49b6-ba34-f48d786832a1",
   "metadata": {},
   "outputs": [],
   "source": []
  }
 ],
 "metadata": {
  "kernelspec": {
   "display_name": "Python 3 (ipykernel)",
   "language": "python",
   "name": "python3"
  },
  "language_info": {
   "codemirror_mode": {
    "name": "ipython",
    "version": 3
   },
   "file_extension": ".py",
   "mimetype": "text/x-python",
   "name": "python",
   "nbconvert_exporter": "python",
   "pygments_lexer": "ipython3",
   "version": "3.12.0"
  }
 },
 "nbformat": 4,
 "nbformat_minor": 5
}
