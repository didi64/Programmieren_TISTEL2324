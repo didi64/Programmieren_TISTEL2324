{
 "cells": [
  {
   "cell_type": "markdown",
   "id": "07fe34f9-d987-4644-80a1-b7ebc00fd612",
   "metadata": {},
   "source": [
    "### Template Buttons"
   ]
  },
  {
   "cell_type": "markdown",
   "id": "1a0b5865-4f1b-4fc3-b8d1-1a0ac0c8d7c3",
   "metadata": {},
   "source": [
    "***\n",
    "Variante ohne Klasse\n",
    "***"
   ]
  },
  {
   "cell_type": "code",
   "execution_count": null,
   "id": "77425501-2cb0-4a9f-8d58-ad9fc35e05b6",
   "metadata": {},
   "outputs": [],
   "source": [
    "from ipywidgets import Output, Image, Button, VBox, HBox\n",
    "from ipycanvas import Canvas\n",
    "\n",
    "layout = {'border': '1px solid black'}\n",
    "out = Output(layout=layout)\n",
    "canvas = Canvas(width= 500, height = 200, layout=layout)\n",
    "\n",
    "action1_bt =  Button(description='action1', layout=layout)\n",
    "action2_bt =  Button(description='action2', layout=layout)\n",
    "action3_bt =  Button(description='action3', layout=layout)\n",
    "buttons = HBox(children = [action1_bt, action2_bt, action3_bt]) \n",
    "\n",
    "@out.capture()\n",
    "def action1():\n",
    "    print('Action 1')\n",
    "    \n",
    "@out.capture()    \n",
    "def action2():\n",
    "    print('Action 2')\n",
    "    \n",
    "@out.capture()    \n",
    "def action3():\n",
    "    print('Action 3')  \n",
    "    \n",
    "@out.capture()    \n",
    "def on_key_down(key, *flags):\n",
    "    print(key)\n",
    "    \n",
    "canvas.on_key_down(on_key_down)\n",
    "action1_bt.on_click(lambda bt: action1())\n",
    "action2_bt.on_click(lambda bt: action2())\n",
    "action3_bt.on_click(lambda bt: action3())    \n",
    "    \n",
    "    \n",
    "display(canvas, out, buttons)"
   ]
  },
  {
   "cell_type": "markdown",
   "id": "fc68d84b-b35a-44cc-9bcc-2b9f7a44c210",
   "metadata": {},
   "source": [
    "***\n",
    "Variante mit Klasse\n",
    "***"
   ]
  },
  {
   "cell_type": "code",
   "execution_count": null,
   "id": "a49db6a9-fd4f-4c42-bffc-d6bef3c9b2a4",
   "metadata": {},
   "outputs": [],
   "source": [
    "from ipywidgets import Output, Image, Button, VBox, HBox\n",
    "from ipycanvas import Canvas\n",
    "\n",
    "layout = {'border': '1px solid black'}\n",
    "out = Output(layout=layout)\n",
    "canvas = Canvas(width= 500, height = 200, layout=layout)\n",
    "\n",
    "action1_bt =  Button(description='action1', layout=layout)\n",
    "action2_bt =  Button(description='action2', layout=layout)\n",
    "action3_bt =  Button(description='action3', layout=layout)\n",
    "buttons = HBox(children = [action1_bt, action2_bt, action3_bt]) \n",
    "\n",
    "class Game:\n",
    "    def __init__(self):\n",
    "        canvas.on_key_down(self.on_key_down)\n",
    "        action1_bt.on_click(lambda bt: self.action1())\n",
    "        action2_bt.on_click(lambda bt: self.action2())\n",
    "        action3_bt.on_click(lambda bt: self.action3())   \n",
    "        \n",
    "        display(canvas, out, buttons)\n",
    "        \n",
    "        \n",
    "    @out.capture()\n",
    "    def action1(self):\n",
    "        print('Action 1')\n",
    "\n",
    "    @out.capture()    \n",
    "    def action2(self):\n",
    "        print('Action 2')\n",
    "\n",
    "    @out.capture()    \n",
    "    def action3(self):\n",
    "        print('Action 3')  \n",
    "\n",
    "    @out.capture()    \n",
    "    def on_key_down(self, key, *flags):\n",
    "        print(key)"
   ]
  },
  {
   "cell_type": "code",
   "execution_count": null,
   "id": "ed770ab2-6607-4534-a084-264c41fa2a6d",
   "metadata": {},
   "outputs": [],
   "source": [
    "game = Game()\n",
    "_ = game"
   ]
  },
  {
   "cell_type": "code",
   "execution_count": null,
   "id": "e47bf055-1385-4dbf-bf0b-a154d464032b",
   "metadata": {},
   "outputs": [],
   "source": []
  }
 ],
 "metadata": {
  "kernelspec": {
   "display_name": "Python 3 (ipykernel)",
   "language": "python",
   "name": "python3"
  },
  "language_info": {
   "codemirror_mode": {
    "name": "ipython",
    "version": 3
   },
   "file_extension": ".py",
   "mimetype": "text/x-python",
   "name": "python",
   "nbconvert_exporter": "python",
   "pygments_lexer": "ipython3",
   "version": "3.12.0"
  }
 },
 "nbformat": 4,
 "nbformat_minor": 5
}
