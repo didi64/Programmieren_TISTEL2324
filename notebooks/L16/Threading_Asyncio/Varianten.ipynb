{
 "cells": [
  {
   "cell_type": "markdown",
   "id": "d99246a8-0cb5-4051-8535-fbc6f9443264",
   "metadata": {},
   "source": [
    "### Funktionen alle paar Millisekunden  wieder aufrufen\n",
    "Programmiert man ein Spiel, so m&ouml;chte man z.B. alle paar Millisekunden die Leinwand updaten. \n",
    "\n",
    "Nachstehend importieren wir ein Widget, welches \n",
    "eine Leinwand, ein Output-Widget und Buttones enth&auml;lt. \n",
    "Der `clear`-Button l&ouml;scht die Leinwand und das Output-Widget.\n",
    "Die anderen Buttons geben aus, dass sie gedr&uuml;ckt wurden. \n",
    "Sind `start`, `stop` und `pause` Funktionen, so k&ouml;nnen diese mit  \n",
    "`widget.register_callbacks({'start': start, 'pause': pause, 'stop': stop})` als\n",
    "Callbacks f&uuml;r die Buttons registriert werden.\n",
    "\n",
    "`widget.draw_pt()` malt einen zuf&auml;lligen Punkt auf die Leinwand.  \n",
    "Ist die Leinwand im Fokus, so kann durch Dr&uuml;cken von 'b','g', oder 'r' die Farbe\n",
    "gewechselt werden."
   ]
  },
  {
   "cell_type": "code",
   "execution_count": null,
   "id": "8d85fdf9-755e-4090-acc9-05cd8189636d",
   "metadata": {},
   "outputs": [],
   "source": [
    "from widget_helpers import Widget"
   ]
  },
  {
   "cell_type": "code",
   "execution_count": null,
   "id": "21e28eb7-04ab-41c0-b1a9-310d11b082e3",
   "metadata": {},
   "outputs": [],
   "source": [
    "widget = Widget()\n",
    "widget"
   ]
  },
  {
   "cell_type": "code",
   "execution_count": null,
   "id": "ebe25097-69de-4636-a94c-537a58e8c013",
   "metadata": {},
   "outputs": [],
   "source": [
    "widget.draw_pt()"
   ]
  },
  {
   "cell_type": "markdown",
   "id": "1d89599e-5aee-4960-b46a-34acfd3b4279",
   "metadata": {},
   "source": [
    "### Der naive Ansatz: While-Loop und `time.sleep`\n",
    "Nachstehender Code zeichnet alle 0.1 Sekunden einen Punkt auf die Leinwand.  \n",
    "**Aber**: Der While-Loop blockiert das Notebook und die Buttons funktioniern nicht mehr."
   ]
  },
  {
   "cell_type": "code",
   "execution_count": null,
   "id": "2f28c379-12a8-4f81-bfe6-ecafd2edd93e",
   "metadata": {},
   "outputs": [],
   "source": [
    "import time\n",
    "# zeichet alle 0.1 Sekunden einen neuen Punkt\n",
    "# aber blockiert das Notebook!\n",
    "# Buttons funktionieren nicht mehr!\n",
    "def loop():\n",
    "    while True:\n",
    "        widget.draw_pt()\n",
    "        time.sleep(0.1)"
   ]
  },
  {
   "cell_type": "code",
   "execution_count": null,
   "id": "9485e5e6-a34e-4fa1-bb75-efb4fdfcbc9a",
   "metadata": {},
   "outputs": [],
   "source": [
    "loop()"
   ]
  },
  {
   "cell_type": "code",
   "execution_count": null,
   "id": "2f2765b7-a264-422f-916a-8ccd4d068d24",
   "metadata": {},
   "outputs": [],
   "source": [
    "print('test')"
   ]
  },
  {
   "cell_type": "markdown",
   "id": "f130d51d-e830-4b0b-a7c8-cde52ab809c1",
   "metadata": {},
   "source": [
    "### Variante mit asyncio\n",
    "Wir definieren eine async Coroutine\n",
    "```python\n",
    "async def loop_async():  \n",
    "    while state['running']:\n",
    "        \n",
    "        await state['resume'].wait()\n",
    "        widget.draw_pt()\n",
    "        do_stuff()\n",
    "        await asyncio.sleep(state['delay'])\n",
    "```\n",
    "und f&uuml;gen diese als Task in den aktuellen Eventloop ein und\n",
    "starten den Task.\n",
    "\n",
    "```python\n",
    "def start_loop_async():\n",
    "    loop = asyncio.get_event_loop()\n",
    "    task = loop.create_task(loop_async())\n",
    "    loop.call_soon_threadsafe(asyncio.ensure_future, task)\n",
    "```"
   ]
  },
  {
   "cell_type": "code",
   "execution_count": null,
   "id": "8b245672-f8a5-42c8-a0a7-b5df82522101",
   "metadata": {},
   "outputs": [],
   "source": [
    "import asyncio\n",
    "\n",
    "state = {'running': True,\n",
    "         'delay': 1,\n",
    "         'pause': False,\n",
    "         'count': 0\n",
    "        }\n",
    "\n",
    "# @widget.out.capture() # (should work but doesn't)\n",
    "def do_stuff():\n",
    "    state['count'] += 1\n",
    "    msg = 'running: {}, pause: {}, count:{}\\n'.\\\n",
    "          format(state['running'],  state['pause'], state['count'])\n",
    "    widget.out.append_stdout(msg)    \n",
    "                 \n",
    "async def loop_async():  \n",
    "    while state['running']:\n",
    "        \n",
    "        if not state['pause']:\n",
    "            widget.draw_pt()\n",
    "            do_stuff()\n",
    "        await asyncio.sleep(state['delay'])\n",
    "        \n",
    "def start_loop_async():\n",
    "    loop = asyncio.get_event_loop()\n",
    "    task = loop.create_task(loop_async())\n",
    "    loop.call_soon_threadsafe(asyncio.ensure_future, task)\n",
    "      \n",
    "def start():\n",
    "    print('start loop')\n",
    "    state['running'] = True\n",
    "    state['pause'] = False\n",
    "    start_loop_async()\n",
    "    \n",
    "def pause():\n",
    "    state['pause'] = not state['pause'] \n",
    "    print('toggled pause')\n",
    "    \n",
    "def stop():\n",
    "    print('stop loop')\n",
    "    state['running'] = False\n",
    "    \n",
    "callbacks = {'start': start, 'pause': pause, 'stop': stop}"
   ]
  },
  {
   "cell_type": "code",
   "execution_count": null,
   "id": "726b0a1a-a5a4-456a-a6eb-92db17a843b8",
   "metadata": {},
   "outputs": [],
   "source": [
    "widget.register_callbacks(callbacks)\n",
    "widget"
   ]
  },
  {
   "cell_type": "markdown",
   "id": "8c1fc30c-30d8-4eff-a002-cd64794c42c4",
   "metadata": {},
   "source": [
    "### Variante with Threads  \n",
    "Die Funktion `def start_loop_thread()` macht sich zu einem Thread, der sich selber nach einem kurzen Delay wieder started."
   ]
  },
  {
   "cell_type": "code",
   "execution_count": null,
   "id": "2db53653-75f9-48b0-8bed-7b62886ebce3",
   "metadata": {},
   "outputs": [],
   "source": [
    "import threading\n",
    "\n",
    "# Thread Variante\n",
    "def start_loop_thread():  \n",
    "    if state['running']:\n",
    "        if not state['pause']:\n",
    "            widget.draw_pt()\n",
    "            do_stuff()\n",
    "        \n",
    "        t = threading.Timer(state['delay'], start_loop_thread, args=[])\n",
    "        t.start()\n",
    "\n",
    "def start():\n",
    "    print('start loop')\n",
    "    state['running'] = True\n",
    "    state['pause'] = False\n",
    "    start_loop_thread()\n",
    "\n",
    "# update callback fuer start-Button\n",
    "callbacks = {'start': start}"
   ]
  },
  {
   "cell_type": "code",
   "execution_count": null,
   "id": "5b90f214-6c6c-4c0b-8098-abd4578fb0b8",
   "metadata": {},
   "outputs": [],
   "source": [
    "widget.register_callbacks(callbacks)\n",
    "widget"
   ]
  },
  {
   "cell_type": "code",
   "execution_count": null,
   "id": "6226871f-b390-44d2-bf0d-e29d9472ba99",
   "metadata": {},
   "outputs": [],
   "source": []
  }
 ],
 "metadata": {
  "kernelspec": {
   "display_name": "Python 3 (ipykernel)",
   "language": "python",
   "name": "python3"
  },
  "language_info": {
   "codemirror_mode": {
    "name": "ipython",
    "version": 3
   },
   "file_extension": ".py",
   "mimetype": "text/x-python",
   "name": "python",
   "nbconvert_exporter": "python",
   "pygments_lexer": "ipython3",
   "version": "3.12.0"
  }
 },
 "nbformat": 4,
 "nbformat_minor": 5
}
