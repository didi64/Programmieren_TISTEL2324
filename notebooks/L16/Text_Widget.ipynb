{
 "cells": [
  {
   "cell_type": "markdown",
   "id": "138f6ac1-c841-42ef-a938-252483eda7b5",
   "metadata": {},
   "source": [
    "### Text -Widget\n",
    "\n",
    "Benutzt man die `on_submit` Methode des Text-Widgets, so erscheint eine\n",
    "DeprecationWarning:  \n",
    "> `on_submit` is deprecated. Instead, set the `.continuous_update` attribute to `False` and observe the value changing with: `mywidget.observe(callback, 'value')`.\n",
    "\n",
    "Diese Verwendungsweise zieht jedoch  Probleme mit sich. Z.B. kann man kann nun das Textfeld nicht einfach \n",
    "duch Zuweisung des leeren Strings l&ouml;schen, da dies ebenfalls das Callback triggert.\n",
    "Man muss vor&uuml;bergehend die Beobachtung des Attributs `text.value` sistieren.\n",
    "\n",
    "```python\n",
    "    mywidget.unobserve(callback, 'value')\n",
    "    text.value = ''\n",
    "    mywidget.observe(callback, 'value')\n",
    "```    \n",
    "\n",
    "Man kann die DeprecationWarning  aber auch unterdr&uuml;cken.\n",
    "```python\n",
    "import warnings\n",
    "warnings.filterwarnings('ignore')\n",
    "```"
   ]
  },
  {
   "cell_type": "code",
   "execution_count": null,
   "id": "a0ddc6be-664c-472c-a6c1-6899790131d3",
   "metadata": {},
   "outputs": [],
   "source": []
  },
  {
   "cell_type": "code",
   "execution_count": null,
   "id": "e4d2fa83-1195-4d1f-b647-08c6e7be115a",
   "metadata": {},
   "outputs": [],
   "source": [
    "# import warnings\n",
    "# warnings.filterwarnings('ignore')"
   ]
  },
  {
   "cell_type": "code",
   "execution_count": null,
   "id": "fc752a5b-6931-4556-9dac-e60a2631a0f3",
   "metadata": {},
   "outputs": [],
   "source": [
    "# Verwendung von on_submit\n",
    "from ipywidgets import Output, Text\n",
    "\n",
    "def print_to_out(text):\n",
    "    out.clear_output()\n",
    "    with out:\n",
    "        print(text.value)\n",
    "    # Textfeld leeren\n",
    "    text.value = ''\n",
    "    \n",
    "out = Output(layout = {'border': '1px solid black',})\n",
    "text = Text(placeholder='Type something')\n",
    "text.on_submit(print_to_out)\n",
    "\n",
    "display(out, text)"
   ]
  },
  {
   "cell_type": "code",
   "execution_count": null,
   "id": "fbdb38e4-2133-4f7b-8f86-b8cb95ff803f",
   "metadata": {},
   "outputs": [],
   "source": []
  },
  {
   "cell_type": "code",
   "execution_count": null,
   "id": "969f2d26-6e0f-4fd0-814e-d2b33fba6c5b",
   "metadata": {},
   "outputs": [],
   "source": [
    "# Verwendung mit observe\n",
    "from ipywidgets import Output, Text\n",
    "\n",
    "def print_to_out(change):\n",
    "    with out:\n",
    "        print(change.new)\n",
    "        \n",
    "    # Beobachtung sistieren und Textfeld leeren\n",
    "    text.unobserve(print_to_out, names='value')\n",
    "    text.value = ''\n",
    "    text.observe(print_to_out, names='value')\n",
    "    \n",
    "out = Output(layout = {'border': '1px solid black',})\n",
    "text = Text(placeholder='Type something', continuous_update=False)\n",
    "text.observe(print_to_out, names='value')\n",
    "\n",
    "display(out, text)"
   ]
  },
  {
   "cell_type": "code",
   "execution_count": null,
   "id": "a6b3c504-f667-4166-a207-5257f09975b9",
   "metadata": {},
   "outputs": [],
   "source": []
  },
  {
   "cell_type": "code",
   "execution_count": null,
   "id": "9e1f4b9e-6945-47d3-9430-7fe7896efc24",
   "metadata": {},
   "outputs": [],
   "source": []
  }
 ],
 "metadata": {
  "kernelspec": {
   "display_name": "Python 3 (ipykernel)",
   "language": "python",
   "name": "python3"
  },
  "language_info": {
   "codemirror_mode": {
    "name": "ipython",
    "version": 3
   },
   "file_extension": ".py",
   "mimetype": "text/x-python",
   "name": "python",
   "nbconvert_exporter": "python",
   "pygments_lexer": "ipython3",
   "version": "3.12.0"
  }
 },
 "nbformat": 4,
 "nbformat_minor": 5
}
