{
 "cells": [
  {
   "cell_type": "markdown",
   "id": "562114e6-d559-4767-b80e-444ea0980c7d",
   "metadata": {},
   "source": [
    "### L&ouml;sungen\n",
    "Siehe auch `L03_WarmUp_done.ipynb`"
   ]
  },
  {
   "cell_type": "markdown",
   "id": "895bb662-0793-4293-b72d-f881595e6945",
   "metadata": {},
   "source": [
    "### if-then-else"
   ]
  },
  {
   "cell_type": "code",
   "execution_count": null,
   "id": "1f87faed-3f20-4042-a67d-c9892b48a40f",
   "metadata": {},
   "outputs": [],
   "source": [
    "def sign(n):\n",
    "    '''returns the sign of the number n'''\n",
    "    if n < 0:\n",
    "        return -1\n",
    "    elif n > 0:\n",
    "        return 1\n",
    "    else:\n",
    "        return 0  "
   ]
  },
  {
   "cell_type": "code",
   "execution_count": null,
   "id": "e6aff22a-6448-4d39-ab49-7444e67bf110",
   "metadata": {},
   "outputs": [],
   "source": [
    "def fizzbuzz(n):\n",
    "    if  n % 5 == 0 and n % 3 ==0:\n",
    "        return 'fizzbuzz'\n",
    "    elif n % 5 == 0:\n",
    "        return 'buzz'\n",
    "    elif n % 3 == 0:\n",
    "        return 'fizz'\n",
    "    else:\n",
    "        return str(n)"
   ]
  },
  {
   "cell_type": "markdown",
   "id": "e7e17f50-b7b5-49d0-a8ce-9499ae9cf6c6",
   "metadata": {},
   "source": [
    "***Range***"
   ]
  },
  {
   "cell_type": "code",
   "execution_count": null,
   "id": "c997ed1f-7cef-49a7-8c0f-15323c3e2799",
   "metadata": {},
   "outputs": [],
   "source": [
    "even_numbers = list(range(2,101,2))\n",
    "odd_numbers = (range(1,100,2))\n",
    "\n",
    "tot = 0\n",
    "for i in range(2,101,2):\n",
    "    tot = tot + i\n",
    "print(tot)\n",
    "\n",
    "print(tot == sum(range(2,101,2)))"
   ]
  },
  {
   "cell_type": "markdown",
   "id": "057d7197-1fde-45ed-ac0b-8fb14133bd1b",
   "metadata": {},
   "source": [
    "### Basic Types"
   ]
  },
  {
   "cell_type": "code",
   "execution_count": null,
   "id": "443b4145-98d6-4cc8-891d-6dd643cf794d",
   "metadata": {},
   "outputs": [],
   "source": [
    "# Tuple aendern\n",
    "tpl = (1, 2)\n",
    "tpl[1] = 0"
   ]
  },
  {
   "cell_type": "code",
   "execution_count": null,
   "id": "24cd04d0-5f81-4d77-8ae5-658482b266e4",
   "metadata": {},
   "outputs": [],
   "source": [
    "# neues Tuple\n",
    "tpl1 = (tpl[0], 0)\n",
    "tpl1"
   ]
  },
  {
   "cell_type": "code",
   "execution_count": null,
   "id": "8ca4fb32-62bb-4904-b12b-194f018efc01",
   "metadata": {},
   "outputs": [],
   "source": [
    "# Tuple in Liste umwandeln und modifizieren\n",
    "lst = list(tpl)\n",
    "lst[1] = 0\n",
    "tuple(lst)"
   ]
  },
  {
   "cell_type": "code",
   "execution_count": null,
   "id": "43f2c9af-d0a4-4e99-afa3-55ee66616a72",
   "metadata": {},
   "outputs": [],
   "source": [
    "def anzahl_verschiedener_buchstaben(word):\n",
    "    '''gibt Anzahl verschiedener Buchstaben zurueck'''\n",
    "    return len(set(word))"
   ]
  },
  {
   "cell_type": "code",
   "execution_count": null,
   "id": "0a691ab1-31b2-4ff8-9995-2a45b48f5a83",
   "metadata": {},
   "outputs": [],
   "source": [
    "def quit(pos):\n",
    "    return QUIT\n",
    "\n",
    "cmd_action = {'up'   : move_up,\n",
    "              'down' : move_down,\n",
    "              'left' : move_left,\n",
    "              'right': move_right,\n",
    "              'quit' : quit,\n",
    "             }\n",
    "\n",
    "\n",
    "if cmd not in ['up', 'down', 'left', 'right', 'quit']:\n",
    "    ..."
   ]
  }
 ],
 "metadata": {
  "kernelspec": {
   "display_name": "Python 3 (ipykernel)",
   "language": "python",
   "name": "python3"
  },
  "language_info": {
   "codemirror_mode": {
    "name": "ipython",
    "version": 3
   },
   "file_extension": ".py",
   "mimetype": "text/x-python",
   "name": "python",
   "nbconvert_exporter": "python",
   "pygments_lexer": "ipython3",
   "version": "3.12.0"
  }
 },
 "nbformat": 4,
 "nbformat_minor": 5
}
