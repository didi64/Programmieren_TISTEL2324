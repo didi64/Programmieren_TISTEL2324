{
 "cells": [
  {
   "cell_type": "markdown",
   "id": "9269597b-11d4-4aa7-b53b-a82dc836c931",
   "metadata": {},
   "source": [
    "### Weitere Aufgaben\n",
    "Mit Hilfe des Moduls Random wollen wir zuf&auml;llige W&ouml;rter und Tabellen generieren.\n",
    "Wir verwenden dabei die Methoden\n",
    "```python\n",
    "random.randint(1, 6) # liefert Zufallszahl zw. 1 und 6 (wuerfeln)\n",
    "random.choices('abcdefgh', k = 3) # liefert eine Liste mit 3 zufaelligen Elementen\n",
    "                                  # aus dem String 'abcdefgh')\n",
    "random.choices(['a', 'b', 'c', 'd', 'e', 'f', 'g', 'h'], k = 3) # macht das gleiche\n",
    "```\n",
    "\n",
    "1. Vervollst&auml;ndige die Funktionen `random_word(length, alphabet)`,\n",
    "`random_words(n)`, `random_table()`.\n",
    "2. Gegeben sei eine Tabelle, und eine Kopfzeile, z.B.  \n",
    "\n",
    "```python\n",
    "header = ['Vorname', 'Name', 'Email']\n",
    "table  = [['Max', 'Mueller', 'max.mueller@gmail.com'],\n",
    "          ['Betty', 'Bossi', 'betty.bossi@gmail.com'],\n",
    "         ] \n",
    "```\n",
    "\n",
    "Um die Tabelle formatiert ausgeben zu k&ouml;nnen, brauchen wir die\n",
    "die maximalen Spaltenbreiten (inkl. Kopfzeile). Diese soll die Funktion \n",
    "`get_col_widths(table, header)` liefern ([7, 7, 21])."
   ]
  },
  {
   "cell_type": "code",
   "execution_count": 1,
   "id": "97e28054-55f8-4758-b42c-59937b8897f5",
   "metadata": {},
   "outputs": [],
   "source": [
    "import random"
   ]
  },
  {
   "cell_type": "code",
   "execution_count": null,
   "id": "e179cfe1-3e9c-45dd-b61f-3ce9b5d2f3e0",
   "metadata": {},
   "outputs": [],
   "source": [
    "def random_words(n):\n",
    "    '''gibt eine Liste mit n zufaelligen Woertern \n",
    "       mit Buchstaben aus 'abcdefghijklmnopqrstuvwxyz'\n",
    "       und mit Laenge 3-15 zurueck\n",
    "    '''\n",
    "    bounds = (3, 15)\n",
    "    abc = 'abcdefghijklmnopqrstuvwxyz'\n",
    "    words = []\n",
    "    \n",
    "    ...\n",
    "        \n",
    "    return words "
   ]
  },
  {
   "cell_type": "code",
   "execution_count": 7,
   "id": "52b84671-5b10-44ea-95c8-c01c3993ca95",
   "metadata": {},
   "outputs": [
    {
     "data": {
      "text/plain": [
       "(5, 1)"
      ]
     },
     "execution_count": 7,
     "metadata": {},
     "output_type": "execute_result"
    }
   ],
   "source": [
    "table = []\n",
    "nrows = random.randint(3, 10)\n",
    "ncols = random.randint(1, 5)\n",
    "nrows, ncols\n",
    "\n",
    "for i in range(nrows):\n",
    "    row = random_words(ncols)\n",
    "    table.append(row)"
   ]
  },
  {
   "cell_type": "code",
   "execution_count": null,
   "id": "93dc36df-1ab5-4dc7-baa5-2bc2a37bf7da",
   "metadata": {},
   "outputs": [],
   "source": [
    "def random_table():\n",
    "    '''gibt eine zufaellige Tabelle zurueck'''\n",
    "    table = []\n",
    "    nrows = random.randint(3, 10)\n",
    "    ncols = random.randint(1, 5)\n",
    "    \n",
    "    ...\n",
    "        \n",
    "    return table    "
   ]
  },
  {
   "cell_type": "code",
   "execution_count": null,
   "id": "4e18b6bc-3126-4b1d-a49a-4fdade34ec9b",
   "metadata": {},
   "outputs": [],
   "source": [
    "def get_col_widths(table, header):\n",
    "    '''table: Liste von Listen\n",
    "       Header: Liste (Kopfzeile)\n",
    "       returns: Liste mit den maximalen Spaltenbreiten \n",
    "    '''\n",
    "    maxcolwidths = [] \n",
    "    for col in header:\n",
    "        n = len(col) \n",
    "        maxcolwidths.append(n)\n",
    "    \n",
    "    ...\n",
    "    \n",
    "    return maxcolwidths    "
   ]
  }
 ],
 "metadata": {
  "kernelspec": {
   "display_name": "Python 3 (ipykernel)",
   "language": "python",
   "name": "python3"
  },
  "language_info": {
   "codemirror_mode": {
    "name": "ipython",
    "version": 3
   },
   "file_extension": ".py",
   "mimetype": "text/x-python",
   "name": "python",
   "nbconvert_exporter": "python",
   "pygments_lexer": "ipython3",
   "version": "3.8.10"
  }
 },
 "nbformat": 4,
 "nbformat_minor": 5
}
