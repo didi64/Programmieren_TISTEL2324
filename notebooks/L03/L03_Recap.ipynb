{
 "cells": [
  {
   "cell_type": "markdown",
   "id": "680600ec-e202-4c55-b8e4-c99c0ab2195e",
   "metadata": {},
   "source": [
    "### Recap \n",
    "- Arbeiten mit Jupyterlab: Files und Ordner erstellen, Files in Zelle lesen und schreiben,\n",
    "  Codebl&ouml;cke einr&uuml;cken und kommentieren/auskommentieren mit `shift-\\`  \n",
    "  Hilfstext zu Methoden anzeigen,...\n",
    "- String- und Listenmethoden auf String bez. Liste anwenden, Strings mit Platzhalter  \n",
    "- Funktionsargumente aus Liste auspacken:  \n",
    "  `'Vorname: {}, Name: {}'.format(*['Hans','Muster'])`\n",
    "- Aus Codeblock in Funktion machen"
   ]
  },
  {
   "cell_type": "code",
   "execution_count": 49,
   "id": "61644bdf-db23-45b7-86f4-9349ca24fde4",
   "metadata": {},
   "outputs": [
    {
     "name": "stdout",
     "output_type": "stream",
     "text": [
      "| Vorname    | Name       |\n",
      "---------------------------\n",
      "| Max        | Muster     |\n",
      "| Betty      | Bossi      |\n"
     ]
    }
   ],
   "source": [
    "fstring = '| {:<10} | {:<10} |'\n",
    "header = ['Vorname', 'Name']\n",
    "table = [['Max', 'Muster'], \n",
    "         ['Betty', 'Bossi'],\n",
    "        ]\n",
    "\n",
    "print(fstring.format(*header))\n",
    "print('-' * 27)\n",
    "for row in table:\n",
    "    print(fstring.format(*row))"
   ]
  },
  {
   "cell_type": "code",
   "execution_count": null,
   "id": "2401ca6c-e190-4e5d-b27e-b6b5a4c94aff",
   "metadata": {},
   "outputs": [],
   "source": []
  },
  {
   "cell_type": "code",
   "execution_count": 50,
   "id": "153cfc57-e675-4009-8c86-aa95a9e50906",
   "metadata": {},
   "outputs": [
    {
     "name": "stdout",
     "output_type": "stream",
     "text": [
      "Overwriting mytable.py\n"
     ]
    }
   ],
   "source": [
    "%%file mytable.py\n",
    "emails = ['vorname.name@biz.ch', 'foo.bar@biz.ch']"
   ]
  },
  {
   "cell_type": "code",
   "execution_count": 51,
   "id": "74ee4717-d263-4867-b87c-250cf1727753",
   "metadata": {},
   "outputs": [],
   "source": [
    "# %load mytable.py\n",
    "emails = ['vorname.name@biz.ch', 'foo.bar@biz.ch']"
   ]
  },
  {
   "cell_type": "code",
   "execution_count": 52,
   "id": "279a46ba-2247-49d7-8acf-dc8dd3651d55",
   "metadata": {},
   "outputs": [
    {
     "name": "stdout",
     "output_type": "stream",
     "text": [
      "vorname.name@biz.ch\n",
      "foo.bar@biz.ch\n"
     ]
    }
   ],
   "source": [
    "for email in emails:\n",
    "    print(email)"
   ]
  },
  {
   "cell_type": "code",
   "execution_count": 53,
   "id": "6624ed02-c52a-402d-825d-cb3769a37a24",
   "metadata": {},
   "outputs": [
    {
     "name": "stdout",
     "output_type": "stream",
     "text": [
      "['vorname.name', 'biz.ch']\n",
      "['foo.bar', 'biz.ch']\n"
     ]
    }
   ],
   "source": [
    "for email in emails:\n",
    "    print(email.split('@'))"
   ]
  },
  {
   "cell_type": "code",
   "execution_count": 54,
   "id": "0c3cd4be-d0bc-408a-a929-6035a16bb524",
   "metadata": {},
   "outputs": [
    {
     "name": "stdout",
     "output_type": "stream",
     "text": [
      "Vorname\n",
      "Foo\n"
     ]
    }
   ],
   "source": [
    "for email in emails:\n",
    "    vorname = email.split('@')[0].split('.')[0].capitalize()\n",
    "    print(vorname)"
   ]
  },
  {
   "cell_type": "code",
   "execution_count": 55,
   "id": "e433f574-a060-4d7b-97c2-49e3496072ad",
   "metadata": {},
   "outputs": [
    {
     "name": "stdout",
     "output_type": "stream",
     "text": [
      "Vorname Name\n",
      "Foo Bar\n"
     ]
    }
   ],
   "source": [
    "for email in emails:\n",
    "    vorname = email.split('@')[0].split('.')[0].capitalize()\n",
    "    name = email.split('@')[0].split('.')[1].capitalize()\n",
    "    print(vorname, name)"
   ]
  },
  {
   "cell_type": "code",
   "execution_count": 56,
   "id": "67a96d4e-54dd-46ca-828e-cac385793e67",
   "metadata": {},
   "outputs": [],
   "source": [
    "# lange Zeilen kann man mit `\\` auf der naechsten Zeile fortsetzen\n",
    "# nach dem '\\' darf nichts mehr stehen, auch keine Leerzeichen!\n",
    "\n",
    "def email2name(email):\n",
    "    vorname = email.split('@')[0]\\\n",
    "                   .split('.')[0]\\\n",
    "                   .capitalize()\n",
    "    \n",
    "    name = email.split('@')[0]\\\n",
    "                .split('.')[1]\\\n",
    "                .capitalize()\n",
    "    return [vorname, name]"
   ]
  },
  {
   "cell_type": "code",
   "execution_count": 57,
   "id": "9c596ca0-eca2-4cc9-bf84-d544ee1f5d4c",
   "metadata": {},
   "outputs": [
    {
     "name": "stdout",
     "output_type": "stream",
     "text": [
      "['Vorname', 'Name']\n",
      "['Foo', 'Bar']\n"
     ]
    }
   ],
   "source": [
    "for email in emails:\n",
    "    print(email2name(email))"
   ]
  },
  {
   "cell_type": "code",
   "execution_count": 58,
   "id": "16f66462-8285-44f1-a804-61bdafd6d97f",
   "metadata": {},
   "outputs": [
    {
     "name": "stdout",
     "output_type": "stream",
     "text": [
      "Vorname, Name\n",
      "Foo, Bar\n"
     ]
    }
   ],
   "source": [
    "for email in emails:\n",
    "    lst = email2name(email)\n",
    "    print(*lst, sep=', ')"
   ]
  }
 ],
 "metadata": {
  "kernelspec": {
   "display_name": "Python 3 (ipykernel)",
   "language": "python",
   "name": "python3"
  },
  "language_info": {
   "codemirror_mode": {
    "name": "ipython",
    "version": 3
   },
   "file_extension": ".py",
   "mimetype": "text/x-python",
   "name": "python",
   "nbconvert_exporter": "python",
   "pygments_lexer": "ipython3",
   "version": "3.12.0"
  }
 },
 "nbformat": 4,
 "nbformat_minor": 5
}
