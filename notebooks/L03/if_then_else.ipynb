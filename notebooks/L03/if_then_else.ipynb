{
 "cells": [
  {
   "cell_type": "markdown",
   "id": "29838a57-3e93-4f3e-a455-3262bc99fc8b",
   "metadata": {},
   "source": [
    "### Kontrollstrukturen I\n",
    "\n",
    "Kontrollstrukturen (**Schleifen** und **bedingte Anweisung**) steuern den \n",
    "Ablauf eines Programms.\n",
    "- bedingte Anweisung: Programmteile werden nur unter bestimmten Bedingungen ausgef&uuml;hrt\n",
    "- Schleifen: Programmteile werden wiederholt ausgef&uuml;hrt"
   ]
  },
  {
   "cell_type": "markdown",
   "id": "53e9e5de-213c-4d8a-ab1e-b12d5947e9e0",
   "metadata": {},
   "source": [
    "### Der Type `bool` mit den Werten `True` und `False`\n",
    "- Nur die Objekte `True` und `False` geh&ouml;ren sind vom Typ `bool`\n",
    "(Wahrheitswerte).  \n",
    "- Jedes Objekt `obj` kann mit `bool(obj)` in einen Wahrheitswert verwandelt werden:  \n",
    "  Zu `False` wird: 0, leere Strings (`''`), leere Listen `[]`, ... \n",
    "- Vergleiche 2er Objekte mit `<`, `<=`, `==`, `!=` (ungleich), `>=`, `>` liefern ebenfalls jeweils `True` oder `False`  \n",
    "- Mit den Operatoren `in` und `not in` kann man auf Mitgliedschaft testen.\n",
    "  Die Anwort ist  ebenfalls `True` oder `False`:  \n",
    "  `'ll' in 'hello'` (`True`)    \n",
    "  `'bar' in ['foo', bar']` (`False`)  \n",
    "  `0 not in [1,2,3]` (`True`)"
   ]
  },
  {
   "cell_type": "code",
   "execution_count": 20,
   "id": "b678ed73-42f2-41c1-b495-d2d104ac8554",
   "metadata": {},
   "outputs": [
    {
     "data": {
      "text/plain": [
       "(bool, bool)"
      ]
     },
     "execution_count": 20,
     "metadata": {},
     "output_type": "execute_result"
    }
   ],
   "source": [
    "type(True), type(False)"
   ]
  },
  {
   "cell_type": "code",
   "execution_count": 23,
   "id": "fe6ccf7c-48b5-4e19-a386-56bf49b326fe",
   "metadata": {},
   "outputs": [
    {
     "data": {
      "text/plain": [
       "(False, True, True, False, False, True, False)"
      ]
     },
     "execution_count": 23,
     "metadata": {},
     "output_type": "execute_result"
    }
   ],
   "source": [
    "bool(0), bool(2), bool('0'), bool(''), bool(None), bool([None]), bool([])"
   ]
  },
  {
   "cell_type": "code",
   "execution_count": 22,
   "id": "e316b305-2a81-4e7d-b4bb-48257af3c9c5",
   "metadata": {},
   "outputs": [
    {
     "data": {
      "text/plain": [
       "(True, False, True, True)"
      ]
     },
     "execution_count": 22,
     "metadata": {},
     "output_type": "execute_result"
    }
   ],
   "source": [
    "1 == 1, 'foo' == 'bar', len('foo') == len('bar'), 2 < 3"
   ]
  },
  {
   "cell_type": "code",
   "execution_count": 24,
   "id": "bb4ef41c-02ee-4028-9b14-a2f11cbc1dfe",
   "metadata": {},
   "outputs": [
    {
     "data": {
      "text/plain": [
       "(True, True, True)"
      ]
     },
     "execution_count": 24,
     "metadata": {},
     "output_type": "execute_result"
    }
   ],
   "source": [
    "'ll' in 'hello', 'bar' in ['foo', 'bar'], 0 not in [1,2,3]"
   ]
  },
  {
   "cell_type": "markdown",
   "id": "e1fb4b1c-5dfa-4ae5-8ec6-9a7854a403c7",
   "metadata": {},
   "source": [
    "### Bedingte Anweisungen\n",
    "```python\n",
    "if  <Ausdruck>: \n",
    "    <Anweisungen>\n",
    "# optional\n",
    "elif <Ausdruck>:\n",
    "    <Anweisungen>\n",
    "# optional\n",
    "elif <Ausdruck>:\n",
    "    <Anweisungen>\n",
    "# optional\n",
    "else:\n",
    "    <Anweisungen>\n",
    "```\n",
    "Ist der Ausdruck  nach `if` (oder `elif`) wahr  (genauer: `bool(<Ausdruck>) == True`), wird der nachfolgende Codeblock ausgef&uuml;hrt. Dann wird ans Ende des ganzen `if, elif, ...,else`-Blocks gesprungen.\n",
    "Andernfalls wird zum n&auml;chsten `elif`- oder `else`-Block gesprungen. \n",
    "\n",
    "\n",
    "**H&auml;ufig verwendete Vergleichsausdr&uuml;cke**:\n",
    "- `x == y`, `x != y`, `x <= y`, `x > y`, ` a < x <= b`  \n",
    "(gleich, ungleich, kleiner gleich, gr&ouml;sser, zwischen)  \n",
    "  Bei Strings wird `s < t` als `s` ist alphabetisch vor `t` interpretiert.\n",
    "- `x` <span style=\"color:green\">is</span> `None`, `x` <span style=\"color:green\">is not</span> `None`  \n",
    "  `is` testet ob 2 Objekte identisch sind, `==` ob 2 Objekte die gleichen Werte haben.\n",
    "- `item` <span style=\"color:green\">in</span>`iterable`,  `item` <span style=\"color:green\">not in</span>  `iterable`  \n",
    "  testet Mitgliedschaft, falls iterable ein Tuple, Liste, String,... ist.\n",
    "  \n",
    "**Auf den Ausdruck nach dem `if` lassen sich die boolschen Operatoren** `not`, `and` **und** `or` **anwenden**:\n",
    "```python\n",
    "if not (x == y):\n",
    "    # x != y\n",
    "    \n",
    "if items  and (items[0] != 'foo'):\n",
    "    # items ist nicht leer und items[0] ungleich 'foo'\n",
    "\n",
    "if x  < 0  or x > 10:\n",
    "    # 0 <= x <= 10\n",
    "```    \n",
    "\n",
    "  \n",
    "**Bemerkung**: Geschachtelte ```if-else```-Anweisungsbl&ouml;cke f&uuml;hren schnell zu schwer lesbarem Code und **sollten \n",
    "  vermieden** werden. Wir werden noch alternative Methoden zur Behandlung von Fallunterscheidungen kennen lernen. "
   ]
  },
  {
   "cell_type": "markdown",
   "id": "fafd1e18-cff9-451c-b7e0-57aedb54ef82",
   "metadata": {},
   "source": [
    "***Beispiele***:"
   ]
  },
  {
   "cell_type": "code",
   "execution_count": 6,
   "id": "913f3623-cc04-405a-b8bd-6e961ecf2e5b",
   "metadata": {},
   "outputs": [
    {
     "name": "stdout",
     "output_type": "stream",
     "text": [
      "x ist groesser als y\n"
     ]
    }
   ],
   "source": [
    "# aendere die Werte von x und y und teste, ob der richtige Text ausgegeben wird\n",
    "x = 2\n",
    "y = 0\n",
    "\n",
    "if  x > y:\n",
    "    print('x ist groesser als y')   \n",
    "elif x == y:\n",
    "    print('x ist gleich y')    \n",
    "else: \n",
    "    print('y ist groesser als x')    "
   ]
  },
  {
   "cell_type": "code",
   "execution_count": 11,
   "id": "3bc4fd94-07d1-4035-9efd-bb9d7dff2c44",
   "metadata": {},
   "outputs": [
    {
     "name": "stdout",
     "output_type": "stream",
     "text": [
      "foo, bar, "
     ]
    }
   ],
   "source": [
    "words = []\n",
    "# words = ['foo', 'bar']\n",
    "\n",
    "if words: \n",
    "    # wird nur ausgefuehrt, falls die Liste words nicht leer ist\n",
    "    for word in words:\n",
    "        print(word, end = ', ')    \n",
    "else:\n",
    "    print('Liste words ist leer')"
   ]
  },
  {
   "cell_type": "code",
   "execution_count": 14,
   "id": "0d6b66be-a30c-4545-8f84-05d7bea6c392",
   "metadata": {},
   "outputs": [
    {
     "name": "stdout",
     "output_type": "stream",
     "text": [
      "Division durch 0 ist nicht definiert!\n"
     ]
    }
   ],
   "source": [
    "# Teste, ob Integer gleich 0 (Division durch 0 verursacht Fehler)\n",
    "x = 0\n",
    "# x = 2\n",
    "\n",
    "if x != 0:\n",
    "    print(1 / x)\n",
    "else:\n",
    "    print('Division durch 0 ist nicht definiert!')"
   ]
  },
  {
   "cell_type": "markdown",
   "id": "ddbbe3e4-806b-4100-852a-0062b2f037c4",
   "metadata": {},
   "source": [
    "### Aufgaben"
   ]
  },
  {
   "cell_type": "markdown",
   "id": "37211fa5-4a71-461a-b641-b103b82bc03c",
   "metadata": {},
   "source": [
    "- Programmiere die Funktion  \n",
    "\n",
    "$$\\text{sign}(x) = \\begin{cases}\n",
    "1&: \\text{falls }x>0,\\\\\n",
    "0&: \\text{falls }x=0,\\\\\n",
    "-1&:\\text{falls } x<0.\n",
    "\\end{cases}$$  \n",
    "\n",
    "- Schreibe eine Funktion [fizzbuzz(n)](https://en.wikipedia.org/wiki/Fizz_buzz)    \n",
    "  - ist `n` durch 3 teilbar und nicht durch 5, gib 'fizz' aus,\n",
    "  - ist `n` durch 5 teilbar und nicht durch 3, gib 'buzz' aus,\n",
    "  - ist `n` durch 3 und 5 teilbar, gib 'fizzbuzz' aus,\n",
    "  - ist `n` weder durch 3 noch durch 5 teilbar, gib die Zahl als String aus.  \n",
    "  - **Hints**: Ganzzahl Division und Division mit Rest\n",
    "      - `x // y` gibt `x/y` als Integer (abgerundet) zur&uuml;ck (```11 // 3 = 3```).  \n",
    "      - `x % y` gibt den ganzzahligen Rest der Division x/y zur&uuml;ck (```11 % 3 = 2```).\n",
    "      - `x // y` gibt `x/y` als Integer (abgerundet) zur&uuml;ck (```11 // 3 = 3```).  \n",
    "        Eine Zahl x ist also durch 3 teilbar, falls `x % 3 == 0`\n",
    "        \n",
    "- Teste die Funktion mit den Zahlen 1 bis 30.  \n",
    "  Benutze eine `For-Schleife`  und `range`"
   ]
  },
  {
   "cell_type": "code",
   "execution_count": null,
   "id": "3451454d-b66a-48d6-896b-3df9649b14ae",
   "metadata": {},
   "outputs": [],
   "source": [
    "def sign(n):\n",
    "    '''gibt 1 zurueck falls n >0, 0 falls n==0 und -1 falls n < 0'''\n",
    "    ..."
   ]
  },
  {
   "cell_type": "code",
   "execution_count": null,
   "id": "b1c9363f-33f5-4c7b-b761-a153e317c0cc",
   "metadata": {},
   "outputs": [],
   "source": [
    "def fizzbuzz(n):\n",
    "    '''gibt richtige Fizzbuzz Antwort'''\n",
    "    ..."
   ]
  }
 ],
 "metadata": {
  "author": "dieter.probst@gmail.com",
  "kernelspec": {
   "display_name": "Python 3 (ipykernel)",
   "language": "python",
   "name": "python3"
  },
  "language_info": {
   "codemirror_mode": {
    "name": "ipython",
    "version": 3
   },
   "file_extension": ".py",
   "mimetype": "text/x-python",
   "name": "python",
   "nbconvert_exporter": "python",
   "pygments_lexer": "ipython3",
   "version": "3.12.0"
  }
 },
 "nbformat": 4,
 "nbformat_minor": 5
}
