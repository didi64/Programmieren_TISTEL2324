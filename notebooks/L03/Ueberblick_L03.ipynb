{
 "cells": [
  {
   "cell_type": "markdown",
   "id": "357c5831-fe8e-4dba-ac9a-8a61173a09f5",
   "metadata": {},
   "source": [
    "### Lektion 3, &Uuml;berblick und weitere Ressourcen"
   ]
  },
  {
   "cell_type": "markdown",
   "id": "6eeeb147-f3f2-4dae-a99f-d1e94202b396",
   "metadata": {},
   "source": [
    "- [Multiassignment, Unpacking, W3Schools](https://www.w3schools.com/python/python_variables_multiple.asp)\n",
    "- [range, W3Schools](https://www.w3schools.com/python/ref_func_range.asp)\n",
    "- [str.join, W3Schools](https://www.w3schools.com/python/ref_string_join.asp)\n",
    "- [list.append, W3Schools](https://www.w3schools.com/python/ref_list_append.asp)\n",
    "- [list.insert, W3Schools](https://www.w3schools.com/python/ref_list_insert.asp)\n",
    "- [list.pop, W3Schools](https://www.w3schools.com/python/ref_list_pop.asp)\n",
    "- [If-elif-else, W3Schools](https://www.w3schools.com/python/gloss_python_if_statement.asp)"
   ]
  },
  {
   "cell_type": "code",
   "execution_count": null,
   "id": "0aa99b67-ccac-4441-adde-be01b52aa73a",
   "metadata": {},
   "outputs": [],
   "source": []
  }
 ],
 "metadata": {
  "kernelspec": {
   "display_name": "Python 3 (ipykernel)",
   "language": "python",
   "name": "python3"
  },
  "language_info": {
   "codemirror_mode": {
    "name": "ipython",
    "version": 3
   },
   "file_extension": ".py",
   "mimetype": "text/x-python",
   "name": "python",
   "nbconvert_exporter": "python",
   "pygments_lexer": "ipython3",
   "version": "3.12.0"
  }
 },
 "nbformat": 4,
 "nbformat_minor": 5
}
