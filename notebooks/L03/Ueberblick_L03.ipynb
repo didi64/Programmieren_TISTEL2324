{
 "cells": [
  {
   "cell_type": "markdown",
   "id": "357c5831-fe8e-4dba-ac9a-8a61173a09f5",
   "metadata": {},
   "source": [
    "### Lektion 3, &Uuml;berblick und weitere Resourcen"
   ]
  },
  {
   "cell_type": "markdown",
   "id": "6eeeb147-f3f2-4dae-a99f-d1e94202b396",
   "metadata": {},
   "source": [
    "- [Multiassignment, Unpacking, W3Schools](https://www.w3schools.com/python/python_variables_multiple.asp)\n",
    "- [range, W3Schools](https://www.w3schools.com/python/ref_func_range.asp)\n",
    "- [str.join, W3Schools](https://www.w3schools.com/python/ref_string_join.asp)\n",
    "- [list.append, W3Schools](https://www.w3schools.com/python/ref_list_append.asp)\n",
    "- [list.insert, W3Schools](https://www.w3schools.com/python/ref_list_insert.asp)\n",
    "- [list.pop, W3Schools](https://www.w3schools.com/python/ref_list_pop.asp)\n",
    "- [If-then-else, W3Schools](https://www.w3schools.com/python/gloss_python_if_statement.asp)\n",
    "\n",
    "- [Basic Types, W3Schools](https://www.w3schools.com/python/python_datatypes.asp)  \n",
    "ignoriert die Typen (`bytes`, `bytearray`, `memoryview`, `frozenset` und `complex`).\n",
    "\n"
   ]
  },
  {
   "cell_type": "code",
   "execution_count": null,
   "id": "02cd8230-2d3f-4c5a-b169-452299aa73a9",
   "metadata": {},
   "outputs": [],
   "source": [
    "Liebe Studierende,\n",
    "\n",
    "morgen findet der Unterricht via Teams statt.\n",
    "\n",
    "Wir werden weitere kleine Funktionen schreiben, mit Fokus auf String- und Listenmethoden \n",
    "sowie for-Schleifen, und dabei nun auch if-then-Statements verwenden.\n",
    "\n",
    "Dann werden wird uns die wichtigsten (Daten)-Typen \n",
    "(neben den bereits eingefuehrten Typen int, str, und list) ansehen.\n",
    "Siehe z.B. (https://www.w3schools.com/python/python_datatypes.asp),  \n",
    "ignoriert die Typen (bytes, bytearray, memoryview, frozenset und complex).\n",
    "\n",
    "Einen schoenen Sonntag und bis morgen,\n",
    "Dieter\n"
   ]
  }
 ],
 "metadata": {
  "kernelspec": {
   "display_name": "Python 3 (ipykernel)",
   "language": "python",
   "name": "python3"
  },
  "language_info": {
   "codemirror_mode": {
    "name": "ipython",
    "version": 3
   },
   "file_extension": ".py",
   "mimetype": "text/x-python",
   "name": "python",
   "nbconvert_exporter": "python",
   "pygments_lexer": "ipython3",
   "version": "3.12.0"
  }
 },
 "nbformat": 4,
 "nbformat_minor": 5
}
