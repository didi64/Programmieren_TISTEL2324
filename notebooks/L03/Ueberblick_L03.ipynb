{
 "cells": [
  {
   "cell_type": "code",
   "execution_count": null,
   "id": "446634c9-b9b7-49b2-a930-27c2da9c4e16",
   "metadata": {},
   "outputs": [],
   "source": [
    "### Lektion 3, &Uuml;berblick und weitere Resourcen"
   ]
  },
  {
   "cell_type": "code",
   "execution_count": null,
   "id": "769d739e-ac05-4e96-952f-8197e149b966",
   "metadata": {},
   "outputs": [],
   "source": [
    "Strings, Listen, formatierte Ausgabe\n",
    "- [Strings, W3Schools](https://www.w3schools.com/python/python_strings.asp)\n",
    "- [string.format, W3Schools](https://www.w3schools.com/python/ref_string_format.asp)\n",
    "- https://www.w3schools.com/python/python_lists.asp  \n",
    "\n",
    "Syntax und Semantik \n",
    "- [Syntax, W3Schools](https://www.w3schools.com/python/python_syntax.asp)\n",
    "\n",
    "Variabeln\n",
    "- [Variabeln, W3Schools](https://www.w3schools.com/python/python_variables_names.asp)\n",
    "\n",
    "Funktionen\n",
    "\n",
    "- [Funktionen, W3Schools](https://www.w3schools.com/python/python_functions.asp)"
   ]
  }
 ],
 "metadata": {
  "kernelspec": {
   "display_name": "Python 3 (ipykernel)",
   "language": "python",
   "name": "python3"
  },
  "language_info": {
   "codemirror_mode": {
    "name": "ipython",
    "version": 3
   },
   "file_extension": ".py",
   "mimetype": "text/x-python",
   "name": "python",
   "nbconvert_exporter": "python",
   "pygments_lexer": "ipython3",
   "version": "3.12.0"
  }
 },
 "nbformat": 4,
 "nbformat_minor": 5
}
