{
 "cells": [
  {
   "cell_type": "markdown",
   "id": "4bf97312-16bd-4343-a935-b6aef42901c7",
   "metadata": {},
   "source": [
    "### Objekte und Typen\n",
    "\n",
    "Siehe auch [w3schools, datatypes](https://www.w3schools.com/python/python_datatypes.asp)  \n",
    "In Python sind Integer, Strings, Listen,... **Objekte** vom Typ `int`, `str`, `list`, ...  \n",
    "Jedes Objekt `obj` hat einen Typ, der sich mit `type(obj)` ausgeben l&auml;sst.  \n",
    "Der Typ gibt an, welche Methoden sich auf ein Objekt diese Types anwenden lassen.  \n",
    "\n",
    "Mittels  \n",
    "```python\n",
    "list(obj)\n",
    "```  \n",
    "versucht der Python-Interpreter das Objekt `obj` in eine Liste zu verwandeln.\n",
    "Falls das nicht geht, wird eine Fehler erzeugt."
   ]
  },
  {
   "cell_type": "markdown",
   "id": "f27d3399-b771-46f9-aab3-8988b850987e",
   "metadata": {},
   "source": [
    "### Python's (built-in) (Daten)Typen\n",
    "In Python stehen die Typen\n",
    "**Integer** (`int`),\n",
    "**Fliesskommazahl** (`float`),\n",
    "**String** (`str`),\n",
    "**Tuple** (`tuple`),\n",
    "**Liste** (`list`),\n",
    "**None** (`None`),\n",
    "**Boolean** (`bool`),\n",
    "**Dictionary** (`dict`) und **Menge** (`set`)\n",
    "zur Verf&uuml;gung.\n",
    "- jeder Typ stellt Methoden zur Verf&uuml;gung, die auf ein Objekt dieses Typs angewandt werden k&ouml;nnen:  \n",
    "Ist `x` ein Objekt vom Typ `bar` und gibt es eine Methode\n",
    "`bar.foo`, so \n",
    "ruft `x.foo()` `bar.foo(x)` auf.\n",
    "- Ist `x` ein Objekt, so gibt `type(x)` den Typ von `x` aus  \n",
    "- Typen sind entweder **`immutable`** oder **`mutable`**, manche sind **`iterable`**:\n",
    "  - **immutable** (nicht modifizierbar): `int, float, string, bool, tupel, None`      \n",
    "  Diese Typen verhalten sich als ob ihr Wert direkt in der Variable gespeichert w&auml;re.\n",
    "  - **mutable** (modifizierbar)  `list, set, dict`\n",
    "  - Die Typen `str, tuple, list, set, dict` sind **`iterable`**.  \n",
    "  Ist `x`  iterable, kann man mit  \n",
    "  ```python\n",
    "  for item in x:\n",
    "         print(item)\n",
    "  ```       \n",
    "  &uuml;ber die Elemente von `x` iterieren.  \n",
    "- **Typenumwandlung/Cast**:  \n",
    "  Ein Objekt `x` kann unter Umst&auml;nden \n",
    "  mit `<type>(x)` in ein Objekt vom Type `<type>` umgewandelt werden."
   ]
  },
  {
   "cell_type": "code",
   "execution_count": null,
   "id": "c60e7b89-0b8f-49f8-a597-3e258e656a95",
   "metadata": {},
   "outputs": [],
   "source": []
  },
  {
   "cell_type": "markdown",
   "id": "7bc3d5c5-c501-4142-bb4e-dc057e3bc08d",
   "metadata": {},
   "source": [
    "### Integer (`int`)\n",
    "- immutable\n",
    "- Operationen: `+, -, *, /, //, %, **`\n",
    "- Auf Integer anwendbare Funktionen: `abs(x)` (Betrag von `x`, $abs(-2) = |-2| =2$)\n",
    "**Bemerkungen**:\n",
    "- `x/y` ist immer ein `float`\n",
    "- `x//y` ist immer ein `int`\n",
    "- `x/0` erzeugt einen `ZeroDivisionError`\n",
    "- Python kann mit sehr grossen Integern rechnen"
   ]
  },
  {
   "cell_type": "code",
   "execution_count": null,
   "id": "6fd86d9b-2040-492b-9abc-6d3f38c1ea18",
   "metadata": {},
   "outputs": [],
   "source": [
    "print(abs(-2))\n",
    "print(2/1, type(2/1))\n",
    "print(2**(2**10))"
   ]
  },
  {
   "cell_type": "markdown",
   "id": "ee717fbf-0e3a-4e48-823c-7bb6754b07f8",
   "metadata": {},
   "source": [
    "### Fliesskommazahlen (```float```)\n",
    "- immutable\n",
    "- Operatonen: `+, -, *, /, //, %, **`\n",
    "\n",
    "**Bemerkungen**\n",
    "- Ein `float` kann nur Zahlen in einem bestimmten Intervall mit limitierter Genauigkeit abspeichern.\n",
    "  Die Details sind abh&auml;ngig von der Architektur des Computers auf dem der Python Interpreter l&auml;uft.\n",
    "  Typischerweise stehen 64 Bits zur Verf&uuml;gung um einen `float` zu speichern.\n",
    "  Siehe z.B. <a href = 'https://en.wikipedia.org/wiki/Double-precision_floating-point_format#IEEE_754_double-precision_binary_floating-point_format:_binary64'>hier.</a>  \n",
    "  **Overflow-Effekte**\n",
    " - Fliesskommazahlen werden intern als Bin&auml;rzahlen gespeichert.  \n",
    " - So wie sich z.B. $\\frac{1}{3}$ nicht exakt als Dezimalzahl darstellen l&auml;sst, kann man z.B.\n",
    "   0.1 nicht exakt mit einer  Bin&auml;rzahlen darstellen.\n",
    " - z.B. ist `0.1 + 0.1 + 0.1 == 0.3` falsch!  (Rundungsfehler)  \n",
    "   besser: Teste ob absolute Differenz klein\n",
    "   ```python\n",
    "   abs(0.1 + 0.1 + 0.1 - 0.3) < 0.0000000001\n",
    "   ```   "
   ]
  },
  {
   "cell_type": "code",
   "execution_count": null,
   "id": "4835e4e8-e361-4066-b11e-1ae9890a9f2e",
   "metadata": {},
   "outputs": [],
   "source": [
    "0.1 + 0.1 + 0.1 == 0.3 # teste auf Gleichheit"
   ]
  },
  {
   "cell_type": "code",
   "execution_count": null,
   "id": "46d490a0-254c-49d7-b947-eb793a2013e0",
   "metadata": {},
   "outputs": [],
   "source": [
    "0.3 - (0.1 + 0.1 + 0.1)"
   ]
  },
  {
   "cell_type": "code",
   "execution_count": null,
   "id": "9cd70002-5d44-46d9-88cb-de84f15b2dcd",
   "metadata": {},
   "outputs": [],
   "source": [
    "abs(0.1 + 0.1 + 0.1 - 0.3) < 0.0000000000001"
   ]
  },
  {
   "cell_type": "markdown",
   "id": "27faee34-c90d-4dce-9ede-3a7a8b5ddaab",
   "metadata": {},
   "source": [
    "### Strings (`str`)\n",
    "- Strings sind **immutable** und **iterable**\n",
    "- Viele n&uuml;tzliche Methoden: `upper, lower, ...`"
   ]
  },
  {
   "cell_type": "code",
   "execution_count": null,
   "id": "7f37f09b-1c9e-426f-b120-07fc03020cf2",
   "metadata": {},
   "outputs": [],
   "source": [
    "# Strings sind immutable und iterable\n",
    "x = 'heLlO'\n",
    "print(x.upper())\n",
    "print(x.lower().capitalize())"
   ]
  },
  {
   "cell_type": "markdown",
   "id": "3993f72c-2c0f-41c7-9d36-e90b0fe807b4",
   "metadata": {},
   "source": [
    "### Listen (`list`)\n",
    "- Listen sind **mutable** und **iterable**\n",
    "- Listen haben viele Methoden (`append`, `extend`, `pop`, ...)"
   ]
  },
  {
   "cell_type": "code",
   "execution_count": null,
   "id": "17165599-fff1-4eb1-b072-34c60393abf4",
   "metadata": {},
   "outputs": [],
   "source": [
    "x = [1, 2, 3]\n",
    "y = x     # x und y referenzieren beide die gleiche Liste [1,2,3]\n",
    "print(x)\n",
    "print(y)\n",
    "\n",
    "x[0] = 0    # Liste wird modifiziert\n",
    "            # x und y referenzieren nach wie vor die gleiche Liste,\n",
    "            # die modifizierte Liste [1,2,3,4]\n",
    "        \n",
    "print(x)\n",
    "print(y)\n",
    "\n",
    "print(x.pop()) # letztes Element von ```x``` wird ausgegeben und \n",
    "               # aus der Liste entfernt\n",
    "    \n",
    "print(x)\n",
    "print(y)"
   ]
  },
  {
   "cell_type": "markdown",
   "id": "b00e55de-586b-4bad-95b4-cd279a35139e",
   "metadata": {},
   "source": [
    "### Tuples (`tuple`)\n",
    "- Tuples sind **immutable** und **iterable**  \n",
    "  Tuples sind Listen, die sich nicht modifizieren lassen\n",
    "- Tuple mit nur einem Element werden so kreiert:\n",
    "  - `t = ('a', )`, `t = (1, )`\n",
    "  **Achtung**: `t = ('a')` und `t = (1)`  liefert einen\n",
    "  String, bew. ein Integer"
   ]
  },
  {
   "cell_type": "code",
   "execution_count": null,
   "id": "31268681-99db-4fd0-b4d9-8376c2ac78cb",
   "metadata": {},
   "outputs": [],
   "source": [
    "name = ('Hans', 'Muster')\n",
    "print('Vornamen: ', name[0])\n",
    "print('Nachnamen: ', name[1]) \n",
    "print('tuple: ',(1, ))\n",
    "print('Integer: ', (1))"
   ]
  },
  {
   "cell_type": "code",
   "execution_count": null,
   "id": "42213399-d67f-4ee5-84ac-0da8edfc504b",
   "metadata": {},
   "outputs": [],
   "source": [
    "# liefert einen Fehler\n",
    "name[0] = 'Max'"
   ]
  },
  {
   "cell_type": "code",
   "execution_count": null,
   "id": "c85f5004-62cb-41a5-b06e-a76536251b26",
   "metadata": {},
   "outputs": [],
   "source": [
    "# Tuple der Laenge 1 erstellen\n",
    "x = ('a')\n",
    "y = ('a', )\n",
    "print(x, type(x))\n",
    "print(y, type(y))"
   ]
  },
  {
   "cell_type": "code",
   "execution_count": null,
   "id": "8386b639-fda5-4eed-9220-e22b25089112",
   "metadata": {},
   "outputs": [],
   "source": [
    "# Tuple in Liste Umwandeln\n",
    "name_als_liste = list(name)\n",
    "type(name_als_liste), name_als_liste"
   ]
  },
  {
   "cell_type": "markdown",
   "id": "350d9fde-a4b4-49ce-9626-704604fbea95",
   "metadata": {},
   "source": [
    "### None (`None`)\n",
    "- Es gibt nur ein Objekt vom Typ `None`, n&auml;mlich `None`\n",
    "- Objekte von Typ `None` sind **immutable** "
   ]
  },
  {
   "cell_type": "markdown",
   "id": "5549be5a-09b6-41a5-9ff0-79ae527fc6dd",
   "metadata": {},
   "source": [
    "<a id='booleans'></a>\n",
    "### Booleans (`bool`)\n",
    "- Booleans sind **immutable**\n",
    "- Es gibt nur 2 Objekte von Typ `bool`: `True` und `False`\n",
    "- **jedes** Objekt kann in den Typ `bool` umgewandelt werden:   \n",
    "   - `0`, `None` und Iterables ohne Elemente werden zu `False`\n",
    "   - alle anderen werden zu `True`"
   ]
  },
  {
   "cell_type": "code",
   "execution_count": null,
   "id": "6b5d315f-eef1-422a-b3fc-ff87236b0349",
   "metadata": {},
   "outputs": [],
   "source": [
    "print(bool(None), bool(''), bool(0), bool(()), bool([]))\n",
    "print(bool('0'), bool(1), bool((1,)), bool([1,2,3]))"
   ]
  },
  {
   "cell_type": "markdown",
   "id": "94a29670-8666-45b6-b042-392264949297",
   "metadata": {},
   "source": [
    "### Dictionaries (dict)\n",
    "- Dictionaires sind **mutable** und **iterable**\n",
    "- Dictionaries enthalten sog. Key-Value (Schl&uuml;ssel-Wert) Paare:  \n",
    "  `d = {0: 'Element mit key=0', 'cat': 'Katze'}`\n",
    "  jedes [**hashable**](https://docs.python.org/3/glossary.html) Objekt ist ein g&uuml;ltiger Key,\n",
    "  jedes Objekt ist ein g&uuml;ltiger Value,\n",
    "- Falls `k` ein Key des Dictionary `d` ist, liefert `d[k]` den zugeh&ouml;rigen Wert  "
   ]
  },
  {
   "cell_type": "code",
   "execution_count": null,
   "id": "053ab4d3-de7b-4c69-a3f5-629ba8eeac4f",
   "metadata": {},
   "outputs": [],
   "source": [
    "english_deutsch = {'cat': 'Katze', 'House': 'Hause'}\n",
    "english_deutsch['cat']"
   ]
  },
  {
   "cell_type": "code",
   "execution_count": null,
   "id": "99f22e10-62b6-40bd-9fd6-ec587bae6358",
   "metadata": {},
   "outputs": [],
   "source": [
    "taste_richtung = {4: 'left', 8: 'up'}\n",
    "taste_richtung[4]"
   ]
  },
  {
   "cell_type": "code",
   "execution_count": null,
   "id": "140dec17-7aba-41c6-8202-e8d2057cb168",
   "metadata": {},
   "outputs": [],
   "source": [
    "s = [1,2]\n",
    "d[s] = 0"
   ]
  },
  {
   "cell_type": "markdown",
   "id": "ff3b7168-8e3f-406d-ac87-56a29ac921fa",
   "metadata": {},
   "source": [
    "### Mengen (`set`)\n",
    "- Mengen sind **mutable** und **iterable**\n",
    "- eine Menge kann ein Element nur einmal enthalten\n",
    "- Mengen sind ungeordnet, iteriert man &uuml;ber die Elemente einer Menge, ist die\n",
    "Reihenfolge zuf&auml;llig. Mengen haben z.B. kein 0tes Element"
   ]
  },
  {
   "cell_type": "code",
   "execution_count": null,
   "id": "6b78b8bc-c7e8-45f6-9da6-7a2eefb8200f",
   "metadata": {},
   "outputs": [],
   "source": [
    "s = set((3, 1))\n",
    "print(s)\n",
    "# Element hinzufuegen\n",
    "s.add(5)\n",
    "s.add(5) # aendert nichts, Element schon in Menge\n",
    "s"
   ]
  },
  {
   "cell_type": "code",
   "execution_count": null,
   "id": "dff33e9c-2ae6-4f5c-91cc-afd94db3a538",
   "metadata": {},
   "outputs": [],
   "source": [
    "for el in s:\n",
    "    print(el, end = ', ')"
   ]
  },
  {
   "cell_type": "code",
   "execution_count": null,
   "id": "272d604d-99c0-48d5-b3f6-d6a24779f79e",
   "metadata": {},
   "outputs": [],
   "source": [
    "word = 'abakadabra'\n",
    "letters = set(word)\n",
    "letters, len(letters)"
   ]
  },
  {
   "cell_type": "markdown",
   "id": "33c17359-d56e-4981-927e-40b7249f485e",
   "metadata": {},
   "source": [
    "### Umwandeln eines Types in einen anderen (Cast)\n",
    "- `int(x)` liefert einen Integer, falls eine Conversion m&ouml;glich ist\n",
    "- `float(x)` liefert einen Float, falls m&ouml;glich\n",
    "- `str(x)` liefert einen String, falls m&ouml;glich\n",
    "- `list(x)` liefert eine Liste, falls m&ouml;glich\n",
    "- analog f&uuml;r `tuple`, `bool`, `set` und `dict`"
   ]
  },
  {
   "cell_type": "markdown",
   "id": "ef7c1c8c-9e45-4587-bfc1-1d66c9550991",
   "metadata": {},
   "source": [
    "### Aufgabe\n",
    "1) Erzeuge ein Tuple mit 2 Elementen.  \n",
    "   - Versuche das 2. Element durch ein anderes zu ersetzen. Wieso funktioniert das nicht?\n",
    "   - Erzeuge ein neues Tuple mit den gew&uuml;nschten Elementen.\n",
    "   - Verwandle das Tuple in eine Liste, und nimm nun die Ersetzung vor.\n",
    "\n",
    "2. String, Menge  \n",
    "   - Implementiere folgende Funktion. **Hint**: Verwandle den String in eine Menge und gib die L&auml;nge aus.\n",
    "\n",
    "```python\n",
    "def anzahl_verschiedener_buchstaben(word):\n",
    "    '''gibt Anzahl verschiedener Buchstaben zurueck'''\n",
    "    pass\n",
    "```\n",
    "\n",
    "3. Fallunterscheidung mit Dictionary:  \n",
    "   - Studiere die Rolle des Dictionary `cmd_action` in nachfolgendem Code.  \n",
    "   Der Spieler wird gefragt, in welche Richung er sich bewegen m&ouml;chte.  \n",
    "   Statt die Eingabe in einem  `if-elif`-Block zu analysieren, wird im \n",
    "   Dictionary `cmd_action` nachgeschlagen, welche Aktion zu t&auml;tigen ist.  \n",
    "   - Schreibe eine kurze Funktion `quit(pos)`, welche die Konstante\n",
    "   `QUIT` zur&uuml;ck gibt. Modifiziere den Dictionary und Code so, dass der Spieler das Spiel durch Eingabe von *quit* vorzeitig verlassen kann."
   ]
  },
  {
   "cell_type": "code",
   "execution_count": null,
   "id": "d5e4d8ba-20da-4354-91b7-14b86913a15e",
   "metadata": {},
   "outputs": [],
   "source": [
    "# Moegliche Aktionen: Spielerposition aendern\n",
    "\n",
    "START = (0, 0)\n",
    "ZIEL  = (1, 2)\n",
    "QUIT  = (999, 999)\n",
    "\n",
    "def move_up(pos):\n",
    "    x, y = pos\n",
    "    return (x, y + 1)\n",
    "\n",
    "def move_down(pos):\n",
    "    x, y = pos\n",
    "    return (x, y - 1)\n",
    "\n",
    "def move_left(pos):\n",
    "    x, y = pos\n",
    "    return (x - 1, y)\n",
    "\n",
    "def move_right(pos):\n",
    "    x, y = pos\n",
    "    return (x + 1, y)\n",
    "\n",
    "cmd_action = {'up'   : move_up,\n",
    "              'down' : move_down,\n",
    "              'left' : move_left,\n",
    "              'right': move_right,\n",
    "              }\n",
    "\n",
    "def move(pos):\n",
    "    '''Nimmt Befehl entgegen und handelt entsprechend'''\n",
    "    \n",
    "    msg = ('Aktuelle Position: {}\\n' +\n",
    "           \"In welche Richtung soll es gehen? ['up', 'down', 'left', 'right']\")\n",
    "    err_msg = 'Sorry, \"{}\" ist kein gültiger Befehl!'\n",
    "    \n",
    "    cmd = input(msg.format(pos))\n",
    "    if cmd not in ['up', 'down', 'left', 'right']:\n",
    "        print(err_msg.format(cmd))\n",
    "    else:    \n",
    "        pos = cmd_action[cmd](pos)\n",
    "       \n",
    "    return pos"
   ]
  },
  {
   "cell_type": "code",
   "execution_count": null,
   "id": "638cf60c-de2c-4326-b337-c6a6797389d5",
   "metadata": {},
   "outputs": [],
   "source": [
    "pos_msg = {ZIEL: 'Du bist im Ziel',\n",
    "           QUIT: 'Spiel vor erreichen des Ziels beendet',\n",
    "          }\n",
    "\n",
    "pos = START\n",
    "while pos not in (ZIEL, QUIT):\n",
    "    pos = move(pos)\n",
    "\n",
    "print(pos_msg[pos])    "
   ]
  }
 ],
 "metadata": {
  "author": "dieter.probst@gmail.com",
  "kernelspec": {
   "display_name": "Python 3 (ipykernel)",
   "language": "python",
   "name": "python3"
  },
  "language_info": {
   "codemirror_mode": {
    "name": "ipython",
    "version": 3
   },
   "file_extension": ".py",
   "mimetype": "text/x-python",
   "name": "python",
   "nbconvert_exporter": "python",
   "pygments_lexer": "ipython3",
   "version": "3.12.0"
  }
 },
 "nbformat": 4,
 "nbformat_minor": 5
}
