{
 "cells": [
  {
   "cell_type": "markdown",
   "id": "27806abd-19fb-456d-ae4a-5aebbd9fc03f",
   "metadata": {},
   "source": [
    "### Multiassignments und Packing und Unpacking\n",
    "- **Multiassignments**:  \n",
    "  Stehen  rechts vom Gleichheitszeichen gleich viele Werte wie links Variabeln, so\n",
    "werden allen Variabeln die entsprechenden Werte zugewiesen.  Dient nicht unbedingt der Lesbarkeit.\n",
    "\n",
    "```python\n",
    "x, y = 1, 2\n",
    "\n",
    "```\n",
    "\n",
    "- **Packing**:  \n",
    "Stehen rechts mehrere Werte und links nur eine Variable,\n",
    "so werden die Werte automatisch in ein Tuple gepackt.  \n",
    "Dies geschieht z.B. wenn mehrere Ausdr&uuml;cke in der letzten Zeile einer Codezelle stehen.  \n",
    "Es wird dann das entsprechende Tuple angezeigt.  \n",
    "Ich empfehel, der Lesbarkeit halber, das Tuple jeweils explizit zu erzeugen.\n",
    "\n",
    "```python\n",
    "position = 4, 4 # position = (4, 4)\n",
    "\n",
    "```\n",
    "- **Unpacking**:  \n",
    "Steht rechts ein sog. iterierbares Objekt, z.B. ein Sting oder eine Liste mit der\n",
    "passenden Anzahl Buchstaben oder Elementen, so werden dies ebenfalls den Variablen auf der linken Seite zugewiesen.  \n",
    "\n",
    "```python\n",
    "lst = ['Hans', 'Muster']\n",
    "vorname, name = lst # Anstelle von vorname = lst[0], name = lst[1]\n",
    "```\n",
    "\n",
    "- **Unpacking von Funktionsargumenten**:  \n",
    "Erwartet eine Funktionen `f` mehrere Argumente, so kann man alle in eine Liste `args` schreiben und dann die Funktion mit `f(*args)` aufrufen.  \n",
    "`*` heisst **unpacking** Operator.  \n",
    "\n",
    "```python\n",
    "'Vorname: {}, Name: {}'.format(*lst)\n",
    "\n",
    "# 'Vorname: {}, Name: {}'.format(lst[0], lst[1])\n",
    "```\n"
   ]
  },
  {
   "cell_type": "code",
   "execution_count": 2,
   "id": "8d698694-f33f-4534-9b27-f87fbc8c9112",
   "metadata": {},
   "outputs": [
    {
     "name": "stdout",
     "output_type": "stream",
     "text": [
      "x = x, y = y\n"
     ]
    }
   ],
   "source": [
    "# Multiassignment\n",
    "x, y = 'x', 'y'\n",
    "print('x = {}, y = {}'.format(x, y))"
   ]
  },
  {
   "cell_type": "markdown",
   "id": "3aeb756a-f532-4665-8a4d-3ba5f3ddd4db",
   "metadata": {},
   "source": [
    "***"
   ]
  },
  {
   "cell_type": "code",
   "execution_count": null,
   "id": "0dd4aed6-3501-433d-adc2-6bdbc71ae45c",
   "metadata": {},
   "outputs": [],
   "source": [
    "# implizit Tuple erzeugen\n",
    "p = 1, 2\n",
    "p"
   ]
  },
  {
   "cell_type": "code",
   "execution_count": null,
   "id": "2419024f-0d89-4393-9e3e-0f3e6339cd0e",
   "metadata": {},
   "outputs": [],
   "source": [
    "# Klarer: explizit ein Tuple erzeugen\n",
    "p = (1, 2)\n",
    "p"
   ]
  },
  {
   "cell_type": "code",
   "execution_count": 1,
   "id": "01f6883a-fbe8-4e15-ae95-9fcb1d8ecbbd",
   "metadata": {},
   "outputs": [
    {
     "data": {
      "text/plain": [
       "(1, 2)"
      ]
     },
     "execution_count": 1,
     "metadata": {},
     "output_type": "execute_result"
    }
   ],
   "source": [
    "# Ueblich, falls auf letzter Zeile einer Code-Zelle\n",
    "1, 2"
   ]
  },
  {
   "cell_type": "markdown",
   "id": "8097a1e4-e418-482c-a823-a8d29d84992d",
   "metadata": {},
   "source": [
    "***"
   ]
  },
  {
   "cell_type": "code",
   "execution_count": 6,
   "id": "2157da30-72fc-46ae-9e9e-d83ccae55f78",
   "metadata": {},
   "outputs": [
    {
     "name": "stdout",
     "output_type": "stream",
     "text": [
      "a = a, b = b, c = c\n",
      "item_1 = foo, item_2 = bar\n"
     ]
    }
   ],
   "source": [
    "# Zuweisung mit unpacking\n",
    "a, b, c = 'abc'\n",
    "item_1, item_2 = ['foo', 'bar']\n",
    "print('a = {}, b = {}, c = {}'.format(a, b, c))\n",
    "print('item_1 = {}, item_2 = {}'.format(item_1, item_2))"
   ]
  },
  {
   "cell_type": "code",
   "execution_count": 7,
   "id": "e615a725-87c8-45ff-9dfe-5d38af07bedd",
   "metadata": {},
   "outputs": [
    {
     "name": "stdout",
     "output_type": "stream",
     "text": [
      "1 2\n",
      "3 4\n"
     ]
    }
   ],
   "source": [
    "points = [(1, 2), (3, 4)]\n",
    "for point in points:\n",
    "    # Zuweisung mit Unpacking\n",
    "    x, y = point\n",
    "    print(x, y)"
   ]
  },
  {
   "cell_type": "code",
   "execution_count": 12,
   "id": "a2eed76a-7af4-4f45-a972-4a8045ca27cf",
   "metadata": {},
   "outputs": [
    {
     "name": "stdout",
     "output_type": "stream",
     "text": [
      "x = 1, y = 2\n",
      "x = 3, y = 4\n"
     ]
    }
   ],
   "source": [
    "# Unpacking von Funktionsargumenten mit *\n",
    "points = [(1, 2), (3, 4)]\n",
    "for point in points:\n",
    "    # mit *-Operator auspacken\n",
    "    print('x = {}, y = {}'.format(*point))"
   ]
  },
  {
   "cell_type": "code",
   "execution_count": null,
   "id": "2477db80-9a0b-48d8-8c03-24e2e881289c",
   "metadata": {},
   "outputs": [],
   "source": []
  }
 ],
 "metadata": {
  "kernelspec": {
   "display_name": "Python 3 (ipykernel)",
   "language": "python",
   "name": "python3"
  },
  "language_info": {
   "codemirror_mode": {
    "name": "ipython",
    "version": 3
   },
   "file_extension": ".py",
   "mimetype": "text/x-python",
   "name": "python",
   "nbconvert_exporter": "python",
   "pygments_lexer": "ipython3",
   "version": "3.12.0"
  }
 },
 "nbformat": 4,
 "nbformat_minor": 5
}
