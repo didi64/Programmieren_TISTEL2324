{
 "cells": [
  {
   "cell_type": "markdown",
   "id": "0f7a6167-b5da-4143-9160-89904707412b",
   "metadata": {},
   "source": [
    "### Warm-Up\n",
    "\n",
    "Sind `x` und `y` Listen oder Strings, so kann man mit \n",
    "- `x + y` diese aneinanderh&auml;ngen,\n",
    "- `len(x)` die L&auml;nge von `x` erhalten,\n",
    "- mit `x[0]` das erste Element/Buchstaben herauspicken.  \n",
    "\n",
    "Ist `words` eine Liste von W&ouml;rtern, so kann man diese mit der String-Methode `str.join`\n",
    "z.B. mir `', '.join(words)` zu einem String zusammenf&uuml;gen, mit `', '` als Trennstring.\n",
    "\n",
    "\n",
    "1) Implementiere folgende Funktion `reverse_word(word)`, welche das Wort `word`\n",
    "umdreht. Benutze dabei nur Addition von Strings und den Zugriff auf einzelene Zeichen mit `word[i]`.  \n",
    "\n",
    "```python\n",
    "def reverse_word(word):\n",
    "    '''gib das Wort von hinten nach vorne zurueck'''\n",
    "    res = ''\n",
    "    ...\n",
    "    \n",
    "    return res\n",
    "```\n",
    "\n",
    "2. Implementiere nun die Funktion `reverse_word(word)`  mit den Listmethoden\n",
    "`list.insert` und der String-Methode `str.join`.  \n",
    " Und dann nur mit `list.append`,`list.pop` und der String-Methode `str.join`. \n",
    "Verwandle dabei den Eingabestring `word` zuerst in eine Liste. \n",
    "\n",
    "\n",
    "```python\n",
    "def reverse_word(word):\n",
    "    '''gib das Wort von hinten nach vorne zurueck'''\n",
    "    letters = []\n",
    "    ...\n",
    "    \n",
    "    res = ''.join(letters)\n",
    "    return res\n",
    "```\n",
    "\n",
    "3. Folgende Funktion f&uuml;gt ein Zeichen an der Position `pos` in ein Wort ein:  \n",
    "Zuerst wir der Teil vor der Einf&uuml;geposition rekonstruiert, dann das Zeichen angeh&auml;ngt, dann der Rest des Wortes.  \n",
    "&Auml;ndere die Funktion so, dass das Zeichen an der Position `pos` entfernt wird.\n",
    "\n",
    "```python\n",
    "def insert_char(word, pos, ch):\n",
    "    res = ''\n",
    "    n = len(word)\n",
    "    \n",
    "    for i in range(pos):\n",
    "        res = res + word[i]\n",
    "    \n",
    "    res += ch\n",
    "    \n",
    "    for i in range(pos, n):\n",
    "        res = res + word[i]\n",
    "        \n",
    "    return res    \n",
    "\n",
    "\n",
    "def remove_char(word, pos):\n",
    "    res = ''\n",
    "    n = len(word)\n",
    "    ...\n",
    "    return res\n",
    "```"
   ]
  },
  {
   "cell_type": "code",
   "execution_count": null,
   "id": "3caea173-78c4-46fb-9881-49ed6453ae08",
   "metadata": {},
   "outputs": [],
   "source": []
  },
  {
   "cell_type": "code",
   "execution_count": 31,
   "id": "68f97fa4-1d33-4e2e-92a1-af1481da1b4e",
   "metadata": {},
   "outputs": [
    {
     "data": {
      "text/plain": [
       "('foo, bar', 'o', 'foobar', 'foo')"
      ]
     },
     "execution_count": 31,
     "metadata": {},
     "output_type": "execute_result"
    }
   ],
   "source": [
    "', '.join(['foo', 'bar']), 'foo'[1], 'foo' + 'bar', ['foo', 'bar'][0]"
   ]
  }
 ],
 "metadata": {
  "kernelspec": {
   "display_name": "Python 3 (ipykernel)",
   "language": "python",
   "name": "python3"
  },
  "language_info": {
   "codemirror_mode": {
    "name": "ipython",
    "version": 3
   },
   "file_extension": ".py",
   "mimetype": "text/x-python",
   "name": "python",
   "nbconvert_exporter": "python",
   "pygments_lexer": "ipython3",
   "version": "3.12.0"
  }
 },
 "nbformat": 4,
 "nbformat_minor": 5
}
