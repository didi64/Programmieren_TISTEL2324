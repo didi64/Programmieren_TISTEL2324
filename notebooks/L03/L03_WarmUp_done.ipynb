{
 "cells": [
  {
   "cell_type": "markdown",
   "id": "0f7a6167-b5da-4143-9160-89904707412b",
   "metadata": {},
   "source": [
    "### Warm-Up\n",
    "\n",
    "Sind `x` und `y` Listen oder Strings, so kann man mit \n",
    "- `x + y` diese aneinanderh&auml;ngen,\n",
    "- `len(x)` die L&auml;nge von `x` erhalten,\n",
    "- mit `x[0]` das erste Element/Buchstaben herauspicken.  \n",
    "\n",
    "Ist `words` eine Liste von W&ouml;rtern, so kann man diese mit der String-Methode `str.join`\n",
    "z.B. mir `', '.join(words)` zu einem String zusammenf&uuml;gen, mit `', '` als Trennstring.\n",
    "\n",
    "\n",
    "1) Implementiere folgende Funktion `reverse_word(word)`, welche das Wort `word`\n",
    "umdreht. Benutze dabei nur Addition von Strings und den Zugriff auf einzelene Zeichen mit `word[i]`.  \n",
    "\n",
    "```python\n",
    "def reverse_word(word):\n",
    "    '''gib das Wort von hinten nach vorne zurueck'''\n",
    "    res = ''\n",
    "    ...\n",
    "    \n",
    "    return res\n",
    "```\n",
    "\n",
    "2. Implementiere nun die Funktion `reverse_word(word)`  mit den Listmethoden\n",
    "`list.insert` und der String-Methode `str.join`.  \n",
    " Und dann nur mit `list.append`,`list.pop` und der String-Methode `str.join`. \n",
    "Verwandle dabei den Eingabestring `word` zuerst in eine Liste. \n",
    "\n",
    "\n",
    "```python\n",
    "def reverse_word(word):\n",
    "    '''gib das Wort von hinten nach vorne zurueck'''\n",
    "    letters = []\n",
    "    ...\n",
    "    \n",
    "    res = ''.join(letters)\n",
    "    return res\n",
    "```\n",
    "\n",
    "3. Folgende Funktion f&uuml;gt ein Zeichen an der Position `pos` in ein Wort ein:  \n",
    "Zuerst wir der Teil vor der Einf&uuml;geposition rekonstruiert, dann das Zeichen angeh&auml;ngt, dann der Rest des Wortes.  \n",
    "&Auml;ndere die Funktion so, dass das Zeichen an der Position `pos` entfernt wird.\n",
    "\n",
    "```python\n",
    "def insert_char(word, pos, ch):\n",
    "    res = ''\n",
    "    n = len(word)\n",
    "    \n",
    "    for i in range(pos):\n",
    "        res = res + word[i]\n",
    "    \n",
    "    res += ch\n",
    "    \n",
    "    for i in range(pos, n):\n",
    "        res = res + word[i]\n",
    "        \n",
    "    return res    \n",
    "\n",
    "\n",
    "def remove_char(word, pos):\n",
    "    res = ''\n",
    "    n = len(word)\n",
    "    ...\n",
    "    return res\n",
    "```"
   ]
  },
  {
   "cell_type": "code",
   "execution_count": null,
   "id": "3caea173-78c4-46fb-9881-49ed6453ae08",
   "metadata": {},
   "outputs": [],
   "source": []
  },
  {
   "cell_type": "code",
   "execution_count": 31,
   "id": "68f97fa4-1d33-4e2e-92a1-af1481da1b4e",
   "metadata": {},
   "outputs": [
    {
     "data": {
      "text/plain": [
       "('foo, bar', 'o', 'foobar', 'foo')"
      ]
     },
     "execution_count": 31,
     "metadata": {},
     "output_type": "execute_result"
    }
   ],
   "source": [
    "', '.join(['foo', 'bar']), 'foo'[1], 'foo' + 'bar', ['foo', 'bar'][0]"
   ]
  },
  {
   "cell_type": "code",
   "execution_count": 38,
   "id": "a08cc92b-9906-47d9-8ce0-9423e070f5d8",
   "metadata": {},
   "outputs": [],
   "source": [
    "word = 'abc'\n",
    "res = ''"
   ]
  },
  {
   "cell_type": "code",
   "execution_count": 39,
   "id": "eabee213-5e15-464c-848c-96c58bd29372",
   "metadata": {},
   "outputs": [
    {
     "data": {
      "text/plain": [
       "'a'"
      ]
     },
     "execution_count": 39,
     "metadata": {},
     "output_type": "execute_result"
    }
   ],
   "source": [
    "res = word[0] + res\n",
    "res"
   ]
  },
  {
   "cell_type": "code",
   "execution_count": 40,
   "id": "94fcea5a-116f-4786-a946-66ef3dfa4a71",
   "metadata": {},
   "outputs": [
    {
     "data": {
      "text/plain": [
       "'ba'"
      ]
     },
     "execution_count": 40,
     "metadata": {},
     "output_type": "execute_result"
    }
   ],
   "source": [
    "res = word[1] + res\n",
    "res"
   ]
  },
  {
   "cell_type": "code",
   "execution_count": 41,
   "id": "d9989ec9-2047-4b3e-8082-855eac4c8b7d",
   "metadata": {},
   "outputs": [
    {
     "data": {
      "text/plain": [
       "'cba'"
      ]
     },
     "execution_count": 41,
     "metadata": {},
     "output_type": "execute_result"
    }
   ],
   "source": [
    "res = word[2] + res\n",
    "res"
   ]
  },
  {
   "cell_type": "code",
   "execution_count": 1,
   "id": "62a990a7-5196-4aa6-b8f1-2c979b07fe6a",
   "metadata": {},
   "outputs": [],
   "source": [
    "def reverse_word(word):\n",
    "    '''gib das Wort von hinten nach vorne zurueck'''\n",
    "    res = ''\n",
    "    n = len(word)\n",
    "    for i in range(n):\n",
    "        res = word[i] + res\n",
    "    return res"
   ]
  },
  {
   "cell_type": "code",
   "execution_count": 2,
   "id": "8014d3d4-2dde-4b94-bcf5-38d03aa7bd63",
   "metadata": {},
   "outputs": [
    {
     "data": {
      "text/plain": [
       "'edcba'"
      ]
     },
     "execution_count": 2,
     "metadata": {},
     "output_type": "execute_result"
    }
   ],
   "source": [
    "reverse_word('abcde')"
   ]
  },
  {
   "cell_type": "code",
   "execution_count": 4,
   "id": "5d46c5b3-57df-4630-aef1-bf64d56cad3e",
   "metadata": {},
   "outputs": [],
   "source": [
    "word = 'abc'\n",
    "res = ''"
   ]
  },
  {
   "cell_type": "code",
   "execution_count": 5,
   "id": "e3a63104-10bb-40d0-9e22-4825fd4b9b6d",
   "metadata": {},
   "outputs": [
    {
     "data": {
      "text/plain": [
       "'c'"
      ]
     },
     "execution_count": 5,
     "metadata": {},
     "output_type": "execute_result"
    }
   ],
   "source": [
    "res = res + word[2]\n",
    "res"
   ]
  },
  {
   "cell_type": "code",
   "execution_count": 6,
   "id": "d6cdc2bc-3ad2-4eba-b423-5f0bc03ab076",
   "metadata": {},
   "outputs": [
    {
     "data": {
      "text/plain": [
       "'cb'"
      ]
     },
     "execution_count": 6,
     "metadata": {},
     "output_type": "execute_result"
    }
   ],
   "source": [
    "res = res + word[1]\n",
    "res"
   ]
  },
  {
   "cell_type": "code",
   "execution_count": 7,
   "id": "99b2e91a-2abe-4251-be50-cae8a5f55064",
   "metadata": {},
   "outputs": [
    {
     "data": {
      "text/plain": [
       "'cba'"
      ]
     },
     "execution_count": 7,
     "metadata": {},
     "output_type": "execute_result"
    }
   ],
   "source": [
    "res = res + word[0]\n",
    "res"
   ]
  },
  {
   "cell_type": "code",
   "execution_count": 20,
   "id": "1fa04aa9-dffa-4dd9-a197-e476ec540d9d",
   "metadata": {},
   "outputs": [],
   "source": [
    "def reverse_word(word):\n",
    "    res = ''\n",
    "    n = len(word)\n",
    "    for i in range(n):\n",
    "        res = res + word[n-1-i]\n",
    "    return res"
   ]
  },
  {
   "cell_type": "code",
   "execution_count": 50,
   "id": "89dbe97f-4b5e-4dfe-82df-f885eb1f99d5",
   "metadata": {},
   "outputs": [],
   "source": [
    "def reverse_word(word):\n",
    "    res = ''\n",
    "    n = len(word)\n",
    "    for i in range(n-1, -1, -1):\n",
    "        res = res + word[i]\n",
    "    return res"
   ]
  },
  {
   "cell_type": "code",
   "execution_count": null,
   "id": "2ab33365-1685-499b-af7b-9eaa2392964a",
   "metadata": {},
   "outputs": [],
   "source": []
  },
  {
   "cell_type": "code",
   "execution_count": 51,
   "id": "67a11afa-3f37-473f-ba4f-2c5d43be4bae",
   "metadata": {},
   "outputs": [
    {
     "data": {
      "text/plain": [
       "'edcba'"
      ]
     },
     "execution_count": 51,
     "metadata": {},
     "output_type": "execute_result"
    }
   ],
   "source": [
    "reverse_word('abcde')"
   ]
  },
  {
   "cell_type": "code",
   "execution_count": null,
   "id": "4ca9485e-a6b2-4652-8b3b-1908d5fb5a82",
   "metadata": {},
   "outputs": [],
   "source": [
    "# Listenmethoden"
   ]
  },
  {
   "cell_type": "code",
   "execution_count": 33,
   "id": "47873bb4-abb2-47c0-96d6-1dd25c195edf",
   "metadata": {},
   "outputs": [],
   "source": [
    "word = 'abc'\n",
    "letters = []"
   ]
  },
  {
   "cell_type": "code",
   "execution_count": 34,
   "id": "1ac07e8d-8572-4d10-812f-a9fbca6931b6",
   "metadata": {},
   "outputs": [
    {
     "data": {
      "text/plain": [
       "['a']"
      ]
     },
     "execution_count": 34,
     "metadata": {},
     "output_type": "execute_result"
    }
   ],
   "source": [
    "letters.insert(0, word[0])\n",
    "letters"
   ]
  },
  {
   "cell_type": "code",
   "execution_count": 35,
   "id": "0b04df41-472f-4ca2-aa13-28631a0efd60",
   "metadata": {},
   "outputs": [
    {
     "data": {
      "text/plain": [
       "['b', 'a']"
      ]
     },
     "execution_count": 35,
     "metadata": {},
     "output_type": "execute_result"
    }
   ],
   "source": [
    "letters.insert(0, word[1])\n",
    "letters"
   ]
  },
  {
   "cell_type": "code",
   "execution_count": 36,
   "id": "40d7d1ea-3062-46e5-9f8a-8b3040e1db27",
   "metadata": {},
   "outputs": [
    {
     "data": {
      "text/plain": [
       "['c', 'b', 'a']"
      ]
     },
     "execution_count": 36,
     "metadata": {},
     "output_type": "execute_result"
    }
   ],
   "source": [
    "letters.insert(0, word[2])\n",
    "letters"
   ]
  },
  {
   "cell_type": "code",
   "execution_count": 37,
   "id": "48602ea2-73a3-450b-b731-ad1fe6fa836a",
   "metadata": {},
   "outputs": [
    {
     "data": {
      "text/plain": [
       "'cba'"
      ]
     },
     "execution_count": 37,
     "metadata": {},
     "output_type": "execute_result"
    }
   ],
   "source": [
    "''.join(letters)"
   ]
  },
  {
   "cell_type": "code",
   "execution_count": 52,
   "id": "27943cec-b09a-4f70-b259-8f3e8e46d624",
   "metadata": {},
   "outputs": [],
   "source": [
    "def reverse_word(word):\n",
    "    '''gib das Wort von hinten nach vorne zurueck'''\n",
    "    letters = []\n",
    "    for letter in word:\n",
    "        letters.insert(0, letter)\n",
    "    res = ''.join(letters)\n",
    "    return res    "
   ]
  },
  {
   "cell_type": "code",
   "execution_count": 53,
   "id": "09643294-e7db-4a75-9817-193abc099ab8",
   "metadata": {},
   "outputs": [
    {
     "data": {
      "text/plain": [
       "'edcba'"
      ]
     },
     "execution_count": 53,
     "metadata": {},
     "output_type": "execute_result"
    }
   ],
   "source": [
    "reverse_word('abcde')"
   ]
  },
  {
   "cell_type": "code",
   "execution_count": null,
   "id": "eba8c035-467c-4759-b34b-2932a1a3a22e",
   "metadata": {},
   "outputs": [],
   "source": []
  },
  {
   "cell_type": "code",
   "execution_count": 88,
   "id": "9fc821f2-1561-47f7-811f-c2fac5a9a02d",
   "metadata": {},
   "outputs": [],
   "source": [
    "letters_word = ['a','b','c']\n",
    "letters = []"
   ]
  },
  {
   "cell_type": "code",
   "execution_count": 91,
   "id": "90fd43a8-4651-4dc9-8f60-44405411712f",
   "metadata": {},
   "outputs": [
    {
     "data": {
      "text/plain": [
       "(['c', 'b', 'a'], [])"
      ]
     },
     "execution_count": 91,
     "metadata": {},
     "output_type": "execute_result"
    }
   ],
   "source": [
    "letter = letters_word.pop()\n",
    "letters.append(letter)\n",
    "letters, letters_word"
   ]
  },
  {
   "cell_type": "code",
   "execution_count": 64,
   "id": "ae973326-9328-42d1-b9b5-3c878f6572e3",
   "metadata": {},
   "outputs": [],
   "source": [
    "def reverse_word(word):\n",
    "    letters = []\n",
    "    letters_word = []\n",
    "    \n",
    "    for letter in word:\n",
    "        letters_word.append(letter)\n",
    "        \n",
    "    for _ in word:\n",
    "        letter = letters_word.pop()\n",
    "        letters.append(letter)\n",
    "        \n",
    "    res = ''.join(letters)\n",
    "    return res"
   ]
  },
  {
   "cell_type": "code",
   "execution_count": 65,
   "id": "4f1eb4e7-a99f-4f64-bda2-1f2562041c03",
   "metadata": {},
   "outputs": [
    {
     "data": {
      "text/plain": [
       "'edcba'"
      ]
     },
     "execution_count": 65,
     "metadata": {},
     "output_type": "execute_result"
    }
   ],
   "source": [
    "reverse_word('abcde')"
   ]
  },
  {
   "cell_type": "code",
   "execution_count": 72,
   "id": "4ccc2a48-84c1-4d5c-867c-c6b7a03c84ed",
   "metadata": {},
   "outputs": [],
   "source": [
    "# mit den Listmethode append und der Stringmethode join\n",
    "def reverse_word(word):\n",
    "    letters = []\n",
    "    letters_word = []\n",
    "    \n",
    "    for letter in word:\n",
    "        letters_word.append(letter)\n",
    "        \n",
    "    for _ in letters_word:\n",
    "        letter = letters_word.pop()\n",
    "        letters.append(letter)\n",
    "        \n",
    "    res = ''.join(letters)\n",
    "    return res"
   ]
  },
  {
   "cell_type": "code",
   "execution_count": 73,
   "id": "ead7d159-f8dc-4f12-b2dd-135ae672b62a",
   "metadata": {},
   "outputs": [
    {
     "data": {
      "text/plain": [
       "'edc'"
      ]
     },
     "execution_count": 73,
     "metadata": {},
     "output_type": "execute_result"
    }
   ],
   "source": [
    "reverse_str('abcde')"
   ]
  },
  {
   "cell_type": "code",
   "execution_count": null,
   "id": "683b2ec9-70dd-4048-bf1c-c35781a2354b",
   "metadata": {},
   "outputs": [],
   "source": []
  },
  {
   "cell_type": "code",
   "execution_count": 99,
   "id": "a0fcc5ec-5fe1-4cae-994e-2f85b3032e58",
   "metadata": {},
   "outputs": [],
   "source": [
    "def insert_char(word, pos, ch):\n",
    "    res = ''\n",
    "    n = len(word)\n",
    "    \n",
    "    for i in range(pos):\n",
    "        res = res + word[i]\n",
    "    \n",
    "    res += ch\n",
    "    \n",
    "    for i in range(pos, n):\n",
    "        res = res + word[i]\n",
    "        \n",
    "    return res    "
   ]
  },
  {
   "cell_type": "code",
   "execution_count": 101,
   "id": "cb682560-06eb-4133-ad55-0d30990ba8dd",
   "metadata": {},
   "outputs": [
    {
     "name": "stdout",
     "output_type": "stream",
     "text": [
      "xabcde\n",
      "axbcde\n",
      "abxcde\n",
      "abcxde\n",
      "abcdxe\n",
      "abcdex\n"
     ]
    }
   ],
   "source": [
    "s = 'abcde'\n",
    "for i in range(len(s)+1):\n",
    "    print(insert_char(s, i, 'x'))"
   ]
  },
  {
   "cell_type": "code",
   "execution_count": 102,
   "id": "ea0d4a78-a75d-4826-b814-f57c8c2f5d23",
   "metadata": {},
   "outputs": [],
   "source": [
    "def remove_char(word, pos):\n",
    "    res = ''\n",
    "    n = len(word)\n",
    "    for i in range(pos):\n",
    "        res = res + word[i]\n",
    "    \n",
    "    for i in range(pos+1, n):\n",
    "        res = res + word[i]\n",
    "        \n",
    "    return res    \n",
    "    "
   ]
  },
  {
   "cell_type": "code",
   "execution_count": 103,
   "id": "9836f281-fae5-47ef-be9d-cfd025ecc306",
   "metadata": {},
   "outputs": [
    {
     "data": {
      "text/plain": [
       "'bcd'"
      ]
     },
     "execution_count": 103,
     "metadata": {},
     "output_type": "execute_result"
    }
   ],
   "source": [
    "remove('abcd', 0)"
   ]
  },
  {
   "cell_type": "code",
   "execution_count": 98,
   "id": "559136ae-83e6-41c8-b139-6785cc50d0ef",
   "metadata": {},
   "outputs": [
    {
     "name": "stdout",
     "output_type": "stream",
     "text": [
      "bcde\n",
      "acde\n",
      "abde\n",
      "abce\n",
      "abcd\n",
      "abcde\n"
     ]
    }
   ],
   "source": [
    "s = 'abcde'\n",
    "for i in range(len(s)):\n",
    "    print(remove(s, i))"
   ]
  },
  {
   "cell_type": "code",
   "execution_count": null,
   "id": "0682d1f0-8d31-402e-9236-757a8d35612b",
   "metadata": {},
   "outputs": [],
   "source": []
  }
 ],
 "metadata": {
  "kernelspec": {
   "display_name": "Python 3 (ipykernel)",
   "language": "python",
   "name": "python3"
  },
  "language_info": {
   "codemirror_mode": {
    "name": "ipython",
    "version": 3
   },
   "file_extension": ".py",
   "mimetype": "text/x-python",
   "name": "python",
   "nbconvert_exporter": "python",
   "pygments_lexer": "ipython3",
   "version": "3.12.0"
  }
 },
 "nbformat": 4,
 "nbformat_minor": 5
}
