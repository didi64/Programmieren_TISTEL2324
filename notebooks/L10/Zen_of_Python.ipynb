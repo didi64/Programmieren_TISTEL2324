{
 "cells": [
  {
   "cell_type": "markdown",
   "id": "be977881-570e-4bc7-89b9-5f999f8dd0ee",
   "metadata": {},
   "source": [
    "### The Zen of Python\n",
    "Der langjährige Pythoneer Tim Peters fasst die Leitprinzipien für das Design von Python Aphorismen zusammen, welche\n",
    "beim Import des Modules `this` ausgegeben werden.  \n",
    "\n",
    "Ein Blick auf den Source-Code des Modules `this` zeigt,\n",
    "das die Aphorismen verschl&uuml;sselt in einer Variable `s` gespeichert sind. \n",
    "Es wird ein Dicionary `d` definiert, welcher jeden Buchstaben um 13 Positionen weiter schiebt\n",
    "(rot13)."
   ]
  },
  {
   "cell_type": "code",
   "execution_count": null,
   "id": "64b235c0-001a-4c17-bfda-a0890c248d25",
   "metadata": {},
   "outputs": [],
   "source": [
    "import this"
   ]
  },
  {
   "cell_type": "code",
   "execution_count": 8,
   "id": "762809aa-10ed-4c8e-bf12-b28e1d63de59",
   "metadata": {},
   "outputs": [],
   "source": [
    "# wirf einen Blick auf this.d und this.s\n",
    "# this.d\n",
    "# this.s"
   ]
  },
  {
   "cell_type": "code",
   "execution_count": 43,
   "id": "38f79742-116b-4830-bd32-832eac2c2ce2",
   "metadata": {},
   "outputs": [],
   "source": [
    "def rot13(text):\n",
    "    '''verwenden den Dictionary this.d um text zu ver- bez. entschluesseln:\n",
    "       Ist ein Zeichen ch ein Schluessel von this.d, so wird er durch den\n",
    "       zugehoerigen Wert this.d[ch] ersetzt, anderfalls beigehalten.\n",
    "       \n",
    "       siehe: Hilfstext zu dict.get\n",
    "    '''\n",
    "    cypher_text = text # verschluessele den Text!\n",
    "    return cypher_text"
   ]
  },
  {
   "cell_type": "code",
   "execution_count": 41,
   "id": "fb6102c1-91e5-4723-9596-c04d0493ad7f",
   "metadata": {
    "jupyter": {
     "source_hidden": true
    },
    "tags": []
   },
   "outputs": [],
   "source": [
    "def rot13(text):\n",
    "    '''verwenden den Dictionary this.d um text zu ver- bez. entschluesseln:\n",
    "       Ist ein Zeichen ch ein Schluessel von this.d, so wird er durch den\n",
    "       zugehoerigen Wert this.d[ch] ersetzt, anderfalls beigehalten.\n",
    "       \n",
    "       siehe: Hilfstext zu dict.get\n",
    "    '''\n",
    "    d = this.d\n",
    "    cypher_text = ''.join([d.get(c, c) for c in text])\n",
    "    return cypher_text"
   ]
  },
  {
   "cell_type": "code",
   "execution_count": null,
   "id": "e8245aa4-19b1-459f-a25a-c5c1a5a49b8e",
   "metadata": {},
   "outputs": [],
   "source": [
    "# this.s entschluesselt\n",
    "print(rot13(this.s))"
   ]
  },
  {
   "cell_type": "markdown",
   "id": "94f69747-c68e-4835-b6f1-303fac9a590b",
   "metadata": {},
   "source": [
    "***\n",
    "**Source** des Moduls `this` mit `%load $this.__file__` in Zelle laden.  \n",
    "(Nach dem Import des Moduls `this` enth&auml;lt die Variable `this.__file__` den vollen FIlenamen des Moduls `this.py`).  \n",
    "\n",
    "Wie wird der Dictionary `d` erstellt?\n",
    "***"
   ]
  },
  {
   "cell_type": "code",
   "execution_count": 48,
   "id": "8555d3c7-ca6d-4e8f-b692-eb291d927fbd",
   "metadata": {},
   "outputs": [
    {
     "data": {
      "text/plain": [
       "'/usr/lib/python3.12/this.py'"
      ]
     },
     "execution_count": 48,
     "metadata": {},
     "output_type": "execute_result"
    }
   ],
   "source": [
    "this.__file__"
   ]
  },
  {
   "cell_type": "code",
   "execution_count": 46,
   "id": "74298feb-fdb6-4f12-aabe-d905b34a2c9b",
   "metadata": {},
   "outputs": [],
   "source": [
    "%load $this.__file__"
   ]
  }
 ],
 "metadata": {
  "kernelspec": {
   "display_name": "Python 3 (ipykernel)",
   "language": "python",
   "name": "python3"
  },
  "language_info": {
   "codemirror_mode": {
    "name": "ipython",
    "version": 3
   },
   "file_extension": ".py",
   "mimetype": "text/x-python",
   "name": "python",
   "nbconvert_exporter": "python",
   "pygments_lexer": "ipython3",
   "version": "3.12.0"
  }
 },
 "nbformat": 4,
 "nbformat_minor": 5
}
