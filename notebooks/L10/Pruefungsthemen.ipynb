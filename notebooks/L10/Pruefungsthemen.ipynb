{
 "cells": [
  {
   "cell_type": "markdown",
   "id": "857e4dba-f1fd-4a09-9201-b15ab0a22c01",
   "metadata": {},
   "source": [
    "### Pr&uuml;fungsthemen\n",
    "1. **Funktionen**:  \n",
    "\n",
    "```python  \n",
    "# normal\n",
    "def f(x):\n",
    "    ...\n",
    "\n",
    "#mit Default Argumenten\n",
    "def f(x, y = 5):\n",
    "    ...\n",
    "```        \n",
    "\n",
    "2. **Basic Types**: `int`, `float`, `str`, `list`, `tuple`, `dict`, `set`  \n",
    "   Methoden/Operationen\n",
    "   - `int`: `+`,`-`,`*`,`**`,`/`,`//`,`%`, `+=`, `*=`, ..., `abs`\n",
    "   - `float`: `+`,`-`,`*`,`**`,`/`,`round`\n",
    "   -  `str`: `+`,`*`, `format`, `join`, `find`, `index`, `strip`, `ljust`, `upper`, `lower`,   \n",
    "       Platzhalterstrings (benamst und unbenamst)\n",
    "   - `list`: `append`, `pop`, `extend`, `insert`, `+`, `+=`, `sum`,\n",
    "   - `dict`: `d.items`, `d.keys`, `d.values`, `d.get`, `d.setdefault`  \n",
    "      Dict auf verschiedene Arten erstellen k&ouml;nnen  \n",
    "      Z&auml;hlen mit Dict  \n",
    "      \n",
    "      \n",
    "   **Casts** (Typenumwandlungen), (`int('10')`, `str(10)`, `list('abc')`)\n",
    "1. For-Loops, range, enumerate, zip, break, continue\n",
    "1. While-Loops\n",
    "1. if, elif, else,\n",
    "1. Vergleichsoperatoren: `==`, `<=`, `<`, ...  \n",
    "   Membershiptest Operatoren: `in`, `not in`  \n",
    "   logische Operatoren: `and`, `or`, `not`\n",
    "   \n",
    "1. Index und Slicenotation (`s[2]`, `lst[:2]`, `lst[-2:]`)\n",
    "1. Multiassignment,  \n",
    "   Packing, List- und Tuple unpacking mit `*`, Dictionary unpacking mit `**`\n",
    "1. List- und Dictionary-Comprehension (`{v:k for k,v in d.items() if type(v) == str}`)\n",
    "1. Iterables sortieren (`sorted(lst, key = lambda x:x[1], reverse=True)`)\n",
    "1. Modul importieren, Methoden eines Modules nutzen\n",
    "```python\n",
    "import random\n",
    "random.randint(1,6)\n",
    "```"
   ]
  }
 ],
 "metadata": {
  "kernelspec": {
   "display_name": "Python 3 (ipykernel)",
   "language": "python",
   "name": "python3"
  },
  "language_info": {
   "codemirror_mode": {
    "name": "ipython",
    "version": 3
   },
   "file_extension": ".py",
   "mimetype": "text/x-python",
   "name": "python",
   "nbconvert_exporter": "python",
   "pygments_lexer": "ipython3",
   "version": "3.12.0"
  }
 },
 "nbformat": 4,
 "nbformat_minor": 5
}
