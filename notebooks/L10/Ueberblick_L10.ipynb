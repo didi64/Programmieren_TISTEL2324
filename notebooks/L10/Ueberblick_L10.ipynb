{
 "cells": [
  {
   "cell_type": "markdown",
   "id": "357c5831-fe8e-4dba-ac9a-8a61173a09f5",
   "metadata": {},
   "source": [
    "### Lektion 10, &Uuml;berblick und weitere Ressourcen\n",
    "\n",
    "- Pr&uuml;fungsthemen und Repetition: Besprechung der Repetitionsaufgaben\n",
    "\n",
    "- Ein Blick auf das Module `this` (The Zen of Python).  \n",
    "  [Rot13](https://de.wikipedia.org/wiki/ROT13) Ver-/Entschl&uuml;sselung mit Dictionaries.\n",
    "\n",
    "- Einige Nachtr&auml;ge:\n",
    "  - Operatorpriorit&auml;ten  (L06)  \n",
    "    [Operatorpriorit&auml;ten, Python-Doc](https://docs.python.org/3/reference/expressions.html#operator-precedence) \n",
    "    (`5 + 5 * 5 == 30`).\n",
    "  - Files L07  \n",
    "    [programiz.com, Files](https://www.programiz.com/python-programming/file-operation)\n",
    "\n",
    "  - Scope (Namesraum, sichtbarkeit von Variablen)  \n",
    "    [Scope W3School](https://www.w3schools.com/python/python_scope.asp)\n"
   ]
  },
  {
   "cell_type": "code",
   "execution_count": null,
   "id": "96292d6a-7891-4250-b0de-ea51ed472161",
   "metadata": {},
   "outputs": [],
   "source": []
  }
 ],
 "metadata": {
  "kernelspec": {
   "display_name": "Python 3 (ipykernel)",
   "language": "python",
   "name": "python3"
  },
  "language_info": {
   "codemirror_mode": {
    "name": "ipython",
    "version": 3
   },
   "file_extension": ".py",
   "mimetype": "text/x-python",
   "name": "python",
   "nbconvert_exporter": "python",
   "pygments_lexer": "ipython3",
   "version": "3.12.0"
  }
 },
 "nbformat": 4,
 "nbformat_minor": 5
}
