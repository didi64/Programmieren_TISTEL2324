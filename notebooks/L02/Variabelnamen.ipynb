{
 "cells": [
  {
   "cell_type": "markdown",
   "id": "7cbf3f52-f247-49e8-8844-ddbfdaf91ade",
   "metadata": {},
   "source": [
    "### Variabelnamen / Bezeichner (Identifier)\n",
    "\n",
    "- g&uuml;ltige Variabelnamen enthalten folgende Zeichen:\n",
    "  - ```_``` (underscore)\n",
    "  - ```0..9```  (Ziffern)\n",
    "  - ```A..Za..z``` (Klein- und Grossbuchstaben)  \n",
    "- g&uuml;ltige Variabelnamen d&uuml;rfen **nicht  mit einer Ziffer beginnen** \n",
    "- g&uuml;ltige Variabelnamen d&uuml;rfen **keine reserviertes Wort** (keyword) sein: ```False, None, True, ..., def, for, if, then, ...``` sein.  \n",
    "In Juptyerlab werden reservierte W&ouml;rter gr&uuml;n und fett dargestellt.\n",
    "```python\n",
    "foo = 'bar'  # foo ist legaler Variabelname\n",
    "def = 'var'  # def ist kein legaler Variabelname\n",
    "if  = 0      # if ist kein legaler Variabelname\n",
    "print = 0    # print ist ein legaler Variabelname, aber\n",
    "             # durch diese Zuweisung wird die print Funktion ueberschreiben\n",
    "```\n",
    "  "
   ]
  },
  {
   "cell_type": "code",
   "execution_count": null,
   "id": "915b0138-8671-4f4c-952c-40170afe6b62",
   "metadata": {},
   "outputs": [],
   "source": [
    "#illegal\n",
    "def = 0"
   ]
  },
  {
   "cell_type": "code",
   "execution_count": null,
   "id": "01b7ef10-877d-4382-8ac5-fef736ed01de",
   "metadata": {},
   "outputs": [],
   "source": [
    "# legal aber nicht ratsam\n",
    "print_org = print\n",
    "print = 42\n",
    "print"
   ]
  },
  {
   "cell_type": "code",
   "execution_count": null,
   "id": "dbe13814-4e72-4c7b-a0b1-ca5522de894b",
   "metadata": {},
   "outputs": [],
   "source": [
    "print('test')"
   ]
  },
  {
   "cell_type": "code",
   "execution_count": null,
   "id": "1a01067b-af5d-4d12-aa2b-38739b579d5c",
   "metadata": {},
   "outputs": [],
   "source": [
    "print = print_org\n",
    "print('test')"
   ]
  },
  {
   "cell_type": "code",
   "execution_count": null,
   "id": "2c06761f-dee2-4f62-9a75-8b8e9dbfdaa5",
   "metadata": {},
   "outputs": [],
   "source": [
    "# zeigt alle reservierten Woerter an\n",
    "from IPython.display import Markdown\n",
    "from keyword import kwlist\n",
    "md = '**Liste aller reservierten W&ouml;rter**  \\n```{}```'.format(kwlist)\n",
    "Markdown(md)"
   ]
  },
  {
   "cell_type": "markdown",
   "id": "cf0910fb-e6b3-460b-bab2-ffc8f1396ff0",
   "metadata": {},
   "source": [
    "### Einige Konventionen zur Wahl von Variabelnamen  \n",
    "Siehe auch [PEP8](https://peps.python.org/pep-0008/#naming-conventions) \n",
    "(offizieller Python Styleguide)\n",
    "\n",
    "Das Einhalten von Konventionen erleichtert das Lesen von Code und hilft, **unbeabsichtigtes &Uuml;berschreiben von \n",
    "bereits definierten Variabeln** zu vermeiden.\n",
    "\n",
    "- **nicht** mit **`__`** beginnen!  \n",
    "Variabelnamen, die mit `__` beginnen, sind **f&uuml;r spezielle Zwecke reserviert**\n",
    "- nicht mit '_' beginnen, ausser man will eine Variable als **privat** markieren.\n",
    "  Dies ist nur eine Konvention, der Python-Interpreter unterscheidet nicht zw.\n",
    "  privaten und normalen Variabeln.\n",
    "- (normale) Variabeln: **beschreibend**, klein, snake_case.  \n",
    "  `books, author, is_even, ... `\n",
    "- Laufvariablen: F&uuml;r Integers: `i,j,k,n,...`, f&uuml;r Floats: `x,y,z,...`, f&uuml;r Zeichen: `ch`\n",
    "- Konstanten, d.h. Variablen, deren Wert nicht modifiziert wird: GROSS, SNAKE_CASE:  \n",
    "  `PI = 3.1415926535`, `MAX_LEN = 20`, `WINDOW_SIZE = (300, 200)`\n",
    "- Modulnamen: klein, snake_case.  \n",
    "  `turtle, some_module, ...`\n",
    "- Klassen: Gross, CamelCase.  \n",
    "  `Turtle, SyntaxError, MyClass, ...`"
   ]
  },
  {
   "cell_type": "markdown",
   "id": "782b1c54-781c-49d6-8ef0-f02e65b4f12e",
   "metadata": {},
   "source": [
    "***\n",
    "**Beispiele**\n",
    "***"
   ]
  },
  {
   "cell_type": "code",
   "execution_count": null,
   "id": "7c03e8f7-0e72-4c88-ab5a-880f5e958506",
   "metadata": {},
   "outputs": [],
   "source": [
    "#Laufvariablen\n",
    "for i in range(5):\n",
    "    print(i, end = ', ')"
   ]
  },
  {
   "cell_type": "code",
   "execution_count": null,
   "id": "e0da1b27-f322-4502-93e1-29cd097e8cb0",
   "metadata": {},
   "outputs": [],
   "source": [
    "for ch in 'abc':\n",
    "    print(ch, end = ', ')"
   ]
  },
  {
   "cell_type": "code",
   "execution_count": null,
   "id": "6942112b-0f18-445a-aa97-bb91c6e57cd5",
   "metadata": {},
   "outputs": [],
   "source": [
    "# Variabelname fuer Funktion\n",
    "def is_even(n):\n",
    "    return n % 2 == 0\n",
    "\n",
    "is_even(2)    "
   ]
  },
  {
   "cell_type": "code",
   "execution_count": null,
   "id": "321c916d-9e36-4f34-8b05-f9e36622b37f",
   "metadata": {},
   "outputs": [],
   "source": [
    "# Constants\n",
    "IDX_WIDTH = 4\n",
    "COL_WIDTH = 20\n",
    "\n",
    "# Tabelle mit Buechern\n",
    "# ein Buch ist eine Liste der Form [<Titel>, <Author>]\n",
    "\n",
    "books = [['Moby-Dick', 'Melville'],\n",
    "         ['Schuld und Sühne', 'Dostojewski'],\n",
    "        ]\n",
    "\n",
    "header = '{}{}{}'.format('NR'.ljust(IDX_WIDTH),\n",
    "                         'TITLE'.ljust(COL_WIDTH),\n",
    "                         'AUTHOR',\n",
    "                        )\n",
    "hline = (IDX_WIDTH + 2 * COL_WIDTH) * '='\n",
    "\n",
    "print(header)\n",
    "print(hline)\n",
    "\n",
    "nr = 0\n",
    "for book in books:\n",
    "    nr = nr + 1\n",
    "    nth = '{}.'.format(nr)\n",
    "    \n",
    "    # Buchliste wird \"ausgepackt\" (unpacking)\n",
    "    title, author  = book\n",
    "\n",
    "    row  = '{}{}{}'.format(nth.ljust(IDX_WIDTH), \n",
    "                           title.ljust(COL_WIDTH), \n",
    "                           author.ljust(COL_WIDTH),\n",
    "                          )\n",
    "    print(row)\n",
    "        \n",
    "       "
   ]
  },
  {
   "cell_type": "markdown",
   "id": "760bceae-5a70-4d0c-8ea8-e59b737e6c2f",
   "metadata": {},
   "source": [
    "*** "
   ]
  }
 ],
 "metadata": {
  "author": "dieter.probst@gmail.com",
  "kernelspec": {
   "display_name": "Python 3 (ipykernel)",
   "language": "python",
   "name": "python3"
  },
  "language_info": {
   "codemirror_mode": {
    "name": "ipython",
    "version": 3
   },
   "file_extension": ".py",
   "mimetype": "text/x-python",
   "name": "python",
   "nbconvert_exporter": "python",
   "pygments_lexer": "ipython3",
   "version": "3.12.0"
  }
 },
 "nbformat": 4,
 "nbformat_minor": 5
}
