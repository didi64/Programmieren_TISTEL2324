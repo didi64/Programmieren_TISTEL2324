{
 "cells": [
  {
   "cell_type": "markdown",
   "id": "4ead4eaa-316c-4733-8c0b-57e1297ad37b",
   "metadata": {},
   "source": [
    "### &Uuml;bungen zu `print`, `format`, Listen und weiteren Stringmethoden\n",
    "Kopiere das File `table.py` in diesen Ordner (`work/notebooks/L02`),\n",
    "lade es dann mit  \n",
    "\n",
    "> `%load table.py` \n",
    "\n",
    "in nachstehende Zelle und f&uuml;hre diese aus, um\n",
    "die Tabelle ist  der Variable `table` zu speichern.\n",
    "***"
   ]
  },
  {
   "cell_type": "code",
   "execution_count": null,
   "id": "99b30681-b4a4-4dd8-a525-0d904c9ddd4b",
   "metadata": {},
   "outputs": [],
   "source": []
  },
  {
   "cell_type": "markdown",
   "id": "c4f56dac-a1d7-4cc5-a1a5-e39110e07273",
   "metadata": {},
   "source": [
    "1. Ist `lst` eine Liste, so kann man mit\n",
    "   `lst[0]` auf das erste, mit `lst[1]` auf das zweite,... Element zugreifen.  \n",
    "   - Gib die erste Zeile der Tabelle `table.py` aus.\n",
    "   - Speichere die Emailadresse  der 1. Zeile in einer Variable.\n",
    "   - Finde eine String-Methode, welche einen String splittet \n",
    "     (diese Methode gibt eine Liste zur&uuml;ck).  \n",
    "     Verwende diese Methode um Vorname und Name zu isolieren\n",
    "     (splitte bei `@`, dann bei `.`).  \n",
    "    - Finde eine Stringmethode, welche den ersten Buchstaben gross macht.  \n",
    "      Speichere die gross geschriebenen Namen und Vornamen in Variablen `name` und `vorname`.\n",
    "***\n",
    "   \n",
    "      "
   ]
  },
  {
   "cell_type": "code",
   "execution_count": null,
   "id": "0d22a67d-f7de-4a8f-b366-c32079e5fe85",
   "metadata": {},
   "outputs": [],
   "source": []
  },
  {
   "cell_type": "markdown",
   "id": "f445454b-6be0-4fd7-83bb-f96dcd68073f",
   "metadata": {},
   "source": [
    "2. Vervollst&auml;ndige und teste folgende Funktion.  \n",
    "```python\n",
    "def name_from_email(email):\n",
    "    '''hans.muster@foobar.ch' -> ['Hans', 'Muster']'''\n",
    "    pass\n",
    "```\n",
    "\n",
    "Iteriere nun mit einer for-Schleife &uuml;ber die Zeilen in der Tabelle `table`,\n",
    "lies jeweils die Emailadresse und konstruiere daraus Vor- und Nachnamen. \n",
    "Gib diese Namen aus.\n",
    "***"
   ]
  },
  {
   "cell_type": "code",
   "execution_count": null,
   "id": "828fbb50-aadc-47e5-9926-debd27c4e9d4",
   "metadata": {},
   "outputs": [],
   "source": []
  },
  {
   "cell_type": "markdown",
   "id": "57292c92-9e84-478c-9cab-d96b450fa3bb",
   "metadata": {},
   "source": [
    "3. Vervollst&auml;ndige und teste folgende Funktion.\n",
    "\n",
    "```python  \n",
    "def email_from_name(vorname, name):\n",
    "    '''Hans, Muster -> hans.muster@foobar.ch'''\n",
    "    pass\n",
    "```\n",
    "Iteriere mit einer for-Schleife &uuml;ber die Zeilen in der Tabelle `table`,\n",
    "lies jeweils  Vor- und Nachnamen und konstruiere daraus die Email.\n",
    "***"
   ]
  },
  {
   "cell_type": "markdown",
   "id": "cd667927-8588-46e7-a521-78d69d1426e6",
   "metadata": {},
   "source": [
    "4. F&uuml;hre folgenden Code aus und finde heraus, was er macht.  \n",
    "\n",
    "```python\n",
    "d  = {'ä': 'ae', \n",
    "      'é': 'e', \n",
    "      'ö': 'oe',  \n",
    "      'ü': 'ue',\n",
    "     }\n",
    "tt = str.maketrans(d)\n",
    "'Mäder und Noé'.translate(tt)\n",
    "```\n",
    "\n",
    "Benutze diesen Code, um die Funktion `email_from_name` \n",
    "so zu modifizieren, dass auch die Emailadressen von David Mäder und Noé Hiltbrunner\n",
    "richtig herauskommen (ohne `ä` und `é`)."
   ]
  },
  {
   "cell_type": "code",
   "execution_count": null,
   "id": "416555bf-a088-4f1a-9970-39709636b922",
   "metadata": {},
   "outputs": [],
   "source": []
  }
 ],
 "metadata": {
  "kernelspec": {
   "display_name": "Python 3 (ipykernel)",
   "language": "python",
   "name": "python3"
  },
  "language_info": {
   "codemirror_mode": {
    "name": "ipython",
    "version": 3
   },
   "file_extension": ".py",
   "mimetype": "text/x-python",
   "name": "python",
   "nbconvert_exporter": "python",
   "pygments_lexer": "ipython3",
   "version": "3.12.0"
  }
 },
 "nbformat": 4,
 "nbformat_minor": 5
}
