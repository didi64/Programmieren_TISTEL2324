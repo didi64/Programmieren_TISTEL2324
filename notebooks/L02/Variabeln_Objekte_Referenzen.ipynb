{
 "cells": [
  {
   "cell_type": "markdown",
   "id": "381b2489-4474-4de5-b04c-78a28ab523d3",
   "metadata": {},
   "source": [
    "### Objekte und Typen\n",
    "\n",
    "In Python ist alles (Integer, String, Listen Funktionen, ...) sogenannte Objekte eines bestimmten **Typs**.\n",
    "Exemplarisch betrachten wir hier den Typ `str` (Strings).\n",
    "\n",
    "- `'foo'` ist ein Objekt von Typ `str`\n",
    "- Objekte von Typ String sind **immutable** (nicht modifizierbar).  \n",
    "  Eine Stringmethode erzeugt **immer einen neuen String** und gibt diesen zur&uuml;ck.\n",
    "- Der Typ `str` stellt Methoden zur Verf&uuml;gung, die man auf Strings anwenden kann.  \n",
    "  z.B. `str.upper('foo')`.\n",
    "  Python erlaubt, diese Methode bequemer mit der Syntax  \n",
    "  `'foo'.upper()` anzuwenden.  \n",
    "  Diese Syntax erm&ouml;glicht **Method Chaining**:  \n",
    "  `'foo'.capitalize().ljust(10)`  \n",
    "   `('foo' + 'foo'.upper()).center(15)`  \n",
    "  \n",
    "- Type `str.` und dann `tab` in einer Codezelle, um die Methoden von `str` anzuzeigen.\n",
    "<img src='/files/src/images/stringmethoden.png'>\n",
    "- Der Typ `str` erlaubt auch die Operationen  \n",
    "  `len('foo')`, `'foo'+'foo'` und `'foo' *3`, `3 * 'foo'`.  \n",
    "  Das ist bequeme Pythons-Syntax (Syntactic sugar) f&uuml;r  \n",
    "```python  \n",
    "str.__len__('foo')\n",
    "str.__add__('foo', 'foo')\n",
    "str.__mul__('foo',3)\n",
    "```\n",
    "\n",
    "- **Methodchaining**: Die Methode `str.upper` gibt ein Objekt vom Typ `str` zur&uuml;ck, auf das man ebenfalls direkt zugreifen kann, z.B. `'foo'.upper()[0]`\n"
   ]
  },
  {
   "cell_type": "code",
   "execution_count": null,
   "id": "b0a68272-a73b-4eac-8b24-e4137937b113",
   "metadata": {},
   "outputs": [],
   "source": [
    "str."
   ]
  },
  {
   "cell_type": "code",
   "execution_count": null,
   "id": "5ce27d88-38d6-44dc-9efc-b763cb7dfa1a",
   "metadata": {},
   "outputs": [],
   "source": [
    "# type(obj) liefert den Typ von obj\n",
    "type(str), type('foo')"
   ]
  },
  {
   "cell_type": "markdown",
   "id": "092211e9-966f-4ffd-865b-0e5014f994e8",
   "metadata": {},
   "source": [
    "### 25 Stringmethoden\n",
    "- W&auml;hle eine Methode und mache 2 Beispiele, die illustrieren was die Methode tut.\n",
    "- In welcher  Situation ist diese Methode n&uuml;tzlich?  \n",
    "```\n",
    "['capitalize',\n",
    "  'center',\n",
    "  'count',\n",
    "  'expandtabs',\n",
    "  'isalnum',\n",
    "  'isalpha',\n",
    "  'isdigit',\n",
    "  'isidentifier',\n",
    "  'islower',\n",
    "  'isnumeric',\n",
    "  'isprintable',\n",
    "  'isspace',\n",
    "  'isupper',\n",
    "  'ljust',\n",
    "  'lower',\n",
    "  'lstrip',\n",
    "  'removeprefix',\n",
    "  'removesuffix',\n",
    "  'replace',\n",
    "  'rstrip',\n",
    "  'split',\n",
    "  'splitlines',\n",
    "  'startswith',\n",
    "  'strip',\n",
    "  'swapcase',\n",
    "  'upper',\n",
    "  'zfill']```"
   ]
  },
  {
   "cell_type": "markdown",
   "id": "c0c6cff5-2bcc-4ae4-9043-0678274201c7",
   "metadata": {},
   "source": [
    "***"
   ]
  },
  {
   "cell_type": "markdown",
   "id": "bb89cd43-f1b5-41f3-ac5b-b47d9015b48e",
   "metadata": {},
   "source": [
    "### Variabeln speichern Referenzen auf Objekte\n",
    "In Variablen werden **ausschliesslich** Referenzen auf Objekte gespeichert.\n",
    "Sieht der Python Interpreter eine Anweisung (statement) der Form  \n",
    "\n",
    "> `x = 'Ein String'`  \n",
    "\n",
    "so kreiert er ein Objekt vom Typ `str` und legt dies an einer bestimmten Adresse im \n",
    "Speicher ab. Diese Adresse (Referenz) wird in der Variable mit Namen `x` gespeichert. \n",
    "Mit diesem Namen kann man auf das Objekt zugreifen.\n",
    "\n",
    "Nach der Anweisung \n",
    "\n",
    "> `y = x` \n",
    "\n",
    "verweisen (referenzieren) dann `x` und `y` auf das gleiche Objekt.\n",
    "\n",
    "Nach \n",
    "\n",
    "> x = 0  \n",
    "  y = 2\n",
    "  \n",
    "verweisen `x` und `y` auf die Integer `0` und `2`.  \n",
    "Das Objekt ein `'Ein String'` ist nun nicht mehr erreichbar:  \n",
    "Keine Variable speichert eine Referenz auf diese Objekt.  \n",
    "Nicht mehr erreichbare Objekte werden automatisch gel&ouml;scht (**garbage collection**).\n",
    "\n",
    "\n",
    "Die Speicheradresse von eines Objektes `obj` kann mit `id(obj)` ermittelt werden.  \n",
    "Speicheradressen werden &uuml;blicherweise als Hexadeximalzahlen angegeben.  \n",
    "Z.B. `hex(255)` git den String `'0xff'` zur&uuml;ck, die Hexadezimaldarstellung der Zahl 255.\n",
    "\n",
    "**Situation** nach\n",
    "```python\n",
    "x = 'Ein String'\n",
    "y = x\n",
    "a = [1, 2, 3]\n",
    "b = a\n",
    "```\n",
    "\n",
    "<img src='/files/src/images/variabeln_ref.png'>\n",
    "\n",
    "Die Anweisungen `a.append(4)` und `b.append(4)` haben exakt den **gleichen Effekt**.  \n",
    "Beide f&uuml;gen das Element 4 zur Liste hinzu. "
   ]
  },
  {
   "cell_type": "code",
   "execution_count": null,
   "id": "bff69e8c-9b4e-46b3-8f62-47a26a3afb8d",
   "metadata": {},
   "outputs": [],
   "source": [
    "# id(obj) gibt die Speicheradresse eines Objektes an\n",
    "# Adressen werden als hex-Zahlen angegeben,\n",
    "# hex(n) gibt die Hexadecimaldarstellung der Zahl n aus\n",
    "\n",
    "def address(obj):\n",
    "    return hex(id(obj))"
   ]
  },
  {
   "cell_type": "code",
   "execution_count": null,
   "id": "fbb0d89e-ba4b-4642-b748-39ad35f12a78",
   "metadata": {},
   "outputs": [],
   "source": [
    "# x und y verweisen auf das gleiche Objekt 'foo'\n",
    "x = 'foo'\n",
    "y = 'foo'\n",
    "x is y"
   ]
  },
  {
   "cell_type": "code",
   "execution_count": null,
   "id": "9add6d85-d5c9-46d5-8439-e6626c73ee25",
   "metadata": {},
   "outputs": [],
   "source": [
    "print('Adresse von x: {}'.format(address(x)))\n",
    "print('Adresse von y: {}'.format(address(y)))"
   ]
  },
  {
   "cell_type": "code",
   "execution_count": null,
   "id": "17669fa7-2a96-4d73-80b1-4b344642e1e1",
   "metadata": {},
   "outputs": [],
   "source": [
    "# hier werden 2 Objekte 'Wird dieser String wiederverwendet?' erstellt\n",
    "x = 'Wird dieser String wiederverwendet?'\n",
    "y = 'Wird dieser String wiederverwendet?'\n",
    "x is y"
   ]
  },
  {
   "cell_type": "markdown",
   "id": "812dd6a5-e817-43f8-b650-e63604bff547",
   "metadata": {},
   "source": [
    "**Listen**"
   ]
  },
  {
   "cell_type": "code",
   "execution_count": null,
   "id": "f1d935f7-b9ce-42d2-bdf8-520d83fc1170",
   "metadata": {},
   "outputs": [],
   "source": [
    "x = [1, 2, 3]\n",
    "y = x\n",
    "# x und y referenzieren das gleiche Objekt.\n",
    "y.append(4)\n",
    "x"
   ]
  },
  {
   "cell_type": "code",
   "execution_count": null,
   "id": "edb4a34f-399a-476e-aaa2-67d0403796c5",
   "metadata": {},
   "outputs": [],
   "source": [
    "x is y"
   ]
  },
  {
   "cell_type": "markdown",
   "id": "4ffe2883-f4a9-41d9-9db0-3651d3a73cb3",
   "metadata": {},
   "source": [
    "***"
   ]
  },
  {
   "cell_type": "markdown",
   "id": "2a471f5a-6af9-4ffb-b5b8-14e978703a1b",
   "metadata": {},
   "source": [
    "### Garbage Collection\n",
    "Wie der Code in nachfolgender Zelle funktioniert interessiert uns im Moment nicht.  \n",
    "Der Punkt ist, dass wir dann mit `MyString(<str>)` einen String erzeugen k&ouml;nnen, der uns benachrichtigt, wenn er gel&ouml;scht wird.    "
   ]
  },
  {
   "cell_type": "code",
   "execution_count": null,
   "id": "b656e9a7-8918-462f-b695-f110a2ee5b4d",
   "metadata": {},
   "outputs": [],
   "source": [
    "def address(obj):\n",
    "    return hex(id(obj))\n",
    "class MyString(str):\n",
    "    def __del__(self):\n",
    "        print('{} at {}: \"Bye, got garbage collected\"'.format(self, address(self)))"
   ]
  },
  {
   "cell_type": "code",
   "execution_count": null,
   "id": "cd2aeb6a-d051-4654-b898-1677edf1d191",
   "metadata": {},
   "outputs": [],
   "source": [
    "# erzeugt ein String-Objekt mit einer zusaetzlichen Methode\n",
    "# __del__ welche aufgerufen wird, wenn das Objekt von\n",
    "# Garbage Collector eingesammelt wird.\n",
    "x = MyString('foo')\n",
    "print('{} at {}'.format(x, address(x)))"
   ]
  },
  {
   "cell_type": "code",
   "execution_count": null,
   "id": "8c39193a-69fc-4bc9-bf53-491e7b195d5c",
   "metadata": {},
   "outputs": [],
   "source": [
    "# MyString('foo') wird unerreichbar und wird geloescht\n",
    "x = 2"
   ]
  },
  {
   "cell_type": "code",
   "execution_count": null,
   "id": "350bc5d8-77ac-40a8-804a-eedc14682814",
   "metadata": {},
   "outputs": [],
   "source": [
    "# nichts verweist auf das gerade erzeugte Objekt\n",
    "# wird ausgegeben und das garbage collected\n",
    "print(MyString('bar'))"
   ]
  },
  {
   "cell_type": "code",
   "execution_count": null,
   "id": "b3002717-b135-4a60-a6dc-b06693b7dd56",
   "metadata": {},
   "outputs": [],
   "source": [
    "# Jupyterlab speichert die Ausgabe der letzten Codezelle\n",
    "# unter anderem in der Variable '_' und an weiteren Orten\n",
    "# Deshalb wird es nicht garbage collected\n",
    "MyString('foobar')"
   ]
  },
  {
   "cell_type": "code",
   "execution_count": null,
   "id": "b60cdec3-0832-49fc-9f62-a7fdd845892c",
   "metadata": {},
   "outputs": [],
   "source": [
    "print(_)"
   ]
  }
 ],
 "metadata": {
  "author": "dieter.probst@gmail.com",
  "kernelspec": {
   "display_name": "Python 3 (ipykernel)",
   "language": "python",
   "name": "python3"
  },
  "language_info": {
   "codemirror_mode": {
    "name": "ipython",
    "version": 3
   },
   "file_extension": ".py",
   "mimetype": "text/x-python",
   "name": "python",
   "nbconvert_exporter": "python",
   "pygments_lexer": "ipython3",
   "version": "3.12.0"
  }
 },
 "nbformat": 4,
 "nbformat_minor": 5
}
