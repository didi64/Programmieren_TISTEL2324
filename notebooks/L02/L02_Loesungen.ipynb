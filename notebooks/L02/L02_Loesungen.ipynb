{
 "cells": [
  {
   "cell_type": "markdown",
   "id": "4ead4eaa-316c-4733-8c0b-57e1297ad37b",
   "metadata": {},
   "source": [
    "### &Uuml;bungen zu `print`, Listen und Stringmethden\n",
    "Kopiere das File `table.py` in diese Verzeichnis,\n",
    "lade es dann mit `%load table.py` in nachstehnde Zelle und f&uuml;hre diese aus.\n",
    "Die Tabelle ist nun in der Variable `table` gespeichert."
   ]
  },
  {
   "cell_type": "code",
   "execution_count": 2,
   "id": "bcf099b6-86e2-4c0b-824e-fed99d4c1701",
   "metadata": {},
   "outputs": [],
   "source": [
    "# %load table.py"
   ]
  },
  {
   "cell_type": "markdown",
   "id": "c4f56dac-a1d7-4cc5-a1a5-e39110e07273",
   "metadata": {},
   "source": [
    "1. Ist `lst` eine Liste, so kann man mit\n",
    "   `lst[0]` auf das erste, mit `lst[1]` auf das zweite,... Element zugreifen.  \n",
    "   - Gib die erste Zeile der Tabelle `table.py` aus.\n",
    "   - Speichere die Emailadresse  der 1. Zeile in einer Variable.\n",
    "   - Finde eine String-Methode, welche einen String splittet (\n",
    "     diese Methode gibt eine Liste zur&uuml;ck).  \n",
    "     Verwende diese Methode Vorname und Name zu isolieren\n",
    "     (splitte bei `@`, dann bei `.`).  \n",
    "    - Finde eine Stringmethode, welche den ersten Buchstaben gross macht.  \n",
    "      Speichere den gross geschriebenen Namen und Vornamen in Variablen `vorname` und `name`.\n",
    "   \n",
    "      "
   ]
  },
  {
   "cell_type": "code",
   "execution_count": 3,
   "id": "704797a6-167a-4a9f-8f14-5505723cb31a",
   "metadata": {},
   "outputs": [
    {
     "data": {
      "text/plain": [
       "['Ismael', 'Bachmann', 'ismael.bachmann@edu.teko.ch']"
      ]
     },
     "execution_count": 3,
     "metadata": {},
     "output_type": "execute_result"
    }
   ],
   "source": [
    "table[0]"
   ]
  },
  {
   "cell_type": "code",
   "execution_count": 9,
   "id": "abd31302-7cd6-4ebc-baa5-fba2400e052e",
   "metadata": {},
   "outputs": [
    {
     "data": {
      "text/plain": [
       "('Bachmann', 'Ismael')"
      ]
     },
     "execution_count": 9,
     "metadata": {},
     "output_type": "execute_result"
    }
   ],
   "source": [
    "email =table[0][2]\n",
    "name, rest = email.split('@')\n",
    "vorname, name = name.split('.')\n",
    "vorname = vorname.capitalize()\n",
    "name = name.capitalize()\n"
   ]
  },
  {
   "cell_type": "code",
   "execution_count": null,
   "id": "0d22a67d-f7de-4a8f-b366-c32079e5fe85",
   "metadata": {},
   "outputs": [],
   "source": []
  },
  {
   "cell_type": "markdown",
   "id": "f445454b-6be0-4fd7-83bb-f96dcd68073f",
   "metadata": {},
   "source": [
    "2. Vervollst&auml;ndige und teste folgende Funktion.\n",
    "```python\n",
    "def name_from_email(email):\n",
    "    '''hans.muster@foobar.ch' -> ['Hans', 'Muster']'''\n",
    "```\n",
    "\n",
    "Iterieren nun mit einer for-Schleife &uuml;ber die Zeilen in der Tabelle `table`,\n",
    "lies die Emailadresse konstruiere daraus Vor- und Nachnamen. \n",
    "Gib diese Namen aus.\n"
   ]
  },
  {
   "cell_type": "code",
   "execution_count": 11,
   "id": "d23d3b2d-8be2-45df-bbe1-401ea515a203",
   "metadata": {},
   "outputs": [],
   "source": [
    "def name_from_email(email):\n",
    "    '''hans.muster@foobar.ch' -> ['Hans', 'Muster']'''\n",
    "\n",
    "    name, rest = email.split('@')\n",
    "    vorname, name = name.split('.')\n",
    "    vorname = vorname.capitalize()\n",
    "    name = name.capitalize()\n",
    " \n",
    "    return [vorname, name]"
   ]
  },
  {
   "cell_type": "code",
   "execution_count": null,
   "id": "183e2073-2e77-4478-b3ad-6d2900bac890",
   "metadata": {},
   "outputs": [],
   "source": [
    "for row in table:\n",
    "    email = row[2]\n",
    "    vorname, name = name_from_email(email)\n",
    "    print(vorname, name)"
   ]
  },
  {
   "cell_type": "markdown",
   "id": "57292c92-9e84-478c-9cab-d96b450fa3bb",
   "metadata": {},
   "source": [
    "3. Vervollst&auml;ndige und teste folgende Funktion.\n",
    "```python\n",
    "def email_from_name(vorname, name):\n",
    "    '''Hans, Muster -> hans.muster@foobar.ch'''\n",
    "```\n",
    "Iterieren  mit einer for-Schleife &uuml;ber die Zeilen in der Tabelle `table`,\n",
    "lies  Vor- und Nachnamen und konstruiere daraus die Email."
   ]
  },
  {
   "cell_type": "code",
   "execution_count": 20,
   "id": "2ce486f0-2487-4a32-b8a7-f05ead3c2bd2",
   "metadata": {},
   "outputs": [],
   "source": [
    "def email_from_name(vorname, name):\n",
    "    '''Hans, Muster -> hans.muster@foobar.ch'''\n",
    "    email = '{}.{}@edu.teko.ch'.format(vorname.lower(), name.lower())\n",
    "    return email"
   ]
  },
  {
   "cell_type": "code",
   "execution_count": null,
   "id": "79247c92-bb40-4ff6-8c6e-72c5085c1fd1",
   "metadata": {},
   "outputs": [],
   "source": [
    "for row in table:\n",
    "    vorname, name, email = row\n",
    "    email = email_from_name(vorname, name)\n",
    "    print(email)"
   ]
  },
  {
   "cell_type": "markdown",
   "id": "cd667927-8588-46e7-a521-78d69d1426e6",
   "metadata": {},
   "source": [
    "3. F&uuml;hre folgenden Code aus und finde heraus, was er macht.  \n",
    "```python\n",
    "d  = {'ä': 'ae', \n",
    "      'é': 'e', \n",
    "      'ö': 'oe',  \n",
    "      'ü': 'ue',\n",
    "     }\n",
    "tt = str.maketrans(d)\n",
    "'Mäder und Noé'.translate(tt)\n",
    "```\n",
    "\n",
    "Benutze diesen Code, um die Funktion `email_from_name` \n",
    "so zu modifizieren, dass auch die Emailadressen von 'David Mäder' und 'Noé Hiltbrunner'\n",
    "richtig herauskommen (ohne `ä` und `é`)."
   ]
  },
  {
   "cell_type": "code",
   "execution_count": 26,
   "id": "2c383c6d-bc67-4b25-99e3-e539e5af9eac",
   "metadata": {},
   "outputs": [
    {
     "data": {
      "text/plain": [
       "'Maeder und Noe'"
      ]
     },
     "execution_count": 26,
     "metadata": {},
     "output_type": "execute_result"
    }
   ],
   "source": [
    "d  = {'ä': 'ae', \n",
    "      'é': 'e', \n",
    "      'ö': 'oe',  \n",
    "      'ü': 'ue',\n",
    "     }\n",
    "tt = str.maketrans(d)\n",
    "'Mäder und Noé'.translate(tt)"
   ]
  },
  {
   "cell_type": "code",
   "execution_count": 28,
   "id": "555add6b-a149-4a8e-8ca0-8ee9e82c375c",
   "metadata": {},
   "outputs": [],
   "source": [
    "def email_from_name(vorname, name):\n",
    "    '''Hans, Muster -> hans.muster@foobar.ch'''\n",
    "    vorname.translate(tt)\n",
    "    email = '{}.{}@edu.teko.ch'.format(vorname.lower().translate(tt), \n",
    "                                       name.lower().translate(tt))\n",
    "    return email"
   ]
  }
 ],
 "metadata": {
  "kernelspec": {
   "display_name": "Python 3 (ipykernel)",
   "language": "python",
   "name": "python3"
  },
  "language_info": {
   "codemirror_mode": {
    "name": "ipython",
    "version": 3
   },
   "file_extension": ".py",
   "mimetype": "text/x-python",
   "name": "python",
   "nbconvert_exporter": "python",
   "pygments_lexer": "ipython3",
   "version": "3.12.0"
  }
 },
 "nbformat": 4,
 "nbformat_minor": 5
}
