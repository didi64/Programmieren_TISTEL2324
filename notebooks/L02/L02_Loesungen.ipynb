{
 "cells": [
  {
   "cell_type": "markdown",
   "id": "4ead4eaa-316c-4733-8c0b-57e1297ad37b",
   "metadata": {},
   "source": [
    "### L&ouml;sungen zu L02_Exercises\n",
    "Kopiere das File `table.py` in diese Verzeichnis,\n",
    "lade es dann mit `%load table.py` in nachstehnde Zelle und f&uuml;hre diese aus.\n",
    "Die Tabelle ist nun in der Variable `table` gespeichert."
   ]
  },
  {
   "cell_type": "markdown",
   "id": "c4f56dac-a1d7-4cc5-a1a5-e39110e07273",
   "metadata": {},
   "source": [
    "1. Ist `lst` eine Liste, so kann man mit\n",
    "   `lst[0]` auf das erste, mit `lst[1]` auf das zweite,... Element zugreifen.  \n",
    "   - Gib die erste Zeile der Tabelle `table.py` aus.\n",
    "   - Speichere die Emailadresse  der 1. Zeile in einer Variable.\n",
    "   - Finde eine String-Methode, welche einen String splittet (\n",
    "     diese Methode gibt eine Liste zur&uuml;ck).  \n",
    "     Verwende diese Methode Vorname und Name zu isolieren\n",
    "     (splitte bei `@`, dann bei `.`).  \n",
    "    - Finde eine Stringmethode, welche den ersten Buchstaben gross macht.  \n",
    "      Speichere den gross geschriebenen Namen und Vornamen in Variablen `vorname` und `name`.\n",
    "   \n",
    "      "
   ]
  },
  {
   "cell_type": "code",
   "execution_count": null,
   "id": "9b50abaa-8862-47d7-860b-cf1f07f82ac3",
   "metadata": {
    "tags": []
   },
   "outputs": [],
   "source": [
    "# fuehre diesen Code aus, um die Tabelle in der Variable table zu speichern\n",
    "table = \\\n",
    "[['Ismael', 'Bachmann', 'ismael.bachmann@edu.teko.ch'],\n",
    " ['Rinor', 'Bekteshi', 'rinor.bekteshi@edu.teko.ch'],\n",
    " ['Ramesh', 'Bhatt', 'ramesh.bhatt@edu.teko.ch'],\n",
    " ['Lukas', 'Bischoff', 'lukas.bischoff@edu.teko.ch'],\n",
    " ['Davide', 'Bossi', 'davide.bossi@edu.teko.ch'],\n",
    " ['Melsigen', 'Dani', 'melsigen.dani@edu.teko.ch'],\n",
    " ['Jorin', 'Gabriel', 'jorin.gabriel@edu.teko.ch'],\n",
    " ['Lucas', 'Gamper', 'lucas.gamper@edu.teko.ch'],\n",
    " ['Noé', 'Hiltbrunner', 'noe.hiltbrunner@edu.teko.ch'],\n",
    " ['Karim', 'Khachia', 'karim.khachia@edu.teko.ch'],\n",
    " ['Fatih', 'Kozan', 'fatih.kozan@edu.teko.ch'],\n",
    " ['Fisnik', 'Kryeziu', 'fisnik.kryeziu@edu.teko.ch'],\n",
    " ['Valentin', 'Küng', 'valentin.kueng@edu.teko.ch'],\n",
    " ['David', 'Mäder', 'david.maeder@edu.teko.ch'],\n",
    " ['Dominik', 'Meier', 'dominik.meier@edu.teko.ch'],\n",
    " ['Marc', 'Mühlethaler', 'marc.muehlethaler@edu.teko.ch'],\n",
    " ['Ilir', 'Musliji', 'ilir.musliji@edu.teko.ch'],\n",
    " ['Lars', 'Omlin', 'lars.omlin@edu.teko.ch'],\n",
    " ['David', 'Poyet', 'david.poyet@edu.teko.ch'],\n",
    " ['Shannon', 'Rüedi', 'shannon.rueedi@edu.teko.ch'],\n",
    " ['Jeremias', 'Schildknecht', 'jeremias.schildknecht@edu.teko.ch'],\n",
    " ['Stephan', 'Schnee', 'stephan.schnee@edu.teko.ch'],\n",
    " ['Enrico', 'Serra', 'enrico.serra@edu.teko.ch'],\n",
    " ['Roman', 'Sieber', 'roman.sieber@edu.teko.ch'],\n",
    " ['Fiona', 'Zahner', 'fiona.zahner@edu.teko.ch']]"
   ]
  },
  {
   "cell_type": "code",
   "execution_count": null,
   "id": "858bb449-22ab-4612-ae1b-0d21f3b044b1",
   "metadata": {},
   "outputs": [],
   "source": [
    "# table"
   ]
  },
  {
   "cell_type": "code",
   "execution_count": null,
   "id": "704797a6-167a-4a9f-8f14-5505723cb31a",
   "metadata": {},
   "outputs": [],
   "source": [
    "# erste Zeile der Tabelle in Variable speichern ausgeben\n",
    "zeile_1 = table[0]\n",
    "zeile_1"
   ]
  },
  {
   "cell_type": "code",
   "execution_count": null,
   "id": "a2f6ff3e-a5ea-4cef-b0f7-9ce60b1357c7",
   "metadata": {},
   "outputs": [],
   "source": [
    "# Emailadresse herausgreifen\n",
    "email = zeile_1[2]\n",
    "email"
   ]
  },
  {
   "cell_type": "code",
   "execution_count": null,
   "id": "a554313a-d208-41a1-88ac-309a87c49951",
   "metadata": {},
   "outputs": [],
   "source": [
    "# Email beim @ trennen mit str.split, gibt Liste zurueck\n",
    "email.split('@')"
   ]
  },
  {
   "cell_type": "code",
   "execution_count": null,
   "id": "3ffde9e4-fc63-4c03-8b65-5357a27a9aa4",
   "metadata": {},
   "outputs": [],
   "source": [
    "# erstes Listenelement herausgreifen\n",
    "vorname_dot_name = email.split('@')[0]\n",
    "vorname_dot_name"
   ]
  },
  {
   "cell_type": "code",
   "execution_count": null,
   "id": "3743bab4-c571-4996-9f1a-3116ca523c8b",
   "metadata": {},
   "outputs": [],
   "source": [
    "# Vor- und Nachname trennen\n",
    "vorname_name_lst = vorname_dot_name.split('.')\n",
    "vorname = vorname_name_lst[0]\n",
    "name = vorname_name_lst[1]\n",
    "print('Vorname: {}, Name: {}'.format(name, vorname))"
   ]
  },
  {
   "cell_type": "code",
   "execution_count": null,
   "id": "d3580145-07a5-4b4c-9a92-49ec2dd36019",
   "metadata": {},
   "outputs": [],
   "source": [
    "# Name gross schreiben\n",
    "name.capitalize()"
   ]
  },
  {
   "cell_type": "code",
   "execution_count": null,
   "id": "abd31302-7cd6-4ebc-baa5-fba2400e052e",
   "metadata": {},
   "outputs": [],
   "source": [
    "# alles in einer Zelle\n",
    "\n",
    "# email herausgreifen\n",
    "email = table[0][2]\n",
    "\n",
    "# Vorname und Namen aus Email herausgreifen\n",
    "vorname_name_lst = email.split('@')[0].split('.')\n",
    "vorname = vorname_name_lst[0].capitalize()\n",
    "name = vorname_name_lst[1].capitalize()\n",
    "print('Vorname: {}, Name: {}'.format(name, vorname))"
   ]
  },
  {
   "cell_type": "markdown",
   "id": "f445454b-6be0-4fd7-83bb-f96dcd68073f",
   "metadata": {},
   "source": [
    "2. Vervollst&auml;ndige und teste folgende Funktion.\n",
    "```python\n",
    "def name_from_email(email):\n",
    "    '''hans.muster@foobar.ch' -> ['Hans', 'Muster']'''\n",
    "```\n",
    "\n",
    "Iterieren nun mit einer for-Schleife &uuml;ber die Zeilen in der Tabelle `table`,\n",
    "lies die Emailadresse konstruiere daraus Vor- und Nachnamen. \n",
    "Gib diese Namen aus.\n"
   ]
  },
  {
   "cell_type": "code",
   "execution_count": null,
   "id": "ae0cd050-0369-4c2c-9794-5eb0c4070455",
   "metadata": {},
   "outputs": [],
   "source": [
    "def name_from_email(email):\n",
    "    '''hans.muster@foobar.ch' -> ['Hans', 'Muster']'''\n",
    "    \n",
    "    vorname_name_lst = email.split('@')[0].split('.')\n",
    "    vorname = vorname_name_lst[0].capitalize()\n",
    "    name = vorname_name_lst[1].capitalize()\n",
    "    \n",
    "    return [vorname, name]"
   ]
  },
  {
   "cell_type": "code",
   "execution_count": null,
   "id": "e0121782-40b7-41d2-b605-e9250e7188b6",
   "metadata": {},
   "outputs": [],
   "source": [
    "# Funktion testen\n",
    "for row in table:\n",
    "    email = row[2]\n",
    "    vorname, name = name_from_email(email)\n",
    "    print(vorname, name)"
   ]
  },
  {
   "cell_type": "markdown",
   "id": "57292c92-9e84-478c-9cab-d96b450fa3bb",
   "metadata": {},
   "source": [
    "3. Vervollst&auml;ndige und teste folgende Funktion.\n",
    "```python\n",
    "def email_from_name(vorname, name):\n",
    "    '''Hans, Muster -> hans.muster@foobar.ch'''\n",
    "```\n",
    "Iterieren  mit einer for-Schleife &uuml;ber die Zeilen in der Tabelle `table`,\n",
    "lies  Vor- und Nachnamen und konstruiere daraus die Email."
   ]
  },
  {
   "cell_type": "code",
   "execution_count": null,
   "id": "1182fd75-3a50-4418-95c9-cb4cb30ecd85",
   "metadata": {},
   "outputs": [],
   "source": [
    "# Platzhalter {} mit Namen ersetzen\n",
    "'{}.{}@edu.teko.ch'.format('Hans', 'Muster')"
   ]
  },
  {
   "cell_type": "code",
   "execution_count": null,
   "id": "2ce486f0-2487-4a32-b8a7-f05ead3c2bd2",
   "metadata": {},
   "outputs": [],
   "source": [
    "# als Funktion\n",
    "def email_from_name(vorname, name):\n",
    "    '''Hans, Muster -> hans.muster@foobar.ch'''\n",
    "    email = '{}.{}@edu.teko.ch'.format(vorname.lower(), name.lower())\n",
    "    return email"
   ]
  },
  {
   "cell_type": "code",
   "execution_count": null,
   "id": "79247c92-bb40-4ff6-8c6e-72c5085c1fd1",
   "metadata": {},
   "outputs": [],
   "source": [
    "# Funktion testen\n",
    "for row in table:\n",
    "    vorname, name, email = row\n",
    "    email = email_from_name(vorname, name)\n",
    "    print(email)"
   ]
  },
  {
   "cell_type": "markdown",
   "id": "cd667927-8588-46e7-a521-78d69d1426e6",
   "metadata": {},
   "source": [
    "3. F&uuml;hre folgenden Code aus und finde heraus, was er macht.  \n",
    "```python\n",
    "d  = {'ä': 'ae', \n",
    "      'é': 'e', \n",
    "      'ö': 'oe',  \n",
    "      'ü': 'ue',\n",
    "     }\n",
    "tt = str.maketrans(d)\n",
    "'Mäder und Noé'.translate(tt)\n",
    "```\n",
    "\n",
    "Benutze diesen Code, um die Funktion `email_from_name` \n",
    "so zu modifizieren, dass auch die Emailadressen von 'David Mäder' und 'Noé Hiltbrunner'\n",
    "richtig herauskommen (ohne `ä` und `é`)."
   ]
  },
  {
   "cell_type": "code",
   "execution_count": null,
   "id": "2c383c6d-bc67-4b25-99e3-e539e5af9eac",
   "metadata": {},
   "outputs": [],
   "source": [
    "# Code ausfuehren\n",
    "d  = {'ä': 'ae', \n",
    "      'é': 'e', \n",
    "      'ö': 'oe',  \n",
    "      'ü': 'ue',\n",
    "     }\n",
    "tt = str.maketrans(d)\n",
    "\n",
    "# ersetzt Umlaut und e-aigui\n",
    "'Mäder und Noé'.translate(tt)"
   ]
  },
  {
   "cell_type": "code",
   "execution_count": null,
   "id": "555add6b-a149-4a8e-8ca0-8ee9e82c375c",
   "metadata": {},
   "outputs": [],
   "source": [
    "# obige Funktion entsprechend ergaenzen\n",
    "def email_from_name(vorname, name):\n",
    "    '''Hans, Muster -> hans.muster@foobar.ch'''\n",
    "    vorname.translate(tt)\n",
    "    email = '{}.{}@edu.teko.ch'.format(vorname.lower().translate(tt), \n",
    "                                       name.lower().translate(tt))\n",
    "    return email"
   ]
  },
  {
   "cell_type": "code",
   "execution_count": null,
   "id": "b7ac16d3-1019-424f-939f-0bd9e3c113a6",
   "metadata": {},
   "outputs": [],
   "source": [
    "# Funktion testen\n",
    "for row in table:\n",
    "    vorname, name, email = row\n",
    "    email = email_from_name(vorname, name)\n",
    "    print(email)"
   ]
  }
 ],
 "metadata": {
  "kernelspec": {
   "display_name": "Python 3 (ipykernel)",
   "language": "python",
   "name": "python3"
  },
  "language_info": {
   "codemirror_mode": {
    "name": "ipython",
    "version": 3
   },
   "file_extension": ".py",
   "mimetype": "text/x-python",
   "name": "python",
   "nbconvert_exporter": "python",
   "pygments_lexer": "ipython3",
   "version": "3.8.10"
  }
 },
 "nbformat": 4,
 "nbformat_minor": 5
}
