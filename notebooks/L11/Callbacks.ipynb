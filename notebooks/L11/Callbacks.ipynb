{
 "cells": [
  {
   "cell_type": "markdown",
   "id": "24346f47-b586-4875-8677-f774db2402f3",
   "metadata": {},
   "source": [
    "### Callbacks / Event-Handlers\n",
    " \n",
    "- In Python sind **Funktionen** wie man sagt **first class citizens**. Funktionen sind Objekte wie alle anderen und k&ouml;nnen u.a. Variabeln zugewiesen werden oder (anderen) Funktionen als Argumente &uuml;bergeben werden.  \n",
    "\n",
    "- Eine Funktion, welche einer anderen Funktion als Argument &uuml;bergeben wird, wird **Callback** genannt.\n",
    "Oft wird diese Funktion beim Eintreffen eines sog. **Events** \n",
    "(Tastendruck, Mausklick, Mausklick auf Button, Ausw&auml;hlen einer Option in einem Menu,...) aufgerufen und dann auch **Event-Handler** genannt. Typischerweise wird der Callback-Funktion ein Objekt \n",
    "&uuml;bergeben, welches relevante Informationen zum eingetroffenen Event \n",
    "enth&auml;lt (gedr&uuml;cket Taste, Position des Mausklicks, Button-Objekt).\n",
    "\n",
    "- Das Sicherstellen, dass der Callback \n",
    "zu einem sp&auml;teren Zeitpunkt z.B. von einem Button-Objekt aufgerufen wird, nennt sich auch **Registrierung des Callbacks**."
   ]
  },
  {
   "cell_type": "markdown",
   "id": "75e3f98c-b7c2-49c7-984a-c5cab340742c",
   "metadata": {},
   "source": [
    "***\n",
    "Komma-separierte Werte eines Strings mit Callback modifizieren:  \n",
    "`lst -> [f(x) for x in lst]`\n",
    "***"
   ]
  },
  {
   "cell_type": "code",
   "execution_count": null,
   "id": "4bd718d1-5869-4e77-815d-abe986787de0",
   "metadata": {},
   "outputs": [],
   "source": [
    "def str2list(s, f):\n",
    "    '''trenne den String s beim ',' -> Liste\n",
    "       ersetzte dann jedes Listenelement x durch f(x)\n",
    "    '''   \n",
    "    lst = s.split(',')\n",
    "    return [f(x) for x in lst]\n",
    "\n",
    "# wird als Callback verwendet\n",
    "def double(x):\n",
    "    x = x.strip()\n",
    "    return x + x"
   ]
  },
  {
   "cell_type": "code",
   "execution_count": null,
   "id": "0b73879f-0c90-4ead-97bf-aa6a561a287c",
   "metadata": {},
   "outputs": [],
   "source": [
    "# Woerter verdoppeln\n",
    "words = 'foo, bar, baz'\n",
    "str2list(words, double)"
   ]
  },
  {
   "cell_type": "code",
   "execution_count": null,
   "id": "fc723c5e-c47b-48b6-aff8-9ab5347d5277",
   "metadata": {},
   "outputs": [],
   "source": [
    "# erster Buchstabe als Grossbuchstabe\n",
    "words = 'foo, bar, baz'\n",
    "str2list(words, str.title)"
   ]
  },
  {
   "cell_type": "code",
   "execution_count": null,
   "id": "ea483595-949d-40cb-9ba4-1092f7acab4f",
   "metadata": {},
   "outputs": [],
   "source": [
    "# mit lambda Ausdruck String zuerst noch von WHite-Space befreien\n",
    "words = 'foo, bar, baz'\n",
    "str2list(words, lambda x:x.strip().title())"
   ]
  },
  {
   "cell_type": "code",
   "execution_count": null,
   "id": "74da037c-45c6-405a-89f6-c726330d4126",
   "metadata": {},
   "outputs": [],
   "source": [
    "numbers = '1, 2, 3, 4, 5'\n",
    "\n",
    "# String numbers -> Liste mit Integern\n",
    "str2list(numbers, int)"
   ]
  },
  {
   "cell_type": "markdown",
   "id": "f9acacab-8381-4d82-8a74-7f4be59c9fcd",
   "metadata": {},
   "source": [
    "### Ein Dictionary mit Callbacks\n",
    "Wir wollen Elemente in eine Liste aufnehmen und wieder entfernen.  \n",
    "Das Aufnehmen und Entfernen betrachten wir als Events.  \n",
    "Das Aufnehmen und Entfernen eines Elements soll durch ein f&uuml;r diese Event registiertes Callback kontrolliert werden.\n",
    "\n",
    "Wir l&ouml;sen diese Events manuell aus, durch Aufrufen der Funktionen\n",
    "`pop_item(lst)` und `append_item(lst, item)`.  \n",
    "- Die Funktion `pop_item(lst)` entfernt das letzte Element `last` aus der Liste `lst` und ruft dann\n",
    "das registrierte Callback mit den Argumenten `last` und `list` auf. Das Resultat des Callbacks wird\n",
    "dann zur&uuml;ckgebeben.\n",
    "- Die Funktion `append_item(lst, item)` ruft das registrierte Callback mit den Argumenten `last` und `list` auf,\n",
    "und h&auml;ngt den R&uuml;ckgabewert an die Liste `lst` an.\n",
    "\n",
    "Die Callbacks werden in einem Dictionary `callbacks` verwaltet.  \n",
    "Schl&uuml;ssel ist der Eventname, der Wert ist die Callback-Funktion."
   ]
  },
  {
   "cell_type": "code",
   "execution_count": null,
   "id": "87214b5f-de58-4e64-9461-f7a79553ffcc",
   "metadata": {},
   "outputs": [],
   "source": [
    "# Lambda-Funktion, die  Argument zurueck gibt (Identitaet)\n",
    "return_arg = lambda x:x\n",
    "return_arg('argument')"
   ]
  },
  {
   "cell_type": "code",
   "execution_count": null,
   "id": "458bbcf3-c740-458a-8667-9ca519663815",
   "metadata": {},
   "outputs": [],
   "source": [
    "# Callback in Dict aufnehmen\n",
    "def register_callback(event, callback):\n",
    "    callbacks[event] = callback"
   ]
  },
  {
   "cell_type": "code",
   "execution_count": null,
   "id": "8aa24496-b22f-4909-8a39-aee1ed27b0a7",
   "metadata": {},
   "outputs": [],
   "source": [
    "def pop_item(lst):\n",
    "    # callback aus Dict holen, als Default verwenden wir eine Funktion, \n",
    "    # die das Argument unveraendert zurueck gibt.\n",
    "    f = callbacks.get('pop', lambda x:x)\n",
    "    \n",
    "    item = lst.pop()\n",
    "    new_item = f(item)\n",
    "    return new_item\n",
    "    \n",
    "def append_item(lst, item):\n",
    "    f = callbacks.get('append', lambda x:x)\n",
    "    \n",
    "    new_item = f(item)    \n",
    "    lst.append(new_item)"
   ]
  },
  {
   "cell_type": "code",
   "execution_count": null,
   "id": "65643c5a-bf4b-426d-9cba-2cb6e32556d3",
   "metadata": {},
   "outputs": [],
   "source": [
    "# callbacks\n",
    "from datetime import datetime\n",
    "\n",
    "datetime.today().strftime('%d/%m/%Y %H:%M:%S')\n",
    "\n",
    "\n",
    "def log_and_capitalize(item):\n",
    "    now = datetime.today().strftime('%d/%m/%Y %H:%M:%S')\n",
    "    new_item = item.capitalize()\n",
    "    msg = '{}: append-event  modified \"{}\" to \"{}\" before appending'.format(now, item, new_item)\n",
    "    LOG.append(msg)\n",
    "    return new_item\n",
    "\n",
    "def log_and_return(item):\n",
    "    now = datetime.today().strftime('%d/%m/%Y %H:%M:%S')\n",
    "    msg = '{} pop-event removed \"{}\"'.format(now, item)\n",
    "    LOG.append(msg)\n",
    "    return item"
   ]
  },
  {
   "cell_type": "code",
   "execution_count": null,
   "id": "532090b1-31d4-4083-9c2a-30090862c482",
   "metadata": {},
   "outputs": [],
   "source": [
    "# Liste fuer log-messages\n",
    "LOG = []"
   ]
  },
  {
   "cell_type": "code",
   "execution_count": null,
   "id": "3caac5f6-4b53-47fa-ba9b-d43c67d238a3",
   "metadata": {},
   "outputs": [],
   "source": [
    "callbacks = {}\n",
    "change_log = []\n",
    "my_list = []\n",
    "\n",
    "# callbacks registrieren\n",
    "# register_callback('append', log_and_capitalize)\n",
    "# register_callback('pop', log_and_return)\n",
    "\n",
    "for x in ['foo', 'bar', 'baz']:\n",
    "    append_item(my_list, x)\n",
    "print('my_list: {}'.format(my_list))    \n",
    "    \n",
    "while my_list:\n",
    "    pop_item(my_list)\n",
    "    \n",
    "print('my_list: {}'.format(my_list))      "
   ]
  },
  {
   "cell_type": "code",
   "execution_count": null,
   "id": "377b6474-aedd-403f-bb0f-dd30fd93bfe5",
   "metadata": {},
   "outputs": [],
   "source": [
    "LOG"
   ]
  },
  {
   "cell_type": "code",
   "execution_count": null,
   "id": "4fcf6e70-ceb2-45c2-91d0-f538173e8c48",
   "metadata": {},
   "outputs": [],
   "source": []
  }
 ],
 "metadata": {
  "author": "dieter.probst@gmail.com",
  "kernelspec": {
   "display_name": "Python 3 (ipykernel)",
   "language": "python",
   "name": "python3"
  },
  "language_info": {
   "codemirror_mode": {
    "name": "ipython",
    "version": 3
   },
   "file_extension": ".py",
   "mimetype": "text/x-python",
   "name": "python",
   "nbconvert_exporter": "python",
   "pygments_lexer": "ipython3",
   "version": "3.12.0"
  }
 },
 "nbformat": 4,
 "nbformat_minor": 5
}
