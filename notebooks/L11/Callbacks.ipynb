{
 "cells": [
  {
   "cell_type": "markdown",
   "id": "24346f47-b586-4875-8677-f774db2402f3",
   "metadata": {},
   "source": [
    "### Callbacks / Event-Handlers\n",
    " \n",
    "- In Python sind **Funktionen** wie man sagt **first class citizens**. Funktionen sind Objekte wie alle anderen und k&ouml;nnen u.a. Variabeln zugewiesen werden oder (anderen) Funktionen als Argumente &uuml;bergeben werden.  \n",
    "\n",
    "- Eine Funktion, welche einer anderen Funktion als Argument &uuml;bergeben wird, wird **Callback** genannt.\n",
    "Oft wird diese Funktion beim Eintreffen eines sog. **Events** \n",
    "(Tastendruck, Mausklick, Mausklick auf Button, Ausw&auml;hlen einer Option in einem Menu,...) aufgerufen und dann auch **Event-Handler** genannt. Typischerweise wird der Callback-Funktion ein Objekt \n",
    "&uuml;bergeben, welches relevante Informationen zum eingetroffenen Event \n",
    "enth&auml;lt (gedr&uuml;cket Taste, Position des Mausklicks, Button-Objekt).\n",
    "\n",
    "- Das Sicherstellen, dass der Callback \n",
    "zu einem sp&auml;teren Zeitpunkt z.B. von einem Button-Objekt aufgerufen wird, nennt sich auch **Registrierung des Callbacks**."
   ]
  },
  {
   "cell_type": "markdown",
   "id": "75e3f98c-b7c2-49c7-984a-c5cab340742c",
   "metadata": {},
   "source": [
    "***\n",
    "Komma-separierte Werte eines Strings mit Callback modifizieren\n",
    "***"
   ]
  },
  {
   "cell_type": "code",
   "execution_count": 1,
   "id": "4bd718d1-5869-4e77-815d-abe986787de0",
   "metadata": {},
   "outputs": [],
   "source": [
    "def str2list(s, f):\n",
    "    '''trenne den String s beim ',' -> Liste\n",
    "       ersetzte dann jedes Listenelement x durch f(x)\n",
    "    '''   \n",
    "    lst = s.split(',')\n",
    "    return [f(x) for x in lst]\n",
    "\n",
    "# wird als Callback verwendet\n",
    "def double(x):\n",
    "    return x + x"
   ]
  },
  {
   "cell_type": "code",
   "execution_count": null,
   "id": "eeddb0cf-07d8-4d47-9271-b83d7e0cddec",
   "metadata": {},
   "outputs": [],
   "source": [
    "s = 'foo, bar'"
   ]
  },
  {
   "cell_type": "code",
   "execution_count": 6,
   "id": "0b73879f-0c90-4ead-97bf-aa6a561a287c",
   "metadata": {},
   "outputs": [
    {
     "data": {
      "text/plain": [
       "['foofoo', ' bar bar']"
      ]
     },
     "execution_count": 6,
     "metadata": {},
     "output_type": "execute_result"
    }
   ],
   "source": [
    "# Woerter verdoppeln\n",
    "str2list(s, double)"
   ]
  },
  {
   "cell_type": "code",
   "execution_count": 7,
   "id": "fc723c5e-c47b-48b6-aff8-9ab5347d5277",
   "metadata": {},
   "outputs": [
    {
     "data": {
      "text/plain": [
       "['Foo', ' Bar']"
      ]
     },
     "execution_count": 7,
     "metadata": {},
     "output_type": "execute_result"
    }
   ],
   "source": [
    "# erster Buchstabe als Grossbuchstabe\n",
    "str2list(s, str.title)"
   ]
  },
  {
   "cell_type": "code",
   "execution_count": 8,
   "id": "74da037c-45c6-405a-89f6-c726330d4126",
   "metadata": {},
   "outputs": [
    {
     "data": {
      "text/plain": [
       "[1, 2, 3, 4, 5]"
      ]
     },
     "execution_count": 8,
     "metadata": {},
     "output_type": "execute_result"
    }
   ],
   "source": [
    "s = '1, 2, 3, 4, 5'\n",
    "\n",
    "# Strings in int umwandeln\n",
    "str2list(s, int)"
   ]
  },
  {
   "cell_type": "markdown",
   "id": "f9acacab-8381-4d82-8a74-7f4be59c9fcd",
   "metadata": {},
   "source": [
    "### Ein Dictionary mit Callbacks\n",
    "Wir wollen Elemente in eine Liste aufnehmen und wieder entfernen.  \n",
    "Aufnehmen und Entfernen betrachten wir als Events.  \n",
    "Beim Eintreffen eines dieser Events rufen wir ein Callback `f(item, log)` auf.  \n",
    "Diese Funktion modifiziert `item` und h&auml;ngt eine Nachricht an die Liste `log` an.  \n",
    "Die Callbacks werden in einem Dictionary `callbacks` verwaltet.  \n",
    "Schl&uuml;ssel ist der Eventname, der Wert ist die Callback-Funktion."
   ]
  },
  {
   "cell_type": "code",
   "execution_count": 1,
   "id": "458bbcf3-c740-458a-8667-9ca519663815",
   "metadata": {},
   "outputs": [],
   "source": [
    "# Callback in Dict aufnehmen\n",
    "def register_callback(event, callback):\n",
    "    callbacks[event] = callback"
   ]
  },
  {
   "cell_type": "code",
   "execution_count": 2,
   "id": "8aa24496-b22f-4909-8a39-aee1ed27b0a7",
   "metadata": {},
   "outputs": [],
   "source": [
    "# pop und append events: \n",
    "# Callback aus Dictionary holen, Funktion die nichts macht als Default-Wert\n",
    "def pop_item(lst, log):\n",
    "    f = callbacks.get('pop', lambda x,y:x)\n",
    "    item = lst.pop()\n",
    "    f(item, log)\n",
    "    \n",
    "def append_item(lst, item, log):\n",
    "    f = callbacks.get('append', lambda x,y:x)\n",
    "    item = f(item, log)    \n",
    "    lst.append(item)"
   ]
  },
  {
   "cell_type": "code",
   "execution_count": 3,
   "id": "65643c5a-bf4b-426d-9cba-2cb6e32556d3",
   "metadata": {},
   "outputs": [],
   "source": [
    "# callbacks\n",
    "def f(item, log):\n",
    "    msg = 'append \"{}\" in Grossbuchstaben'.format(item)\n",
    "    log.append(msg)\n",
    "    return item.upper()\n",
    "\n",
    "def g(item, log):\n",
    "    msg = 'pop und print \"{}\"'.format(item)\n",
    "    log.append(msg)\n",
    "    print(item)"
   ]
  },
  {
   "cell_type": "code",
   "execution_count": 4,
   "id": "3caac5f6-4b53-47fa-ba9b-d43c67d238a3",
   "metadata": {},
   "outputs": [
    {
     "name": "stdout",
     "output_type": "stream",
     "text": [
      "BAZ\n",
      "BAR\n",
      "FOO\n"
     ]
    }
   ],
   "source": [
    "callbacks = {}\n",
    "change_log = []\n",
    "my_list = []\n",
    "\n",
    "# callbacks registrieren\n",
    "register_callback('append', f)\n",
    "register_callback('pop', g)\n",
    "\n",
    "for x in ['foo', 'bar', 'baz']:\n",
    "    append_item(my_list, x, change_log)\n",
    "    \n",
    "while my_list:\n",
    "    pop_item(my_list, change_log)"
   ]
  },
  {
   "cell_type": "code",
   "execution_count": 5,
   "id": "377b6474-aedd-403f-bb0f-dd30fd93bfe5",
   "metadata": {},
   "outputs": [
    {
     "data": {
      "text/plain": [
       "['append \"foo\" in Grossbuchstaben',\n",
       " 'append \"bar\" in Grossbuchstaben',\n",
       " 'append \"baz\" in Grossbuchstaben',\n",
       " 'pop und print \"BAZ\"',\n",
       " 'pop und print \"BAR\"',\n",
       " 'pop und print \"FOO\"']"
      ]
     },
     "execution_count": 5,
     "metadata": {},
     "output_type": "execute_result"
    }
   ],
   "source": [
    "change_log"
   ]
  },
  {
   "cell_type": "code",
   "execution_count": null,
   "id": "c3e846c5-a1ba-4045-96b2-ef8731b643a5",
   "metadata": {},
   "outputs": [],
   "source": []
  }
 ],
 "metadata": {
  "author": "dieter.probst@gmail.com",
  "kernelspec": {
   "display_name": "Python 3 (ipykernel)",
   "language": "python",
   "name": "python3"
  },
  "language_info": {
   "codemirror_mode": {
    "name": "ipython",
    "version": 3
   },
   "file_extension": ".py",
   "mimetype": "text/x-python",
   "name": "python",
   "nbconvert_exporter": "python",
   "pygments_lexer": "ipython3",
   "version": "3.12.0"
  }
 },
 "nbformat": 4,
 "nbformat_minor": 5
}
