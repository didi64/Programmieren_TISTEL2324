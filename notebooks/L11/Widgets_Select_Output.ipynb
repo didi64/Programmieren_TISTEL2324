{
 "cells": [
  {
   "cell_type": "markdown",
   "id": "a242bb6d-a337-4e7f-ac62-d4ebca4694ae",
   "metadata": {},
   "source": [
    "### Widgets\n",
    "\n",
    "Ein Widget ist eine Komponente eines grafischen Fenstersystems.  \n",
    "Das Widget besteht zum einen aus dem Fenster, einem sichtbaren Bereich, der Maus- und/oder Tastaturereignisse empfängt.  \n",
    "Widgets erlauben das Registrieren von Funktionen (**Callbacks**), die beim Eintreffen bestimmter Ereignisse (**Events**) aufgerufen werden.\n",
    "\n",
    "**Beachte**:  \n",
    "Wird die Callback-Funktion vom Widget aufgerufen,\n",
    "dann weiss Jupyterlab oft nicht, in welche Zelle Output (z.B. von `print`) geschrieben werden soll.  \n",
    "Der Output wird dann in die **Log-Console** umgeleitet.  \n",
    "Log-Console anzeigen: View --> Show Log Console (Log Level: Warning)"
   ]
  },
  {
   "cell_type": "markdown",
   "id": "97d9b540-18b9-4554-8e8f-3c2884319004",
   "metadata": {},
   "source": [
    "### Das Select-Widget\n",
    "Doku zum  [Select-Widget](https://ipywidgets.readthedocs.io/en/latest/examples/Widget%20List.html#select)  \n",
    "\n",
    "Die wichtigsten Attribute des Select-Widgets sind\n",
    "- `value`: ausgew&auml;hlter Wert\n",
    "- `options`: Tuple mit ausw&auml;hlbaren Optionen\n",
    "- `index`: Index der ausgew&auml;hlten Option"
   ]
  },
  {
   "cell_type": "code",
   "execution_count": null,
   "id": "3d770b97-ec89-47b4-bcc5-2a2422a86d92",
   "metadata": {},
   "outputs": [],
   "source": [
    "# Select Widget importieren\n",
    "from ipywidgets import Select"
   ]
  },
  {
   "cell_type": "code",
   "execution_count": null,
   "id": "da3e3f77-032f-45aa-816d-4b57d28e4d1d",
   "metadata": {},
   "outputs": [],
   "source": [
    "# Select Widget erstellen und anzeigen\n",
    "selection = Select(\n",
    "    options = ('AAA', 'BBB', 'CCC'),\n",
    "    value = None, # value: None oder ein Element von options\n",
    "    rows  = 5,\n",
    ")\n",
    "\n",
    "display(selection)"
   ]
  },
  {
   "cell_type": "code",
   "execution_count": null,
   "id": "bff3c71f-f84b-45cf-b506-ad2e2bec70e4",
   "metadata": {},
   "outputs": [],
   "source": [
    "# angeklickter Wert, laesst sich aendern\n",
    "selection.value"
   ]
  },
  {
   "cell_type": "code",
   "execution_count": null,
   "id": "8e7ed737-4e28-47b2-8f05-3a1f76e21e5e",
   "metadata": {},
   "outputs": [],
   "source": [
    "selection.value = 'CCC'"
   ]
  },
  {
   "cell_type": "code",
   "execution_count": null,
   "id": "e9fea988-80df-4ca3-a4ec-99ed714fc042",
   "metadata": {},
   "outputs": [],
   "source": [
    "# index der ausgewaehlten Option\n",
    "selection.index"
   ]
  },
  {
   "cell_type": "code",
   "execution_count": null,
   "id": "f46051f6-ddb3-4949-a87d-2298491ca321",
   "metadata": {},
   "outputs": [],
   "source": [
    "# Optionen, lassen sich auch aendern\n",
    "selection.options"
   ]
  },
  {
   "cell_type": "code",
   "execution_count": null,
   "id": "d63d9f1c-bca9-48c4-9b5c-445fcb98b3e1",
   "metadata": {},
   "outputs": [],
   "source": [
    "selection.options = ('DDD', 'EEE', 'FFF', 'even', 'more', 'choices')"
   ]
  },
  {
   "cell_type": "markdown",
   "id": "0aedaba5-537d-40a1-8436-bafeccc4c955",
   "metadata": {},
   "source": [
    "### Attribute beobachten\n",
    "Beim Select-Widget k&ouml;nnen (wie bei allen Widgets) Attribute beobachtet werden.  \n",
    "- `observe(callback, names = name)`  \n",
    "registriert die Funktion  `callback` als Beobachter des Attributes `name`.  \n",
    "Falls das Attribute mit\n",
    "Namen `name` ge&auml;ndert wird, wird die Funktion  `callback` aufgerufen.  \n",
    "Dem Callback wird als Argument ein `Change-Objekt` &uuml;bergeben.  \n",
    "- `unobserve(callback, names = name)`  \n",
    "beendent die Beobachtung des Attributs `name` durch die Funktion `callback`.\n",
    "\n",
    "Das Change-Objekt `change` ist ein spezieller Dictionary, dessen Schl&uuml;ssel (Attribute) sich auch mittels der `.`-Syntax ansprechen lassen:\n",
    "> `change.new` statt `change['new']`  \n",
    "\n",
    "Blick auf ein Change-Objekt:  \n",
    "`{'name': 'value', 'old': None, 'new': 'BBB', 'owner':  Select(...), 'type': 'change'}`\n",
    "\n",
    "Das Change-Objekt hat u.a. ein Attribut `owner`, welches eine Referenz auf das\n",
    "Select-Widget enth&auml;lt. "
   ]
  },
  {
   "cell_type": "code",
   "execution_count": null,
   "id": "ee2cc525-c5af-41d7-8e47-8d9e10d030d2",
   "metadata": {},
   "outputs": [],
   "source": [
    "# callback Funktion\n",
    "def on_select(change):\n",
    "    print('Mitteilung vom Callback:')\n",
    "    print(change)\n",
    "    print(change.owner.options)\n",
    "    print('alter Wert: {}, neuer Wert: {}'.format(change['old'], change.new))\n",
    "    print('---------------')"
   ]
  },
  {
   "cell_type": "code",
   "execution_count": null,
   "id": "0a5dc600-aed0-44db-8acf-ae383d713aa8",
   "metadata": {},
   "outputs": [],
   "source": [
    "selection = Select(\n",
    "    options = ('AAA', 'BBB', 'CCC'),\n",
    "    value = None,\n",
    "    rows  = 5,\n",
    ")\n",
    "\n",
    "# aendert selection.value, dann wird on_select aufgerufen\n",
    "selection.observe(on_select, names = 'value')\n",
    "display(selection)"
   ]
  },
  {
   "cell_type": "code",
   "execution_count": null,
   "id": "3e464842-a0dd-4b02-867b-2e1c09865655",
   "metadata": {},
   "outputs": [],
   "source": [
    "# callback triggern\n",
    "selection.value = selection.options[1]"
   ]
  },
  {
   "cell_type": "code",
   "execution_count": null,
   "id": "54bf5ac2-6456-49e8-9298-849fdb23a991",
   "metadata": {},
   "outputs": [],
   "source": [
    "selection.options"
   ]
  },
  {
   "cell_type": "code",
   "execution_count": null,
   "id": "7fc2f7c3-448c-45a7-9dd1-c30c1a08ac9f",
   "metadata": {},
   "outputs": [],
   "source": [
    "selection.options = ('DDD', 'EEE', 'FFF', 'even', 'more', 'choices')"
   ]
  },
  {
   "cell_type": "code",
   "execution_count": null,
   "id": "f489c283-7b22-4c5e-8ad3-185f320f5d7b",
   "metadata": {},
   "outputs": [],
   "source": [
    "def update_options(options):\n",
    "    # selection.unobserve(on_select, names = 'value')\n",
    "    selection.options = options\n",
    "    selection.value = None\n",
    "    # selection.observe(on_select, names = 'value')"
   ]
  },
  {
   "cell_type": "code",
   "execution_count": null,
   "id": "494af047-945e-4957-b7cf-7c207b5167c0",
   "metadata": {},
   "outputs": [],
   "source": [
    "update_options(('DDD', 'EEE', 'FFF!'))"
   ]
  },
  {
   "cell_type": "code",
   "execution_count": null,
   "id": "d69c9314-4d6b-45d8-9ad5-986f93166c0c",
   "metadata": {},
   "outputs": [],
   "source": []
  },
  {
   "cell_type": "markdown",
   "id": "2d3a3456-b439-4079-8a59-ba4a4ced8587",
   "metadata": {},
   "source": [
    "### Das Output-Widget\n",
    "[Doku zum Output-Widget](https://ipywidgets.readthedocs.io/en/latest/examples/Output%20Widget.html)"
   ]
  },
  {
   "cell_type": "code",
   "execution_count": null,
   "id": "8584a8d0-51b2-4edb-aad1-3fccbc7a2568",
   "metadata": {},
   "outputs": [],
   "source": [
    "from ipywidgets import Output"
   ]
  },
  {
   "cell_type": "code",
   "execution_count": null,
   "id": "07110299-4cac-4151-8765-a2617965fdbe",
   "metadata": {},
   "outputs": [],
   "source": [
    "# Output Widget mit schwarzem Rand, damit auch sichtbar falls leer.\n",
    "out = Output(layout={'border': '1px solid black'})\n",
    "out # display(out)"
   ]
  },
  {
   "cell_type": "code",
   "execution_count": null,
   "id": "cfacaf95-7220-4b5c-8e74-c0e381202d36",
   "metadata": {},
   "outputs": [],
   "source": [
    "# Schreibe ins Output-Widget\n",
    "with out:\n",
    "    print('Hello\\nWorld!')"
   ]
  },
  {
   "cell_type": "code",
   "execution_count": null,
   "id": "54c455b2-4ffe-427c-8a2f-27e662860e83",
   "metadata": {},
   "outputs": [],
   "source": [
    "# Loesche Inhalt vom Output-Widget\n",
    "out.clear_output()"
   ]
  },
  {
   "cell_type": "markdown",
   "id": "72371931-827a-4e84-a872-b9d1d62472dc",
   "metadata": {},
   "source": [
    "### Select Beispiel, `on_select` schreibt in Output-Widget"
   ]
  },
  {
   "cell_type": "code",
   "execution_count": null,
   "id": "b46ab724-4969-4ce6-af32-553520f038b4",
   "metadata": {},
   "outputs": [],
   "source": [
    "# ein Output-Widget\n",
    "out = Output(layout={'border': '1px solid black'})\n",
    "\n",
    "# callback Funktion, schreibt in out\n",
    "def on_select(change):\n",
    "    out.clear_output()\n",
    "    with out:\n",
    "        print('alter Wert: {}, neuer Wert: {}'.format(change['old'], change.new))\n",
    "\n",
    "# Select-Widget erstellen\n",
    "selection = Select(\n",
    "    options = ('AAA', 'BBB', 'CCC'),\n",
    "    rows  = 3,\n",
    ")\n",
    "\n",
    "# Callback registrieren\n",
    "selection.observe(on_select, names = 'value')\n",
    "\n",
    "# zeige Widgets nacheinander an\n",
    "display(selection, out)"
   ]
  },
  {
   "cell_type": "code",
   "execution_count": null,
   "id": "49c54705-098f-4cd0-af5a-d68c9f32a420",
   "metadata": {},
   "outputs": [],
   "source": []
  }
 ],
 "metadata": {
  "kernelspec": {
   "display_name": "Python 3 (ipykernel)",
   "language": "python",
   "name": "python3"
  },
  "language_info": {
   "codemirror_mode": {
    "name": "ipython",
    "version": 3
   },
   "file_extension": ".py",
   "mimetype": "text/x-python",
   "name": "python",
   "nbconvert_exporter": "python",
   "pygments_lexer": "ipython3",
   "version": "3.12.0"
  }
 },
 "nbformat": 4,
 "nbformat_minor": 5
}
