{
 "cells": [
  {
   "cell_type": "markdown",
   "id": "4fe9c6ec-d760-4dd8-aec9-fa1d1421b772",
   "metadata": {},
   "source": [
    "### Nachpr&uuml;fung vom 19. Februar 2024\n",
    "\n",
    "**Allgemeines**\n",
    "- Zeit: 90 Minuten.\n",
    "- Hilfsmittel: Unterrichtunterlagen, Notizen, ...\n",
    "- **Vorboten** ist die Kommunikation mit anderen Personen in jeglicher Form, Chat-GPT.\n",
    "\n",
    "**Vorgehen**\n",
    "- Kopiere dieses Notebook und nenne es dann `Pruefung_Vorname_Nachname.ipynb`\n",
    "- Schliesse dieses Notebook und &ouml;ffne die Kopie. L&ouml;se die Aufgaben in diesem Notebook. \n",
    "- Bei manchen Aufgaben ist eine Funktion zu programmieren, die sp&auml;ter verwendet wird. \n",
    "Falls deine Funktion nicht wie gew&uuml;nscht funktioniert, kannst du \n",
    "statt dessen die gleichnamige Funktion aus dem Modul `solutions` verwenden. \n",
    "\n",
    "**Abgabe** (w&auml;hle eine Variante):\n",
    "- Falls du einen `share`-Ordner eingerichtet hast:  \n",
    "  Kopiere das Notebook in deinen `share`-Ordner.  \n",
    "  F&uuml;hre dann in einer Code-Zelle den Befehl `!sync_share` aus oder \n",
    "  f&uuml;hre im Jupyterlab-Terminal den Befehl `sync_share` aus.\n",
    "- Schicke das Notebook mit deinen L&ouml;sungen per Email an `dieter.probst@edu.teko.ch`\n",
    "  "
   ]
  },
  {
   "cell_type": "markdown",
   "id": "856d13e2-3e6d-49c2-a597-34ef940b1a76",
   "metadata": {},
   "source": [
    "# Aufgabe 1 (8 Punkte, 2+2+2+2)\n",
    "1. Starte mit dem String `values = 'ABCDEFGH'`.  \n",
    "Verwende eine For-Schleife mit enumerate, um folgenden Output zu produzieren:  \n",
    "  Position: 1, Value: A  \n",
    "  Position: 2, Value: B  \n",
    "  ...  \n",
    "  Position: 8, Value: H  \n",
    "1. Erstelle mit Dictionary-Comprehension aus dem String `values` den Dictionary   \n",
    "   `d = {'A': 1, 'B': 2, 'C': 3, 'D': 4, 'E': 5, 'F': 6, 'G': 7, 'H': 8}`.\n",
    "\n",
    "1. Erstelle aus `d` eine Liste `keys` mit den Schl&uuml;sseln von `d`  und eine Liste\n",
    "`kv_pairs` mit den Key-Value Paaren  \n",
    "(`keys = ['A', 'B', 'C', 'D', 'E', 'F', 'G', 'H']`  \n",
    " `kv_pairs = [('A', 1),('B', 2),('C', 3),('D', 4),('E', 5),('F', 6),('G', 7),('H', 8)]`).\n",
    "1. Benutze Slicenotation, um einen Anfangsabschnitt der L&auml;nge 2 der Liste `keys` zu erstellen.  \n",
    "(`['A', 'B']`).  \n",
    "Erstelle aus der Liste `keys` und `d` einen Dictionary `d_small`, der nur die ersten beiden\n",
    "Key-Value Paare von `d` enth&auml;lt  \n",
    "(`d_small = {'A': 1, 'B': 2}`)."
   ]
  },
  {
   "cell_type": "code",
   "execution_count": null,
   "id": "3ad6e8e9-00dc-470f-bc2e-2137c840d5f2",
   "metadata": {},
   "outputs": [],
   "source": [
    "values = 'ABCDEFGH'"
   ]
  },
  {
   "cell_type": "code",
   "execution_count": null,
   "id": "206cb591-e838-45b5-b636-eccf32d2437a",
   "metadata": {},
   "outputs": [],
   "source": []
  },
  {
   "cell_type": "code",
   "execution_count": null,
   "id": "258c9d7e-cd95-4193-a7ef-cd6a8930e88a",
   "metadata": {},
   "outputs": [],
   "source": []
  },
  {
   "cell_type": "markdown",
   "id": "4456f614-d350-459c-a804-4f8f8ba0079c",
   "metadata": {},
   "source": [
    "### Aufgabe 2 (9 Punkte, 2+2+3+2) \n",
    "Sei `number = 12345` und `big_number = 99999999999992`.  \n",
    "1. Erstelle eine Liste `chars` mit den einzelnen Ziffern der Zahl `number` als Strings,\n",
    "dann daraus eine Liste `digits` mit den einzelnen Ziffern als Integers, dann berechne ihre Summe.  \n",
    "(`chars = ['1', '2', '3', '4', '5']`, `digits` = [1, 2, 3, 4, 5], Summe der Ziffern: `15`).  \n",
    "1. Schreibe eine Funktion `quersumme(number)`, welche die wie in 2.1 berechnete Quersumme der Zahl zur&uuml;ck gibt. Teste die Funktion mit der Zahl `big_number`. Berechne die Quersumme des Resultats, u.s.w. bis das Resultat einstellig ist (`119`, `11`, `2`). Diese einstellige Zahl ist die **iterierte Quersumme**.  \n",
    "1. Berechne die L&auml;nge der Zahl `big_number` als String (14).  \n",
    "Benutze eine While-Schleife, um der Zahl `x=big_number` solange ihre Quersumme zuzuweisen, bis das Resultat einstellig ist.\n",
    "Schreibe eine Funktion `it_quersumme(number)`, welche die iterierte Quersumme der Zahl `number` zur&uuml;ck gibt.\n",
    "1. Teste die Funktion mit einer For-Schleife an 5 grossen Zufallszahlen, erstellt mit `random.randint(10**13, 10**14)` und &uuml;berpr&uuml;fe, dass die iterierte Quersumme einer Zahl `x` gleich dem Divisionsrest bei Ganzahldivision mit 9 ist (`x % 9`).  \n",
    "(`x = 78962098914219, it_quersumme(x) = 3, x % 9 = 3`  \n",
    " `...`  \n",
    " )"
   ]
  },
  {
   "cell_type": "code",
   "execution_count": null,
   "id": "4b8e28b0-9cee-405a-bac7-5b210b3798ae",
   "metadata": {},
   "outputs": [],
   "source": [
    "import random\n",
    "number = 12345\n",
    "big_number = 99999999999992"
   ]
  },
  {
   "cell_type": "code",
   "execution_count": null,
   "id": "07c3d014-10c2-4217-ae52-48c5b224b516",
   "metadata": {},
   "outputs": [],
   "source": []
  },
  {
   "cell_type": "code",
   "execution_count": null,
   "id": "dbd7886b-cef0-45af-ac07-d3806c18113a",
   "metadata": {},
   "outputs": [],
   "source": []
  },
  {
   "cell_type": "markdown",
   "id": "d51e576e-f760-4aae-bc30-11bb41c3d0a9",
   "metadata": {},
   "source": [
    "### Aufgabe 3 (9 Punkte, 1+2+3+3)  \n",
    "Wir wollen die Primzahlen kleiner als 1000 finden. \n",
    "Dazu beginnen wir mit einer Liste `numbers=[2,3,4,...,999]`. \n",
    "Die erste Zahl (2) in dieser Liste ist eine Primzahl und wir speichern sie ab. \n",
    "Wir entfernen 2 aus der Liste numbers, sowie alle Zahlen, die durch 2 teilbar sind.\n",
    "Die neue Liste ist `numbers=[3,5,7,9,...,999]`. 3 ist die n&auml;chste Primzahl, die wir abspeichern. Wir entfernen sie, sowie alle Zahlen die durch 3 teilbar sind.  Die neue Liste ist `numbers=[5,7,11,,...,997]`. \n",
    "Wir fahren fort Primzahlen aus der Liste zu nehmen, bis die Liste leer ist.\n",
    "\n",
    "1. Erstelle mit Hilfe von `range` eine Liste `numbers = [2, 3, 4, 5, 6, 7, 8, 9]` und gib die Teilliste mit den\n",
    "letzten beiden Elementen aus (`[8, 9]`).  \n",
    "1. Erstelle eine leere Liste `l`. Entferne das erste Element aus der Liste `numbers`, weise es der Variable `p` zu und h&auml;nge es an die Liste `l` an.  \n",
    "Erstelle aus `numbers` mit Listcomprehension eine neue Liste `numbers`, die nur noch die Zahlen aus `numbers` enth&auml;lt, die nicht durch `p` (in diesem Fall 2) teilbar sind (`x % p != 0`). Gib `numbers` und `l` zur Kontrolle aus (`[3, 5, 7, 9]`, `[2]`).  \n",
    "1. Erstelle eine leere Liste `primes` und eine Liste `numbers` mit den Zahlen von 2 bis und mit 50. Benutze eine While-Schleife, um\n",
    "den Prozess aus 3.2 solange zu wiederholen, bis `numbers` eine leere Liste ist, also\n",
    "   - erstes Element aus `numbers` entfernen, `p` zuweisen und an `primes` anh&auml;ngen,\n",
    "   - `numbers`   ersetzen durch Liste `numbers`, die nur noch die Zahlen aus `numbers` enth&auml;lt, die nicht durch `p` teilbar sind.\n",
    "  \n",
    "  \n",
    "   Gib die Liste `primes` aus  \n",
    "  (`primes = [2, 3, 5, 7, 11, 13, 17, 19, 23, 29, 31, 37, 41, 43, 47]`).\n",
    "1. Schreibe eine Funktion `sieve(n)`, welche wie in 3.3 die Liste der Primzahlen kleiner gleich `n` berechnet und zur&uuml;ck gibt.\n",
    "Finde mit dieser Funktion die 3 gr&ouml;ssten Primzahlen kleiner als 1000 (`[983, 991, 997]`)."
   ]
  },
  {
   "cell_type": "code",
   "execution_count": null,
   "id": "84af4b28-2256-497f-8854-0304b32d024d",
   "metadata": {},
   "outputs": [],
   "source": []
  },
  {
   "cell_type": "markdown",
   "id": "ed9bb475-544a-4ea4-a4fa-51de6bbe46d9",
   "metadata": {},
   "source": [
    "### Aufgabe 4 (12 Punkte, 3+2+2+3+2)\n",
    "Das Files `ortschaften.txt` enth&auml;lt Informationen zu ca. 4000 schweizer Ortschaften.\n",
    "Ab der 3. Zeile hat jede Zeile die Form  \n",
    "`Postleitzahl,Orschaftnamen,...`.    \n",
    "\n",
    "1. &Ouml;ffne das File `ortschaften.txt` und erstelle eine Liste `lines` mit den Zeilen diese Files.  Gib zur Kontrolle ein kurzes Anfangsst&uuml;ck dieser Liste aus. Gib die 3. Zeile aus. Splite diese beim Komma in eine Liste und greife den Ortsnamen heraus\n",
    "(`Lausanne`).\n",
    "1. Erstelle aus `lines` eine Liste `ort_lst` mit den Ortschaftsnamen (gleicher Ort kommt mehrfach vor) und gib die ersten und letzten beiden Elemente aus (`['Lausanne', 'Lausanne'], ['Unterwasser', 'Wildhaus']`).  \n",
    "1. Erstelle nun aus `ort_lst` einen Dictionary `orte`. Schl&uuml;ssel ist der Ortsname, der zugeh&ouml;rige Wert ist `True`. Gib die L&auml;nge des Dictionary `orte` aus (`4008`). Gib alle Ortschaften aus, die nur aus einem Wort bestehen (kein `' '` enthalten) und auf `tal` enden  \n",
    "(`['Scharnachtal', 'Kiental', 'Lütschental', 'Fieschertal', 'Liestal', 'Melchtal',' Ohmstal', 'Hospental', \n",
    "'Hemmental', 'Grafstal', 'Klöntal', 'Netstal', 'Aeugstertal', 'Sonnental']`).  \n",
    "1. Erstelle nun einen Dictionary `b_count` der zu jedem Buchstaben angibt, wieviele Ortschaften mit diesem\n",
    "Buchstaben beginnen. \n",
    "Erstelle mit `kv_pairs = list(b_count.items())` die Liste der Schl&uuml;ssel-Wert Paare und gib die ersten beiden aus (`[('L', 326), ('J', 17)]`).  \n",
    "1. Erstelle aus `kv_pairs` eine Liste `vk_pairs` der Form\n",
    "(`[(326, 'L'), (17, 'J'), ...]`), wo Schl&uuml;ssel und Werte vertausch sind.\n",
    "Gib `max(vk_pairs)` und `min(vk_pairs)` aus. Was sagen diese Werte aus?"
   ]
  },
  {
   "cell_type": "code",
   "execution_count": null,
   "id": "00b235d1-b835-4bab-8329-86ccb3b9c10a",
   "metadata": {},
   "outputs": [],
   "source": [
    "# 4.1\n",
    "fn = 'ortschaften.txt'"
   ]
  },
  {
   "cell_type": "code",
   "execution_count": null,
   "id": "eda38de2-a76d-412e-8925-87fba1714d00",
   "metadata": {},
   "outputs": [],
   "source": []
  },
  {
   "cell_type": "markdown",
   "id": "c3c1d9c1-bdb4-4751-8a48-3a2918ea6bb0",
   "metadata": {},
   "source": [
    "### Aufgabe 5 (12 Punkte, 2+2+2+3+3+2)\n",
    "5 Personen, nennen wir sie A, B, C, D und E sitzen in einem Kreis (A sitzt rechts von B, C rechts von B,...) und spielen ein Trinkspiel (B&ouml;se Sieben).\n",
    "Im Kreis herum wir von 1 an gez&auml;hlt. Jeder Mitspieler sagt eine Zahl, oder `bösi`, falls  die Zahl die Ziffer  7 enth&auml;lt oder durch 7 teilbar ist. Kommt die Ziffer 7 eine **ungerade** Anzahl mal in der Zahl vor, wechselt die Richtung. \n",
    "Uns interessiert, wie ein fehlerloses Spiel von 1 bis 99 verl&auml;ft.\n",
    "Nachstehend was die Spieler der Reihen nach sagen bis zur Zahl 30. Bei *bösi* ist jeweils noch in Klammern die Zahl angegeben.\n",
    "```python\n",
    "A: 1, B: 2, C: 3, D: 4, E: 5, A: 6, B: bösi(7), A: 8, E: 9, D: 10\n",
    "C: 11, B: 12, A: 13, E: bösi(14), D: 15, C: 16, B: bösi(17), C: 18, D: 19, E: 20\n",
    "A: bösi(21), B: 22, C: 23, D: 24, E: 25, A: 26, B: bösi(27), A: bösi(28), E: 29, D: 30\n",
    "```  \n",
    "Ziel ist es Code zu schreiben, der obigen Output produziert.  \n",
    "\n",
    "1. Schreibe eine Funktion `boesi(zahl)`, die zur&uuml;ck gibt, was ein Spieler bei dieser Zahl sagen muss. Bei *bösi* ist jeweils noch in Klammern die Zahl anzugegeben (f&uuml;r `5`, `7` und `14` liefert die Funktion `5`, `bösi(7)` und `bösi(14)`). &Uuml;berpr&uuml;fe das.\n",
    "1. Gib mit Hilfe der String-Methode `count` aus, wie oft 7 in der Zahl `zahl=771237727777` auftritt. Teste auch,  ob 7 eine **ungerade** Anzahl mal vorkommt (eine ungerade Zahl ist nicht ohne Rest durch 2 teilbar) (`8`, `False`).  \n",
    "Schreibe dann eine Funktion `richtungswechsel(zahl)`, die `True` zur&uuml;ck gibt, falls die Zahl `zahl` eine ungerade Anzahl 7 enth&auml;lt.  \n",
    "Teste die Funktion mit den Werten 5, 7 und 77 (`False, True, False`).\n",
    "1. Das Spiel kann in zwei Richtungen laufen, rechtsrum (1) und linksrum (-1). \n",
    "Schreibe eine Funktion `neue_richtung(richtung, zahl)`, die aus der aktuellen Richtung \n",
    "(1 oder -1) und der Zahl die neue Richtung berechnet \n",
    "(die Richtung &auml;ndert das Vorzeichen, falls `richtungswechsel(zahl)` gleich `True` ist).  \n",
    "Teste die Funktion mit den Wertpaaren (1, 5), (-1, 7), (1, 77), (1, 777) f&uuml;r Richtung und Zahl (`1, -1, 1, 1`).\n",
    "1. Das Spiel wir nun von 1 bis 99 gespielt.\n",
    "Beginne mit einer leeren Liste `wort_richtung`  und f&uuml;ge\n",
    "f&uuml;r jede Zahl das Paar  `(boesi(zahl), richtung`) hinzu, das angibt, was der Spieler sagt,\n",
    "und in welche Richtung das Spiel weitergeht (1 oder -1). Gib die ersten  9 Elemenen aus  \n",
    "(`[(1, 1), (2, 1), (3, 1), (4, 1), (5, 1), (6, 1), ('bösi(7)', -1), (8, -1),(9, -1)]`),  \n",
    "sowie den Teil der Liste aus, der sagt was bei den Zahlen 69-80 passiert.\n",
    "1. Erstelle mit Hilfe von `wort_richtung` eine Liste `am_zug`, welche die\n",
    "Spieler auflistet, wie sie an die Reihe kommen. Die Liste beginnt mit `['A', 'B', 'C', 'D', 'E', 'A', 'B', 'A', ...]`. **Hinweis**: Erstelle eine Liste `players = ['A', 'B', 'C', 'D', 'E'].`\n",
    "Ist gerade der Spieler `players[idx]` am Zug, so ist als n&auml;chstes der Spieler\n",
    "`players[(idx+r) % 5]` and der Reihe, wobei `r` die aktuelle Richtung (-1, oder 1) ist, denn\n",
    "(4+1) % 5 = 0 und -1 % 5 = 4.\n",
    "1. Erstelle aus `am_zug` und `spielverlauf` eine Liste `script`, die auflistet, welcher Spieler was sagt.  \n",
    "`script = ['A: 1', 'B: 2', 'C: 3', 'D: 4', 'E: 5', 'A: 6', 'B: bösi(7)', 'A: 8', 'E: 9', ...]`.  "
   ]
  },
  {
   "cell_type": "code",
   "execution_count": null,
   "id": "c8fc8a7b-d905-4933-8754-ca7e0365cafe",
   "metadata": {},
   "outputs": [],
   "source": []
  }
 ],
 "metadata": {
  "kernelspec": {
   "display_name": "Python 3 (ipykernel)",
   "language": "python",
   "name": "python3"
  },
  "language_info": {
   "codemirror_mode": {
    "name": "ipython",
    "version": 3
   },
   "file_extension": ".py",
   "mimetype": "text/x-python",
   "name": "python",
   "nbconvert_exporter": "python",
   "pygments_lexer": "ipython3",
   "version": "3.12.0"
  }
 },
 "nbformat": 4,
 "nbformat_minor": 5
}
