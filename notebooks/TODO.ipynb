{
 "cells": [
  {
   "cell_type": "markdown",
   "id": "e57b6802-1c85-4006-ba44-6d591cad660c",
   "metadata": {},
   "source": [
    "Kann jamand, z.B. der Klassenchef:in noch eine Liste mit 4-5er Gruppen von Personen erstellen, die zusammen in einem Teams-Raum sein moechten?\n",
    "Vielen Dank, Dieter"
   ]
  },
  {
   "cell_type": "markdown",
   "id": "fbae3b87-ad98-4281-b557-cccafdde1194",
   "metadata": {},
   "source": [
    "imports\n",
    "\n",
    "braucht import verzeichnis, das Funktioniert, und wo module platzieren alle koennen."
   ]
  },
  {
   "cell_type": "code",
   "execution_count": 1,
   "id": "07ca0b27-9dc9-4447-b0b0-26047f2e7ac5",
   "metadata": {},
   "outputs": [
    {
     "name": "stdout",
     "output_type": "stream",
     "text": [
      "4.0.8\n"
     ]
    }
   ],
   "source": [
    "dfd!jupyter-lab --version"
   ]
  },
  {
   "cell_type": "code",
   "execution_count": 1,
   "id": "a8469f1e-e312-4df6-a9ab-2e2bafe098e8",
   "metadata": {},
   "outputs": [
    {
     "data": {
      "text/plain": [
       "'x=5'"
      ]
     },
     "execution_count": 1,
     "metadata": {},
     "output_type": "execute_result"
    }
   ],
   "source": [
    "x = 5dasdf\n",
    "f'{x=}'dfds"
   ]
  },
  {
   "cell_type": "code",
   "execution_count": 3,
   "id": "fa51dc36-9edb-456e-a4e0-be10d5c1e994",
   "metadata": {},
   "outputs": [],
   "source": [
    "def fun():\n",
    "    pass\n",
    "\n",
    "\n",
    "fun()"
   ]
  },
  {
   "cell_type": "code",
   "execution_count": null,
   "id": "a3fb5fce-1b8b-40f9-acd8-2071221d4641",
   "metadata": {},
   "outputs": [],
   "source": [
    "for x in range(5):\n",
    "    # fooo"
   ]
  },
  {
   "cell_type": "code",
   "execution_count": null,
   "id": "9f501c93-29aa-483f-865f-182651812855",
   "metadata": {},
   "outputs": [],
   "source": [
    "print(x, end=', ') "
   ]
  },
  {
   "cell_type": "code",
   "execution_count": null,
   "id": "1e6c1008-c592-4225-a0fb-581f227d7aab",
   "metadata": {},
   "outputs": [],
   "source": [
    "if (x := 3) > 0:\n",
    "    pass"
   ]
  },
  {
   "cell_type": "code",
   "execution_count": 3,
   "id": "784f521b-f04c-4561-8f80-5806b298f4f7",
   "metadata": {},
   "outputs": [
    {
     "name": "stdout",
     "output_type": "stream",
     "text": [
      "x=4\n"
     ]
    }
   ],
   "source": [
    "print(f'{x=}')"
   ]
  },
  {
   "cell_type": "code",
   "execution_count": null,
   "id": "a4353a18-b0ff-4413-8928-6a775f327234",
   "metadata": {},
   "outputs": [],
   "source": [
    "SyntaxError\n",
    "y = 13\n",
    "y"
   ]
  },
  {
   "cell_type": "code",
   "execution_count": null,
   "id": "67cd0f6a-90e1-48e8-a8d3-4e69075d36da",
   "metadata": {},
   "outputs": [],
   "source": [
    "fun()"
   ]
  }
 ],
 "metadata": {
  "kernelspec": {
   "display_name": "Python 3 (ipykernel)",
   "language": "python",
   "name": "python3"
  },
  "language_info": {
   "codemirror_mode": {
    "name": "ipython",
    "version": 3
   },
   "file_extension": ".py",
   "mimetype": "text/x-python",
   "name": "python",
   "nbconvert_exporter": "python",
   "pygments_lexer": "ipython3",
   "version": "3.12.0"
  }
 },
 "nbformat": 4,
 "nbformat_minor": 5
}
