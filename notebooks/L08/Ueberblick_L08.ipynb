{
 "cells": [
  {
   "cell_type": "markdown",
   "id": "357c5831-fe8e-4dba-ac9a-8a61173a09f5",
   "metadata": {},
   "source": [
    "### Lektion 8, &Uuml;berblick und weitere Ressourcen\n",
    "\n",
    "Der Schwerpunkt dieser Lektion liegt auf Dictionaries:\n",
    "- Dictionaries erstellen und modifizieren\n",
    "- Iterieren &uuml;ber Keys, Values und Key-Value Paare\n",
    "- Die Methoden `dict.get` und `dict.setdefault`\n",
    "- Z&auml;hlen mit Dictionaries\n",
    "\n",
    "\n",
    "- Dictionaries [W3Schools](https://www.w3schools.com/python/python_dictionaries.asp).\n",
    "- Dictionaries [Python Docs](https://docs.python.org/3/tutorial/datastructures.html#dictionaries)."
   ]
  }
 ],
 "metadata": {
  "kernelspec": {
   "display_name": "Python 3 (ipykernel)",
   "language": "python",
   "name": "python3"
  },
  "language_info": {
   "codemirror_mode": {
    "name": "ipython",
    "version": 3
   },
   "file_extension": ".py",
   "mimetype": "text/x-python",
   "name": "python",
   "nbconvert_exporter": "python",
   "pygments_lexer": "ipython3",
   "version": "3.12.0"
  }
 },
 "nbformat": 4,
 "nbformat_minor": 5
}
