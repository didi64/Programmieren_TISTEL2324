{
 "cells": [
  {
   "cell_type": "markdown",
   "id": "d2b6c081-297b-4472-b263-69aea6d5d57d",
   "metadata": {},
   "source": [
    "### Module `spielkarten` erstellen\n",
    "Erstelle ein File `spielkarten.py`.  \n",
    "  Kopiere folgenden Code in diese File:  \n",
    "  \n",
    "```python\n",
    "  import random\n",
    "def make_deck():\n",
    "    '''Gibt eine Liste mit 52 Karten zurueck'''\n",
    "    farben = list('♥♠♦♣')\n",
    "    werte = ['A', '2', '3', '4', '5', '6', '7', '8', '9', '10', 'B', 'D', 'K']\n",
    "\n",
    "    deck = []\n",
    "    for farbe in farben:\n",
    "        deck += [wert+farbe for wert in werte]\n",
    "\n",
    "    return deck    \n",
    "\n",
    "def shuffle(deck):\n",
    "    '''deck: list\n",
    "       shuffles the list\n",
    "    '''   \n",
    "    random.shuffle(deck)\n",
    "```  \n",
    "Importiere das Module `spielkarten` und\n",
    "erstelle ein neues Deck mit der Funktion `spielkarten.make_deck`.  \n",
    "Mische dann das Deck mit  `spielkarten.shuffle`"
   ]
  },
  {
   "cell_type": "code",
   "execution_count": null,
   "id": "a7f01913-9020-43cc-9672-5eb061f167ed",
   "metadata": {},
   "outputs": [],
   "source": [
    "%%file spielkarten.py\n",
    "import random\n",
    "def make_deck():\n",
    "    '''Gibt eine Liste mit 52 Karten zurueck'''\n",
    "    farben = list('♥♠♦♣')\n",
    "    werte = ['A', '2', '3', '4', '5', '6', '7', '8', '9', '10', 'B', 'D', 'K']\n",
    "\n",
    "    deck = []\n",
    "    for farbe in farben:\n",
    "        deck += [wert+farbe for wert in werte]\n",
    "\n",
    "    return deck    \n",
    "\n",
    "def shuffle(deck):\n",
    "    '''deck: list\n",
    "       shuffles the list\n",
    "    '''   \n",
    "    random.shuffle(deck)"
   ]
  },
  {
   "cell_type": "code",
   "execution_count": null,
   "id": "40489b8b-46be-4dfe-8c51-950fe3b83077",
   "metadata": {},
   "outputs": [],
   "source": [
    "import spielkarten"
   ]
  },
  {
   "cell_type": "code",
   "execution_count": null,
   "id": "d962f2e0-37c9-4278-b8f2-fd0cb4f4aed1",
   "metadata": {},
   "outputs": [],
   "source": [
    "deck = spielkarten.make_deck()\n",
    "deck[:9]"
   ]
  },
  {
   "cell_type": "code",
   "execution_count": null,
   "id": "1277ebed-c2c8-4044-a0e2-e80fa6267658",
   "metadata": {},
   "outputs": [],
   "source": [
    "spielkarten.shuffle(deck)\n",
    "deck[:9]"
   ]
  },
  {
   "cell_type": "markdown",
   "id": "a4cf938a-8338-45f3-a011-706a369514b4",
   "metadata": {},
   "source": [
    "### Deck mischen. Wieviele Karten bleiben an Ort?\n",
    "Schreibe eine Funktion  \n",
    "```python\n",
    "def get_matches(deck_1, deck_2):\n",
    "    '''gib Anzahl uebereinstimmender Karten zurueck'''\n",
    "    ...\n",
    "```    \n",
    "\n",
    "Teste die Funktion: Mische das Deck 10'000 mal und\n",
    "- Erstelle eine Liste mit den Anzahl Matches.  \n",
    "- Wieviele Matches hat man im Durchschnitt?\n",
    "- Was war die gr&ouml;sste Anzahl Matches?  \n",
    "- Gib aus, wie oft man keinen, einen, zwei, ... Matches erhalten hat."
   ]
  },
  {
   "cell_type": "code",
   "execution_count": null,
   "id": "316d5150-d844-4aea-9cc8-2227b9ab9b41",
   "metadata": {},
   "outputs": [],
   "source": [
    "def get_matches(deck_1, deck_2):\n",
    "    '''gib Anzahl uebereinstimmender Karten zurueck'''\n",
    "    matches = 0\n",
    "    for x,y in zip(deck_1, deck_2):\n",
    "        if x == y:\n",
    "            matches += 1\n",
    "    return matches"
   ]
  },
  {
   "cell_type": "code",
   "execution_count": null,
   "id": "e0558526-b54d-4c78-ac7b-3b7a1881d5f2",
   "metadata": {},
   "outputs": [],
   "source": [
    "deck_org = spielkarten.make_deck()\n",
    "deck = deck_org[:]\n",
    "\n",
    "get_matches(deck_org, deck)"
   ]
  },
  {
   "cell_type": "code",
   "execution_count": null,
   "id": "2c8479bf-71da-443d-9642-f66674cadcff",
   "metadata": {},
   "outputs": [],
   "source": []
  },
  {
   "cell_type": "code",
   "execution_count": null,
   "id": "4522d3fa-fbf0-4b5d-a9c0-a7f047e68566",
   "metadata": {},
   "outputs": [],
   "source": [
    "matches = []\n",
    "for i in range(10_000):\n",
    "    spielkarten.shuffle(deck)\n",
    "   \n",
    "    n = get_matches(deck, deck_org)\n",
    "    matches.append(n)\n",
    "    \n",
    "# durchschnittliche Anzahl Matches    \n",
    "sum(matches)/len(matches)"
   ]
  },
  {
   "cell_type": "code",
   "execution_count": null,
   "id": "17c50536-cf58-43da-8a98-f531bee6b819",
   "metadata": {},
   "outputs": [],
   "source": [
    "# groesste Anzahl Matches\n",
    "max(matches)"
   ]
  },
  {
   "cell_type": "code",
   "execution_count": null,
   "id": "441e4650-7168-47d0-9ffc-852a45ac81e3",
   "metadata": {},
   "outputs": [],
   "source": [
    "# erhalten in diesem Versuch\n",
    "matches.index(7)"
   ]
  },
  {
   "cell_type": "code",
   "execution_count": null,
   "id": "c461c715-cb1c-4248-a867-8056ddd11ec8",
   "metadata": {},
   "outputs": [],
   "source": [
    "# Anzahl von 0 Matches, 1 Match, ...\n",
    "n = max(matches)\n",
    "for i in range(n+1):\n",
    "    m = matches.count(i)\n",
    "    print('{:>2}: {:>4}'.format(i, m))"
   ]
  },
  {
   "cell_type": "code",
   "execution_count": null,
   "id": "be937a75-ace9-439b-9885-5afa7b2e738a",
   "metadata": {},
   "outputs": [],
   "source": []
  }
 ],
 "metadata": {
  "kernelspec": {
   "display_name": "Python 3 (ipykernel)",
   "language": "python",
   "name": "python3"
  },
  "language_info": {
   "codemirror_mode": {
    "name": "ipython",
    "version": 3
   },
   "file_extension": ".py",
   "mimetype": "text/x-python",
   "name": "python",
   "nbconvert_exporter": "python",
   "pygments_lexer": "ipython3",
   "version": "3.12.0"
  }
 },
 "nbformat": 4,
 "nbformat_minor": 5
}
