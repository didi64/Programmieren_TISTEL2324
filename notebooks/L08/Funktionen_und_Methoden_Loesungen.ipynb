{
 "cells": [
  {
   "cell_type": "code",
   "execution_count": null,
   "id": "7f084f76-1ec5-4fdf-b4dc-9f27477d08fd",
   "metadata": {},
   "outputs": [],
   "source": [
    "def reverse_list(lst):\n",
    "    '''ordnet die Elemene von lst um:\n",
    "       i. Element wird i.-letztes Element\n",
    "    '''   \n",
    "    n = len(lst)\n",
    "    for i in range(n//2):\n",
    "        lst[i], lst[-i-1] = lst[-i-1], lst[i]"
   ]
  },
  {
   "cell_type": "markdown",
   "id": "1b7e4922-eb8c-4148-9d52-66bcc5cc400d",
   "metadata": {},
   "source": [
    "### Wieso ist auch `y` umgedreht?"
   ]
  },
  {
   "cell_type": "code",
   "execution_count": null,
   "id": "be937a75-ace9-439b-9885-5afa7b2e738a",
   "metadata": {},
   "outputs": [],
   "source": [
    "x = [1,2,3]\n",
    "y = x\n",
    "reverse_list(x)\n",
    "print('x:', x)\n",
    "print('y:', y)"
   ]
  },
  {
   "cell_type": "markdown",
   "id": "52e44703-239f-4fc5-a676-b4e86ce95010",
   "metadata": {},
   "source": [
    "***\n",
    "**Antwort**: Nach `x = y` referenzieren die Variabeln `x` und `y` die **gleiche** Liste!\n",
    "***"
   ]
  },
  {
   "cell_type": "code",
   "execution_count": null,
   "id": "20b67cd2-6ea7-4b67-bf31-a390a16b6693",
   "metadata": {},
   "outputs": [],
   "source": [
    "# Memoryadresse von x und y\n",
    "id(x), id(y)"
   ]
  },
  {
   "cell_type": "code",
   "execution_count": null,
   "id": "5c797548-3444-49c5-99b9-fca8ae012746",
   "metadata": {},
   "outputs": [],
   "source": [
    "# x und y referenzieren die gleiche Liste\n",
    "x is y"
   ]
  },
  {
   "cell_type": "markdown",
   "id": "cb379a4d-d806-4efb-af44-e6d49f3d579c",
   "metadata": {},
   "source": [
    "### Kopie von `x` erstellen"
   ]
  },
  {
   "cell_type": "code",
   "execution_count": null,
   "id": "3d3b30e7-3865-4444-9a9a-2cc5d1aacf42",
   "metadata": {},
   "outputs": [],
   "source": [
    "# 3 Varianten, eine Kopie von x zu erstellen\n",
    "x = [1, 2, 3]\n",
    "copie_1 = [element for element in x]\n",
    "copie_2 = x[:]\n",
    "copie_3 = x.copy()\n",
    "\n",
    "copies = [copie_1, copie_2, copie_3]"
   ]
  },
  {
   "cell_type": "code",
   "execution_count": null,
   "id": "f990b751-c44f-46c1-8eab-7dbc15d6fc41",
   "metadata": {},
   "outputs": [],
   "source": [
    "# nur x wird umgedreht\n",
    "reverse_list(x)\n",
    "print('x:', x)\n",
    "for i, copy in enumerate(copies):\n",
    "    print('copie_{}: {}'.format(i+1, copy))"
   ]
  },
  {
   "cell_type": "code",
   "execution_count": null,
   "id": "8481bc11-2891-45b5-871e-e3e38d45103e",
   "metadata": {},
   "outputs": [],
   "source": [
    "# Die Listen x, copie_1, copie_2, copie_3 sind alles verschiedene Listen!\n",
    "print(x, copie_1, copie_2, copie_3)\n",
    "copie_1[0] = 'a'\n",
    "copie_2[0] = 'b'\n",
    "copie_3[0] = 'c'\n",
    "print(x, copie_1, copie_2, copie_3)"
   ]
  }
 ],
 "metadata": {
  "kernelspec": {
   "display_name": "Python 3 (ipykernel)",
   "language": "python",
   "name": "python3"
  },
  "language_info": {
   "codemirror_mode": {
    "name": "ipython",
    "version": 3
   },
   "file_extension": ".py",
   "mimetype": "text/x-python",
   "name": "python",
   "nbconvert_exporter": "python",
   "pygments_lexer": "ipython3",
   "version": "3.12.0"
  }
 },
 "nbformat": 4,
 "nbformat_minor": 5
}
