{
 "cells": [
  {
   "cell_type": "markdown",
   "id": "6d232e7c-050b-4ea8-bd33-57a52ce795a9",
   "metadata": {},
   "source": [
    "### Multiassignment Trick, Werte vertauschen"
   ]
  },
  {
   "cell_type": "code",
   "execution_count": null,
   "id": "2117a11b-0f6c-44aa-89a2-0df1f1316e0a",
   "metadata": {},
   "outputs": [],
   "source": [
    "a = 3\n",
    "b = 5"
   ]
  },
  {
   "cell_type": "code",
   "execution_count": null,
   "id": "fc4b7071-84f2-4783-9fec-c5e1085e800d",
   "metadata": {},
   "outputs": [],
   "source": [
    "# Werte vertauschen mit Hilfsvariable tmp\n",
    "tmp = a\n",
    "a = b\n",
    "b = tmp\n",
    "a, b"
   ]
  },
  {
   "cell_type": "code",
   "execution_count": null,
   "id": "700f3014-9705-4748-ad85-c0659927800f",
   "metadata": {},
   "outputs": [],
   "source": [
    "# Werte vertauschen mit Multiassignment\n",
    "b, a = a, b\n",
    "a, b"
   ]
  },
  {
   "cell_type": "markdown",
   "id": "c99317c6-1035-41f1-ba2d-ebdc76d31f47",
   "metadata": {},
   "source": [
    "### Funktionen die Wert zur&uuml;ckgeben und Funktionen die nur etwas tun (Methoden)"
   ]
  },
  {
   "cell_type": "markdown",
   "id": "baf841a4-805c-4031-9579-45a03171d1ec",
   "metadata": {},
   "source": [
    "***\n",
    "Funktion die berechneten Wert (Durchschnitt) zur&uuml;ck gibt\n",
    "***"
   ]
  },
  {
   "cell_type": "code",
   "execution_count": null,
   "id": "a5b5adf3-3586-4eff-9f29-942f4990374b",
   "metadata": {},
   "outputs": [],
   "source": [
    "# Funktion die berechneten Wert zurueck gibt\n",
    "def average(lst):\n",
    "    '''gibt Durchschnitt der Zahlen in der Liste lst zurueck'''\n",
    "    res = sum(lst)/len(lst)\n",
    "    return res"
   ]
  },
  {
   "cell_type": "code",
   "execution_count": null,
   "id": "be9144ca-2259-4f5c-a76c-c8e80c295342",
   "metadata": {},
   "outputs": [],
   "source": [
    "numbers = [4, 6, 10, 10]\n",
    "avg = average(numbers)\n",
    "print('Der Durchschnitt der Zahlen in {} ist {}'.format(numbers, avg))"
   ]
  },
  {
   "cell_type": "markdown",
   "id": "47a09743-c10d-40eb-af9e-3cffb13babaf",
   "metadata": {},
   "source": [
    "***\n",
    "Funktion die berechneten Wert nur ausgibt\n",
    "***"
   ]
  },
  {
   "cell_type": "code",
   "execution_count": null,
   "id": "73a29e9b-81b6-4499-bba7-952ffc29318c",
   "metadata": {},
   "outputs": [],
   "source": [
    "def print_average(lst):\n",
    "    '''gibt Durchschnitt der Zahlen in der Liste lst zurueck'''\n",
    "    res = sum(lst)/len(lst)\n",
    "    print(res)"
   ]
  },
  {
   "cell_type": "code",
   "execution_count": null,
   "id": "8aa326bb-5210-4449-813a-8aa025856d29",
   "metadata": {},
   "outputs": [],
   "source": [
    "numbers = [4, 6, 10, 12]\n",
    "avg = print_average(numbers)\n",
    "print('Rueckgabewert von print_average: {}'.format(avg))"
   ]
  },
  {
   "cell_type": "markdown",
   "id": "e48b1996-0e21-40db-9d0f-a810a611ffc9",
   "metadata": {},
   "source": [
    "***\n",
    "Funktion schreiben, die Liste umdreht, aber nichts (None) zur&uuml;ck gibt\n",
    "***"
   ]
  },
  {
   "cell_type": "code",
   "execution_count": null,
   "id": "6ccc255b-409b-4925-b4df-179716d23ad8",
   "metadata": {},
   "outputs": [],
   "source": [
    "# Liste erstellen\n",
    "lst = [1, 2, 3, 4]\n",
    "lst"
   ]
  },
  {
   "cell_type": "code",
   "execution_count": null,
   "id": "3378d32f-98cf-4134-88ff-bb084d3ca9ce",
   "metadata": {},
   "outputs": [],
   "source": [
    "# neue Liste wird erstellt!\n",
    "lst_rev = lst[::-1]\n",
    "print(lst)\n",
    "print(lst_rev)"
   ]
  },
  {
   "cell_type": "code",
   "execution_count": null,
   "id": "598ff0fd-1ab3-413e-a5ef-ad277927de6e",
   "metadata": {},
   "outputs": [],
   "source": [
    "# erstes und letztes Element tauschen\n",
    "lst[0], lst[3] = lst[3], lst[0]\n",
    "lst"
   ]
  },
  {
   "cell_type": "code",
   "execution_count": null,
   "id": "4b7517ca-7f49-4425-b786-3e9c9473341f",
   "metadata": {},
   "outputs": [],
   "source": [
    "# mittlere Elemente tauschen\n",
    "lst[1], lst[2] = lst[2], lst[1]\n",
    "lst"
   ]
  },
  {
   "cell_type": "code",
   "execution_count": null,
   "id": "2235b9d1-257b-43bb-badd-a83fdaf6545c",
   "metadata": {},
   "outputs": [],
   "source": [
    "# Ganzzahl Division //\n",
    "# Resultat ist ein int\n",
    "\n",
    "x = 5 // 2\n",
    "x"
   ]
  },
  {
   "cell_type": "code",
   "execution_count": null,
   "id": "3e9c6917-b917-4e92-b126-33343928bad1",
   "metadata": {},
   "outputs": [],
   "source": [
    "# Listen umdrehen ohne eine neue Liste zu erstellen\n",
    "# die vorderen mit den hinteren Elementen tauschen\n",
    "\n",
    "n = len(lst)\n",
    "for i in range(n//2):\n",
    "    lst[i], lst[-i-1] = lst[-i-1], lst[i]\n",
    "lst    "
   ]
  },
  {
   "cell_type": "code",
   "execution_count": null,
   "id": "7ea0990f-fea6-4810-b096-eda7a024fa5a",
   "metadata": {},
   "outputs": [],
   "source": [
    "def reverse_list(lst):\n",
    "    '''ordnet die Elemene von lst um:\n",
    "       0-tes Element wird letztes Element ([-1]),\n",
    "       1-tes lement wird 2. letztes Element ([-2]), ...\n",
    "    '''   \n",
    "    n = len(lst)\n",
    "    for i in range(n//2):\n",
    "        lst[i], lst[-i-1] = lst[-i-1], lst[i]"
   ]
  },
  {
   "cell_type": "code",
   "execution_count": null,
   "id": "40343fcb-9f1e-4293-abd2-a09017193d25",
   "metadata": {},
   "outputs": [],
   "source": [
    "letters = list('abcde')"
   ]
  },
  {
   "cell_type": "code",
   "execution_count": null,
   "id": "b7efff3a-53e5-4e79-9e2f-db9248250c1a",
   "metadata": {},
   "outputs": [],
   "source": [
    "reverse_list(letters)\n",
    "letters"
   ]
  },
  {
   "cell_type": "markdown",
   "id": "e1be0133-1050-487f-a2da-265144fc1303",
   "metadata": {},
   "source": [
    "### Wieso ist auch `y` umgedreht?"
   ]
  },
  {
   "cell_type": "code",
   "execution_count": null,
   "id": "53a7a567-7475-4087-8c05-8c93c0185787",
   "metadata": {},
   "outputs": [],
   "source": [
    "x = [1, 2, 3]\n",
    "y = x\n",
    "reverse_list(x)\n",
    "print('x:', x)\n",
    "print('y:', y)"
   ]
  },
  {
   "cell_type": "markdown",
   "id": "98bc8eab-7b01-4f45-bc83-9222619f9515",
   "metadata": {},
   "source": [
    "### Aufgabe\n",
    "Modifiziere obigen Code, so dass `y` eine Kopie der Liste `x` enth&auml;lt  und `print('y:', y)` dann  `y: [1, 2, 3]` ausgibt."
   ]
  }
 ],
 "metadata": {
  "kernelspec": {
   "display_name": "Python 3 (ipykernel)",
   "language": "python",
   "name": "python3"
  },
  "language_info": {
   "codemirror_mode": {
    "name": "ipython",
    "version": 3
   },
   "file_extension": ".py",
   "mimetype": "text/x-python",
   "name": "python",
   "nbconvert_exporter": "python",
   "pygments_lexer": "ipython3",
   "version": "3.12.0"
  }
 },
 "nbformat": 4,
 "nbformat_minor": 5
}
