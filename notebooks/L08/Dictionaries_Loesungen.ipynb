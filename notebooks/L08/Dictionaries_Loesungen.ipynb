{
 "cells": [
  {
   "cell_type": "markdown",
   "id": "6754a1fc-37b1-45bf-880e-f3d770945cc6",
   "metadata": {},
   "source": [
    "### Dictionaries, L&ouml;sungen\n",
    "**Aufgabe**:  \n",
    "Ersetze in obigem Code die Anweisungen `d[ch] = d.get(ch, 0) + 1` und\n",
    "`d.setdefault(ch, []).append(i)` durch einen if-else Block, der ohne die Dictionary-Methoden\n",
    "`get` und `setdefault` auskommt.  \n",
    "\n",
    "Implementiere nun folgende beiden Funktionen.\n",
    "\n",
    "```python\n",
    "def count_dict(text):\n",
    "    '''gib einen Dictionary der Form \n",
    "       `{<Buchstabe>: <Anzahl Auftreten des Buchstabens im Text>, ...  }`\n",
    "        zurueck\n",
    "    '''\n",
    "    ...\n",
    "    \n",
    "def pos_dict(text): \n",
    "    '''gib einen Dictionary der Form \n",
    "       `{<Buchstabe>: <Liste mit Positionen, an denen Buchstabens im Text auftritt>, ...  }`\n",
    "        zurueck\n",
    "    '''\n",
    "    ...\n",
    "    \n",
    "```    "
   ]
  },
  {
   "cell_type": "code",
   "execution_count": null,
   "id": "6070c88c-f1c5-46fa-b949-655da9597ca3",
   "metadata": {},
   "outputs": [],
   "source": [
    "word = 'abakadabra'\n",
    "d = {}\n",
    "for ch in word:\n",
    "    # falls Buchstabe bereits Schluessel von d\n",
    "    # erhoehe Count um 1\n",
    "    if ch in d:\n",
    "        d[ch] +=1\n",
    "    # falls  Buchstabe noch kein Schluessel von d   \n",
    "    # nimm das Paar Buchstabe: 1 in den Dict auf\n",
    "    else:\n",
    "        d[ch] =1\n",
    "        \n",
    "d   "
   ]
  },
  {
   "cell_type": "code",
   "execution_count": null,
   "id": "026eb88c-dd54-4e79-ab4f-5fa5514c6c80",
   "metadata": {},
   "outputs": [],
   "source": [
    "word = 'abakadabra'\n",
    "d = {}\n",
    "for i, ch in enumerate(word):\n",
    "    # falls Buchstabe bereits Schluessel von d\n",
    "    # haenge Position i vom Buchstaben an die Liste an\n",
    "    if ch in d:\n",
    "        d[ch].append(i)\n",
    "    # falls  Buchstabe noch kein Schluessel von d   \n",
    "    # nimm das Paar Buchstabe: [i] in den Dict auf    \n",
    "    else:\n",
    "        d[ch] = [i]\n",
    "\n",
    "d   "
   ]
  },
  {
   "cell_type": "code",
   "execution_count": null,
   "id": "e7c7a210-d2e8-4a98-b188-fe2aa0767a7b",
   "metadata": {},
   "outputs": [],
   "source": [
    "def count_dict(text):\n",
    "    d = {}\n",
    "    for ch in word:\n",
    "        d[ch] = d.get(ch, 0) + 1\n",
    "    return d"
   ]
  },
  {
   "cell_type": "code",
   "execution_count": null,
   "id": "5a1e3e9c-d7cc-4f01-b362-0699045f6fcd",
   "metadata": {},
   "outputs": [],
   "source": [
    "word = 'abakadabra'\n",
    "cd = count_dict(word)\n",
    "cd"
   ]
  },
  {
   "cell_type": "code",
   "execution_count": null,
   "id": "9dba51bc-9961-4e41-a8d0-e3bd34d79297",
   "metadata": {},
   "outputs": [],
   "source": [
    "def pos_dict(text):\n",
    "    d = {}\n",
    "    for i, ch in enumerate(word):\n",
    "        d.setdefault(ch, []).append(i)\n",
    "    return d    "
   ]
  },
  {
   "cell_type": "code",
   "execution_count": null,
   "id": "5c89c670-0d51-468f-857b-3e69ec7367dd",
   "metadata": {},
   "outputs": [],
   "source": [
    "word = 'abakadabra'\n",
    "pd = pos_dict(word)\n",
    "pd"
   ]
  },
  {
   "cell_type": "code",
   "execution_count": null,
   "id": "f52f5e0f-b693-44ea-99cf-601092a4736c",
   "metadata": {},
   "outputs": [],
   "source": [
    "idxs_a = pd['a']\n",
    "for i in idxs_a:\n",
    "    print('Position: {}, Buchstabe: {}'.format(i, word[i]))"
   ]
  },
  {
   "cell_type": "code",
   "execution_count": null,
   "id": "196f5aba-829f-4cb2-bb29-37ff159e8077",
   "metadata": {},
   "outputs": [],
   "source": [
    "# Dictionary kz_kt umdrehen\n",
    "from kz_kt import d"
   ]
  },
  {
   "cell_type": "code",
   "execution_count": null,
   "id": "198e3ab6-1726-45cc-b8b8-e6344fa69bd3",
   "metadata": {},
   "outputs": [],
   "source": [
    "# d"
   ]
  },
  {
   "cell_type": "code",
   "execution_count": null,
   "id": "c697cf11-e7a1-45b3-828e-18ba87e0e515",
   "metadata": {},
   "outputs": [],
   "source": [
    "kt_kz = {}\n",
    "for kz,kt in d.items():\n",
    "    kt_kz[kt] = kz\n",
    "    \n",
    "# kt_kz   "
   ]
  },
  {
   "cell_type": "code",
   "execution_count": null,
   "id": "4da81b30-3c06-4700-9f0c-f953e4815bae",
   "metadata": {},
   "outputs": [],
   "source": [
    "# Anzahl Kantone pro Anfangsbuchstaben\n",
    "d1 = {}\n",
    "for kt in d.values():\n",
    "    d1[kt[0]] = d1.get(kt[0], 0) +1\n",
    "\n",
    "d1"
   ]
  },
  {
   "cell_type": "code",
   "execution_count": null,
   "id": "f181aae5-4717-4f1c-a808-ea6f3dc260a0",
   "metadata": {},
   "outputs": [],
   "source": [
    "# Kantonsliste zu Anfangsbuchstaben\n",
    "d2 = {}\n",
    "for kt in d.values():\n",
    "    d2.setdefault(kt[0], []).append(kt) \n",
    "\n",
    "d2"
   ]
  }
 ],
 "metadata": {
  "kernelspec": {
   "display_name": "Python 3 (ipykernel)",
   "language": "python",
   "name": "python3"
  },
  "language_info": {
   "codemirror_mode": {
    "name": "ipython",
    "version": 3
   },
   "file_extension": ".py",
   "mimetype": "text/x-python",
   "name": "python",
   "nbconvert_exporter": "python",
   "pygments_lexer": "ipython3",
   "version": "3.8.10"
  }
 },
 "nbformat": 4,
 "nbformat_minor": 5
}
