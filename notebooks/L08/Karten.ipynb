{
 "cells": [
  {
   "cell_type": "markdown",
   "id": "d2b6c081-297b-4472-b263-69aea6d5d57d",
   "metadata": {},
   "source": [
    "### Ein Stapel Karten\n",
    "Ziel: \n",
    "- Deck erstellen, d.h. Liste mit allen 52 Karten.\n",
    "- Funktion schreiben, welche ein Deck erstellt.\n",
    "- Methode im Moduls `random` finden, welche ein Deck mischt.\n",
    "- Deck 10'000 mal mischen und untersuchen, wieviele Karten jeweils an der urspr&uuml;nglichen Position landen.  "
   ]
  },
  {
   "cell_type": "code",
   "execution_count": null,
   "id": "1b264af4-51eb-4951-a515-f0416e69a0f1",
   "metadata": {},
   "outputs": [],
   "source": [
    "farben = list('♥♠♦♣') # copy paste form https://en.wikipedia.org/wiki/Playing_cards_in_Unicode\n",
    "farben"
   ]
  },
  {
   "cell_type": "code",
   "execution_count": null,
   "id": "4d9662a5-2dcc-448d-a3c3-889178dc4f32",
   "metadata": {},
   "outputs": [],
   "source": [
    "werte = list(range(2,11)) + list('BDKA')\n",
    "werte"
   ]
  },
  {
   "cell_type": "code",
   "execution_count": null,
   "id": "4270fe09-de53-4fed-9c9b-e9cbb53ef548",
   "metadata": {},
   "outputs": [],
   "source": [
    "# Letztes Element aus Liste entfernen \n",
    "# und an erster Position wieder einfuegen\n",
    "\n",
    "ace = werte.pop()\n",
    "print(ace)\n",
    "werte"
   ]
  },
  {
   "cell_type": "code",
   "execution_count": null,
   "id": "26df33dd-9e4a-4ccf-98d5-d6241d872c68",
   "metadata": {},
   "outputs": [],
   "source": [
    "werte.insert(0, ace)\n",
    "werte"
   ]
  },
  {
   "cell_type": "code",
   "execution_count": null,
   "id": "ec9dbc4d-1eb1-4c6d-a010-a03d042b0c91",
   "metadata": {},
   "outputs": [],
   "source": [
    "# Liste werte ist gemischt: enthaelt Objekte vom Typ int und str\n",
    "[type(w) for w in werte]"
   ]
  },
  {
   "cell_type": "code",
   "execution_count": null,
   "id": "64ef1c6a-d4d7-4549-b568-98e3d0f68485",
   "metadata": {},
   "outputs": [],
   "source": [
    "# Herz ist erste Farbe\n",
    "herz = farben[0]\n",
    "herz"
   ]
  },
  {
   "cell_type": "code",
   "execution_count": null,
   "id": "b55a1581-6eb8-4213-ad90-7cc136a07019",
   "metadata": {},
   "outputs": [],
   "source": [
    "# Alle Herzkarten\n",
    "herze = ['{}{}'.format(wert, herz) for wert in werte]\n",
    "herze"
   ]
  },
  {
   "cell_type": "code",
   "execution_count": null,
   "id": "66b12e3f-3c4e-4185-aed0-99271cdc2aeb",
   "metadata": {},
   "outputs": [],
   "source": [
    "# Alle Schaufelkarten\n",
    "schaufeln = ['{}{}'.format(wert, farben[1]) for wert in werte]\n",
    "schaufeln"
   ]
  },
  {
   "cell_type": "code",
   "execution_count": null,
   "id": "3f029f25-9989-47be-bf3c-e30f91d1f4c8",
   "metadata": {},
   "outputs": [],
   "source": [
    "# wieso funktioniert das nicht? Korrigiere!\n",
    "[wert +  farben[2] for wert in werte]"
   ]
  },
  {
   "cell_type": "code",
   "execution_count": null,
   "id": "ec8868ef-1b40-477c-82dc-eb1814a8a82a",
   "metadata": {},
   "outputs": [],
   "source": [
    "# muss sicherstellen, dass wert vom Typ str ist!\n",
    "ecken = [str(wert) +  farben[2] for wert in werte]\n",
    "ecken"
   ]
  },
  {
   "cell_type": "code",
   "execution_count": null,
   "id": "61d2d451-8602-4d94-a33b-8be936c4a24c",
   "metadata": {},
   "outputs": [],
   "source": [
    "# besser: alle Elemente der Liste werte in Strings umwandeln\n",
    "werte = [str(wert)  for wert in werte]\n",
    "kreuze = [wert +  farben[3] for wert in werte]\n",
    "kreuze"
   ]
  },
  {
   "cell_type": "code",
   "execution_count": null,
   "id": "1c13f8a5-8580-4535-9852-9b177cabac4f",
   "metadata": {},
   "outputs": [],
   "source": [
    "# gesamtes Deck, die 3 ersten und letzten Karten anzeigen\n",
    "deck = herze + schaufeln + ecken + kreuze\n",
    "print(len(deck))\n",
    "deck[:3], deck[-3:]"
   ]
  },
  {
   "cell_type": "code",
   "execution_count": null,
   "id": "dba22ed9-3549-4fc1-9359-c330fa0fad35",
   "metadata": {},
   "outputs": [],
   "source": [
    "werte"
   ]
  },
  {
   "cell_type": "markdown",
   "id": "ef822de3-d59f-4c13-a17c-a24275a08381",
   "metadata": {},
   "source": [
    "### Deck mit For-Loop erstellen"
   ]
  },
  {
   "cell_type": "code",
   "execution_count": null,
   "id": "d4cdbe53-9d20-4129-b756-862c785436a2",
   "metadata": {},
   "outputs": [],
   "source": [
    "# Liste verlaengern\n",
    "x = [1, 2]\n",
    "x += [3, 4]\n",
    "x"
   ]
  },
  {
   "cell_type": "code",
   "execution_count": null,
   "id": "78dc9df4-3b8d-4d69-a85d-d06c41b95dce",
   "metadata": {},
   "outputs": [],
   "source": [
    "farben = list('♥♠♦♣')\n",
    "werte = ['A', '2', '3', '4', '5', '6', '7', '8', '9', '10', 'B', 'D', 'K']\n",
    "\n",
    "deck = []\n",
    "for farbe in farben:\n",
    "    deck += [wert + farbe for wert in werte]\n",
    "    \n",
    "deck[:2], deck[-2:]    "
   ]
  },
  {
   "cell_type": "code",
   "execution_count": null,
   "id": "4aafae0b-f2c3-4158-b513-0edcda744b94",
   "metadata": {},
   "outputs": [],
   "source": [
    "def make_deck():\n",
    "    farben = list('♥♠♦♣')\n",
    "    werte = ['A', '2', '3', '4', '5', '6', '7', '8', '9', '10', 'B', 'D', 'K']\n",
    "    \n",
    "    deck = []\n",
    "    for farbe in farben:\n",
    "        deck += [wert+farbe for wert in werte]\n",
    "        \n",
    "    return deck    "
   ]
  },
  {
   "cell_type": "code",
   "execution_count": null,
   "id": "40489b8b-46be-4dfe-8c51-950fe3b83077",
   "metadata": {},
   "outputs": [],
   "source": [
    "deck = make_deck()\n",
    "len(deck)"
   ]
  },
  {
   "cell_type": "code",
   "execution_count": null,
   "id": "eed51c2d-c14c-4270-9483-118eacb4292f",
   "metadata": {},
   "outputs": [],
   "source": [
    "# gibt es eine Methode im modul random zum Mischen der Karten?\n",
    "import random\n",
    "# random."
   ]
  },
  {
   "cell_type": "code",
   "execution_count": null,
   "id": "9b9dadee-cc6a-4974-802c-f716d5de9b00",
   "metadata": {},
   "outputs": [],
   "source": [
    "deck_org = make_deck()\n",
    "deck = [card for card in deck_org] \n",
    "# oder\n",
    "# deck = deck_org[:]\n",
    "# deck = deck_org.copy()\n",
    "random.shuffle(deck)\n",
    "deck[:3], deck[-3:]"
   ]
  },
  {
   "cell_type": "code",
   "execution_count": null,
   "id": "a680dc7f-9cb1-4e1f-a409-270861b5f808",
   "metadata": {},
   "outputs": [],
   "source": [
    "# Wieviele Karten der beiden Decks stimmen ueberein?\n",
    "tot = 0\n",
    "for x,y in zip(deck_org, deck):\n",
    "    if x == y:\n",
    "        tot += 1\n",
    "tot        "
   ]
  },
  {
   "cell_type": "markdown",
   "id": "c63fd615-42e9-400a-9b4f-c5c3e72f0ede",
   "metadata": {},
   "source": [
    "### Modul `spielkarten` erstellen\n",
    "Erstelle ein File `spielkarten.py`.  \n",
    "Kopiere folgenden Code in diese File:  \n",
    "  \n",
    "```python\n",
    "  \n",
    "import random\n",
    "def make_deck():\n",
    "    '''Gibt eine Liste mit 52 Karten zurueck'''\n",
    "    farben = list('♥♠♦♣')\n",
    "    werte = ['A', '2', '3', '4', '5', '6', '7', '8', '9', '10', 'B', 'D', 'K']\n",
    "\n",
    "    deck = []\n",
    "    for farbe in farben:\n",
    "        deck += [wert+farbe for wert in werte]\n",
    "\n",
    "    return deck    \n",
    "\n",
    "def shuffle(deck):\n",
    "    '''deck: list\n",
    "       shuffles the list\n",
    "    '''   \n",
    "    random.shuffle(deck)\n",
    "```  \n",
    "Importiere das Module `spielkarten` und\n",
    "erstelle ein neues Deck mit der Funktion `spielkarten.make_deck`.  \n",
    "Mische dann das Deck mit  `spielkarten.shuffle`\n"
   ]
  },
  {
   "cell_type": "markdown",
   "id": "6235b21d-d181-45e0-bf95-f6532778aa74",
   "metadata": {},
   "source": [
    "### Deck mischen. Wieviele Karten bleiben an Ort?\n",
    "Schreibe eine Funktion  \n",
    "```python\n",
    "def get_matches(deck_1, deck_2):\n",
    "    '''gib Anzahl uebereinstimmender Karten zurueck'''\n",
    "    ...\n",
    "```    \n",
    "\n",
    "Teste die Funktion: Mische das Deck 10'000 mal und\n",
    "- Erstelle eine Liste mit den Anzahl Matches.  \n",
    "- Wieviele Matches hat man im Durchschnitt?\n",
    "- Was war die gr&ouml;sste Anzahl Matches?  \n",
    "- Gib aus, wie oft man keinen, einen, zwei, ... Matches erhalten hat."
   ]
  },
  {
   "cell_type": "code",
   "execution_count": null,
   "id": "ce07f8ba-7203-4414-9a31-04399907cbee",
   "metadata": {},
   "outputs": [],
   "source": [
    "x = [1,1,3,4,4,4,5,10,0,0,0]"
   ]
  },
  {
   "cell_type": "code",
   "execution_count": null,
   "id": "a3cb004d-70ab-4b32-997b-132689240f03",
   "metadata": {},
   "outputs": [],
   "source": [
    "# Wie oft kommt der Wert 0 in der Liste x vor?\n",
    "x.count(0)"
   ]
  },
  {
   "cell_type": "code",
   "execution_count": null,
   "id": "ea1ec3b5-f5f5-428c-8eae-5ca4a13f3e9c",
   "metadata": {},
   "outputs": [],
   "source": [
    "# Groesster Wert in der Liste x\n",
    "max(x)"
   ]
  },
  {
   "cell_type": "code",
   "execution_count": null,
   "id": "197b3275-8844-4b78-aded-54a2ca1e3625",
   "metadata": {},
   "outputs": [],
   "source": []
  }
 ],
 "metadata": {
  "kernelspec": {
   "display_name": "Python 3 (ipykernel)",
   "language": "python",
   "name": "python3"
  },
  "language_info": {
   "codemirror_mode": {
    "name": "ipython",
    "version": 3
   },
   "file_extension": ".py",
   "mimetype": "text/x-python",
   "name": "python",
   "nbconvert_exporter": "python",
   "pygments_lexer": "ipython3",
   "version": "3.12.0"
  }
 },
 "nbformat": 4,
 "nbformat_minor": 5
}
