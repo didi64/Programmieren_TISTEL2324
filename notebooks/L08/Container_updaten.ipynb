{
 "cells": [
  {
   "cell_type": "markdown",
   "id": "ef7039ce-2fb1-44ed-8a6e-03aec7ec46d2",
   "metadata": {},
   "source": [
    "### Docker Image update\n",
    "- Starte Docker-Desktop\n",
    "- &Ouml;ffne ein Command-Prompt und tippe:  \n",
    "  `docker pull dieterprobst/juplab:1.3`  \n",
    "  (bez. auf Mac `docker pull dieterprobst/muplab:1.3`)\n",
    "- Den alten Container kann man nun l&ouml;schen.\n",
    "- Neues Image starten:\n",
    "\n",
    "\n",
    "In Docker-Desktop: Klicke rechts auf Images. Bewege die Mause über die Zeile\n",
    "dieterprobst/juplab:1.3 und klicke \"run\". Expandiere \"Optional Settings\".\n",
    "```\n",
    "Ports  \n",
    "Local Host                    Container-Port\n",
    "10000                         8888/tcp\n",
    "\n",
    "Volumes\n",
    "Host Path                     Container Path\n",
    "waehle Ordner programmieren   /home/tistel/work\n",
    "```"
   ]
  },
  {
   "cell_type": "code",
   "execution_count": null,
   "id": "122cfb41-25e5-4457-a003-0e76b7652213",
   "metadata": {},
   "outputs": [],
   "source": [
    "### Lokale Installation von Jupyterlab: `sys.path` beim Startup modifizieren\n",
    "- \n",
    "\n",
    "\n",
    "Erstelle im Ordner  \n",
    "`.ipython/profile_default/startup$`\n",
    "\n",
    "ein File `50_append_to_syspath.py` mit dem Inhalt\n",
    "\n",
    "```python\n",
    "import sys\n",
    "\n",
    "path = '/home/probst/Projects/JupyterNotebooks/modules']\n",
    "sys.path.insert(0, path)\n",
    "        \n",
    "del path\n",
    "```"
   ]
  },
  {
   "cell_type": "code",
   "execution_count": null,
   "id": "79803e04-dd35-47aa-854c-5bac76dbfa78",
   "metadata": {},
   "outputs": [],
   "source": []
  }
 ],
 "metadata": {
  "kernelspec": {
   "display_name": "Python 3 (ipykernel)",
   "language": "python",
   "name": "python3"
  },
  "language_info": {
   "codemirror_mode": {
    "name": "ipython",
    "version": 3
   },
   "file_extension": ".py",
   "mimetype": "text/x-python",
   "name": "python",
   "nbconvert_exporter": "python",
   "pygments_lexer": "ipython3",
   "version": "3.12.0"
  }
 },
 "nbformat": 4,
 "nbformat_minor": 5
}
