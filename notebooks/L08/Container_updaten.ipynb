{
 "cells": [
  {
   "cell_type": "markdown",
   "id": "ef7039ce-2fb1-44ed-8a6e-03aec7ec46d2",
   "metadata": {},
   "source": [
    "### Docker Image update\n",
    "- Starte Docker-Desktop\n",
    "- &Ouml;ffne ein Command-Prompt und tippe:  \n",
    "  `docker pull dieterprobst/juplab:1.3`  \n",
    "  (bez. auf Mac `docker pull dieterprobst/muplab:1.3`)\n",
    "- Den alten Container kann man nun l&ouml;schen.\n",
    "- Neues Image starten:\n",
    "\n",
    "\n",
    "In Docker-Desktop: Klicke rechts auf Images. Bewege die Mause über die Zeile\n",
    "dieterprobst/juplab:1.3 und klicke \"run\". Expandiere \"Optional Settings\".\n",
    "```\n",
    "Ports  \n",
    "Local Host                    Container-Port\n",
    "10000                         8888/tcp\n",
    "\n",
    "Volumes\n",
    "Host Path                     Container Path\n",
    "waehle Ordner programmieren   /home/tistel/work\n",
    "```"
   ]
  },
  {
   "cell_type": "markdown",
   "id": "66d4b8f3-4710-426c-b32c-fde186bc31b4",
   "metadata": {},
   "source": [
    "### `sys.path` beim Startup modifizieren bei lokale Installation von Jupyterlab\n",
    "\n",
    "Erstelle im Ordner  (passe `C:\\Users\\diete` entsprechend an)  \n",
    "\n",
    "`C:\\Users\\diete\\.ipython\\profile_default\\startup`\n",
    "\n",
    "ein File `50_append_to_syspath.py` mit dem Inhalt\n",
    "\n",
    "```python\n",
    "import sys\n",
    "\n",
    "# Pfad der zu sys.path hinzugefuegt wird, beachte das r (raw String, wegen den Backslashes)\n",
    "# passe den Pfad entsprechend an\n",
    "path = r'C:\\Users\\diete\\programmieren\\modules'\n",
    "sys.path.insert(0, path)\n",
    "       \n",
    "del path\n",
    "```\n",
    "\n",
    "**Erl&auml;uterung**:  \n",
    "Wird in Jupterlab ein Notebook ge&ouml;ffnet, so werden zuerst\n",
    "alle `.py` Files im Ordner `C:\\Users\\diete\\.ipython\\profile_default\\startup` \n",
    "in alphabetischer Reihenfolge ausgef&uuml;hrt.  \n",
    "\n",
    "Wird z.B. sp&auml;ter ein File `10_do_stuff.py` in diesem Ordner erstellt, wird es vor\n",
    "`50_append_to_syspath.py` ausgef&uuml;hrt."
   ]
  }
 ],
 "metadata": {
  "kernelspec": {
   "display_name": "Python 3 (ipykernel)",
   "language": "python",
   "name": "python3"
  },
  "language_info": {
   "codemirror_mode": {
    "name": "ipython",
    "version": 3
   },
   "file_extension": ".py",
   "mimetype": "text/x-python",
   "name": "python",
   "nbconvert_exporter": "python",
   "pygments_lexer": "ipython3",
   "version": "3.12.0"
  }
 },
 "nbformat": 4,
 "nbformat_minor": 5
}
