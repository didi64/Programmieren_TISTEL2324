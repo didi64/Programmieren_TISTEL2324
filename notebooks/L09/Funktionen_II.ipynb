{
 "cells": [
  {
   "cell_type": "markdown",
   "id": "b768fa49-f920-4ede-a1dc-0dc655920813",
   "metadata": {},
   "source": [
    "### Mehr zu Funktionen\n",
    "- Funktionsdefinition:\n",
    "  - **Non-Default Arguments** und  **Default Arguments**\n",
    "- Funktionsaufruf:\n",
    "  - Argumente **by position** oder als **keyword arguments** &uuml;bergeben\n",
    "  - Listen und Dictionaries auspacken\n",
    "***\n",
    "Eine Funktionsdefinition hat die Form\n",
    "```python\n",
    "def f(...):\n",
    "    ...\n",
    "```    \n",
    "Den Ausdruck **`f(...)`** nennen wir auch **Signatur der Funktion**.  \n",
    "Die Signatur der Funktion legt fest, was f&uuml;r Argumente der Funktion &uuml;bergeben werden m&uuml;ssen/k&ouml;nnen."
   ]
  },
  {
   "cell_type": "markdown",
   "id": "c78f9aa7-dad4-4a2f-919c-8cdaaf6bcd56",
   "metadata": {},
   "source": [
    "**Non-Default Arguments** und  **Default Arguments**\n",
    "- Nur Non-Default Arguments: `f(x, y)`  \n",
    "  Beim Funktionsaufruf **m&uuml;ssen** allen non-default Argumenten Werte &uuml;bergeben werden.\n",
    "  \n",
    "- Default Arguments: `f(x = 2, y = 'test')`  \n",
    "  Beim Funktionsaufruf **k&ouml;nnen** diesen  Argumenten Werte &uuml;bergeben werden, welche die Defaults &uuml;berschreiben.\n",
    "\n",
    "- Mischform: `f(x, y = 'test')`  \n",
    "  Alle **non-default Arguments** m&uuml;ssen **vor** den **default Arguments** stehen."
   ]
  },
  {
   "cell_type": "code",
   "execution_count": null,
   "id": "4256038d-11f4-4b97-9b05-26be57aa3df2",
   "metadata": {},
   "outputs": [],
   "source": [
    "# nicht erlaubt\n",
    "def f(x, y = 2, z):\n",
    "    pass"
   ]
  },
  {
   "cell_type": "markdown",
   "id": "58f33052-b252-4e7f-9fbc-58bddc646e90",
   "metadata": {},
   "source": [
    "Beim **Funktionsaufruf** k&ouml;nnen Argumente auf 2 Arten &uuml;bergeben werden:\n",
    "- by position  (als **positional arguments**) \n",
    "- als key-value Paare (als **keyword arguments**)\n",
    "\n",
    "Alle Argumente, die **by position** &uuml;bergeben werden, \n",
    "**m&uuml;ssen vor** den **key-value** Paaren stehen.  \n",
    "\n",
    "- erlaubt:\n",
    "```python\n",
    "f(2, 3)\n",
    "f(2, 3, 4)\n",
    "f(2, y=3, z=4)\n",
    "f(2, z=4, y=3)\n",
    "```\n",
    "- verboten:\n",
    "```python\n",
    "f(x=2, 3)\n",
    "```\n",
    "\n",
    "**Bemerkung**:  \n",
    "Manchen Funktionen k&ouml;nnen Argumente nur **by position** &uuml;bergeben werden, z.B. `str.ljust`.  \n",
    "Ersichtlich ist die aus der im Hilfstext angezeigten Signatur der Funktion.\n",
    "```\n",
    "Help on method_descriptor:\n",
    "\n",
    "ljust(self, width, fillchar=' ', /)\n",
    "    Return a left-justified string of length width.\n",
    "```\n",
    "Argumente vor dem `/` k&ouml;nnen nur **by position** &uuml;bergeben werden."
   ]
  },
  {
   "cell_type": "code",
   "execution_count": null,
   "id": "97a862b3-9a6a-4ef2-a1a1-47f07d5d878c",
   "metadata": {},
   "outputs": [],
   "source": [
    "# nicht erlaubt\n",
    "str.ljust('asd', 5, fillchar = '*')"
   ]
  },
  {
   "cell_type": "markdown",
   "id": "85dd8bb0-8459-4167-8017-e0f109d5843d",
   "metadata": {},
   "source": [
    "**Auspacken von Iterables und Dictionaries beim Funktionsaufruf**\n",
    "- Unpacking eines Iterables mit `*<iterable>`:  \n",
    "  - `f(*[1, 2, 3])` wird zu `f(1, 2, 3)`.  \n",
    "  -  `f(*'abc')` wird zu `f('a', 'b', 'c')`.   \n",
    "  \n",
    " - Unpacking eines Dictionaries  mit `**<dict>`:    \n",
    "   - `f(**{'x': 1, 'y': 4})` wird zu  `f(x = 1, y = 4)`.       "
   ]
  },
  {
   "cell_type": "code",
   "execution_count": null,
   "id": "69fcd46d-8792-496c-a329-9f6cc9eaf739",
   "metadata": {},
   "outputs": [],
   "source": [
    "characters = 'abc'\n",
    "words = ['foo', 'bar', 'baz']\n",
    "kwargs = {'sep': ', ', 'end': '.'}\n",
    "\n",
    "print(*characters, sep = '; ') \n",
    "print(*words, **kwargs) "
   ]
  },
  {
   "cell_type": "markdown",
   "id": "3e31ad5d-13ce-4b21-8d97-6295fc41b63c",
   "metadata": {},
   "source": [
    "***\n",
    "**Benamste Platzhalter**:\n",
    "Platzhalter in einem String mit Platzhaltern kann man wie folgt benennen:\n",
    "```python    \n",
    "fstring = 'Die Variable {name} hat den Wert {wert}'\n",
    "```\n",
    "\n",
    "Um diese benamste Platzhalter zu bef&uuml;llen, sind der Methode `str.format` entsprechende\n",
    "**keyword arguments** zu &uuml;bergeben:\n",
    "\n",
    "```python\n",
    "fstring.format(name='x', wert=5)\n",
    "```\n",
    "***"
   ]
  },
  {
   "cell_type": "code",
   "execution_count": null,
   "id": "49547067-1ef5-4e41-b7ff-7262edec44a7",
   "metadata": {},
   "outputs": [],
   "source": [
    "x = 5\n",
    "\n",
    "fstring = 'Die Variable {name} hat den Wert {wert}'\n",
    "fstring.format(name='x', wert=x)"
   ]
  },
  {
   "cell_type": "code",
   "execution_count": null,
   "id": "c5269bfc-a73a-43fa-a3d5-64ab5a630175",
   "metadata": {},
   "outputs": [],
   "source": [
    "fraction = '{zaehler}/{nenner}'\n",
    "\n",
    "zaehler = 5\n",
    "nenner = 7\n",
    "fraction.format(zaehler=zaehler, nenner=nenner)"
   ]
  },
  {
   "cell_type": "code",
   "execution_count": null,
   "id": "40fa7962-7f1b-4c52-a3aa-434b23823f24",
   "metadata": {},
   "outputs": [],
   "source": [
    "d = {'zaehler': 2, 'nenner': 3}\n",
    "fraction.format(**d) # expandiert zu fraction.format(zaehler=2, nenner=3)"
   ]
  },
  {
   "cell_type": "markdown",
   "id": "d4abf07a-00e5-46df-b02c-3f0b8384c9c9",
   "metadata": {},
   "source": [
    "### Aufgabe 1\n",
    "Benutze den unpacking operator `*`, um mit der Funktion `dist` den Abstand von A nach B zu berechnen.\n",
    "```python\n",
    "def dist(x1, y1, x2, y2):\n",
    "    '''returns distance from (x1,y1) to (x2,y2)'''\n",
    "    return ((x1 - x2) ** 2 + (y1 - y2) ** 2) ** (1/2)\n",
    "\n",
    "A = (3, 7)\n",
    "B = (6, 3)\n",
    "```"
   ]
  },
  {
   "cell_type": "markdown",
   "id": "1e0e8157-8a20-4383-a315-f55c2e75b062",
   "metadata": {
    "tags": []
   },
   "source": [
    "### Aufgabe 2\n",
    "Ersetze `...` in der Funktion `compose_email`, so dass der gew&uuml;nschte Output produziert wird.  \n",
    "Benutze den Operator `**`.\n",
    "\n",
    "```python\n",
    "customers = [{'name'   : 'Anna',\n",
    "              'anrede' : 'Liebe',\n",
    "              'gruss'  : 'Mit herzlichen Grüssen',\n",
    "             },\n",
    "             {'name'   : 'Hans',\n",
    "              'anrede' : 'Lieber',\n",
    "              'gruss'  : 'Mit freundlichen Grüssen',\n",
    "             },\n",
    "             \n",
    "            ]\n",
    "            \n",
    "email = '''\\\n",
    "{anrede} {name},\n",
    " \n",
    "{msg}\n",
    " \n",
    "{gruss},\n",
    "{absender}\n",
    "''' \n",
    "\n",
    "def compose_email(msg, customer, template, absender = 'X.Y.'):\n",
    "    return template.format(...)\n",
    "```\n",
    "\n",
    "Funktionsaufruf und erwarterer Output:\n",
    "```python    \n",
    "msg = 'danke fuer deine rasch Anwort.'\n",
    "print(compose_email(msg, customers[0], template = email))  \n",
    "```\n",
    "Liebe Anna,\n",
    " \n",
    "danke für deine rasch Anwort.\n",
    " \n",
    "Mit herzlichen Grüssen,  \n",
    "X.Y."
   ]
  }
 ],
 "metadata": {
  "author": "dieter.probst@gmail.com",
  "kernelspec": {
   "display_name": "Python 3 (ipykernel)",
   "language": "python",
   "name": "python3"
  },
  "language_info": {
   "codemirror_mode": {
    "name": "ipython",
    "version": 3
   },
   "file_extension": ".py",
   "mimetype": "text/x-python",
   "name": "python",
   "nbconvert_exporter": "python",
   "pygments_lexer": "ipython3",
   "version": "3.12.0"
  }
 },
 "nbformat": 4,
 "nbformat_minor": 5
}
