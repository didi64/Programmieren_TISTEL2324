{
 "cells": [
  {
   "cell_type": "markdown",
   "metadata": {},
   "source": [
    "### Scope, globale und lokale Variabeln\n",
    "\n",
    "Eine Variable ist nur innerhalb der Umgebung (Funktion, Klasse oder Modul) sichtbar, in welcher sie erzeugt wurde. Siehe auch [Scope, W3School](https://www.w3schools.com/python/python_scope.asp).  \n",
    "\n",
    "Das Ausf&uuml;hren einer Funktion erzeugt eine neue Scope. Innerhalb einer Funktion definierte Variablen geh&ouml;ren zu dieser Scope. Nach dem Ausf&uuml;hren der Funktion wird diese Scope wieder gel&ouml;scht. Variabeln in einer &auml;usseren Scope sind sichtbar (Lesezugriff), aber nicht schreibbar.\n",
    "\n",
    "\n",
    "<img src = \"/files/src/images/scopes.png\">  "
   ]
  },
  {
   "cell_type": "markdown",
   "metadata": {},
   "source": [
    "### Globale und lokale Variablen\n",
    "Globale Variable:\n",
    "- ausserhalb einer Funktion definiert\n",
    "- **Lesezugriff** von innerhalb einer Funktion, \n",
    "  **kein Schreibzugriff** von innerhalb der Funktion\n",
    "- Methodenaufrufe sind Lesezugriffe\n",
    "\n",
    "Lokale Variablen:\n",
    "- in der Funktionsdefinition aufgef&uuml;hrte Variabeln (z.B. `x` in `def f(x):`)\n",
    "- im Funktionbody definierte Variabeln\n",
    "- nur w&auml;hrend der Funktionsausf&uuml;hrung vorhanden\n",
    "\n",
    "**Das Keyword** `global`:  \n",
    "Eine Funktion bekommt Schreibzugriff auf globale Variabeln `x` und `y`, falls\n",
    "diese innerhalb der Funktion mit `global x, y` als solche deklariert werden.\n",
    "\n",
    "\n",
    "```python\n",
    "    def f():\n",
    "        global x, y\n",
    "        # Alle Operationen mit den Variablen x und y werden in der globalen Scope\n",
    "        # ausgefuehrt.\n",
    "        \n",
    "        # Erlaubt z.B. Schreibzugriff auf existierende globale Variable x\n",
    "        # Erlaubt z.B. das  Erstellen einer noch nicht existierenden globalen Variable y\n",
    "        \n",
    "        ...\n",
    "```\n",
    "\n",
    "Das Keyword `global` sollte gemieden werden (verhindert unbeabsichtiges &Uuml;berschreiben globaler Variablen).\n",
    "\n",
    "**Wieso ist Lesezugriff von einer inneren Scope her ok**?  \n",
    "\n",
    "Es w&auml;re ausserordenlich unpraktisch, wenn eine globale Variable auch f&uuml;r Lesezugriff vorg&auml;ngig als `global` deklariert werden m&uuml;sste: Jeder Funktionsaufruf ist ein Lesezugriff auf eine globale Variable."
   ]
  },
  {
   "cell_type": "markdown",
   "metadata": {},
   "source": [
    "***\n",
    "**globales `x`, lokales `y`**"
   ]
  },
  {
   "cell_type": "code",
   "execution_count": null,
   "metadata": {},
   "outputs": [],
   "source": [
    "def f():\n",
    "    y = 'lokales y' # lokale Variable von f\n",
    "    \n",
    "    # Lesezugriff auf globales x und lokales y \n",
    "    print('Scope von f: x = {}'.format(x))\n",
    "    print('Scope von f: y = {}'.format(y))"
   ]
  },
  {
   "cell_type": "code",
   "execution_count": null,
   "metadata": {},
   "outputs": [],
   "source": [
    "# global, ueberall sichtbar\n",
    "x = 'globales x'\n",
    "f()"
   ]
  },
  {
   "cell_type": "markdown",
   "metadata": {},
   "source": [
    "***\n",
    "**globales `x` und lokales `x`**"
   ]
  },
  {
   "cell_type": "code",
   "execution_count": null,
   "metadata": {},
   "outputs": [],
   "source": [
    "def g():\n",
    "    x = 'lokales x' # lokal, verdeckt (shadows) globales x\n",
    "    print('Scope von g: x = {}'.format(x))"
   ]
  },
  {
   "cell_type": "code",
   "execution_count": null,
   "metadata": {},
   "outputs": [],
   "source": [
    "x = 'globales x' \n",
    "g()"
   ]
  },
  {
   "cell_type": "code",
   "execution_count": null,
   "metadata": {},
   "outputs": [],
   "source": [
    "# globales x wurde nicht modifiziert:\n",
    "print('globale Scope: x = {}'.format(x))"
   ]
  },
  {
   "cell_type": "markdown",
   "metadata": {},
   "source": [
    "***\n",
    "Funktionsargumente sind lokale Variablen\n",
    "***"
   ]
  },
  {
   "cell_type": "code",
   "execution_count": null,
   "metadata": {},
   "outputs": [],
   "source": [
    "def h(x):\n",
    "    print('Scope von h: x = {}'.format(x))"
   ]
  },
  {
   "cell_type": "code",
   "execution_count": null,
   "metadata": {},
   "outputs": [],
   "source": [
    "x = 'globales x'\n",
    "h('lokales x')"
   ]
  },
  {
   "cell_type": "code",
   "execution_count": null,
   "metadata": {},
   "outputs": [],
   "source": [
    "print('globale Scope h: x = {}'.format(x))"
   ]
  },
  {
   "cell_type": "markdown",
   "metadata": {},
   "source": [
    "***\n",
    "**die Rolle einer Variablen muss eindeutig sein: entweder lokal oder global**"
   ]
  },
  {
   "cell_type": "code",
   "execution_count": null,
   "metadata": {},
   "outputs": [],
   "source": [
    "def fun():\n",
    "    # Erzeugt beim  Aufruf einen Fehler: \n",
    "    # x hat hier die Rolle einer globalen Vaiable\n",
    "    print('in Scope von f: x = {}'.format(x)) \n",
    "    \n",
    "    # x hat hier die Rolle einer lokale Variable x\n",
    "    x = 'lokales x' \n",
    "    print('in Scope von f: x = {}'.format(x))"
   ]
  },
  {
   "cell_type": "code",
   "execution_count": null,
   "metadata": {},
   "outputs": [],
   "source": [
    "x = 'globales x'\n",
    "fun()"
   ]
  },
  {
   "cell_type": "code",
   "execution_count": null,
   "metadata": {},
   "outputs": [],
   "source": [
    "def f(x):\n",
    "    global x"
   ]
  },
  {
   "cell_type": "markdown",
   "metadata": {},
   "source": [
    "***\n",
    "**Methodenaufruf eines Objektes ist ein Lesezugriff**  \n",
    "globale Liste ist innerhalb einer Funktion modifizierbar"
   ]
  },
  {
   "cell_type": "code",
   "execution_count": null,
   "metadata": {},
   "outputs": [],
   "source": [
    "lst = [1, 2, 3]\n",
    "\n",
    "def add_element_to_list(item):\n",
    "    lst.append(item)\n",
    "    \n",
    "def modify_list_item(idx, val):\n",
    "    # kein Schreibzugriff, sondern Methodenaufruf\n",
    "    lst[idx] = val # aequivalent zur naechsten Zeile\n",
    "    # lst.__setitem__(idx, val)"
   ]
  },
  {
   "cell_type": "code",
   "execution_count": null,
   "metadata": {},
   "outputs": [],
   "source": [
    "print(lst)\n",
    "add_element_to_list(lst[-1] + 1)\n",
    "print(lst)"
   ]
  },
  {
   "cell_type": "code",
   "execution_count": null,
   "metadata": {},
   "outputs": [],
   "source": [
    "print(lst)\n",
    "modify_list_item(2, 42)\n",
    "print(lst)"
   ]
  },
  {
   "cell_type": "markdown",
   "metadata": {},
   "source": [
    "***\n",
    "**Das Keyword** `global`:  \n",
    "***    "
   ]
  },
  {
   "cell_type": "code",
   "execution_count": null,
   "metadata": {},
   "outputs": [],
   "source": [
    "def g1():\n",
    "    # die Variabeln x und z werden als globale Variable behandelt\n",
    "    global x, z\n",
    "    \n",
    "    # globales x lesen\n",
    "    print('Scope von g1: x = {}'.format(x))\n",
    "    \n",
    "    # globales x modifizieren\n",
    "    x = 'modifiziertes globales x'\n",
    "    print('Scope von : x = {}'.format(x))\n",
    "    \n",
    "    # globale Variable z wird definiert\n",
    "    z = 'neues globales z'"
   ]
  },
  {
   "cell_type": "code",
   "execution_count": null,
   "metadata": {},
   "outputs": [],
   "source": [
    "x = 'globales x'\n",
    "g1()"
   ]
  },
  {
   "cell_type": "code",
   "execution_count": null,
   "metadata": {},
   "outputs": [],
   "source": [
    "print('globale Scope: x = {}'.format(x))\n",
    "print('globale Scope: z = {}'.format(z))"
   ]
  },
  {
   "cell_type": "markdown",
   "metadata": {},
   "source": [
    "***\n",
    "**Das Keyword** `nonlocal`:  \n",
    "\n",
    "**Funktionsdefinitionen** k&ouml;nnen geschachtelt werden.\n",
    "Eine nicht globale Variable, die ausserhalb einer Funktion definiert ist,\n",
    "ist eine **nicht-lokale**  (nonlocal) Variable dieser Funktion.  \n",
    "Eine Funktion bekommt Schreibzugriff auf eine nicht-lokale Variable `x`, wenn sie\n",
    "innerhalb der Funktion mit `nonlocal x` als solche deklariert wird.\n",
    "***"
   ]
  },
  {
   "cell_type": "code",
   "execution_count": null,
   "metadata": {},
   "outputs": [],
   "source": [
    "def f1():\n",
    "    x = 'lokales x von f1'\n",
    "    \n",
    "    # nur innerhalb von f1 definierte Funktion\n",
    "    def f2():\n",
    "        # x ist locale Variable von f2\n",
    "        x = 'lokales x von f2'\n",
    "        print('Scope von f2: x = {}'.format(x)) \n",
    "    \n",
    "    f2()\n",
    "    print('Scope von f1: x = {}'.format(x)) "
   ]
  },
  {
   "cell_type": "code",
   "execution_count": null,
   "metadata": {},
   "outputs": [],
   "source": [
    "x = 'globales x'\n",
    "f1()"
   ]
  },
  {
   "cell_type": "code",
   "execution_count": null,
   "metadata": {},
   "outputs": [],
   "source": [
    "def f1():\n",
    "    x = 'lokales x von f1'\n",
    "    \n",
    "    # nur innerhalb von f1 definierte Funktion\n",
    "    def f2():\n",
    "        global x\n",
    "        x = 'neues globales x'\n",
    "    \n",
    "    f2()\n",
    "    print('Scope von f1: x = {}'.format(x)) "
   ]
  },
  {
   "cell_type": "code",
   "execution_count": null,
   "metadata": {},
   "outputs": [],
   "source": [
    "x = 'globales x'\n",
    "f1()\n",
    "\n",
    "print('globale Scope: x = {}'.format(x))"
   ]
  },
  {
   "cell_type": "code",
   "execution_count": null,
   "metadata": {},
   "outputs": [],
   "source": [
    "def f1():\n",
    "    x = 'lokales x von f1'\n",
    "    \n",
    "    # nur innerhalb von f1 definierte Funktion\n",
    "    def f2():\n",
    "        nonlocal x\n",
    "        x = 'neues lokales x von f1'\n",
    "    \n",
    "    f2()\n",
    "    print('Scope von f1: x = {}'.format(x)) "
   ]
  },
  {
   "cell_type": "code",
   "execution_count": null,
   "metadata": {},
   "outputs": [],
   "source": [
    "x = 'globales x'\n",
    "f1()\n",
    "\n",
    "print('globale Scope: x = {}'.format(x))"
   ]
  },
  {
   "cell_type": "code",
   "execution_count": null,
   "metadata": {},
   "outputs": [],
   "source": []
  }
 ],
 "metadata": {
  "author": "dieter.probst@gmail.com",
  "kernelspec": {
   "display_name": "Python 3 (ipykernel)",
   "language": "python",
   "name": "python3"
  },
  "language_info": {
   "codemirror_mode": {
    "name": "ipython",
    "version": 3
   },
   "file_extension": ".py",
   "mimetype": "text/x-python",
   "name": "python",
   "nbconvert_exporter": "python",
   "pygments_lexer": "ipython3",
   "version": "3.12.0"
  }
 },
 "nbformat": 4,
 "nbformat_minor": 4
}
