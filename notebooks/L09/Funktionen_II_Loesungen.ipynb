{
 "cells": [
  {
   "cell_type": "markdown",
   "id": "b768fa49-f920-4ede-a1dc-0dc655920813",
   "metadata": {
    "tags": []
   },
   "source": [
    "### L&ouml;sungen Funktionen"
   ]
  },
  {
   "cell_type": "markdown",
   "id": "d4abf07a-00e5-46df-b02c-3f0b8384c9c9",
   "metadata": {},
   "source": [
    "### Aufgabe 1\n",
    "Benutze den unpacking operator `*`, um mit der Funktion `dist` den Abstand von A nach B zu berechnen.\n",
    "```python\n",
    "def dist(x1, y1, x2, y2):\n",
    "    '''Abstand von (x1,y1) nach (x2, y2) mit Pythagoras Berechnen'''\n",
    "    dx = x2 - x1\n",
    "    dy = y2 - y1\n",
    "    abstand =  (dx ** 2 + dy ** 2) ** (1/2)  # hoch 1/2 ist Wurzel\n",
    "    return abstand\n",
    "\n",
    "A = (3, 7)\n",
    "B = (6, 3)\n",
    "```"
   ]
  },
  {
   "cell_type": "code",
   "execution_count": null,
   "id": "485d3277-8452-4c6a-bee4-ea43ab8b141c",
   "metadata": {},
   "outputs": [],
   "source": [
    "def dist(x1, y1, x2, y2):\n",
    "    '''Abstand von (x1,y1) nach (x2, y2) mit Pythagoras Berechnen'''\n",
    "    dx = x2 - x1\n",
    "    dy = y2 - y1\n",
    "    abstand =  (dx ** 2 + dy ** 2) ** (1/2)  # hoch 1/2 ist Wurzel\n",
    "    return abstand   "
   ]
  },
  {
   "cell_type": "code",
   "execution_count": null,
   "id": "f4f3b461-4c1d-4d2d-8b7a-fbd64f7cc6a8",
   "metadata": {},
   "outputs": [],
   "source": [
    "A = (3, 7)\n",
    "B = (6, 3)\n",
    "\n",
    "d = dist(*A, *B)\n",
    "print('Distanz von {A} nach {B}: {dist}'.format(A=A, B=B, dist = d))"
   ]
  },
  {
   "cell_type": "markdown",
   "id": "1e0e8157-8a20-4383-a315-f55c2e75b062",
   "metadata": {
    "tags": []
   },
   "source": [
    "### Aufgabe 2\n",
    "Ersetze `...` in der Funktion `compose_email`, so dass der gew&uuml;nschte Output produziert wird.  \n",
    "Benutze den Operator `**`.\n",
    "\n",
    "```python\n",
    "customers = [{'name'   : 'Anna',\n",
    "              'anrede' : 'Liebe',\n",
    "              'gruss'  : 'Mit herzlichen Grüssen',\n",
    "             },\n",
    "             {'name'   : 'Hans',\n",
    "              'anrede' : 'Lieber',\n",
    "              'gruss'  : 'Mit freundlichen Grüssen',\n",
    "             },\n",
    "             \n",
    "            ]\n",
    "            \n",
    "email = '''\\\n",
    "{anrede} {name},\n",
    " \n",
    "{msg}\n",
    " \n",
    "{gruss},\n",
    "{absender}\n",
    "''' \n",
    "\n",
    "def compose(msg, customer, template, absender = 'X.Y.'):\n",
    "    return template.format(...)\n",
    "```\n",
    "\n",
    "Funktionsaufruf und erwarterer Output:\n",
    "```python    \n",
    "msg = 'danke fuer deine rasch Anwort.'\n",
    "print(compose(msg, customers[0], template = email))  \n",
    "```\n",
    "Liebe Anna,\n",
    " \n",
    "danke für deine rasch Anwort.\n",
    " \n",
    "Mit herzlichen Grüssen,  \n",
    "X.Y."
   ]
  },
  {
   "cell_type": "code",
   "execution_count": null,
   "id": "21907643-8b66-4d08-9c09-7edcb5bfdf86",
   "metadata": {},
   "outputs": [],
   "source": [
    "customers = [{'name'   : 'Anna',\n",
    "              'anrede' : 'Liebe',\n",
    "              'gruss'  : 'Mit herzlichen Grüssen',\n",
    "             },\n",
    "             {'name'   : 'Hans',\n",
    "              'anrede' : 'Lieber',\n",
    "              'gruss'  : 'Mit freundlichen Grüssen',\n",
    "             },\n",
    "            ]\n",
    "            \n",
    "email = '''\\\n",
    "{anrede} {name},\n",
    " \n",
    "{msg}\n",
    " \n",
    "{gruss},\n",
    "{absender}\n",
    "''' "
   ]
  },
  {
   "cell_type": "code",
   "execution_count": null,
   "id": "b13549a5-4992-4c43-ac50-6a6762e21ddf",
   "metadata": {},
   "outputs": [],
   "source": [
    "def compose(msg, customer, template, absender = 'Dieter'):\n",
    "    return template.format(msg = msg, absender = absender, **customer)"
   ]
  },
  {
   "cell_type": "code",
   "execution_count": null,
   "id": "94207b78-8ac3-4918-9c1b-8ea78cc43dd0",
   "metadata": {},
   "outputs": [],
   "source": [
    "for c in customers:\n",
    "    msg = 'danke fuer die rasche Antwort.'\n",
    "    mail = compose(msg, c, email, absender = 'Dieter')\n",
    "    print(mail)\n",
    "    print('-' * 80)"
   ]
  },
  {
   "cell_type": "code",
   "execution_count": null,
   "id": "b564de4a-9d2e-42db-84f2-4ad40836fab5",
   "metadata": {},
   "outputs": [],
   "source": []
  },
  {
   "cell_type": "code",
   "execution_count": null,
   "id": "1caf2f79-d9b3-440b-85af-11c24a4dcc50",
   "metadata": {},
   "outputs": [],
   "source": []
  }
 ],
 "metadata": {
  "author": "dieter.probst@gmail.com",
  "kernelspec": {
   "display_name": "Python 3 (ipykernel)",
   "language": "python",
   "name": "python3"
  },
  "language_info": {
   "codemirror_mode": {
    "name": "ipython",
    "version": 3
   },
   "file_extension": ".py",
   "mimetype": "text/x-python",
   "name": "python",
   "nbconvert_exporter": "python",
   "pygments_lexer": "ipython3",
   "version": "3.12.0"
  }
 },
 "nbformat": 4,
 "nbformat_minor": 5
}
