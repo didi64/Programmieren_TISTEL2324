{
 "cells": [
  {
   "cell_type": "markdown",
   "id": "7aa2442c-5e61-4143-bf06-3c5c2c9c8584",
   "metadata": {},
   "source": [
    "### Sortieren L&ouml;sungen"
   ]
  },
  {
   "cell_type": "markdown",
   "id": "0756ad45-2c43-4f2b-88a3-628ec6413454",
   "metadata": {},
   "source": [
    "### Aufgaben\n",
    "Beim Spiel Scrabble hat jeder Buchstabe einen bestimmten Buchstabenwert.  \n",
    "Der Wortwert ist die Summe aller Buchstabenwerte.  \n",
    "Ziel ist es, W&ouml;rter nach ihrem Wortwert zu sortieren.  \n",
    "Nachstehender Dictionary zeigt den Wert der Buchstaben an.\n",
    "\n",
    "\n",
    "```python\n",
    "wert_buchstaben = {1: 'ENSIRTUAD',\n",
    "                   2: 'HGLO',\n",
    "                   3: 'MBWZ',\n",
    "                   4: 'CFKP',\n",
    "                   6: 'ÄJÜV',\n",
    "                   8: 'ÖX',\n",
    "                  10:'QY', \n",
    "                 }\n",
    "\n",
    "scrabble_words = ['diesen', 'Form', 'wird', 'typischerweise', 'benutzt']\n",
    "```\n",
    "\n",
    "1. Erstelle einen Dictionary `buchstabe_wert`, dessen Schl&uuml;ssel die Grossbuchstaben des Alphabets sind\n",
    "und der zugeh&ouml;rige Wert der entsprechende Buchstabenwert  \n",
    "(`buchstabe_wert = {'E': 1, 'N': 1,...}`).\n",
    "2. Schreibe eine Funktion `wortwert(wort)`, welche den Wortwert des Arguments `wort` zur&uuml;ck gibt.\n",
    "3. Sortiere die Liste `scrabble_words` nach Buchstabenwert, aufsteigend und absteigend.\n",
    "4. Sortiere die Liste `scrabble_words` nach Buchstabenwert und verwende jeweils das Wort als Tiebreaker."
   ]
  },
  {
   "cell_type": "code",
   "execution_count": 2,
   "id": "9073509b-d5c9-4a7f-a3e2-ca0e3dfed82a",
   "metadata": {},
   "outputs": [],
   "source": [
    "scrabble_words = ['diesen', 'Form', 'wird', 'typischerweise', 'benutzt']\n",
    "wert_buchstaben = {1: 'ENSIRTUAD',\n",
    "                   2: 'HGLO',\n",
    "                   3: 'MBWZ',\n",
    "                   4: 'CFKP',\n",
    "                   6: 'ÄJÜV',\n",
    "                   8: 'ÖX',\n",
    "                  10:'QY', \n",
    "                 }"
   ]
  },
  {
   "cell_type": "code",
   "execution_count": null,
   "id": "30bf5b46-c486-44ed-ab24-d07d4e9b8b35",
   "metadata": {},
   "outputs": [],
   "source": [
    "# Dictionary buchstabe_wert erstellen\n",
    "\n",
    "buchstabe_wert = {}\n",
    "for wert, buchstaben in wert_buchstaben.items():\n",
    "    for buchstabe in buchstaben:\n",
    "        buchstabe_wert[buchstabe] = wert\n",
    "        \n",
    "buchstabe_wert "
   ]
  },
  {
   "cell_type": "code",
   "execution_count": 49,
   "id": "0b6edb64-607d-4836-a131-45358a87cdde",
   "metadata": {},
   "outputs": [],
   "source": [
    "# Wortwert berechnen\n",
    "def wortwert(wort):\n",
    "    tot = 0\n",
    "    for b in wort:\n",
    "        wert = buchstabe_wert[b.upper()]\n",
    "        tot += wert\n",
    "    \n",
    "    return tot"
   ]
  },
  {
   "cell_type": "code",
   "execution_count": 6,
   "id": "ebbc5f8b-4c48-4620-9928-72089498180e",
   "metadata": {},
   "outputs": [
    {
     "data": {
      "text/plain": [
       "[('diesen', 6),\n",
       " ('Form', 10),\n",
       " ('wird', 6),\n",
       " ('typischerweise', 32),\n",
       " ('benutzt', 11)]"
      ]
     },
     "execution_count": 6,
     "metadata": {},
     "output_type": "execute_result"
    }
   ],
   "source": [
    "# Funktion testen\n",
    "[(wort, wortwert(wort)) for wort in scrabble_words]"
   ]
  },
  {
   "cell_type": "code",
   "execution_count": 4,
   "id": "24ec9d28-1f4f-45ca-997b-0ddfddd97e8f",
   "metadata": {},
   "outputs": [],
   "source": [
    "# Wortwert berechnen, Variante\n",
    "def wortwert(wort):\n",
    "    tot = sum(buchstabe_wert[buchstabe.upper()] for buchstabe in wort)\n",
    "    return tot"
   ]
  },
  {
   "cell_type": "code",
   "execution_count": 5,
   "id": "39c4f75f-ad9f-4a9a-b2cb-b50d321b8a85",
   "metadata": {},
   "outputs": [
    {
     "data": {
      "text/plain": [
       "[('diesen', 6),\n",
       " ('Form', 10),\n",
       " ('wird', 6),\n",
       " ('typischerweise', 32),\n",
       " ('benutzt', 11)]"
      ]
     },
     "execution_count": 5,
     "metadata": {},
     "output_type": "execute_result"
    }
   ],
   "source": [
    "# Funktion testen\n",
    "[(wort, wortwert(wort)) for wort in scrabble_words]"
   ]
  },
  {
   "cell_type": "code",
   "execution_count": 7,
   "id": "349af22b-1f2d-49aa-9324-78b219e3445e",
   "metadata": {},
   "outputs": [
    {
     "name": "stdout",
     "output_type": "stream",
     "text": [
      "aufsteigend:  ['diesen', 'wird', 'Form', 'benutzt', 'typischerweise']\n",
      "absteigend:  ['typischerweise', 'benutzt', 'Form', 'diesen', 'wird']\n"
     ]
    }
   ],
   "source": [
    "# Nach Wortwert sortieren:\n",
    "\n",
    "print('aufsteigend: ', sorted(scrabble_words, key=wortwert))\n",
    "print('absteigend: ',  sorted(scrabble_words, key=wortwert, reverse=True))"
   ]
  },
  {
   "cell_type": "code",
   "execution_count": 9,
   "id": "14a7b720-3d9b-4e45-bfe1-14172b47ed0d",
   "metadata": {},
   "outputs": [
    {
     "name": "stdout",
     "output_type": "stream",
     "text": [
      "aufsteigend:  ['diesen', 'wird', 'Form', 'benutzt', 'typischerweise']\n",
      "aufsteigend:  ['typischerweise', 'benutzt', 'Form', 'wird', 'diesen']\n"
     ]
    }
   ],
   "source": [
    "# Mit Wort als Tiebreaker\n",
    "\n",
    "print('aufsteigend: ', sorted(scrabble_words, key=lambda wort: (wortwert(wort), wort)))\n",
    "print('aufsteigend: ', sorted(scrabble_words, key=lambda wort: (wortwert(wort), wort), reverse=True))"
   ]
  },
  {
   "cell_type": "code",
   "execution_count": null,
   "id": "ffb455ff-0c63-46a9-9e36-d36dd4f3b391",
   "metadata": {},
   "outputs": [],
   "source": []
  }
 ],
 "metadata": {
  "kernelspec": {
   "display_name": "Python 3 (ipykernel)",
   "language": "python",
   "name": "python3"
  },
  "language_info": {
   "codemirror_mode": {
    "name": "ipython",
    "version": 3
   },
   "file_extension": ".py",
   "mimetype": "text/x-python",
   "name": "python",
   "nbconvert_exporter": "python",
   "pygments_lexer": "ipython3",
   "version": "3.12.0"
  }
 },
 "nbformat": 4,
 "nbformat_minor": 5
}
