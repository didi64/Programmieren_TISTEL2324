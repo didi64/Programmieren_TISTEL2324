{
 "cells": [
  {
   "cell_type": "markdown",
   "id": "7aa2442c-5e61-4143-bf06-3c5c2c9c8584",
   "metadata": {},
   "source": [
    "### Iterables (Strings, Tuple, Listen, Mengen) sortieren\n",
    "Iterables (Strings, Tuples und Listen) lassen sich mit der Funktion `sorted(iterable)` sortieren.  \n",
    "Diese Funktion gibt immer eine **Liste** zur&uuml;ck.  \n",
    "Die Liste enth&auml;lt die Elemente des Iterables in **aufsteigender Ordnung** (kleinstes Element zuerst). \n",
    "\n",
    "\n",
    "Wie wird sortiert:\n",
    "- Zahlen: kleinere Zahl vor gr&ouml;sserer Zahl\n",
    "- Strings: lexikographische Sortierung: \n",
    "  - Anfangsabschnitt ist kleiner als ganzer String,\n",
    "  - Das erste Element in dem sich die beiden Strings unterscheiden gibt den Ausschlag.  \n",
    "  `'Ab' < 'Abend' < 'Aber'`\n",
    "- Tuple: ebenfalls lexikographische Sortierung:  \n",
    "  `('a',) < ('a', 9) < ('b', 2) < ('b',3) < ('c',)`"
   ]
  },
  {
   "cell_type": "markdown",
   "id": "2fc7f247-6ac6-4842-9c65-be2496b11dfa",
   "metadata": {},
   "source": [
    "***\n",
    "Kleiner Relation auf Strings und Tuple\n",
    "***"
   ]
  },
  {
   "cell_type": "code",
   "execution_count": null,
   "id": "8a2535bb-32c7-414d-8361-6774b787ae5e",
   "metadata": {},
   "outputs": [],
   "source": [
    "'Ab' < 'Abend' < 'Aber'"
   ]
  },
  {
   "cell_type": "code",
   "execution_count": null,
   "id": "c48341ae-873a-4da5-af65-2ffa9487e63b",
   "metadata": {},
   "outputs": [],
   "source": [
    "('a',) < ('a', 9) < ('b', 2) < ('b',3) < ('c',)"
   ]
  },
  {
   "cell_type": "markdown",
   "id": "fcf04c43-04de-4fb6-bb6f-48446369d5c8",
   "metadata": {},
   "source": [
    "***\n",
    "Iterables sortieren (aufsteigend)\n",
    "***"
   ]
  },
  {
   "cell_type": "code",
   "execution_count": null,
   "id": "48bb7b24-14c4-4ed6-ab96-afbd6e28df2d",
   "metadata": {},
   "outputs": [],
   "source": [
    "s = 'hallo'\n",
    "sorted(s) "
   ]
  },
  {
   "cell_type": "code",
   "execution_count": null,
   "id": "2d1e2a81-d0b3-4e38-ab67-41f5156d5b0b",
   "metadata": {},
   "outputs": [],
   "source": [
    "numbers = (2,5,7,1,2)\n",
    "sorted(numbers)"
   ]
  },
  {
   "cell_type": "markdown",
   "id": "91fdf3a7-876b-4ca5-bd85-fe12dcdb21ee",
   "metadata": {},
   "source": [
    "***\n",
    "Iterables sortieren (absteigend, gr&ouml;sstes Element zuerst):  \n",
    "Die Liste `sorted(iterable, reverse=True)` enth&auml;lt die Elemente des Iterables in **absteigender Ordnung**.\n",
    "***\n"
   ]
  },
  {
   "cell_type": "code",
   "execution_count": null,
   "id": "e246e364-b3a3-4349-aaa3-3d0069397e74",
   "metadata": {},
   "outputs": [],
   "source": [
    "s = 'hallo'\n",
    "sorted(s, reverse=True) "
   ]
  },
  {
   "cell_type": "code",
   "execution_count": null,
   "id": "2574e1e5-7f55-422f-b332-12594da4ce33",
   "metadata": {},
   "outputs": [],
   "source": [
    "numbers = (2,5,7,1,2)\n",
    "sorted(numbers, reverse=True)"
   ]
  },
  {
   "cell_type": "markdown",
   "id": "3ddd9e3c-60c9-47f7-880a-762168403890",
   "metadata": {},
   "source": [
    "***\n",
    "In Python sind nicht alle Objekte vergleichbar, auch sind Objekte verschiedenen Types nicht vergleichbar. Z.B.:\n",
    "- None ist mit keinem anderen Objekt vergleichbar,\n",
    "- Integers und Strings sind nicht vergleichbar\n",
    "- Dictionaries sind nicht vergleichbar\n",
    "***"
   ]
  },
  {
   "cell_type": "code",
   "execution_count": null,
   "id": "99f05532-d752-49e7-91a1-03a350238665",
   "metadata": {},
   "outputs": [],
   "source": [
    "1 < '1'"
   ]
  },
  {
   "cell_type": "code",
   "execution_count": null,
   "id": "b5cae676-47bc-4eaf-80f2-952f0c53cc85",
   "metadata": {},
   "outputs": [],
   "source": [
    "None < 1"
   ]
  },
  {
   "cell_type": "code",
   "execution_count": null,
   "id": "385e33e3-52b9-41a2-b8f6-aa7dd1510af0",
   "metadata": {},
   "outputs": [],
   "source": [
    "d1 = {'a':1}\n",
    "d2 = {'b':2}\n",
    "d1 < d2"
   ]
  },
  {
   "cell_type": "markdown",
   "id": "c5aa5247-d8d4-4f0c-8417-27e37c446561",
   "metadata": {},
   "source": [
    "***\n",
    "Sortierwert berechnen:  \n",
    "Der Funktion `sorted` kann als zus&auml;tzliches Argument eine Funktion `f` &uuml;bergeben werden,\n",
    "welche jedem Listenelement eine Wert zuordnet, nach dem sortiert wird.  \n",
    "Diese Funktion muss dem keyword-Argument `key` zugewiesen werden.\n",
    "\n",
    "`sorted(iterable, key=f)`  \n",
    "\n",
    "In nachfolgendem Beispiel ist `f` eine Funktion, die die Zahl eines Tupels der Form `('Bob', 2)`\n",
    "zur&uuml;ck gibt.\n",
    "***"
   ]
  },
  {
   "cell_type": "code",
   "execution_count": null,
   "id": "4a3099ea-3cd8-48ae-8f5d-938da30638ce",
   "metadata": {},
   "outputs": [],
   "source": [
    "# Tuple (name, rang) nach rang sortieren\n",
    "\n",
    "personen = [('Bob', 2), ('Sara', 1), ('Alice', 3)]"
   ]
  },
  {
   "cell_type": "code",
   "execution_count": null,
   "id": "5986e0a8-5c08-44e9-b546-18a560099d1c",
   "metadata": {},
   "outputs": [],
   "source": [
    "def rang(item):\n",
    "    '''sortiere nach dem 2. Tupelelement'''\n",
    "    return item[1]"
   ]
  },
  {
   "cell_type": "code",
   "execution_count": null,
   "id": "a61791c7-1b37-4e7c-84e6-069a9efd6ab6",
   "metadata": {},
   "outputs": [],
   "source": [
    "# Funktion rang testen\n",
    "[rang(p) for p in personen]"
   ]
  },
  {
   "cell_type": "code",
   "execution_count": null,
   "id": "555a938d-e6e4-40d3-919f-09278ac3842b",
   "metadata": {},
   "outputs": [],
   "source": [
    "sorted(personen, key=rang)"
   ]
  },
  {
   "cell_type": "markdown",
   "id": "ded7a64e-6b1c-434e-8112-178c2f3391b0",
   "metadata": {},
   "source": [
    "***\n",
    "**$\\lambda$-Funktionen** ($\\lambda$ ist der griechische Buchstabe lambda)  \n",
    "Eine ganz einfache Funktion wie `rang`, \n",
    "\n",
    "```python\n",
    "def get_first(x):\n",
    "    return x[1]\n",
    "```\n",
    "\n",
    "die nur einen Ausdruck zur&uuml;ck gibt, kann auch so definiert werden:\n",
    "\n",
    "```python\n",
    "get_first = lambda x: x[1]\n",
    "```\n",
    "Diese Form wird typischerweise benutzt, wenn einer Funktion eine andere\n",
    "Funktion als Argument &uuml;bergeben  wird.\n",
    "***"
   ]
  },
  {
   "cell_type": "code",
   "execution_count": null,
   "id": "78d11abe-16ed-4a00-90ec-60b7185bbb2c",
   "metadata": {},
   "outputs": [],
   "source": [
    "sorted(personen, key=lambda person: person[1])"
   ]
  },
  {
   "cell_type": "markdown",
   "id": "18901fa5-03a6-44d1-be0e-7ed4ab595b34",
   "metadata": {},
   "source": [
    "***\n",
    "Name als Tiebreaker verwenden:  \n",
    "Haben Listenelemente den gleichen Sortierwert, wird die urspr&uuml;ngliche Reihenfolge beibehalten.  \n",
    "In nachfolgendem Beispiel wollen wir den Namen als Tiebreaker verwenden.  \n",
    "Als Sortierwert benutzen wir deshalb ein Tuple `(<rang>, <name>)`.  \n",
    "Da Tuple lexikographisch sortiert werden, wird zuerst nach dem Rang sortiert, \n",
    "und bei gleichem Rang gibt der Name den Ausschlag.\n",
    "***"
   ]
  },
  {
   "cell_type": "code",
   "execution_count": null,
   "id": "ca3c4f6c-49b6-4d12-8501-af75f2076d2b",
   "metadata": {},
   "outputs": [],
   "source": [
    "personen = [('Bob', 2), ('Sara', 1), ('Alice', 3), ('Carl', 1)]\n",
    "\n",
    "# Sara ist beide Male vor Carl\n",
    "print('aufsteigend:', sorted(personen, key=lambda p: p[1]))\n",
    "print('absteigend:', sorted(personen, key=lambda p: p[1], reverse=True))"
   ]
  },
  {
   "cell_type": "code",
   "execution_count": null,
   "id": "fb08bc2c-d691-431e-ac9a-c0ac43cad148",
   "metadata": {},
   "outputs": [],
   "source": [
    "# Carl kommt nun vor, bez. nach Sara\n",
    "print('aufsteigend:', sorted(personen, key=lambda p: (p[1], p)))\n",
    "print('absteigend:', sorted(personen, key=lambda p: (p[1], p), reverse=True))"
   ]
  },
  {
   "cell_type": "markdown",
   "id": "0756ad45-2c43-4f2b-88a3-628ec6413454",
   "metadata": {},
   "source": [
    "### Aufgaben\n",
    "Beim Spiel Scrabble hat jeder Buchstabe einen bestimmten Buchstabenwert.  \n",
    "Der Wortwert ist die Summe aller Buchstabenwerte.  \n",
    "Ziel ist es, W&ouml;rter nach ihrem Wortwert zu sortieren.  \n",
    "Nachstehender Dictionary zeigt den Wert der Buchstaben an.\n",
    "\n",
    "\n",
    "```python\n",
    "wert_buchstaben = {1: 'ENSIRTUAD',\n",
    "                   2: 'HGLO',\n",
    "                   3: 'MBWZ',\n",
    "                   4: 'CFKP',\n",
    "                   6: 'ÄJÜV',\n",
    "                   8: 'ÖX',\n",
    "                  10:'QY', \n",
    "                 }\n",
    "\n",
    "scrabble_words = ['diesen', 'Form', 'wird', 'typischerweise', 'benutzt']\n",
    "```\n",
    "\n",
    "1. Erstelle einen Dictionary `buchstabe_wert`, dessen Schl&uuml;ssel die Grossbuchstaben des Alphabets sind\n",
    "und der zugeh&ouml;rige Wert der entsprechende Buchstabenwert  \n",
    "(`buchstabe_wert = {'E': 1, 'N': 1,...}`).\n",
    "2. Schreibe eine Funktion `wortwert(wort)`, welche den Wortwert des Arguments `wort` zur&uuml;ck gibt.\n",
    "3. Sortiere die Liste `scrabble_words` nach Buchstabenwert, aufsteigend und absteigend.\n",
    "4. Sortiere die Liste `scrabble_words` nach Buchstabenwert und verwende jeweils das Wort als Tiebreaker."
   ]
  },
  {
   "cell_type": "code",
   "execution_count": null,
   "id": "548f6773-c7ae-47cb-bd44-62748907b19c",
   "metadata": {},
   "outputs": [],
   "source": []
  }
 ],
 "metadata": {
  "kernelspec": {
   "display_name": "Python 3 (ipykernel)",
   "language": "python",
   "name": "python3"
  },
  "language_info": {
   "codemirror_mode": {
    "name": "ipython",
    "version": 3
   },
   "file_extension": ".py",
   "mimetype": "text/x-python",
   "name": "python",
   "nbconvert_exporter": "python",
   "pygments_lexer": "ipython3",
   "version": "3.12.0"
  }
 },
 "nbformat": 4,
 "nbformat_minor": 5
}
