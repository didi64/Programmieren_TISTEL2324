{
 "cells": [
  {
   "cell_type": "markdown",
   "id": "357c5831-fe8e-4dba-ac9a-8a61173a09f5",
   "metadata": {},
   "source": [
    "### Lektion 9, &Uuml;berblick und weitere Ressourcen\n",
    "\n",
    "- Mehr zu Dictionaries:\n",
    "  - Fallunterscheidung mit Dictionaries\n",
    "  - Dictionary-Comrehension\n",
    "  - Dictionaries nach Schl&uuml;ssel (bez. Werten) sortieren\n",
    "\n",
    "\n",
    "- Iterables (String, Listen, Tuple, Mengen) mit der Funktion `sorted` sortieren.  \n",
    "  [Sortieren, Python Docs](https://docs.python.org/3/howto/sorting.html)  \n",
    "  [Die Funktion sorted, W3 Schools](https://www.w3schools.com/python/ref_func_sorted.asp)\n",
    "\n",
    "- Benamste Platzhalter-Strings\n",
    "\n",
    "- Mehr zu Funktionen: \n",
    "  - Default-Argumente, Keyword-Argumente,  \n",
    "  - Listen und Dictionaries auspacken (die Operatoren `*` und `**`)\n",
    "\n",
    "\n",
    "- Scope (Namesraum, sichtbarkeit von Variablen)  \n",
    "  [Scope W3School](https://www.w3schools.com/python/python_scope.asp)"
   ]
  }
 ],
 "metadata": {
  "kernelspec": {
   "display_name": "Python 3 (ipykernel)",
   "language": "python",
   "name": "python3"
  },
  "language_info": {
   "codemirror_mode": {
    "name": "ipython",
    "version": 3
   },
   "file_extension": ".py",
   "mimetype": "text/x-python",
   "name": "python",
   "nbconvert_exporter": "python",
   "pygments_lexer": "ipython3",
   "version": "3.12.0"
  }
 },
 "nbformat": 4,
 "nbformat_minor": 5
}
