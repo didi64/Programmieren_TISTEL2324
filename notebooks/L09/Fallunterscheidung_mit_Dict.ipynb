{
 "cells": [
  {
   "cell_type": "markdown",
   "id": "d96b3613-836e-4745-9fd5-d9bf382d527e",
   "metadata": {
    "tags": []
   },
   "source": [
    "### Fallunterscheidung mit einem Dictionary\n",
    "Wir wollen ein einfaches Spiel programmieren:  \n",
    "- Die Position eines Spieler auf einem Spielfeld wird als Tuple der Form `(<Zeile>, <Spalte>)` gespeichert.  \n",
    "- Der Spieler startet an Position `START = (0, 0)` und will nach `ZIEL  = (1, 2)`.  \n",
    "- Dem Spieler stehen die Befehle `CMDS = ['up', 'down', 'left', 'right']` zur Verf&uuml;gung, um seine Position zu &auml;ndern.  \n",
    "\n",
    "Der Spieler wird gefragt, in welche Richung er sich bewegen m&ouml;chte.   \n",
    "Statt die Eingabe in einem  `if-elif`-Block zu analysieren, wird im \n",
    "Dictionary `cmd_action` nachgeschlagen, welche Aktion zu t&auml;tigen ist:  \n",
    "Der Wert eines Schl&uuml;ssel  ist eine Funktion, welche die Position entsprechend modifiziert."
   ]
  },
  {
   "cell_type": "code",
   "execution_count": null,
   "id": "c6472f9e-5095-4b76-92df-817799dbe1e7",
   "metadata": {},
   "outputs": [],
   "source": [
    "START = (0, 0)\n",
    "ZIEL  = (1, 2)\n",
    "CMDS = ['up', 'down', 'left', 'right', 'quit']"
   ]
  },
  {
   "cell_type": "code",
   "execution_count": null,
   "id": "4141de78-9e80-4600-91b7-2aa3ccc2de1b",
   "metadata": {},
   "outputs": [],
   "source": [
    "# die Aktionen:\n",
    "def move_up(pos):\n",
    "    x, y = pos\n",
    "    return (x, y + 1)\n",
    "\n",
    "def move_down(pos):\n",
    "    x, y = pos\n",
    "    return (x, y - 1)\n",
    "\n",
    "def move_left(pos):\n",
    "    x, y = pos\n",
    "    return (x - 1, y)\n",
    "\n",
    "def move_right(pos):\n",
    "    x, y = pos\n",
    "    return (x + 1, y)\n",
    "\n",
    "def quit(pos):\n",
    "    raise NotImplementedError"
   ]
  },
  {
   "cell_type": "code",
   "execution_count": null,
   "id": "4242928e-d34e-493c-8de8-c0f5255cd83b",
   "metadata": {},
   "outputs": [],
   "source": [
    "pos = (2,4)\n",
    "move_up(pos)"
   ]
  },
  {
   "cell_type": "code",
   "execution_count": null,
   "id": "8a1e686d-acea-488e-a0f9-6cf2043ddc0a",
   "metadata": {},
   "outputs": [],
   "source": [
    "quit(pos)"
   ]
  },
  {
   "cell_type": "code",
   "execution_count": null,
   "id": "2109f277-ebbf-446b-93f3-00e948e5d1c7",
   "metadata": {},
   "outputs": [],
   "source": [
    "# Dicionary, der jedem Befehl eine Funktion zuordnet, welche die Position entsprechend anpasst\n",
    "cmd_action = {'up'   : move_up,\n",
    "              'down' : move_down,\n",
    "              'left' : move_left,\n",
    "              'right': move_right,\n",
    "              'quit' : quit,\n",
    "              }"
   ]
  },
  {
   "cell_type": "code",
   "execution_count": null,
   "id": "fd558cb4-8d19-4c65-8fe2-b68d1a2cce6b",
   "metadata": {},
   "outputs": [],
   "source": [
    "pos = (2, 0)\n",
    "cmd = CMDS[0]\n",
    "f = cmd_action[cmd]\n",
    "new_pos = f(pos)\n",
    "\n",
    "print('Alte Position: {}, Befehl: {}, neue Position: {}'.format(pos, cmd, new_pos))"
   ]
  },
  {
   "cell_type": "code",
   "execution_count": null,
   "id": "34a4bef1-78d5-463e-b783-eba7fcdb08d0",
   "metadata": {},
   "outputs": [],
   "source": [
    "def move(pos):\n",
    "    '''Nimmt Befehl entgegen und aendert Position pos entsprechend'''\n",
    "    \n",
    "    # Platzhalter-Strings\n",
    "    msg = ('Aktuelle Position: {}\\n' +\n",
    "           \"In welche Richtung soll es gehen? {}\")\n",
    "    err_msg = 'Sorry, \"{}\" ist kein gültiger Befehl!'\n",
    "    \n",
    "    cmd = input(msg.format(pos, CMDS))\n",
    "    \n",
    "    if cmd not in CMDS:\n",
    "        print(err_msg.format(cmd))\n",
    "    else:    \n",
    "        action = cmd_action[cmd]\n",
    "        pos = action(pos)\n",
    "       \n",
    "    return pos"
   ]
  },
  {
   "cell_type": "code",
   "execution_count": null,
   "id": "589ec320-0ac9-454e-af91-95a1beb96b2d",
   "metadata": {},
   "outputs": [],
   "source": [
    "move(START)"
   ]
  },
  {
   "cell_type": "code",
   "execution_count": null,
   "id": "3c642236-8ffe-4df3-8aa5-f330b167dd6c",
   "metadata": {},
   "outputs": [],
   "source": [
    "pos = START\n",
    "while pos != ZIEL:\n",
    "    pos = move(pos)\n",
    "\n",
    "print('Gratulation! Du hast das Ziel erreicht.')    "
   ]
  },
  {
   "cell_type": "markdown",
   "id": "24ee1cb2-e7d2-4500-aa5a-11ccd30f35a3",
   "metadata": {},
   "source": [
    "### Aufgabe\n",
    "Die Eingabe von 'quit' sollte keine Fehler verursachen, sondern\n",
    "das Programm beenden und die Meldung 'Spiel vor erreichen des Ziels beendet' ausgeben.  \n",
    "\n",
    "Zu diesem Zweck definieren wir eine Position `QUIT = (999, 999)`.  \n",
    "Die Funktion `quit` soll  den Spieler auf die Position `QUIT` setzen.  \n",
    "Ist der Spieler an Position ZIEL oder QUIT geben wir eine entsprechende Meldung aus und beenden  das Programm.\n",
    "\n",
    "\n",
    "Vervollst&auml;ndinge nachstehenden Code."
   ]
  },
  {
   "cell_type": "code",
   "execution_count": null,
   "id": "d2686fb8-1eea-4b25-bfe1-a7e44133f90a",
   "metadata": {},
   "outputs": [],
   "source": [
    "QUIT = (999, 999)\n",
    "def quit(pos):\n",
    "    \"bringe Spieler auf Position QUIT\""
   ]
  },
  {
   "cell_type": "code",
   "execution_count": null,
   "id": "2ef8e3f0-8a9b-4153-aa63-3e4ccd452281",
   "metadata": {},
   "outputs": [],
   "source": [
    "cmd_action['quit'] = quit"
   ]
  },
  {
   "cell_type": "code",
   "execution_count": null,
   "id": "7effe943-47bf-42ca-829b-c606ce3dd91d",
   "metadata": {},
   "outputs": [],
   "source": [
    "pos_msg = {ZIEL: '\\nDu bist im Ziel!',\n",
    "           QUIT: '\\nSpiel vor erreichen des Ziels beendet!',\n",
    "          }\n",
    "\n",
    "pos = START\n",
    "while \"Spieler weder im ZIEL noch auf QUIT\":\n",
    "    pos = move(pos)\n",
    "\n",
    "print(pos_msg[pos])    "
   ]
  },
  {
   "cell_type": "code",
   "execution_count": null,
   "id": "5e8da94e-e761-48a1-b28d-02ee4e55cba4",
   "metadata": {},
   "outputs": [],
   "source": []
  },
  {
   "cell_type": "markdown",
   "id": "7424ac01-a034-44b9-b159-aad3b277c5f7",
   "metadata": {
    "tags": []
   },
   "source": [
    "### L&ouml;sung"
   ]
  },
  {
   "cell_type": "code",
   "execution_count": null,
   "id": "c2d5e06c-0ed9-4fde-bf54-37ba7c12cd04",
   "metadata": {
    "jupyter": {
     "source_hidden": true
    },
    "tags": []
   },
   "outputs": [],
   "source": [
    "QUIT = (999, 999)\n",
    "def quit(pos):\n",
    "    return QUIT\n",
    "\n",
    "cmd_action['quit'] = quit"
   ]
  },
  {
   "cell_type": "code",
   "execution_count": null,
   "id": "ba5f4cf5-3c44-4bc0-acef-8eb09a31149f",
   "metadata": {
    "jupyter": {
     "source_hidden": true
    },
    "tags": []
   },
   "outputs": [],
   "source": [
    "pos_msg = {ZIEL: '\\nDu bist im Ziel!',\n",
    "           QUIT: '\\nSpiel vor erreichen des Ziels beendet!',\n",
    "          }\n",
    "\n",
    "pos = START\n",
    "while pos not in (ZIEL, QUIT):\n",
    "    pos = move(pos)\n",
    "\n",
    "print(pos_msg[pos])    "
   ]
  }
 ],
 "metadata": {
  "kernelspec": {
   "display_name": "Python 3 (ipykernel)",
   "language": "python",
   "name": "python3"
  },
  "language_info": {
   "codemirror_mode": {
    "name": "ipython",
    "version": 3
   },
   "file_extension": ".py",
   "mimetype": "text/x-python",
   "name": "python",
   "nbconvert_exporter": "python",
   "pygments_lexer": "ipython3",
   "version": "3.12.0"
  }
 },
 "nbformat": 4,
 "nbformat_minor": 5
}
