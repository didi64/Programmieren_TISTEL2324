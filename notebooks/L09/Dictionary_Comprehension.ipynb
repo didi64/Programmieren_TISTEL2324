{
 "cells": [
  {
   "cell_type": "markdown",
   "id": "c0f89d29-8961-4429-b428-5b1d8996f47c",
   "metadata": {},
   "source": [
    "### Dictionary-Comprehension\n",
    "\n",
    "Die List-Comprehension Syntax l&auml;sst sich auch zur Konstruktion von Dictionaries verwenden.  "
   ]
  },
  {
   "cell_type": "code",
   "execution_count": null,
   "id": "54302f8f-bc79-4318-a2bb-63020120924b",
   "metadata": {},
   "outputs": [],
   "source": [
    "# Dictionary erstellen, der zu jedem seine Position im Alphabet angibt\n",
    "\n",
    "abc = 'ABCDEFGHIJKLMNOPQRSTUVWXYZ'\n",
    "d = {buchstabe:i for i,buchstabe in enumerate(abc)}\n",
    "d"
   ]
  },
  {
   "cell_type": "code",
   "execution_count": null,
   "id": "93d1e361-661d-435d-b6b5-2700ea095a82",
   "metadata": {},
   "outputs": [],
   "source": [
    "# Nur Vokale\n",
    "vokale = 'AEIOU'\n",
    "d = {buchstabe:i for i,buchstabe in enumerate(abc) if buchstabe in vokale}\n",
    "d"
   ]
  },
  {
   "cell_type": "code",
   "execution_count": null,
   "id": "dc370d7c-ce3e-4df1-a06d-5fc8228ab5d6",
   "metadata": {},
   "outputs": [],
   "source": [
    "# Nur kleine Konsonanten\n",
    "vokale = 'AEIOU'\n",
    "d = {buchstabe.lower():i for i,buchstabe in enumerate(abc) if buchstabe not in vokale}\n",
    "d"
   ]
  },
  {
   "cell_type": "code",
   "execution_count": null,
   "id": "7b19d2be-f672-400b-bf30-487884dfcc62",
   "metadata": {},
   "outputs": [],
   "source": [
    "# Dictionary umdrehen\n",
    "bn = {'a': 1, 'b': 2, 'c': 3}\n",
    "nb = {value:key for key, value in bn.items()}\n",
    "nb"
   ]
  },
  {
   "cell_type": "code",
   "execution_count": null,
   "id": "1e9a2d33-cc92-47f6-a19d-ea0c32a15bd0",
   "metadata": {},
   "outputs": [],
   "source": [
    "# chr(65) ist der Buchstabe mit Ascii-Code 65, ein 'A'\n",
    "# chr(66) ist der Buchstabe mit Ascii-Code 66, ein 'B'. usw.\n",
    "\n",
    "d = {i:chr(65+i) for i in range(26)}\n",
    "d"
   ]
  },
  {
   "cell_type": "code",
   "execution_count": null,
   "id": "ab0bf679-5aa3-446d-aaae-4847c08713f8",
   "metadata": {},
   "outputs": [],
   "source": []
  }
 ],
 "metadata": {
  "kernelspec": {
   "display_name": "Python 3 (ipykernel)",
   "language": "python",
   "name": "python3"
  },
  "language_info": {
   "codemirror_mode": {
    "name": "ipython",
    "version": 3
   },
   "file_extension": ".py",
   "mimetype": "text/x-python",
   "name": "python",
   "nbconvert_exporter": "python",
   "pygments_lexer": "ipython3",
   "version": "3.12.0"
  }
 },
 "nbformat": 4,
 "nbformat_minor": 5
}
