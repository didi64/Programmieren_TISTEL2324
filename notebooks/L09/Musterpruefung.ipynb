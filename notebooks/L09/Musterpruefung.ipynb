{
 "cells": [
  {
   "cell_type": "markdown",
   "id": "258d9b17-6e9e-48fc-acbf-7939b65c1bfc",
   "metadata": {},
   "source": [
    "### Pr&uuml;fung\n",
    "\n",
    "**Allgemeines**\n",
    "- Zeit: 90 Minuten.\n",
    "- Hilfsmittel: Unterrichtunterlagen, Notizen, ...\n",
    "- **Verboten** ist die Kommunikation mit anderen Personen in jeglicher Form."
   ]
  },
  {
   "cell_type": "markdown",
   "id": "309ab3bd-8dc1-4e3b-a465-85a041d20945",
   "metadata": {},
   "source": [
    "### Aufgabe 1\n",
    "1. Erl&auml;utere die Verwendung eines Platzhalter-Strings am Beispiel `fstr = '\"{}\" ist die Übersetzung von \"{}\"'`.\n",
    "1. Iteriere mit Hilfe einer For-Schleife &uuml;ber die Buchstaben des Strings `'Hallo'` und gib diese aus.\n",
    "1. Verwende `enumerate` um nun auch noch die Position des jeweiligen Buchstabens auszugeben.  \n",
    "   Der Output sollte die Form  \n",
    "   \n",
    "   >Der 1. Buchstabe von Hallo ist \"H\"  \n",
    "    Der 2. Buchstabe von Hallo ist \"a\"  \n",
    "    Der 3. Buchstabe von Hallo ist \"l\"  \n",
    "    Der 4. Buchstabe von Hallo ist \"l\"  \n",
    "    Der 5. Buchstabe von Hallo ist \"o\"  \n",
    "\n",
    "   haben.\n",
    "1. Produziere obigen Output unter Verwendung der Funktion `zip` und der Objekte `(1,2,3,4,5)` und `'Hallo'`.  \n",
    "1. Erstelle mit Hilfe von List-Comprehension eine Liste mit den Zahlen `[7, 14, 21,...,70]`."
   ]
  },
  {
   "cell_type": "markdown",
   "id": "7bdb4d3b-7976-4d21-95a1-82804c43f6dc",
   "metadata": {},
   "source": [
    "### Aufgabe\n",
    "Gebegen sei die Liste `namen = ['Albert', 'Amann', 'Betty', 'Bossy', 'Carl', 'Cook']`.\n",
    "Ziel ist es, daraus eine Liste der Form `[('Albert', 'Amann'), ('Betty', 'Bossy'), ('Carl', 'Cook')]` zu machen.\n",
    "1. Erstelle mit Slicenotation eine Liste `vornamen`  mit den Vornamen und eine Liste `nachnamen` mit den Nachnamen.\n",
    "2. Erstelle mit Hilfe einer For-Schleife die gew&uuml;nschte Liste aus den Listen `vornamen`  und `nachnamen`.\n",
    "3. Benutze List-Comprehension, um aus der Liste `namen` alle Elemente auszusondern, die den Buchstaben 'A' oder 'a' enthalten\n",
    "(`['Albert', 'Amann', 'Carl']`)."
   ]
  },
  {
   "cell_type": "code",
   "execution_count": null,
   "id": "db4d4aea-c7d6-47e6-9ab4-d10b026ac890",
   "metadata": {},
   "outputs": [],
   "source": []
  },
  {
   "cell_type": "markdown",
   "id": "37ed7c30-4874-4895-a23a-d7a3bb4d3b27",
   "metadata": {},
   "source": [
    "### Aufgabe\n",
    "1. Erstelle eine Dictionary `ed` mit 3 Schl&uuml;ssel-Wert Paaren.  \n",
    "   Die Schl&uuml;ssel sollen englische W&ouml;rter sein, die zugeh&ouml;rigen Werte die deutsche &Uuml;bersetzung.  \n",
    "   Schreibe Code, der die deutsche &Uuml;bersetzung eines Wortes `word` ausgibt, falls `word` ein Schl&uuml;ssel von `ed` ist, andernfalls\n",
    "`'unbekannt'` (Hint: benutze die Methode `dict.get`).\n",
    "1. Schreibe Code, der diesen Dictionary umdreht, d.h. einen Dictionary `de` erstellt, dessen Schl&uuml;ssel nun die deutschen W&ouml;rter sind. \n",
    "1. Schreibe Code, der den Benutzer zur Eingabe eines Wortes auffordert.  \n",
    "   - Ist das Wort ein Schl&uuml;ssel im Dictionary `ed`, so gib aus, dass es sich um ein englisches Wort handelt, sowie die deutsche &Uuml;bersetzung.\n",
    "   - Verfahre entsprechend, falls das Wort ein Schl&uuml;ssel im Dictionary `de` ist.\n",
    "   - Andernfalls gib aus, dass dieses Wort nicht im W&ouml;rterbuch ist."
   ]
  },
  {
   "cell_type": "code",
   "execution_count": null,
   "id": "45019434-4d01-4832-8c21-282445345ad4",
   "metadata": {},
   "outputs": [],
   "source": []
  },
  {
   "cell_type": "markdown",
   "id": "de6aa337-1f21-47c1-87b1-9bceb01f82f4",
   "metadata": {},
   "source": [
    "### Aufgabe\n",
    "Ziel ist es, eine Funktion `rot13(text)` zu schreiben, die einen Text verschl&uuml;sselt, indem jeder Buchstabe des Alphabetes\n",
    "13 Positionen nach hinter verschoben wird.  \n",
    "Z.B. wird `'a'` zu `'n'`, `'b'` 'zu `'o'`, ... `'m'` zu `'z'` , `'n'`  zu `'a'`, `'o'` zu `'b'`, ... Entsprechend f&uuml;r Grossbuchstaben.\n",
    "\n",
    "1. Gegeben sei der String `abc = 'abcdefghijklmnopqrstuvwxyz'`.  \n",
    "   Benutze Slicenotation um einen String `am` mit den Buchstaben `a` bis `m`, und einen String `nz` mit den\n",
    "   Buchstaben `n` bis `z` zu erstellen.  \n",
    "   H&auml;nge dann die Strings `nz` und `an` aneinander, speichere das Resulstat in der Variable `nzam` und gib diesen String zur Kontrolle aus.\n",
    "1. Erstelle einen Dictionary `d`. Die Schl&uuml;ssel von `d` sind die Buchstaben in `abc`, die zugeh&ouml;rigen Werte die entsprechenden Buchstaben in `nzam`.  \n",
    "   Verschl&uuml;ssele nun den Text `text= 'Geheime Botschaft'`, indem du jedes Zeichen im Text, das ein Schl&uuml;ssel von `d` ist, durch den entsprechenden Wert ersetzt (`'Grurvzr Bbgfpunsg'`).\n",
    "\n",
    "1. Iteriere mit einer For-Schleife &uuml;ber die Buchstaben von `abc` und nimm \n",
    "   die Schl&uuml;ssel-Wert Paare `('A','N'),('B','O'),...,('Z', 'B')` in den Dictionary `d` auf, damit die Funktion `rot13` nun auch Grossbuchstaben verschiebt.\n",
    "   "
   ]
  },
  {
   "cell_type": "code",
   "execution_count": null,
   "id": "6a9874e7-f0e1-484d-b6a0-0bf3306dc902",
   "metadata": {},
   "outputs": [],
   "source": []
  },
  {
   "cell_type": "markdown",
   "id": "afa098c9-94ba-4acb-8377-55c26ca2f9d8",
   "metadata": {},
   "source": [
    "### Aufgabe\n",
    "1. Benutze die Funktion `random.randint` um ein Tuple mit\n",
    "5 Zufallszahlen von 1 bis 6 zu erstellen.\n",
    "2. Erstelle aus diesem Tuple einen Dictionary `d`, der angibt, wie oft eine Zahl gew&uuml;rfelt wurde.  \n",
    "   Der Dictionary zum Tuple `(2,4,2,4,2)` sollte {2:3, 4:2} sein.  \n",
    "3. Schreibe eine Funktion `is_fullhouse(wurf)`, die `True` zur&uuml;ck gibt, falls das Tuple `wurf` eine Zahl 3-mal und eine andere Zahl 2-mal enth&auml;lt (falls 3 und 2 Werte des Dictionaries `d` sind).\n",
    "   Teste die Funktion.\n",
    "4. W&uuml;rfle 100'000 Mal mit 5 W&uuml;rfeln und z&auml;hlt, wie oft ein\n",
    "   Fullhouse gew&uuml;rfelt wurde."
   ]
  },
  {
   "cell_type": "code",
   "execution_count": null,
   "id": "c9c4234e-bbf7-4633-97d1-04bde1ecfe14",
   "metadata": {},
   "outputs": [],
   "source": []
  }
 ],
 "metadata": {
  "kernelspec": {
   "display_name": "Python 3 (ipykernel)",
   "language": "python",
   "name": "python3"
  },
  "language_info": {
   "codemirror_mode": {
    "name": "ipython",
    "version": 3
   },
   "file_extension": ".py",
   "mimetype": "text/x-python",
   "name": "python",
   "nbconvert_exporter": "python",
   "pygments_lexer": "ipython3",
   "version": "3.12.0"
  }
 },
 "nbformat": 4,
 "nbformat_minor": 5
}
