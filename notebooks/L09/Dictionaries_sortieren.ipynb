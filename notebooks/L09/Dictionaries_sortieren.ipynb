{
 "cells": [
  {
   "cell_type": "markdown",
   "id": "a534d880-4df7-4aa3-88ab-f7e68d2f4972",
   "metadata": {},
   "source": [
    "### Dictionaries sortieren\n",
    "Die Funktion `sorted` gibt immer eine Liste zur&uuml;ck.  \n",
    "Deshalb kann man diese Funktion nicht direkt verwenden werden, um einen Dictionary zu sortieren.  \n",
    "\n",
    "**Vorgehen, um einen Dictionary `d` zu sortieren**:  \n",
    "`d.items()` ist ein Iterable, welches erlaubt, &uuml;ber alle Sch&uuml;ssel-Wert Paare zu iterieren.  \n",
    "In einem ersten Schritt sortiert man `d.items()` nach Sch&uuml;ssel oder nach Wert.  \n",
    "Dann erstellt man aus der Sortierten Liste von Sch&uuml;ssel-Wert Paare den sortierten Dictionary.\n",
    " \n",
    "          \n",
    "\n",
    "\n"
   ]
  },
  {
   "cell_type": "code",
   "execution_count": null,
   "id": "1a55f6b4-c2e7-4f26-94f1-50373d958495",
   "metadata": {},
   "outputs": [],
   "source": [
    "d = {2:'a', 3: 'b', 1: 'c'}\n",
    "d"
   ]
  },
  {
   "cell_type": "code",
   "execution_count": null,
   "id": "8c749690-0fcc-47e1-96ca-4228dbaec483",
   "metadata": {},
   "outputs": [],
   "source": [
    "# mit d.items() ueber Schüssel-Wert Paare zu iterieren:\n",
    "for k,v in d.items():\n",
    "    print(k,v)"
   ]
  },
  {
   "cell_type": "code",
   "execution_count": null,
   "id": "cd71a006-ec7b-4b68-9f55-138f231daa68",
   "metadata": {},
   "outputs": [],
   "source": [
    "# Liste mit Schüssel-Wert Paare erstellen\n",
    "list(d.items())"
   ]
  },
  {
   "cell_type": "markdown",
   "id": "1f35a8fa-efd1-4116-b646-7a84aa30da69",
   "metadata": {},
   "source": [
    "***\n",
    "Dictionary nach Keys sortieren:\n",
    "***"
   ]
  },
  {
   "cell_type": "code",
   "execution_count": null,
   "id": "8333b209-2eae-4ebc-b3d9-c98ce3c6e34b",
   "metadata": {},
   "outputs": [],
   "source": [
    "# key-value Paare nach key sortieren, value ist Tiebreaker\n",
    "\n",
    "kv_pairs = sorted(d.items())\n",
    "kv_pairs"
   ]
  },
  {
   "cell_type": "code",
   "execution_count": null,
   "id": "717ac172-9b19-40bb-9f39-edd7e75caac8",
   "metadata": {},
   "outputs": [],
   "source": [
    "# aus sortierten key-value Paaren Dictionary erstellen: \n",
    "\n",
    "dict(kv_pairs)"
   ]
  },
  {
   "cell_type": "code",
   "execution_count": null,
   "id": "bdc3ef07-cf10-4c85-9bf3-511b0bf18560",
   "metadata": {},
   "outputs": [],
   "source": [
    "def sort_by_key(d, reverse=False):\n",
    "    pairs = sorted(d.items(), reverse=reverse)\n",
    "    return dict(pairs)"
   ]
  },
  {
   "cell_type": "code",
   "execution_count": null,
   "id": "7937406d-b0a9-442e-992c-ff865497e340",
   "metadata": {},
   "outputs": [],
   "source": [
    "# Funktion testen\n",
    "\n",
    "print('aufsteigend:', sort_by_key(d))\n",
    "print('absteigend:',  sort_by_key(d, reverse=True))"
   ]
  },
  {
   "cell_type": "markdown",
   "id": "95085656-bfcd-4f95-ac02-7c052fdba52b",
   "metadata": {},
   "source": [
    "***\n",
    "Dictionary nach Werten sortieren\n",
    "***"
   ]
  },
  {
   "cell_type": "code",
   "execution_count": null,
   "id": "2085ed3f-e483-4ca2-b421-8221804cb4b1",
   "metadata": {},
   "outputs": [],
   "source": [
    "# key-value Paare nach value sortieren\n",
    "\n",
    "kv_pairs = sorted(d.items(), key=lambda item:item[1])\n",
    "kv_pairs"
   ]
  },
  {
   "cell_type": "code",
   "execution_count": null,
   "id": "539e63c1-ce1a-4296-bfa1-f0e1034b894c",
   "metadata": {},
   "outputs": [],
   "source": [
    "# aus kv_pairs einen Dictionary machen\n",
    "dict(kv_pairs)"
   ]
  },
  {
   "cell_type": "code",
   "execution_count": null,
   "id": "fea6b1fd-ecbf-4e67-a615-1f9f1dec3f1c",
   "metadata": {},
   "outputs": [],
   "source": [
    "def sort_by_value(d, reverse = True):\n",
    "    pairs = sorted(d.items(), key=lambda item:item[1], reverse=reverse)\n",
    "    return dict(pairs)"
   ]
  },
  {
   "cell_type": "code",
   "execution_count": null,
   "id": "757fccb4-477d-4cb6-b373-053205f1edcb",
   "metadata": {},
   "outputs": [],
   "source": [
    "# Funktion testen\n",
    "\n",
    "print('aufsteigend:', sort_by_value(d))\n",
    "print('absteigend:',  sort_by_value(d, reverse=True))"
   ]
  },
  {
   "cell_type": "code",
   "execution_count": null,
   "id": "e1b9ac50-7b29-4cce-9e2d-58f3795c735b",
   "metadata": {},
   "outputs": [],
   "source": []
  }
 ],
 "metadata": {
  "kernelspec": {
   "display_name": "Python 3 (ipykernel)",
   "language": "python",
   "name": "python3"
  },
  "language_info": {
   "codemirror_mode": {
    "name": "ipython",
    "version": 3
   },
   "file_extension": ".py",
   "mimetype": "text/x-python",
   "name": "python",
   "nbconvert_exporter": "python",
   "pygments_lexer": "ipython3",
   "version": "3.12.0"
  }
 },
 "nbformat": 4,
 "nbformat_minor": 5
}
