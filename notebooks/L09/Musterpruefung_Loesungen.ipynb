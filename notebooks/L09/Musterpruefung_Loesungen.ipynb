{
 "cells": [
  {
   "cell_type": "markdown",
   "id": "258d9b17-6e9e-48fc-acbf-7939b65c1bfc",
   "metadata": {},
   "source": [
    "### Pr&uuml;fung\n",
    "\n",
    "**Allgemeines**\n",
    "- Zeit: 90 Minuten.\n",
    "- Hilfsmittel: Unterrichtunterlagen, Notizen, ...\n",
    "- **Verboten** ist die Kommunikation mit anderen Personen in jeglicher Form."
   ]
  },
  {
   "cell_type": "markdown",
   "id": "309ab3bd-8dc1-4e3b-a465-85a041d20945",
   "metadata": {},
   "source": [
    "### Aufgabe 1\n",
    "1. Erl&auml;utere die Verwendung eines Platzhalter-Strings am Beispiel `fstr = '\"{}\" ist die Übersetzung von \"{}\"'`.\n",
    "1. Iteriere mit Hilfe einer For-Schleife &uuml;ber die Buchstaben des Strings `'Hallo'` und gib diese aus.\n",
    "1. Verwende `enumerate` um nun auch noch die Position des jeweiligen Buchstabens auszugeben.  \n",
    "   Der Output sollte die Form  \n",
    "   \n",
    "   >Der 1. Buchstabe von Hallo ist \"H\"  \n",
    "    Der 2. Buchstabe von Hallo ist \"a\"  \n",
    "    Der 3. Buchstabe von Hallo ist \"l\"  \n",
    "    Der 4. Buchstabe von Hallo ist \"l\"  \n",
    "    Der 5. Buchstabe von Hallo ist \"o\"  \n",
    "\n",
    "   haben.\n",
    "1. Produziere obigen Output unter Verwendung der Funktion `zip` und der Objekte `(1,2,3,4,5)` und `'Hallo'`.  \n",
    "1. Erstelle mit Hilfe von List-Comprehension eine Liste mit den Zahlen `[7, 14, 21,...,70]`."
   ]
  },
  {
   "cell_type": "code",
   "execution_count": 10,
   "id": "f43bfe45-2328-4d55-a3d3-acffdbc41232",
   "metadata": {},
   "outputs": [
    {
     "data": {
      "text/plain": [
       "'\"house\" ist die Übersetzung von \"Haus\"'"
      ]
     },
     "execution_count": 10,
     "metadata": {},
     "output_type": "execute_result"
    }
   ],
   "source": [
    "# '{}' innerhalb eines Strings sind Platzhalter\n",
    "# Platzhalter koennen mit str.format befuellt werden\n",
    "fstr = '\"{}\" ist die Übersetzung von \"{}\"'\n",
    "fstr.format('house', 'Haus')"
   ]
  },
  {
   "cell_type": "code",
   "execution_count": 4,
   "id": "ad8f84cc-e5bd-4199-8ba8-e3df6d88001f",
   "metadata": {},
   "outputs": [
    {
     "name": "stdout",
     "output_type": "stream",
     "text": [
      "H ,a ,l ,l ,o ,"
     ]
    }
   ],
   "source": [
    "for ch in 'Hallo':\n",
    "    print(ch, end = ' ,' )"
   ]
  },
  {
   "cell_type": "code",
   "execution_count": 9,
   "id": "7522a7af-fba8-4cc7-becc-96e07cb1f8b8",
   "metadata": {},
   "outputs": [
    {
     "name": "stdout",
     "output_type": "stream",
     "text": [
      "Der 1. Buchstabe von Hallo ist \"H\"\n",
      "Der 2. Buchstabe von Hallo ist \"a\"\n",
      "Der 3. Buchstabe von Hallo ist \"l\"\n",
      "Der 4. Buchstabe von Hallo ist \"l\"\n",
      "Der 5. Buchstabe von Hallo ist \"o\"\n"
     ]
    }
   ],
   "source": [
    "for i,ch in enumerate('Hallo'):\n",
    "    print('Der {}. Buchstabe von Hallo ist \"{}\"'.format(i+1, ch))"
   ]
  },
  {
   "cell_type": "code",
   "execution_count": 12,
   "id": "fe02c1cf-b45c-4d45-bbb4-faedf7af2d74",
   "metadata": {},
   "outputs": [
    {
     "name": "stdout",
     "output_type": "stream",
     "text": [
      "Der 1. Buchstabe von Hallo ist \"H\"\n",
      "Der 2. Buchstabe von Hallo ist \"a\"\n",
      "Der 3. Buchstabe von Hallo ist \"l\"\n",
      "Der 4. Buchstabe von Hallo ist \"l\"\n",
      "Der 5. Buchstabe von Hallo ist \"o\"\n"
     ]
    }
   ],
   "source": [
    "for i,ch in zip((1,2,3,4,5), 'Hallo'):\n",
    "    print('Der {}. Buchstabe von Hallo ist \"{}\"'.format(i, ch))"
   ]
  },
  {
   "cell_type": "code",
   "execution_count": 8,
   "id": "4d9fe375-983a-4f61-974a-7cec88c341f8",
   "metadata": {},
   "outputs": [
    {
     "data": {
      "text/plain": [
       "[7, 14, 21, 28, 35, 42, 49]"
      ]
     },
     "execution_count": 8,
     "metadata": {},
     "output_type": "execute_result"
    }
   ],
   "source": [
    "lst = [7*i for i in range(1,8)]\n",
    "lst"
   ]
  },
  {
   "cell_type": "markdown",
   "id": "7bdb4d3b-7976-4d21-95a1-82804c43f6dc",
   "metadata": {},
   "source": [
    "### Aufgabe\n",
    "Gebegen sei die Liste `namen = ['Albert', 'Amann', 'Betty', 'Bossy', 'Carl', 'Cook']`.\n",
    "Ziel ist es, daraus eine Liste der Form `[('Albert', 'Amann'), ('Betty', 'Bossy'), ('Carl', 'Cook')]` zu machen.\n",
    "1. Erstelle mit Slicenotation eine Liste `vornamen`  mit den Vornamen und eine Liste `nachnamen` mit den Nachnamen.\n",
    "2. Erstelle mit Hilfe einer For-Schleife die gew&uuml;nschte Liste aus den Listen `vornamen`  und `nachnamen`.\n",
    "3. Benutze List-Comprehension, um aus der Liste `namen` alle Elemente auszusondern, die den Buchstaben 'A' oder 'a' enthalten\n",
    "(`['Albert', 'Amann', 'Carl']`)."
   ]
  },
  {
   "cell_type": "code",
   "execution_count": 13,
   "id": "f83e6f65-a307-4b2a-9513-5ed2c39a3496",
   "metadata": {},
   "outputs": [
    {
     "data": {
      "text/plain": [
       "['Albert', 'Betty', 'Carl']"
      ]
     },
     "execution_count": 13,
     "metadata": {},
     "output_type": "execute_result"
    }
   ],
   "source": [
    "namen = ['Albert', 'Amann', 'Betty', 'Bossy', 'Carl', 'Cook']\n",
    "nachnamen = namen[::2]\n",
    "nachnamen"
   ]
  },
  {
   "cell_type": "code",
   "execution_count": 14,
   "id": "00feb2f7-f45d-4a05-bb67-6d4dc0b6f961",
   "metadata": {},
   "outputs": [
    {
     "data": {
      "text/plain": [
       "['Amann', 'Bossy', 'Cook']"
      ]
     },
     "execution_count": 14,
     "metadata": {},
     "output_type": "execute_result"
    }
   ],
   "source": [
    "vornamen = namen[1::2]\n",
    "vornamen"
   ]
  },
  {
   "cell_type": "code",
   "execution_count": 15,
   "id": "80eaea55-5ee3-4ddb-a92c-bc02f5fa2c86",
   "metadata": {},
   "outputs": [
    {
     "data": {
      "text/plain": [
       "[('Amann', 'Albert'), ('Bossy', 'Betty'), ('Cook', 'Carl')]"
      ]
     },
     "execution_count": 15,
     "metadata": {},
     "output_type": "execute_result"
    }
   ],
   "source": [
    "vn = []\n",
    "for v,n in zip(vornamen, nachnamen):\n",
    "    item = (v, n)\n",
    "    vn.append(item)\n",
    "vn    "
   ]
  },
  {
   "cell_type": "code",
   "execution_count": 17,
   "id": "64186dd8-96de-40cd-b9e1-834b2a47553e",
   "metadata": {},
   "outputs": [
    {
     "data": {
      "text/plain": [
       "[('Amann', 'Albert'), ('Bossy', 'Betty'), ('Cook', 'Carl')]"
      ]
     },
     "execution_count": 17,
     "metadata": {},
     "output_type": "execute_result"
    }
   ],
   "source": [
    "vn = []\n",
    "for tpl in zip(vornamen, nachnamen):\n",
    "    vn.append(tpl)\n",
    "vn  "
   ]
  },
  {
   "cell_type": "code",
   "execution_count": 18,
   "id": "96bd4a85-f672-4d9a-8d6c-71be3808adfc",
   "metadata": {},
   "outputs": [
    {
     "data": {
      "text/plain": [
       "['Albert', 'Amann', 'Carl']"
      ]
     },
     "execution_count": 18,
     "metadata": {},
     "output_type": "execute_result"
    }
   ],
   "source": [
    "[x for x in namen if 'A' in x or 'a' in x]"
   ]
  },
  {
   "cell_type": "code",
   "execution_count": 79,
   "id": "eb7f8f3f-f57b-436b-a788-e82102dff056",
   "metadata": {},
   "outputs": [
    {
     "data": {
      "text/plain": [
       "['Albert', 'Amann', 'Carl']"
      ]
     },
     "execution_count": 79,
     "metadata": {},
     "output_type": "execute_result"
    }
   ],
   "source": [
    "[x for x in namen if 'A' in x.upper()]"
   ]
  },
  {
   "cell_type": "markdown",
   "id": "37ed7c30-4874-4895-a23a-d7a3bb4d3b27",
   "metadata": {},
   "source": [
    "### Aufgabe\n",
    "1. Erstelle eine Dictionary `ed` mit 3 Schl&uuml;ssel-Wert Paaren.  \n",
    "   Die Schl&uuml;ssel sollen englische W&ouml;rter sein, die zugeh&ouml;rigen Werte die deutsche &Uuml;bersetzung.  \n",
    "   Schreibe Code, der die deutsche &Uuml;bersetzung eines Wortes `word` ausgibt, falls `word` ein Schl&uuml;ssel von `ed` ist, andernfalls\n",
    "`'unbekannt'` (Hint: benutze die Methode `dict.get`).\n",
    "1. Schreibe Code, der diesen Dictionary umdreht, d.h. einen Dictionary `de` erstellt, dessen Schl&uuml;ssel nun die deutschen W&ouml;rter sind. \n",
    "1. Schreibe Code, der den Benutzer zur Eingabe eines Wortes auffordert.  \n",
    "   - Ist das Wort ein Schl&uuml;ssel im Dictionary `ed`, so gib aus, dass es sich um ein englisches Wort handelt, sowie die deutsche &Uuml;bersetzung.\n",
    "   - Verfahre entsprechend, falls das Wort ein Schl&uuml;ssel im Dictionary `de` ist.\n",
    "   - Andernfalls gib aus, dass dieses Wort nicht im W&ouml;rterbuch ist."
   ]
  },
  {
   "cell_type": "code",
   "execution_count": 74,
   "id": "76c53dbc-b652-4f36-a85c-4e4e772ae8eb",
   "metadata": {},
   "outputs": [],
   "source": [
    "ed = {'one': 'eins', 'two': 'zwei', 'three': 'drei'}"
   ]
  },
  {
   "cell_type": "code",
   "execution_count": 81,
   "id": "8fd2bbe3-ead6-47df-9dd1-34829d170d7e",
   "metadata": {},
   "outputs": [
    {
     "name": "stdout",
     "output_type": "stream",
     "text": [
      "unbekannt\n"
     ]
    }
   ],
   "source": [
    "word = 'one.'\n",
    "wort = ed.get(word, 'unbekannt')\n",
    "print(wort)"
   ]
  },
  {
   "cell_type": "code",
   "execution_count": 21,
   "id": "5225775c-a71c-420f-957f-0d9f58a5ca14",
   "metadata": {},
   "outputs": [
    {
     "data": {
      "text/plain": [
       "{'eins': 'one', 'zwei': 'two', 'drei': 'three'}"
      ]
     },
     "execution_count": 21,
     "metadata": {},
     "output_type": "execute_result"
    }
   ],
   "source": [
    "de = {v:k for k,v in ed.items()}\n",
    "de"
   ]
  },
  {
   "cell_type": "code",
   "execution_count": 23,
   "id": "bb4b0aee-3b82-42ce-98ca-dd7112cae275",
   "metadata": {},
   "outputs": [
    {
     "data": {
      "text/plain": [
       "{'eins': 'one', 'zwei': 'two', 'drei': 'three'}"
      ]
     },
     "execution_count": 23,
     "metadata": {},
     "output_type": "execute_result"
    }
   ],
   "source": [
    "de = {}\n",
    "for k,v in ed.items():\n",
    "    de[v]=k\n",
    "de    "
   ]
  },
  {
   "cell_type": "code",
   "execution_count": 38,
   "id": "9565b9e9-281e-433a-87df-be9c1978a86a",
   "metadata": {},
   "outputs": [
    {
     "name": "stdin",
     "output_type": "stream",
     "text": [
      "Gib ein Wort ein:  foo\n"
     ]
    },
    {
     "name": "stdout",
     "output_type": "stream",
     "text": [
      "\"foo\" ist nicht im Wörterbuch.\n"
     ]
    }
   ],
   "source": [
    "wort = input('Gib ein Wort ein: ')\n",
    "if wort in ed:\n",
    "    print('\"{}\" ist ein englisches Wort. Die deutsche Übersetzung ist \"{}\".'.format(wort, ed[wort]))\n",
    "elif wort in de:\n",
    "    print('\"{}\" ist ein deutsches Wort. Die englische Übersetzung ist \"{}\".'.format(wort, de[wort]))\n",
    "else:\n",
    "    print('\"{}\" ist nicht im Wörterbuch.'.format(wort))"
   ]
  },
  {
   "cell_type": "markdown",
   "id": "de6aa337-1f21-47c1-87b1-9bceb01f82f4",
   "metadata": {},
   "source": [
    "### Aufgabe\n",
    "Ziel ist es, eine Funktion `rot13(text)` zu schreiben, die einen Text verschl&uuml;sselt, indem jeder Buchstabe des Alphabetes\n",
    "13 Positionen nach hinter verschoben wird.  \n",
    "Z.B. wird `'a'` zu `'n'`, `'b'` 'zu `'o'`, ... `'m'` zu `'z'` , `'n'`  zu `'a'`, `'o'` zu `'b'`, ... Entsprechend f&uuml;r Grossbuchstaben.\n",
    "\n",
    "1. Gegeben sei der String `abc = 'abcdefghijklmnopqrstuvwxyz'`.  \n",
    "   Benutze Slicenotation um einen String `am` mit den Buchstaben `a` bis `m`, und einen String `nz` mit den\n",
    "   Buchstaben `n` bis `z` zu erstellen.  \n",
    "   H&auml;nge dann die Strings `nz` und `an` aneinander, speichere das Resulstat in der Variable `nzam` und gib diesen String zur Kontrolle aus.\n",
    "1. Erstelle einen Dictionary `d`. Die Schl&uuml;ssel von `d` sind die Buchstaben in `abc`, die zugeh&ouml;rigen Werte die entsprechenden Buchstaben in `nzam`.  \n",
    "   Verschl&uuml;ssele nun den Text `text= 'Geheime Botschaft'`, indem du jedes Zeichen im Text, das ein Schl&uuml;ssel von `d` ist, durch den entsprechenden Wert ersetzt (`'Grurvzr Bbgfpunsg'`).\n",
    "\n",
    "1. Iteriere mit einer For-Schleife &uuml;ber die Buchstaben von `abc` und nimm \n",
    "   die Schl&uuml;ssel-Wert Paare `('A','N'),('B','O'),...,('Z', 'B')` in den Dictionary `d` auf, damit die Funktion `rot13` nun auch Grossbuchstaben verschiebt.\n",
    "   "
   ]
  },
  {
   "cell_type": "code",
   "execution_count": 83,
   "id": "25bd1d22-d6da-4eef-876b-d230246811bb",
   "metadata": {},
   "outputs": [
    {
     "name": "stdout",
     "output_type": "stream",
     "text": [
      "abcdefghijklm nopqrstuvwxyz nopqrstuvwxyzabcdefghijklm\n"
     ]
    }
   ],
   "source": [
    "abc = 'abcdefghijklmnopqrstuvwxyz'\n",
    "am = abc[:13]\n",
    "nz = abc[13:]\n",
    "nzam = nz + am\n",
    "print(am, nz, nzam)"
   ]
  },
  {
   "cell_type": "code",
   "execution_count": 84,
   "id": "35252ffe-52b9-4884-ab5f-8d717e85b19e",
   "metadata": {},
   "outputs": [],
   "source": [
    "d = dict(zip(abc, nzam))\n",
    "# d"
   ]
  },
  {
   "cell_type": "code",
   "execution_count": 85,
   "id": "fb8bd0c8-fe25-4295-a45a-dcd41ba8e9fd",
   "metadata": {},
   "outputs": [],
   "source": [
    "d = {}\n",
    "for k,v in zip(abc, nzam):\n",
    "    d[k] = v\n",
    "# d    "
   ]
  },
  {
   "cell_type": "code",
   "execution_count": 86,
   "id": "409697d5-7b70-4641-8187-b9d6f9fee7ea",
   "metadata": {},
   "outputs": [
    {
     "data": {
      "text/plain": [
       "'Grurvzr Bbgfpunsg'"
      ]
     },
     "execution_count": 86,
     "metadata": {},
     "output_type": "execute_result"
    }
   ],
   "source": [
    "text = 'Geheime Botschaft'\n",
    "cypher = ''.join([d.get(k, k) for k in text])\n",
    "cypher"
   ]
  },
  {
   "cell_type": "code",
   "execution_count": 54,
   "id": "ac8bd4f4-7055-4c52-9010-73718630977f",
   "metadata": {},
   "outputs": [],
   "source": [
    "def rot13(text):\n",
    "    cypher = ''.join([d.get(k, k) for k in text])\n",
    "    return cypher"
   ]
  },
  {
   "cell_type": "code",
   "execution_count": 87,
   "id": "0b2a92e5-a461-415b-a760-5827b66dbc1a",
   "metadata": {},
   "outputs": [
    {
     "data": {
      "text/plain": [
       "'Grurvzr Bbgfpunsg'"
      ]
     },
     "execution_count": 87,
     "metadata": {},
     "output_type": "execute_result"
    }
   ],
   "source": [
    "text = 'Geheime Botschaft'\n",
    "rot13(text)"
   ]
  },
  {
   "cell_type": "code",
   "execution_count": 88,
   "id": "800f2565-4a1c-4fba-9e44-ab8893281dca",
   "metadata": {},
   "outputs": [],
   "source": [
    "for ch in abc:\n",
    "    val = d[ch].upper()\n",
    "    key = ch.upper()\n",
    "    d[key] = val \n",
    "    \n",
    "# d    "
   ]
  },
  {
   "cell_type": "code",
   "execution_count": 89,
   "id": "257cff59-6fdd-43fc-8fcb-c74b5cd2d96a",
   "metadata": {},
   "outputs": [
    {
     "data": {
      "text/plain": [
       "'Trurvzr Obgfpunsg'"
      ]
     },
     "execution_count": 89,
     "metadata": {},
     "output_type": "execute_result"
    }
   ],
   "source": [
    "text = 'Geheime Botschaft'\n",
    "rot13(text)"
   ]
  },
  {
   "cell_type": "markdown",
   "id": "afa098c9-94ba-4acb-8377-55c26ca2f9d8",
   "metadata": {},
   "source": [
    "### Aufgabe\n",
    "1. Benutze die Funktion `random.randint` um ein Tuple mit\n",
    "5 Zufallszahlen von 1 bis 6 zu erstellen.\n",
    "2. Erstelle aus diesem Tuple einen Dictionary `d`, der angibt, wie oft eine Zahl gew&uuml;rfelt wurde.  \n",
    "   Der Dictionary zum Tuple `(2,4,2,4,2)` sollte {2:3, 4:2} sein.  \n",
    "3. Schreibe eine Funktion `is_fullhouse(wurf)`, die `True` zur&uuml;ck gibt, falls das Tuple `wurf` eine Zahl 3-mal und eine andere Zahl 2-mal enth&auml;lt (falls 3 und 2 Werte des Dictionaries `d` sind).\n",
    "   Teste die Funktion.\n",
    "4. W&uuml;rfle 100'000 Mal mit 5 W&uuml;rfeln und z&auml;hlt, wie oft ein\n",
    "   Fullhouse gew&uuml;rfelt wurde."
   ]
  },
  {
   "cell_type": "code",
   "execution_count": 93,
   "id": "45c14db7-fac1-4f16-b724-178fd0458cea",
   "metadata": {},
   "outputs": [
    {
     "data": {
      "text/plain": [
       "(5, 5, 3, 2, 6)"
      ]
     },
     "execution_count": 93,
     "metadata": {},
     "output_type": "execute_result"
    }
   ],
   "source": [
    "import random\n",
    "wurf = tuple(random.randint(1,6) for _ in range(5))\n",
    "wurf"
   ]
  },
  {
   "cell_type": "code",
   "execution_count": 94,
   "id": "8e215a76-66e6-4377-a203-0fca864632c8",
   "metadata": {},
   "outputs": [
    {
     "data": {
      "text/plain": [
       "{2: 3, 4: 2}"
      ]
     },
     "execution_count": 94,
     "metadata": {},
     "output_type": "execute_result"
    }
   ],
   "source": [
    "wurf = (2,4,2,4,2)\n",
    "d = {}\n",
    "for n in wurf:\n",
    "    d[n] = d.get(n, 0) + 1\n",
    "d    "
   ]
  },
  {
   "cell_type": "code",
   "execution_count": 95,
   "id": "c033402e-f063-4851-873b-e5040fa81149",
   "metadata": {},
   "outputs": [],
   "source": [
    "def is_fullhouse(wurf):\n",
    "    d = {}\n",
    "    for n in wurf:\n",
    "        d[n] = d.get(n, 0) + 1\n",
    "    return 3 in d.values() and 2 in d.values()"
   ]
  },
  {
   "cell_type": "code",
   "execution_count": 96,
   "id": "76a926b0-b950-4b04-8b81-37107ad20837",
   "metadata": {},
   "outputs": [
    {
     "data": {
      "text/plain": [
       "True"
      ]
     },
     "execution_count": 96,
     "metadata": {},
     "output_type": "execute_result"
    }
   ],
   "source": [
    "wurf = (2,4,2,4,4)\n",
    "is_fullhouse(wurf)"
   ]
  },
  {
   "cell_type": "code",
   "execution_count": 97,
   "id": "9f31f37e-07ec-4583-a2a4-15e101fa8ba7",
   "metadata": {},
   "outputs": [
    {
     "data": {
      "text/plain": [
       "3848"
      ]
     },
     "execution_count": 97,
     "metadata": {},
     "output_type": "execute_result"
    }
   ],
   "source": [
    "tot = 0\n",
    "for _ in range(100_000):\n",
    "    wurf = tuple(random.randint(1,6) for _ in range(5))\n",
    "    if is_fullhouse(wurf):\n",
    "        tot += 1\n",
    "\n",
    "tot"
   ]
  },
  {
   "cell_type": "code",
   "execution_count": null,
   "id": "c9c4234e-bbf7-4633-97d1-04bde1ecfe14",
   "metadata": {},
   "outputs": [],
   "source": []
  }
 ],
 "metadata": {
  "kernelspec": {
   "display_name": "Python 3 (ipykernel)",
   "language": "python",
   "name": "python3"
  },
  "language_info": {
   "codemirror_mode": {
    "name": "ipython",
    "version": 3
   },
   "file_extension": ".py",
   "mimetype": "text/x-python",
   "name": "python",
   "nbconvert_exporter": "python",
   "pygments_lexer": "ipython3",
   "version": "3.12.0"
  }
 },
 "nbformat": 4,
 "nbformat_minor": 5
}
