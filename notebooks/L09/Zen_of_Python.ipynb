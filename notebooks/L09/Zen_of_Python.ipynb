{
 "cells": [
  {
   "cell_type": "markdown",
   "id": "be977881-570e-4bc7-89b9-5f999f8dd0ee",
   "metadata": {},
   "source": [
    "### The Zen of Python\n",
    "Der langjährige Pythoneer Tim Peters fasst die Leitprinzipien für das Design von Python Aphorismen zusammen, welche\n",
    "beim Import des Modules `this` ausgegeben werden.  \n",
    "\n",
    "Ein Blick auf den Source-Code des Modules `this` zeigt,\n",
    "das die Aphorismen verschl&uuml;sselt in einer Variable `s` gespeichert sind. \n",
    "Es wird ein Dicionary `d` definiert, welcher jeden Buchstaben um 13 Positionen weiter schiebt\n",
    "(rot13)."
   ]
  },
  {
   "cell_type": "code",
   "execution_count": 1,
   "id": "64b235c0-001a-4c17-bfda-a0890c248d25",
   "metadata": {},
   "outputs": [
    {
     "name": "stdout",
     "output_type": "stream",
     "text": [
      "The Zen of Python, by Tim Peters\n",
      "\n",
      "Beautiful is better than ugly.\n",
      "Explicit is better than implicit.\n",
      "Simple is better than complex.\n",
      "Complex is better than complicated.\n",
      "Flat is better than nested.\n",
      "Sparse is better than dense.\n",
      "Readability counts.\n",
      "Special cases aren't special enough to break the rules.\n",
      "Although practicality beats purity.\n",
      "Errors should never pass silently.\n",
      "Unless explicitly silenced.\n",
      "In the face of ambiguity, refuse the temptation to guess.\n",
      "There should be one-- and preferably only one --obvious way to do it.\n",
      "Although that way may not be obvious at first unless you're Dutch.\n",
      "Now is better than never.\n",
      "Although never is often better than *right* now.\n",
      "If the implementation is hard to explain, it's a bad idea.\n",
      "If the implementation is easy to explain, it may be a good idea.\n",
      "Namespaces are one honking great idea -- let's do more of those!\n"
     ]
    }
   ],
   "source": [
    "import this"
   ]
  },
  {
   "cell_type": "code",
   "execution_count": null,
   "id": "762809aa-10ed-4c8e-bf12-b28e1d63de59",
   "metadata": {},
   "outputs": [],
   "source": [
    "# this.s\n",
    "# this.d"
   ]
  },
  {
   "cell_type": "code",
   "execution_count": 9,
   "id": "38f79742-116b-4830-bd32-832eac2c2ce2",
   "metadata": {},
   "outputs": [],
   "source": [
    "def rot13(text):\n",
    "    '''verwenden den Dictionary this.d um text zu verschluesseln:\n",
    "       Ist ein Zeichen ch ein Schluessel von this.d, so wird er durch den\n",
    "       zugehoerigen Wert this.d[ch] ersetzt, anderfalls beigehalten.\n",
    "       \n",
    "       siehe: Hilfstext zu dict.get\n",
    "    '''\n",
    "    cypher_text = ''.join([this.d.get(ch, ch) for ch in text])\n",
    "    return cypher_text"
   ]
  },
  {
   "cell_type": "code",
   "execution_count": 10,
   "id": "e8245aa4-19b1-459f-a25a-c5c1a5a49b8e",
   "metadata": {},
   "outputs": [
    {
     "name": "stdout",
     "output_type": "stream",
     "text": [
      "The Zen of Python, by Tim Peters\n",
      "\n",
      "Beautiful is better than ugly.\n",
      "Explicit is better than implicit.\n",
      "Simple is better than complex.\n",
      "Complex is better than complicated.\n",
      "Flat is better than nested.\n",
      "Sparse is better than dense.\n",
      "Readability counts.\n",
      "Special cases aren't special enough to break the rules.\n",
      "Although practicality beats purity.\n",
      "Errors should never pass silently.\n",
      "Unless explicitly silenced.\n",
      "In the face of ambiguity, refuse the temptation to guess.\n",
      "There should be one-- and preferably only one --obvious way to do it.\n",
      "Although that way may not be obvious at first unless you're Dutch.\n",
      "Now is better than never.\n",
      "Although never is often better than *right* now.\n",
      "If the implementation is hard to explain, it's a bad idea.\n",
      "If the implementation is easy to explain, it may be a good idea.\n",
      "Namespaces are one honking great idea -- let's do more of those!\n"
     ]
    }
   ],
   "source": [
    "print(rot13(this.s))"
   ]
  },
  {
   "cell_type": "markdown",
   "id": "94f69747-c68e-4835-b6f1-303fac9a590b",
   "metadata": {},
   "source": [
    "***\n",
    "**Source** des Moduls `this` mit `%load $this.__file__` in Zelle laden:\n",
    "***"
   ]
  },
  {
   "cell_type": "code",
   "execution_count": 11,
   "id": "74298feb-fdb6-4f12-aabe-d905b34a2c9b",
   "metadata": {},
   "outputs": [
    {
     "name": "stdout",
     "output_type": "stream",
     "text": [
      "The Zen of Python, by Tim Peters\n",
      "\n",
      "Beautiful is better than ugly.\n",
      "Explicit is better than implicit.\n",
      "Simple is better than complex.\n",
      "Complex is better than complicated.\n",
      "Flat is better than nested.\n",
      "Sparse is better than dense.\n",
      "Readability counts.\n",
      "Special cases aren't special enough to break the rules.\n",
      "Although practicality beats purity.\n",
      "Errors should never pass silently.\n",
      "Unless explicitly silenced.\n",
      "In the face of ambiguity, refuse the temptation to guess.\n",
      "There should be one-- and preferably only one --obvious way to do it.\n",
      "Although that way may not be obvious at first unless you're Dutch.\n",
      "Now is better than never.\n",
      "Although never is often better than *right* now.\n",
      "If the implementation is hard to explain, it's a bad idea.\n",
      "If the implementation is easy to explain, it may be a good idea.\n",
      "Namespaces are one honking great idea -- let's do more of those!\n"
     ]
    }
   ],
   "source": [
    "# %load /usr/lib/python3.12/this.py\n",
    "s = \"\"\"Gur Mra bs Clguba, ol Gvz Crgref\n",
    "\n",
    "Ornhgvshy vf orggre guna htyl.\n",
    "Rkcyvpvg vf orggre guna vzcyvpvg.\n",
    "Fvzcyr vf orggre guna pbzcyrk.\n",
    "Pbzcyrk vf orggre guna pbzcyvpngrq.\n",
    "Syng vf orggre guna arfgrq.\n",
    "Fcnefr vf orggre guna qrafr.\n",
    "Ernqnovyvgl pbhagf.\n",
    "Fcrpvny pnfrf nera'g fcrpvny rabhtu gb oernx gur ehyrf.\n",
    "Nygubhtu cenpgvpnyvgl orngf chevgl.\n",
    "Reebef fubhyq arire cnff fvyragyl.\n",
    "Hayrff rkcyvpvgyl fvyraprq.\n",
    "Va gur snpr bs nzovthvgl, ershfr gur grzcgngvba gb thrff.\n",
    "Gurer fubhyq or bar-- naq cersrenoyl bayl bar --boivbhf jnl gb qb vg.\n",
    "Nygubhtu gung jnl znl abg or boivbhf ng svefg hayrff lbh'er Qhgpu.\n",
    "Abj vf orggre guna arire.\n",
    "Nygubhtu arire vf bsgra orggre guna *evtug* abj.\n",
    "Vs gur vzcyrzragngvba vf uneq gb rkcynva, vg'f n onq vqrn.\n",
    "Vs gur vzcyrzragngvba vf rnfl gb rkcynva, vg znl or n tbbq vqrn.\n",
    "Anzrfcnprf ner bar ubaxvat terng vqrn -- yrg'f qb zber bs gubfr!\"\"\"\n",
    "\n",
    "d = {}\n",
    "for c in (65, 97):\n",
    "    for i in range(26):\n",
    "        d[chr(i+c)] = chr((i+13) % 26 + c)\n",
    "\n",
    "print(\"\".join([d.get(c, c) for c in s]))\n"
   ]
  },
  {
   "cell_type": "code",
   "execution_count": 12,
   "id": "8f503222-39f7-4134-8017-c85b5accb62e",
   "metadata": {},
   "outputs": [
    {
     "data": {
      "text/plain": [
       "'Qnf Tryq vfg vz Gerfbe.'"
      ]
     },
     "execution_count": 12,
     "metadata": {},
     "output_type": "execute_result"
    }
   ],
   "source": [
    "text = 'Das Geld ist im Tresor.'\n",
    "cypher = rot13(text)\n",
    "cypher"
   ]
  },
  {
   "cell_type": "code",
   "execution_count": 13,
   "id": "3379a14a-f6fa-46a0-9711-57037021f78f",
   "metadata": {},
   "outputs": [
    {
     "data": {
      "text/plain": [
       "'Das Geld ist im Tresor.'"
      ]
     },
     "execution_count": 13,
     "metadata": {},
     "output_type": "execute_result"
    }
   ],
   "source": [
    "rot13(cypher)"
   ]
  },
  {
   "cell_type": "code",
   "execution_count": null,
   "id": "5dd06f43-d69d-47bb-92ba-166188227477",
   "metadata": {},
   "outputs": [],
   "source": []
  }
 ],
 "metadata": {
  "kernelspec": {
   "display_name": "Python 3 (ipykernel)",
   "language": "python",
   "name": "python3"
  },
  "language_info": {
   "codemirror_mode": {
    "name": "ipython",
    "version": 3
   },
   "file_extension": ".py",
   "mimetype": "text/x-python",
   "name": "python",
   "nbconvert_exporter": "python",
   "pygments_lexer": "ipython3",
   "version": "3.12.0"
  }
 },
 "nbformat": 4,
 "nbformat_minor": 5
}
