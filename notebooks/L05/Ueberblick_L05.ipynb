{
 "cells": [
  {
   "cell_type": "markdown",
   "id": "357c5831-fe8e-4dba-ac9a-8a61173a09f5",
   "metadata": {},
   "source": [
    "### Lektion 5, &Uuml;berblick und weitere Ressourcen"
   ]
  },
  {
   "cell_type": "markdown",
   "id": "6eeeb147-f3f2-4dae-a99f-d1e94202b396",
   "metadata": {},
   "source": [
    "- While-Schleifen  \n",
    "  [W3Schools, While](https://www.w3schools.com/python/python_while_loops.asp)\n",
    "\n",
    "- Indexing und Slicing  \n",
    "  [docs.python, lists](https://docs.python.org/3/tutorial/introduction.html#lists)  \n",
    "\n",
    "- Die Operatoren `+=`, `*=`, ...  \n",
    "  F&uuml;r Integers und Strings ist ` x+= y` einfach eine Abk&uuml;rzung  f&uuml;r\n",
    "  `x = x + y`.  \n",
    "  Bei **Listen** ist jedoch  `x+= y` und  `x = x + y` **nicht** das Selbe!\n",
    "  "
   ]
  },
  {
   "cell_type": "code",
   "execution_count": null,
   "id": "f9ddf24f-ea00-4fab-891e-c4f3c8c54931",
   "metadata": {},
   "outputs": [],
   "source": []
  }
 ],
 "metadata": {
  "kernelspec": {
   "display_name": "Python 3 (ipykernel)",
   "language": "python",
   "name": "python3"
  },
  "language_info": {
   "codemirror_mode": {
    "name": "ipython",
    "version": 3
   },
   "file_extension": ".py",
   "mimetype": "text/x-python",
   "name": "python",
   "nbconvert_exporter": "python",
   "pygments_lexer": "ipython3",
   "version": "3.8.10"
  }
 },
 "nbformat": 4,
 "nbformat_minor": 5
}
