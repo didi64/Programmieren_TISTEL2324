{
 "cells": [
  {
   "cell_type": "markdown",
   "id": "d43e5f62-4adc-439a-a713-0e81b9bd4181",
   "metadata": {},
   "source": [
    "### L&ouml;sungen Indexing Slicing\n",
    "**Aufgaben**:\n",
    "1. Finde alle W&ouml;rter in der Liste `words`, die auf `ung` enden.\n",
    "2. Erstelle eine Kopie der liste `rows`, aber entferne jeweils den Zeilenumbruch am Ende der Zeile."
   ]
  },
  {
   "cell_type": "code",
   "execution_count": 2,
   "id": "4d04fa48-ea20-4eb1-8ff7-cc51b4137fc3",
   "metadata": {},
   "outputs": [
    {
     "name": "stdout",
     "output_type": "stream",
     "text": [
      "Zeile 1\n",
      "Zeile 2\n",
      "Zeile 3\n",
      "\n"
     ]
    }
   ],
   "source": [
    "words = ['Übung', 'Haus', 'Atmung', 'TV', 'Begrüssung', 'Hund', 'Ehrung', 'Einigung', 'Endung']\n",
    "rows = ['Zeile 1\\n',\n",
    "        'Zeile 2\\n',\n",
    "        'Zeile 3\\n',\n",
    "       ]\n",
    "print(''.join(rows))"
   ]
  },
  {
   "cell_type": "code",
   "execution_count": 3,
   "id": "c1fce1f0-09fd-467b-9042-e6634707d994",
   "metadata": {},
   "outputs": [
    {
     "data": {
      "text/plain": [
       "['Übung', 'Atmung', 'Begrüssung', 'Ehrung', 'Einigung', 'Endung']"
      ]
     },
     "execution_count": 3,
     "metadata": {},
     "output_type": "execute_result"
    }
   ],
   "source": [
    "ungs = []\n",
    "for word in words:\n",
    "    if word[-3:] == 'ung':\n",
    "        ungs.append(word)\n",
    "ungs    "
   ]
  },
  {
   "cell_type": "code",
   "execution_count": 4,
   "id": "4c899452-17cf-4f25-963a-af0c0f1ca324",
   "metadata": {},
   "outputs": [
    {
     "data": {
      "text/plain": [
       "['Zeile 1', 'Zeile 2', 'Zeile 3']"
      ]
     },
     "execution_count": 4,
     "metadata": {},
     "output_type": "execute_result"
    }
   ],
   "source": [
    "new_rows = [] \n",
    "for i,row in enumerate(rows):\n",
    "    new_rows.append(row[:-1])\n",
    "    \n",
    "new_rows   "
   ]
  },
  {
   "cell_type": "code",
   "execution_count": null,
   "id": "ec3964ab-b882-462d-bef9-38b1acac64f9",
   "metadata": {},
   "outputs": [],
   "source": []
  }
 ],
 "metadata": {
  "kernelspec": {
   "display_name": "Python 3 (ipykernel)",
   "language": "python",
   "name": "python3"
  },
  "language_info": {
   "codemirror_mode": {
    "name": "ipython",
    "version": 3
   },
   "file_extension": ".py",
   "mimetype": "text/x-python",
   "name": "python",
   "nbconvert_exporter": "python",
   "pygments_lexer": "ipython3",
   "version": "3.8.10"
  }
 },
 "nbformat": 4,
 "nbformat_minor": 5
}
