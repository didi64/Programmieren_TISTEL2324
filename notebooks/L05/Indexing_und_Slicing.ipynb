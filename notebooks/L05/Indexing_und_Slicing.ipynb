{
 "cells": [
  {
   "cell_type": "markdown",
   "id": "ac25f6f0-f79b-48e5-820c-8b223e3d09e2",
   "metadata": {
    "tags": []
   },
   "source": [
    "### Indexing und Slicing\n",
    "**Indexing**: **Zugriff** auf ein **Zeichen** eines Strings oder **Element** eines Tupels oder Liste\n",
    "(siehe auch [w3schools.com, lists_access](https://www.w3schools.com/python/python_lists_access.asp), \n",
    "[docs.python, lists](https://docs.python.org/3/tutorial/introduction.html#lists))\n",
    "\n",
    "- Ist 0<= i < n, so liefert `s[i]` das i-te Zeichen von `s`.\n",
    "- Ist 1 <= i <= n, so liefert `s[-i]` das (n-i)te Zeichen, z.B. `s[-1]` das letzte, `s[-2]` das 2.-letzte.   \n",
    "- F&uuml;r alle anderen Werte von i wird ein  `IndexError` ausgel&ouml;st.  \n",
    "  "
   ]
  },
  {
   "cell_type": "code",
   "execution_count": null,
   "id": "07d77aab-7d38-49bc-8b8f-3d3d35cff473",
   "metadata": {},
   "outputs": [],
   "source": [
    "# erster Buchstabe herausgreifen\n",
    "'abc'[0]"
   ]
  },
  {
   "cell_type": "code",
   "execution_count": null,
   "id": "79efeb04-0006-4d0d-8e3c-ae6bb18a9459",
   "metadata": {},
   "outputs": [],
   "source": [
    "# letzter Buchstabe herausgreifen\n",
    "'abc'[-1]"
   ]
  },
  {
   "cell_type": "code",
   "execution_count": null,
   "id": "56818a07-1395-41fa-955c-faa04450e82b",
   "metadata": {},
   "outputs": [],
   "source": [
    "# zweitletzter Buchstabe herausgreifen\n",
    "['a', 'b', 'c'][-2]"
   ]
  },
  {
   "cell_type": "markdown",
   "id": "f35b8453-e927-4fad-8ce1-116a1709b9e9",
   "metadata": {},
   "source": [
    "**Slicing**: **Erstellen** eines neuen **Teilstrings**\n",
    "  (**Teiltuple**, **Teilliste**):  \n",
    "   (siehe auch [w3schools.com, lists_access](https://www.w3schools.com/python/python_lists_access.asp), \n",
    "[docs.python, lists](https://docs.python.org/3/tutorial/introduction.html#lists))  \n",
    "- `s[von:bis_vor]` und `s[von:bis_vor:schrittweite]`  \n",
    "liefert einen **neuen** String (Tupel oder Liste) bestehend aus den selektierten Elementen.  \n",
    "- `s[von:bis_vor]` erzeugt ein Objekt mit den Elementen \n",
    "  `s[von]`,..., `s[bis_vor - 1]`.  \n",
    "  Fehlt `von` oder `bis_vor` \n",
    "  wird alles vom Anfang, bez. bis zum Ende genommen.  \n",
    "  `s[:-1]` ist `s` ohne das letzte Element.\n",
    "- `s[von:bis_vor:schrittweite]` erzeugt ein Objekt mit den Elementen\n",
    "  > `s[von]`, `s[von + schrittweite]`,  ..., `s[von + n * schrittweite]`,  \n",
    "      \n",
    "  wo n maximal, so dass `von + n * schrittweite` kleiner als `bis_vor`.\n",
    "    \n",
    "  Eine negative `schrittweite` ist erlaubt (nur sinnvoll wenn `vor` >=`bis_vor`)."
   ]
  },
  {
   "cell_type": "code",
   "execution_count": null,
   "id": "5027fba4-2081-4913-8006-cb04f656e736",
   "metadata": {},
   "outputs": [],
   "source": [
    "digits = '0123456789'\n",
    "print('digits[:] =',   digits[:])\n",
    "print('digits[3:] =',  digits[3:])\n",
    "print('digits[:7] =',  digits[:7])\n",
    "print('digits[3:7] =', s[3:7])"
   ]
  },
  {
   "cell_type": "code",
   "execution_count": null,
   "id": "6a1d0ecd-9abd-4f01-9807-6a800e1f0650",
   "metadata": {},
   "outputs": [],
   "source": [
    "lst = [0, 1, 2, 3, 4]\n",
    "print('lst[1:-1] = ', lst[1:-1])\n",
    "print('lst[:-1] = ', lst[:-1])\n",
    "print('lst[:-2] =', lst[:-2])"
   ]
  },
  {
   "cell_type": "code",
   "execution_count": null,
   "id": "9357e383-112f-4fd1-aa58-9ffc333569db",
   "metadata": {},
   "outputs": [],
   "source": [
    "digits = '0123456789'\n",
    "print('digits[::2] =', digits[::2])\n",
    "print('digits[9:1:-1] =', digits[9:1:-1])\n",
    "print('digits[::-1] =', digits[::-1]) # Das wichtigste Beispiel in dieser Gruppe!"
   ]
  },
  {
   "cell_type": "markdown",
   "id": "0d24c9cc-28d6-40d2-8b97-45cbff85f05d",
   "metadata": {},
   "source": [
    "**Slice-Zuweisungen** bei Listen    \n",
    "- `lst[von:] = <Iterable>`  \n",
    "    Die Elemente im Endst&uuml;ck `lst[von:]` der Liste werden durch die Elemente des   Iterables **ersetzt**.\n",
    "- `lst[von:bis] = <Iterable>`  \n",
    "   Die Teilliste `lst[von:bis]` wird durch `list(<iterable>)` **ersetzt**.\n",
    "- `lst[von:bis:schrittweite] = <Iterable>`  \n",
    "- `schrittweite` gleich 1, siehe oben.\n",
    "- `schrittweite` gr&ouml;sser 1:  \n",
    "   haben `lst[von:bis:schrittweite]` und `list(<Iterable>)` gleichviele Elemente, so\n",
    "   wird `lst[von:bis:schrittweite]` mit den Elementen des Iterables **ersetzt**,\n",
    "   anderfalls wird ein `ValueError` erzeugt."
   ]
  },
  {
   "cell_type": "markdown",
   "id": "cf08475f-e4e7-4441-8042-a7a3b32b71fd",
   "metadata": {},
   "source": [
    "### Zuweisungen mit Slice-Notation"
   ]
  },
  {
   "cell_type": "code",
   "execution_count": null,
   "id": "346cdc4c-7297-4c61-9652-92dd13661134",
   "metadata": {},
   "outputs": [],
   "source": [
    "# Anfangsstueck [0, 1] ersetzen\n",
    "nbrs = [0, 1, 2, 3, 4]\n",
    "nbrs[:2] = ['minus eins', 'null', 'eins']      \n",
    "nbrs"
   ]
  },
  {
   "cell_type": "code",
   "execution_count": null,
   "id": "bf32a813-ac1b-4177-a7dc-de35dc21c81e",
   "metadata": {},
   "outputs": [],
   "source": [
    "# Mittelstueck [2, 3] ersetzen\n",
    "nbrs = [0, 1, 2, 3, 4]\n",
    "nbrs[2:3] = []      \n",
    "nbrs"
   ]
  },
  {
   "cell_type": "code",
   "execution_count": null,
   "id": "f828c2c7-06cc-4cde-affd-428597f1de41",
   "metadata": {},
   "outputs": [],
   "source": [
    "# Endstueck [2, 3, 4] ersetzen\n",
    "nbrs = [0, 1, 2, 3, 4]\n",
    "nbrs[2:] = ['zwei', 'drei']      \n",
    "nbrs"
   ]
  },
  {
   "cell_type": "markdown",
   "id": "59896a09-bb7e-41a2-9028-827747f653b3",
   "metadata": {},
   "source": [
    "### Typische Anwendungen\n",
    "Benutze Slice-Notation um\n",
    "- aus dem String `'einszwei'` den String\n",
    "`'eins-zwei'` zu erstellen (Zeichen '-' einf&uuml;gen).  \n",
    "\n",
    "- aus dem String `'eins-zwei'` den String\n",
    "`'einszwei'` zu erstellen (Zeichen '-' entfernen).\n",
    "- zu testen, ob ein Wort ein Palindrom ist (z.B. 'Radar', vorw&auml;rts gleich r&uuml;ckw&auml;rts, ignoriere gross, klein).  \n",
    "- alle geraden Zahlen in der Liste `[1, 2, 3, 4, 5, 6]` durch `0` zu ersetzen."
   ]
  },
  {
   "cell_type": "markdown",
   "id": "0f02877f-f9bf-450b-97ea-09d02f8b18c2",
   "metadata": {},
   "source": [
    "***\n",
    "Indexing und Slicing:\n",
    "***"
   ]
  },
  {
   "cell_type": "code",
   "execution_count": null,
   "id": "8a95be98-5c72-449d-9bc4-a154a4781fbe",
   "metadata": {},
   "outputs": [],
   "source": [
    "word = 'einszwei'\n",
    "idx = word.index('s') # Position von 's' in word\n",
    "print(idx)\n",
    "print(word[:idx + 1] + '-' + word[idx + 1:])"
   ]
  },
  {
   "cell_type": "code",
   "execution_count": null,
   "id": "fdb05756-7db0-4d55-938d-147b98d5cb3f",
   "metadata": {},
   "outputs": [],
   "source": [
    "word = 'eins-zwei'\n",
    "idx = word.index('-')\n",
    "print(idx)\n",
    "print(word[:idx] +  word[idx + 1:])"
   ]
  },
  {
   "cell_type": "code",
   "execution_count": null,
   "id": "8f9cceb8-a816-4c35-ba6c-8e0a1a578a89",
   "metadata": {},
   "outputs": [],
   "source": [
    "def is_palindrom(s):\n",
    "    s = s.upper()\n",
    "    return s == s[::-1]\n",
    "\n",
    "words = ['Radar', 'Foo']\n",
    "for word in words:\n",
    "    print('{} ist ein Palindrom: {}'.format(word, is_palindrom(word)))"
   ]
  },
  {
   "cell_type": "code",
   "execution_count": null,
   "id": "afadabf1-ef51-4d22-bead-8918c69de78e",
   "metadata": {},
   "outputs": [],
   "source": [
    "lst = [1, 2, 3, 4, 5, 6]\n",
    "lst[::2] = [0, 0, 0]\n",
    "lst"
   ]
  }
 ],
 "metadata": {
  "author": "dieter.probst@gmail.com",
  "kernelspec": {
   "display_name": "Python 3 (ipykernel)",
   "language": "python",
   "name": "python3"
  },
  "language_info": {
   "codemirror_mode": {
    "name": "ipython",
    "version": 3
   },
   "file_extension": ".py",
   "mimetype": "text/x-python",
   "name": "python",
   "nbconvert_exporter": "python",
   "pygments_lexer": "ipython3",
   "version": "3.8.10"
  }
 },
 "nbformat": 4,
 "nbformat_minor": 5
}
